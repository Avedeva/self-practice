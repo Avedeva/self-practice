{
 "cells": [
  {
   "cell_type": "markdown",
   "id": "06b72714",
   "metadata": {},
   "source": [
    "## Import Necessary Libraries"
   ]
  },
  {
   "cell_type": "code",
   "execution_count": 307,
   "id": "2c117dab",
   "metadata": {},
   "outputs": [],
   "source": [
    "import pandas as pd\n",
    "import numpy as np\n",
    "import seaborn as sns\n",
    "import matplotlib.pyplot as plt\n"
   ]
  },
  {
   "cell_type": "markdown",
   "id": "9ae80569",
   "metadata": {},
   "source": [
    "## Read The File \n"
   ]
  },
  {
   "cell_type": "code",
   "execution_count": 308,
   "id": "93ded8ab",
   "metadata": {},
   "outputs": [
    {
     "data": {
      "text/plain": [
       "(           id             date     price  bedrooms  bathrooms  sqft_living  \\\n",
       " 0  7129300520  20141013T000000  221900.0         3       1.00         1180   \n",
       " 1  6414100192  20141209T000000  538000.0         3       2.25         2570   \n",
       " 2  5631500400  20150225T000000  180000.0         2       1.00          770   \n",
       " 3  2487200875  20141209T000000  604000.0         4       3.00         1960   \n",
       " 4  1954400510  20150218T000000  510000.0         3       2.00         1680   \n",
       " \n",
       "    sqft_lot  floors  waterfront  view  ...  grade  sqft_above  sqft_basement  \\\n",
       " 0      5650     1.0           0     0  ...      7        1180              0   \n",
       " 1      7242     2.0           0     0  ...      7        2170            400   \n",
       " 2     10000     1.0           0     0  ...      6         770              0   \n",
       " 3      5000     1.0           0     0  ...      7        1050            910   \n",
       " 4      8080     1.0           0     0  ...      8        1680              0   \n",
       " \n",
       "    yr_built  yr_renovated  zipcode      lat     long  sqft_living15  \\\n",
       " 0      1955             0    98178  47.5112 -122.257           1340   \n",
       " 1      1951          1991    98125  47.7210 -122.319           1690   \n",
       " 2      1933             0    98028  47.7379 -122.233           2720   \n",
       " 3      1965             0    98136  47.5208 -122.393           1360   \n",
       " 4      1987             0    98074  47.6168 -122.045           1800   \n",
       " \n",
       "    sqft_lot15  \n",
       " 0        5650  \n",
       " 1        7639  \n",
       " 2        8062  \n",
       " 3        5000  \n",
       " 4        7503  \n",
       " \n",
       " [5 rows x 21 columns],\n",
       " (21613, 21))"
      ]
     },
     "execution_count": 308,
     "metadata": {},
     "output_type": "execute_result"
    }
   ],
   "source": [
    "df = pd.read_csv(\"house_data.csv\")\n",
    "df.head(),df.shape"
   ]
  },
  {
   "cell_type": "markdown",
   "id": "275e8bbb",
   "metadata": {},
   "source": [
    "##Checking for Null Values"
   ]
  },
  {
   "cell_type": "code",
   "execution_count": 309,
   "id": "b97ed9ae",
   "metadata": {},
   "outputs": [
    {
     "data": {
      "application/vnd.microsoft.datawrangler.viewer.v0+json": {
       "columns": [
        {
         "name": "index",
         "rawType": "object",
         "type": "string"
        },
        {
         "name": "0",
         "rawType": "int64",
         "type": "integer"
        }
       ],
       "ref": "8333e69c-c354-4848-8e23-7c77eea3fa6c",
       "rows": [
        [
         "id",
         "0"
        ],
        [
         "date",
         "0"
        ],
        [
         "price",
         "0"
        ],
        [
         "bedrooms",
         "0"
        ],
        [
         "bathrooms",
         "0"
        ],
        [
         "sqft_living",
         "0"
        ],
        [
         "sqft_lot",
         "0"
        ],
        [
         "floors",
         "0"
        ],
        [
         "waterfront",
         "0"
        ],
        [
         "view",
         "0"
        ],
        [
         "condition",
         "0"
        ],
        [
         "grade",
         "0"
        ],
        [
         "sqft_above",
         "0"
        ],
        [
         "sqft_basement",
         "0"
        ],
        [
         "yr_built",
         "0"
        ],
        [
         "yr_renovated",
         "0"
        ],
        [
         "zipcode",
         "0"
        ],
        [
         "lat",
         "0"
        ],
        [
         "long",
         "0"
        ],
        [
         "sqft_living15",
         "0"
        ],
        [
         "sqft_lot15",
         "0"
        ]
       ],
       "shape": {
        "columns": 1,
        "rows": 21
       }
      },
      "text/plain": [
       "id               0\n",
       "date             0\n",
       "price            0\n",
       "bedrooms         0\n",
       "bathrooms        0\n",
       "sqft_living      0\n",
       "sqft_lot         0\n",
       "floors           0\n",
       "waterfront       0\n",
       "view             0\n",
       "condition        0\n",
       "grade            0\n",
       "sqft_above       0\n",
       "sqft_basement    0\n",
       "yr_built         0\n",
       "yr_renovated     0\n",
       "zipcode          0\n",
       "lat              0\n",
       "long             0\n",
       "sqft_living15    0\n",
       "sqft_lot15       0\n",
       "dtype: int64"
      ]
     },
     "execution_count": 309,
     "metadata": {},
     "output_type": "execute_result"
    }
   ],
   "source": [
    "df.isna().sum()"
   ]
  },
  {
   "cell_type": "markdown",
   "id": "ffff8a03",
   "metadata": {},
   "source": [
    "## As Some of the Values are Most of the time same or You can say Repeating so they don't Contribute to the price as much "
   ]
  },
  {
   "cell_type": "code",
   "execution_count": 310,
   "id": "9f4d211b",
   "metadata": {},
   "outputs": [
    {
     "data": {
      "application/vnd.microsoft.datawrangler.viewer.v0+json": {
       "columns": [
        {
         "name": "index",
         "rawType": "int64",
         "type": "integer"
        },
        {
         "name": "id",
         "rawType": "int64",
         "type": "integer"
        },
        {
         "name": "price",
         "rawType": "float64",
         "type": "float"
        },
        {
         "name": "bedrooms",
         "rawType": "int64",
         "type": "integer"
        },
        {
         "name": "bathrooms",
         "rawType": "float64",
         "type": "float"
        },
        {
         "name": "sqft_living",
         "rawType": "int64",
         "type": "integer"
        },
        {
         "name": "sqft_lot",
         "rawType": "int64",
         "type": "integer"
        },
        {
         "name": "floors",
         "rawType": "float64",
         "type": "float"
        },
        {
         "name": "sqft_above",
         "rawType": "int64",
         "type": "integer"
        },
        {
         "name": "sqft_basement",
         "rawType": "int64",
         "type": "integer"
        },
        {
         "name": "sqft_living15",
         "rawType": "int64",
         "type": "integer"
        },
        {
         "name": "sqft_lot15",
         "rawType": "int64",
         "type": "integer"
        }
       ],
       "ref": "abd68fd5-21cc-4403-8e5d-1262ab9e28a5",
       "rows": [
        [
         "0",
         "7129300520",
         "221900.0",
         "3",
         "1.0",
         "1180",
         "5650",
         "1.0",
         "1180",
         "0",
         "1340",
         "5650"
        ],
        [
         "1",
         "6414100192",
         "538000.0",
         "3",
         "2.25",
         "2570",
         "7242",
         "2.0",
         "2170",
         "400",
         "1690",
         "7639"
        ],
        [
         "2",
         "5631500400",
         "180000.0",
         "2",
         "1.0",
         "770",
         "10000",
         "1.0",
         "770",
         "0",
         "2720",
         "8062"
        ],
        [
         "3",
         "2487200875",
         "604000.0",
         "4",
         "3.0",
         "1960",
         "5000",
         "1.0",
         "1050",
         "910",
         "1360",
         "5000"
        ],
        [
         "4",
         "1954400510",
         "510000.0",
         "3",
         "2.0",
         "1680",
         "8080",
         "1.0",
         "1680",
         "0",
         "1800",
         "7503"
        ],
        [
         "5",
         "7237550310",
         "1225000.0",
         "4",
         "4.5",
         "5420",
         "101930",
         "1.0",
         "3890",
         "1530",
         "4760",
         "101930"
        ],
        [
         "6",
         "1321400060",
         "257500.0",
         "3",
         "2.25",
         "1715",
         "6819",
         "2.0",
         "1715",
         "0",
         "2238",
         "6819"
        ],
        [
         "7",
         "2008000270",
         "291850.0",
         "3",
         "1.5",
         "1060",
         "9711",
         "1.0",
         "1060",
         "0",
         "1650",
         "9711"
        ],
        [
         "8",
         "2414600126",
         "229500.0",
         "3",
         "1.0",
         "1780",
         "7470",
         "1.0",
         "1050",
         "730",
         "1780",
         "8113"
        ],
        [
         "9",
         "3793500160",
         "323000.0",
         "3",
         "2.5",
         "1890",
         "6560",
         "2.0",
         "1890",
         "0",
         "2390",
         "7570"
        ],
        [
         "10",
         "1736800520",
         "662500.0",
         "3",
         "2.5",
         "3560",
         "9796",
         "1.0",
         "1860",
         "1700",
         "2210",
         "8925"
        ],
        [
         "11",
         "9212900260",
         "468000.0",
         "2",
         "1.0",
         "1160",
         "6000",
         "1.0",
         "860",
         "300",
         "1330",
         "6000"
        ],
        [
         "12",
         "114101516",
         "310000.0",
         "3",
         "1.0",
         "1430",
         "19901",
         "1.5",
         "1430",
         "0",
         "1780",
         "12697"
        ],
        [
         "13",
         "6054650070",
         "400000.0",
         "3",
         "1.75",
         "1370",
         "9680",
         "1.0",
         "1370",
         "0",
         "1370",
         "10208"
        ],
        [
         "14",
         "1175000570",
         "530000.0",
         "5",
         "2.0",
         "1810",
         "4850",
         "1.5",
         "1810",
         "0",
         "1360",
         "4850"
        ],
        [
         "15",
         "9297300055",
         "650000.0",
         "4",
         "3.0",
         "2950",
         "5000",
         "2.0",
         "1980",
         "970",
         "2140",
         "4000"
        ],
        [
         "16",
         "1875500060",
         "395000.0",
         "3",
         "2.0",
         "1890",
         "14040",
         "2.0",
         "1890",
         "0",
         "1890",
         "14018"
        ],
        [
         "17",
         "6865200140",
         "485000.0",
         "4",
         "1.0",
         "1600",
         "4300",
         "1.5",
         "1600",
         "0",
         "1610",
         "4300"
        ],
        [
         "18",
         "16000397",
         "189000.0",
         "2",
         "1.0",
         "1200",
         "9850",
         "1.0",
         "1200",
         "0",
         "1060",
         "5095"
        ],
        [
         "19",
         "7983200060",
         "230000.0",
         "3",
         "1.0",
         "1250",
         "9774",
         "1.0",
         "1250",
         "0",
         "1280",
         "8850"
        ],
        [
         "20",
         "6300500875",
         "385000.0",
         "4",
         "1.75",
         "1620",
         "4980",
         "1.0",
         "860",
         "760",
         "1400",
         "4980"
        ],
        [
         "21",
         "2524049179",
         "2000000.0",
         "3",
         "2.75",
         "3050",
         "44867",
         "1.0",
         "2330",
         "720",
         "4110",
         "20336"
        ],
        [
         "22",
         "7137970340",
         "285000.0",
         "5",
         "2.5",
         "2270",
         "6300",
         "2.0",
         "2270",
         "0",
         "2240",
         "7005"
        ],
        [
         "23",
         "8091400200",
         "252700.0",
         "2",
         "1.5",
         "1070",
         "9643",
         "1.0",
         "1070",
         "0",
         "1220",
         "8386"
        ],
        [
         "24",
         "3814700200",
         "329000.0",
         "3",
         "2.25",
         "2450",
         "6500",
         "2.0",
         "2450",
         "0",
         "2200",
         "6865"
        ],
        [
         "25",
         "1202000200",
         "233000.0",
         "3",
         "2.0",
         "1710",
         "4697",
         "1.5",
         "1710",
         "0",
         "1030",
         "4705"
        ],
        [
         "26",
         "1794500383",
         "937000.0",
         "3",
         "1.75",
         "2450",
         "2691",
         "2.0",
         "1750",
         "700",
         "1760",
         "3573"
        ],
        [
         "27",
         "3303700376",
         "667000.0",
         "3",
         "1.0",
         "1400",
         "1581",
         "1.5",
         "1400",
         "0",
         "1860",
         "3861"
        ],
        [
         "28",
         "5101402488",
         "438000.0",
         "3",
         "1.75",
         "1520",
         "6380",
         "1.0",
         "790",
         "730",
         "1520",
         "6235"
        ],
        [
         "29",
         "1873100390",
         "719000.0",
         "4",
         "2.5",
         "2570",
         "7173",
         "2.0",
         "2570",
         "0",
         "2630",
         "6026"
        ],
        [
         "30",
         "8562750320",
         "580500.0",
         "3",
         "2.5",
         "2320",
         "3980",
         "2.0",
         "2320",
         "0",
         "2580",
         "3980"
        ],
        [
         "31",
         "2426039314",
         "280000.0",
         "2",
         "1.5",
         "1190",
         "1265",
         "3.0",
         "1190",
         "0",
         "1390",
         "1756"
        ],
        [
         "32",
         "461000390",
         "687500.0",
         "4",
         "1.75",
         "2330",
         "5000",
         "1.5",
         "1510",
         "820",
         "1460",
         "5000"
        ],
        [
         "33",
         "7589200193",
         "535000.0",
         "3",
         "1.0",
         "1090",
         "3000",
         "1.5",
         "1090",
         "0",
         "1570",
         "5080"
        ],
        [
         "34",
         "7955080270",
         "322500.0",
         "4",
         "2.75",
         "2060",
         "6659",
         "1.0",
         "1280",
         "780",
         "2020",
         "8720"
        ],
        [
         "35",
         "9547205180",
         "696000.0",
         "3",
         "2.5",
         "2300",
         "3060",
         "1.5",
         "1510",
         "790",
         "1590",
         "3264"
        ],
        [
         "36",
         "9435300030",
         "550000.0",
         "4",
         "1.0",
         "1660",
         "34848",
         "1.0",
         "930",
         "730",
         "2160",
         "11467"
        ],
        [
         "37",
         "2768000400",
         "640000.0",
         "4",
         "2.0",
         "2360",
         "6000",
         "2.0",
         "2360",
         "0",
         "1730",
         "4700"
        ],
        [
         "38",
         "7895500070",
         "240000.0",
         "4",
         "1.0",
         "1220",
         "8075",
         "1.0",
         "890",
         "330",
         "1290",
         "7800"
        ],
        [
         "39",
         "2078500320",
         "605000.0",
         "4",
         "2.5",
         "2620",
         "7553",
         "2.0",
         "2620",
         "0",
         "2620",
         "11884"
        ],
        [
         "40",
         "5547700270",
         "625000.0",
         "4",
         "2.5",
         "2570",
         "5520",
         "2.0",
         "2570",
         "0",
         "2470",
         "5669"
        ],
        [
         "41",
         "7766200013",
         "775000.0",
         "4",
         "2.25",
         "4220",
         "24186",
         "1.0",
         "2600",
         "1620",
         "2410",
         "30617"
        ],
        [
         "42",
         "7203220400",
         "861990.0",
         "5",
         "2.75",
         "3595",
         "5639",
         "2.0",
         "3595",
         "0",
         "3625",
         "5639"
        ],
        [
         "43",
         "9270200160",
         "685000.0",
         "3",
         "1.0",
         "1570",
         "2280",
         "2.0",
         "1570",
         "0",
         "1580",
         "2640"
        ],
        [
         "44",
         "1432701230",
         "309000.0",
         "3",
         "1.0",
         "1280",
         "9656",
         "1.0",
         "920",
         "360",
         "1340",
         "8808"
        ],
        [
         "45",
         "8035350320",
         "488000.0",
         "3",
         "2.5",
         "3160",
         "13603",
         "2.0",
         "3160",
         "0",
         "3050",
         "9232"
        ],
        [
         "46",
         "8945200830",
         "210490.0",
         "3",
         "1.0",
         "990",
         "8528",
         "1.0",
         "990",
         "0",
         "1228",
         "8840"
        ],
        [
         "47",
         "4178300310",
         "785000.0",
         "4",
         "2.5",
         "2290",
         "13416",
         "2.0",
         "2290",
         "0",
         "2680",
         "13685"
        ],
        [
         "48",
         "9215400105",
         "450000.0",
         "3",
         "1.75",
         "1250",
         "5963",
         "1.0",
         "1250",
         "0",
         "970",
         "5100"
        ],
        [
         "49",
         "822039084",
         "1350000.0",
         "3",
         "2.5",
         "2753",
         "65005",
         "1.0",
         "2165",
         "588",
         "2680",
         "72513"
        ]
       ],
       "shape": {
        "columns": 11,
        "rows": 21613
       }
      },
      "text/html": [
       "<div>\n",
       "<style scoped>\n",
       "    .dataframe tbody tr th:only-of-type {\n",
       "        vertical-align: middle;\n",
       "    }\n",
       "\n",
       "    .dataframe tbody tr th {\n",
       "        vertical-align: top;\n",
       "    }\n",
       "\n",
       "    .dataframe thead th {\n",
       "        text-align: right;\n",
       "    }\n",
       "</style>\n",
       "<table border=\"1\" class=\"dataframe\">\n",
       "  <thead>\n",
       "    <tr style=\"text-align: right;\">\n",
       "      <th></th>\n",
       "      <th>id</th>\n",
       "      <th>price</th>\n",
       "      <th>bedrooms</th>\n",
       "      <th>bathrooms</th>\n",
       "      <th>sqft_living</th>\n",
       "      <th>sqft_lot</th>\n",
       "      <th>floors</th>\n",
       "      <th>sqft_above</th>\n",
       "      <th>sqft_basement</th>\n",
       "      <th>sqft_living15</th>\n",
       "      <th>sqft_lot15</th>\n",
       "    </tr>\n",
       "  </thead>\n",
       "  <tbody>\n",
       "    <tr>\n",
       "      <th>0</th>\n",
       "      <td>7129300520</td>\n",
       "      <td>221900.0</td>\n",
       "      <td>3</td>\n",
       "      <td>1.00</td>\n",
       "      <td>1180</td>\n",
       "      <td>5650</td>\n",
       "      <td>1.0</td>\n",
       "      <td>1180</td>\n",
       "      <td>0</td>\n",
       "      <td>1340</td>\n",
       "      <td>5650</td>\n",
       "    </tr>\n",
       "    <tr>\n",
       "      <th>1</th>\n",
       "      <td>6414100192</td>\n",
       "      <td>538000.0</td>\n",
       "      <td>3</td>\n",
       "      <td>2.25</td>\n",
       "      <td>2570</td>\n",
       "      <td>7242</td>\n",
       "      <td>2.0</td>\n",
       "      <td>2170</td>\n",
       "      <td>400</td>\n",
       "      <td>1690</td>\n",
       "      <td>7639</td>\n",
       "    </tr>\n",
       "    <tr>\n",
       "      <th>2</th>\n",
       "      <td>5631500400</td>\n",
       "      <td>180000.0</td>\n",
       "      <td>2</td>\n",
       "      <td>1.00</td>\n",
       "      <td>770</td>\n",
       "      <td>10000</td>\n",
       "      <td>1.0</td>\n",
       "      <td>770</td>\n",
       "      <td>0</td>\n",
       "      <td>2720</td>\n",
       "      <td>8062</td>\n",
       "    </tr>\n",
       "    <tr>\n",
       "      <th>3</th>\n",
       "      <td>2487200875</td>\n",
       "      <td>604000.0</td>\n",
       "      <td>4</td>\n",
       "      <td>3.00</td>\n",
       "      <td>1960</td>\n",
       "      <td>5000</td>\n",
       "      <td>1.0</td>\n",
       "      <td>1050</td>\n",
       "      <td>910</td>\n",
       "      <td>1360</td>\n",
       "      <td>5000</td>\n",
       "    </tr>\n",
       "    <tr>\n",
       "      <th>4</th>\n",
       "      <td>1954400510</td>\n",
       "      <td>510000.0</td>\n",
       "      <td>3</td>\n",
       "      <td>2.00</td>\n",
       "      <td>1680</td>\n",
       "      <td>8080</td>\n",
       "      <td>1.0</td>\n",
       "      <td>1680</td>\n",
       "      <td>0</td>\n",
       "      <td>1800</td>\n",
       "      <td>7503</td>\n",
       "    </tr>\n",
       "    <tr>\n",
       "      <th>...</th>\n",
       "      <td>...</td>\n",
       "      <td>...</td>\n",
       "      <td>...</td>\n",
       "      <td>...</td>\n",
       "      <td>...</td>\n",
       "      <td>...</td>\n",
       "      <td>...</td>\n",
       "      <td>...</td>\n",
       "      <td>...</td>\n",
       "      <td>...</td>\n",
       "      <td>...</td>\n",
       "    </tr>\n",
       "    <tr>\n",
       "      <th>21608</th>\n",
       "      <td>263000018</td>\n",
       "      <td>360000.0</td>\n",
       "      <td>3</td>\n",
       "      <td>2.50</td>\n",
       "      <td>1530</td>\n",
       "      <td>1131</td>\n",
       "      <td>3.0</td>\n",
       "      <td>1530</td>\n",
       "      <td>0</td>\n",
       "      <td>1530</td>\n",
       "      <td>1509</td>\n",
       "    </tr>\n",
       "    <tr>\n",
       "      <th>21609</th>\n",
       "      <td>6600060120</td>\n",
       "      <td>400000.0</td>\n",
       "      <td>4</td>\n",
       "      <td>2.50</td>\n",
       "      <td>2310</td>\n",
       "      <td>5813</td>\n",
       "      <td>2.0</td>\n",
       "      <td>2310</td>\n",
       "      <td>0</td>\n",
       "      <td>1830</td>\n",
       "      <td>7200</td>\n",
       "    </tr>\n",
       "    <tr>\n",
       "      <th>21610</th>\n",
       "      <td>1523300141</td>\n",
       "      <td>402101.0</td>\n",
       "      <td>2</td>\n",
       "      <td>0.75</td>\n",
       "      <td>1020</td>\n",
       "      <td>1350</td>\n",
       "      <td>2.0</td>\n",
       "      <td>1020</td>\n",
       "      <td>0</td>\n",
       "      <td>1020</td>\n",
       "      <td>2007</td>\n",
       "    </tr>\n",
       "    <tr>\n",
       "      <th>21611</th>\n",
       "      <td>291310100</td>\n",
       "      <td>400000.0</td>\n",
       "      <td>3</td>\n",
       "      <td>2.50</td>\n",
       "      <td>1600</td>\n",
       "      <td>2388</td>\n",
       "      <td>2.0</td>\n",
       "      <td>1600</td>\n",
       "      <td>0</td>\n",
       "      <td>1410</td>\n",
       "      <td>1287</td>\n",
       "    </tr>\n",
       "    <tr>\n",
       "      <th>21612</th>\n",
       "      <td>1523300157</td>\n",
       "      <td>325000.0</td>\n",
       "      <td>2</td>\n",
       "      <td>0.75</td>\n",
       "      <td>1020</td>\n",
       "      <td>1076</td>\n",
       "      <td>2.0</td>\n",
       "      <td>1020</td>\n",
       "      <td>0</td>\n",
       "      <td>1020</td>\n",
       "      <td>1357</td>\n",
       "    </tr>\n",
       "  </tbody>\n",
       "</table>\n",
       "<p>21613 rows × 11 columns</p>\n",
       "</div>"
      ],
      "text/plain": [
       "               id     price  bedrooms  bathrooms  sqft_living  sqft_lot  \\\n",
       "0      7129300520  221900.0         3       1.00         1180      5650   \n",
       "1      6414100192  538000.0         3       2.25         2570      7242   \n",
       "2      5631500400  180000.0         2       1.00          770     10000   \n",
       "3      2487200875  604000.0         4       3.00         1960      5000   \n",
       "4      1954400510  510000.0         3       2.00         1680      8080   \n",
       "...           ...       ...       ...        ...          ...       ...   \n",
       "21608   263000018  360000.0         3       2.50         1530      1131   \n",
       "21609  6600060120  400000.0         4       2.50         2310      5813   \n",
       "21610  1523300141  402101.0         2       0.75         1020      1350   \n",
       "21611   291310100  400000.0         3       2.50         1600      2388   \n",
       "21612  1523300157  325000.0         2       0.75         1020      1076   \n",
       "\n",
       "       floors  sqft_above  sqft_basement  sqft_living15  sqft_lot15  \n",
       "0         1.0        1180              0           1340        5650  \n",
       "1         2.0        2170            400           1690        7639  \n",
       "2         1.0         770              0           2720        8062  \n",
       "3         1.0        1050            910           1360        5000  \n",
       "4         1.0        1680              0           1800        7503  \n",
       "...       ...         ...            ...            ...         ...  \n",
       "21608     3.0        1530              0           1530        1509  \n",
       "21609     2.0        2310              0           1830        7200  \n",
       "21610     2.0        1020              0           1020        2007  \n",
       "21611     2.0        1600              0           1410        1287  \n",
       "21612     2.0        1020              0           1020        1357  \n",
       "\n",
       "[21613 rows x 11 columns]"
      ]
     },
     "execution_count": 310,
     "metadata": {},
     "output_type": "execute_result"
    }
   ],
   "source": [
    "df.drop([\"waterfront\",\"view\",\"condition\",\"yr_renovated\",\"zipcode\",\"lat\",\"long\",\"yr_built\",\"grade\",\"date\"],axis=1,inplace=True)\n",
    "df"
   ]
  },
  {
   "cell_type": "code",
   "execution_count": 311,
   "id": "bea84974",
   "metadata": {},
   "outputs": [],
   "source": [
    "X = df.drop([\"price\"],axis=1)\n",
    "y = df[\"price\"]"
   ]
  },
  {
   "cell_type": "code",
   "execution_count": 312,
   "id": "0bf9df2e",
   "metadata": {},
   "outputs": [
    {
     "data": {
      "text/plain": [
       "((21613, 10), (21613,))"
      ]
     },
     "execution_count": 312,
     "metadata": {},
     "output_type": "execute_result"
    }
   ],
   "source": [
    "X.shape,y.shape\n"
   ]
  },
  {
   "cell_type": "markdown",
   "id": "c590e5c9",
   "metadata": {},
   "source": [
    "## Splitting the Data in Train and Test"
   ]
  },
  {
   "cell_type": "code",
   "execution_count": 313,
   "id": "a2b46c3f",
   "metadata": {},
   "outputs": [
    {
     "data": {
      "text/plain": [
       "((5403, 10), (16210, 10), (5403,), (16210,))"
      ]
     },
     "execution_count": 313,
     "metadata": {},
     "output_type": "execute_result"
    }
   ],
   "source": [
    "from sklearn.model_selection import train_test_split\n",
    "\n",
    "x_train,x_test,y_train,y_test = train_test_split(X,y,train_size=0.25,random_state=42)\n",
    "\n",
    "x_train.shape,x_test.shape,y_train.shape,y_test.shape"
   ]
  },
  {
   "cell_type": "markdown",
   "id": "2f870dd4",
   "metadata": {},
   "source": [
    "## Using the Multiple Linear regression here with the Closed form solution here OLS (Ordinary Least Square)"
   ]
  },
  {
   "cell_type": "code",
   "execution_count": 314,
   "id": "49045035",
   "metadata": {},
   "outputs": [],
   "source": [
    "class Multi_ols:\n",
    "    def __init__(self):\n",
    "        \n",
    "        self.w = None\n",
    "\n",
    "    def train(self,X_train,y_train):\n",
    "        X_train =  np.insert(X_train,0,1,axis=1)\n",
    "\n",
    "        self.w = np.ones((X_train.shape[1]))\n",
    "        self.w = np.linalg.pinv(X_train.T@X_train)@X_train.T@y_train\n",
    "        return self.w\n",
    "\n",
    "\n",
    "    def test(self,X_test):\n",
    "        y_pred = X_test@self.w[1:]\n",
    "        return y_pred \n",
    "        \n",
    "\n"
   ]
  },
  {
   "cell_type": "code",
   "execution_count": 315,
   "id": "084d9506",
   "metadata": {},
   "outputs": [
    {
     "data": {
      "text/plain": [
       "(11,)"
      ]
     },
     "execution_count": 315,
     "metadata": {},
     "output_type": "execute_result"
    }
   ],
   "source": [
    "mols = Multi_ols()\n",
    "\n",
    "w = mols.train(x_train,y_train)\n",
    "y_pred = mols.test(x_test)\n",
    "w.shape"
   ]
  },
  {
   "cell_type": "markdown",
   "id": "ecba4661",
   "metadata": {},
   "source": [
    "# Model Evaluation"
   ]
  },
  {
   "cell_type": "code",
   "execution_count": 316,
   "id": "ebf80d33",
   "metadata": {},
   "outputs": [],
   "source": [
    "from sklearn.metrics import r2_score\n",
    "r2 = r2_score(y_test,y_pred)\n",
    "adj_r2 = 1 - (((1-r2)*(1620-1))/(16210-1-1))"
   ]
  },
  {
   "cell_type": "code",
   "execution_count": 317,
   "id": "d9a1a398",
   "metadata": {},
   "outputs": [
    {
     "name": "stdout",
     "output_type": "stream",
     "text": [
      "The adjusted r2 score for the model is 0.9497858899933105\n"
     ]
    }
   ],
   "source": [
    "print(f\"The adjusted r2 score for the model is {adj_r2}\")"
   ]
  },
  {
   "cell_type": "code",
   "execution_count": null,
   "id": "a1260523",
   "metadata": {},
   "outputs": [],
   "source": []
  }
 ],
 "metadata": {
  "kernelspec": {
   "display_name": "regg",
   "language": "python",
   "name": "python3"
  },
  "language_info": {
   "codemirror_mode": {
    "name": "ipython",
    "version": 3
   },
   "file_extension": ".py",
   "mimetype": "text/x-python",
   "name": "python",
   "nbconvert_exporter": "python",
   "pygments_lexer": "ipython3",
   "version": "3.13.1"
  }
 },
 "nbformat": 4,
 "nbformat_minor": 5
}
