{
 "cells": [
  {
   "cell_type": "code",
   "execution_count": 991,
   "id": "e3fdd1fc",
   "metadata": {},
   "outputs": [],
   "source": [
    "import numpy as np\n",
    "import pandas as pd\n",
    "import matplotlib.pyplot as plt\n",
    "import seaborn as sns"
   ]
  },
  {
   "cell_type": "code",
   "execution_count": 992,
   "id": "c9f136fe",
   "metadata": {},
   "outputs": [],
   "source": [
    "df =pd.read_csv(\"AmesHousing.csv\")"
   ]
  },
  {
   "cell_type": "code",
   "execution_count": 993,
   "id": "e1e65239",
   "metadata": {},
   "outputs": [],
   "source": [
    "df.columns\n",
    "Y = df[[\"SalePrice\"]]"
   ]
  },
  {
   "cell_type": "code",
   "execution_count": 994,
   "id": "d13127e2",
   "metadata": {},
   "outputs": [
    {
     "data": {
      "application/vnd.microsoft.datawrangler.viewer.v0+json": {
       "columns": [
        {
         "name": "index",
         "rawType": "object",
         "type": "string"
        },
        {
         "name": "0",
         "rawType": "float64",
         "type": "float"
        }
       ],
       "ref": "404ccb3d-04b5-49da-84d9-fb5f1a0c68e4",
       "rows": [
        [
         "Order",
         "0.0"
        ],
        [
         "PID",
         "0.0"
        ],
        [
         "MS SubClass",
         "0.0"
        ],
        [
         "MS Zoning",
         "0.0"
        ],
        [
         "Lot Frontage",
         "0.16723549488054607"
        ],
        [
         "Lot Area",
         "0.0"
        ],
        [
         "Street",
         "0.0"
        ],
        [
         "Alley",
         "0.9324232081911262"
        ],
        [
         "Lot Shape",
         "0.0"
        ],
        [
         "Land Contour",
         "0.0"
        ],
        [
         "Utilities",
         "0.0"
        ],
        [
         "Lot Config",
         "0.0"
        ],
        [
         "Land Slope",
         "0.0"
        ],
        [
         "Neighborhood",
         "0.0"
        ],
        [
         "Condition 1",
         "0.0"
        ],
        [
         "Condition 2",
         "0.0"
        ],
        [
         "Bldg Type",
         "0.0"
        ],
        [
         "House Style",
         "0.0"
        ],
        [
         "Overall Qual",
         "0.0"
        ],
        [
         "Overall Cond",
         "0.0"
        ],
        [
         "Year Built",
         "0.0"
        ],
        [
         "Year Remod/Add",
         "0.0"
        ],
        [
         "Roof Style",
         "0.0"
        ],
        [
         "Roof Matl",
         "0.0"
        ],
        [
         "Exterior 1st",
         "0.0"
        ],
        [
         "Exterior 2nd",
         "0.0"
        ],
        [
         "Mas Vnr Type",
         "0.60580204778157"
        ],
        [
         "Mas Vnr Area",
         "0.007849829351535836"
        ],
        [
         "Exter Qual",
         "0.0"
        ],
        [
         "Exter Cond",
         "0.0"
        ],
        [
         "Foundation",
         "0.0"
        ],
        [
         "Bsmt Qual",
         "0.027303754266211604"
        ],
        [
         "Bsmt Cond",
         "0.027303754266211604"
        ],
        [
         "Bsmt Exposure",
         "0.02832764505119454"
        ],
        [
         "BsmtFin Type 1",
         "0.027303754266211604"
        ],
        [
         "BsmtFin SF 1",
         "0.00034129692832764505"
        ],
        [
         "BsmtFin Type 2",
         "0.02764505119453925"
        ],
        [
         "BsmtFin SF 2",
         "0.00034129692832764505"
        ],
        [
         "Bsmt Unf SF",
         "0.00034129692832764505"
        ],
        [
         "Total Bsmt SF",
         "0.00034129692832764505"
        ],
        [
         "Heating",
         "0.0"
        ],
        [
         "Heating QC",
         "0.0"
        ],
        [
         "Central Air",
         "0.0"
        ],
        [
         "Electrical",
         "0.00034129692832764505"
        ],
        [
         "1st Flr SF",
         "0.0"
        ],
        [
         "2nd Flr SF",
         "0.0"
        ],
        [
         "Low Qual Fin SF",
         "0.0"
        ],
        [
         "Gr Liv Area",
         "0.0"
        ],
        [
         "Bsmt Full Bath",
         "0.0006825938566552901"
        ],
        [
         "Bsmt Half Bath",
         "0.0006825938566552901"
        ]
       ],
       "shape": {
        "columns": 1,
        "rows": 82
       }
      },
      "text/plain": [
       "Order             0.000000\n",
       "PID               0.000000\n",
       "MS SubClass       0.000000\n",
       "MS Zoning         0.000000\n",
       "Lot Frontage      0.167235\n",
       "                    ...   \n",
       "Mo Sold           0.000000\n",
       "Yr Sold           0.000000\n",
       "Sale Type         0.000000\n",
       "Sale Condition    0.000000\n",
       "SalePrice         0.000000\n",
       "Length: 82, dtype: float64"
      ]
     },
     "execution_count": 994,
     "metadata": {},
     "output_type": "execute_result"
    }
   ],
   "source": [
    "df.isna().sum()/len(df)"
   ]
  },
  {
   "cell_type": "code",
   "execution_count": 995,
   "id": "21a2943b",
   "metadata": {},
   "outputs": [
    {
     "data": {
      "text/plain": [
       "['Lot Frontage',\n",
       " 'Alley',\n",
       " 'Mas Vnr Type',\n",
       " 'Mas Vnr Area',\n",
       " 'Bsmt Qual',\n",
       " 'Bsmt Cond',\n",
       " 'Bsmt Exposure',\n",
       " 'BsmtFin Type 1',\n",
       " 'BsmtFin SF 1',\n",
       " 'BsmtFin Type 2',\n",
       " 'BsmtFin SF 2',\n",
       " 'Bsmt Unf SF',\n",
       " 'Total Bsmt SF',\n",
       " 'Electrical',\n",
       " 'Bsmt Full Bath',\n",
       " 'Bsmt Half Bath',\n",
       " 'Fireplace Qu',\n",
       " 'Garage Type',\n",
       " 'Garage Yr Blt',\n",
       " 'Garage Finish',\n",
       " 'Garage Cars',\n",
       " 'Garage Area',\n",
       " 'Garage Qual',\n",
       " 'Garage Cond',\n",
       " 'Pool QC',\n",
       " 'Fence',\n",
       " 'Misc Feature']"
      ]
     },
     "execution_count": 995,
     "metadata": {},
     "output_type": "execute_result"
    }
   ],
   "source": [
    "col = [var for var in df.columns if df[var].isna().sum()/len(df)>0.0]\n",
    "col"
   ]
  },
  {
   "cell_type": "code",
   "execution_count": 996,
   "id": "16b427df",
   "metadata": {},
   "outputs": [],
   "source": [
    "df =df[col]"
   ]
  },
  {
   "cell_type": "code",
   "execution_count": 997,
   "id": "79c5c8ce",
   "metadata": {},
   "outputs": [
    {
     "data": {
      "application/vnd.microsoft.datawrangler.viewer.v0+json": {
       "columns": [
        {
         "name": "index",
         "rawType": "object",
         "type": "string"
        },
        {
         "name": "0",
         "rawType": "float64",
         "type": "float"
        }
       ],
       "ref": "4a5a6bc2-0049-42d9-8863-b4c11da1cab5",
       "rows": [
        [
         "Lot Frontage",
         "16.723549488054605"
        ],
        [
         "Alley",
         "93.24232081911262"
        ],
        [
         "Mas Vnr Type",
         "60.580204778157"
        ],
        [
         "Mas Vnr Area",
         "0.7849829351535836"
        ],
        [
         "Bsmt Qual",
         "2.7303754266211606"
        ],
        [
         "Bsmt Cond",
         "2.7303754266211606"
        ],
        [
         "Bsmt Exposure",
         "2.832764505119454"
        ],
        [
         "BsmtFin Type 1",
         "2.7303754266211606"
        ],
        [
         "BsmtFin SF 1",
         "0.034129692832764506"
        ],
        [
         "BsmtFin Type 2",
         "2.7645051194539247"
        ],
        [
         "BsmtFin SF 2",
         "0.034129692832764506"
        ],
        [
         "Bsmt Unf SF",
         "0.034129692832764506"
        ],
        [
         "Total Bsmt SF",
         "0.034129692832764506"
        ],
        [
         "Electrical",
         "0.034129692832764506"
        ],
        [
         "Bsmt Full Bath",
         "0.06825938566552901"
        ],
        [
         "Bsmt Half Bath",
         "0.06825938566552901"
        ],
        [
         "Fireplace Qu",
         "48.532423208191126"
        ],
        [
         "Garage Type",
         "5.3583617747440275"
        ],
        [
         "Garage Yr Blt",
         "5.426621160409556"
        ],
        [
         "Garage Finish",
         "5.426621160409556"
        ],
        [
         "Garage Cars",
         "0.034129692832764506"
        ],
        [
         "Garage Area",
         "0.034129692832764506"
        ],
        [
         "Garage Qual",
         "5.426621160409556"
        ],
        [
         "Garage Cond",
         "5.426621160409556"
        ],
        [
         "Pool QC",
         "99.55631399317406"
        ],
        [
         "Fence",
         "80.4778156996587"
        ],
        [
         "Misc Feature",
         "96.38225255972696"
        ]
       ],
       "shape": {
        "columns": 1,
        "rows": 27
       }
      },
      "text/plain": [
       "Lot Frontage      16.723549\n",
       "Alley             93.242321\n",
       "Mas Vnr Type      60.580205\n",
       "Mas Vnr Area       0.784983\n",
       "Bsmt Qual          2.730375\n",
       "Bsmt Cond          2.730375\n",
       "Bsmt Exposure      2.832765\n",
       "BsmtFin Type 1     2.730375\n",
       "BsmtFin SF 1       0.034130\n",
       "BsmtFin Type 2     2.764505\n",
       "BsmtFin SF 2       0.034130\n",
       "Bsmt Unf SF        0.034130\n",
       "Total Bsmt SF      0.034130\n",
       "Electrical         0.034130\n",
       "Bsmt Full Bath     0.068259\n",
       "Bsmt Half Bath     0.068259\n",
       "Fireplace Qu      48.532423\n",
       "Garage Type        5.358362\n",
       "Garage Yr Blt      5.426621\n",
       "Garage Finish      5.426621\n",
       "Garage Cars        0.034130\n",
       "Garage Area        0.034130\n",
       "Garage Qual        5.426621\n",
       "Garage Cond        5.426621\n",
       "Pool QC           99.556314\n",
       "Fence             80.477816\n",
       "Misc Feature      96.382253\n",
       "dtype: float64"
      ]
     },
     "execution_count": 997,
     "metadata": {},
     "output_type": "execute_result"
    }
   ],
   "source": [
    "100*(df.isna().sum()/len(df))"
   ]
  },
  {
   "cell_type": "code",
   "execution_count": 998,
   "id": "a6d14077",
   "metadata": {},
   "outputs": [
    {
     "data": {
      "text/plain": [
       "['Lot Frontage',\n",
       " 'Mas Vnr Area',\n",
       " 'Bsmt Qual',\n",
       " 'Bsmt Cond',\n",
       " 'Bsmt Exposure',\n",
       " 'BsmtFin Type 1',\n",
       " 'BsmtFin SF 1',\n",
       " 'BsmtFin Type 2',\n",
       " 'BsmtFin SF 2',\n",
       " 'Bsmt Unf SF',\n",
       " 'Total Bsmt SF',\n",
       " 'Electrical',\n",
       " 'Bsmt Full Bath',\n",
       " 'Bsmt Half Bath',\n",
       " 'Garage Type',\n",
       " 'Garage Yr Blt',\n",
       " 'Garage Finish',\n",
       " 'Garage Cars',\n",
       " 'Garage Area',\n",
       " 'Garage Qual',\n",
       " 'Garage Cond']"
      ]
     },
     "execution_count": 998,
     "metadata": {},
     "output_type": "execute_result"
    }
   ],
   "source": [
    "col = [var for var in df.columns if 100*(df[var].isna().sum()/len(df))<30.00 ]\n",
    "col"
   ]
  },
  {
   "cell_type": "code",
   "execution_count": 999,
   "id": "8d0b18d5",
   "metadata": {},
   "outputs": [],
   "source": [
    "df = df[col]"
   ]
  },
  {
   "cell_type": "code",
   "execution_count": 1000,
   "id": "e9218598",
   "metadata": {},
   "outputs": [],
   "source": [
    "df = df[['Lot Frontage','Mas Vnr Area']]"
   ]
  },
  {
   "cell_type": "code",
   "execution_count": 1001,
   "id": "4ce11861",
   "metadata": {},
   "outputs": [
    {
     "data": {
      "application/vnd.microsoft.datawrangler.viewer.v0+json": {
       "columns": [
        {
         "name": "index",
         "rawType": "int64",
         "type": "integer"
        },
        {
         "name": "Lot Frontage",
         "rawType": "float64",
         "type": "float"
        },
        {
         "name": "Mas Vnr Area",
         "rawType": "float64",
         "type": "float"
        }
       ],
       "ref": "0f52f890-c0b6-42b3-94ac-b901942fbf8c",
       "rows": [
        [
         "0",
         "141.0",
         "112.0"
        ],
        [
         "1",
         "80.0",
         "0.0"
        ],
        [
         "2",
         "81.0",
         "108.0"
        ],
        [
         "3",
         "93.0",
         "0.0"
        ],
        [
         "4",
         "74.0",
         "0.0"
        ],
        [
         "5",
         "78.0",
         "20.0"
        ],
        [
         "6",
         "41.0",
         "0.0"
        ],
        [
         "7",
         "43.0",
         "0.0"
        ],
        [
         "8",
         "39.0",
         "0.0"
        ],
        [
         "9",
         "60.0",
         "0.0"
        ],
        [
         "10",
         "75.0",
         "0.0"
        ],
        [
         "11",
         null,
         "0.0"
        ],
        [
         "12",
         "63.0",
         "0.0"
        ],
        [
         "13",
         "85.0",
         "0.0"
        ],
        [
         "14",
         null,
         "0.0"
        ],
        [
         "15",
         "47.0",
         "603.0"
        ],
        [
         "16",
         "152.0",
         "0.0"
        ],
        [
         "17",
         "88.0",
         "350.0"
        ],
        [
         "18",
         "140.0",
         "0.0"
        ],
        [
         "19",
         "85.0",
         "119.0"
        ],
        [
         "20",
         "105.0",
         "480.0"
        ],
        [
         "21",
         "85.0",
         "81.0"
        ],
        [
         "22",
         null,
         "0.0"
        ],
        [
         "23",
         null,
         "180.0"
        ],
        [
         "24",
         null,
         "0.0"
        ],
        [
         "25",
         "65.0",
         "0.0"
        ],
        [
         "26",
         "70.0",
         "0.0"
        ],
        [
         "27",
         "70.0",
         "0.0"
        ],
        [
         "28",
         "26.0",
         "0.0"
        ],
        [
         "29",
         "21.0",
         "504.0"
        ],
        [
         "30",
         "21.0",
         "492.0"
        ],
        [
         "31",
         "21.0",
         "381.0"
        ],
        [
         "32",
         "53.0",
         "0.0"
        ],
        [
         "33",
         "24.0",
         "0.0"
        ],
        [
         "34",
         "24.0",
         "0.0"
        ],
        [
         "35",
         "24.0",
         "0.0"
        ],
        [
         "36",
         "102.0",
         "162.0"
        ],
        [
         "37",
         "98.0",
         "200.0"
        ],
        [
         "38",
         "83.0",
         "450.0"
        ],
        [
         "39",
         "94.0",
         "256.0"
        ],
        [
         "40",
         "95.0",
         "226.0"
        ],
        [
         "41",
         "90.0",
         "615.0"
        ],
        [
         "42",
         "79.0",
         "240.0"
        ],
        [
         "43",
         "70.0",
         "168.0"
        ],
        [
         "44",
         "100.0",
         "760.0"
        ],
        [
         "45",
         "44.0",
         "128.0"
        ],
        [
         "46",
         "110.0",
         "1095.0"
        ],
        [
         "47",
         "105.0",
         "232.0"
        ],
        [
         "48",
         "61.0",
         "412.0"
        ],
        [
         "49",
         "41.0",
         "178.0"
        ]
       ],
       "shape": {
        "columns": 2,
        "rows": 2930
       }
      },
      "text/html": [
       "<div>\n",
       "<style scoped>\n",
       "    .dataframe tbody tr th:only-of-type {\n",
       "        vertical-align: middle;\n",
       "    }\n",
       "\n",
       "    .dataframe tbody tr th {\n",
       "        vertical-align: top;\n",
       "    }\n",
       "\n",
       "    .dataframe thead th {\n",
       "        text-align: right;\n",
       "    }\n",
       "</style>\n",
       "<table border=\"1\" class=\"dataframe\">\n",
       "  <thead>\n",
       "    <tr style=\"text-align: right;\">\n",
       "      <th></th>\n",
       "      <th>Lot Frontage</th>\n",
       "      <th>Mas Vnr Area</th>\n",
       "    </tr>\n",
       "  </thead>\n",
       "  <tbody>\n",
       "    <tr>\n",
       "      <th>0</th>\n",
       "      <td>141.0</td>\n",
       "      <td>112.0</td>\n",
       "    </tr>\n",
       "    <tr>\n",
       "      <th>1</th>\n",
       "      <td>80.0</td>\n",
       "      <td>0.0</td>\n",
       "    </tr>\n",
       "    <tr>\n",
       "      <th>2</th>\n",
       "      <td>81.0</td>\n",
       "      <td>108.0</td>\n",
       "    </tr>\n",
       "    <tr>\n",
       "      <th>3</th>\n",
       "      <td>93.0</td>\n",
       "      <td>0.0</td>\n",
       "    </tr>\n",
       "    <tr>\n",
       "      <th>4</th>\n",
       "      <td>74.0</td>\n",
       "      <td>0.0</td>\n",
       "    </tr>\n",
       "    <tr>\n",
       "      <th>...</th>\n",
       "      <td>...</td>\n",
       "      <td>...</td>\n",
       "    </tr>\n",
       "    <tr>\n",
       "      <th>2925</th>\n",
       "      <td>37.0</td>\n",
       "      <td>0.0</td>\n",
       "    </tr>\n",
       "    <tr>\n",
       "      <th>2926</th>\n",
       "      <td>NaN</td>\n",
       "      <td>0.0</td>\n",
       "    </tr>\n",
       "    <tr>\n",
       "      <th>2927</th>\n",
       "      <td>62.0</td>\n",
       "      <td>0.0</td>\n",
       "    </tr>\n",
       "    <tr>\n",
       "      <th>2928</th>\n",
       "      <td>77.0</td>\n",
       "      <td>0.0</td>\n",
       "    </tr>\n",
       "    <tr>\n",
       "      <th>2929</th>\n",
       "      <td>74.0</td>\n",
       "      <td>94.0</td>\n",
       "    </tr>\n",
       "  </tbody>\n",
       "</table>\n",
       "<p>2930 rows × 2 columns</p>\n",
       "</div>"
      ],
      "text/plain": [
       "      Lot Frontage  Mas Vnr Area\n",
       "0            141.0         112.0\n",
       "1             80.0           0.0\n",
       "2             81.0         108.0\n",
       "3             93.0           0.0\n",
       "4             74.0           0.0\n",
       "...            ...           ...\n",
       "2925          37.0           0.0\n",
       "2926           NaN           0.0\n",
       "2927          62.0           0.0\n",
       "2928          77.0           0.0\n",
       "2929          74.0          94.0\n",
       "\n",
       "[2930 rows x 2 columns]"
      ]
     },
     "execution_count": 1001,
     "metadata": {},
     "output_type": "execute_result"
    }
   ],
   "source": [
    "df"
   ]
  },
  {
   "cell_type": "code",
   "execution_count": 1002,
   "id": "781c3246",
   "metadata": {},
   "outputs": [
    {
     "data": {
      "application/vnd.microsoft.datawrangler.viewer.v0+json": {
       "columns": [
        {
         "name": "index",
         "rawType": "object",
         "type": "string"
        },
        {
         "name": "0",
         "rawType": "float64",
         "type": "float"
        }
       ],
       "ref": "463d68e1-b0e6-4976-8fb7-28f93784cd88",
       "rows": [
        [
         "Lot Frontage",
         "16.723549488054605"
        ],
        [
         "Mas Vnr Area",
         "0.7849829351535836"
        ]
       ],
       "shape": {
        "columns": 1,
        "rows": 2
       }
      },
      "text/plain": [
       "Lot Frontage    16.723549\n",
       "Mas Vnr Area     0.784983\n",
       "dtype: float64"
      ]
     },
     "execution_count": 1002,
     "metadata": {},
     "output_type": "execute_result"
    }
   ],
   "source": [
    "(df.isna().sum()/len(df))*100"
   ]
  },
  {
   "cell_type": "code",
   "execution_count": 1003,
   "id": "ee6ec651",
   "metadata": {},
   "outputs": [
    {
     "data": {
      "application/vnd.microsoft.datawrangler.viewer.v0+json": {
       "columns": [
        {
         "name": "index",
         "rawType": "int64",
         "type": "integer"
        },
        {
         "name": "Lot Frontage",
         "rawType": "float64",
         "type": "float"
        },
        {
         "name": "Mas Vnr Area",
         "rawType": "float64",
         "type": "float"
        }
       ],
       "ref": "5131ce17-6fe1-4102-a960-96fd73e353db",
       "rows": [
        [
         "0",
         "141.0",
         "112.0"
        ],
        [
         "1",
         "80.0",
         "0.0"
        ],
        [
         "2",
         "81.0",
         "108.0"
        ],
        [
         "3",
         "93.0",
         "0.0"
        ],
        [
         "4",
         "74.0",
         "0.0"
        ],
        [
         "5",
         "78.0",
         "20.0"
        ],
        [
         "6",
         "41.0",
         "0.0"
        ],
        [
         "7",
         "43.0",
         "0.0"
        ],
        [
         "8",
         "39.0",
         "0.0"
        ],
        [
         "9",
         "60.0",
         "0.0"
        ],
        [
         "10",
         "75.0",
         "0.0"
        ],
        [
         "11",
         null,
         "0.0"
        ],
        [
         "12",
         "63.0",
         "0.0"
        ],
        [
         "13",
         "85.0",
         "0.0"
        ],
        [
         "14",
         null,
         "0.0"
        ],
        [
         "15",
         "47.0",
         "603.0"
        ],
        [
         "16",
         "152.0",
         "0.0"
        ],
        [
         "17",
         "88.0",
         "350.0"
        ],
        [
         "18",
         "140.0",
         "0.0"
        ],
        [
         "19",
         "85.0",
         "119.0"
        ],
        [
         "20",
         "105.0",
         "480.0"
        ],
        [
         "21",
         "85.0",
         "81.0"
        ],
        [
         "22",
         null,
         "0.0"
        ],
        [
         "23",
         null,
         "180.0"
        ],
        [
         "24",
         null,
         "0.0"
        ],
        [
         "25",
         "65.0",
         "0.0"
        ],
        [
         "26",
         "70.0",
         "0.0"
        ],
        [
         "27",
         "70.0",
         "0.0"
        ],
        [
         "28",
         "26.0",
         "0.0"
        ],
        [
         "29",
         "21.0",
         "504.0"
        ],
        [
         "30",
         "21.0",
         "492.0"
        ],
        [
         "31",
         "21.0",
         "381.0"
        ],
        [
         "32",
         "53.0",
         "0.0"
        ],
        [
         "33",
         "24.0",
         "0.0"
        ],
        [
         "34",
         "24.0",
         "0.0"
        ],
        [
         "35",
         "24.0",
         "0.0"
        ],
        [
         "36",
         "102.0",
         "162.0"
        ],
        [
         "37",
         "98.0",
         "200.0"
        ],
        [
         "38",
         "83.0",
         "450.0"
        ],
        [
         "39",
         "94.0",
         "256.0"
        ],
        [
         "40",
         "95.0",
         "226.0"
        ],
        [
         "41",
         "90.0",
         "615.0"
        ],
        [
         "42",
         "79.0",
         "240.0"
        ],
        [
         "43",
         "70.0",
         "168.0"
        ],
        [
         "44",
         "100.0",
         "760.0"
        ],
        [
         "45",
         "44.0",
         "128.0"
        ],
        [
         "46",
         "110.0",
         "1095.0"
        ],
        [
         "47",
         "105.0",
         "232.0"
        ],
        [
         "48",
         "61.0",
         "412.0"
        ],
        [
         "49",
         "41.0",
         "178.0"
        ]
       ],
       "shape": {
        "columns": 2,
        "rows": 2930
       }
      },
      "text/html": [
       "<div>\n",
       "<style scoped>\n",
       "    .dataframe tbody tr th:only-of-type {\n",
       "        vertical-align: middle;\n",
       "    }\n",
       "\n",
       "    .dataframe tbody tr th {\n",
       "        vertical-align: top;\n",
       "    }\n",
       "\n",
       "    .dataframe thead th {\n",
       "        text-align: right;\n",
       "    }\n",
       "</style>\n",
       "<table border=\"1\" class=\"dataframe\">\n",
       "  <thead>\n",
       "    <tr style=\"text-align: right;\">\n",
       "      <th></th>\n",
       "      <th>Lot Frontage</th>\n",
       "      <th>Mas Vnr Area</th>\n",
       "    </tr>\n",
       "  </thead>\n",
       "  <tbody>\n",
       "    <tr>\n",
       "      <th>0</th>\n",
       "      <td>141.0</td>\n",
       "      <td>112.0</td>\n",
       "    </tr>\n",
       "    <tr>\n",
       "      <th>1</th>\n",
       "      <td>80.0</td>\n",
       "      <td>0.0</td>\n",
       "    </tr>\n",
       "    <tr>\n",
       "      <th>2</th>\n",
       "      <td>81.0</td>\n",
       "      <td>108.0</td>\n",
       "    </tr>\n",
       "    <tr>\n",
       "      <th>3</th>\n",
       "      <td>93.0</td>\n",
       "      <td>0.0</td>\n",
       "    </tr>\n",
       "    <tr>\n",
       "      <th>4</th>\n",
       "      <td>74.0</td>\n",
       "      <td>0.0</td>\n",
       "    </tr>\n",
       "    <tr>\n",
       "      <th>...</th>\n",
       "      <td>...</td>\n",
       "      <td>...</td>\n",
       "    </tr>\n",
       "    <tr>\n",
       "      <th>2925</th>\n",
       "      <td>37.0</td>\n",
       "      <td>0.0</td>\n",
       "    </tr>\n",
       "    <tr>\n",
       "      <th>2926</th>\n",
       "      <td>NaN</td>\n",
       "      <td>0.0</td>\n",
       "    </tr>\n",
       "    <tr>\n",
       "      <th>2927</th>\n",
       "      <td>62.0</td>\n",
       "      <td>0.0</td>\n",
       "    </tr>\n",
       "    <tr>\n",
       "      <th>2928</th>\n",
       "      <td>77.0</td>\n",
       "      <td>0.0</td>\n",
       "    </tr>\n",
       "    <tr>\n",
       "      <th>2929</th>\n",
       "      <td>74.0</td>\n",
       "      <td>94.0</td>\n",
       "    </tr>\n",
       "  </tbody>\n",
       "</table>\n",
       "<p>2930 rows × 2 columns</p>\n",
       "</div>"
      ],
      "text/plain": [
       "      Lot Frontage  Mas Vnr Area\n",
       "0            141.0         112.0\n",
       "1             80.0           0.0\n",
       "2             81.0         108.0\n",
       "3             93.0           0.0\n",
       "4             74.0           0.0\n",
       "...            ...           ...\n",
       "2925          37.0           0.0\n",
       "2926           NaN           0.0\n",
       "2927          62.0           0.0\n",
       "2928          77.0           0.0\n",
       "2929          74.0          94.0\n",
       "\n",
       "[2930 rows x 2 columns]"
      ]
     },
     "execution_count": 1003,
     "metadata": {},
     "output_type": "execute_result"
    }
   ],
   "source": [
    "df = df[['Lot Frontage','Mas Vnr Area']]\n",
    "df"
   ]
  },
  {
   "cell_type": "code",
   "execution_count": 1004,
   "id": "6350cfd6",
   "metadata": {},
   "outputs": [],
   "source": [
    "from sklearn.model_selection import train_test_split\n",
    "X_train,X_test,y_train,y_test = train_test_split(df,Y,train_size = 0.25,random_state = 0)"
   ]
  },
  {
   "cell_type": "code",
   "execution_count": 1005,
   "id": "19a12d96",
   "metadata": {},
   "outputs": [
    {
     "data": {
      "text/plain": [
       "{'Mean_lot_frt': SimpleImputer(),\n",
       " 'Medain_mas_vnr': SimpleImputer(strategy='median')}"
      ]
     },
     "execution_count": 1005,
     "metadata": {},
     "output_type": "execute_result"
    }
   ],
   "source": [
    "from sklearn.impute import SimpleImputer\n",
    "from sklearn.compose import ColumnTransformer\n",
    "si1 = SimpleImputer(strategy='mean')\n",
    "si2 = SimpleImputer(strategy='median')\n",
    "clf = ColumnTransformer(\n",
    "    [('Mean_lot_frt',si1,[0]),\n",
    "    ( 'Medain_mas_vnr',si2,[1])],remainder='passthrough'\n",
    ")\n",
    "clf.fit(X_train).named_transformers_\n"
   ]
  },
  {
   "cell_type": "code",
   "execution_count": 1006,
   "id": "c8af4c26",
   "metadata": {},
   "outputs": [
    {
     "data": {
      "text/plain": [
       "array([0.])"
      ]
     },
     "execution_count": 1006,
     "metadata": {},
     "output_type": "execute_result"
    }
   ],
   "source": [
    "clf.named_transformers_['Mean_lot_frt'].statistics_\n",
    "clf.named_transformers_['Medain_mas_vnr'].statistics_"
   ]
  },
  {
   "cell_type": "code",
   "execution_count": 1007,
   "id": "04cd4299",
   "metadata": {},
   "outputs": [],
   "source": [
    "X_train_trf = clf.transform(X_train)                \n",
    "X_test_trf = clf.transform(X_test)                "
   ]
  },
  {
   "cell_type": "code",
   "execution_count": 1008,
   "id": "a701379f",
   "metadata": {},
   "outputs": [
    {
     "data": {
      "text/plain": [
       "array([[  80.,  203.],\n",
       "       [  39.,    0.],\n",
       "       [  60.,    0.],\n",
       "       ...,\n",
       "       [  80.,   96.],\n",
       "       [  85., 1047.],\n",
       "       [  75.,    0.]], shape=(732, 2))"
      ]
     },
     "execution_count": 1008,
     "metadata": {},
     "output_type": "execute_result"
    }
   ],
   "source": [
    "\n",
    "X_test_trf\n",
    "X_train_trf"
   ]
  },
  {
   "cell_type": "code",
   "execution_count": null,
   "id": "1b70933c",
   "metadata": {},
   "outputs": [],
   "source": [
    "tf = np.concat([X_train_trf,X_test_trf])"
   ]
  },
  {
   "cell_type": "code",
   "execution_count": 1010,
   "id": "021e48d3",
   "metadata": {},
   "outputs": [
    {
     "data": {
      "application/vnd.microsoft.datawrangler.viewer.v0+json": {
       "columns": [
        {
         "name": "index",
         "rawType": "int64",
         "type": "integer"
        },
        {
         "name": "Mean_lot_frt",
         "rawType": "float64",
         "type": "float"
        },
        {
         "name": "Medain_mas_vnr",
         "rawType": "float64",
         "type": "float"
        }
       ],
       "ref": "e36575e1-326f-4fa1-93ef-e853be5684b5",
       "rows": [
        [
         "0",
         "80.0",
         "203.0"
        ],
        [
         "1",
         "39.0",
         "0.0"
        ],
        [
         "2",
         "60.0",
         "0.0"
        ],
        [
         "3",
         "69.76480263157895",
         "164.0"
        ],
        [
         "4",
         "98.0",
         "0.0"
        ],
        [
         "5",
         "85.0",
         "176.0"
        ],
        [
         "6",
         "174.0",
         "506.0"
        ],
        [
         "7",
         "40.0",
         "94.0"
        ],
        [
         "8",
         "69.76480263157895",
         "0.0"
        ],
        [
         "9",
         "75.0",
         "428.0"
        ],
        [
         "10",
         "40.0",
         "0.0"
        ],
        [
         "11",
         "80.0",
         "202.0"
        ],
        [
         "12",
         "68.0",
         "0.0"
        ],
        [
         "13",
         "69.76480263157895",
         "0.0"
        ],
        [
         "14",
         "57.0",
         "0.0"
        ],
        [
         "15",
         "80.0",
         "176.0"
        ],
        [
         "16",
         "24.0",
         "0.0"
        ],
        [
         "17",
         "51.0",
         "0.0"
        ],
        [
         "18",
         "69.0",
         "0.0"
        ],
        [
         "19",
         "90.0",
         "0.0"
        ],
        [
         "20",
         "69.76480263157895",
         "298.0"
        ],
        [
         "21",
         "79.0",
         "224.0"
        ],
        [
         "22",
         "42.0",
         "0.0"
        ],
        [
         "23",
         "52.0",
         "0.0"
        ],
        [
         "24",
         "77.0",
         "352.0"
        ],
        [
         "25",
         "69.76480263157895",
         "40.0"
        ],
        [
         "26",
         "60.0",
         "662.0"
        ],
        [
         "27",
         "69.76480263157895",
         "147.0"
        ],
        [
         "28",
         "65.0",
         "144.0"
        ],
        [
         "29",
         "60.0",
         "0.0"
        ],
        [
         "30",
         "69.76480263157895",
         "0.0"
        ],
        [
         "31",
         "70.0",
         "0.0"
        ],
        [
         "32",
         "70.0",
         "51.0"
        ],
        [
         "33",
         "87.0",
         "0.0"
        ],
        [
         "34",
         "70.0",
         "0.0"
        ],
        [
         "35",
         "75.0",
         "0.0"
        ],
        [
         "36",
         "114.0",
         "0.0"
        ],
        [
         "37",
         "68.0",
         "265.0"
        ],
        [
         "38",
         "50.0",
         "0.0"
        ],
        [
         "39",
         "24.0",
         "312.0"
        ],
        [
         "40",
         "119.0",
         "0.0"
        ],
        [
         "41",
         "90.0",
         "0.0"
        ],
        [
         "42",
         "68.0",
         "158.0"
        ],
        [
         "43",
         "69.76480263157895",
         "0.0"
        ],
        [
         "44",
         "98.0",
         "362.0"
        ],
        [
         "45",
         "30.0",
         "120.0"
        ],
        [
         "46",
         "113.0",
         "246.0"
        ],
        [
         "47",
         "60.0",
         "0.0"
        ],
        [
         "48",
         "101.0",
         "380.0"
        ],
        [
         "49",
         "73.0",
         "0.0"
        ]
       ],
       "shape": {
        "columns": 2,
        "rows": 2930
       }
      },
      "text/html": [
       "<div>\n",
       "<style scoped>\n",
       "    .dataframe tbody tr th:only-of-type {\n",
       "        vertical-align: middle;\n",
       "    }\n",
       "\n",
       "    .dataframe tbody tr th {\n",
       "        vertical-align: top;\n",
       "    }\n",
       "\n",
       "    .dataframe thead th {\n",
       "        text-align: right;\n",
       "    }\n",
       "</style>\n",
       "<table border=\"1\" class=\"dataframe\">\n",
       "  <thead>\n",
       "    <tr style=\"text-align: right;\">\n",
       "      <th></th>\n",
       "      <th>Mean_lot_frt</th>\n",
       "      <th>Medain_mas_vnr</th>\n",
       "    </tr>\n",
       "  </thead>\n",
       "  <tbody>\n",
       "    <tr>\n",
       "      <th>0</th>\n",
       "      <td>80.000000</td>\n",
       "      <td>203.0</td>\n",
       "    </tr>\n",
       "    <tr>\n",
       "      <th>1</th>\n",
       "      <td>39.000000</td>\n",
       "      <td>0.0</td>\n",
       "    </tr>\n",
       "    <tr>\n",
       "      <th>2</th>\n",
       "      <td>60.000000</td>\n",
       "      <td>0.0</td>\n",
       "    </tr>\n",
       "    <tr>\n",
       "      <th>3</th>\n",
       "      <td>69.764803</td>\n",
       "      <td>164.0</td>\n",
       "    </tr>\n",
       "    <tr>\n",
       "      <th>4</th>\n",
       "      <td>98.000000</td>\n",
       "      <td>0.0</td>\n",
       "    </tr>\n",
       "    <tr>\n",
       "      <th>...</th>\n",
       "      <td>...</td>\n",
       "      <td>...</td>\n",
       "    </tr>\n",
       "    <tr>\n",
       "      <th>2925</th>\n",
       "      <td>65.000000</td>\n",
       "      <td>214.0</td>\n",
       "    </tr>\n",
       "    <tr>\n",
       "      <th>2926</th>\n",
       "      <td>66.000000</td>\n",
       "      <td>0.0</td>\n",
       "    </tr>\n",
       "    <tr>\n",
       "      <th>2927</th>\n",
       "      <td>69.764803</td>\n",
       "      <td>302.0</td>\n",
       "    </tr>\n",
       "    <tr>\n",
       "      <th>2928</th>\n",
       "      <td>110.000000</td>\n",
       "      <td>726.0</td>\n",
       "    </tr>\n",
       "    <tr>\n",
       "      <th>2929</th>\n",
       "      <td>61.000000</td>\n",
       "      <td>518.0</td>\n",
       "    </tr>\n",
       "  </tbody>\n",
       "</table>\n",
       "<p>2930 rows × 2 columns</p>\n",
       "</div>"
      ],
      "text/plain": [
       "      Mean_lot_frt  Medain_mas_vnr\n",
       "0        80.000000           203.0\n",
       "1        39.000000             0.0\n",
       "2        60.000000             0.0\n",
       "3        69.764803           164.0\n",
       "4        98.000000             0.0\n",
       "...            ...             ...\n",
       "2925     65.000000           214.0\n",
       "2926     66.000000             0.0\n",
       "2927     69.764803           302.0\n",
       "2928    110.000000           726.0\n",
       "2929     61.000000           518.0\n",
       "\n",
       "[2930 rows x 2 columns]"
      ]
     },
     "execution_count": 1010,
     "metadata": {},
     "output_type": "execute_result"
    }
   ],
   "source": [
    "trf = pd.DataFrame(tf,columns=['Mean_lot_frt','Medain_mas_vnr'])\n",
    "trf"
   ]
  },
  {
   "cell_type": "code",
   "execution_count": 1011,
   "id": "1f83a865",
   "metadata": {},
   "outputs": [
    {
     "data": {
      "application/vnd.microsoft.datawrangler.viewer.v0+json": {
       "columns": [
        {
         "name": "index",
         "rawType": "int64",
         "type": "integer"
        },
        {
         "name": "Lot Frontage",
         "rawType": "float64",
         "type": "float"
        },
        {
         "name": "Mas Vnr Area",
         "rawType": "float64",
         "type": "float"
        }
       ],
       "ref": "216e7359-0e19-4337-adbd-6c316d5dcad1",
       "rows": [
        [
         "0",
         "141.0",
         "112.0"
        ],
        [
         "1",
         "80.0",
         "0.0"
        ],
        [
         "2",
         "81.0",
         "108.0"
        ],
        [
         "3",
         "93.0",
         "0.0"
        ],
        [
         "4",
         "74.0",
         "0.0"
        ],
        [
         "5",
         "78.0",
         "20.0"
        ],
        [
         "6",
         "41.0",
         "0.0"
        ],
        [
         "7",
         "43.0",
         "0.0"
        ],
        [
         "8",
         "39.0",
         "0.0"
        ],
        [
         "9",
         "60.0",
         "0.0"
        ],
        [
         "10",
         "75.0",
         "0.0"
        ],
        [
         "11",
         null,
         "0.0"
        ],
        [
         "12",
         "63.0",
         "0.0"
        ],
        [
         "13",
         "85.0",
         "0.0"
        ],
        [
         "14",
         null,
         "0.0"
        ],
        [
         "15",
         "47.0",
         "603.0"
        ],
        [
         "16",
         "152.0",
         "0.0"
        ],
        [
         "17",
         "88.0",
         "350.0"
        ],
        [
         "18",
         "140.0",
         "0.0"
        ],
        [
         "19",
         "85.0",
         "119.0"
        ],
        [
         "20",
         "105.0",
         "480.0"
        ],
        [
         "21",
         "85.0",
         "81.0"
        ],
        [
         "22",
         null,
         "0.0"
        ],
        [
         "23",
         null,
         "180.0"
        ],
        [
         "24",
         null,
         "0.0"
        ],
        [
         "25",
         "65.0",
         "0.0"
        ],
        [
         "26",
         "70.0",
         "0.0"
        ],
        [
         "27",
         "70.0",
         "0.0"
        ],
        [
         "28",
         "26.0",
         "0.0"
        ],
        [
         "29",
         "21.0",
         "504.0"
        ],
        [
         "30",
         "21.0",
         "492.0"
        ],
        [
         "31",
         "21.0",
         "381.0"
        ],
        [
         "32",
         "53.0",
         "0.0"
        ],
        [
         "33",
         "24.0",
         "0.0"
        ],
        [
         "34",
         "24.0",
         "0.0"
        ],
        [
         "35",
         "24.0",
         "0.0"
        ],
        [
         "36",
         "102.0",
         "162.0"
        ],
        [
         "37",
         "98.0",
         "200.0"
        ],
        [
         "38",
         "83.0",
         "450.0"
        ],
        [
         "39",
         "94.0",
         "256.0"
        ],
        [
         "40",
         "95.0",
         "226.0"
        ],
        [
         "41",
         "90.0",
         "615.0"
        ],
        [
         "42",
         "79.0",
         "240.0"
        ],
        [
         "43",
         "70.0",
         "168.0"
        ],
        [
         "44",
         "100.0",
         "760.0"
        ],
        [
         "45",
         "44.0",
         "128.0"
        ],
        [
         "46",
         "110.0",
         "1095.0"
        ],
        [
         "47",
         "105.0",
         "232.0"
        ],
        [
         "48",
         "61.0",
         "412.0"
        ],
        [
         "49",
         "41.0",
         "178.0"
        ]
       ],
       "shape": {
        "columns": 2,
        "rows": 2930
       }
      },
      "text/html": [
       "<div>\n",
       "<style scoped>\n",
       "    .dataframe tbody tr th:only-of-type {\n",
       "        vertical-align: middle;\n",
       "    }\n",
       "\n",
       "    .dataframe tbody tr th {\n",
       "        vertical-align: top;\n",
       "    }\n",
       "\n",
       "    .dataframe thead th {\n",
       "        text-align: right;\n",
       "    }\n",
       "</style>\n",
       "<table border=\"1\" class=\"dataframe\">\n",
       "  <thead>\n",
       "    <tr style=\"text-align: right;\">\n",
       "      <th></th>\n",
       "      <th>Lot Frontage</th>\n",
       "      <th>Mas Vnr Area</th>\n",
       "    </tr>\n",
       "  </thead>\n",
       "  <tbody>\n",
       "    <tr>\n",
       "      <th>0</th>\n",
       "      <td>141.0</td>\n",
       "      <td>112.0</td>\n",
       "    </tr>\n",
       "    <tr>\n",
       "      <th>1</th>\n",
       "      <td>80.0</td>\n",
       "      <td>0.0</td>\n",
       "    </tr>\n",
       "    <tr>\n",
       "      <th>2</th>\n",
       "      <td>81.0</td>\n",
       "      <td>108.0</td>\n",
       "    </tr>\n",
       "    <tr>\n",
       "      <th>3</th>\n",
       "      <td>93.0</td>\n",
       "      <td>0.0</td>\n",
       "    </tr>\n",
       "    <tr>\n",
       "      <th>4</th>\n",
       "      <td>74.0</td>\n",
       "      <td>0.0</td>\n",
       "    </tr>\n",
       "    <tr>\n",
       "      <th>...</th>\n",
       "      <td>...</td>\n",
       "      <td>...</td>\n",
       "    </tr>\n",
       "    <tr>\n",
       "      <th>2925</th>\n",
       "      <td>37.0</td>\n",
       "      <td>0.0</td>\n",
       "    </tr>\n",
       "    <tr>\n",
       "      <th>2926</th>\n",
       "      <td>NaN</td>\n",
       "      <td>0.0</td>\n",
       "    </tr>\n",
       "    <tr>\n",
       "      <th>2927</th>\n",
       "      <td>62.0</td>\n",
       "      <td>0.0</td>\n",
       "    </tr>\n",
       "    <tr>\n",
       "      <th>2928</th>\n",
       "      <td>77.0</td>\n",
       "      <td>0.0</td>\n",
       "    </tr>\n",
       "    <tr>\n",
       "      <th>2929</th>\n",
       "      <td>74.0</td>\n",
       "      <td>94.0</td>\n",
       "    </tr>\n",
       "  </tbody>\n",
       "</table>\n",
       "<p>2930 rows × 2 columns</p>\n",
       "</div>"
      ],
      "text/plain": [
       "      Lot Frontage  Mas Vnr Area\n",
       "0            141.0         112.0\n",
       "1             80.0           0.0\n",
       "2             81.0         108.0\n",
       "3             93.0           0.0\n",
       "4             74.0           0.0\n",
       "...            ...           ...\n",
       "2925          37.0           0.0\n",
       "2926           NaN           0.0\n",
       "2927          62.0           0.0\n",
       "2928          77.0           0.0\n",
       "2929          74.0          94.0\n",
       "\n",
       "[2930 rows x 2 columns]"
      ]
     },
     "execution_count": 1011,
     "metadata": {},
     "output_type": "execute_result"
    }
   ],
   "source": [
    "df"
   ]
  },
  {
   "cell_type": "code",
   "execution_count": 1012,
   "id": "c58ba0a2",
   "metadata": {},
   "outputs": [
    {
     "data": {
      "text/plain": [
       "<matplotlib.legend.Legend at 0x1d95aec0f50>"
      ]
     },
     "execution_count": 1012,
     "metadata": {},
     "output_type": "execute_result"
    },
    {
     "data": {
      "image/png": "[encoded data removed]",
      "text/plain": [
       "<Figure size 1000x400 with 2 Axes>"
      ]
     },
     "metadata": {},
     "output_type": "display_data"
    }
   ],
   "source": [
    "fig,(ax1,ax2) = plt.subplots(nrows=1,ncols=2,figsize = (10,4))\n",
    "sns.kdeplot(df[\"Lot Frontage\"],ax=ax1,label='Before trf',color='red')\n",
    "sns.kdeplot(trf[\"Mean_lot_frt\"],ax=ax1,label='After Trf',color='blue')\n",
    "sns.kdeplot(df[\"Mas Vnr Area\"],ax=ax2,label='Before trf')\n",
    "sns.kdeplot(trf[\"Medain_mas_vnr\"],ax=ax2,label='After Trf')\n",
    "plt.legend()"
   ]
  },
  {
   "cell_type": "code",
   "execution_count": 1013,
   "id": "c161b5cf",
   "metadata": {},
   "outputs": [
    {
     "data": {
      "text/plain": [
       "<Axes: >"
      ]
     },
     "execution_count": 1013,
     "metadata": {},
     "output_type": "execute_result"
    },
    {
     "data": {
      "image/png": "[encoded data removed]",
      "text/plain": [
       "<Figure size 640x480 with 1 Axes>"
      ]
     },
     "metadata": {},
     "output_type": "display_data"
    }
   ],
   "source": [
    "trf[[\"Mean_lot_frt\",\"Medain_mas_vnr\"]].boxplot()"
   ]
  },
  {
   "cell_type": "code",
   "execution_count": 1014,
   "id": "61262e8e",
   "metadata": {},
   "outputs": [
    {
     "data": {
      "text/plain": [
       "<Axes: >"
      ]
     },
     "execution_count": 1014,
     "metadata": {},
     "output_type": "execute_result"
    },
    {
     "data": {
      "image/png": "[encoded data removed]",
      "text/plain": [
       "<Figure size 640x480 with 1 Axes>"
      ]
     },
     "metadata": {},
     "output_type": "display_data"
    }
   ],
   "source": [
    "df[[\"Lot Frontage\",\"Mas Vnr Area\"]].boxplot()"
   ]
  },
  {
   "cell_type": "code",
   "execution_count": 1015,
   "id": "0ae5b197",
   "metadata": {},
   "outputs": [
    {
     "data": {
      "application/vnd.microsoft.datawrangler.viewer.v0+json": {
       "columns": [
        {
         "name": "index",
         "rawType": "object",
         "type": "string"
        },
        {
         "name": "Lot Frontage",
         "rawType": "float64",
         "type": "float"
        },
        {
         "name": "Mas Vnr Area",
         "rawType": "float64",
         "type": "float"
        }
       ],
       "ref": "1b5bb5af-0f2a-4e4d-a8a5-8ef554a37524",
       "rows": [
        [
         "Lot Frontage",
         "545.9388784707522",
         "935.524976714688"
        ],
        [
         "Mas Vnr Area",
         "935.524976714688",
         "32081.327267807144"
        ]
       ],
       "shape": {
        "columns": 2,
        "rows": 2
       }
      },
      "text/html": [
       "<div>\n",
       "<style scoped>\n",
       "    .dataframe tbody tr th:only-of-type {\n",
       "        vertical-align: middle;\n",
       "    }\n",
       "\n",
       "    .dataframe tbody tr th {\n",
       "        vertical-align: top;\n",
       "    }\n",
       "\n",
       "    .dataframe thead th {\n",
       "        text-align: right;\n",
       "    }\n",
       "</style>\n",
       "<table border=\"1\" class=\"dataframe\">\n",
       "  <thead>\n",
       "    <tr style=\"text-align: right;\">\n",
       "      <th></th>\n",
       "      <th>Lot Frontage</th>\n",
       "      <th>Mas Vnr Area</th>\n",
       "    </tr>\n",
       "  </thead>\n",
       "  <tbody>\n",
       "    <tr>\n",
       "      <th>Lot Frontage</th>\n",
       "      <td>545.938878</td>\n",
       "      <td>935.524977</td>\n",
       "    </tr>\n",
       "    <tr>\n",
       "      <th>Mas Vnr Area</th>\n",
       "      <td>935.524977</td>\n",
       "      <td>32081.327268</td>\n",
       "    </tr>\n",
       "  </tbody>\n",
       "</table>\n",
       "</div>"
      ],
      "text/plain": [
       "              Lot Frontage  Mas Vnr Area\n",
       "Lot Frontage    545.938878    935.524977\n",
       "Mas Vnr Area    935.524977  32081.327268"
      ]
     },
     "execution_count": 1015,
     "metadata": {},
     "output_type": "execute_result"
    }
   ],
   "source": [
    "df.cov()"
   ]
  },
  {
   "cell_type": "code",
   "execution_count": 1016,
   "id": "4c6fedd1",
   "metadata": {},
   "outputs": [
    {
     "data": {
      "application/vnd.microsoft.datawrangler.viewer.v0+json": {
       "columns": [
        {
         "name": "index",
         "rawType": "object",
         "type": "string"
        },
        {
         "name": "Lot Frontage",
         "rawType": "float64",
         "type": "float"
        },
        {
         "name": "Mas Vnr Area",
         "rawType": "float64",
         "type": "float"
        }
       ],
       "ref": "c7d685c4-589e-449b-ae72-e4ea7fc15c2f",
       "rows": [
        [
         "Lot Frontage",
         "1.0",
         "0.2224065777232368"
        ],
        [
         "Mas Vnr Area",
         "0.2224065777232368",
         "1.0"
        ]
       ],
       "shape": {
        "columns": 2,
        "rows": 2
       }
      },
      "text/html": [
       "<div>\n",
       "<style scoped>\n",
       "    .dataframe tbody tr th:only-of-type {\n",
       "        vertical-align: middle;\n",
       "    }\n",
       "\n",
       "    .dataframe tbody tr th {\n",
       "        vertical-align: top;\n",
       "    }\n",
       "\n",
       "    .dataframe thead th {\n",
       "        text-align: right;\n",
       "    }\n",
       "</style>\n",
       "<table border=\"1\" class=\"dataframe\">\n",
       "  <thead>\n",
       "    <tr style=\"text-align: right;\">\n",
       "      <th></th>\n",
       "      <th>Lot Frontage</th>\n",
       "      <th>Mas Vnr Area</th>\n",
       "    </tr>\n",
       "  </thead>\n",
       "  <tbody>\n",
       "    <tr>\n",
       "      <th>Lot Frontage</th>\n",
       "      <td>1.000000</td>\n",
       "      <td>0.222407</td>\n",
       "    </tr>\n",
       "    <tr>\n",
       "      <th>Mas Vnr Area</th>\n",
       "      <td>0.222407</td>\n",
       "      <td>1.000000</td>\n",
       "    </tr>\n",
       "  </tbody>\n",
       "</table>\n",
       "</div>"
      ],
      "text/plain": [
       "              Lot Frontage  Mas Vnr Area\n",
       "Lot Frontage      1.000000      0.222407\n",
       "Mas Vnr Area      0.222407      1.000000"
      ]
     },
     "execution_count": 1016,
     "metadata": {},
     "output_type": "execute_result"
    }
   ],
   "source": [
    "df.corr()"
   ]
  },
  {
   "cell_type": "code",
   "execution_count": null,
   "id": "651209d1",
   "metadata": {},
   "outputs": [],
   "source": []
  }
 ],
 "metadata": {
  "kernelspec": {
   "display_name": "git_venv",
   "language": "python",
   "name": "python3"
  },
  "language_info": {
   "codemirror_mode": {
    "name": "ipython",
    "version": 3
   },
   "file_extension": ".py",
   "mimetype": "text/x-python",
   "name": "python",
   "nbconvert_exporter": "python",
   "pygments_lexer": "ipython3",
   "version": "3.13.1"
  }
 },
 "nbformat": 4,
 "nbformat_minor": 5
}
