{
 "cells": [
  {
   "cell_type": "code",
   "execution_count": 41,
   "id": "0d3f3479",
   "metadata": {},
   "outputs": [],
   "source": [
    "import numpy as np\n",
    "import pandas as pd\n",
    "import matplotlib.pyplot as plt\n",
    "import seaborn as sns\n"
   ]
  },
  {
   "cell_type": "code",
   "execution_count": 42,
   "id": "b800dcb2",
   "metadata": {},
   "outputs": [
    {
     "data": {
      "application/vnd.microsoft.datawrangler.viewer.v0+json": {
       "columns": [
        {
         "name": "index",
         "rawType": "int64",
         "type": "integer"
        },
        {
         "name": "enrollee_id",
         "rawType": "int64",
         "type": "integer"
        },
        {
         "name": "city",
         "rawType": "object",
         "type": "string"
        },
        {
         "name": "city_development_index",
         "rawType": "float64",
         "type": "float"
        },
        {
         "name": "gender",
         "rawType": "object",
         "type": "unknown"
        },
        {
         "name": "relevent_experience",
         "rawType": "object",
         "type": "string"
        },
        {
         "name": "enrolled_university",
         "rawType": "object",
         "type": "unknown"
        },
        {
         "name": "education_level",
         "rawType": "object",
         "type": "string"
        },
        {
         "name": "major_discipline",
         "rawType": "object",
         "type": "string"
        },
        {
         "name": "experience",
         "rawType": "float64",
         "type": "float"
        },
        {
         "name": "company_size",
         "rawType": "object",
         "type": "unknown"
        },
        {
         "name": "company_type",
         "rawType": "object",
         "type": "unknown"
        },
        {
         "name": "training_hours",
         "rawType": "float64",
         "type": "float"
        },
        {
         "name": "target",
         "rawType": "float64",
         "type": "float"
        }
       ],
       "ref": "b5c5a05c-cdf0-4ccd-a641-da2c582eae12",
       "rows": [
        [
         "0",
         "8949",
         "city_103",
         "0.92",
         "Male",
         "Has relevent experience",
         "no_enrollment",
         "Graduate",
         "STEM",
         "20.0",
         null,
         null,
         "36.0",
         "1.0"
        ],
        [
         "1",
         "29725",
         "city_40",
         "0.7759999999999999",
         "Male",
         "No relevent experience",
         "no_enrollment",
         "Graduate",
         "STEM",
         "15.0",
         "50-99",
         "Pvt Ltd",
         "47.0",
         "0.0"
        ],
        [
         "2",
         "11561",
         "city_21",
         "0.624",
         null,
         "No relevent experience",
         "Full time course",
         "Graduate",
         "STEM",
         "5.0",
         null,
         null,
         "83.0",
         "0.0"
        ],
        [
         "3",
         "33241",
         "city_115",
         "0.789",
         null,
         "No relevent experience",
         null,
         "Graduate",
         "Business Degree",
         "0.0",
         null,
         "Pvt Ltd",
         "52.0",
         "1.0"
        ],
        [
         "4",
         "666",
         "city_162",
         "0.767",
         "Male",
         "Has relevent experience",
         "no_enrollment",
         "Masters",
         "STEM",
         "20.0",
         "50-99",
         "Funded Startup",
         "8.0",
         "0.0"
        ]
       ],
       "shape": {
        "columns": 13,
        "rows": 5
       }
      },
      "text/html": [
       "<div>\n",
       "<style scoped>\n",
       "    .dataframe tbody tr th:only-of-type {\n",
       "        vertical-align: middle;\n",
       "    }\n",
       "\n",
       "    .dataframe tbody tr th {\n",
       "        vertical-align: top;\n",
       "    }\n",
       "\n",
       "    .dataframe thead th {\n",
       "        text-align: right;\n",
       "    }\n",
       "</style>\n",
       "<table border=\"1\" class=\"dataframe\">\n",
       "  <thead>\n",
       "    <tr style=\"text-align: right;\">\n",
       "      <th></th>\n",
       "      <th>enrollee_id</th>\n",
       "      <th>city</th>\n",
       "      <th>city_development_index</th>\n",
       "      <th>gender</th>\n",
       "      <th>relevent_experience</th>\n",
       "      <th>enrolled_university</th>\n",
       "      <th>education_level</th>\n",
       "      <th>major_discipline</th>\n",
       "      <th>experience</th>\n",
       "      <th>company_size</th>\n",
       "      <th>company_type</th>\n",
       "      <th>training_hours</th>\n",
       "      <th>target</th>\n",
       "    </tr>\n",
       "  </thead>\n",
       "  <tbody>\n",
       "    <tr>\n",
       "      <th>0</th>\n",
       "      <td>8949</td>\n",
       "      <td>city_103</td>\n",
       "      <td>0.920</td>\n",
       "      <td>Male</td>\n",
       "      <td>Has relevent experience</td>\n",
       "      <td>no_enrollment</td>\n",
       "      <td>Graduate</td>\n",
       "      <td>STEM</td>\n",
       "      <td>20.0</td>\n",
       "      <td>NaN</td>\n",
       "      <td>NaN</td>\n",
       "      <td>36.0</td>\n",
       "      <td>1.0</td>\n",
       "    </tr>\n",
       "    <tr>\n",
       "      <th>1</th>\n",
       "      <td>29725</td>\n",
       "      <td>city_40</td>\n",
       "      <td>0.776</td>\n",
       "      <td>Male</td>\n",
       "      <td>No relevent experience</td>\n",
       "      <td>no_enrollment</td>\n",
       "      <td>Graduate</td>\n",
       "      <td>STEM</td>\n",
       "      <td>15.0</td>\n",
       "      <td>50-99</td>\n",
       "      <td>Pvt Ltd</td>\n",
       "      <td>47.0</td>\n",
       "      <td>0.0</td>\n",
       "    </tr>\n",
       "    <tr>\n",
       "      <th>2</th>\n",
       "      <td>11561</td>\n",
       "      <td>city_21</td>\n",
       "      <td>0.624</td>\n",
       "      <td>NaN</td>\n",
       "      <td>No relevent experience</td>\n",
       "      <td>Full time course</td>\n",
       "      <td>Graduate</td>\n",
       "      <td>STEM</td>\n",
       "      <td>5.0</td>\n",
       "      <td>NaN</td>\n",
       "      <td>NaN</td>\n",
       "      <td>83.0</td>\n",
       "      <td>0.0</td>\n",
       "    </tr>\n",
       "    <tr>\n",
       "      <th>3</th>\n",
       "      <td>33241</td>\n",
       "      <td>city_115</td>\n",
       "      <td>0.789</td>\n",
       "      <td>NaN</td>\n",
       "      <td>No relevent experience</td>\n",
       "      <td>NaN</td>\n",
       "      <td>Graduate</td>\n",
       "      <td>Business Degree</td>\n",
       "      <td>0.0</td>\n",
       "      <td>NaN</td>\n",
       "      <td>Pvt Ltd</td>\n",
       "      <td>52.0</td>\n",
       "      <td>1.0</td>\n",
       "    </tr>\n",
       "    <tr>\n",
       "      <th>4</th>\n",
       "      <td>666</td>\n",
       "      <td>city_162</td>\n",
       "      <td>0.767</td>\n",
       "      <td>Male</td>\n",
       "      <td>Has relevent experience</td>\n",
       "      <td>no_enrollment</td>\n",
       "      <td>Masters</td>\n",
       "      <td>STEM</td>\n",
       "      <td>20.0</td>\n",
       "      <td>50-99</td>\n",
       "      <td>Funded Startup</td>\n",
       "      <td>8.0</td>\n",
       "      <td>0.0</td>\n",
       "    </tr>\n",
       "  </tbody>\n",
       "</table>\n",
       "</div>"
      ],
      "text/plain": [
       "   enrollee_id      city  city_development_index gender  \\\n",
       "0         8949  city_103                   0.920   Male   \n",
       "1        29725   city_40                   0.776   Male   \n",
       "2        11561   city_21                   0.624    NaN   \n",
       "3        33241  city_115                   0.789    NaN   \n",
       "4          666  city_162                   0.767   Male   \n",
       "\n",
       "       relevent_experience enrolled_university education_level  \\\n",
       "0  Has relevent experience       no_enrollment        Graduate   \n",
       "1   No relevent experience       no_enrollment        Graduate   \n",
       "2   No relevent experience    Full time course        Graduate   \n",
       "3   No relevent experience                 NaN        Graduate   \n",
       "4  Has relevent experience       no_enrollment         Masters   \n",
       "\n",
       "  major_discipline  experience company_size    company_type  training_hours  \\\n",
       "0             STEM        20.0          NaN             NaN            36.0   \n",
       "1             STEM        15.0        50-99         Pvt Ltd            47.0   \n",
       "2             STEM         5.0          NaN             NaN            83.0   \n",
       "3  Business Degree         0.0          NaN         Pvt Ltd            52.0   \n",
       "4             STEM        20.0        50-99  Funded Startup             8.0   \n",
       "\n",
       "   target  \n",
       "0     1.0  \n",
       "1     0.0  \n",
       "2     0.0  \n",
       "3     1.0  \n",
       "4     0.0  "
      ]
     },
     "execution_count": 42,
     "metadata": {},
     "output_type": "execute_result"
    }
   ],
   "source": [
    "df  = pd.read_csv(\"data_science_job.csv\")\n",
    "df.head()"
   ]
  },
  {
   "cell_type": "code",
   "execution_count": 43,
   "id": "816901af",
   "metadata": {},
   "outputs": [
    {
     "data": {
      "application/vnd.microsoft.datawrangler.viewer.v0+json": {
       "columns": [
        {
         "name": "index",
         "rawType": "object",
         "type": "string"
        },
        {
         "name": "0",
         "rawType": "float64",
         "type": "float"
        }
       ],
       "ref": "545c9af0-5e09-4f97-9b19-c1494fd1ae57",
       "rows": [
        [
         "enrollee_id",
         "0.0"
        ],
        [
         "city",
         "0.0"
        ],
        [
         "city_development_index",
         "2.5002609875769912"
        ],
        [
         "gender",
         "23.530639941538784"
        ],
        [
         "relevent_experience",
         "0.0"
        ],
        [
         "enrolled_university",
         "2.0148240943731075"
        ],
        [
         "education_level",
         "2.401085708320284"
        ],
        [
         "major_discipline",
         "14.68316108153252"
        ],
        [
         "experience",
         "0.33928385008873574"
        ],
        [
         "company_size",
         "30.994884643490973"
        ],
        [
         "company_type",
         "32.04927445453596"
        ],
        [
         "training_hours",
         "3.998329679507256"
        ],
        [
         "target",
         "0.0"
        ]
       ],
       "shape": {
        "columns": 1,
        "rows": 13
       }
      },
      "text/plain": [
       "enrollee_id                0.000000\n",
       "city                       0.000000\n",
       "city_development_index     2.500261\n",
       "gender                    23.530640\n",
       "relevent_experience        0.000000\n",
       "enrolled_university        2.014824\n",
       "education_level            2.401086\n",
       "major_discipline          14.683161\n",
       "experience                 0.339284\n",
       "company_size              30.994885\n",
       "company_type              32.049274\n",
       "training_hours             3.998330\n",
       "target                     0.000000\n",
       "dtype: float64"
      ]
     },
     "execution_count": 43,
     "metadata": {},
     "output_type": "execute_result"
    }
   ],
   "source": [
    "df.isna().mean()*100"
   ]
  },
  {
   "cell_type": "code",
   "execution_count": 44,
   "id": "54caf95a",
   "metadata": {},
   "outputs": [
    {
     "data": {
      "text/plain": [
       "['city_development_index',\n",
       " 'enrolled_university',\n",
       " 'education_level',\n",
       " 'experience',\n",
       " 'training_hours']"
      ]
     },
     "execution_count": 44,
     "metadata": {},
     "output_type": "execute_result"
    }
   ],
   "source": [
    "col = [var for var in df.columns if df[f\"{var}\"].isnull().mean()*100<5.00 and df[f\"{var}\"].isnull().mean()*100 > 0.00 ]\n",
    "col"
   ]
  },
  {
   "cell_type": "code",
   "execution_count": 45,
   "id": "e08d84c1",
   "metadata": {},
   "outputs": [
    {
     "data": {
      "application/vnd.microsoft.datawrangler.viewer.v0+json": {
       "columns": [
        {
         "name": "index",
         "rawType": "int64",
         "type": "integer"
        },
        {
         "name": "city_development_index",
         "rawType": "float64",
         "type": "float"
        },
        {
         "name": "enrolled_university",
         "rawType": "object",
         "type": "unknown"
        },
        {
         "name": "education_level",
         "rawType": "object",
         "type": "unknown"
        },
        {
         "name": "experience",
         "rawType": "float64",
         "type": "float"
        },
        {
         "name": "training_hours",
         "rawType": "float64",
         "type": "float"
        }
       ],
       "ref": "32803d37-96b0-449d-88cd-aa7539478805",
       "rows": [
        [
         "0",
         "0.92",
         "no_enrollment",
         "Graduate",
         "20.0",
         "36.0"
        ],
        [
         "1",
         "0.7759999999999999",
         "no_enrollment",
         "Graduate",
         "15.0",
         "47.0"
        ],
        [
         "2",
         "0.624",
         "Full time course",
         "Graduate",
         "5.0",
         "83.0"
        ],
        [
         "3",
         "0.789",
         null,
         "Graduate",
         "0.0",
         "52.0"
        ],
        [
         "4",
         "0.767",
         "no_enrollment",
         "Masters",
         "20.0",
         "8.0"
        ],
        [
         "5",
         "0.764",
         "Part time course",
         "Graduate",
         "11.0",
         "24.0"
        ],
        [
         "6",
         "0.92",
         "no_enrollment",
         "High School",
         "5.0",
         "24.0"
        ],
        [
         "7",
         "0.762",
         "no_enrollment",
         "Graduate",
         "13.0",
         "18.0"
        ],
        [
         "8",
         "0.92",
         "no_enrollment",
         "Graduate",
         "7.0",
         "46.0"
        ],
        [
         "9",
         "0.92",
         "no_enrollment",
         "Graduate",
         "17.0",
         "123.0"
        ],
        [
         "10",
         "0.624",
         "Full time course",
         "High School",
         "2.0",
         "32.0"
        ],
        [
         "11",
         "0.92",
         "no_enrollment",
         "Graduate",
         "5.0",
         "108.0"
        ],
        [
         "12",
         "0.913",
         "no_enrollment",
         "Graduate",
         "20.0",
         "23.0"
        ],
        [
         "13",
         "0.624",
         null,
         null,
         "2.0",
         "24.0"
        ],
        [
         "14",
         "0.624",
         "Full time course",
         "High School",
         "5.0",
         "26.0"
        ],
        [
         "15",
         "0.926",
         "no_enrollment",
         "Graduate",
         "16.0",
         "18.0"
        ],
        [
         "16",
         "0.92",
         "no_enrollment",
         "Graduate",
         "1.0",
         "106.0"
        ],
        [
         "17",
         "0.624",
         "no_enrollment",
         "Graduate",
         "2.0",
         "7.0"
        ],
        [
         "18",
         "0.624",
         "no_enrollment",
         "Graduate",
         "7.0",
         "23.0"
        ],
        [
         "19",
         "0.8270000000000001",
         "no_enrollment",
         "Graduate",
         "4.0",
         "132.0"
        ],
        [
         "20",
         "0.843",
         "no_enrollment",
         "Masters",
         "11.0",
         "68.0"
        ],
        [
         "21",
         "0.926",
         "no_enrollment",
         "Masters",
         "11.0",
         "50.0"
        ],
        [
         "22",
         "0.804",
         "no_enrollment",
         "Masters",
         "10.0",
         "48.0"
        ],
        [
         "23",
         "0.7759999999999999",
         "no_enrollment",
         "Graduate",
         "0.0",
         "65.0"
        ],
        [
         "24",
         null,
         "no_enrollment",
         "Graduate",
         "5.0",
         "13.0"
        ],
        [
         "25",
         "0.855",
         "no_enrollment",
         "High School",
         "4.0",
         "22.0"
        ],
        [
         "26",
         "0.624",
         "Part time course",
         "Graduate",
         "14.0",
         "148.0"
        ],
        [
         "27",
         "0.92",
         "no_enrollment",
         "Graduate",
         "5.0",
         "72.0"
        ],
        [
         "28",
         "0.887",
         "no_enrollment",
         "High School",
         "11.0",
         "8.0"
        ],
        [
         "29",
         "0.624",
         "no_enrollment",
         "Graduate",
         "18.0",
         "68.0"
        ],
        [
         "30",
         "0.92",
         "no_enrollment",
         "Graduate",
         "20.0",
         "40.0"
        ],
        [
         "31",
         "0.92",
         "Part time course",
         "Graduate",
         "19.0",
         "141.0"
        ],
        [
         "32",
         "0.92",
         "Full time course",
         "Graduate",
         "5.0",
         "24.0"
        ],
        [
         "33",
         "0.92",
         "no_enrollment",
         "Graduate",
         "20.0",
         "82.0"
        ],
        [
         "34",
         "0.91",
         "no_enrollment",
         "Graduate",
         "12.0",
         "145.0"
        ],
        [
         "35",
         "0.92",
         "no_enrollment",
         "Graduate",
         "10.0",
         null
        ],
        [
         "36",
         "0.926",
         "Part time course",
         "High School",
         "1.0",
         "152.0"
        ],
        [
         "37",
         null,
         "no_enrollment",
         "Phd",
         "20.0",
         "42.0"
        ],
        [
         "38",
         "0.92",
         "no_enrollment",
         "Graduate",
         "12.0",
         "50.0"
        ],
        [
         "39",
         "0.884",
         "no_enrollment",
         null,
         "3.0",
         "106.0"
        ],
        [
         "40",
         "0.926",
         "Full time course",
         "Masters",
         "16.0",
         "14.0"
        ],
        [
         "41",
         "0.924",
         "no_enrollment",
         "High School",
         "4.0",
         "36.0"
        ],
        [
         "42",
         "0.624",
         "no_enrollment",
         "Masters",
         "6.0",
         "112.0"
        ],
        [
         "43",
         "0.6659999999999999",
         "no_enrollment",
         "Graduate",
         "9.0",
         "108.0"
        ],
        [
         "44",
         "0.624",
         "Part time course",
         "Masters",
         "9.0",
         "7.0"
        ],
        [
         "45",
         "0.624",
         "Full time course",
         "Masters",
         "5.0",
         "26.0"
        ],
        [
         "46",
         null,
         "no_enrollment",
         "Graduate",
         "5.0",
         "87.0"
        ],
        [
         "47",
         "0.92",
         "no_enrollment",
         "Graduate",
         "19.0",
         "52.0"
        ],
        [
         "48",
         "0.5579999999999999",
         "no_enrollment",
         "Graduate",
         "15.0",
         "20.0"
        ],
        [
         "49",
         "0.923",
         "no_enrollment",
         "Graduate",
         "11.0",
         "21.0"
        ]
       ],
       "shape": {
        "columns": 5,
        "rows": 19158
       }
      },
      "text/html": [
       "<div>\n",
       "<style scoped>\n",
       "    .dataframe tbody tr th:only-of-type {\n",
       "        vertical-align: middle;\n",
       "    }\n",
       "\n",
       "    .dataframe tbody tr th {\n",
       "        vertical-align: top;\n",
       "    }\n",
       "\n",
       "    .dataframe thead th {\n",
       "        text-align: right;\n",
       "    }\n",
       "</style>\n",
       "<table border=\"1\" class=\"dataframe\">\n",
       "  <thead>\n",
       "    <tr style=\"text-align: right;\">\n",
       "      <th></th>\n",
       "      <th>city_development_index</th>\n",
       "      <th>enrolled_university</th>\n",
       "      <th>education_level</th>\n",
       "      <th>experience</th>\n",
       "      <th>training_hours</th>\n",
       "    </tr>\n",
       "  </thead>\n",
       "  <tbody>\n",
       "    <tr>\n",
       "      <th>0</th>\n",
       "      <td>0.920</td>\n",
       "      <td>no_enrollment</td>\n",
       "      <td>Graduate</td>\n",
       "      <td>20.0</td>\n",
       "      <td>36.0</td>\n",
       "    </tr>\n",
       "    <tr>\n",
       "      <th>1</th>\n",
       "      <td>0.776</td>\n",
       "      <td>no_enrollment</td>\n",
       "      <td>Graduate</td>\n",
       "      <td>15.0</td>\n",
       "      <td>47.0</td>\n",
       "    </tr>\n",
       "    <tr>\n",
       "      <th>2</th>\n",
       "      <td>0.624</td>\n",
       "      <td>Full time course</td>\n",
       "      <td>Graduate</td>\n",
       "      <td>5.0</td>\n",
       "      <td>83.0</td>\n",
       "    </tr>\n",
       "    <tr>\n",
       "      <th>3</th>\n",
       "      <td>0.789</td>\n",
       "      <td>NaN</td>\n",
       "      <td>Graduate</td>\n",
       "      <td>0.0</td>\n",
       "      <td>52.0</td>\n",
       "    </tr>\n",
       "    <tr>\n",
       "      <th>4</th>\n",
       "      <td>0.767</td>\n",
       "      <td>no_enrollment</td>\n",
       "      <td>Masters</td>\n",
       "      <td>20.0</td>\n",
       "      <td>8.0</td>\n",
       "    </tr>\n",
       "    <tr>\n",
       "      <th>...</th>\n",
       "      <td>...</td>\n",
       "      <td>...</td>\n",
       "      <td>...</td>\n",
       "      <td>...</td>\n",
       "      <td>...</td>\n",
       "    </tr>\n",
       "    <tr>\n",
       "      <th>19153</th>\n",
       "      <td>0.878</td>\n",
       "      <td>no_enrollment</td>\n",
       "      <td>Graduate</td>\n",
       "      <td>14.0</td>\n",
       "      <td>42.0</td>\n",
       "    </tr>\n",
       "    <tr>\n",
       "      <th>19154</th>\n",
       "      <td>0.920</td>\n",
       "      <td>no_enrollment</td>\n",
       "      <td>Graduate</td>\n",
       "      <td>14.0</td>\n",
       "      <td>52.0</td>\n",
       "    </tr>\n",
       "    <tr>\n",
       "      <th>19155</th>\n",
       "      <td>0.920</td>\n",
       "      <td>no_enrollment</td>\n",
       "      <td>Graduate</td>\n",
       "      <td>20.0</td>\n",
       "      <td>44.0</td>\n",
       "    </tr>\n",
       "    <tr>\n",
       "      <th>19156</th>\n",
       "      <td>0.802</td>\n",
       "      <td>no_enrollment</td>\n",
       "      <td>High School</td>\n",
       "      <td>0.0</td>\n",
       "      <td>97.0</td>\n",
       "    </tr>\n",
       "    <tr>\n",
       "      <th>19157</th>\n",
       "      <td>0.855</td>\n",
       "      <td>no_enrollment</td>\n",
       "      <td>Primary School</td>\n",
       "      <td>2.0</td>\n",
       "      <td>127.0</td>\n",
       "    </tr>\n",
       "  </tbody>\n",
       "</table>\n",
       "<p>19158 rows × 5 columns</p>\n",
       "</div>"
      ],
      "text/plain": [
       "       city_development_index enrolled_university education_level  experience  \\\n",
       "0                       0.920       no_enrollment        Graduate        20.0   \n",
       "1                       0.776       no_enrollment        Graduate        15.0   \n",
       "2                       0.624    Full time course        Graduate         5.0   \n",
       "3                       0.789                 NaN        Graduate         0.0   \n",
       "4                       0.767       no_enrollment         Masters        20.0   \n",
       "...                       ...                 ...             ...         ...   \n",
       "19153                   0.878       no_enrollment        Graduate        14.0   \n",
       "19154                   0.920       no_enrollment        Graduate        14.0   \n",
       "19155                   0.920       no_enrollment        Graduate        20.0   \n",
       "19156                   0.802       no_enrollment     High School         0.0   \n",
       "19157                   0.855       no_enrollment  Primary School         2.0   \n",
       "\n",
       "       training_hours  \n",
       "0                36.0  \n",
       "1                47.0  \n",
       "2                83.0  \n",
       "3                52.0  \n",
       "4                 8.0  \n",
       "...               ...  \n",
       "19153            42.0  \n",
       "19154            52.0  \n",
       "19155            44.0  \n",
       "19156            97.0  \n",
       "19157           127.0  \n",
       "\n",
       "[19158 rows x 5 columns]"
      ]
     },
     "execution_count": 45,
     "metadata": {},
     "output_type": "execute_result"
    }
   ],
   "source": [
    "df = df[col]\n",
    "df"
   ]
  },
  {
   "cell_type": "code",
   "execution_count": 46,
   "id": "05c10c0d",
   "metadata": {},
   "outputs": [],
   "source": [
    "new_df = df.dropna()"
   ]
  },
  {
   "cell_type": "code",
   "execution_count": 47,
   "id": "6e54e61b",
   "metadata": {},
   "outputs": [
    {
     "data": {
      "text/plain": [
       "0.8968577095730244"
      ]
     },
     "execution_count": 47,
     "metadata": {},
     "output_type": "execute_result"
    }
   ],
   "source": [
    "new_df.shape[0]/df.shape[0]"
   ]
  },
  {
   "cell_type": "code",
   "execution_count": 63,
   "id": "a03be00d",
   "metadata": {},
   "outputs": [
    {
     "data": {
      "text/plain": [
       "<Axes: xlabel='training_hours', ylabel='Density'>"
      ]
     },
     "execution_count": 63,
     "metadata": {},
     "output_type": "execute_result"
    },
    {
     "data": {
      "image/png": "[encoded data removed]",
      "text/plain": [
       "<Figure size 1000x400 with 2 Axes>"
      ]
     },
     "metadata": {},
     "output_type": "display_data"
    }
   ],
   "source": [
    "fig,(ax1,ax2)= plt.subplots(ncols=2,nrows=1,figsize = (10,4))\n",
    "sns.histplot(df[\"training_hours\"],color='red',ax=ax1)\n",
    "sns.histplot(new_df[\"training_hours\"],ax=ax1,color='green')\n",
    "\n",
    "\n",
    "sns.kdeplot(df,x=df[\"training_hours\"],color='red',ax=ax2)\n",
    "sns.kdeplot(new_df[\"training_hours\"],ax=ax2,color='green')\n"
   ]
  },
  {
   "cell_type": "code",
   "execution_count": 64,
   "id": "62f98fa9",
   "metadata": {},
   "outputs": [
    {
     "data": {
      "text/plain": [
       "<Axes: xlabel='experience', ylabel='Density'>"
      ]
     },
     "execution_count": 64,
     "metadata": {},
     "output_type": "execute_result"
    },
    {
     "data": {
      "image/png": "[encoded data removed]",
      "text/plain": [
       "<Figure size 1000x400 with 2 Axes>"
      ]
     },
     "metadata": {},
     "output_type": "display_data"
    }
   ],
   "source": [
    "fig,(ax1,ax2)= plt.subplots(ncols=2,nrows=1,figsize = (10,4))\n",
    "sns.histplot(df[\"experience\"],color='red',ax=ax1)\n",
    "sns.histplot(new_df[\"experience\"],ax=ax1,color='green')\n",
    "\n",
    "\n",
    "sns.kdeplot(df,x=df[\"experience\"],color='red',ax=ax2)\n",
    "sns.kdeplot(new_df[\"experience\"],ax=ax2,color='green')\n"
   ]
  },
  {
   "cell_type": "code",
   "execution_count": 65,
   "id": "aff8cece",
   "metadata": {},
   "outputs": [
    {
     "data": {
      "text/plain": [
       "<Axes: xlabel='city_development_index', ylabel='Density'>"
      ]
     },
     "execution_count": 65,
     "metadata": {},
     "output_type": "execute_result"
    },
    {
     "data": {
      "image/png": "[encoded data removed]",
      "text/plain": [
       "<Figure size 1000x400 with 2 Axes>"
      ]
     },
     "metadata": {},
     "output_type": "display_data"
    }
   ],
   "source": [
    "fig,(ax1,ax2)= plt.subplots(ncols=2,nrows=1,figsize = (10,4))\n",
    "sns.histplot(df[\"city_development_index\"],color='red',ax=ax1)\n",
    "sns.histplot(new_df[\"city_development_index\"],ax=ax1,color='green')\n",
    "\n",
    "\n",
    "sns.kdeplot(df,x=df[\"city_development_index\"],color='red',ax=ax2)\n",
    "sns.kdeplot(new_df[\"city_development_index\"],ax=ax2,color='green')"
   ]
  },
  {
   "cell_type": "code",
   "execution_count": 68,
   "id": "650663c6",
   "metadata": {},
   "outputs": [
    {
     "data": {
      "text/plain": [
       "['enrolled_university', 'education_level']"
      ]
     },
     "execution_count": 68,
     "metadata": {},
     "output_type": "execute_result"
    }
   ],
   "source": [
    "col = [var for var in df.columns if df[var].dtypes==object]\n",
    "col"
   ]
  },
  {
   "cell_type": "code",
   "execution_count": 70,
   "id": "fc264f2f",
   "metadata": {},
   "outputs": [
    {
     "data": {
      "text/plain": [
       "<Axes: xlabel='enrolled_university', ylabel='Count'>"
      ]
     },
     "execution_count": 70,
     "metadata": {},
     "output_type": "execute_result"
    },
    {
     "data": {
      "image/png": "[encoded data removed]",
      "text/plain": [
       "<Figure size 640x480 with 1 Axes>"
      ]
     },
     "metadata": {},
     "output_type": "display_data"
    }
   ],
   "source": [
    "\n",
    "sns.histplot(df[\"enrolled_university\"])\n",
    "sns.histplot(new_df[\"enrolled_university\"])\n"
   ]
  },
  {
   "cell_type": "code",
   "execution_count": 82,
   "id": "baef473b",
   "metadata": {},
   "outputs": [
    {
     "data": {
      "application/vnd.microsoft.datawrangler.viewer.v0+json": {
       "columns": [
        {
         "name": "enrolled_university",
         "rawType": "object",
         "type": "string"
        },
        {
         "name": "count",
         "rawType": "float64",
         "type": "float"
        },
        {
         "name": "count",
         "rawType": "float64",
         "type": "float"
        }
       ],
       "ref": "30b4debc-7366-4988-abc6-6778e0815fb5",
       "rows": [
        [
         "no_enrollment",
         "72.12130702578557",
         "73.51879874287044"
        ],
        [
         "Full time course",
         "19.610606535128927",
         "20.073332557327436"
        ],
        [
         "Part time course",
         "6.253262344712391",
         "6.407868699802119"
        ]
       ],
       "shape": {
        "columns": 2,
        "rows": 3
       }
      },
      "text/html": [
       "<div>\n",
       "<style scoped>\n",
       "    .dataframe tbody tr th:only-of-type {\n",
       "        vertical-align: middle;\n",
       "    }\n",
       "\n",
       "    .dataframe tbody tr th {\n",
       "        vertical-align: top;\n",
       "    }\n",
       "\n",
       "    .dataframe thead th {\n",
       "        text-align: right;\n",
       "    }\n",
       "</style>\n",
       "<table border=\"1\" class=\"dataframe\">\n",
       "  <thead>\n",
       "    <tr style=\"text-align: right;\">\n",
       "      <th></th>\n",
       "      <th>count</th>\n",
       "      <th>count</th>\n",
       "    </tr>\n",
       "    <tr>\n",
       "      <th>enrolled_university</th>\n",
       "      <th></th>\n",
       "      <th></th>\n",
       "    </tr>\n",
       "  </thead>\n",
       "  <tbody>\n",
       "    <tr>\n",
       "      <th>no_enrollment</th>\n",
       "      <td>72.121307</td>\n",
       "      <td>73.518799</td>\n",
       "    </tr>\n",
       "    <tr>\n",
       "      <th>Full time course</th>\n",
       "      <td>19.610607</td>\n",
       "      <td>20.073333</td>\n",
       "    </tr>\n",
       "    <tr>\n",
       "      <th>Part time course</th>\n",
       "      <td>6.253262</td>\n",
       "      <td>6.407869</td>\n",
       "    </tr>\n",
       "  </tbody>\n",
       "</table>\n",
       "</div>"
      ],
      "text/plain": [
       "                         count      count\n",
       "enrolled_university                      \n",
       "no_enrollment        72.121307  73.518799\n",
       "Full time course     19.610607  20.073333\n",
       "Part time course      6.253262   6.407869"
      ]
     },
     "execution_count": 82,
     "metadata": {},
     "output_type": "execute_result"
    }
   ],
   "source": [
    "pd.concat([df[\"enrolled_university\"].value_counts()/len(df)*100,new_df[\"enrolled_university\"].value_counts()/len(new_df)*100],axis=1)"
   ]
  },
  {
   "cell_type": "code",
   "execution_count": 83,
   "id": "07f4c8b3",
   "metadata": {},
   "outputs": [
    {
     "data": {
      "application/vnd.microsoft.datawrangler.viewer.v0+json": {
       "columns": [
        {
         "name": "education_level",
         "rawType": "object",
         "type": "string"
        },
        {
         "name": "count",
         "rawType": "float64",
         "type": "float"
        },
        {
         "name": "count",
         "rawType": "float64",
         "type": "float"
        }
       ],
       "ref": "6b2fc59e-c12c-4d40-8185-09e38ec7a227",
       "rows": [
        [
         "Graduate",
         "60.53867835891011",
         "61.98347107438017"
        ],
        [
         "Masters",
         "22.76333646518426",
         "23.40821790245606"
        ],
        [
         "High School",
         "10.528238855830462",
         "10.737981608660226"
        ],
        [
         "Phd",
         "2.1609771374882554",
         "2.2116168082877428"
        ],
        [
         "Primary School",
         "1.607683474266625",
         "1.658712606215807"
        ]
       ],
       "shape": {
        "columns": 2,
        "rows": 5
       }
      },
      "text/html": [
       "<div>\n",
       "<style scoped>\n",
       "    .dataframe tbody tr th:only-of-type {\n",
       "        vertical-align: middle;\n",
       "    }\n",
       "\n",
       "    .dataframe tbody tr th {\n",
       "        vertical-align: top;\n",
       "    }\n",
       "\n",
       "    .dataframe thead th {\n",
       "        text-align: right;\n",
       "    }\n",
       "</style>\n",
       "<table border=\"1\" class=\"dataframe\">\n",
       "  <thead>\n",
       "    <tr style=\"text-align: right;\">\n",
       "      <th></th>\n",
       "      <th>count</th>\n",
       "      <th>count</th>\n",
       "    </tr>\n",
       "    <tr>\n",
       "      <th>education_level</th>\n",
       "      <th></th>\n",
       "      <th></th>\n",
       "    </tr>\n",
       "  </thead>\n",
       "  <tbody>\n",
       "    <tr>\n",
       "      <th>Graduate</th>\n",
       "      <td>60.538678</td>\n",
       "      <td>61.983471</td>\n",
       "    </tr>\n",
       "    <tr>\n",
       "      <th>Masters</th>\n",
       "      <td>22.763336</td>\n",
       "      <td>23.408218</td>\n",
       "    </tr>\n",
       "    <tr>\n",
       "      <th>High School</th>\n",
       "      <td>10.528239</td>\n",
       "      <td>10.737982</td>\n",
       "    </tr>\n",
       "    <tr>\n",
       "      <th>Phd</th>\n",
       "      <td>2.160977</td>\n",
       "      <td>2.211617</td>\n",
       "    </tr>\n",
       "    <tr>\n",
       "      <th>Primary School</th>\n",
       "      <td>1.607683</td>\n",
       "      <td>1.658713</td>\n",
       "    </tr>\n",
       "  </tbody>\n",
       "</table>\n",
       "</div>"
      ],
      "text/plain": [
       "                     count      count\n",
       "education_level                      \n",
       "Graduate         60.538678  61.983471\n",
       "Masters          22.763336  23.408218\n",
       "High School      10.528239  10.737982\n",
       "Phd               2.160977   2.211617\n",
       "Primary School    1.607683   1.658713"
      ]
     },
     "execution_count": 83,
     "metadata": {},
     "output_type": "execute_result"
    }
   ],
   "source": [
    "pd.concat([df[\"education_level\"].value_counts()/len(df)*100,new_df[\"education_level\"].value_counts()/len(new_df)*100],axis=1)"
   ]
  },
  {
   "cell_type": "code",
   "execution_count": null,
   "id": "ed7f93fe",
   "metadata": {},
   "outputs": [],
   "source": []
  }
 ],
 "metadata": {
  "kernelspec": {
   "display_name": "git_venv",
   "language": "python",
   "name": "python3"
  },
  "language_info": {
   "codemirror_mode": {
    "name": "ipython",
    "version": 3
   },
   "file_extension": ".py",
   "mimetype": "text/x-python",
   "name": "python",
   "nbconvert_exporter": "python",
   "pygments_lexer": "ipython3",
   "version": "3.13.1"
  }
 },
 "nbformat": 4,
 "nbformat_minor": 5
}
