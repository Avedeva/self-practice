{
 "cells": [
  {
   "cell_type": "code",
   "execution_count": 9,
   "id": "d0758bbd",
   "metadata": {},
   "outputs": [],
   "source": [
    "import numpy as np\n",
    "import pandas as pd\n",
    "import matplotlib.pyplot as plt\n",
    "import seaborn as sns"
   ]
  },
  {
   "cell_type": "code",
   "execution_count": 10,
   "id": "1f63bc65",
   "metadata": {},
   "outputs": [
    {
     "data": {
      "application/vnd.microsoft.datawrangler.viewer.v0+json": {
       "columns": [
        {
         "name": "index",
         "rawType": "int64",
         "type": "integer"
        },
        {
         "name": "cgpa",
         "rawType": "float64",
         "type": "float"
        },
        {
         "name": "placement_exam_marks",
         "rawType": "float64",
         "type": "float"
        },
        {
         "name": "placed",
         "rawType": "int64",
         "type": "integer"
        }
       ],
       "ref": "0a1854f9-b1d8-4748-aa03-08614809e9ea",
       "rows": [
        [
         "0",
         "7.19",
         "26.0",
         "1"
        ],
        [
         "1",
         "7.46",
         "38.0",
         "1"
        ],
        [
         "2",
         "7.54",
         "40.0",
         "1"
        ],
        [
         "3",
         "6.42",
         "8.0",
         "1"
        ],
        [
         "4",
         "7.23",
         "17.0",
         "0"
        ]
       ],
       "shape": {
        "columns": 3,
        "rows": 5
       }
      },
      "text/html": [
       "<div>\n",
       "<style scoped>\n",
       "    .dataframe tbody tr th:only-of-type {\n",
       "        vertical-align: middle;\n",
       "    }\n",
       "\n",
       "    .dataframe tbody tr th {\n",
       "        vertical-align: top;\n",
       "    }\n",
       "\n",
       "    .dataframe thead th {\n",
       "        text-align: right;\n",
       "    }\n",
       "</style>\n",
       "<table border=\"1\" class=\"dataframe\">\n",
       "  <thead>\n",
       "    <tr style=\"text-align: right;\">\n",
       "      <th></th>\n",
       "      <th>cgpa</th>\n",
       "      <th>placement_exam_marks</th>\n",
       "      <th>placed</th>\n",
       "    </tr>\n",
       "  </thead>\n",
       "  <tbody>\n",
       "    <tr>\n",
       "      <th>0</th>\n",
       "      <td>7.19</td>\n",
       "      <td>26.0</td>\n",
       "      <td>1</td>\n",
       "    </tr>\n",
       "    <tr>\n",
       "      <th>1</th>\n",
       "      <td>7.46</td>\n",
       "      <td>38.0</td>\n",
       "      <td>1</td>\n",
       "    </tr>\n",
       "    <tr>\n",
       "      <th>2</th>\n",
       "      <td>7.54</td>\n",
       "      <td>40.0</td>\n",
       "      <td>1</td>\n",
       "    </tr>\n",
       "    <tr>\n",
       "      <th>3</th>\n",
       "      <td>6.42</td>\n",
       "      <td>8.0</td>\n",
       "      <td>1</td>\n",
       "    </tr>\n",
       "    <tr>\n",
       "      <th>4</th>\n",
       "      <td>7.23</td>\n",
       "      <td>17.0</td>\n",
       "      <td>0</td>\n",
       "    </tr>\n",
       "  </tbody>\n",
       "</table>\n",
       "</div>"
      ],
      "text/plain": [
       "   cgpa  placement_exam_marks  placed\n",
       "0  7.19                  26.0       1\n",
       "1  7.46                  38.0       1\n",
       "2  7.54                  40.0       1\n",
       "3  6.42                   8.0       1\n",
       "4  7.23                  17.0       0"
      ]
     },
     "execution_count": 10,
     "metadata": {},
     "output_type": "execute_result"
    }
   ],
   "source": [
    "df = pd.read_csv(\"placement.csv\")\n",
    "df.head()\n"
   ]
  },
  {
   "cell_type": "code",
   "execution_count": 11,
   "id": "3402f447",
   "metadata": {},
   "outputs": [
    {
     "name": "stdout",
     "output_type": "stream",
     "text": [
      "The Outlier of CGPA is  8.81 and 5.11\n"
     ]
    }
   ],
   "source": [
    "print(\"The Outlier of CGPA is \",np.round(df[\"cgpa\"].mean() + 3*df[\"cgpa\"].std(),2),\"and\",np.round(df[\"cgpa\"].mean() - 3*df[\"cgpa\"].std(),2))"
   ]
  },
  {
   "cell_type": "code",
   "execution_count": 12,
   "id": "f9e32fd8",
   "metadata": {},
   "outputs": [
    {
     "name": "stdout",
     "output_type": "stream",
     "text": [
      "The Outlier of Exam is  89.62 and -25.17\n"
     ]
    }
   ],
   "source": [
    "print(\"The Outlier of Exam is \",np.round(df[\"placement_exam_marks\"].mean() + 3*df[\"placement_exam_marks\"].std(),2),\"and\",np.round(df[\"placement_exam_marks\"].mean() - 3*df[\"placement_exam_marks\"].std(),2))"
   ]
  },
  {
   "cell_type": "code",
   "execution_count": 14,
   "id": "87eb3f4c",
   "metadata": {},
   "outputs": [],
   "source": [
    "df[\"Z-Score-cgpa\"] = (df[\"cgpa\"] - df[\"cgpa\"].mean())/df[\"cgpa\"].std()"
   ]
  },
  {
   "cell_type": "code",
   "execution_count": 15,
   "id": "6d1f9933",
   "metadata": {},
   "outputs": [
    {
     "data": {
      "application/vnd.microsoft.datawrangler.viewer.v0+json": {
       "columns": [
        {
         "name": "index",
         "rawType": "int64",
         "type": "integer"
        },
        {
         "name": "cgpa",
         "rawType": "float64",
         "type": "float"
        },
        {
         "name": "placement_exam_marks",
         "rawType": "float64",
         "type": "float"
        },
        {
         "name": "placed",
         "rawType": "int64",
         "type": "integer"
        },
        {
         "name": "Z-Score-cgpa",
         "rawType": "float64",
         "type": "float"
        }
       ],
       "ref": "34a8cd14-9e77-4b72-b198-4c0f2f0d4808",
       "rows": [
        [
         "0",
         "7.19",
         "26.0",
         "1",
         "0.37142521388116084"
        ],
        [
         "1",
         "7.46",
         "38.0",
         "1",
         "0.8098095806756753"
        ],
        [
         "2",
         "7.54",
         "40.0",
         "1",
         "0.9397012449110874"
        ],
        [
         "3",
         "6.42",
         "8.0",
         "1",
         "-0.8787820543846796"
        ],
        [
         "4",
         "7.23",
         "17.0",
         "0",
         "0.43637104599886684"
        ],
        [
         "5",
         "7.3",
         "23.0",
         "1",
         "0.5500262522048514"
        ],
        [
         "6",
         "6.69",
         "11.0",
         "0",
         "-0.4403976875901636"
        ],
        [
         "7",
         "7.12",
         "39.0",
         "1",
         "0.25777000767517494"
        ],
        [
         "8",
         "6.45",
         "38.0",
         "0",
         "-0.8300726802963997"
        ],
        [
         "9",
         "7.75",
         "94.0",
         "1",
         "1.2806668635290437"
        ],
        [
         "10",
         "6.82",
         "16.0",
         "1",
         "-0.22932373320761942"
        ],
        [
         "11",
         "6.38",
         "7.0",
         "1",
         "-0.9437278865023856"
        ],
        [
         "12",
         "6.58",
         "16.0",
         "1",
         "-0.6189987259138555"
        ],
        [
         "13",
         "5.68",
         "26.0",
         "0",
         "-2.0802799485622403"
        ],
        [
         "14",
         "7.91",
         "43.0",
         "0",
         "1.5404501919998677"
        ],
        [
         "15",
         "7.1",
         "21.0",
         "0",
         "0.22529709161632122"
        ],
        [
         "16",
         "6.53",
         "19.0",
         "0",
         "-0.7001810160609877"
        ],
        [
         "17",
         "7.56",
         "22.0",
         "1",
         "0.9721741609699397"
        ],
        [
         "18",
         "6.93",
         "27.0",
         "0",
         "-0.050722694883928963"
        ],
        [
         "19",
         "7.63",
         "29.0",
         "0",
         "1.0858293671759256"
        ],
        [
         "20",
         "6.69",
         "47.0",
         "0",
         "-0.4403976875901636"
        ],
        [
         "21",
         "7.43",
         "33.0",
         "1",
         "0.7611002065873955"
        ],
        [
         "22",
         "6.76",
         "54.0",
         "1",
         "-0.32674248138417916"
        ],
        [
         "23",
         "6.05",
         "11.0",
         "0",
         "-1.4795310014734597"
        ],
        [
         "24",
         "6.44",
         "11.0",
         "0",
         "-0.8463091383258259"
        ],
        [
         "25",
         "6.28",
         "58.0",
         "1",
         "-1.1060924667966499"
        ],
        [
         "26",
         "7.45",
         "8.0",
         "1",
         "0.7935731226462492"
        ],
        [
         "27",
         "6.53",
         "46.0",
         "0",
         "-0.7001810160609877"
        ],
        [
         "28",
         "7.23",
         "19.0",
         "0",
         "0.43637104599886684"
        ],
        [
         "29",
         "6.51",
         "15.0",
         "1",
         "-0.7326539321198414"
        ],
        [
         "30",
         "7.46",
         "16.0",
         "0",
         "0.8098095806756753"
        ],
        [
         "31",
         "7.66",
         "44.0",
         "0",
         "1.1345387412642054"
        ],
        [
         "32",
         "5.91",
         "11.0",
         "1",
         "-1.7068414138854302"
        ],
        [
         "33",
         "6.23",
         "27.0",
         "0",
         "-1.187274756943782"
        ],
        [
         "34",
         "8.15",
         "9.0",
         "0",
         "1.9301251847061038"
        ],
        [
         "35",
         "7.48",
         "12.0",
         "0",
         "0.842282496734529"
        ],
        [
         "36",
         "6.85",
         "16.0",
         "1",
         "-0.18061435911934098"
        ],
        [
         "37",
         "8.51",
         "9.0",
         "1",
         "2.5146376737654563"
        ],
        [
         "38",
         "6.58",
         "20.0",
         "1",
         "-0.6189987259138555"
        ],
        [
         "39",
         "7.25",
         "17.0",
         "0",
         "0.46884396205771917"
        ],
        [
         "40",
         "6.6",
         "86.0",
         "1",
         "-0.5865258098550032"
        ],
        [
         "41",
         "6.7",
         "38.0",
         "0",
         "-0.4241612295607375"
        ],
        [
         "42",
         "7.46",
         "71.0",
         "1",
         "0.8098095806756753"
        ],
        [
         "43",
         "7.85",
         "63.0",
         "0",
         "1.4430314438233078"
        ],
        [
         "44",
         "7.88",
         "55.0",
         "0",
         "1.4917408179115879"
        ],
        [
         "45",
         "6.92",
         "10.0",
         "1",
         "-0.06695915291335511"
        ],
        [
         "46",
         "7.3",
         "15.0",
         "0",
         "0.5500262522048514"
        ],
        [
         "47",
         "6.92",
         "46.0",
         "0",
         "-0.06695915291335511"
        ],
        [
         "48",
         "6.29",
         "42.0",
         "0",
         "-1.0898560087672238"
        ],
        [
         "49",
         "8.23",
         "28.0",
         "1",
         "2.060016848941516"
        ]
       ],
       "shape": {
        "columns": 4,
        "rows": 1000
       }
      },
      "text/html": [
       "<div>\n",
       "<style scoped>\n",
       "    .dataframe tbody tr th:only-of-type {\n",
       "        vertical-align: middle;\n",
       "    }\n",
       "\n",
       "    .dataframe tbody tr th {\n",
       "        vertical-align: top;\n",
       "    }\n",
       "\n",
       "    .dataframe thead th {\n",
       "        text-align: right;\n",
       "    }\n",
       "</style>\n",
       "<table border=\"1\" class=\"dataframe\">\n",
       "  <thead>\n",
       "    <tr style=\"text-align: right;\">\n",
       "      <th></th>\n",
       "      <th>cgpa</th>\n",
       "      <th>placement_exam_marks</th>\n",
       "      <th>placed</th>\n",
       "      <th>Z-Score-cgpa</th>\n",
       "    </tr>\n",
       "  </thead>\n",
       "  <tbody>\n",
       "    <tr>\n",
       "      <th>0</th>\n",
       "      <td>7.19</td>\n",
       "      <td>26.0</td>\n",
       "      <td>1</td>\n",
       "      <td>0.371425</td>\n",
       "    </tr>\n",
       "    <tr>\n",
       "      <th>1</th>\n",
       "      <td>7.46</td>\n",
       "      <td>38.0</td>\n",
       "      <td>1</td>\n",
       "      <td>0.809810</td>\n",
       "    </tr>\n",
       "    <tr>\n",
       "      <th>2</th>\n",
       "      <td>7.54</td>\n",
       "      <td>40.0</td>\n",
       "      <td>1</td>\n",
       "      <td>0.939701</td>\n",
       "    </tr>\n",
       "    <tr>\n",
       "      <th>3</th>\n",
       "      <td>6.42</td>\n",
       "      <td>8.0</td>\n",
       "      <td>1</td>\n",
       "      <td>-0.878782</td>\n",
       "    </tr>\n",
       "    <tr>\n",
       "      <th>4</th>\n",
       "      <td>7.23</td>\n",
       "      <td>17.0</td>\n",
       "      <td>0</td>\n",
       "      <td>0.436371</td>\n",
       "    </tr>\n",
       "    <tr>\n",
       "      <th>...</th>\n",
       "      <td>...</td>\n",
       "      <td>...</td>\n",
       "      <td>...</td>\n",
       "      <td>...</td>\n",
       "    </tr>\n",
       "    <tr>\n",
       "      <th>995</th>\n",
       "      <td>8.87</td>\n",
       "      <td>44.0</td>\n",
       "      <td>1</td>\n",
       "      <td>3.099150</td>\n",
       "    </tr>\n",
       "    <tr>\n",
       "      <th>996</th>\n",
       "      <td>9.12</td>\n",
       "      <td>65.0</td>\n",
       "      <td>1</td>\n",
       "      <td>3.505062</td>\n",
       "    </tr>\n",
       "    <tr>\n",
       "      <th>997</th>\n",
       "      <td>4.89</td>\n",
       "      <td>34.0</td>\n",
       "      <td>0</td>\n",
       "      <td>-3.362960</td>\n",
       "    </tr>\n",
       "    <tr>\n",
       "      <th>998</th>\n",
       "      <td>8.62</td>\n",
       "      <td>46.0</td>\n",
       "      <td>1</td>\n",
       "      <td>2.693239</td>\n",
       "    </tr>\n",
       "    <tr>\n",
       "      <th>999</th>\n",
       "      <td>4.90</td>\n",
       "      <td>10.0</td>\n",
       "      <td>1</td>\n",
       "      <td>-3.346724</td>\n",
       "    </tr>\n",
       "  </tbody>\n",
       "</table>\n",
       "<p>1000 rows × 4 columns</p>\n",
       "</div>"
      ],
      "text/plain": [
       "     cgpa  placement_exam_marks  placed  Z-Score-cgpa\n",
       "0    7.19                  26.0       1      0.371425\n",
       "1    7.46                  38.0       1      0.809810\n",
       "2    7.54                  40.0       1      0.939701\n",
       "3    6.42                   8.0       1     -0.878782\n",
       "4    7.23                  17.0       0      0.436371\n",
       "..    ...                   ...     ...           ...\n",
       "995  8.87                  44.0       1      3.099150\n",
       "996  9.12                  65.0       1      3.505062\n",
       "997  4.89                  34.0       0     -3.362960\n",
       "998  8.62                  46.0       1      2.693239\n",
       "999  4.90                  10.0       1     -3.346724\n",
       "\n",
       "[1000 rows x 4 columns]"
      ]
     },
     "execution_count": 15,
     "metadata": {},
     "output_type": "execute_result"
    }
   ],
   "source": [
    "df"
   ]
  },
  {
   "cell_type": "code",
   "execution_count": 25,
   "id": "54d9289e",
   "metadata": {},
   "outputs": [
    {
     "data": {
      "application/vnd.microsoft.datawrangler.viewer.v0+json": {
       "columns": [
        {
         "name": "index",
         "rawType": "int64",
         "type": "integer"
        },
        {
         "name": "cgpa",
         "rawType": "float64",
         "type": "float"
        },
        {
         "name": "placement_exam_marks",
         "rawType": "float64",
         "type": "float"
        },
        {
         "name": "placed",
         "rawType": "int64",
         "type": "integer"
        },
        {
         "name": "Z-Score-cgpa",
         "rawType": "float64",
         "type": "float"
        }
       ],
       "ref": "9d9f7cfb-5fa8-4f0a-8916-9b3eed469aca",
       "rows": [
        [
         "485",
         "4.92",
         "44.0",
         "1",
         "-3.3142507587986527"
        ],
        [
         "997",
         "4.89",
         "34.0",
         "0",
         "-3.3629601328869327"
        ],
        [
         "999",
         "4.9",
         "10.0",
         "1",
         "-3.3467236748575053"
        ]
       ],
       "shape": {
        "columns": 4,
        "rows": 3
       }
      },
      "text/html": [
       "<div>\n",
       "<style scoped>\n",
       "    .dataframe tbody tr th:only-of-type {\n",
       "        vertical-align: middle;\n",
       "    }\n",
       "\n",
       "    .dataframe tbody tr th {\n",
       "        vertical-align: top;\n",
       "    }\n",
       "\n",
       "    .dataframe thead th {\n",
       "        text-align: right;\n",
       "    }\n",
       "</style>\n",
       "<table border=\"1\" class=\"dataframe\">\n",
       "  <thead>\n",
       "    <tr style=\"text-align: right;\">\n",
       "      <th></th>\n",
       "      <th>cgpa</th>\n",
       "      <th>placement_exam_marks</th>\n",
       "      <th>placed</th>\n",
       "      <th>Z-Score-cgpa</th>\n",
       "    </tr>\n",
       "  </thead>\n",
       "  <tbody>\n",
       "    <tr>\n",
       "      <th>485</th>\n",
       "      <td>4.92</td>\n",
       "      <td>44.0</td>\n",
       "      <td>1</td>\n",
       "      <td>-3.314251</td>\n",
       "    </tr>\n",
       "    <tr>\n",
       "      <th>997</th>\n",
       "      <td>4.89</td>\n",
       "      <td>34.0</td>\n",
       "      <td>0</td>\n",
       "      <td>-3.362960</td>\n",
       "    </tr>\n",
       "    <tr>\n",
       "      <th>999</th>\n",
       "      <td>4.90</td>\n",
       "      <td>10.0</td>\n",
       "      <td>1</td>\n",
       "      <td>-3.346724</td>\n",
       "    </tr>\n",
       "  </tbody>\n",
       "</table>\n",
       "</div>"
      ],
      "text/plain": [
       "     cgpa  placement_exam_marks  placed  Z-Score-cgpa\n",
       "485  4.92                  44.0       1     -3.314251\n",
       "997  4.89                  34.0       0     -3.362960\n",
       "999  4.90                  10.0       1     -3.346724"
      ]
     },
     "execution_count": 25,
     "metadata": {},
     "output_type": "execute_result"
    }
   ],
   "source": [
    "df[df[\"Z-Score-cgpa\"]>3]  \n",
    "df[df[\"Z-Score-cgpa\"]<-3] "
   ]
  },
  {
   "cell_type": "code",
   "execution_count": 27,
   "id": "a641e158",
   "metadata": {},
   "outputs": [],
   "source": [
    "upper_limit = np.round(df[\"cgpa\"].mean() + 3*df[\"cgpa\"].std(),2)\n",
    "lower_limit = np.round(df[\"cgpa\"].mean() - 3*df[\"cgpa\"].std(),2)"
   ]
  },
  {
   "cell_type": "code",
   "execution_count": 29,
   "id": "d4f1b646",
   "metadata": {},
   "outputs": [],
   "source": [
    "new_df = np.where(df[\"cgpa\"]>upper_limit,upper_limit,np.where(df[\"cgpa\"]<lower_limit,lower_limit,df[\"cgpa\"]))"
   ]
  },
  {
   "cell_type": "code",
   "execution_count": 31,
   "id": "7a716fcd",
   "metadata": {},
   "outputs": [],
   "source": [
    "df[\"n\"] = new_df"
   ]
  },
  {
   "cell_type": "code",
   "execution_count": 35,
   "id": "6e48edfb",
   "metadata": {},
   "outputs": [
    {
     "data": {
      "application/vnd.microsoft.datawrangler.viewer.v0+json": {
       "columns": [
        {
         "name": "index",
         "rawType": "object",
         "type": "string"
        },
        {
         "name": "n",
         "rawType": "float64",
         "type": "float"
        }
       ],
       "ref": "42df7d9f-1472-4134-9548-a2579d416589",
       "rows": [
        [
         "count",
         "1000.0"
        ],
        [
         "mean",
         "6.9614899999999995"
        ],
        [
         "std",
         "0.6127269491496308"
        ],
        [
         "min",
         "5.11"
        ],
        [
         "25%",
         "6.55"
        ],
        [
         "50%",
         "6.96"
        ],
        [
         "75%",
         "7.37"
        ],
        [
         "max",
         "8.81"
        ]
       ],
       "shape": {
        "columns": 1,
        "rows": 8
       }
      },
      "text/plain": [
       "count    1000.000000\n",
       "mean        6.961490\n",
       "std         0.612727\n",
       "min         5.110000\n",
       "25%         6.550000\n",
       "50%         6.960000\n",
       "75%         7.370000\n",
       "max         8.810000\n",
       "Name: n, dtype: float64"
      ]
     },
     "execution_count": 35,
     "metadata": {},
     "output_type": "execute_result"
    }
   ],
   "source": [
    "df[\"n\"].describe()"
   ]
  }
 ],
 "metadata": {
  "kernelspec": {
   "display_name": "git_venv",
   "language": "python",
   "name": "python3"
  },
  "language_info": {
   "codemirror_mode": {
    "name": "ipython",
    "version": 3
   },
   "file_extension": ".py",
   "mimetype": "text/x-python",
   "name": "python",
   "nbconvert_exporter": "python",
   "pygments_lexer": "ipython3",
   "version": "3.13.1"
  }
 },
 "nbformat": 4,
 "nbformat_minor": 5
}
