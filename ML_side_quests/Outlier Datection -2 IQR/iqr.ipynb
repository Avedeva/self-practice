{
 "cells": [
  {
   "cell_type": "code",
   "execution_count": 201,
   "id": "f2a1fff2",
   "metadata": {},
   "outputs": [],
   "source": [
    "import numpy as np\n",
    "import pandas as pd\n",
    "import matplotlib.pyplot as plt\n",
    "import seaborn as sns"
   ]
  },
  {
   "cell_type": "code",
   "execution_count": 202,
   "id": "393a634d",
   "metadata": {},
   "outputs": [
    {
     "data": {
      "application/vnd.microsoft.datawrangler.viewer.v0+json": {
       "columns": [
        {
         "name": "index",
         "rawType": "int64",
         "type": "integer"
        },
        {
         "name": "cgpa",
         "rawType": "float64",
         "type": "float"
        },
        {
         "name": "placement_exam_marks",
         "rawType": "float64",
         "type": "float"
        },
        {
         "name": "placed",
         "rawType": "int64",
         "type": "integer"
        }
       ],
       "ref": "e9b5dafe-fcdb-474f-a12a-2e791b5aabca",
       "rows": [
        [
         "0",
         "7.19",
         "26.0",
         "1"
        ],
        [
         "1",
         "7.46",
         "38.0",
         "1"
        ],
        [
         "2",
         "7.54",
         "40.0",
         "1"
        ],
        [
         "3",
         "6.42",
         "8.0",
         "1"
        ],
        [
         "4",
         "7.23",
         "17.0",
         "0"
        ]
       ],
       "shape": {
        "columns": 3,
        "rows": 5
       }
      },
      "text/html": [
       "<div>\n",
       "<style scoped>\n",
       "    .dataframe tbody tr th:only-of-type {\n",
       "        vertical-align: middle;\n",
       "    }\n",
       "\n",
       "    .dataframe tbody tr th {\n",
       "        vertical-align: top;\n",
       "    }\n",
       "\n",
       "    .dataframe thead th {\n",
       "        text-align: right;\n",
       "    }\n",
       "</style>\n",
       "<table border=\"1\" class=\"dataframe\">\n",
       "  <thead>\n",
       "    <tr style=\"text-align: right;\">\n",
       "      <th></th>\n",
       "      <th>cgpa</th>\n",
       "      <th>placement_exam_marks</th>\n",
       "      <th>placed</th>\n",
       "    </tr>\n",
       "  </thead>\n",
       "  <tbody>\n",
       "    <tr>\n",
       "      <th>0</th>\n",
       "      <td>7.19</td>\n",
       "      <td>26.0</td>\n",
       "      <td>1</td>\n",
       "    </tr>\n",
       "    <tr>\n",
       "      <th>1</th>\n",
       "      <td>7.46</td>\n",
       "      <td>38.0</td>\n",
       "      <td>1</td>\n",
       "    </tr>\n",
       "    <tr>\n",
       "      <th>2</th>\n",
       "      <td>7.54</td>\n",
       "      <td>40.0</td>\n",
       "      <td>1</td>\n",
       "    </tr>\n",
       "    <tr>\n",
       "      <th>3</th>\n",
       "      <td>6.42</td>\n",
       "      <td>8.0</td>\n",
       "      <td>1</td>\n",
       "    </tr>\n",
       "    <tr>\n",
       "      <th>4</th>\n",
       "      <td>7.23</td>\n",
       "      <td>17.0</td>\n",
       "      <td>0</td>\n",
       "    </tr>\n",
       "  </tbody>\n",
       "</table>\n",
       "</div>"
      ],
      "text/plain": [
       "   cgpa  placement_exam_marks  placed\n",
       "0  7.19                  26.0       1\n",
       "1  7.46                  38.0       1\n",
       "2  7.54                  40.0       1\n",
       "3  6.42                   8.0       1\n",
       "4  7.23                  17.0       0"
      ]
     },
     "execution_count": 202,
     "metadata": {},
     "output_type": "execute_result"
    }
   ],
   "source": [
    "df  = pd.read_csv(\"placement.csv\")\n",
    "df.head()"
   ]
  },
  {
   "cell_type": "code",
   "execution_count": 203,
   "id": "901e0069",
   "metadata": {},
   "outputs": [
    {
     "data": {
      "application/vnd.microsoft.datawrangler.viewer.v0+json": {
       "columns": [
        {
         "name": "index",
         "rawType": "object",
         "type": "string"
        },
        {
         "name": "0",
         "rawType": "float64",
         "type": "float"
        }
       ],
       "ref": "c604ea30-80de-4c32-9508-ab20619d2b37",
       "rows": [
        [
         "cgpa",
         "-0.014529938929314918"
        ],
        [
         "placement_exam_marks",
         "0.8356419499466834"
        ],
        [
         "placed",
         "0.04407679462601847"
        ]
       ],
       "shape": {
        "columns": 1,
        "rows": 3
       }
      },
      "text/plain": [
       "cgpa                   -0.014530\n",
       "placement_exam_marks    0.835642\n",
       "placed                  0.044077\n",
       "dtype: float64"
      ]
     },
     "execution_count": 203,
     "metadata": {},
     "output_type": "execute_result"
    }
   ],
   "source": [
    "df.skew()"
   ]
  },
  {
   "cell_type": "code",
   "execution_count": 204,
   "id": "9094dda2",
   "metadata": {},
   "outputs": [
    {
     "data": {
      "application/vnd.microsoft.datawrangler.viewer.v0+json": {
       "columns": [
        {
         "name": "index",
         "rawType": "int64",
         "type": "integer"
        },
        {
         "name": "placement_exam_marks",
         "rawType": "float64",
         "type": "float"
        }
       ],
       "ref": "e73e13d1-301b-4d09-9765-4b95ccfe28c4",
       "rows": [
        [
         "0",
         "26.0"
        ],
        [
         "1",
         "38.0"
        ],
        [
         "2",
         "40.0"
        ],
        [
         "3",
         "8.0"
        ],
        [
         "4",
         "17.0"
        ],
        [
         "5",
         "23.0"
        ],
        [
         "6",
         "11.0"
        ],
        [
         "7",
         "39.0"
        ],
        [
         "8",
         "38.0"
        ],
        [
         "9",
         "94.0"
        ],
        [
         "10",
         "16.0"
        ],
        [
         "11",
         "7.0"
        ],
        [
         "12",
         "16.0"
        ],
        [
         "13",
         "26.0"
        ],
        [
         "14",
         "43.0"
        ],
        [
         "15",
         "21.0"
        ],
        [
         "16",
         "19.0"
        ],
        [
         "17",
         "22.0"
        ],
        [
         "18",
         "27.0"
        ],
        [
         "19",
         "29.0"
        ],
        [
         "20",
         "47.0"
        ],
        [
         "21",
         "33.0"
        ],
        [
         "22",
         "54.0"
        ],
        [
         "23",
         "11.0"
        ],
        [
         "24",
         "11.0"
        ],
        [
         "25",
         "58.0"
        ],
        [
         "26",
         "8.0"
        ],
        [
         "27",
         "46.0"
        ],
        [
         "28",
         "19.0"
        ],
        [
         "29",
         "15.0"
        ],
        [
         "30",
         "16.0"
        ],
        [
         "31",
         "44.0"
        ],
        [
         "32",
         "11.0"
        ],
        [
         "33",
         "27.0"
        ],
        [
         "34",
         "9.0"
        ],
        [
         "35",
         "12.0"
        ],
        [
         "36",
         "16.0"
        ],
        [
         "37",
         "9.0"
        ],
        [
         "38",
         "20.0"
        ],
        [
         "39",
         "17.0"
        ],
        [
         "40",
         "86.0"
        ],
        [
         "41",
         "38.0"
        ],
        [
         "42",
         "71.0"
        ],
        [
         "43",
         "63.0"
        ],
        [
         "44",
         "55.0"
        ],
        [
         "45",
         "10.0"
        ],
        [
         "46",
         "15.0"
        ],
        [
         "47",
         "46.0"
        ],
        [
         "48",
         "42.0"
        ],
        [
         "49",
         "28.0"
        ]
       ],
       "shape": {
        "columns": 1,
        "rows": 1000
       }
      },
      "text/plain": [
       "0      26.0\n",
       "1      38.0\n",
       "2      40.0\n",
       "3       8.0\n",
       "4      17.0\n",
       "       ... \n",
       "995    44.0\n",
       "996    65.0\n",
       "997    34.0\n",
       "998    46.0\n",
       "999    10.0\n",
       "Name: placement_exam_marks, Length: 1000, dtype: float64"
      ]
     },
     "execution_count": 204,
     "metadata": {},
     "output_type": "execute_result"
    }
   ],
   "source": [
    "df[\"placement_exam_marks\"]"
   ]
  },
  {
   "cell_type": "code",
   "execution_count": 205,
   "id": "5c7a872f",
   "metadata": {},
   "outputs": [],
   "source": [
    "iqr = -np.percentile(df[\"placement_exam_marks\"],25) + np.percentile(df[\"placement_exam_marks\"],75)\n",
    "max = np.percentile(df[\"placement_exam_marks\"],75)+1.5*iqr\n",
    "min = np.percentile(df[\"placement_exam_marks\"],25)-1.5*iqr"
   ]
  },
  {
   "cell_type": "code",
   "execution_count": 206,
   "id": "1d375b7e",
   "metadata": {},
   "outputs": [
    {
     "data": {
      "text/plain": [
       "(np.float64(27.0), np.float64(84.5), np.float64(-23.5))"
      ]
     },
     "execution_count": 206,
     "metadata": {},
     "output_type": "execute_result"
    }
   ],
   "source": [
    "iqr,max,min"
   ]
  },
  {
   "cell_type": "code",
   "execution_count": 207,
   "id": "10143c45",
   "metadata": {},
   "outputs": [
    {
     "data": {
      "application/vnd.microsoft.datawrangler.viewer.v0+json": {
       "columns": [
        {
         "name": "index",
         "rawType": "int64",
         "type": "integer"
        },
        {
         "name": "cgpa",
         "rawType": "float64",
         "type": "float"
        },
        {
         "name": "placement_exam_marks",
         "rawType": "float64",
         "type": "float"
        },
        {
         "name": "placed",
         "rawType": "int64",
         "type": "integer"
        }
       ],
       "ref": "67babcda-df5b-4952-b7c4-70d664dd72d2",
       "rows": [
        [
         "9",
         "7.75",
         "94.0",
         "1"
        ],
        [
         "40",
         "6.6",
         "86.0",
         "1"
        ],
        [
         "61",
         "7.51",
         "86.0",
         "0"
        ],
        [
         "134",
         "6.33",
         "93.0",
         "0"
        ],
        [
         "162",
         "7.8",
         "90.0",
         "0"
        ],
        [
         "283",
         "7.09",
         "87.0",
         "0"
        ],
        [
         "290",
         "8.38",
         "87.0",
         "0"
        ],
        [
         "311",
         "6.97",
         "87.0",
         "1"
        ],
        [
         "324",
         "6.64",
         "90.0",
         "0"
        ],
        [
         "630",
         "6.56",
         "96.0",
         "1"
        ],
        [
         "685",
         "6.05",
         "87.0",
         "1"
        ],
        [
         "730",
         "6.14",
         "90.0",
         "1"
        ],
        [
         "771",
         "7.31",
         "86.0",
         "1"
        ],
        [
         "846",
         "6.99",
         "97.0",
         "0"
        ],
        [
         "917",
         "5.95",
         "100.0",
         "0"
        ]
       ],
       "shape": {
        "columns": 3,
        "rows": 15
       }
      },
      "text/html": [
       "<div>\n",
       "<style scoped>\n",
       "    .dataframe tbody tr th:only-of-type {\n",
       "        vertical-align: middle;\n",
       "    }\n",
       "\n",
       "    .dataframe tbody tr th {\n",
       "        vertical-align: top;\n",
       "    }\n",
       "\n",
       "    .dataframe thead th {\n",
       "        text-align: right;\n",
       "    }\n",
       "</style>\n",
       "<table border=\"1\" class=\"dataframe\">\n",
       "  <thead>\n",
       "    <tr style=\"text-align: right;\">\n",
       "      <th></th>\n",
       "      <th>cgpa</th>\n",
       "      <th>placement_exam_marks</th>\n",
       "      <th>placed</th>\n",
       "    </tr>\n",
       "  </thead>\n",
       "  <tbody>\n",
       "    <tr>\n",
       "      <th>9</th>\n",
       "      <td>7.75</td>\n",
       "      <td>94.0</td>\n",
       "      <td>1</td>\n",
       "    </tr>\n",
       "    <tr>\n",
       "      <th>40</th>\n",
       "      <td>6.60</td>\n",
       "      <td>86.0</td>\n",
       "      <td>1</td>\n",
       "    </tr>\n",
       "    <tr>\n",
       "      <th>61</th>\n",
       "      <td>7.51</td>\n",
       "      <td>86.0</td>\n",
       "      <td>0</td>\n",
       "    </tr>\n",
       "    <tr>\n",
       "      <th>134</th>\n",
       "      <td>6.33</td>\n",
       "      <td>93.0</td>\n",
       "      <td>0</td>\n",
       "    </tr>\n",
       "    <tr>\n",
       "      <th>162</th>\n",
       "      <td>7.80</td>\n",
       "      <td>90.0</td>\n",
       "      <td>0</td>\n",
       "    </tr>\n",
       "    <tr>\n",
       "      <th>283</th>\n",
       "      <td>7.09</td>\n",
       "      <td>87.0</td>\n",
       "      <td>0</td>\n",
       "    </tr>\n",
       "    <tr>\n",
       "      <th>290</th>\n",
       "      <td>8.38</td>\n",
       "      <td>87.0</td>\n",
       "      <td>0</td>\n",
       "    </tr>\n",
       "    <tr>\n",
       "      <th>311</th>\n",
       "      <td>6.97</td>\n",
       "      <td>87.0</td>\n",
       "      <td>1</td>\n",
       "    </tr>\n",
       "    <tr>\n",
       "      <th>324</th>\n",
       "      <td>6.64</td>\n",
       "      <td>90.0</td>\n",
       "      <td>0</td>\n",
       "    </tr>\n",
       "    <tr>\n",
       "      <th>630</th>\n",
       "      <td>6.56</td>\n",
       "      <td>96.0</td>\n",
       "      <td>1</td>\n",
       "    </tr>\n",
       "    <tr>\n",
       "      <th>685</th>\n",
       "      <td>6.05</td>\n",
       "      <td>87.0</td>\n",
       "      <td>1</td>\n",
       "    </tr>\n",
       "    <tr>\n",
       "      <th>730</th>\n",
       "      <td>6.14</td>\n",
       "      <td>90.0</td>\n",
       "      <td>1</td>\n",
       "    </tr>\n",
       "    <tr>\n",
       "      <th>771</th>\n",
       "      <td>7.31</td>\n",
       "      <td>86.0</td>\n",
       "      <td>1</td>\n",
       "    </tr>\n",
       "    <tr>\n",
       "      <th>846</th>\n",
       "      <td>6.99</td>\n",
       "      <td>97.0</td>\n",
       "      <td>0</td>\n",
       "    </tr>\n",
       "    <tr>\n",
       "      <th>917</th>\n",
       "      <td>5.95</td>\n",
       "      <td>100.0</td>\n",
       "      <td>0</td>\n",
       "    </tr>\n",
       "  </tbody>\n",
       "</table>\n",
       "</div>"
      ],
      "text/plain": [
       "     cgpa  placement_exam_marks  placed\n",
       "9    7.75                  94.0       1\n",
       "40   6.60                  86.0       1\n",
       "61   7.51                  86.0       0\n",
       "134  6.33                  93.0       0\n",
       "162  7.80                  90.0       0\n",
       "283  7.09                  87.0       0\n",
       "290  8.38                  87.0       0\n",
       "311  6.97                  87.0       1\n",
       "324  6.64                  90.0       0\n",
       "630  6.56                  96.0       1\n",
       "685  6.05                  87.0       1\n",
       "730  6.14                  90.0       1\n",
       "771  7.31                  86.0       1\n",
       "846  6.99                  97.0       0\n",
       "917  5.95                 100.0       0"
      ]
     },
     "execution_count": 207,
     "metadata": {},
     "output_type": "execute_result"
    }
   ],
   "source": [
    "df[df[\"placement_exam_marks\"]>max]"
   ]
  },
  {
   "cell_type": "code",
   "execution_count": 208,
   "id": "c4b5114f",
   "metadata": {},
   "outputs": [
    {
     "data": {
      "application/vnd.microsoft.datawrangler.viewer.v0+json": {
       "columns": [
        {
         "name": "index",
         "rawType": "int64",
         "type": "integer"
        },
        {
         "name": "cgpa",
         "rawType": "float64",
         "type": "float"
        },
        {
         "name": "placement_exam_marks",
         "rawType": "float64",
         "type": "float"
        },
        {
         "name": "placed",
         "rawType": "int64",
         "type": "integer"
        }
       ],
       "ref": "68a761fc-86af-4cc6-96c4-b2fc1e6ea0a0",
       "rows": [
        [
         "9",
         "7.75",
         "94.0",
         "1"
        ],
        [
         "40",
         "6.6",
         "86.0",
         "1"
        ],
        [
         "61",
         "7.51",
         "86.0",
         "0"
        ],
        [
         "134",
         "6.33",
         "93.0",
         "0"
        ],
        [
         "162",
         "7.8",
         "90.0",
         "0"
        ],
        [
         "283",
         "7.09",
         "87.0",
         "0"
        ],
        [
         "290",
         "8.38",
         "87.0",
         "0"
        ],
        [
         "311",
         "6.97",
         "87.0",
         "1"
        ],
        [
         "324",
         "6.64",
         "90.0",
         "0"
        ],
        [
         "630",
         "6.56",
         "96.0",
         "1"
        ],
        [
         "685",
         "6.05",
         "87.0",
         "1"
        ],
        [
         "730",
         "6.14",
         "90.0",
         "1"
        ],
        [
         "771",
         "7.31",
         "86.0",
         "1"
        ],
        [
         "846",
         "6.99",
         "97.0",
         "0"
        ],
        [
         "917",
         "5.95",
         "100.0",
         "0"
        ]
       ],
       "shape": {
        "columns": 3,
        "rows": 15
       }
      },
      "text/html": [
       "<div>\n",
       "<style scoped>\n",
       "    .dataframe tbody tr th:only-of-type {\n",
       "        vertical-align: middle;\n",
       "    }\n",
       "\n",
       "    .dataframe tbody tr th {\n",
       "        vertical-align: top;\n",
       "    }\n",
       "\n",
       "    .dataframe thead th {\n",
       "        text-align: right;\n",
       "    }\n",
       "</style>\n",
       "<table border=\"1\" class=\"dataframe\">\n",
       "  <thead>\n",
       "    <tr style=\"text-align: right;\">\n",
       "      <th></th>\n",
       "      <th>cgpa</th>\n",
       "      <th>placement_exam_marks</th>\n",
       "      <th>placed</th>\n",
       "    </tr>\n",
       "  </thead>\n",
       "  <tbody>\n",
       "    <tr>\n",
       "      <th>9</th>\n",
       "      <td>7.75</td>\n",
       "      <td>94.0</td>\n",
       "      <td>1</td>\n",
       "    </tr>\n",
       "    <tr>\n",
       "      <th>40</th>\n",
       "      <td>6.60</td>\n",
       "      <td>86.0</td>\n",
       "      <td>1</td>\n",
       "    </tr>\n",
       "    <tr>\n",
       "      <th>61</th>\n",
       "      <td>7.51</td>\n",
       "      <td>86.0</td>\n",
       "      <td>0</td>\n",
       "    </tr>\n",
       "    <tr>\n",
       "      <th>134</th>\n",
       "      <td>6.33</td>\n",
       "      <td>93.0</td>\n",
       "      <td>0</td>\n",
       "    </tr>\n",
       "    <tr>\n",
       "      <th>162</th>\n",
       "      <td>7.80</td>\n",
       "      <td>90.0</td>\n",
       "      <td>0</td>\n",
       "    </tr>\n",
       "    <tr>\n",
       "      <th>283</th>\n",
       "      <td>7.09</td>\n",
       "      <td>87.0</td>\n",
       "      <td>0</td>\n",
       "    </tr>\n",
       "    <tr>\n",
       "      <th>290</th>\n",
       "      <td>8.38</td>\n",
       "      <td>87.0</td>\n",
       "      <td>0</td>\n",
       "    </tr>\n",
       "    <tr>\n",
       "      <th>311</th>\n",
       "      <td>6.97</td>\n",
       "      <td>87.0</td>\n",
       "      <td>1</td>\n",
       "    </tr>\n",
       "    <tr>\n",
       "      <th>324</th>\n",
       "      <td>6.64</td>\n",
       "      <td>90.0</td>\n",
       "      <td>0</td>\n",
       "    </tr>\n",
       "    <tr>\n",
       "      <th>630</th>\n",
       "      <td>6.56</td>\n",
       "      <td>96.0</td>\n",
       "      <td>1</td>\n",
       "    </tr>\n",
       "    <tr>\n",
       "      <th>685</th>\n",
       "      <td>6.05</td>\n",
       "      <td>87.0</td>\n",
       "      <td>1</td>\n",
       "    </tr>\n",
       "    <tr>\n",
       "      <th>730</th>\n",
       "      <td>6.14</td>\n",
       "      <td>90.0</td>\n",
       "      <td>1</td>\n",
       "    </tr>\n",
       "    <tr>\n",
       "      <th>771</th>\n",
       "      <td>7.31</td>\n",
       "      <td>86.0</td>\n",
       "      <td>1</td>\n",
       "    </tr>\n",
       "    <tr>\n",
       "      <th>846</th>\n",
       "      <td>6.99</td>\n",
       "      <td>97.0</td>\n",
       "      <td>0</td>\n",
       "    </tr>\n",
       "    <tr>\n",
       "      <th>917</th>\n",
       "      <td>5.95</td>\n",
       "      <td>100.0</td>\n",
       "      <td>0</td>\n",
       "    </tr>\n",
       "  </tbody>\n",
       "</table>\n",
       "</div>"
      ],
      "text/plain": [
       "     cgpa  placement_exam_marks  placed\n",
       "9    7.75                  94.0       1\n",
       "40   6.60                  86.0       1\n",
       "61   7.51                  86.0       0\n",
       "134  6.33                  93.0       0\n",
       "162  7.80                  90.0       0\n",
       "283  7.09                  87.0       0\n",
       "290  8.38                  87.0       0\n",
       "311  6.97                  87.0       1\n",
       "324  6.64                  90.0       0\n",
       "630  6.56                  96.0       1\n",
       "685  6.05                  87.0       1\n",
       "730  6.14                  90.0       1\n",
       "771  7.31                  86.0       1\n",
       "846  6.99                  97.0       0\n",
       "917  5.95                 100.0       0"
      ]
     },
     "execution_count": 208,
     "metadata": {},
     "output_type": "execute_result"
    }
   ],
   "source": [
    "#TRimming\n",
    "\n",
    "new_df = df[df[\"placement_exam_marks\"]>max]\n",
    "new_df"
   ]
  },
  {
   "cell_type": "code",
   "execution_count": 209,
   "id": "9850528d",
   "metadata": {},
   "outputs": [
    {
     "data": {
      "text/plain": [
       "<Axes: xlabel='placement_exam_marks', ylabel='Density'>"
      ]
     },
     "execution_count": 209,
     "metadata": {},
     "output_type": "execute_result"
    },
    {
     "data": {
      "image/png": "[encoded data removed]",
      "text/plain": [
       "<Figure size 1200x800 with 4 Axes>"
      ]
     },
     "metadata": {},
     "output_type": "display_data"
    }
   ],
   "source": [
    "\n",
    "plt.figure(figsize=(12,8))\n",
    "\n",
    "ax1= plt.subplot(2,2,1)\n",
    "ax2= plt.subplot(2,2,2)\n",
    "ax3= plt.subplot(2,2,3)\n",
    "ax4= plt.subplot(2,2,4)\n",
    "\n",
    "sns.boxplot(df[\"placement_exam_marks\"],ax=ax1)\n",
    "sns.kdeplot(df[\"placement_exam_marks\"],ax=ax2,)\n",
    "sns.boxplot(new_df[\"placement_exam_marks\"],ax=ax3)\n",
    "sns.kdeplot(new_df[\"placement_exam_marks\"],ax=ax4)"
   ]
  },
  {
   "cell_type": "code",
   "execution_count": 213,
   "id": "ba393fbf",
   "metadata": {},
   "outputs": [],
   "source": [
    " #capping\n",
    "new_df_copy = df.copy()\n",
    "new_df_copy[\"placement_exam_marks\"] =  np.where(df['placement_exam_marks'] > max, max \n",
    "         ,np.where(df[\"placement_exam_marks\"]<min,min,df[\"placement_exam_marks\"])\n",
    ")"
   ]
  },
  {
   "cell_type": "code",
   "execution_count": 215,
   "id": "5fa4eb57",
   "metadata": {},
   "outputs": [
    {
     "data": {
      "application/vnd.microsoft.datawrangler.viewer.v0+json": {
       "columns": [
        {
         "name": "index",
         "rawType": "int64",
         "type": "integer"
        },
        {
         "name": "cgpa",
         "rawType": "float64",
         "type": "float"
        },
        {
         "name": "placement_exam_marks",
         "rawType": "float64",
         "type": "float"
        },
        {
         "name": "placed",
         "rawType": "int64",
         "type": "integer"
        }
       ],
       "ref": "9f3ec32b-1d98-4c1d-983b-af017a0a308e",
       "rows": [
        [
         "0",
         "7.19",
         "26.0",
         "1"
        ],
        [
         "1",
         "7.46",
         "38.0",
         "1"
        ],
        [
         "2",
         "7.54",
         "40.0",
         "1"
        ],
        [
         "3",
         "6.42",
         "8.0",
         "1"
        ],
        [
         "4",
         "7.23",
         "17.0",
         "0"
        ],
        [
         "5",
         "7.3",
         "23.0",
         "1"
        ],
        [
         "6",
         "6.69",
         "11.0",
         "0"
        ],
        [
         "7",
         "7.12",
         "39.0",
         "1"
        ],
        [
         "8",
         "6.45",
         "38.0",
         "0"
        ],
        [
         "9",
         "7.75",
         "84.5",
         "1"
        ],
        [
         "10",
         "6.82",
         "16.0",
         "1"
        ],
        [
         "11",
         "6.38",
         "7.0",
         "1"
        ],
        [
         "12",
         "6.58",
         "16.0",
         "1"
        ],
        [
         "13",
         "5.68",
         "26.0",
         "0"
        ],
        [
         "14",
         "7.91",
         "43.0",
         "0"
        ],
        [
         "15",
         "7.1",
         "21.0",
         "0"
        ],
        [
         "16",
         "6.53",
         "19.0",
         "0"
        ],
        [
         "17",
         "7.56",
         "22.0",
         "1"
        ],
        [
         "18",
         "6.93",
         "27.0",
         "0"
        ],
        [
         "19",
         "7.63",
         "29.0",
         "0"
        ],
        [
         "20",
         "6.69",
         "47.0",
         "0"
        ],
        [
         "21",
         "7.43",
         "33.0",
         "1"
        ],
        [
         "22",
         "6.76",
         "54.0",
         "1"
        ],
        [
         "23",
         "6.05",
         "11.0",
         "0"
        ],
        [
         "24",
         "6.44",
         "11.0",
         "0"
        ],
        [
         "25",
         "6.28",
         "58.0",
         "1"
        ],
        [
         "26",
         "7.45",
         "8.0",
         "1"
        ],
        [
         "27",
         "6.53",
         "46.0",
         "0"
        ],
        [
         "28",
         "7.23",
         "19.0",
         "0"
        ],
        [
         "29",
         "6.51",
         "15.0",
         "1"
        ],
        [
         "30",
         "7.46",
         "16.0",
         "0"
        ],
        [
         "31",
         "7.66",
         "44.0",
         "0"
        ],
        [
         "32",
         "5.91",
         "11.0",
         "1"
        ],
        [
         "33",
         "6.23",
         "27.0",
         "0"
        ],
        [
         "34",
         "8.15",
         "9.0",
         "0"
        ],
        [
         "35",
         "7.48",
         "12.0",
         "0"
        ],
        [
         "36",
         "6.85",
         "16.0",
         "1"
        ],
        [
         "37",
         "8.51",
         "9.0",
         "1"
        ],
        [
         "38",
         "6.58",
         "20.0",
         "1"
        ],
        [
         "39",
         "7.25",
         "17.0",
         "0"
        ],
        [
         "40",
         "6.6",
         "84.5",
         "1"
        ],
        [
         "41",
         "6.7",
         "38.0",
         "0"
        ],
        [
         "42",
         "7.46",
         "71.0",
         "1"
        ],
        [
         "43",
         "7.85",
         "63.0",
         "0"
        ],
        [
         "44",
         "7.88",
         "55.0",
         "0"
        ],
        [
         "45",
         "6.92",
         "10.0",
         "1"
        ],
        [
         "46",
         "7.3",
         "15.0",
         "0"
        ],
        [
         "47",
         "6.92",
         "46.0",
         "0"
        ],
        [
         "48",
         "6.29",
         "42.0",
         "0"
        ],
        [
         "49",
         "8.23",
         "28.0",
         "1"
        ]
       ],
       "shape": {
        "columns": 3,
        "rows": 1000
       }
      },
      "text/html": [
       "<div>\n",
       "<style scoped>\n",
       "    .dataframe tbody tr th:only-of-type {\n",
       "        vertical-align: middle;\n",
       "    }\n",
       "\n",
       "    .dataframe tbody tr th {\n",
       "        vertical-align: top;\n",
       "    }\n",
       "\n",
       "    .dataframe thead th {\n",
       "        text-align: right;\n",
       "    }\n",
       "</style>\n",
       "<table border=\"1\" class=\"dataframe\">\n",
       "  <thead>\n",
       "    <tr style=\"text-align: right;\">\n",
       "      <th></th>\n",
       "      <th>cgpa</th>\n",
       "      <th>placement_exam_marks</th>\n",
       "      <th>placed</th>\n",
       "    </tr>\n",
       "  </thead>\n",
       "  <tbody>\n",
       "    <tr>\n",
       "      <th>0</th>\n",
       "      <td>7.19</td>\n",
       "      <td>26.0</td>\n",
       "      <td>1</td>\n",
       "    </tr>\n",
       "    <tr>\n",
       "      <th>1</th>\n",
       "      <td>7.46</td>\n",
       "      <td>38.0</td>\n",
       "      <td>1</td>\n",
       "    </tr>\n",
       "    <tr>\n",
       "      <th>2</th>\n",
       "      <td>7.54</td>\n",
       "      <td>40.0</td>\n",
       "      <td>1</td>\n",
       "    </tr>\n",
       "    <tr>\n",
       "      <th>3</th>\n",
       "      <td>6.42</td>\n",
       "      <td>8.0</td>\n",
       "      <td>1</td>\n",
       "    </tr>\n",
       "    <tr>\n",
       "      <th>4</th>\n",
       "      <td>7.23</td>\n",
       "      <td>17.0</td>\n",
       "      <td>0</td>\n",
       "    </tr>\n",
       "    <tr>\n",
       "      <th>...</th>\n",
       "      <td>...</td>\n",
       "      <td>...</td>\n",
       "      <td>...</td>\n",
       "    </tr>\n",
       "    <tr>\n",
       "      <th>995</th>\n",
       "      <td>8.87</td>\n",
       "      <td>44.0</td>\n",
       "      <td>1</td>\n",
       "    </tr>\n",
       "    <tr>\n",
       "      <th>996</th>\n",
       "      <td>9.12</td>\n",
       "      <td>65.0</td>\n",
       "      <td>1</td>\n",
       "    </tr>\n",
       "    <tr>\n",
       "      <th>997</th>\n",
       "      <td>4.89</td>\n",
       "      <td>34.0</td>\n",
       "      <td>0</td>\n",
       "    </tr>\n",
       "    <tr>\n",
       "      <th>998</th>\n",
       "      <td>8.62</td>\n",
       "      <td>46.0</td>\n",
       "      <td>1</td>\n",
       "    </tr>\n",
       "    <tr>\n",
       "      <th>999</th>\n",
       "      <td>4.90</td>\n",
       "      <td>10.0</td>\n",
       "      <td>1</td>\n",
       "    </tr>\n",
       "  </tbody>\n",
       "</table>\n",
       "<p>1000 rows × 3 columns</p>\n",
       "</div>"
      ],
      "text/plain": [
       "     cgpa  placement_exam_marks  placed\n",
       "0    7.19                  26.0       1\n",
       "1    7.46                  38.0       1\n",
       "2    7.54                  40.0       1\n",
       "3    6.42                   8.0       1\n",
       "4    7.23                  17.0       0\n",
       "..    ...                   ...     ...\n",
       "995  8.87                  44.0       1\n",
       "996  9.12                  65.0       1\n",
       "997  4.89                  34.0       0\n",
       "998  8.62                  46.0       1\n",
       "999  4.90                  10.0       1\n",
       "\n",
       "[1000 rows x 3 columns]"
      ]
     },
     "execution_count": 215,
     "metadata": {},
     "output_type": "execute_result"
    }
   ],
   "source": [
    "new_df_copy"
   ]
  },
  {
   "cell_type": "code",
   "execution_count": 216,
   "id": "bd26947d",
   "metadata": {},
   "outputs": [
    {
     "data": {
      "text/plain": [
       "<Axes: xlabel='placement_exam_marks', ylabel='Density'>"
      ]
     },
     "execution_count": 216,
     "metadata": {},
     "output_type": "execute_result"
    },
    {
     "data": {
      "image/png": "[encoded data removed]",
      "text/plain": [
       "<Figure size 1200x800 with 4 Axes>"
      ]
     },
     "metadata": {},
     "output_type": "display_data"
    }
   ],
   "source": [
    "plt.figure(figsize=(12,8))\n",
    "\n",
    "ax1= plt.subplot(2,2,1)\n",
    "ax2= plt.subplot(2,2,2)\n",
    "ax3= plt.subplot(2,2,3)\n",
    "ax4= plt.subplot(2,2,4)\n",
    "\n",
    "sns.boxplot(df[\"placement_exam_marks\"],ax=ax1)\n",
    "sns.kdeplot(df[\"placement_exam_marks\"],ax=ax2,)\n",
    "sns.boxplot(new_df_copy[\"placement_exam_marks\"],ax=ax3)\n",
    "sns.kdeplot(new_df_copy[\"placement_exam_marks\"],ax=ax4)"
   ]
  },
  {
   "cell_type": "code",
   "execution_count": null,
   "id": "8602e7aa",
   "metadata": {},
   "outputs": [],
   "source": []
  }
 ],
 "metadata": {
  "kernelspec": {
   "display_name": "git_venv",
   "language": "python",
   "name": "python3"
  },
  "language_info": {
   "codemirror_mode": {
    "name": "ipython",
    "version": 3
   },
   "file_extension": ".py",
   "mimetype": "text/x-python",
   "name": "python",
   "nbconvert_exporter": "python",
   "pygments_lexer": "ipython3",
   "version": "3.13.1"
  }
 },
 "nbformat": 4,
 "nbformat_minor": 5
}
