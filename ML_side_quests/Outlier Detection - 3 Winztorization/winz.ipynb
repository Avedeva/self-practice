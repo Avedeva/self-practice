{
 "cells": [
  {
   "cell_type": "code",
   "execution_count": 103,
   "id": "f473de51",
   "metadata": {},
   "outputs": [],
   "source": [
    "import numpy as np\n",
    "import pandas as pd\n",
    "import matplotlib.pyplot as plt\n",
    "import seaborn as sns"
   ]
  },
  {
   "cell_type": "code",
   "execution_count": 104,
   "id": "410b08b9",
   "metadata": {},
   "outputs": [],
   "source": [
    "df = pd.read_csv(\"weight-height.csv\")"
   ]
  },
  {
   "cell_type": "code",
   "execution_count": 105,
   "id": "8e5a4f30",
   "metadata": {},
   "outputs": [
    {
     "data": {
      "application/vnd.microsoft.datawrangler.viewer.v0+json": {
       "columns": [
        {
         "name": "index",
         "rawType": "int64",
         "type": "integer"
        },
        {
         "name": "Gender",
         "rawType": "object",
         "type": "string"
        },
        {
         "name": "Height",
         "rawType": "float64",
         "type": "float"
        },
        {
         "name": "Weight",
         "rawType": "float64",
         "type": "float"
        }
       ],
       "ref": "3d91fae8-acf4-4e7a-882e-0415b6598b29",
       "rows": [
        [
         "0",
         "Male",
         "73.847017017515",
         "241.893563180437"
        ],
        [
         "1",
         "Male",
         "68.7819040458903",
         "162.3104725213"
        ],
        [
         "2",
         "Male",
         "74.1101053917849",
         "212.7408555565"
        ],
        [
         "3",
         "Male",
         "71.7309784033377",
         "220.042470303077"
        ],
        [
         "4",
         "Male",
         "69.8817958611153",
         "206.349800623871"
        ],
        [
         "5",
         "Male",
         "67.2530156878065",
         "152.212155757083"
        ],
        [
         "6",
         "Male",
         "68.7850812516616",
         "183.927888604031"
        ],
        [
         "7",
         "Male",
         "68.3485155115879",
         "167.971110489509"
        ],
        [
         "8",
         "Male",
         "67.018949662883",
         "175.92944039571"
        ],
        [
         "9",
         "Male",
         "63.4564939783664",
         "156.399676387112"
        ],
        [
         "10",
         "Male",
         "71.1953822829745",
         "186.604925560358"
        ],
        [
         "11",
         "Male",
         "71.6408051192206",
         "213.741169489411"
        ],
        [
         "12",
         "Male",
         "64.7663291334055",
         "167.127461073476"
        ],
        [
         "13",
         "Male",
         "69.2830700967204",
         "189.446181386738"
        ],
        [
         "14",
         "Male",
         "69.2437322298112",
         "186.434168021239"
        ],
        [
         "15",
         "Male",
         "67.6456197004212",
         "172.186930058117"
        ],
        [
         "16",
         "Male",
         "72.4183166259878",
         "196.028506330482"
        ],
        [
         "17",
         "Male",
         "63.974325721061",
         "172.88347020878"
        ],
        [
         "18",
         "Male",
         "69.6400598997523",
         "185.98395757313"
        ],
        [
         "19",
         "Male",
         "67.9360048540095",
         "182.426648013226"
        ],
        [
         "20",
         "Male",
         "67.9150501938206",
         "174.115929081393"
        ],
        [
         "21",
         "Male",
         "69.4394398680395",
         "197.73142161472"
        ],
        [
         "22",
         "Male",
         "66.1491319608781",
         "149.173566007975"
        ],
        [
         "23",
         "Male",
         "75.2059736142212",
         "228.761780615196"
        ],
        [
         "24",
         "Male",
         "67.8931963386043",
         "162.006651848287"
        ],
        [
         "25",
         "Male",
         "68.1440327982008",
         "192.343976579187"
        ],
        [
         "26",
         "Male",
         "69.0896314289256",
         "184.435174408406"
        ],
        [
         "27",
         "Male",
         "72.8008435165003",
         "206.828189420354"
        ],
        [
         "28",
         "Male",
         "67.4212422817167",
         "175.213922399227"
        ],
        [
         "29",
         "Male",
         "68.4964153568827",
         "154.342638925955"
        ],
        [
         "30",
         "Male",
         "68.6181105502058",
         "187.506843155807"
        ],
        [
         "31",
         "Male",
         "74.0338076216678",
         "212.910225325521"
        ],
        [
         "32",
         "Male",
         "71.5282160355709",
         "195.032243233835"
        ],
        [
         "33",
         "Male",
         "69.1801610995692",
         "205.183621341371"
        ],
        [
         "34",
         "Male",
         "69.577202365402",
         "204.164125484101"
        ],
        [
         "35",
         "Male",
         "70.4009288884762",
         "192.903515074649"
        ],
        [
         "36",
         "Male",
         "69.0761711675356",
         "197.488242598925"
        ],
        [
         "37",
         "Male",
         "67.1935232827228",
         "183.810973232751"
        ],
        [
         "38",
         "Male",
         "65.8073156549306",
         "163.851824878622"
        ],
        [
         "39",
         "Male",
         "64.3041878915595",
         "163.108017147583"
        ],
        [
         "40",
         "Male",
         "67.9743362271967",
         "172.135597406825"
        ],
        [
         "41",
         "Male",
         "72.1894259592134",
         "194.045404898059"
        ],
        [
         "42",
         "Male",
         "65.2703455240394",
         "168.617746204292"
        ],
        [
         "43",
         "Male",
         "66.0901773762725",
         "161.193432596622"
        ],
        [
         "44",
         "Male",
         "67.5103215157138",
         "164.660277264007"
        ],
        [
         "45",
         "Male",
         "70.1047862551571",
         "188.922303151274"
        ],
        [
         "46",
         "Male",
         "68.2518364408672",
         "187.060552163801"
        ],
        [
         "47",
         "Male",
         "72.1727091157973",
         "209.070863390252"
        ],
        [
         "48",
         "Male",
         "69.1798576188774",
         "192.014335412005"
        ],
        [
         "49",
         "Male",
         "72.870360147235",
         "211.34249681964"
        ]
       ],
       "shape": {
        "columns": 3,
        "rows": 10000
       }
      },
      "text/html": [
       "<div>\n",
       "<style scoped>\n",
       "    .dataframe tbody tr th:only-of-type {\n",
       "        vertical-align: middle;\n",
       "    }\n",
       "\n",
       "    .dataframe tbody tr th {\n",
       "        vertical-align: top;\n",
       "    }\n",
       "\n",
       "    .dataframe thead th {\n",
       "        text-align: right;\n",
       "    }\n",
       "</style>\n",
       "<table border=\"1\" class=\"dataframe\">\n",
       "  <thead>\n",
       "    <tr style=\"text-align: right;\">\n",
       "      <th></th>\n",
       "      <th>Gender</th>\n",
       "      <th>Height</th>\n",
       "      <th>Weight</th>\n",
       "    </tr>\n",
       "  </thead>\n",
       "  <tbody>\n",
       "    <tr>\n",
       "      <th>0</th>\n",
       "      <td>Male</td>\n",
       "      <td>73.847017</td>\n",
       "      <td>241.893563</td>\n",
       "    </tr>\n",
       "    <tr>\n",
       "      <th>1</th>\n",
       "      <td>Male</td>\n",
       "      <td>68.781904</td>\n",
       "      <td>162.310473</td>\n",
       "    </tr>\n",
       "    <tr>\n",
       "      <th>2</th>\n",
       "      <td>Male</td>\n",
       "      <td>74.110105</td>\n",
       "      <td>212.740856</td>\n",
       "    </tr>\n",
       "    <tr>\n",
       "      <th>3</th>\n",
       "      <td>Male</td>\n",
       "      <td>71.730978</td>\n",
       "      <td>220.042470</td>\n",
       "    </tr>\n",
       "    <tr>\n",
       "      <th>4</th>\n",
       "      <td>Male</td>\n",
       "      <td>69.881796</td>\n",
       "      <td>206.349801</td>\n",
       "    </tr>\n",
       "    <tr>\n",
       "      <th>...</th>\n",
       "      <td>...</td>\n",
       "      <td>...</td>\n",
       "      <td>...</td>\n",
       "    </tr>\n",
       "    <tr>\n",
       "      <th>9995</th>\n",
       "      <td>Female</td>\n",
       "      <td>66.172652</td>\n",
       "      <td>136.777454</td>\n",
       "    </tr>\n",
       "    <tr>\n",
       "      <th>9996</th>\n",
       "      <td>Female</td>\n",
       "      <td>67.067155</td>\n",
       "      <td>170.867906</td>\n",
       "    </tr>\n",
       "    <tr>\n",
       "      <th>9997</th>\n",
       "      <td>Female</td>\n",
       "      <td>63.867992</td>\n",
       "      <td>128.475319</td>\n",
       "    </tr>\n",
       "    <tr>\n",
       "      <th>9998</th>\n",
       "      <td>Female</td>\n",
       "      <td>69.034243</td>\n",
       "      <td>163.852461</td>\n",
       "    </tr>\n",
       "    <tr>\n",
       "      <th>9999</th>\n",
       "      <td>Female</td>\n",
       "      <td>61.944246</td>\n",
       "      <td>113.649103</td>\n",
       "    </tr>\n",
       "  </tbody>\n",
       "</table>\n",
       "<p>10000 rows × 3 columns</p>\n",
       "</div>"
      ],
      "text/plain": [
       "      Gender     Height      Weight\n",
       "0       Male  73.847017  241.893563\n",
       "1       Male  68.781904  162.310473\n",
       "2       Male  74.110105  212.740856\n",
       "3       Male  71.730978  220.042470\n",
       "4       Male  69.881796  206.349801\n",
       "...      ...        ...         ...\n",
       "9995  Female  66.172652  136.777454\n",
       "9996  Female  67.067155  170.867906\n",
       "9997  Female  63.867992  128.475319\n",
       "9998  Female  69.034243  163.852461\n",
       "9999  Female  61.944246  113.649103\n",
       "\n",
       "[10000 rows x 3 columns]"
      ]
     },
     "execution_count": 105,
     "metadata": {},
     "output_type": "execute_result"
    }
   ],
   "source": [
    "df"
   ]
  },
  {
   "cell_type": "code",
   "execution_count": 106,
   "id": "199f8ec0",
   "metadata": {},
   "outputs": [
    {
     "data": {
      "application/vnd.microsoft.datawrangler.viewer.v0+json": {
       "columns": [
        {
         "name": "index",
         "rawType": "object",
         "type": "string"
        },
        {
         "name": "Height",
         "rawType": "float64",
         "type": "float"
        },
        {
         "name": "Weight",
         "rawType": "float64",
         "type": "float"
        }
       ],
       "ref": "5ee82081-3c89-4ce7-aeb4-5cc2a8ccc64f",
       "rows": [
        [
         "count",
         "10000.0",
         "10000.0"
        ],
        [
         "mean",
         "66.36755975482124",
         "161.44035683283076"
        ],
        [
         "std",
         "3.847528120773229",
         "32.108439006519596"
        ],
        [
         "min",
         "54.2631333250971",
         "64.700126712753"
        ],
        [
         "25%",
         "63.505620481218955",
         "135.8180513055015"
        ],
        [
         "50%",
         "66.31807008178464",
         "161.21292769948298"
        ],
        [
         "75%",
         "69.1742617268347",
         "187.16952486868348"
        ],
        [
         "max",
         "78.9987423463896",
         "269.989698505106"
        ]
       ],
       "shape": {
        "columns": 2,
        "rows": 8
       }
      },
      "text/html": [
       "<div>\n",
       "<style scoped>\n",
       "    .dataframe tbody tr th:only-of-type {\n",
       "        vertical-align: middle;\n",
       "    }\n",
       "\n",
       "    .dataframe tbody tr th {\n",
       "        vertical-align: top;\n",
       "    }\n",
       "\n",
       "    .dataframe thead th {\n",
       "        text-align: right;\n",
       "    }\n",
       "</style>\n",
       "<table border=\"1\" class=\"dataframe\">\n",
       "  <thead>\n",
       "    <tr style=\"text-align: right;\">\n",
       "      <th></th>\n",
       "      <th>Height</th>\n",
       "      <th>Weight</th>\n",
       "    </tr>\n",
       "  </thead>\n",
       "  <tbody>\n",
       "    <tr>\n",
       "      <th>count</th>\n",
       "      <td>10000.000000</td>\n",
       "      <td>10000.000000</td>\n",
       "    </tr>\n",
       "    <tr>\n",
       "      <th>mean</th>\n",
       "      <td>66.367560</td>\n",
       "      <td>161.440357</td>\n",
       "    </tr>\n",
       "    <tr>\n",
       "      <th>std</th>\n",
       "      <td>3.847528</td>\n",
       "      <td>32.108439</td>\n",
       "    </tr>\n",
       "    <tr>\n",
       "      <th>min</th>\n",
       "      <td>54.263133</td>\n",
       "      <td>64.700127</td>\n",
       "    </tr>\n",
       "    <tr>\n",
       "      <th>25%</th>\n",
       "      <td>63.505620</td>\n",
       "      <td>135.818051</td>\n",
       "    </tr>\n",
       "    <tr>\n",
       "      <th>50%</th>\n",
       "      <td>66.318070</td>\n",
       "      <td>161.212928</td>\n",
       "    </tr>\n",
       "    <tr>\n",
       "      <th>75%</th>\n",
       "      <td>69.174262</td>\n",
       "      <td>187.169525</td>\n",
       "    </tr>\n",
       "    <tr>\n",
       "      <th>max</th>\n",
       "      <td>78.998742</td>\n",
       "      <td>269.989699</td>\n",
       "    </tr>\n",
       "  </tbody>\n",
       "</table>\n",
       "</div>"
      ],
      "text/plain": [
       "             Height        Weight\n",
       "count  10000.000000  10000.000000\n",
       "mean      66.367560    161.440357\n",
       "std        3.847528     32.108439\n",
       "min       54.263133     64.700127\n",
       "25%       63.505620    135.818051\n",
       "50%       66.318070    161.212928\n",
       "75%       69.174262    187.169525\n",
       "max       78.998742    269.989699"
      ]
     },
     "execution_count": 106,
     "metadata": {},
     "output_type": "execute_result"
    }
   ],
   "source": [
    "df.describe()"
   ]
  },
  {
   "cell_type": "code",
   "execution_count": 107,
   "id": "398e5d0a",
   "metadata": {},
   "outputs": [
    {
     "data": {
      "text/plain": [
       "<Axes: xlabel='Weight', ylabel='Count'>"
      ]
     },
     "execution_count": 107,
     "metadata": {},
     "output_type": "execute_result"
    },
    {
     "data": {
      "image/png": "[encoded data removed]",
      "text/plain": [
       "<Figure size 640x480 with 2 Axes>"
      ]
     },
     "metadata": {},
     "output_type": "display_data"
    }
   ],
   "source": [
    "plt.subplot(1,2,1)\n",
    "sns.histplot(df[\"Height\"],kde=True)\n",
    "\n",
    "plt.subplot(1,2,2)\n",
    "\n",
    "sns.histplot(df[\"Weight\"],kde=True)"
   ]
  },
  {
   "cell_type": "code",
   "execution_count": 108,
   "id": "9b823a00",
   "metadata": {},
   "outputs": [
    {
     "data": {
      "text/plain": [
       "<Axes: ylabel='Height'>"
      ]
     },
     "execution_count": 108,
     "metadata": {},
     "output_type": "execute_result"
    },
    {
     "data": {
      "image/png": "[encoded data removed]",
      "text/plain": [
       "<Figure size 640x480 with 1 Axes>"
      ]
     },
     "metadata": {},
     "output_type": "display_data"
    }
   ],
   "source": [
    "sns.boxplot(df[\"Height\"])"
   ]
  },
  {
   "cell_type": "code",
   "execution_count": 111,
   "id": "0520c35e",
   "metadata": {},
   "outputs": [],
   "source": [
    "#Trimming\n",
    "\n",
    "def winz(lower_limit):\n",
    "    \n",
    "    upper_limit = 100-lower_limit\n",
    "    lower_limit = np.percentile(df[\"Height\"],lower_limit)\n",
    "    upper_limit = np.percentile(df[\"Height\"],upper_limit)\n",
    "\n",
    "\n",
    "    temp_df = df[\"Height\"][df[\"Height\"]>upper_limit]    \n",
    "    new_df = df.copy()\n",
    "    new_df.drop(temp_df.index,inplace=True)\n",
    "\n",
    "    temp_df = df[\"Height\"][df[\"Height\"]<lower_limit]\n",
    "    new_df.drop(temp_df.index,inplace=True)\n",
    "    print(new_df)\n",
    "\n",
    "    plt.subplot(1,2,1)\n",
    "    plt.title(\"Before Winz\")\n",
    "    sns.histplot(df[\"Height\"],kde=True)\n",
    "\n",
    "    plt.subplot(1,2,2)\n",
    "    plt.title(\"After Winz\")\n",
    "    sns.histplot(new_df[\"Height\"],kde=True)\n",
    "    return new_df\n"
   ]
  },
  {
   "cell_type": "code",
   "execution_count": 112,
   "id": "7e3c58f8",
   "metadata": {},
   "outputs": [
    {
     "name": "stdout",
     "output_type": "stream",
     "text": [
      "      Gender     Height      Weight\n",
      "0       Male  73.847017  241.893563\n",
      "1       Male  68.781904  162.310473\n",
      "2       Male  74.110105  212.740856\n",
      "3       Male  71.730978  220.042470\n",
      "4       Male  69.881796  206.349801\n",
      "...      ...        ...         ...\n",
      "9995  Female  66.172652  136.777454\n",
      "9996  Female  67.067155  170.867906\n",
      "9997  Female  63.867992  128.475319\n",
      "9998  Female  69.034243  163.852461\n",
      "9999  Female  61.944246  113.649103\n",
      "\n",
      "[9998 rows x 3 columns]\n"
     ]
    },
    {
     "data": {
      "application/vnd.microsoft.datawrangler.viewer.v0+json": {
       "columns": [
        {
         "name": "index",
         "rawType": "int64",
         "type": "integer"
        },
        {
         "name": "Gender",
         "rawType": "object",
         "type": "string"
        },
        {
         "name": "Height",
         "rawType": "float64",
         "type": "float"
        },
        {
         "name": "Weight",
         "rawType": "float64",
         "type": "float"
        }
       ],
       "ref": "b0cb9095-f069-4354-8de4-7dde45dfe803",
       "rows": [
        [
         "0",
         "Male",
         "73.847017017515",
         "241.893563180437"
        ],
        [
         "1",
         "Male",
         "68.7819040458903",
         "162.3104725213"
        ],
        [
         "2",
         "Male",
         "74.1101053917849",
         "212.7408555565"
        ],
        [
         "3",
         "Male",
         "71.7309784033377",
         "220.042470303077"
        ],
        [
         "4",
         "Male",
         "69.8817958611153",
         "206.349800623871"
        ],
        [
         "5",
         "Male",
         "67.2530156878065",
         "152.212155757083"
        ],
        [
         "6",
         "Male",
         "68.7850812516616",
         "183.927888604031"
        ],
        [
         "7",
         "Male",
         "68.3485155115879",
         "167.971110489509"
        ],
        [
         "8",
         "Male",
         "67.018949662883",
         "175.92944039571"
        ],
        [
         "9",
         "Male",
         "63.4564939783664",
         "156.399676387112"
        ],
        [
         "10",
         "Male",
         "71.1953822829745",
         "186.604925560358"
        ],
        [
         "11",
         "Male",
         "71.6408051192206",
         "213.741169489411"
        ],
        [
         "12",
         "Male",
         "64.7663291334055",
         "167.127461073476"
        ],
        [
         "13",
         "Male",
         "69.2830700967204",
         "189.446181386738"
        ],
        [
         "14",
         "Male",
         "69.2437322298112",
         "186.434168021239"
        ],
        [
         "15",
         "Male",
         "67.6456197004212",
         "172.186930058117"
        ],
        [
         "16",
         "Male",
         "72.4183166259878",
         "196.028506330482"
        ],
        [
         "17",
         "Male",
         "63.974325721061",
         "172.88347020878"
        ],
        [
         "18",
         "Male",
         "69.6400598997523",
         "185.98395757313"
        ],
        [
         "19",
         "Male",
         "67.9360048540095",
         "182.426648013226"
        ],
        [
         "20",
         "Male",
         "67.9150501938206",
         "174.115929081393"
        ],
        [
         "21",
         "Male",
         "69.4394398680395",
         "197.73142161472"
        ],
        [
         "22",
         "Male",
         "66.1491319608781",
         "149.173566007975"
        ],
        [
         "23",
         "Male",
         "75.2059736142212",
         "228.761780615196"
        ],
        [
         "24",
         "Male",
         "67.8931963386043",
         "162.006651848287"
        ],
        [
         "25",
         "Male",
         "68.1440327982008",
         "192.343976579187"
        ],
        [
         "26",
         "Male",
         "69.0896314289256",
         "184.435174408406"
        ],
        [
         "27",
         "Male",
         "72.8008435165003",
         "206.828189420354"
        ],
        [
         "28",
         "Male",
         "67.4212422817167",
         "175.213922399227"
        ],
        [
         "29",
         "Male",
         "68.4964153568827",
         "154.342638925955"
        ],
        [
         "30",
         "Male",
         "68.6181105502058",
         "187.506843155807"
        ],
        [
         "31",
         "Male",
         "74.0338076216678",
         "212.910225325521"
        ],
        [
         "32",
         "Male",
         "71.5282160355709",
         "195.032243233835"
        ],
        [
         "33",
         "Male",
         "69.1801610995692",
         "205.183621341371"
        ],
        [
         "34",
         "Male",
         "69.577202365402",
         "204.164125484101"
        ],
        [
         "35",
         "Male",
         "70.4009288884762",
         "192.903515074649"
        ],
        [
         "36",
         "Male",
         "69.0761711675356",
         "197.488242598925"
        ],
        [
         "37",
         "Male",
         "67.1935232827228",
         "183.810973232751"
        ],
        [
         "38",
         "Male",
         "65.8073156549306",
         "163.851824878622"
        ],
        [
         "39",
         "Male",
         "64.3041878915595",
         "163.108017147583"
        ],
        [
         "40",
         "Male",
         "67.9743362271967",
         "172.135597406825"
        ],
        [
         "41",
         "Male",
         "72.1894259592134",
         "194.045404898059"
        ],
        [
         "42",
         "Male",
         "65.2703455240394",
         "168.617746204292"
        ],
        [
         "43",
         "Male",
         "66.0901773762725",
         "161.193432596622"
        ],
        [
         "44",
         "Male",
         "67.5103215157138",
         "164.660277264007"
        ],
        [
         "45",
         "Male",
         "70.1047862551571",
         "188.922303151274"
        ],
        [
         "46",
         "Male",
         "68.2518364408672",
         "187.060552163801"
        ],
        [
         "47",
         "Male",
         "72.1727091157973",
         "209.070863390252"
        ],
        [
         "48",
         "Male",
         "69.1798576188774",
         "192.014335412005"
        ],
        [
         "49",
         "Male",
         "72.870360147235",
         "211.34249681964"
        ]
       ],
       "shape": {
        "columns": 3,
        "rows": 9998
       }
      },
      "text/html": [
       "<div>\n",
       "<style scoped>\n",
       "    .dataframe tbody tr th:only-of-type {\n",
       "        vertical-align: middle;\n",
       "    }\n",
       "\n",
       "    .dataframe tbody tr th {\n",
       "        vertical-align: top;\n",
       "    }\n",
       "\n",
       "    .dataframe thead th {\n",
       "        text-align: right;\n",
       "    }\n",
       "</style>\n",
       "<table border=\"1\" class=\"dataframe\">\n",
       "  <thead>\n",
       "    <tr style=\"text-align: right;\">\n",
       "      <th></th>\n",
       "      <th>Gender</th>\n",
       "      <th>Height</th>\n",
       "      <th>Weight</th>\n",
       "    </tr>\n",
       "  </thead>\n",
       "  <tbody>\n",
       "    <tr>\n",
       "      <th>0</th>\n",
       "      <td>Male</td>\n",
       "      <td>73.847017</td>\n",
       "      <td>241.893563</td>\n",
       "    </tr>\n",
       "    <tr>\n",
       "      <th>1</th>\n",
       "      <td>Male</td>\n",
       "      <td>68.781904</td>\n",
       "      <td>162.310473</td>\n",
       "    </tr>\n",
       "    <tr>\n",
       "      <th>2</th>\n",
       "      <td>Male</td>\n",
       "      <td>74.110105</td>\n",
       "      <td>212.740856</td>\n",
       "    </tr>\n",
       "    <tr>\n",
       "      <th>3</th>\n",
       "      <td>Male</td>\n",
       "      <td>71.730978</td>\n",
       "      <td>220.042470</td>\n",
       "    </tr>\n",
       "    <tr>\n",
       "      <th>4</th>\n",
       "      <td>Male</td>\n",
       "      <td>69.881796</td>\n",
       "      <td>206.349801</td>\n",
       "    </tr>\n",
       "    <tr>\n",
       "      <th>...</th>\n",
       "      <td>...</td>\n",
       "      <td>...</td>\n",
       "      <td>...</td>\n",
       "    </tr>\n",
       "    <tr>\n",
       "      <th>9995</th>\n",
       "      <td>Female</td>\n",
       "      <td>66.172652</td>\n",
       "      <td>136.777454</td>\n",
       "    </tr>\n",
       "    <tr>\n",
       "      <th>9996</th>\n",
       "      <td>Female</td>\n",
       "      <td>67.067155</td>\n",
       "      <td>170.867906</td>\n",
       "    </tr>\n",
       "    <tr>\n",
       "      <th>9997</th>\n",
       "      <td>Female</td>\n",
       "      <td>63.867992</td>\n",
       "      <td>128.475319</td>\n",
       "    </tr>\n",
       "    <tr>\n",
       "      <th>9998</th>\n",
       "      <td>Female</td>\n",
       "      <td>69.034243</td>\n",
       "      <td>163.852461</td>\n",
       "    </tr>\n",
       "    <tr>\n",
       "      <th>9999</th>\n",
       "      <td>Female</td>\n",
       "      <td>61.944246</td>\n",
       "      <td>113.649103</td>\n",
       "    </tr>\n",
       "  </tbody>\n",
       "</table>\n",
       "<p>9998 rows × 3 columns</p>\n",
       "</div>"
      ],
      "text/plain": [
       "      Gender     Height      Weight\n",
       "0       Male  73.847017  241.893563\n",
       "1       Male  68.781904  162.310473\n",
       "2       Male  74.110105  212.740856\n",
       "3       Male  71.730978  220.042470\n",
       "4       Male  69.881796  206.349801\n",
       "...      ...        ...         ...\n",
       "9995  Female  66.172652  136.777454\n",
       "9996  Female  67.067155  170.867906\n",
       "9997  Female  63.867992  128.475319\n",
       "9998  Female  69.034243  163.852461\n",
       "9999  Female  61.944246  113.649103\n",
       "\n",
       "[9998 rows x 3 columns]"
      ]
     },
     "execution_count": 112,
     "metadata": {},
     "output_type": "execute_result"
    },
    {
     "data": {
      "image/png": "[encoded data removed]",
      "text/plain": [
       "<Figure size 640x480 with 2 Axes>"
      ]
     },
     "metadata": {},
     "output_type": "display_data"
    }
   ],
   "source": [
    "winz(0.01)\n"
   ]
  },
  {
   "cell_type": "code",
   "execution_count": 113,
   "id": "d870648f",
   "metadata": {},
   "outputs": [],
   "source": [
    "# Capping\n",
    "lower_limit = np.percentile(df[\"Height\"],1)\n",
    "upper_limit = np.percentile(df[\"Height\"],99)\n",
    "\n",
    "df[\"Height\"] = np.where(\n",
    "    df[\"Height\"] >= upper_limit , upper_limit , np.where(\n",
    "        df[\"Height\"]<=lower_limit , lower_limit , df[\"Height\"] \n",
    "    )\n",
    "\n",
    ")"
   ]
  },
  {
   "cell_type": "code",
   "execution_count": 114,
   "id": "ec490c56",
   "metadata": {},
   "outputs": [
    {
     "data": {
      "application/vnd.microsoft.datawrangler.viewer.v0+json": {
       "columns": [
        {
         "name": "index",
         "rawType": "int64",
         "type": "integer"
        },
        {
         "name": "Height",
         "rawType": "float64",
         "type": "float"
        }
       ],
       "ref": "0f0fff45-9780-43a1-8a50-91ee0ef4b813",
       "rows": [
        [
         "0",
         "73.847017017515"
        ],
        [
         "1",
         "68.7819040458903"
        ],
        [
         "2",
         "74.1101053917849"
        ],
        [
         "3",
         "71.7309784033377"
        ],
        [
         "4",
         "69.8817958611153"
        ],
        [
         "5",
         "67.2530156878065"
        ],
        [
         "6",
         "68.7850812516616"
        ],
        [
         "7",
         "68.3485155115879"
        ],
        [
         "8",
         "67.018949662883"
        ],
        [
         "9",
         "63.4564939783664"
        ],
        [
         "10",
         "71.1953822829745"
        ],
        [
         "11",
         "71.6408051192206"
        ],
        [
         "12",
         "64.7663291334055"
        ],
        [
         "13",
         "69.2830700967204"
        ],
        [
         "14",
         "69.2437322298112"
        ],
        [
         "15",
         "67.6456197004212"
        ],
        [
         "16",
         "72.4183166259878"
        ],
        [
         "17",
         "63.974325721061"
        ],
        [
         "18",
         "69.6400598997523"
        ],
        [
         "19",
         "67.9360048540095"
        ],
        [
         "20",
         "67.9150501938206"
        ],
        [
         "21",
         "69.4394398680395"
        ],
        [
         "22",
         "66.1491319608781"
        ],
        [
         "23",
         "74.7857900583366"
        ],
        [
         "24",
         "67.8931963386043"
        ],
        [
         "25",
         "68.1440327982008"
        ],
        [
         "26",
         "69.0896314289256"
        ],
        [
         "27",
         "72.8008435165003"
        ],
        [
         "28",
         "67.4212422817167"
        ],
        [
         "29",
         "68.4964153568827"
        ],
        [
         "30",
         "68.6181105502058"
        ],
        [
         "31",
         "74.0338076216678"
        ],
        [
         "32",
         "71.5282160355709"
        ],
        [
         "33",
         "69.1801610995692"
        ],
        [
         "34",
         "69.577202365402"
        ],
        [
         "35",
         "70.4009288884762"
        ],
        [
         "36",
         "69.0761711675356"
        ],
        [
         "37",
         "67.1935232827228"
        ],
        [
         "38",
         "65.8073156549306"
        ],
        [
         "39",
         "64.3041878915595"
        ],
        [
         "40",
         "67.9743362271967"
        ],
        [
         "41",
         "72.1894259592134"
        ],
        [
         "42",
         "65.2703455240394"
        ],
        [
         "43",
         "66.0901773762725"
        ],
        [
         "44",
         "67.5103215157138"
        ],
        [
         "45",
         "70.1047862551571"
        ],
        [
         "46",
         "68.2518364408672"
        ],
        [
         "47",
         "72.1727091157973"
        ],
        [
         "48",
         "69.1798576188774"
        ],
        [
         "49",
         "72.870360147235"
        ]
       ],
       "shape": {
        "columns": 1,
        "rows": 10000
       }
      },
      "text/plain": [
       "0       73.847017\n",
       "1       68.781904\n",
       "2       74.110105\n",
       "3       71.730978\n",
       "4       69.881796\n",
       "          ...    \n",
       "9995    66.172652\n",
       "9996    67.067155\n",
       "9997    63.867992\n",
       "9998    69.034243\n",
       "9999    61.944246\n",
       "Name: Height, Length: 10000, dtype: float64"
      ]
     },
     "execution_count": 114,
     "metadata": {},
     "output_type": "execute_result"
    }
   ],
   "source": [
    "df[\"Height\"]"
   ]
  },
  {
   "cell_type": "code",
   "execution_count": 115,
   "id": "2c2fcc50",
   "metadata": {},
   "outputs": [
    {
     "data": {
      "text/plain": [
       "<Axes: xlabel='Height', ylabel='Count'>"
      ]
     },
     "execution_count": 115,
     "metadata": {},
     "output_type": "execute_result"
    },
    {
     "data": {
      "image/png": "[encoded data removed]",
      "text/plain": [
       "<Figure size 640x480 with 1 Axes>"
      ]
     },
     "metadata": {},
     "output_type": "display_data"
    }
   ],
   "source": [
    "sns.histplot(df[\"Height\"],kde=True)"
   ]
  }
 ],
 "metadata": {
  "kernelspec": {
   "display_name": "git_venv",
   "language": "python",
   "name": "python3"
  },
  "language_info": {
   "codemirror_mode": {
    "name": "ipython",
    "version": 3
   },
   "file_extension": ".py",
   "mimetype": "text/x-python",
   "name": "python",
   "nbconvert_exporter": "python",
   "pygments_lexer": "ipython3",
   "version": "3.13.1"
  }
 },
 "nbformat": 4,
 "nbformat_minor": 5
}
