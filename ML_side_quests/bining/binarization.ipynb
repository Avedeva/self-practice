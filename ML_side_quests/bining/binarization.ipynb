{
 "cells": [
  {
   "cell_type": "code",
   "execution_count": 431,
   "metadata": {},
   "outputs": [],
   "source": [
    "import numpy as np\n",
    "import pandas as pd"
   ]
  },
  {
   "cell_type": "code",
   "execution_count": 432,
   "metadata": {},
   "outputs": [],
   "source": [
    "from sklearn.model_selection import train_test_split,cross_val_score\n",
    "from sklearn.tree import DecisionTreeClassifier\n",
    "\n",
    "from sklearn.metrics import accuracy_score\n",
    "from sklearn.preprocessing import KBinsDiscretizer\n",
    "from sklearn.compose import ColumnTransformer"
   ]
  },
  {
   "cell_type": "code",
   "execution_count": 433,
   "metadata": {},
   "outputs": [],
   "source": [
    "df = pd.read_csv('train.csv')[['Age','Fare','SibSp','Parch','Survived']]"
   ]
  },
  {
   "cell_type": "code",
   "execution_count": 434,
   "metadata": {},
   "outputs": [],
   "source": [
    "df.dropna(inplace=True)"
   ]
  },
  {
   "cell_type": "code",
   "execution_count": 435,
   "metadata": {},
   "outputs": [
    {
     "data": {
      "application/vnd.microsoft.datawrangler.viewer.v0+json": {
       "columns": [
        {
         "name": "index",
         "rawType": "int64",
         "type": "integer"
        },
        {
         "name": "Age",
         "rawType": "float64",
         "type": "float"
        },
        {
         "name": "Fare",
         "rawType": "float64",
         "type": "float"
        },
        {
         "name": "SibSp",
         "rawType": "int64",
         "type": "integer"
        },
        {
         "name": "Parch",
         "rawType": "int64",
         "type": "integer"
        },
        {
         "name": "Survived",
         "rawType": "int64",
         "type": "integer"
        }
       ],
       "ref": "76f9dc7e-25f2-4295-9808-c5320d167230",
       "rows": [
        [
         "0",
         "22.0",
         "7.25",
         "1",
         "0",
         "0"
        ],
        [
         "1",
         "38.0",
         "71.2833",
         "1",
         "0",
         "1"
        ],
        [
         "2",
         "26.0",
         "7.925",
         "0",
         "0",
         "1"
        ],
        [
         "3",
         "35.0",
         "53.1",
         "1",
         "0",
         "1"
        ],
        [
         "4",
         "35.0",
         "8.05",
         "0",
         "0",
         "0"
        ]
       ],
       "shape": {
        "columns": 5,
        "rows": 5
       }
      },
      "text/html": [
       "<div>\n",
       "<style scoped>\n",
       "    .dataframe tbody tr th:only-of-type {\n",
       "        vertical-align: middle;\n",
       "    }\n",
       "\n",
       "    .dataframe tbody tr th {\n",
       "        vertical-align: top;\n",
       "    }\n",
       "\n",
       "    .dataframe thead th {\n",
       "        text-align: right;\n",
       "    }\n",
       "</style>\n",
       "<table border=\"1\" class=\"dataframe\">\n",
       "  <thead>\n",
       "    <tr style=\"text-align: right;\">\n",
       "      <th></th>\n",
       "      <th>Age</th>\n",
       "      <th>Fare</th>\n",
       "      <th>SibSp</th>\n",
       "      <th>Parch</th>\n",
       "      <th>Survived</th>\n",
       "    </tr>\n",
       "  </thead>\n",
       "  <tbody>\n",
       "    <tr>\n",
       "      <th>0</th>\n",
       "      <td>22.0</td>\n",
       "      <td>7.2500</td>\n",
       "      <td>1</td>\n",
       "      <td>0</td>\n",
       "      <td>0</td>\n",
       "    </tr>\n",
       "    <tr>\n",
       "      <th>1</th>\n",
       "      <td>38.0</td>\n",
       "      <td>71.2833</td>\n",
       "      <td>1</td>\n",
       "      <td>0</td>\n",
       "      <td>1</td>\n",
       "    </tr>\n",
       "    <tr>\n",
       "      <th>2</th>\n",
       "      <td>26.0</td>\n",
       "      <td>7.9250</td>\n",
       "      <td>0</td>\n",
       "      <td>0</td>\n",
       "      <td>1</td>\n",
       "    </tr>\n",
       "    <tr>\n",
       "      <th>3</th>\n",
       "      <td>35.0</td>\n",
       "      <td>53.1000</td>\n",
       "      <td>1</td>\n",
       "      <td>0</td>\n",
       "      <td>1</td>\n",
       "    </tr>\n",
       "    <tr>\n",
       "      <th>4</th>\n",
       "      <td>35.0</td>\n",
       "      <td>8.0500</td>\n",
       "      <td>0</td>\n",
       "      <td>0</td>\n",
       "      <td>0</td>\n",
       "    </tr>\n",
       "  </tbody>\n",
       "</table>\n",
       "</div>"
      ],
      "text/plain": [
       "    Age     Fare  SibSp  Parch  Survived\n",
       "0  22.0   7.2500      1      0         0\n",
       "1  38.0  71.2833      1      0         1\n",
       "2  26.0   7.9250      0      0         1\n",
       "3  35.0  53.1000      1      0         1\n",
       "4  35.0   8.0500      0      0         0"
      ]
     },
     "execution_count": 435,
     "metadata": {},
     "output_type": "execute_result"
    }
   ],
   "source": [
    "df.head()"
   ]
  },
  {
   "cell_type": "code",
   "execution_count": 436,
   "metadata": {},
   "outputs": [],
   "source": [
    "df['family'] = df['SibSp'] + df['Parch']"
   ]
  },
  {
   "cell_type": "code",
   "execution_count": 437,
   "metadata": {},
   "outputs": [
    {
     "data": {
      "application/vnd.microsoft.datawrangler.viewer.v0+json": {
       "columns": [
        {
         "name": "index",
         "rawType": "int64",
         "type": "integer"
        },
        {
         "name": "Age",
         "rawType": "float64",
         "type": "float"
        },
        {
         "name": "Fare",
         "rawType": "float64",
         "type": "float"
        },
        {
         "name": "SibSp",
         "rawType": "int64",
         "type": "integer"
        },
        {
         "name": "Parch",
         "rawType": "int64",
         "type": "integer"
        },
        {
         "name": "Survived",
         "rawType": "int64",
         "type": "integer"
        },
        {
         "name": "family",
         "rawType": "int64",
         "type": "integer"
        }
       ],
       "ref": "a32bcb05-eb25-4a0e-87a8-f30e5e10b0ec",
       "rows": [
        [
         "0",
         "22.0",
         "7.25",
         "1",
         "0",
         "0",
         "1"
        ],
        [
         "1",
         "38.0",
         "71.2833",
         "1",
         "0",
         "1",
         "1"
        ],
        [
         "2",
         "26.0",
         "7.925",
         "0",
         "0",
         "1",
         "0"
        ],
        [
         "3",
         "35.0",
         "53.1",
         "1",
         "0",
         "1",
         "1"
        ],
        [
         "4",
         "35.0",
         "8.05",
         "0",
         "0",
         "0",
         "0"
        ]
       ],
       "shape": {
        "columns": 6,
        "rows": 5
       }
      },
      "text/html": [
       "<div>\n",
       "<style scoped>\n",
       "    .dataframe tbody tr th:only-of-type {\n",
       "        vertical-align: middle;\n",
       "    }\n",
       "\n",
       "    .dataframe tbody tr th {\n",
       "        vertical-align: top;\n",
       "    }\n",
       "\n",
       "    .dataframe thead th {\n",
       "        text-align: right;\n",
       "    }\n",
       "</style>\n",
       "<table border=\"1\" class=\"dataframe\">\n",
       "  <thead>\n",
       "    <tr style=\"text-align: right;\">\n",
       "      <th></th>\n",
       "      <th>Age</th>\n",
       "      <th>Fare</th>\n",
       "      <th>SibSp</th>\n",
       "      <th>Parch</th>\n",
       "      <th>Survived</th>\n",
       "      <th>family</th>\n",
       "    </tr>\n",
       "  </thead>\n",
       "  <tbody>\n",
       "    <tr>\n",
       "      <th>0</th>\n",
       "      <td>22.0</td>\n",
       "      <td>7.2500</td>\n",
       "      <td>1</td>\n",
       "      <td>0</td>\n",
       "      <td>0</td>\n",
       "      <td>1</td>\n",
       "    </tr>\n",
       "    <tr>\n",
       "      <th>1</th>\n",
       "      <td>38.0</td>\n",
       "      <td>71.2833</td>\n",
       "      <td>1</td>\n",
       "      <td>0</td>\n",
       "      <td>1</td>\n",
       "      <td>1</td>\n",
       "    </tr>\n",
       "    <tr>\n",
       "      <th>2</th>\n",
       "      <td>26.0</td>\n",
       "      <td>7.9250</td>\n",
       "      <td>0</td>\n",
       "      <td>0</td>\n",
       "      <td>1</td>\n",
       "      <td>0</td>\n",
       "    </tr>\n",
       "    <tr>\n",
       "      <th>3</th>\n",
       "      <td>35.0</td>\n",
       "      <td>53.1000</td>\n",
       "      <td>1</td>\n",
       "      <td>0</td>\n",
       "      <td>1</td>\n",
       "      <td>1</td>\n",
       "    </tr>\n",
       "    <tr>\n",
       "      <th>4</th>\n",
       "      <td>35.0</td>\n",
       "      <td>8.0500</td>\n",
       "      <td>0</td>\n",
       "      <td>0</td>\n",
       "      <td>0</td>\n",
       "      <td>0</td>\n",
       "    </tr>\n",
       "  </tbody>\n",
       "</table>\n",
       "</div>"
      ],
      "text/plain": [
       "    Age     Fare  SibSp  Parch  Survived  family\n",
       "0  22.0   7.2500      1      0         0       1\n",
       "1  38.0  71.2833      1      0         1       1\n",
       "2  26.0   7.9250      0      0         1       0\n",
       "3  35.0  53.1000      1      0         1       1\n",
       "4  35.0   8.0500      0      0         0       0"
      ]
     },
     "execution_count": 437,
     "metadata": {},
     "output_type": "execute_result"
    }
   ],
   "source": [
    "df.head()"
   ]
  },
  {
   "cell_type": "code",
   "execution_count": 438,
   "metadata": {},
   "outputs": [],
   "source": [
    "df.drop(columns=['SibSp','Parch'],inplace=True)"
   ]
  },
  {
   "cell_type": "code",
   "execution_count": 439,
   "metadata": {},
   "outputs": [
    {
     "data": {
      "application/vnd.microsoft.datawrangler.viewer.v0+json": {
       "columns": [
        {
         "name": "index",
         "rawType": "int64",
         "type": "integer"
        },
        {
         "name": "Age",
         "rawType": "float64",
         "type": "float"
        },
        {
         "name": "Fare",
         "rawType": "float64",
         "type": "float"
        },
        {
         "name": "Survived",
         "rawType": "int64",
         "type": "integer"
        },
        {
         "name": "family",
         "rawType": "int64",
         "type": "integer"
        }
       ],
       "ref": "64077180-a096-4e2a-9550-f29f58017493",
       "rows": [
        [
         "0",
         "22.0",
         "7.25",
         "0",
         "1"
        ],
        [
         "1",
         "38.0",
         "71.2833",
         "1",
         "1"
        ],
        [
         "2",
         "26.0",
         "7.925",
         "1",
         "0"
        ],
        [
         "3",
         "35.0",
         "53.1",
         "1",
         "1"
        ],
        [
         "4",
         "35.0",
         "8.05",
         "0",
         "0"
        ]
       ],
       "shape": {
        "columns": 4,
        "rows": 5
       }
      },
      "text/html": [
       "<div>\n",
       "<style scoped>\n",
       "    .dataframe tbody tr th:only-of-type {\n",
       "        vertical-align: middle;\n",
       "    }\n",
       "\n",
       "    .dataframe tbody tr th {\n",
       "        vertical-align: top;\n",
       "    }\n",
       "\n",
       "    .dataframe thead th {\n",
       "        text-align: right;\n",
       "    }\n",
       "</style>\n",
       "<table border=\"1\" class=\"dataframe\">\n",
       "  <thead>\n",
       "    <tr style=\"text-align: right;\">\n",
       "      <th></th>\n",
       "      <th>Age</th>\n",
       "      <th>Fare</th>\n",
       "      <th>Survived</th>\n",
       "      <th>family</th>\n",
       "    </tr>\n",
       "  </thead>\n",
       "  <tbody>\n",
       "    <tr>\n",
       "      <th>0</th>\n",
       "      <td>22.0</td>\n",
       "      <td>7.2500</td>\n",
       "      <td>0</td>\n",
       "      <td>1</td>\n",
       "    </tr>\n",
       "    <tr>\n",
       "      <th>1</th>\n",
       "      <td>38.0</td>\n",
       "      <td>71.2833</td>\n",
       "      <td>1</td>\n",
       "      <td>1</td>\n",
       "    </tr>\n",
       "    <tr>\n",
       "      <th>2</th>\n",
       "      <td>26.0</td>\n",
       "      <td>7.9250</td>\n",
       "      <td>1</td>\n",
       "      <td>0</td>\n",
       "    </tr>\n",
       "    <tr>\n",
       "      <th>3</th>\n",
       "      <td>35.0</td>\n",
       "      <td>53.1000</td>\n",
       "      <td>1</td>\n",
       "      <td>1</td>\n",
       "    </tr>\n",
       "    <tr>\n",
       "      <th>4</th>\n",
       "      <td>35.0</td>\n",
       "      <td>8.0500</td>\n",
       "      <td>0</td>\n",
       "      <td>0</td>\n",
       "    </tr>\n",
       "  </tbody>\n",
       "</table>\n",
       "</div>"
      ],
      "text/plain": [
       "    Age     Fare  Survived  family\n",
       "0  22.0   7.2500         0       1\n",
       "1  38.0  71.2833         1       1\n",
       "2  26.0   7.9250         1       0\n",
       "3  35.0  53.1000         1       1\n",
       "4  35.0   8.0500         0       0"
      ]
     },
     "execution_count": 439,
     "metadata": {},
     "output_type": "execute_result"
    }
   ],
   "source": [
    "df.head()"
   ]
  },
  {
   "cell_type": "code",
   "execution_count": 440,
   "metadata": {},
   "outputs": [],
   "source": [
    "X = df.drop(columns=['Survived'])\n",
    "y = df['Survived']"
   ]
  },
  {
   "cell_type": "code",
   "execution_count": 441,
   "metadata": {},
   "outputs": [],
   "source": [
    "X_train,X_test,y_train,y_test = train_test_split(X,y,test_size=0.2,random_state=42)"
   ]
  },
  {
   "cell_type": "code",
   "execution_count": 442,
   "metadata": {},
   "outputs": [
    {
     "data": {
      "application/vnd.microsoft.datawrangler.viewer.v0+json": {
       "columns": [
        {
         "name": "index",
         "rawType": "int64",
         "type": "integer"
        },
        {
         "name": "Age",
         "rawType": "float64",
         "type": "float"
        },
        {
         "name": "Fare",
         "rawType": "float64",
         "type": "float"
        },
        {
         "name": "family",
         "rawType": "int64",
         "type": "integer"
        }
       ],
       "ref": "42e782e6-a059-4dfd-b954-47228e07b45f",
       "rows": [
        [
         "328",
         "31.0",
         "20.525",
         "2"
        ],
        [
         "73",
         "26.0",
         "14.4542",
         "1"
        ],
        [
         "253",
         "30.0",
         "16.1",
         "1"
        ],
        [
         "719",
         "33.0",
         "7.775",
         "0"
        ],
        [
         "666",
         "25.0",
         "13.0",
         "0"
        ]
       ],
       "shape": {
        "columns": 3,
        "rows": 5
       }
      },
      "text/html": [
       "<div>\n",
       "<style scoped>\n",
       "    .dataframe tbody tr th:only-of-type {\n",
       "        vertical-align: middle;\n",
       "    }\n",
       "\n",
       "    .dataframe tbody tr th {\n",
       "        vertical-align: top;\n",
       "    }\n",
       "\n",
       "    .dataframe thead th {\n",
       "        text-align: right;\n",
       "    }\n",
       "</style>\n",
       "<table border=\"1\" class=\"dataframe\">\n",
       "  <thead>\n",
       "    <tr style=\"text-align: right;\">\n",
       "      <th></th>\n",
       "      <th>Age</th>\n",
       "      <th>Fare</th>\n",
       "      <th>family</th>\n",
       "    </tr>\n",
       "  </thead>\n",
       "  <tbody>\n",
       "    <tr>\n",
       "      <th>328</th>\n",
       "      <td>31.0</td>\n",
       "      <td>20.5250</td>\n",
       "      <td>2</td>\n",
       "    </tr>\n",
       "    <tr>\n",
       "      <th>73</th>\n",
       "      <td>26.0</td>\n",
       "      <td>14.4542</td>\n",
       "      <td>1</td>\n",
       "    </tr>\n",
       "    <tr>\n",
       "      <th>253</th>\n",
       "      <td>30.0</td>\n",
       "      <td>16.1000</td>\n",
       "      <td>1</td>\n",
       "    </tr>\n",
       "    <tr>\n",
       "      <th>719</th>\n",
       "      <td>33.0</td>\n",
       "      <td>7.7750</td>\n",
       "      <td>0</td>\n",
       "    </tr>\n",
       "    <tr>\n",
       "      <th>666</th>\n",
       "      <td>25.0</td>\n",
       "      <td>13.0000</td>\n",
       "      <td>0</td>\n",
       "    </tr>\n",
       "  </tbody>\n",
       "</table>\n",
       "</div>"
      ],
      "text/plain": [
       "      Age     Fare  family\n",
       "328  31.0  20.5250       2\n",
       "73   26.0  14.4542       1\n",
       "253  30.0  16.1000       1\n",
       "719  33.0   7.7750       0\n",
       "666  25.0  13.0000       0"
      ]
     },
     "execution_count": 442,
     "metadata": {},
     "output_type": "execute_result"
    }
   ],
   "source": [
    "X_train.head()"
   ]
  },
  {
   "cell_type": "code",
   "execution_count": 443,
   "metadata": {},
   "outputs": [
    {
     "data": {
      "text/plain": [
       "0.6293706293706294"
      ]
     },
     "execution_count": 443,
     "metadata": {},
     "output_type": "execute_result"
    }
   ],
   "source": [
    "# Without binarization\n",
    "\n",
    "clf = DecisionTreeClassifier()\n",
    "\n",
    "clf.fit(X_train,y_train)\n",
    "\n",
    "y_pred = clf.predict(X_test)\n",
    "\n",
    "accuracy_score(y_test,y_pred)"
   ]
  },
  {
   "cell_type": "code",
   "execution_count": 444,
   "metadata": {},
   "outputs": [
    {
     "data": {
      "text/plain": [
       "np.float64(0.6443075117370892)"
      ]
     },
     "execution_count": 444,
     "metadata": {},
     "output_type": "execute_result"
    }
   ],
   "source": [
    "np.mean(cross_val_score(DecisionTreeClassifier(),X,y,cv=10,scoring='accuracy'))"
   ]
  },
  {
   "cell_type": "code",
   "execution_count": 445,
   "metadata": {},
   "outputs": [],
   "source": [
    "# Applying Binarization\n",
    "\n",
    "from sklearn.preprocessing import Binarizer"
   ]
  },
  {
   "cell_type": "code",
   "execution_count": 446,
   "metadata": {},
   "outputs": [],
   "source": [
    "trf = ColumnTransformer([\n",
    "    ('bin',Binarizer(copy=False),['family'])\n",
    "],remainder='passthrough')"
   ]
  },
  {
   "cell_type": "code",
   "execution_count": 447,
   "metadata": {},
   "outputs": [],
   "source": [
    "X_train_trf = trf.fit_transform(X_train)\n",
    "X_test_trf = trf.transform(X_test)"
   ]
  },
  {
   "cell_type": "code",
   "execution_count": 448,
   "metadata": {},
   "outputs": [
    {
     "data": {
      "application/vnd.microsoft.datawrangler.viewer.v0+json": {
       "columns": [
        {
         "name": "index",
         "rawType": "int64",
         "type": "integer"
        },
        {
         "name": "family",
         "rawType": "float64",
         "type": "float"
        },
        {
         "name": "Age",
         "rawType": "float64",
         "type": "float"
        },
        {
         "name": "Fare",
         "rawType": "float64",
         "type": "float"
        }
       ],
       "ref": "bb5fbf20-d358-488b-b335-cfe40e650985",
       "rows": [
        [
         "0",
         "1.0",
         "31.0",
         "20.525"
        ],
        [
         "1",
         "1.0",
         "26.0",
         "14.4542"
        ],
        [
         "2",
         "1.0",
         "30.0",
         "16.1"
        ],
        [
         "3",
         "0.0",
         "33.0",
         "7.775"
        ],
        [
         "4",
         "0.0",
         "25.0",
         "13.0"
        ],
        [
         "5",
         "0.0",
         "40.0",
         "27.7208"
        ],
        [
         "6",
         "0.0",
         "22.0",
         "7.8958"
        ],
        [
         "7",
         "1.0",
         "42.0",
         "27.0"
        ],
        [
         "8",
         "0.0",
         "31.0",
         "8.6833"
        ],
        [
         "9",
         "1.0",
         "18.0",
         "6.4958"
        ],
        [
         "10",
         "0.0",
         "22.0",
         "7.25"
        ],
        [
         "11",
         "0.0",
         "16.0",
         "9.2167"
        ],
        [
         "12",
         "0.0",
         "28.0",
         "7.8958"
        ],
        [
         "13",
         "1.0",
         "17.0",
         "7.925"
        ],
        [
         "14",
         "1.0",
         "29.0",
         "27.7208"
        ],
        [
         "15",
         "1.0",
         "6.0",
         "33.0"
        ],
        [
         "16",
         "1.0",
         "49.0",
         "56.9292"
        ],
        [
         "17",
         "0.0",
         "24.0",
         "7.4958"
        ],
        [
         "18",
         "0.0",
         "28.0",
         "7.8958"
        ],
        [
         "19",
         "1.0",
         "24.0",
         "16.1"
        ],
        [
         "20",
         "1.0",
         "40.0",
         "134.5"
        ],
        [
         "21",
         "0.0",
         "34.0",
         "13.0"
        ],
        [
         "22",
         "1.0",
         "18.0",
         "13.0"
        ],
        [
         "23",
         "1.0",
         "39.0",
         "83.1583"
        ],
        [
         "24",
         "0.0",
         "32.0",
         "7.8542"
        ],
        [
         "25",
         "1.0",
         "19.0",
         "91.0792"
        ],
        [
         "26",
         "0.0",
         "22.0",
         "9.0"
        ],
        [
         "27",
         "0.0",
         "58.0",
         "29.7"
        ],
        [
         "28",
         "1.0",
         "19.0",
         "26.0"
        ],
        [
         "29",
         "1.0",
         "18.0",
         "18.0"
        ],
        [
         "30",
         "1.0",
         "24.0",
         "14.5"
        ],
        [
         "31",
         "1.0",
         "4.0",
         "81.8583"
        ],
        [
         "32",
         "1.0",
         "22.0",
         "29.0"
        ],
        [
         "33",
         "0.0",
         "52.0",
         "13.0"
        ],
        [
         "34",
         "0.0",
         "20.0",
         "9.8458"
        ],
        [
         "35",
         "0.0",
         "36.0",
         "10.5"
        ],
        [
         "36",
         "0.0",
         "35.0",
         "10.5"
        ],
        [
         "37",
         "1.0",
         "5.0",
         "19.2583"
        ],
        [
         "38",
         "1.0",
         "32.0",
         "15.5"
        ],
        [
         "39",
         "1.0",
         "18.0",
         "262.375"
        ],
        [
         "40",
         "0.0",
         "28.0",
         "26.55"
        ],
        [
         "41",
         "0.0",
         "22.0",
         "7.5208"
        ],
        [
         "42",
         "0.0",
         "30.0",
         "10.5"
        ],
        [
         "43",
         "0.0",
         "26.0",
         "78.85"
        ],
        [
         "44",
         "1.0",
         "36.0",
         "512.3292"
        ],
        [
         "45",
         "0.0",
         "23.0",
         "13.7917"
        ],
        [
         "46",
         "0.0",
         "48.0",
         "13.0"
        ],
        [
         "47",
         "0.0",
         "32.0",
         "56.4958"
        ],
        [
         "48",
         "1.0",
         "2.0",
         "10.4625"
        ],
        [
         "49",
         "1.0",
         "22.0",
         "41.5792"
        ]
       ],
       "shape": {
        "columns": 3,
        "rows": 571
       }
      },
      "text/html": [
       "<div>\n",
       "<style scoped>\n",
       "    .dataframe tbody tr th:only-of-type {\n",
       "        vertical-align: middle;\n",
       "    }\n",
       "\n",
       "    .dataframe tbody tr th {\n",
       "        vertical-align: top;\n",
       "    }\n",
       "\n",
       "    .dataframe thead th {\n",
       "        text-align: right;\n",
       "    }\n",
       "</style>\n",
       "<table border=\"1\" class=\"dataframe\">\n",
       "  <thead>\n",
       "    <tr style=\"text-align: right;\">\n",
       "      <th></th>\n",
       "      <th>family</th>\n",
       "      <th>Age</th>\n",
       "      <th>Fare</th>\n",
       "    </tr>\n",
       "  </thead>\n",
       "  <tbody>\n",
       "    <tr>\n",
       "      <th>0</th>\n",
       "      <td>1.0</td>\n",
       "      <td>31.0</td>\n",
       "      <td>20.5250</td>\n",
       "    </tr>\n",
       "    <tr>\n",
       "      <th>1</th>\n",
       "      <td>1.0</td>\n",
       "      <td>26.0</td>\n",
       "      <td>14.4542</td>\n",
       "    </tr>\n",
       "    <tr>\n",
       "      <th>2</th>\n",
       "      <td>1.0</td>\n",
       "      <td>30.0</td>\n",
       "      <td>16.1000</td>\n",
       "    </tr>\n",
       "    <tr>\n",
       "      <th>3</th>\n",
       "      <td>0.0</td>\n",
       "      <td>33.0</td>\n",
       "      <td>7.7750</td>\n",
       "    </tr>\n",
       "    <tr>\n",
       "      <th>4</th>\n",
       "      <td>0.0</td>\n",
       "      <td>25.0</td>\n",
       "      <td>13.0000</td>\n",
       "    </tr>\n",
       "    <tr>\n",
       "      <th>...</th>\n",
       "      <td>...</td>\n",
       "      <td>...</td>\n",
       "      <td>...</td>\n",
       "    </tr>\n",
       "    <tr>\n",
       "      <th>566</th>\n",
       "      <td>1.0</td>\n",
       "      <td>46.0</td>\n",
       "      <td>61.1750</td>\n",
       "    </tr>\n",
       "    <tr>\n",
       "      <th>567</th>\n",
       "      <td>0.0</td>\n",
       "      <td>25.0</td>\n",
       "      <td>13.0000</td>\n",
       "    </tr>\n",
       "    <tr>\n",
       "      <th>568</th>\n",
       "      <td>0.0</td>\n",
       "      <td>41.0</td>\n",
       "      <td>134.5000</td>\n",
       "    </tr>\n",
       "    <tr>\n",
       "      <th>569</th>\n",
       "      <td>1.0</td>\n",
       "      <td>33.0</td>\n",
       "      <td>20.5250</td>\n",
       "    </tr>\n",
       "    <tr>\n",
       "      <th>570</th>\n",
       "      <td>0.0</td>\n",
       "      <td>33.0</td>\n",
       "      <td>7.8958</td>\n",
       "    </tr>\n",
       "  </tbody>\n",
       "</table>\n",
       "<p>571 rows × 3 columns</p>\n",
       "</div>"
      ],
      "text/plain": [
       "     family   Age      Fare\n",
       "0       1.0  31.0   20.5250\n",
       "1       1.0  26.0   14.4542\n",
       "2       1.0  30.0   16.1000\n",
       "3       0.0  33.0    7.7750\n",
       "4       0.0  25.0   13.0000\n",
       "..      ...   ...       ...\n",
       "566     1.0  46.0   61.1750\n",
       "567     0.0  25.0   13.0000\n",
       "568     0.0  41.0  134.5000\n",
       "569     1.0  33.0   20.5250\n",
       "570     0.0  33.0    7.8958\n",
       "\n",
       "[571 rows x 3 columns]"
      ]
     },
     "execution_count": 448,
     "metadata": {},
     "output_type": "execute_result"
    }
   ],
   "source": [
    "pd.DataFrame(X_train_trf,columns=['family','Age','Fare'])"
   ]
  },
  {
   "cell_type": "code",
   "execution_count": 449,
   "metadata": {},
   "outputs": [
    {
     "data": {
      "text/plain": [
       "0.6083916083916084"
      ]
     },
     "execution_count": 449,
     "metadata": {},
     "output_type": "execute_result"
    }
   ],
   "source": [
    "clf = DecisionTreeClassifier()\n",
    "clf.fit(X_train_trf,y_train)\n",
    "y_pred2 = clf.predict(X_test_trf)\n",
    "\n",
    "accuracy_score(y_test,y_pred2)"
   ]
  },
  {
   "cell_type": "code",
   "execution_count": 450,
   "metadata": {},
   "outputs": [
    {
     "data": {
      "text/plain": [
       "np.float64(0.6206181533646322)"
      ]
     },
     "execution_count": 450,
     "metadata": {},
     "output_type": "execute_result"
    }
   ],
   "source": [
    "X_trf = trf.fit_transform(X)\n",
    "np.mean(cross_val_score(DecisionTreeClassifier(),X_trf,y,cv=10,scoring='accuracy'))"
   ]
  },
  {
   "cell_type": "code",
   "execution_count": 451,
   "metadata": {},
   "outputs": [
    {
     "data": {
      "application/vnd.microsoft.datawrangler.viewer.v0+json": {
       "columns": [
        {
         "name": "index",
         "rawType": "object",
         "type": "string"
        },
        {
         "name": "0",
         "rawType": "int64",
         "type": "integer"
        }
       ],
       "ref": "545a43f3-580d-4fcb-990f-4b06b3ebac0a",
       "rows": [
        [
         "Age",
         "0"
        ],
        [
         "Fare",
         "0"
        ],
        [
         "Survived",
         "0"
        ],
        [
         "family",
         "0"
        ]
       ],
       "shape": {
        "columns": 1,
        "rows": 4
       }
      },
      "text/plain": [
       "Age         0\n",
       "Fare        0\n",
       "Survived    0\n",
       "family      0\n",
       "dtype: int64"
      ]
     },
     "execution_count": 451,
     "metadata": {},
     "output_type": "execute_result"
    }
   ],
   "source": [
    "clf = DecisionTreeClassifier()\n",
    "clf.fit(X_train,y_train)\n",
    "y_pred = clf.predict(X_test)\n",
    "\n",
    "accuracy_score(y_pred,y_test)\n",
    "df.isna().sum()"
   ]
  },
  {
   "cell_type": "code",
   "execution_count": 452,
   "metadata": {},
   "outputs": [
    {
     "data": {
      "application/vnd.microsoft.datawrangler.viewer.v0+json": {
       "columns": [
        {
         "name": "index",
         "rawType": "int64",
         "type": "integer"
        },
        {
         "name": "Age",
         "rawType": "float64",
         "type": "float"
        },
        {
         "name": "Fare",
         "rawType": "float64",
         "type": "float"
        }
       ],
       "ref": "e6c50e28-7cb2-4bbe-8fb5-9f90e3c76618",
       "rows": [
        [
         "530",
         "2.0",
         "26.0"
        ],
        [
         "172",
         "1.0",
         "11.1333"
        ],
        [
         "263",
         "40.0",
         "0.0"
        ],
        [
         "754",
         "48.0",
         "65.0"
        ],
        [
         "751",
         "6.0",
         "12.475"
        ],
        [
         "820",
         "52.0",
         "93.5"
        ],
        [
         "290",
         "26.0",
         "78.85"
        ],
        [
         "88",
         "23.0",
         "263.0"
        ],
        [
         "30",
         "40.0",
         "27.7208"
        ],
        [
         "478",
         "22.0",
         "7.5208"
        ],
        [
         "268",
         "58.0",
         "153.4625"
        ],
        [
         "161",
         "40.0",
         "15.75"
        ],
        [
         "436",
         "21.0",
         "34.375"
        ],
        [
         "139",
         "24.0",
         "79.2"
        ],
        [
         "208",
         "16.0",
         "7.75"
        ],
        [
         "257",
         "30.0",
         "86.5"
        ],
        [
         "551",
         "27.0",
         "26.0"
        ],
        [
         "696",
         "44.0",
         "8.05"
        ],
        [
         "341",
         "24.0",
         "263.0"
        ],
        [
         "791",
         "16.0",
         "26.0"
        ],
        [
         "717",
         "27.0",
         "10.5"
        ],
        [
         "664",
         "20.0",
         "7.925"
        ],
        [
         "357",
         "38.0",
         "13.0"
        ],
        [
         "592",
         "47.0",
         "7.25"
        ],
        [
         "404",
         "20.0",
         "8.6625"
        ],
        [
         "150",
         "51.0",
         "12.525"
        ],
        [
         "641",
         "24.0",
         "69.3"
        ],
        [
         "283",
         "19.0",
         "8.05"
        ],
        [
         "561",
         "40.0",
         "7.8958"
        ],
        [
         "146",
         "27.0",
         "7.7958"
        ],
        [
         "586",
         "47.0",
         "15.0"
        ],
        [
         "33",
         "66.0",
         "10.5"
        ],
        [
         "138",
         "16.0",
         "9.2167"
        ],
        [
         "188",
         "40.0",
         "15.5"
        ],
        [
         "191",
         "19.0",
         "13.0"
        ],
        [
         "668",
         "43.0",
         "8.05"
        ],
        [
         "582",
         "54.0",
         "26.0"
        ],
        [
         "173",
         "21.0",
         "7.925"
        ],
        [
         "323",
         "22.0",
         "29.0"
        ],
        [
         "401",
         "26.0",
         "8.05"
        ],
        [
         "804",
         "27.0",
         "6.975"
        ],
        [
         "311",
         "18.0",
         "262.375"
        ],
        [
         "569",
         "32.0",
         "7.8542"
        ],
        [
         "515",
         "47.0",
         "34.0208"
        ],
        [
         "22",
         "15.0",
         "8.0292"
        ],
        [
         "406",
         "51.0",
         "7.75"
        ],
        [
         "371",
         "18.0",
         "6.4958"
        ],
        [
         "336",
         "29.0",
         "66.6"
        ],
        [
         "281",
         "28.0",
         "7.8542"
        ],
        [
         "119",
         "2.0",
         "31.275"
        ]
       ],
       "shape": {
        "columns": 2,
        "rows": 178
       }
      },
      "text/html": [
       "<div>\n",
       "<style scoped>\n",
       "    .dataframe tbody tr th:only-of-type {\n",
       "        vertical-align: middle;\n",
       "    }\n",
       "\n",
       "    .dataframe tbody tr th {\n",
       "        vertical-align: top;\n",
       "    }\n",
       "\n",
       "    .dataframe thead th {\n",
       "        text-align: right;\n",
       "    }\n",
       "</style>\n",
       "<table border=\"1\" class=\"dataframe\">\n",
       "  <thead>\n",
       "    <tr style=\"text-align: right;\">\n",
       "      <th></th>\n",
       "      <th>Age</th>\n",
       "      <th>Fare</th>\n",
       "    </tr>\n",
       "  </thead>\n",
       "  <tbody>\n",
       "    <tr>\n",
       "      <th>530</th>\n",
       "      <td>2.0</td>\n",
       "      <td>26.0000</td>\n",
       "    </tr>\n",
       "    <tr>\n",
       "      <th>172</th>\n",
       "      <td>1.0</td>\n",
       "      <td>11.1333</td>\n",
       "    </tr>\n",
       "    <tr>\n",
       "      <th>263</th>\n",
       "      <td>40.0</td>\n",
       "      <td>0.0000</td>\n",
       "    </tr>\n",
       "    <tr>\n",
       "      <th>754</th>\n",
       "      <td>48.0</td>\n",
       "      <td>65.0000</td>\n",
       "    </tr>\n",
       "    <tr>\n",
       "      <th>751</th>\n",
       "      <td>6.0</td>\n",
       "      <td>12.4750</td>\n",
       "    </tr>\n",
       "    <tr>\n",
       "      <th>...</th>\n",
       "      <td>...</td>\n",
       "      <td>...</td>\n",
       "    </tr>\n",
       "    <tr>\n",
       "      <th>883</th>\n",
       "      <td>28.0</td>\n",
       "      <td>10.5000</td>\n",
       "    </tr>\n",
       "    <tr>\n",
       "      <th>238</th>\n",
       "      <td>19.0</td>\n",
       "      <td>10.5000</td>\n",
       "    </tr>\n",
       "    <tr>\n",
       "      <th>789</th>\n",
       "      <td>46.0</td>\n",
       "      <td>79.2000</td>\n",
       "    </tr>\n",
       "    <tr>\n",
       "      <th>704</th>\n",
       "      <td>26.0</td>\n",
       "      <td>7.8542</td>\n",
       "    </tr>\n",
       "    <tr>\n",
       "      <th>856</th>\n",
       "      <td>45.0</td>\n",
       "      <td>164.8667</td>\n",
       "    </tr>\n",
       "  </tbody>\n",
       "</table>\n",
       "<p>178 rows × 2 columns</p>\n",
       "</div>"
      ],
      "text/plain": [
       "      Age      Fare\n",
       "530   2.0   26.0000\n",
       "172   1.0   11.1333\n",
       "263  40.0    0.0000\n",
       "754  48.0   65.0000\n",
       "751   6.0   12.4750\n",
       "..    ...       ...\n",
       "883  28.0   10.5000\n",
       "238  19.0   10.5000\n",
       "789  46.0   79.2000\n",
       "704  26.0    7.8542\n",
       "856  45.0  164.8667\n",
       "\n",
       "[178 rows x 2 columns]"
      ]
     },
     "execution_count": 452,
     "metadata": {},
     "output_type": "execute_result"
    }
   ],
   "source": [
    "\n",
    "from sklearn.model_selection import train_test_split\n",
    "X_train,X_test,y_train,y_test = train_test_split(df.drop(columns=['Survived','family'],axis=1),df['Survived'],train_size = 0.25,random_state = 0)\n",
    "X_train"
   ]
  },
  {
   "cell_type": "code",
   "execution_count": 453,
   "metadata": {},
   "outputs": [],
   "source": [
    "trf = ColumnTransformer(\n",
    "    [('x_trf_age_uniform',KBinsDiscretizer(n_bins=10,encode='ordinal',strategy='uniform'),[0]), \n",
    "    ('x_trf_age_quantile',KBinsDiscretizer(n_bins=10,encode='ordinal',quantile_method='linear'),[0]),\n",
    "    ('x_trf_fare_quantile',KBinsDiscretizer(n_bins=10,encode='ordinal',quantile_method='linear'),[1]),\n",
    "    ('x_trf_fare_uniform',KBinsDiscretizer(n_bins=10,encode='ordinal',strategy='uniform'),[1]),\n",
    "    ],remainder='passthrough')\n",
    "\n",
    "x_train_trf = trf.fit_transform(X_train)\n"
   ]
  },
  {
   "cell_type": "code",
   "execution_count": 454,
   "metadata": {},
   "outputs": [
    {
     "data": {
      "text/plain": [
       "(178, 4)"
      ]
     },
     "execution_count": 454,
     "metadata": {},
     "output_type": "execute_result"
    }
   ],
   "source": [
    "x_train_trf.shape\n",
    "\n"
   ]
  },
  {
   "cell_type": "code",
   "execution_count": 456,
   "metadata": {},
   "outputs": [],
   "source": [
    "df_trf = pd.DataFrame({'age_train':X_train['Age'].values,\n",
    "    'fare_train':X_train['Fare'].values,             \n",
    "    'x_trf_age_uniform':x_train_trf[:,0], \n",
    "    'x_trf_age_quantile':x_train_trf[:,1],\n",
    "    'x_trf_fare_uniform':x_train_trf[:,3],\n",
    "    'x_trf_fare_quantile':x_train_trf[:,2]\n",
    "    })"
   ]
  },
  {
   "cell_type": "code",
   "execution_count": 457,
   "metadata": {},
   "outputs": [
    {
     "data": {
      "application/vnd.microsoft.datawrangler.viewer.v0+json": {
       "columns": [
        {
         "name": "index",
         "rawType": "int64",
         "type": "integer"
        },
        {
         "name": "age_train",
         "rawType": "float64",
         "type": "float"
        },
        {
         "name": "fare_train",
         "rawType": "float64",
         "type": "float"
        },
        {
         "name": "x_trf_age_uniform",
         "rawType": "float64",
         "type": "float"
        },
        {
         "name": "x_trf_age_quantile",
         "rawType": "float64",
         "type": "float"
        },
        {
         "name": "x_trf_fare_uniform",
         "rawType": "float64",
         "type": "float"
        },
        {
         "name": "x_trf_fare_quantile",
         "rawType": "float64",
         "type": "float"
        }
       ],
       "ref": "92b93523-46e8-49a7-8e8b-0c2db3ff9715",
       "rows": [
        [
         "0",
         "2.0",
         "26.0",
         "0.0",
         "0.0",
         "0.0",
         "6.0"
        ],
        [
         "1",
         "1.0",
         "11.1333",
         "0.0",
         "0.0",
         "0.0",
         "3.0"
        ],
        [
         "2",
         "40.0",
         "0.0",
         "5.0",
         "7.0",
         "0.0",
         "0.0"
        ],
        [
         "3",
         "48.0",
         "65.0",
         "6.0",
         "8.0",
         "1.0",
         "8.0"
        ],
        [
         "4",
         "6.0",
         "12.475",
         "0.0",
         "0.0",
         "0.0",
         "4.0"
        ],
        [
         "5",
         "52.0",
         "93.5",
         "6.0",
         "9.0",
         "1.0",
         "9.0"
        ],
        [
         "6",
         "26.0",
         "78.85",
         "3.0",
         "4.0",
         "1.0",
         "8.0"
        ],
        [
         "7",
         "23.0",
         "263.0",
         "3.0",
         "3.0",
         "5.0",
         "9.0"
        ],
        [
         "8",
         "40.0",
         "27.7208",
         "5.0",
         "7.0",
         "0.0",
         "6.0"
        ],
        [
         "9",
         "22.0",
         "7.5208",
         "2.0",
         "3.0",
         "0.0",
         "0.0"
        ],
        [
         "10",
         "58.0",
         "153.4625",
         "7.0",
         "9.0",
         "2.0",
         "9.0"
        ],
        [
         "11",
         "40.0",
         "15.75",
         "5.0",
         "7.0",
         "0.0",
         "5.0"
        ],
        [
         "12",
         "21.0",
         "34.375",
         "2.0",
         "3.0",
         "0.0",
         "7.0"
        ],
        [
         "13",
         "24.0",
         "79.2",
         "3.0",
         "3.0",
         "1.0",
         "8.0"
        ],
        [
         "14",
         "16.0",
         "7.75",
         "2.0",
         "1.0",
         "0.0",
         "0.0"
        ],
        [
         "15",
         "30.0",
         "86.5",
         "3.0",
         "5.0",
         "1.0",
         "9.0"
        ],
        [
         "16",
         "27.0",
         "26.0",
         "3.0",
         "4.0",
         "0.0",
         "6.0"
        ],
        [
         "17",
         "44.0",
         "8.05",
         "5.0",
         "7.0",
         "0.0",
         "2.0"
        ],
        [
         "18",
         "24.0",
         "263.0",
         "3.0",
         "3.0",
         "5.0",
         "9.0"
        ],
        [
         "19",
         "16.0",
         "26.0",
         "2.0",
         "1.0",
         "0.0",
         "6.0"
        ],
        [
         "20",
         "27.0",
         "10.5",
         "3.0",
         "4.0",
         "0.0",
         "3.0"
        ],
        [
         "21",
         "20.0",
         "7.925",
         "2.0",
         "2.0",
         "0.0",
         "1.0"
        ],
        [
         "22",
         "38.0",
         "13.0",
         "5.0",
         "6.0",
         "0.0",
         "4.0"
        ],
        [
         "23",
         "47.0",
         "7.25",
         "6.0",
         "8.0",
         "0.0",
         "0.0"
        ],
        [
         "24",
         "20.0",
         "8.6625",
         "2.0",
         "2.0",
         "0.0",
         "2.0"
        ],
        [
         "25",
         "51.0",
         "12.525",
         "6.0",
         "9.0",
         "0.0",
         "4.0"
        ],
        [
         "26",
         "24.0",
         "69.3",
         "3.0",
         "3.0",
         "1.0",
         "8.0"
        ],
        [
         "27",
         "19.0",
         "8.05",
         "2.0",
         "2.0",
         "0.0",
         "2.0"
        ],
        [
         "28",
         "40.0",
         "7.8958",
         "5.0",
         "7.0",
         "0.0",
         "1.0"
        ],
        [
         "29",
         "27.0",
         "7.7958",
         "3.0",
         "4.0",
         "0.0",
         "1.0"
        ],
        [
         "30",
         "47.0",
         "15.0",
         "6.0",
         "8.0",
         "0.0",
         "4.0"
        ],
        [
         "31",
         "66.0",
         "10.5",
         "8.0",
         "9.0",
         "0.0",
         "3.0"
        ],
        [
         "32",
         "16.0",
         "9.2167",
         "2.0",
         "1.0",
         "0.0",
         "2.0"
        ],
        [
         "33",
         "40.0",
         "15.5",
         "5.0",
         "7.0",
         "0.0",
         "5.0"
        ],
        [
         "34",
         "19.0",
         "13.0",
         "2.0",
         "2.0",
         "0.0",
         "4.0"
        ],
        [
         "35",
         "43.0",
         "8.05",
         "5.0",
         "7.0",
         "0.0",
         "2.0"
        ],
        [
         "36",
         "54.0",
         "26.0",
         "7.0",
         "9.0",
         "0.0",
         "6.0"
        ],
        [
         "37",
         "21.0",
         "7.925",
         "2.0",
         "3.0",
         "0.0",
         "1.0"
        ],
        [
         "38",
         "22.0",
         "29.0",
         "2.0",
         "3.0",
         "0.0",
         "7.0"
        ],
        [
         "39",
         "26.0",
         "8.05",
         "3.0",
         "4.0",
         "0.0",
         "2.0"
        ],
        [
         "40",
         "27.0",
         "6.975",
         "3.0",
         "4.0",
         "0.0",
         "0.0"
        ],
        [
         "41",
         "18.0",
         "262.375",
         "2.0",
         "1.0",
         "5.0",
         "9.0"
        ],
        [
         "42",
         "32.0",
         "7.8542",
         "4.0",
         "5.0",
         "0.0",
         "1.0"
        ],
        [
         "43",
         "47.0",
         "34.0208",
         "6.0",
         "8.0",
         "0.0",
         "7.0"
        ],
        [
         "44",
         "15.0",
         "8.0292",
         "1.0",
         "0.0",
         "0.0",
         "2.0"
        ],
        [
         "45",
         "51.0",
         "7.75",
         "6.0",
         "9.0",
         "0.0",
         "0.0"
        ],
        [
         "46",
         "18.0",
         "6.4958",
         "2.0",
         "1.0",
         "0.0",
         "0.0"
        ],
        [
         "47",
         "29.0",
         "66.6",
         "3.0",
         "5.0",
         "1.0",
         "8.0"
        ],
        [
         "48",
         "28.0",
         "7.8542",
         "3.0",
         "5.0",
         "0.0",
         "1.0"
        ],
        [
         "49",
         "2.0",
         "31.275",
         "0.0",
         "0.0",
         "0.0",
         "7.0"
        ]
       ],
       "shape": {
        "columns": 6,
        "rows": 178
       }
      },
      "text/html": [
       "<div>\n",
       "<style scoped>\n",
       "    .dataframe tbody tr th:only-of-type {\n",
       "        vertical-align: middle;\n",
       "    }\n",
       "\n",
       "    .dataframe tbody tr th {\n",
       "        vertical-align: top;\n",
       "    }\n",
       "\n",
       "    .dataframe thead th {\n",
       "        text-align: right;\n",
       "    }\n",
       "</style>\n",
       "<table border=\"1\" class=\"dataframe\">\n",
       "  <thead>\n",
       "    <tr style=\"text-align: right;\">\n",
       "      <th></th>\n",
       "      <th>age_train</th>\n",
       "      <th>fare_train</th>\n",
       "      <th>x_trf_age_uniform</th>\n",
       "      <th>x_trf_age_quantile</th>\n",
       "      <th>x_trf_fare_uniform</th>\n",
       "      <th>x_trf_fare_quantile</th>\n",
       "    </tr>\n",
       "  </thead>\n",
       "  <tbody>\n",
       "    <tr>\n",
       "      <th>0</th>\n",
       "      <td>2.0</td>\n",
       "      <td>26.0000</td>\n",
       "      <td>0.0</td>\n",
       "      <td>0.0</td>\n",
       "      <td>0.0</td>\n",
       "      <td>6.0</td>\n",
       "    </tr>\n",
       "    <tr>\n",
       "      <th>1</th>\n",
       "      <td>1.0</td>\n",
       "      <td>11.1333</td>\n",
       "      <td>0.0</td>\n",
       "      <td>0.0</td>\n",
       "      <td>0.0</td>\n",
       "      <td>3.0</td>\n",
       "    </tr>\n",
       "    <tr>\n",
       "      <th>2</th>\n",
       "      <td>40.0</td>\n",
       "      <td>0.0000</td>\n",
       "      <td>5.0</td>\n",
       "      <td>7.0</td>\n",
       "      <td>0.0</td>\n",
       "      <td>0.0</td>\n",
       "    </tr>\n",
       "    <tr>\n",
       "      <th>3</th>\n",
       "      <td>48.0</td>\n",
       "      <td>65.0000</td>\n",
       "      <td>6.0</td>\n",
       "      <td>8.0</td>\n",
       "      <td>1.0</td>\n",
       "      <td>8.0</td>\n",
       "    </tr>\n",
       "    <tr>\n",
       "      <th>4</th>\n",
       "      <td>6.0</td>\n",
       "      <td>12.4750</td>\n",
       "      <td>0.0</td>\n",
       "      <td>0.0</td>\n",
       "      <td>0.0</td>\n",
       "      <td>4.0</td>\n",
       "    </tr>\n",
       "    <tr>\n",
       "      <th>...</th>\n",
       "      <td>...</td>\n",
       "      <td>...</td>\n",
       "      <td>...</td>\n",
       "      <td>...</td>\n",
       "      <td>...</td>\n",
       "      <td>...</td>\n",
       "    </tr>\n",
       "    <tr>\n",
       "      <th>173</th>\n",
       "      <td>28.0</td>\n",
       "      <td>10.5000</td>\n",
       "      <td>3.0</td>\n",
       "      <td>5.0</td>\n",
       "      <td>0.0</td>\n",
       "      <td>3.0</td>\n",
       "    </tr>\n",
       "    <tr>\n",
       "      <th>174</th>\n",
       "      <td>19.0</td>\n",
       "      <td>10.5000</td>\n",
       "      <td>2.0</td>\n",
       "      <td>2.0</td>\n",
       "      <td>0.0</td>\n",
       "      <td>3.0</td>\n",
       "    </tr>\n",
       "    <tr>\n",
       "      <th>175</th>\n",
       "      <td>46.0</td>\n",
       "      <td>79.2000</td>\n",
       "      <td>6.0</td>\n",
       "      <td>8.0</td>\n",
       "      <td>1.0</td>\n",
       "      <td>8.0</td>\n",
       "    </tr>\n",
       "    <tr>\n",
       "      <th>176</th>\n",
       "      <td>26.0</td>\n",
       "      <td>7.8542</td>\n",
       "      <td>3.0</td>\n",
       "      <td>4.0</td>\n",
       "      <td>0.0</td>\n",
       "      <td>1.0</td>\n",
       "    </tr>\n",
       "    <tr>\n",
       "      <th>177</th>\n",
       "      <td>45.0</td>\n",
       "      <td>164.8667</td>\n",
       "      <td>6.0</td>\n",
       "      <td>8.0</td>\n",
       "      <td>3.0</td>\n",
       "      <td>9.0</td>\n",
       "    </tr>\n",
       "  </tbody>\n",
       "</table>\n",
       "<p>178 rows × 6 columns</p>\n",
       "</div>"
      ],
      "text/plain": [
       "     age_train  fare_train  x_trf_age_uniform  x_trf_age_quantile  \\\n",
       "0          2.0     26.0000                0.0                 0.0   \n",
       "1          1.0     11.1333                0.0                 0.0   \n",
       "2         40.0      0.0000                5.0                 7.0   \n",
       "3         48.0     65.0000                6.0                 8.0   \n",
       "4          6.0     12.4750                0.0                 0.0   \n",
       "..         ...         ...                ...                 ...   \n",
       "173       28.0     10.5000                3.0                 5.0   \n",
       "174       19.0     10.5000                2.0                 2.0   \n",
       "175       46.0     79.2000                6.0                 8.0   \n",
       "176       26.0      7.8542                3.0                 4.0   \n",
       "177       45.0    164.8667                6.0                 8.0   \n",
       "\n",
       "     x_trf_fare_uniform  x_trf_fare_quantile  \n",
       "0                   0.0                  6.0  \n",
       "1                   0.0                  3.0  \n",
       "2                   0.0                  0.0  \n",
       "3                   1.0                  8.0  \n",
       "4                   0.0                  4.0  \n",
       "..                  ...                  ...  \n",
       "173                 0.0                  3.0  \n",
       "174                 0.0                  3.0  \n",
       "175                 1.0                  8.0  \n",
       "176                 0.0                  1.0  \n",
       "177                 3.0                  9.0  \n",
       "\n",
       "[178 rows x 6 columns]"
      ]
     },
     "execution_count": 457,
     "metadata": {},
     "output_type": "execute_result"
    }
   ],
   "source": [
    "df_trf"
   ]
  },
  {
   "cell_type": "code",
   "execution_count": 469,
   "metadata": {},
   "outputs": [
    {
     "data": {
      "text/plain": [
       "<Axes: xlabel='x_trf_fare_quantile', ylabel='Count'>"
      ]
     },
     "execution_count": 469,
     "metadata": {},
     "output_type": "execute_result"
    },
    {
     "data": {
      "image/png": "[encoded data removed]",
      "text/plain": [
       "<Figure size 1400x1000 with 6 Axes>"
      ]
     },
     "metadata": {},
     "output_type": "display_data"
    }
   ],
   "source": [
    "import numpy as np\n",
    "import pandas as pd\n",
    "import matplotlib.pyplot as plt\n",
    "import seaborn as sns\n",
    "fig,axes = plt.subplots(nrows=3,ncols=2,figsize=(14,10))\n",
    "sns.histplot(df_trf[\"age_train\"],ax=axes[0,0])\n",
    "sns.histplot(df_trf[\"fare_train\"],ax = axes[0,1])\n",
    "sns.histplot(df_trf[\"x_trf_age_uniform\"],ax=axes[1,0])\n",
    "sns.histplot(df_trf[\"x_trf_age_quantile\"],ax=axes[2,0])\n",
    "sns.histplot(df_trf[\"x_trf_fare_uniform\"],ax=axes[1,1])\n",
    "sns.histplot(df_trf[\"x_trf_fare_quantile\"],ax=axes[2,1])\n"
   ]
  },
  {
   "cell_type": "code",
   "execution_count": null,
   "metadata": {},
   "outputs": [],
   "source": []
  }
 ],
 "metadata": {
  "kernelspec": {
   "display_name": "git_venv",
   "language": "python",
   "name": "python3"
  },
  "language_info": {
   "codemirror_mode": {
    "name": "ipython",
    "version": 3
   },
   "file_extension": ".py",
   "mimetype": "text/x-python",
   "name": "python",
   "nbconvert_exporter": "python",
   "pygments_lexer": "ipython3",
   "version": "3.13.1"
  }
 },
 "nbformat": 4,
 "nbformat_minor": 4
}
