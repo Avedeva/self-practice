{
 "cells": [
  {
   "cell_type": "code",
   "execution_count": 40,
   "id": "87ef5196",
   "metadata": {},
   "outputs": [],
   "source": [
    "import numpy as np\n",
    "import pandas as pd\n",
    "import matplotlib.pyplot as plt\n",
    "import seaborn as sns"
   ]
  },
  {
   "cell_type": "code",
   "execution_count": 41,
   "id": "9073e9df",
   "metadata": {},
   "outputs": [
    {
     "data": {
      "application/vnd.microsoft.datawrangler.viewer.v0+json": {
       "columns": [
        {
         "name": "index",
         "rawType": "int64",
         "type": "integer"
        },
        {
         "name": "label",
         "rawType": "int64",
         "type": "integer"
        },
        {
         "name": "pixel0",
         "rawType": "int64",
         "type": "integer"
        },
        {
         "name": "pixel1",
         "rawType": "int64",
         "type": "integer"
        },
        {
         "name": "pixel2",
         "rawType": "int64",
         "type": "integer"
        },
        {
         "name": "pixel3",
         "rawType": "int64",
         "type": "integer"
        },
        {
         "name": "pixel4",
         "rawType": "int64",
         "type": "integer"
        },
        {
         "name": "pixel5",
         "rawType": "int64",
         "type": "integer"
        },
        {
         "name": "pixel6",
         "rawType": "int64",
         "type": "integer"
        },
        {
         "name": "pixel7",
         "rawType": "int64",
         "type": "integer"
        },
        {
         "name": "pixel8",
         "rawType": "int64",
         "type": "integer"
        },
        {
         "name": "pixel9",
         "rawType": "int64",
         "type": "integer"
        },
        {
         "name": "pixel10",
         "rawType": "int64",
         "type": "integer"
        },
        {
         "name": "pixel11",
         "rawType": "int64",
         "type": "integer"
        },
        {
         "name": "pixel12",
         "rawType": "int64",
         "type": "integer"
        },
        {
         "name": "pixel13",
         "rawType": "int64",
         "type": "integer"
        },
        {
         "name": "pixel14",
         "rawType": "int64",
         "type": "integer"
        },
        {
         "name": "pixel15",
         "rawType": "int64",
         "type": "integer"
        },
        {
         "name": "pixel16",
         "rawType": "int64",
         "type": "integer"
        },
        {
         "name": "pixel17",
         "rawType": "int64",
         "type": "integer"
        },
        {
         "name": "pixel18",
         "rawType": "int64",
         "type": "integer"
        },
        {
         "name": "pixel19",
         "rawType": "int64",
         "type": "integer"
        },
        {
         "name": "pixel20",
         "rawType": "int64",
         "type": "integer"
        },
        {
         "name": "pixel21",
         "rawType": "int64",
         "type": "integer"
        },
        {
         "name": "pixel22",
         "rawType": "int64",
         "type": "integer"
        },
        {
         "name": "pixel23",
         "rawType": "int64",
         "type": "integer"
        },
        {
         "name": "pixel24",
         "rawType": "int64",
         "type": "integer"
        },
        {
         "name": "pixel25",
         "rawType": "int64",
         "type": "integer"
        },
        {
         "name": "pixel26",
         "rawType": "int64",
         "type": "integer"
        },
        {
         "name": "pixel27",
         "rawType": "int64",
         "type": "integer"
        },
        {
         "name": "pixel28",
         "rawType": "int64",
         "type": "integer"
        },
        {
         "name": "pixel29",
         "rawType": "int64",
         "type": "integer"
        },
        {
         "name": "pixel30",
         "rawType": "int64",
         "type": "integer"
        },
        {
         "name": "pixel31",
         "rawType": "int64",
         "type": "integer"
        },
        {
         "name": "pixel32",
         "rawType": "int64",
         "type": "integer"
        },
        {
         "name": "pixel33",
         "rawType": "int64",
         "type": "integer"
        },
        {
         "name": "pixel34",
         "rawType": "int64",
         "type": "integer"
        },
        {
         "name": "pixel35",
         "rawType": "int64",
         "type": "integer"
        },
        {
         "name": "pixel36",
         "rawType": "int64",
         "type": "integer"
        },
        {
         "name": "pixel37",
         "rawType": "int64",
         "type": "integer"
        },
        {
         "name": "pixel38",
         "rawType": "int64",
         "type": "integer"
        },
        {
         "name": "pixel39",
         "rawType": "int64",
         "type": "integer"
        },
        {
         "name": "pixel40",
         "rawType": "int64",
         "type": "integer"
        },
        {
         "name": "pixel41",
         "rawType": "int64",
         "type": "integer"
        },
        {
         "name": "pixel42",
         "rawType": "int64",
         "type": "integer"
        },
        {
         "name": "pixel43",
         "rawType": "int64",
         "type": "integer"
        },
        {
         "name": "pixel44",
         "rawType": "int64",
         "type": "integer"
        },
        {
         "name": "pixel45",
         "rawType": "int64",
         "type": "integer"
        },
        {
         "name": "pixel46",
         "rawType": "int64",
         "type": "integer"
        },
        {
         "name": "pixel47",
         "rawType": "int64",
         "type": "integer"
        },
        {
         "name": "pixel48",
         "rawType": "int64",
         "type": "integer"
        },
        {
         "name": "pixel49",
         "rawType": "int64",
         "type": "integer"
        },
        {
         "name": "pixel50",
         "rawType": "int64",
         "type": "integer"
        },
        {
         "name": "pixel51",
         "rawType": "int64",
         "type": "integer"
        },
        {
         "name": "pixel52",
         "rawType": "int64",
         "type": "integer"
        },
        {
         "name": "pixel53",
         "rawType": "int64",
         "type": "integer"
        },
        {
         "name": "pixel54",
         "rawType": "int64",
         "type": "integer"
        },
        {
         "name": "pixel55",
         "rawType": "int64",
         "type": "integer"
        },
        {
         "name": "pixel56",
         "rawType": "int64",
         "type": "integer"
        },
        {
         "name": "pixel57",
         "rawType": "int64",
         "type": "integer"
        },
        {
         "name": "pixel58",
         "rawType": "int64",
         "type": "integer"
        },
        {
         "name": "pixel59",
         "rawType": "int64",
         "type": "integer"
        },
        {
         "name": "pixel60",
         "rawType": "int64",
         "type": "integer"
        },
        {
         "name": "pixel61",
         "rawType": "int64",
         "type": "integer"
        },
        {
         "name": "pixel62",
         "rawType": "int64",
         "type": "integer"
        },
        {
         "name": "pixel63",
         "rawType": "int64",
         "type": "integer"
        },
        {
         "name": "pixel64",
         "rawType": "int64",
         "type": "integer"
        },
        {
         "name": "pixel65",
         "rawType": "int64",
         "type": "integer"
        },
        {
         "name": "pixel66",
         "rawType": "int64",
         "type": "integer"
        },
        {
         "name": "pixel67",
         "rawType": "int64",
         "type": "integer"
        },
        {
         "name": "pixel68",
         "rawType": "int64",
         "type": "integer"
        },
        {
         "name": "pixel69",
         "rawType": "int64",
         "type": "integer"
        },
        {
         "name": "pixel70",
         "rawType": "int64",
         "type": "integer"
        },
        {
         "name": "pixel71",
         "rawType": "int64",
         "type": "integer"
        },
        {
         "name": "pixel72",
         "rawType": "int64",
         "type": "integer"
        },
        {
         "name": "pixel73",
         "rawType": "int64",
         "type": "integer"
        },
        {
         "name": "pixel74",
         "rawType": "int64",
         "type": "integer"
        },
        {
         "name": "pixel75",
         "rawType": "int64",
         "type": "integer"
        },
        {
         "name": "pixel76",
         "rawType": "int64",
         "type": "integer"
        },
        {
         "name": "pixel77",
         "rawType": "int64",
         "type": "integer"
        },
        {
         "name": "pixel78",
         "rawType": "int64",
         "type": "integer"
        },
        {
         "name": "pixel79",
         "rawType": "int64",
         "type": "integer"
        },
        {
         "name": "pixel80",
         "rawType": "int64",
         "type": "integer"
        },
        {
         "name": "pixel81",
         "rawType": "int64",
         "type": "integer"
        },
        {
         "name": "pixel82",
         "rawType": "int64",
         "type": "integer"
        },
        {
         "name": "pixel83",
         "rawType": "int64",
         "type": "integer"
        },
        {
         "name": "pixel84",
         "rawType": "int64",
         "type": "integer"
        },
        {
         "name": "pixel85",
         "rawType": "int64",
         "type": "integer"
        },
        {
         "name": "pixel86",
         "rawType": "int64",
         "type": "integer"
        },
        {
         "name": "pixel87",
         "rawType": "int64",
         "type": "integer"
        },
        {
         "name": "pixel88",
         "rawType": "int64",
         "type": "integer"
        },
        {
         "name": "pixel89",
         "rawType": "int64",
         "type": "integer"
        },
        {
         "name": "pixel90",
         "rawType": "int64",
         "type": "integer"
        },
        {
         "name": "pixel91",
         "rawType": "int64",
         "type": "integer"
        },
        {
         "name": "pixel92",
         "rawType": "int64",
         "type": "integer"
        },
        {
         "name": "pixel93",
         "rawType": "int64",
         "type": "integer"
        },
        {
         "name": "pixel94",
         "rawType": "int64",
         "type": "integer"
        },
        {
         "name": "pixel95",
         "rawType": "int64",
         "type": "integer"
        },
        {
         "name": "pixel96",
         "rawType": "int64",
         "type": "integer"
        },
        {
         "name": "pixel97",
         "rawType": "int64",
         "type": "integer"
        },
        {
         "name": "pixel98",
         "rawType": "int64",
         "type": "integer"
        },
        {
         "name": "pixel99",
         "rawType": "int64",
         "type": "integer"
        },
        {
         "name": "pixel100",
         "rawType": "int64",
         "type": "integer"
        },
        {
         "name": "pixel101",
         "rawType": "int64",
         "type": "integer"
        },
        {
         "name": "pixel102",
         "rawType": "int64",
         "type": "integer"
        },
        {
         "name": "pixel103",
         "rawType": "int64",
         "type": "integer"
        },
        {
         "name": "pixel104",
         "rawType": "int64",
         "type": "integer"
        },
        {
         "name": "pixel105",
         "rawType": "int64",
         "type": "integer"
        },
        {
         "name": "pixel106",
         "rawType": "int64",
         "type": "integer"
        },
        {
         "name": "pixel107",
         "rawType": "int64",
         "type": "integer"
        },
        {
         "name": "pixel108",
         "rawType": "int64",
         "type": "integer"
        },
        {
         "name": "pixel109",
         "rawType": "int64",
         "type": "integer"
        },
        {
         "name": "pixel110",
         "rawType": "int64",
         "type": "integer"
        },
        {
         "name": "pixel111",
         "rawType": "int64",
         "type": "integer"
        },
        {
         "name": "pixel112",
         "rawType": "int64",
         "type": "integer"
        },
        {
         "name": "pixel113",
         "rawType": "int64",
         "type": "integer"
        },
        {
         "name": "pixel114",
         "rawType": "int64",
         "type": "integer"
        },
        {
         "name": "pixel115",
         "rawType": "int64",
         "type": "integer"
        },
        {
         "name": "pixel116",
         "rawType": "int64",
         "type": "integer"
        },
        {
         "name": "pixel117",
         "rawType": "int64",
         "type": "integer"
        },
        {
         "name": "pixel118",
         "rawType": "int64",
         "type": "integer"
        },
        {
         "name": "pixel119",
         "rawType": "int64",
         "type": "integer"
        },
        {
         "name": "pixel120",
         "rawType": "int64",
         "type": "integer"
        },
        {
         "name": "pixel121",
         "rawType": "int64",
         "type": "integer"
        },
        {
         "name": "pixel122",
         "rawType": "int64",
         "type": "integer"
        },
        {
         "name": "pixel123",
         "rawType": "int64",
         "type": "integer"
        },
        {
         "name": "pixel124",
         "rawType": "int64",
         "type": "integer"
        },
        {
         "name": "pixel125",
         "rawType": "int64",
         "type": "integer"
        },
        {
         "name": "pixel126",
         "rawType": "int64",
         "type": "integer"
        },
        {
         "name": "pixel127",
         "rawType": "int64",
         "type": "integer"
        },
        {
         "name": "pixel128",
         "rawType": "int64",
         "type": "integer"
        },
        {
         "name": "pixel129",
         "rawType": "int64",
         "type": "integer"
        },
        {
         "name": "pixel130",
         "rawType": "int64",
         "type": "integer"
        },
        {
         "name": "pixel131",
         "rawType": "int64",
         "type": "integer"
        },
        {
         "name": "pixel132",
         "rawType": "int64",
         "type": "integer"
        },
        {
         "name": "pixel133",
         "rawType": "int64",
         "type": "integer"
        },
        {
         "name": "pixel134",
         "rawType": "int64",
         "type": "integer"
        },
        {
         "name": "pixel135",
         "rawType": "int64",
         "type": "integer"
        },
        {
         "name": "pixel136",
         "rawType": "int64",
         "type": "integer"
        },
        {
         "name": "pixel137",
         "rawType": "int64",
         "type": "integer"
        },
        {
         "name": "pixel138",
         "rawType": "int64",
         "type": "integer"
        },
        {
         "name": "pixel139",
         "rawType": "int64",
         "type": "integer"
        },
        {
         "name": "pixel140",
         "rawType": "int64",
         "type": "integer"
        },
        {
         "name": "pixel141",
         "rawType": "int64",
         "type": "integer"
        },
        {
         "name": "pixel142",
         "rawType": "int64",
         "type": "integer"
        },
        {
         "name": "pixel143",
         "rawType": "int64",
         "type": "integer"
        },
        {
         "name": "pixel144",
         "rawType": "int64",
         "type": "integer"
        },
        {
         "name": "pixel145",
         "rawType": "int64",
         "type": "integer"
        },
        {
         "name": "pixel146",
         "rawType": "int64",
         "type": "integer"
        },
        {
         "name": "pixel147",
         "rawType": "int64",
         "type": "integer"
        },
        {
         "name": "pixel148",
         "rawType": "int64",
         "type": "integer"
        },
        {
         "name": "pixel149",
         "rawType": "int64",
         "type": "integer"
        },
        {
         "name": "pixel150",
         "rawType": "int64",
         "type": "integer"
        },
        {
         "name": "pixel151",
         "rawType": "int64",
         "type": "integer"
        },
        {
         "name": "pixel152",
         "rawType": "int64",
         "type": "integer"
        },
        {
         "name": "pixel153",
         "rawType": "int64",
         "type": "integer"
        },
        {
         "name": "pixel154",
         "rawType": "int64",
         "type": "integer"
        },
        {
         "name": "pixel155",
         "rawType": "int64",
         "type": "integer"
        },
        {
         "name": "pixel156",
         "rawType": "int64",
         "type": "integer"
        },
        {
         "name": "pixel157",
         "rawType": "int64",
         "type": "integer"
        },
        {
         "name": "pixel158",
         "rawType": "int64",
         "type": "integer"
        },
        {
         "name": "pixel159",
         "rawType": "int64",
         "type": "integer"
        },
        {
         "name": "pixel160",
         "rawType": "int64",
         "type": "integer"
        },
        {
         "name": "pixel161",
         "rawType": "int64",
         "type": "integer"
        },
        {
         "name": "pixel162",
         "rawType": "int64",
         "type": "integer"
        },
        {
         "name": "pixel163",
         "rawType": "int64",
         "type": "integer"
        },
        {
         "name": "pixel164",
         "rawType": "int64",
         "type": "integer"
        },
        {
         "name": "pixel165",
         "rawType": "int64",
         "type": "integer"
        },
        {
         "name": "pixel166",
         "rawType": "int64",
         "type": "integer"
        },
        {
         "name": "pixel167",
         "rawType": "int64",
         "type": "integer"
        },
        {
         "name": "pixel168",
         "rawType": "int64",
         "type": "integer"
        },
        {
         "name": "pixel169",
         "rawType": "int64",
         "type": "integer"
        },
        {
         "name": "pixel170",
         "rawType": "int64",
         "type": "integer"
        },
        {
         "name": "pixel171",
         "rawType": "int64",
         "type": "integer"
        },
        {
         "name": "pixel172",
         "rawType": "int64",
         "type": "integer"
        },
        {
         "name": "pixel173",
         "rawType": "int64",
         "type": "integer"
        },
        {
         "name": "pixel174",
         "rawType": "int64",
         "type": "integer"
        },
        {
         "name": "pixel175",
         "rawType": "int64",
         "type": "integer"
        },
        {
         "name": "pixel176",
         "rawType": "int64",
         "type": "integer"
        },
        {
         "name": "pixel177",
         "rawType": "int64",
         "type": "integer"
        },
        {
         "name": "pixel178",
         "rawType": "int64",
         "type": "integer"
        },
        {
         "name": "pixel179",
         "rawType": "int64",
         "type": "integer"
        },
        {
         "name": "pixel180",
         "rawType": "int64",
         "type": "integer"
        },
        {
         "name": "pixel181",
         "rawType": "int64",
         "type": "integer"
        },
        {
         "name": "pixel182",
         "rawType": "int64",
         "type": "integer"
        },
        {
         "name": "pixel183",
         "rawType": "int64",
         "type": "integer"
        },
        {
         "name": "pixel184",
         "rawType": "int64",
         "type": "integer"
        },
        {
         "name": "pixel185",
         "rawType": "int64",
         "type": "integer"
        },
        {
         "name": "pixel186",
         "rawType": "int64",
         "type": "integer"
        },
        {
         "name": "pixel187",
         "rawType": "int64",
         "type": "integer"
        },
        {
         "name": "pixel188",
         "rawType": "int64",
         "type": "integer"
        },
        {
         "name": "pixel189",
         "rawType": "int64",
         "type": "integer"
        },
        {
         "name": "pixel190",
         "rawType": "int64",
         "type": "integer"
        },
        {
         "name": "pixel191",
         "rawType": "int64",
         "type": "integer"
        },
        {
         "name": "pixel192",
         "rawType": "int64",
         "type": "integer"
        },
        {
         "name": "pixel193",
         "rawType": "int64",
         "type": "integer"
        },
        {
         "name": "pixel194",
         "rawType": "int64",
         "type": "integer"
        },
        {
         "name": "pixel195",
         "rawType": "int64",
         "type": "integer"
        },
        {
         "name": "pixel196",
         "rawType": "int64",
         "type": "integer"
        },
        {
         "name": "pixel197",
         "rawType": "int64",
         "type": "integer"
        },
        {
         "name": "pixel198",
         "rawType": "int64",
         "type": "integer"
        },
        {
         "name": "pixel199",
         "rawType": "int64",
         "type": "integer"
        },
        {
         "name": "pixel200",
         "rawType": "int64",
         "type": "integer"
        },
        {
         "name": "pixel201",
         "rawType": "int64",
         "type": "integer"
        },
        {
         "name": "pixel202",
         "rawType": "int64",
         "type": "integer"
        },
        {
         "name": "pixel203",
         "rawType": "int64",
         "type": "integer"
        },
        {
         "name": "pixel204",
         "rawType": "int64",
         "type": "integer"
        },
        {
         "name": "pixel205",
         "rawType": "int64",
         "type": "integer"
        },
        {
         "name": "pixel206",
         "rawType": "int64",
         "type": "integer"
        },
        {
         "name": "pixel207",
         "rawType": "int64",
         "type": "integer"
        },
        {
         "name": "pixel208",
         "rawType": "int64",
         "type": "integer"
        },
        {
         "name": "pixel209",
         "rawType": "int64",
         "type": "integer"
        },
        {
         "name": "pixel210",
         "rawType": "int64",
         "type": "integer"
        },
        {
         "name": "pixel211",
         "rawType": "int64",
         "type": "integer"
        },
        {
         "name": "pixel212",
         "rawType": "int64",
         "type": "integer"
        },
        {
         "name": "pixel213",
         "rawType": "int64",
         "type": "integer"
        },
        {
         "name": "pixel214",
         "rawType": "int64",
         "type": "integer"
        },
        {
         "name": "pixel215",
         "rawType": "int64",
         "type": "integer"
        },
        {
         "name": "pixel216",
         "rawType": "int64",
         "type": "integer"
        },
        {
         "name": "pixel217",
         "rawType": "int64",
         "type": "integer"
        },
        {
         "name": "pixel218",
         "rawType": "int64",
         "type": "integer"
        },
        {
         "name": "pixel219",
         "rawType": "int64",
         "type": "integer"
        },
        {
         "name": "pixel220",
         "rawType": "int64",
         "type": "integer"
        },
        {
         "name": "pixel221",
         "rawType": "int64",
         "type": "integer"
        },
        {
         "name": "pixel222",
         "rawType": "int64",
         "type": "integer"
        },
        {
         "name": "pixel223",
         "rawType": "int64",
         "type": "integer"
        },
        {
         "name": "pixel224",
         "rawType": "int64",
         "type": "integer"
        },
        {
         "name": "pixel225",
         "rawType": "int64",
         "type": "integer"
        },
        {
         "name": "pixel226",
         "rawType": "int64",
         "type": "integer"
        },
        {
         "name": "pixel227",
         "rawType": "int64",
         "type": "integer"
        },
        {
         "name": "pixel228",
         "rawType": "int64",
         "type": "integer"
        },
        {
         "name": "pixel229",
         "rawType": "int64",
         "type": "integer"
        },
        {
         "name": "pixel230",
         "rawType": "int64",
         "type": "integer"
        },
        {
         "name": "pixel231",
         "rawType": "int64",
         "type": "integer"
        },
        {
         "name": "pixel232",
         "rawType": "int64",
         "type": "integer"
        },
        {
         "name": "pixel233",
         "rawType": "int64",
         "type": "integer"
        },
        {
         "name": "pixel234",
         "rawType": "int64",
         "type": "integer"
        },
        {
         "name": "pixel235",
         "rawType": "int64",
         "type": "integer"
        },
        {
         "name": "pixel236",
         "rawType": "int64",
         "type": "integer"
        },
        {
         "name": "pixel237",
         "rawType": "int64",
         "type": "integer"
        },
        {
         "name": "pixel238",
         "rawType": "int64",
         "type": "integer"
        },
        {
         "name": "pixel239",
         "rawType": "int64",
         "type": "integer"
        },
        {
         "name": "pixel240",
         "rawType": "int64",
         "type": "integer"
        },
        {
         "name": "pixel241",
         "rawType": "int64",
         "type": "integer"
        },
        {
         "name": "pixel242",
         "rawType": "int64",
         "type": "integer"
        },
        {
         "name": "pixel243",
         "rawType": "int64",
         "type": "integer"
        },
        {
         "name": "pixel244",
         "rawType": "int64",
         "type": "integer"
        },
        {
         "name": "pixel245",
         "rawType": "int64",
         "type": "integer"
        },
        {
         "name": "pixel246",
         "rawType": "int64",
         "type": "integer"
        },
        {
         "name": "pixel247",
         "rawType": "int64",
         "type": "integer"
        },
        {
         "name": "pixel248",
         "rawType": "int64",
         "type": "integer"
        },
        {
         "name": "pixel249",
         "rawType": "int64",
         "type": "integer"
        },
        {
         "name": "pixel250",
         "rawType": "int64",
         "type": "integer"
        },
        {
         "name": "pixel251",
         "rawType": "int64",
         "type": "integer"
        },
        {
         "name": "pixel252",
         "rawType": "int64",
         "type": "integer"
        },
        {
         "name": "pixel253",
         "rawType": "int64",
         "type": "integer"
        },
        {
         "name": "pixel254",
         "rawType": "int64",
         "type": "integer"
        },
        {
         "name": "pixel255",
         "rawType": "int64",
         "type": "integer"
        },
        {
         "name": "pixel256",
         "rawType": "int64",
         "type": "integer"
        },
        {
         "name": "pixel257",
         "rawType": "int64",
         "type": "integer"
        },
        {
         "name": "pixel258",
         "rawType": "int64",
         "type": "integer"
        },
        {
         "name": "pixel259",
         "rawType": "int64",
         "type": "integer"
        },
        {
         "name": "pixel260",
         "rawType": "int64",
         "type": "integer"
        },
        {
         "name": "pixel261",
         "rawType": "int64",
         "type": "integer"
        },
        {
         "name": "pixel262",
         "rawType": "int64",
         "type": "integer"
        },
        {
         "name": "pixel263",
         "rawType": "int64",
         "type": "integer"
        },
        {
         "name": "pixel264",
         "rawType": "int64",
         "type": "integer"
        },
        {
         "name": "pixel265",
         "rawType": "int64",
         "type": "integer"
        },
        {
         "name": "pixel266",
         "rawType": "int64",
         "type": "integer"
        },
        {
         "name": "pixel267",
         "rawType": "int64",
         "type": "integer"
        },
        {
         "name": "pixel268",
         "rawType": "int64",
         "type": "integer"
        },
        {
         "name": "pixel269",
         "rawType": "int64",
         "type": "integer"
        },
        {
         "name": "pixel270",
         "rawType": "int64",
         "type": "integer"
        },
        {
         "name": "pixel271",
         "rawType": "int64",
         "type": "integer"
        },
        {
         "name": "pixel272",
         "rawType": "int64",
         "type": "integer"
        },
        {
         "name": "pixel273",
         "rawType": "int64",
         "type": "integer"
        },
        {
         "name": "pixel274",
         "rawType": "int64",
         "type": "integer"
        },
        {
         "name": "pixel275",
         "rawType": "int64",
         "type": "integer"
        },
        {
         "name": "pixel276",
         "rawType": "int64",
         "type": "integer"
        },
        {
         "name": "pixel277",
         "rawType": "int64",
         "type": "integer"
        },
        {
         "name": "pixel278",
         "rawType": "int64",
         "type": "integer"
        },
        {
         "name": "pixel279",
         "rawType": "int64",
         "type": "integer"
        },
        {
         "name": "pixel280",
         "rawType": "int64",
         "type": "integer"
        },
        {
         "name": "pixel281",
         "rawType": "int64",
         "type": "integer"
        },
        {
         "name": "pixel282",
         "rawType": "int64",
         "type": "integer"
        },
        {
         "name": "pixel283",
         "rawType": "int64",
         "type": "integer"
        },
        {
         "name": "pixel284",
         "rawType": "int64",
         "type": "integer"
        },
        {
         "name": "pixel285",
         "rawType": "int64",
         "type": "integer"
        },
        {
         "name": "pixel286",
         "rawType": "int64",
         "type": "integer"
        },
        {
         "name": "pixel287",
         "rawType": "int64",
         "type": "integer"
        },
        {
         "name": "pixel288",
         "rawType": "int64",
         "type": "integer"
        },
        {
         "name": "pixel289",
         "rawType": "int64",
         "type": "integer"
        },
        {
         "name": "pixel290",
         "rawType": "int64",
         "type": "integer"
        },
        {
         "name": "pixel291",
         "rawType": "int64",
         "type": "integer"
        },
        {
         "name": "pixel292",
         "rawType": "int64",
         "type": "integer"
        },
        {
         "name": "pixel293",
         "rawType": "int64",
         "type": "integer"
        },
        {
         "name": "pixel294",
         "rawType": "int64",
         "type": "integer"
        },
        {
         "name": "pixel295",
         "rawType": "int64",
         "type": "integer"
        },
        {
         "name": "pixel296",
         "rawType": "int64",
         "type": "integer"
        },
        {
         "name": "pixel297",
         "rawType": "int64",
         "type": "integer"
        },
        {
         "name": "pixel298",
         "rawType": "int64",
         "type": "integer"
        },
        {
         "name": "pixel299",
         "rawType": "int64",
         "type": "integer"
        },
        {
         "name": "pixel300",
         "rawType": "int64",
         "type": "integer"
        },
        {
         "name": "pixel301",
         "rawType": "int64",
         "type": "integer"
        },
        {
         "name": "pixel302",
         "rawType": "int64",
         "type": "integer"
        },
        {
         "name": "pixel303",
         "rawType": "int64",
         "type": "integer"
        },
        {
         "name": "pixel304",
         "rawType": "int64",
         "type": "integer"
        },
        {
         "name": "pixel305",
         "rawType": "int64",
         "type": "integer"
        },
        {
         "name": "pixel306",
         "rawType": "int64",
         "type": "integer"
        },
        {
         "name": "pixel307",
         "rawType": "int64",
         "type": "integer"
        },
        {
         "name": "pixel308",
         "rawType": "int64",
         "type": "integer"
        },
        {
         "name": "pixel309",
         "rawType": "int64",
         "type": "integer"
        },
        {
         "name": "pixel310",
         "rawType": "int64",
         "type": "integer"
        },
        {
         "name": "pixel311",
         "rawType": "int64",
         "type": "integer"
        },
        {
         "name": "pixel312",
         "rawType": "int64",
         "type": "integer"
        },
        {
         "name": "pixel313",
         "rawType": "int64",
         "type": "integer"
        },
        {
         "name": "pixel314",
         "rawType": "int64",
         "type": "integer"
        },
        {
         "name": "pixel315",
         "rawType": "int64",
         "type": "integer"
        },
        {
         "name": "pixel316",
         "rawType": "int64",
         "type": "integer"
        },
        {
         "name": "pixel317",
         "rawType": "int64",
         "type": "integer"
        },
        {
         "name": "pixel318",
         "rawType": "int64",
         "type": "integer"
        },
        {
         "name": "pixel319",
         "rawType": "int64",
         "type": "integer"
        },
        {
         "name": "pixel320",
         "rawType": "int64",
         "type": "integer"
        },
        {
         "name": "pixel321",
         "rawType": "int64",
         "type": "integer"
        },
        {
         "name": "pixel322",
         "rawType": "int64",
         "type": "integer"
        },
        {
         "name": "pixel323",
         "rawType": "int64",
         "type": "integer"
        },
        {
         "name": "pixel324",
         "rawType": "int64",
         "type": "integer"
        },
        {
         "name": "pixel325",
         "rawType": "int64",
         "type": "integer"
        },
        {
         "name": "pixel326",
         "rawType": "int64",
         "type": "integer"
        },
        {
         "name": "pixel327",
         "rawType": "int64",
         "type": "integer"
        },
        {
         "name": "pixel328",
         "rawType": "int64",
         "type": "integer"
        },
        {
         "name": "pixel329",
         "rawType": "int64",
         "type": "integer"
        },
        {
         "name": "pixel330",
         "rawType": "int64",
         "type": "integer"
        },
        {
         "name": "pixel331",
         "rawType": "int64",
         "type": "integer"
        },
        {
         "name": "pixel332",
         "rawType": "int64",
         "type": "integer"
        },
        {
         "name": "pixel333",
         "rawType": "int64",
         "type": "integer"
        },
        {
         "name": "pixel334",
         "rawType": "int64",
         "type": "integer"
        },
        {
         "name": "pixel335",
         "rawType": "int64",
         "type": "integer"
        },
        {
         "name": "pixel336",
         "rawType": "int64",
         "type": "integer"
        },
        {
         "name": "pixel337",
         "rawType": "int64",
         "type": "integer"
        },
        {
         "name": "pixel338",
         "rawType": "int64",
         "type": "integer"
        },
        {
         "name": "pixel339",
         "rawType": "int64",
         "type": "integer"
        },
        {
         "name": "pixel340",
         "rawType": "int64",
         "type": "integer"
        },
        {
         "name": "pixel341",
         "rawType": "int64",
         "type": "integer"
        },
        {
         "name": "pixel342",
         "rawType": "int64",
         "type": "integer"
        },
        {
         "name": "pixel343",
         "rawType": "int64",
         "type": "integer"
        },
        {
         "name": "pixel344",
         "rawType": "int64",
         "type": "integer"
        },
        {
         "name": "pixel345",
         "rawType": "int64",
         "type": "integer"
        },
        {
         "name": "pixel346",
         "rawType": "int64",
         "type": "integer"
        },
        {
         "name": "pixel347",
         "rawType": "int64",
         "type": "integer"
        },
        {
         "name": "pixel348",
         "rawType": "int64",
         "type": "integer"
        },
        {
         "name": "pixel349",
         "rawType": "int64",
         "type": "integer"
        },
        {
         "name": "pixel350",
         "rawType": "int64",
         "type": "integer"
        },
        {
         "name": "pixel351",
         "rawType": "int64",
         "type": "integer"
        },
        {
         "name": "pixel352",
         "rawType": "int64",
         "type": "integer"
        },
        {
         "name": "pixel353",
         "rawType": "int64",
         "type": "integer"
        },
        {
         "name": "pixel354",
         "rawType": "int64",
         "type": "integer"
        },
        {
         "name": "pixel355",
         "rawType": "int64",
         "type": "integer"
        },
        {
         "name": "pixel356",
         "rawType": "int64",
         "type": "integer"
        },
        {
         "name": "pixel357",
         "rawType": "int64",
         "type": "integer"
        },
        {
         "name": "pixel358",
         "rawType": "int64",
         "type": "integer"
        },
        {
         "name": "pixel359",
         "rawType": "int64",
         "type": "integer"
        },
        {
         "name": "pixel360",
         "rawType": "int64",
         "type": "integer"
        },
        {
         "name": "pixel361",
         "rawType": "int64",
         "type": "integer"
        },
        {
         "name": "pixel362",
         "rawType": "int64",
         "type": "integer"
        },
        {
         "name": "pixel363",
         "rawType": "int64",
         "type": "integer"
        },
        {
         "name": "pixel364",
         "rawType": "int64",
         "type": "integer"
        },
        {
         "name": "pixel365",
         "rawType": "int64",
         "type": "integer"
        },
        {
         "name": "pixel366",
         "rawType": "int64",
         "type": "integer"
        },
        {
         "name": "pixel367",
         "rawType": "int64",
         "type": "integer"
        },
        {
         "name": "pixel368",
         "rawType": "int64",
         "type": "integer"
        },
        {
         "name": "pixel369",
         "rawType": "int64",
         "type": "integer"
        },
        {
         "name": "pixel370",
         "rawType": "int64",
         "type": "integer"
        },
        {
         "name": "pixel371",
         "rawType": "int64",
         "type": "integer"
        },
        {
         "name": "pixel372",
         "rawType": "int64",
         "type": "integer"
        },
        {
         "name": "pixel373",
         "rawType": "int64",
         "type": "integer"
        },
        {
         "name": "pixel374",
         "rawType": "int64",
         "type": "integer"
        },
        {
         "name": "pixel375",
         "rawType": "int64",
         "type": "integer"
        },
        {
         "name": "pixel376",
         "rawType": "int64",
         "type": "integer"
        },
        {
         "name": "pixel377",
         "rawType": "int64",
         "type": "integer"
        },
        {
         "name": "pixel378",
         "rawType": "int64",
         "type": "integer"
        },
        {
         "name": "pixel379",
         "rawType": "int64",
         "type": "integer"
        },
        {
         "name": "pixel380",
         "rawType": "int64",
         "type": "integer"
        },
        {
         "name": "pixel381",
         "rawType": "int64",
         "type": "integer"
        },
        {
         "name": "pixel382",
         "rawType": "int64",
         "type": "integer"
        },
        {
         "name": "pixel383",
         "rawType": "int64",
         "type": "integer"
        },
        {
         "name": "pixel384",
         "rawType": "int64",
         "type": "integer"
        },
        {
         "name": "pixel385",
         "rawType": "int64",
         "type": "integer"
        },
        {
         "name": "pixel386",
         "rawType": "int64",
         "type": "integer"
        },
        {
         "name": "pixel387",
         "rawType": "int64",
         "type": "integer"
        },
        {
         "name": "pixel388",
         "rawType": "int64",
         "type": "integer"
        },
        {
         "name": "pixel389",
         "rawType": "int64",
         "type": "integer"
        },
        {
         "name": "pixel390",
         "rawType": "int64",
         "type": "integer"
        },
        {
         "name": "pixel391",
         "rawType": "int64",
         "type": "integer"
        },
        {
         "name": "pixel392",
         "rawType": "int64",
         "type": "integer"
        },
        {
         "name": "pixel393",
         "rawType": "int64",
         "type": "integer"
        },
        {
         "name": "pixel394",
         "rawType": "int64",
         "type": "integer"
        },
        {
         "name": "pixel395",
         "rawType": "int64",
         "type": "integer"
        },
        {
         "name": "pixel396",
         "rawType": "int64",
         "type": "integer"
        },
        {
         "name": "pixel397",
         "rawType": "int64",
         "type": "integer"
        },
        {
         "name": "pixel398",
         "rawType": "int64",
         "type": "integer"
        },
        {
         "name": "pixel399",
         "rawType": "int64",
         "type": "integer"
        },
        {
         "name": "pixel400",
         "rawType": "int64",
         "type": "integer"
        },
        {
         "name": "pixel401",
         "rawType": "int64",
         "type": "integer"
        },
        {
         "name": "pixel402",
         "rawType": "int64",
         "type": "integer"
        },
        {
         "name": "pixel403",
         "rawType": "int64",
         "type": "integer"
        },
        {
         "name": "pixel404",
         "rawType": "int64",
         "type": "integer"
        },
        {
         "name": "pixel405",
         "rawType": "int64",
         "type": "integer"
        },
        {
         "name": "pixel406",
         "rawType": "int64",
         "type": "integer"
        },
        {
         "name": "pixel407",
         "rawType": "int64",
         "type": "integer"
        },
        {
         "name": "pixel408",
         "rawType": "int64",
         "type": "integer"
        },
        {
         "name": "pixel409",
         "rawType": "int64",
         "type": "integer"
        },
        {
         "name": "pixel410",
         "rawType": "int64",
         "type": "integer"
        },
        {
         "name": "pixel411",
         "rawType": "int64",
         "type": "integer"
        },
        {
         "name": "pixel412",
         "rawType": "int64",
         "type": "integer"
        },
        {
         "name": "pixel413",
         "rawType": "int64",
         "type": "integer"
        },
        {
         "name": "pixel414",
         "rawType": "int64",
         "type": "integer"
        },
        {
         "name": "pixel415",
         "rawType": "int64",
         "type": "integer"
        },
        {
         "name": "pixel416",
         "rawType": "int64",
         "type": "integer"
        },
        {
         "name": "pixel417",
         "rawType": "int64",
         "type": "integer"
        },
        {
         "name": "pixel418",
         "rawType": "int64",
         "type": "integer"
        },
        {
         "name": "pixel419",
         "rawType": "int64",
         "type": "integer"
        },
        {
         "name": "pixel420",
         "rawType": "int64",
         "type": "integer"
        },
        {
         "name": "pixel421",
         "rawType": "int64",
         "type": "integer"
        },
        {
         "name": "pixel422",
         "rawType": "int64",
         "type": "integer"
        },
        {
         "name": "pixel423",
         "rawType": "int64",
         "type": "integer"
        },
        {
         "name": "pixel424",
         "rawType": "int64",
         "type": "integer"
        },
        {
         "name": "pixel425",
         "rawType": "int64",
         "type": "integer"
        },
        {
         "name": "pixel426",
         "rawType": "int64",
         "type": "integer"
        },
        {
         "name": "pixel427",
         "rawType": "int64",
         "type": "integer"
        },
        {
         "name": "pixel428",
         "rawType": "int64",
         "type": "integer"
        },
        {
         "name": "pixel429",
         "rawType": "int64",
         "type": "integer"
        },
        {
         "name": "pixel430",
         "rawType": "int64",
         "type": "integer"
        },
        {
         "name": "pixel431",
         "rawType": "int64",
         "type": "integer"
        },
        {
         "name": "pixel432",
         "rawType": "int64",
         "type": "integer"
        },
        {
         "name": "pixel433",
         "rawType": "int64",
         "type": "integer"
        },
        {
         "name": "pixel434",
         "rawType": "int64",
         "type": "integer"
        },
        {
         "name": "pixel435",
         "rawType": "int64",
         "type": "integer"
        },
        {
         "name": "pixel436",
         "rawType": "int64",
         "type": "integer"
        },
        {
         "name": "pixel437",
         "rawType": "int64",
         "type": "integer"
        },
        {
         "name": "pixel438",
         "rawType": "int64",
         "type": "integer"
        },
        {
         "name": "pixel439",
         "rawType": "int64",
         "type": "integer"
        },
        {
         "name": "pixel440",
         "rawType": "int64",
         "type": "integer"
        },
        {
         "name": "pixel441",
         "rawType": "int64",
         "type": "integer"
        },
        {
         "name": "pixel442",
         "rawType": "int64",
         "type": "integer"
        },
        {
         "name": "pixel443",
         "rawType": "int64",
         "type": "integer"
        },
        {
         "name": "pixel444",
         "rawType": "int64",
         "type": "integer"
        },
        {
         "name": "pixel445",
         "rawType": "int64",
         "type": "integer"
        },
        {
         "name": "pixel446",
         "rawType": "int64",
         "type": "integer"
        },
        {
         "name": "pixel447",
         "rawType": "int64",
         "type": "integer"
        },
        {
         "name": "pixel448",
         "rawType": "int64",
         "type": "integer"
        },
        {
         "name": "pixel449",
         "rawType": "int64",
         "type": "integer"
        },
        {
         "name": "pixel450",
         "rawType": "int64",
         "type": "integer"
        },
        {
         "name": "pixel451",
         "rawType": "int64",
         "type": "integer"
        },
        {
         "name": "pixel452",
         "rawType": "int64",
         "type": "integer"
        },
        {
         "name": "pixel453",
         "rawType": "int64",
         "type": "integer"
        },
        {
         "name": "pixel454",
         "rawType": "int64",
         "type": "integer"
        },
        {
         "name": "pixel455",
         "rawType": "int64",
         "type": "integer"
        },
        {
         "name": "pixel456",
         "rawType": "int64",
         "type": "integer"
        },
        {
         "name": "pixel457",
         "rawType": "int64",
         "type": "integer"
        },
        {
         "name": "pixel458",
         "rawType": "int64",
         "type": "integer"
        },
        {
         "name": "pixel459",
         "rawType": "int64",
         "type": "integer"
        },
        {
         "name": "pixel460",
         "rawType": "int64",
         "type": "integer"
        },
        {
         "name": "pixel461",
         "rawType": "int64",
         "type": "integer"
        },
        {
         "name": "pixel462",
         "rawType": "int64",
         "type": "integer"
        },
        {
         "name": "pixel463",
         "rawType": "int64",
         "type": "integer"
        },
        {
         "name": "pixel464",
         "rawType": "int64",
         "type": "integer"
        },
        {
         "name": "pixel465",
         "rawType": "int64",
         "type": "integer"
        },
        {
         "name": "pixel466",
         "rawType": "int64",
         "type": "integer"
        },
        {
         "name": "pixel467",
         "rawType": "int64",
         "type": "integer"
        },
        {
         "name": "pixel468",
         "rawType": "int64",
         "type": "integer"
        },
        {
         "name": "pixel469",
         "rawType": "int64",
         "type": "integer"
        },
        {
         "name": "pixel470",
         "rawType": "int64",
         "type": "integer"
        },
        {
         "name": "pixel471",
         "rawType": "int64",
         "type": "integer"
        },
        {
         "name": "pixel472",
         "rawType": "int64",
         "type": "integer"
        },
        {
         "name": "pixel473",
         "rawType": "int64",
         "type": "integer"
        },
        {
         "name": "pixel474",
         "rawType": "int64",
         "type": "integer"
        },
        {
         "name": "pixel475",
         "rawType": "int64",
         "type": "integer"
        },
        {
         "name": "pixel476",
         "rawType": "int64",
         "type": "integer"
        },
        {
         "name": "pixel477",
         "rawType": "int64",
         "type": "integer"
        },
        {
         "name": "pixel478",
         "rawType": "int64",
         "type": "integer"
        },
        {
         "name": "pixel479",
         "rawType": "int64",
         "type": "integer"
        },
        {
         "name": "pixel480",
         "rawType": "int64",
         "type": "integer"
        },
        {
         "name": "pixel481",
         "rawType": "int64",
         "type": "integer"
        },
        {
         "name": "pixel482",
         "rawType": "int64",
         "type": "integer"
        },
        {
         "name": "pixel483",
         "rawType": "int64",
         "type": "integer"
        },
        {
         "name": "pixel484",
         "rawType": "int64",
         "type": "integer"
        },
        {
         "name": "pixel485",
         "rawType": "int64",
         "type": "integer"
        },
        {
         "name": "pixel486",
         "rawType": "int64",
         "type": "integer"
        },
        {
         "name": "pixel487",
         "rawType": "int64",
         "type": "integer"
        },
        {
         "name": "pixel488",
         "rawType": "int64",
         "type": "integer"
        },
        {
         "name": "pixel489",
         "rawType": "int64",
         "type": "integer"
        },
        {
         "name": "pixel490",
         "rawType": "int64",
         "type": "integer"
        },
        {
         "name": "pixel491",
         "rawType": "int64",
         "type": "integer"
        },
        {
         "name": "pixel492",
         "rawType": "int64",
         "type": "integer"
        },
        {
         "name": "pixel493",
         "rawType": "int64",
         "type": "integer"
        },
        {
         "name": "pixel494",
         "rawType": "int64",
         "type": "integer"
        },
        {
         "name": "pixel495",
         "rawType": "int64",
         "type": "integer"
        },
        {
         "name": "pixel496",
         "rawType": "int64",
         "type": "integer"
        },
        {
         "name": "pixel497",
         "rawType": "int64",
         "type": "integer"
        },
        {
         "name": "pixel498",
         "rawType": "int64",
         "type": "integer"
        },
        {
         "name": "pixel499",
         "rawType": "int64",
         "type": "integer"
        },
        {
         "name": "pixel500",
         "rawType": "int64",
         "type": "integer"
        },
        {
         "name": "pixel501",
         "rawType": "int64",
         "type": "integer"
        },
        {
         "name": "pixel502",
         "rawType": "int64",
         "type": "integer"
        },
        {
         "name": "pixel503",
         "rawType": "int64",
         "type": "integer"
        },
        {
         "name": "pixel504",
         "rawType": "int64",
         "type": "integer"
        },
        {
         "name": "pixel505",
         "rawType": "int64",
         "type": "integer"
        },
        {
         "name": "pixel506",
         "rawType": "int64",
         "type": "integer"
        },
        {
         "name": "pixel507",
         "rawType": "int64",
         "type": "integer"
        },
        {
         "name": "pixel508",
         "rawType": "int64",
         "type": "integer"
        },
        {
         "name": "pixel509",
         "rawType": "int64",
         "type": "integer"
        },
        {
         "name": "pixel510",
         "rawType": "int64",
         "type": "integer"
        },
        {
         "name": "pixel511",
         "rawType": "int64",
         "type": "integer"
        },
        {
         "name": "pixel512",
         "rawType": "int64",
         "type": "integer"
        },
        {
         "name": "pixel513",
         "rawType": "int64",
         "type": "integer"
        },
        {
         "name": "pixel514",
         "rawType": "int64",
         "type": "integer"
        },
        {
         "name": "pixel515",
         "rawType": "int64",
         "type": "integer"
        },
        {
         "name": "pixel516",
         "rawType": "int64",
         "type": "integer"
        },
        {
         "name": "pixel517",
         "rawType": "int64",
         "type": "integer"
        },
        {
         "name": "pixel518",
         "rawType": "int64",
         "type": "integer"
        },
        {
         "name": "pixel519",
         "rawType": "int64",
         "type": "integer"
        },
        {
         "name": "pixel520",
         "rawType": "int64",
         "type": "integer"
        },
        {
         "name": "pixel521",
         "rawType": "int64",
         "type": "integer"
        },
        {
         "name": "pixel522",
         "rawType": "int64",
         "type": "integer"
        },
        {
         "name": "pixel523",
         "rawType": "int64",
         "type": "integer"
        },
        {
         "name": "pixel524",
         "rawType": "int64",
         "type": "integer"
        },
        {
         "name": "pixel525",
         "rawType": "int64",
         "type": "integer"
        },
        {
         "name": "pixel526",
         "rawType": "int64",
         "type": "integer"
        },
        {
         "name": "pixel527",
         "rawType": "int64",
         "type": "integer"
        },
        {
         "name": "pixel528",
         "rawType": "int64",
         "type": "integer"
        },
        {
         "name": "pixel529",
         "rawType": "int64",
         "type": "integer"
        },
        {
         "name": "pixel530",
         "rawType": "int64",
         "type": "integer"
        },
        {
         "name": "pixel531",
         "rawType": "int64",
         "type": "integer"
        },
        {
         "name": "pixel532",
         "rawType": "int64",
         "type": "integer"
        },
        {
         "name": "pixel533",
         "rawType": "int64",
         "type": "integer"
        },
        {
         "name": "pixel534",
         "rawType": "int64",
         "type": "integer"
        },
        {
         "name": "pixel535",
         "rawType": "int64",
         "type": "integer"
        },
        {
         "name": "pixel536",
         "rawType": "int64",
         "type": "integer"
        },
        {
         "name": "pixel537",
         "rawType": "int64",
         "type": "integer"
        },
        {
         "name": "pixel538",
         "rawType": "int64",
         "type": "integer"
        },
        {
         "name": "pixel539",
         "rawType": "int64",
         "type": "integer"
        },
        {
         "name": "pixel540",
         "rawType": "int64",
         "type": "integer"
        },
        {
         "name": "pixel541",
         "rawType": "int64",
         "type": "integer"
        },
        {
         "name": "pixel542",
         "rawType": "int64",
         "type": "integer"
        },
        {
         "name": "pixel543",
         "rawType": "int64",
         "type": "integer"
        },
        {
         "name": "pixel544",
         "rawType": "int64",
         "type": "integer"
        },
        {
         "name": "pixel545",
         "rawType": "int64",
         "type": "integer"
        },
        {
         "name": "pixel546",
         "rawType": "int64",
         "type": "integer"
        },
        {
         "name": "pixel547",
         "rawType": "int64",
         "type": "integer"
        },
        {
         "name": "pixel548",
         "rawType": "int64",
         "type": "integer"
        },
        {
         "name": "pixel549",
         "rawType": "int64",
         "type": "integer"
        },
        {
         "name": "pixel550",
         "rawType": "int64",
         "type": "integer"
        },
        {
         "name": "pixel551",
         "rawType": "int64",
         "type": "integer"
        },
        {
         "name": "pixel552",
         "rawType": "int64",
         "type": "integer"
        },
        {
         "name": "pixel553",
         "rawType": "int64",
         "type": "integer"
        },
        {
         "name": "pixel554",
         "rawType": "int64",
         "type": "integer"
        },
        {
         "name": "pixel555",
         "rawType": "int64",
         "type": "integer"
        },
        {
         "name": "pixel556",
         "rawType": "int64",
         "type": "integer"
        },
        {
         "name": "pixel557",
         "rawType": "int64",
         "type": "integer"
        },
        {
         "name": "pixel558",
         "rawType": "int64",
         "type": "integer"
        },
        {
         "name": "pixel559",
         "rawType": "int64",
         "type": "integer"
        },
        {
         "name": "pixel560",
         "rawType": "int64",
         "type": "integer"
        },
        {
         "name": "pixel561",
         "rawType": "int64",
         "type": "integer"
        },
        {
         "name": "pixel562",
         "rawType": "int64",
         "type": "integer"
        },
        {
         "name": "pixel563",
         "rawType": "int64",
         "type": "integer"
        },
        {
         "name": "pixel564",
         "rawType": "int64",
         "type": "integer"
        },
        {
         "name": "pixel565",
         "rawType": "int64",
         "type": "integer"
        },
        {
         "name": "pixel566",
         "rawType": "int64",
         "type": "integer"
        },
        {
         "name": "pixel567",
         "rawType": "int64",
         "type": "integer"
        },
        {
         "name": "pixel568",
         "rawType": "int64",
         "type": "integer"
        },
        {
         "name": "pixel569",
         "rawType": "int64",
         "type": "integer"
        },
        {
         "name": "pixel570",
         "rawType": "int64",
         "type": "integer"
        },
        {
         "name": "pixel571",
         "rawType": "int64",
         "type": "integer"
        },
        {
         "name": "pixel572",
         "rawType": "int64",
         "type": "integer"
        },
        {
         "name": "pixel573",
         "rawType": "int64",
         "type": "integer"
        },
        {
         "name": "pixel574",
         "rawType": "int64",
         "type": "integer"
        },
        {
         "name": "pixel575",
         "rawType": "int64",
         "type": "integer"
        },
        {
         "name": "pixel576",
         "rawType": "int64",
         "type": "integer"
        },
        {
         "name": "pixel577",
         "rawType": "int64",
         "type": "integer"
        },
        {
         "name": "pixel578",
         "rawType": "int64",
         "type": "integer"
        },
        {
         "name": "pixel579",
         "rawType": "int64",
         "type": "integer"
        },
        {
         "name": "pixel580",
         "rawType": "int64",
         "type": "integer"
        },
        {
         "name": "pixel581",
         "rawType": "int64",
         "type": "integer"
        },
        {
         "name": "pixel582",
         "rawType": "int64",
         "type": "integer"
        },
        {
         "name": "pixel583",
         "rawType": "int64",
         "type": "integer"
        },
        {
         "name": "pixel584",
         "rawType": "int64",
         "type": "integer"
        },
        {
         "name": "pixel585",
         "rawType": "int64",
         "type": "integer"
        },
        {
         "name": "pixel586",
         "rawType": "int64",
         "type": "integer"
        },
        {
         "name": "pixel587",
         "rawType": "int64",
         "type": "integer"
        },
        {
         "name": "pixel588",
         "rawType": "int64",
         "type": "integer"
        },
        {
         "name": "pixel589",
         "rawType": "int64",
         "type": "integer"
        },
        {
         "name": "pixel590",
         "rawType": "int64",
         "type": "integer"
        },
        {
         "name": "pixel591",
         "rawType": "int64",
         "type": "integer"
        },
        {
         "name": "pixel592",
         "rawType": "int64",
         "type": "integer"
        },
        {
         "name": "pixel593",
         "rawType": "int64",
         "type": "integer"
        },
        {
         "name": "pixel594",
         "rawType": "int64",
         "type": "integer"
        },
        {
         "name": "pixel595",
         "rawType": "int64",
         "type": "integer"
        },
        {
         "name": "pixel596",
         "rawType": "int64",
         "type": "integer"
        },
        {
         "name": "pixel597",
         "rawType": "int64",
         "type": "integer"
        },
        {
         "name": "pixel598",
         "rawType": "int64",
         "type": "integer"
        },
        {
         "name": "pixel599",
         "rawType": "int64",
         "type": "integer"
        },
        {
         "name": "pixel600",
         "rawType": "int64",
         "type": "integer"
        },
        {
         "name": "pixel601",
         "rawType": "int64",
         "type": "integer"
        },
        {
         "name": "pixel602",
         "rawType": "int64",
         "type": "integer"
        },
        {
         "name": "pixel603",
         "rawType": "int64",
         "type": "integer"
        },
        {
         "name": "pixel604",
         "rawType": "int64",
         "type": "integer"
        },
        {
         "name": "pixel605",
         "rawType": "int64",
         "type": "integer"
        },
        {
         "name": "pixel606",
         "rawType": "int64",
         "type": "integer"
        },
        {
         "name": "pixel607",
         "rawType": "int64",
         "type": "integer"
        },
        {
         "name": "pixel608",
         "rawType": "int64",
         "type": "integer"
        },
        {
         "name": "pixel609",
         "rawType": "int64",
         "type": "integer"
        },
        {
         "name": "pixel610",
         "rawType": "int64",
         "type": "integer"
        },
        {
         "name": "pixel611",
         "rawType": "int64",
         "type": "integer"
        },
        {
         "name": "pixel612",
         "rawType": "int64",
         "type": "integer"
        },
        {
         "name": "pixel613",
         "rawType": "int64",
         "type": "integer"
        },
        {
         "name": "pixel614",
         "rawType": "int64",
         "type": "integer"
        },
        {
         "name": "pixel615",
         "rawType": "int64",
         "type": "integer"
        },
        {
         "name": "pixel616",
         "rawType": "int64",
         "type": "integer"
        },
        {
         "name": "pixel617",
         "rawType": "int64",
         "type": "integer"
        },
        {
         "name": "pixel618",
         "rawType": "int64",
         "type": "integer"
        },
        {
         "name": "pixel619",
         "rawType": "int64",
         "type": "integer"
        },
        {
         "name": "pixel620",
         "rawType": "int64",
         "type": "integer"
        },
        {
         "name": "pixel621",
         "rawType": "int64",
         "type": "integer"
        },
        {
         "name": "pixel622",
         "rawType": "int64",
         "type": "integer"
        },
        {
         "name": "pixel623",
         "rawType": "int64",
         "type": "integer"
        },
        {
         "name": "pixel624",
         "rawType": "int64",
         "type": "integer"
        },
        {
         "name": "pixel625",
         "rawType": "int64",
         "type": "integer"
        },
        {
         "name": "pixel626",
         "rawType": "int64",
         "type": "integer"
        },
        {
         "name": "pixel627",
         "rawType": "int64",
         "type": "integer"
        },
        {
         "name": "pixel628",
         "rawType": "int64",
         "type": "integer"
        },
        {
         "name": "pixel629",
         "rawType": "int64",
         "type": "integer"
        },
        {
         "name": "pixel630",
         "rawType": "int64",
         "type": "integer"
        },
        {
         "name": "pixel631",
         "rawType": "int64",
         "type": "integer"
        },
        {
         "name": "pixel632",
         "rawType": "int64",
         "type": "integer"
        },
        {
         "name": "pixel633",
         "rawType": "int64",
         "type": "integer"
        },
        {
         "name": "pixel634",
         "rawType": "int64",
         "type": "integer"
        },
        {
         "name": "pixel635",
         "rawType": "int64",
         "type": "integer"
        },
        {
         "name": "pixel636",
         "rawType": "int64",
         "type": "integer"
        },
        {
         "name": "pixel637",
         "rawType": "int64",
         "type": "integer"
        },
        {
         "name": "pixel638",
         "rawType": "int64",
         "type": "integer"
        },
        {
         "name": "pixel639",
         "rawType": "int64",
         "type": "integer"
        },
        {
         "name": "pixel640",
         "rawType": "int64",
         "type": "integer"
        },
        {
         "name": "pixel641",
         "rawType": "int64",
         "type": "integer"
        },
        {
         "name": "pixel642",
         "rawType": "int64",
         "type": "integer"
        },
        {
         "name": "pixel643",
         "rawType": "int64",
         "type": "integer"
        },
        {
         "name": "pixel644",
         "rawType": "int64",
         "type": "integer"
        },
        {
         "name": "pixel645",
         "rawType": "int64",
         "type": "integer"
        },
        {
         "name": "pixel646",
         "rawType": "int64",
         "type": "integer"
        },
        {
         "name": "pixel647",
         "rawType": "int64",
         "type": "integer"
        },
        {
         "name": "pixel648",
         "rawType": "int64",
         "type": "integer"
        },
        {
         "name": "pixel649",
         "rawType": "int64",
         "type": "integer"
        },
        {
         "name": "pixel650",
         "rawType": "int64",
         "type": "integer"
        },
        {
         "name": "pixel651",
         "rawType": "int64",
         "type": "integer"
        },
        {
         "name": "pixel652",
         "rawType": "int64",
         "type": "integer"
        },
        {
         "name": "pixel653",
         "rawType": "int64",
         "type": "integer"
        },
        {
         "name": "pixel654",
         "rawType": "int64",
         "type": "integer"
        },
        {
         "name": "pixel655",
         "rawType": "int64",
         "type": "integer"
        },
        {
         "name": "pixel656",
         "rawType": "int64",
         "type": "integer"
        },
        {
         "name": "pixel657",
         "rawType": "int64",
         "type": "integer"
        },
        {
         "name": "pixel658",
         "rawType": "int64",
         "type": "integer"
        },
        {
         "name": "pixel659",
         "rawType": "int64",
         "type": "integer"
        },
        {
         "name": "pixel660",
         "rawType": "int64",
         "type": "integer"
        },
        {
         "name": "pixel661",
         "rawType": "int64",
         "type": "integer"
        },
        {
         "name": "pixel662",
         "rawType": "int64",
         "type": "integer"
        },
        {
         "name": "pixel663",
         "rawType": "int64",
         "type": "integer"
        },
        {
         "name": "pixel664",
         "rawType": "int64",
         "type": "integer"
        },
        {
         "name": "pixel665",
         "rawType": "int64",
         "type": "integer"
        },
        {
         "name": "pixel666",
         "rawType": "int64",
         "type": "integer"
        },
        {
         "name": "pixel667",
         "rawType": "int64",
         "type": "integer"
        },
        {
         "name": "pixel668",
         "rawType": "int64",
         "type": "integer"
        },
        {
         "name": "pixel669",
         "rawType": "int64",
         "type": "integer"
        },
        {
         "name": "pixel670",
         "rawType": "int64",
         "type": "integer"
        },
        {
         "name": "pixel671",
         "rawType": "int64",
         "type": "integer"
        },
        {
         "name": "pixel672",
         "rawType": "int64",
         "type": "integer"
        },
        {
         "name": "pixel673",
         "rawType": "int64",
         "type": "integer"
        },
        {
         "name": "pixel674",
         "rawType": "int64",
         "type": "integer"
        },
        {
         "name": "pixel675",
         "rawType": "int64",
         "type": "integer"
        },
        {
         "name": "pixel676",
         "rawType": "int64",
         "type": "integer"
        },
        {
         "name": "pixel677",
         "rawType": "int64",
         "type": "integer"
        },
        {
         "name": "pixel678",
         "rawType": "int64",
         "type": "integer"
        },
        {
         "name": "pixel679",
         "rawType": "int64",
         "type": "integer"
        },
        {
         "name": "pixel680",
         "rawType": "int64",
         "type": "integer"
        },
        {
         "name": "pixel681",
         "rawType": "int64",
         "type": "integer"
        },
        {
         "name": "pixel682",
         "rawType": "int64",
         "type": "integer"
        },
        {
         "name": "pixel683",
         "rawType": "int64",
         "type": "integer"
        },
        {
         "name": "pixel684",
         "rawType": "int64",
         "type": "integer"
        },
        {
         "name": "pixel685",
         "rawType": "int64",
         "type": "integer"
        },
        {
         "name": "pixel686",
         "rawType": "int64",
         "type": "integer"
        },
        {
         "name": "pixel687",
         "rawType": "int64",
         "type": "integer"
        },
        {
         "name": "pixel688",
         "rawType": "int64",
         "type": "integer"
        },
        {
         "name": "pixel689",
         "rawType": "int64",
         "type": "integer"
        },
        {
         "name": "pixel690",
         "rawType": "int64",
         "type": "integer"
        },
        {
         "name": "pixel691",
         "rawType": "int64",
         "type": "integer"
        },
        {
         "name": "pixel692",
         "rawType": "int64",
         "type": "integer"
        },
        {
         "name": "pixel693",
         "rawType": "int64",
         "type": "integer"
        },
        {
         "name": "pixel694",
         "rawType": "int64",
         "type": "integer"
        },
        {
         "name": "pixel695",
         "rawType": "int64",
         "type": "integer"
        },
        {
         "name": "pixel696",
         "rawType": "int64",
         "type": "integer"
        },
        {
         "name": "pixel697",
         "rawType": "int64",
         "type": "integer"
        },
        {
         "name": "pixel698",
         "rawType": "int64",
         "type": "integer"
        },
        {
         "name": "pixel699",
         "rawType": "int64",
         "type": "integer"
        },
        {
         "name": "pixel700",
         "rawType": "int64",
         "type": "integer"
        },
        {
         "name": "pixel701",
         "rawType": "int64",
         "type": "integer"
        },
        {
         "name": "pixel702",
         "rawType": "int64",
         "type": "integer"
        },
        {
         "name": "pixel703",
         "rawType": "int64",
         "type": "integer"
        },
        {
         "name": "pixel704",
         "rawType": "int64",
         "type": "integer"
        },
        {
         "name": "pixel705",
         "rawType": "int64",
         "type": "integer"
        },
        {
         "name": "pixel706",
         "rawType": "int64",
         "type": "integer"
        },
        {
         "name": "pixel707",
         "rawType": "int64",
         "type": "integer"
        },
        {
         "name": "pixel708",
         "rawType": "int64",
         "type": "integer"
        },
        {
         "name": "pixel709",
         "rawType": "int64",
         "type": "integer"
        },
        {
         "name": "pixel710",
         "rawType": "int64",
         "type": "integer"
        },
        {
         "name": "pixel711",
         "rawType": "int64",
         "type": "integer"
        },
        {
         "name": "pixel712",
         "rawType": "int64",
         "type": "integer"
        },
        {
         "name": "pixel713",
         "rawType": "int64",
         "type": "integer"
        },
        {
         "name": "pixel714",
         "rawType": "int64",
         "type": "integer"
        },
        {
         "name": "pixel715",
         "rawType": "int64",
         "type": "integer"
        },
        {
         "name": "pixel716",
         "rawType": "int64",
         "type": "integer"
        },
        {
         "name": "pixel717",
         "rawType": "int64",
         "type": "integer"
        },
        {
         "name": "pixel718",
         "rawType": "int64",
         "type": "integer"
        },
        {
         "name": "pixel719",
         "rawType": "int64",
         "type": "integer"
        },
        {
         "name": "pixel720",
         "rawType": "int64",
         "type": "integer"
        },
        {
         "name": "pixel721",
         "rawType": "int64",
         "type": "integer"
        },
        {
         "name": "pixel722",
         "rawType": "int64",
         "type": "integer"
        },
        {
         "name": "pixel723",
         "rawType": "int64",
         "type": "integer"
        },
        {
         "name": "pixel724",
         "rawType": "int64",
         "type": "integer"
        },
        {
         "name": "pixel725",
         "rawType": "int64",
         "type": "integer"
        },
        {
         "name": "pixel726",
         "rawType": "int64",
         "type": "integer"
        },
        {
         "name": "pixel727",
         "rawType": "int64",
         "type": "integer"
        },
        {
         "name": "pixel728",
         "rawType": "int64",
         "type": "integer"
        },
        {
         "name": "pixel729",
         "rawType": "int64",
         "type": "integer"
        },
        {
         "name": "pixel730",
         "rawType": "int64",
         "type": "integer"
        },
        {
         "name": "pixel731",
         "rawType": "int64",
         "type": "integer"
        },
        {
         "name": "pixel732",
         "rawType": "int64",
         "type": "integer"
        },
        {
         "name": "pixel733",
         "rawType": "int64",
         "type": "integer"
        },
        {
         "name": "pixel734",
         "rawType": "int64",
         "type": "integer"
        },
        {
         "name": "pixel735",
         "rawType": "int64",
         "type": "integer"
        },
        {
         "name": "pixel736",
         "rawType": "int64",
         "type": "integer"
        },
        {
         "name": "pixel737",
         "rawType": "int64",
         "type": "integer"
        },
        {
         "name": "pixel738",
         "rawType": "int64",
         "type": "integer"
        },
        {
         "name": "pixel739",
         "rawType": "int64",
         "type": "integer"
        },
        {
         "name": "pixel740",
         "rawType": "int64",
         "type": "integer"
        },
        {
         "name": "pixel741",
         "rawType": "int64",
         "type": "integer"
        },
        {
         "name": "pixel742",
         "rawType": "int64",
         "type": "integer"
        },
        {
         "name": "pixel743",
         "rawType": "int64",
         "type": "integer"
        },
        {
         "name": "pixel744",
         "rawType": "int64",
         "type": "integer"
        },
        {
         "name": "pixel745",
         "rawType": "int64",
         "type": "integer"
        },
        {
         "name": "pixel746",
         "rawType": "int64",
         "type": "integer"
        },
        {
         "name": "pixel747",
         "rawType": "int64",
         "type": "integer"
        },
        {
         "name": "pixel748",
         "rawType": "int64",
         "type": "integer"
        },
        {
         "name": "pixel749",
         "rawType": "int64",
         "type": "integer"
        },
        {
         "name": "pixel750",
         "rawType": "int64",
         "type": "integer"
        },
        {
         "name": "pixel751",
         "rawType": "int64",
         "type": "integer"
        },
        {
         "name": "pixel752",
         "rawType": "int64",
         "type": "integer"
        },
        {
         "name": "pixel753",
         "rawType": "int64",
         "type": "integer"
        },
        {
         "name": "pixel754",
         "rawType": "int64",
         "type": "integer"
        },
        {
         "name": "pixel755",
         "rawType": "int64",
         "type": "integer"
        },
        {
         "name": "pixel756",
         "rawType": "int64",
         "type": "integer"
        },
        {
         "name": "pixel757",
         "rawType": "int64",
         "type": "integer"
        },
        {
         "name": "pixel758",
         "rawType": "int64",
         "type": "integer"
        },
        {
         "name": "pixel759",
         "rawType": "int64",
         "type": "integer"
        },
        {
         "name": "pixel760",
         "rawType": "int64",
         "type": "integer"
        },
        {
         "name": "pixel761",
         "rawType": "int64",
         "type": "integer"
        },
        {
         "name": "pixel762",
         "rawType": "int64",
         "type": "integer"
        },
        {
         "name": "pixel763",
         "rawType": "int64",
         "type": "integer"
        },
        {
         "name": "pixel764",
         "rawType": "int64",
         "type": "integer"
        },
        {
         "name": "pixel765",
         "rawType": "int64",
         "type": "integer"
        },
        {
         "name": "pixel766",
         "rawType": "int64",
         "type": "integer"
        },
        {
         "name": "pixel767",
         "rawType": "int64",
         "type": "integer"
        },
        {
         "name": "pixel768",
         "rawType": "int64",
         "type": "integer"
        },
        {
         "name": "pixel769",
         "rawType": "int64",
         "type": "integer"
        },
        {
         "name": "pixel770",
         "rawType": "int64",
         "type": "integer"
        },
        {
         "name": "pixel771",
         "rawType": "int64",
         "type": "integer"
        },
        {
         "name": "pixel772",
         "rawType": "int64",
         "type": "integer"
        },
        {
         "name": "pixel773",
         "rawType": "int64",
         "type": "integer"
        },
        {
         "name": "pixel774",
         "rawType": "int64",
         "type": "integer"
        },
        {
         "name": "pixel775",
         "rawType": "int64",
         "type": "integer"
        },
        {
         "name": "pixel776",
         "rawType": "int64",
         "type": "integer"
        },
        {
         "name": "pixel777",
         "rawType": "int64",
         "type": "integer"
        },
        {
         "name": "pixel778",
         "rawType": "int64",
         "type": "integer"
        },
        {
         "name": "pixel779",
         "rawType": "int64",
         "type": "integer"
        },
        {
         "name": "pixel780",
         "rawType": "int64",
         "type": "integer"
        },
        {
         "name": "pixel781",
         "rawType": "int64",
         "type": "integer"
        },
        {
         "name": "pixel782",
         "rawType": "int64",
         "type": "integer"
        },
        {
         "name": "pixel783",
         "rawType": "int64",
         "type": "integer"
        }
       ],
       "ref": "276b6c76-f2a5-4b9c-848d-cbb4fbc6c904",
       "rows": [
        [
         "35286",
         "7",
         "0",
         "0",
         "0",
         "0",
         "0",
         "0",
         "0",
         "0",
         "0",
         "0",
         "0",
         "0",
         "0",
         "0",
         "0",
         "0",
         "0",
         "0",
         "0",
         "0",
         "0",
         "0",
         "0",
         "0",
         "0",
         "0",
         "0",
         "0",
         "0",
         "0",
         "0",
         "0",
         "0",
         "0",
         "0",
         "0",
         "0",
         "0",
         "0",
         "0",
         "0",
         "0",
         "0",
         "0",
         "0",
         "0",
         "0",
         "0",
         "0",
         "0",
         "0",
         "0",
         "0",
         "0",
         "0",
         "0",
         "0",
         "0",
         "0",
         "0",
         "0",
         "0",
         "0",
         "0",
         "0",
         "0",
         "0",
         "0",
         "0",
         "0",
         "0",
         "0",
         "0",
         "0",
         "0",
         "0",
         "0",
         "0",
         "0",
         "0",
         "0",
         "0",
         "0",
         "0",
         "0",
         "0",
         "0",
         "0",
         "0",
         "0",
         "0",
         "0",
         "0",
         "0",
         "0",
         "0",
         "0",
         "0",
         "0",
         "0",
         "0",
         "0",
         "0",
         "0",
         "0",
         "0",
         "0",
         "0",
         "0",
         "0",
         "0",
         "0",
         "0",
         "0",
         "0",
         "0",
         "0",
         "0",
         "0",
         "0",
         "0",
         "0",
         "0",
         "0",
         "0",
         "0",
         "0",
         "0",
         "0",
         "0",
         "0",
         "0",
         "0",
         "0",
         "0",
         "0",
         "0",
         "0",
         "0",
         "0",
         "0",
         "0",
         "0",
         "0",
         "0",
         "0",
         "0",
         "0",
         "0",
         "0",
         "0",
         "0",
         "0",
         "0",
         "0",
         "0",
         "0",
         "0",
         "0",
         "0",
         "0",
         "0",
         "0",
         "0",
         "0",
         "0",
         "0",
         "0",
         "0",
         "0",
         "0",
         "72",
         "96",
         "12",
         "0",
         "36",
         "96",
         "96",
         "194",
         "194",
         "155",
         "253",
         "253",
         "253",
         "253",
         "195",
         "96",
         "96",
         "12",
         "0",
         "0",
         "0",
         "0",
         "0",
         "0",
         "0",
         "0",
         "0",
         "12",
         "197",
         "251",
         "197",
         "190",
         "214",
         "251",
         "251",
         "251",
         "251",
         "253",
         "251",
         "251",
         "251",
         "251",
         "253",
         "251",
         "251",
         "197",
         "71",
         "0",
         "0",
         "0",
         "0",
         "0",
         "0",
         "0",
         "0",
         "48",
         "220",
         "251",
         "251",
         "251",
         "253",
         "251",
         "251",
         "251",
         "251",
         "253",
         "251",
         "251",
         "251",
         "251",
         "253",
         "251",
         "251",
         "251",
         "94",
         "0",
         "0",
         "0",
         "0",
         "0",
         "0",
         "0",
         "0",
         "0",
         "43",
         "188",
         "188",
         "188",
         "189",
         "188",
         "188",
         "50",
         "31",
         "31",
         "31",
         "31",
         "129",
         "31",
         "213",
         "251",
         "251",
         "251",
         "94",
         "0",
         "0",
         "0",
         "0",
         "0",
         "0",
         "0",
         "0",
         "0",
         "0",
         "0",
         "0",
         "0",
         "0",
         "0",
         "0",
         "0",
         "0",
         "0",
         "0",
         "0",
         "0",
         "0",
         "194",
         "251",
         "251",
         "211",
         "35",
         "0",
         "0",
         "0",
         "0",
         "0",
         "0",
         "0",
         "0",
         "0",
         "0",
         "0",
         "0",
         "0",
         "0",
         "0",
         "0",
         "0",
         "0",
         "0",
         "0",
         "0",
         "0",
         "0",
         "255",
         "253",
         "253",
         "189",
         "0",
         "0",
         "0",
         "0",
         "0",
         "0",
         "0",
         "0",
         "0",
         "0",
         "0",
         "0",
         "0",
         "0",
         "0",
         "0",
         "0",
         "0",
         "0",
         "0",
         "0",
         "0",
         "0",
         "20",
         "253",
         "251",
         "251",
         "188",
         "0",
         "0",
         "0",
         "0",
         "0",
         "0",
         "0",
         "0",
         "0",
         "0",
         "0",
         "0",
         "0",
         "0",
         "0",
         "0",
         "0",
         "0",
         "0",
         "0",
         "0",
         "0",
         "32",
         "205",
         "253",
         "251",
         "251",
         "109",
         "0",
         "0",
         "0",
         "0",
         "0",
         "0",
         "0",
         "0",
         "0",
         "0",
         "0",
         "0",
         "0",
         "0",
         "0",
         "0",
         "0",
         "0",
         "0",
         "0",
         "0",
         "0",
         "104",
         "251",
         "253",
         "251",
         "140",
         "4",
         "0",
         "0",
         "0",
         "0",
         "0",
         "0",
         "0",
         "0",
         "0",
         "0",
         "0",
         "0",
         "0",
         "0",
         "0",
         "0",
         "0",
         "0",
         "0",
         "0",
         "20",
         "158",
         "240",
         "251",
         "253",
         "251",
         "126",
         "0",
         "0",
         "0",
         "0",
         "0",
         "0",
         "0",
         "0",
         "0",
         "0",
         "0",
         "0",
         "0",
         "0",
         "0",
         "0",
         "0",
         "0",
         "0",
         "0",
         "0",
         "32",
         "253",
         "253",
         "253",
         "255",
         "161",
         "0",
         "0",
         "0",
         "0",
         "0",
         "0",
         "0",
         "0",
         "0",
         "0",
         "0",
         "0",
         "0",
         "0",
         "0",
         "0",
         "0",
         "0",
         "0",
         "0",
         "0",
         "12",
         "158",
         "251",
         "251",
         "251",
         "181",
         "16",
         "0",
         "0",
         "0",
         "0",
         "0",
         "0",
         "0",
         "0",
         "0",
         "0",
         "0",
         "0",
         "0",
         "0",
         "0",
         "0",
         "0",
         "0",
         "0",
         "0",
         "0",
         "174",
         "251",
         "251",
         "251",
         "251",
         "79",
         "0",
         "0",
         "0",
         "0",
         "0",
         "0",
         "0",
         "0",
         "0",
         "0",
         "0",
         "0",
         "0",
         "0",
         "0",
         "0",
         "0",
         "0",
         "0",
         "0",
         "0",
         "40",
         "253",
         "251",
         "251",
         "235",
         "89",
         "64",
         "16",
         "0",
         "0",
         "0",
         "0",
         "0",
         "0",
         "0",
         "0",
         "0",
         "0",
         "0",
         "0",
         "0",
         "0",
         "0",
         "0",
         "0",
         "0",
         "0",
         "0",
         "158",
         "253",
         "251",
         "251",
         "228",
         "158",
         "253",
         "161",
         "0",
         "0",
         "0",
         "0",
         "0",
         "0",
         "0",
         "0",
         "0",
         "0",
         "0",
         "0",
         "0",
         "0",
         "0",
         "0",
         "0",
         "0",
         "0",
         "24",
         "194",
         "255",
         "253",
         "253",
         "253",
         "253",
         "255",
         "161",
         "0",
         "0",
         "0",
         "0",
         "0",
         "0",
         "0",
         "0",
         "0",
         "0",
         "0",
         "0",
         "0",
         "0",
         "0",
         "0",
         "0",
         "0",
         "0",
         "182",
         "251",
         "253",
         "251",
         "251",
         "251",
         "251",
         "181",
         "16",
         "0",
         "0",
         "0",
         "0",
         "0",
         "0",
         "0",
         "0",
         "0",
         "0",
         "0",
         "0",
         "0",
         "0",
         "0",
         "0",
         "0",
         "0",
         "0",
         "221",
         "251",
         "253",
         "251",
         "251",
         "251",
         "251",
         "79",
         "0",
         "0",
         "0",
         "0",
         "0",
         "0",
         "0",
         "0",
         "0",
         "0",
         "0",
         "0",
         "0",
         "0",
         "0",
         "0",
         "0",
         "0",
         "0",
         "0",
         "181",
         "251",
         "253",
         "251",
         "251",
         "156",
         "31",
         "0",
         "0",
         "0",
         "0",
         "0",
         "0",
         "0",
         "0",
         "0",
         "0",
         "0",
         "0",
         "0",
         "0",
         "0",
         "0",
         "0",
         "0",
         "0",
         "0",
         "0",
         "24",
         "193",
         "253",
         "251",
         "172",
         "12",
         "0",
         "0",
         "0",
         "0",
         "0",
         "0",
         "0",
         "0",
         "0",
         "0",
         "0",
         "0",
         "0",
         "0",
         "0",
         "0",
         "0",
         "0",
         "0",
         "0",
         "0",
         "0",
         "0",
         "0",
         "0",
         "0",
         "0",
         "0",
         "0",
         "0",
         "0",
         "0",
         "0",
         "0",
         "0",
         "0",
         "0",
         "0",
         "0",
         "0",
         "0",
         "0",
         "0",
         "0",
         "0",
         "0",
         "0",
         "0",
         "0",
         "0",
         "0",
         "0",
         "0",
         "0",
         "0",
         "0",
         "0",
         "0",
         "0",
         "0",
         "0",
         "0",
         "0",
         "0",
         "0",
         "0",
         "0",
         "0"
        ]
       ],
       "shape": {
        "columns": 785,
        "rows": 1
       }
      },
      "text/html": [
       "<div>\n",
       "<style scoped>\n",
       "    .dataframe tbody tr th:only-of-type {\n",
       "        vertical-align: middle;\n",
       "    }\n",
       "\n",
       "    .dataframe tbody tr th {\n",
       "        vertical-align: top;\n",
       "    }\n",
       "\n",
       "    .dataframe thead th {\n",
       "        text-align: right;\n",
       "    }\n",
       "</style>\n",
       "<table border=\"1\" class=\"dataframe\">\n",
       "  <thead>\n",
       "    <tr style=\"text-align: right;\">\n",
       "      <th></th>\n",
       "      <th>label</th>\n",
       "      <th>pixel0</th>\n",
       "      <th>pixel1</th>\n",
       "      <th>pixel2</th>\n",
       "      <th>pixel3</th>\n",
       "      <th>pixel4</th>\n",
       "      <th>pixel5</th>\n",
       "      <th>pixel6</th>\n",
       "      <th>pixel7</th>\n",
       "      <th>pixel8</th>\n",
       "      <th>...</th>\n",
       "      <th>pixel774</th>\n",
       "      <th>pixel775</th>\n",
       "      <th>pixel776</th>\n",
       "      <th>pixel777</th>\n",
       "      <th>pixel778</th>\n",
       "      <th>pixel779</th>\n",
       "      <th>pixel780</th>\n",
       "      <th>pixel781</th>\n",
       "      <th>pixel782</th>\n",
       "      <th>pixel783</th>\n",
       "    </tr>\n",
       "  </thead>\n",
       "  <tbody>\n",
       "    <tr>\n",
       "      <th>35286</th>\n",
       "      <td>7</td>\n",
       "      <td>0</td>\n",
       "      <td>0</td>\n",
       "      <td>0</td>\n",
       "      <td>0</td>\n",
       "      <td>0</td>\n",
       "      <td>0</td>\n",
       "      <td>0</td>\n",
       "      <td>0</td>\n",
       "      <td>0</td>\n",
       "      <td>...</td>\n",
       "      <td>0</td>\n",
       "      <td>0</td>\n",
       "      <td>0</td>\n",
       "      <td>0</td>\n",
       "      <td>0</td>\n",
       "      <td>0</td>\n",
       "      <td>0</td>\n",
       "      <td>0</td>\n",
       "      <td>0</td>\n",
       "      <td>0</td>\n",
       "    </tr>\n",
       "  </tbody>\n",
       "</table>\n",
       "<p>1 rows × 785 columns</p>\n",
       "</div>"
      ],
      "text/plain": [
       "       label  pixel0  pixel1  pixel2  pixel3  pixel4  pixel5  pixel6  pixel7  \\\n",
       "35286      7       0       0       0       0       0       0       0       0   \n",
       "\n",
       "       pixel8  ...  pixel774  pixel775  pixel776  pixel777  pixel778  \\\n",
       "35286       0  ...         0         0         0         0         0   \n",
       "\n",
       "       pixel779  pixel780  pixel781  pixel782  pixel783  \n",
       "35286         0         0         0         0         0  \n",
       "\n",
       "[1 rows x 785 columns]"
      ]
     },
     "execution_count": 41,
     "metadata": {},
     "output_type": "execute_result"
    }
   ],
   "source": [
    "df = pd.read_csv(\"train.csv/train.csv\")\n",
    "df.sample()"
   ]
  },
  {
   "cell_type": "code",
   "execution_count": 42,
   "id": "31e65de3",
   "metadata": {},
   "outputs": [
    {
     "data": {
      "text/plain": [
       "<matplotlib.image.AxesImage at 0x1f0c5abf4d0>"
      ]
     },
     "execution_count": 42,
     "metadata": {},
     "output_type": "execute_result"
    },
    {
     "data": {
      "image/png": "[encoded data removed]",
      "text/plain": [
       "<Figure size 640x480 with 1 Axes>"
      ]
     },
     "metadata": {},
     "output_type": "display_data"
    }
   ],
   "source": [
    "plt.imshow(df.iloc[30422,1:].values.reshape(28,28))"
   ]
  },
  {
   "cell_type": "code",
   "execution_count": 43,
   "id": "92e7149c",
   "metadata": {},
   "outputs": [
    {
     "data": {
      "text/plain": [
       "(42000, 785)"
      ]
     },
     "execution_count": 43,
     "metadata": {},
     "output_type": "execute_result"
    }
   ],
   "source": [
    "df.shape"
   ]
  },
  {
   "cell_type": "code",
   "execution_count": 44,
   "id": "0abeb1f4",
   "metadata": {},
   "outputs": [],
   "source": [
    "X = df.iloc[:,1:]\n",
    "y = df.iloc[:,0]"
   ]
  },
  {
   "cell_type": "code",
   "execution_count": 45,
   "id": "36060e22",
   "metadata": {},
   "outputs": [],
   "source": [
    "from sklearn.model_selection import train_test_split\n",
    "X_train,X_test,y_train,y_test = train_test_split(X,y,train_size = 0.2,random_state = 0)"
   ]
  },
  {
   "cell_type": "code",
   "execution_count": 46,
   "id": "0c2b6a20",
   "metadata": {},
   "outputs": [
    {
     "data": {
      "text/plain": [
       "(8400, 784)"
      ]
     },
     "execution_count": 46,
     "metadata": {},
     "output_type": "execute_result"
    }
   ],
   "source": [
    "X_train.shape"
   ]
  },
  {
   "cell_type": "code",
   "execution_count": 47,
   "id": "273f6435",
   "metadata": {},
   "outputs": [
    {
     "data": {
      "text/plain": [
       "0.9453869047619048"
      ]
     },
     "execution_count": 47,
     "metadata": {},
     "output_type": "execute_result"
    }
   ],
   "source": [
    "# check the Model Accuracy without Pca\n",
    "from sklearn.neighbors import KNeighborsClassifier\n",
    "from sklearn.metrics import accuracy_score\n",
    "knn  = KNeighborsClassifier()\n",
    "\n",
    "knn.fit(X_train,y_train)\n",
    "y_pred = knn.predict(X_test)\n",
    "\n",
    "accuracy_score(y_test,y_pred)\n"
   ]
  },
  {
   "cell_type": "code",
   "execution_count": 48,
   "id": "5e761ed2",
   "metadata": {},
   "outputs": [],
   "source": [
    "#Now Pca \n",
    "# step - 1 Mean Center the Data \n",
    "from sklearn.preprocessing import StandardScaler\n",
    "scale  = StandardScaler(with_mean=True)\n",
    "\n",
    "X_train = scale.fit_transform(X_train)\n",
    "X_test = scale.transform(X_test)\n",
    "\n",
    "\n"
   ]
  },
  {
   "cell_type": "code",
   "execution_count": 49,
   "id": "6812c878",
   "metadata": {},
   "outputs": [],
   "source": [
    "# for i in range(1,100):\n",
    "#     from sklearn.decomposition import PCA\n",
    "#     pca = PCA(n_components=i)\n",
    "\n",
    "#     X_train_trf = pca.fit_transform(X_train)\n",
    "\n",
    "#     X_test_trf = pca.transform(X_test)\n",
    "#     from sklearn.neighbors import KNeighborsClassifier\n",
    "\n",
    "#     knn = KNeighborsClassifier()\n",
    "\n",
    "#     knn.fit(X_train_trf,y_train)\n",
    "\n",
    "#     y_pred_trf = knn.predict(X_test_trf)\n",
    "\n",
    "#     from sklearn.metrics import accuracy_score\n",
    "\n",
    "    # print(accuracy_score(y_test,y_pred_trf),i)"
   ]
  },
  {
   "cell_type": "code",
   "execution_count": 50,
   "id": "14e0035d",
   "metadata": {},
   "outputs": [
    {
     "data": {
      "text/plain": [
       "array([[ 0.,  0.,  0., ...,  0.,  0.,  0.],\n",
       "       [-0., -0., -0., ..., -0., -0., -0.],\n",
       "       [ 0.,  0.,  0., ...,  0.,  0.,  0.],\n",
       "       ...,\n",
       "       [ 0.,  0.,  0., ...,  0.,  0.,  0.],\n",
       "       [-0., -0., -0., ..., -0., -0., -0.],\n",
       "       [ 0.,  0.,  0., ...,  0.,  0.,  0.]], shape=(784, 784))"
      ]
     },
     "execution_count": 50,
     "metadata": {},
     "output_type": "execute_result"
    }
   ],
   "source": [
    "from sklearn.decomposition import PCA\n",
    "pca  = PCA()\n",
    "X_train_trf = pca.fit_transform(X_train)\n",
    "X_test_trf = pca.transform(X_test)\n",
    "\n",
    "\n",
    "\n",
    "pca.components_\n"
   ]
  },
  {
   "cell_type": "code",
   "execution_count": 51,
   "id": "8ff40fa6",
   "metadata": {},
   "outputs": [
    {
     "data": {
      "text/plain": [
       "np.float64(40.66631120263737)"
      ]
     },
     "execution_count": 51,
     "metadata": {},
     "output_type": "execute_result"
    }
   ],
   "source": [
    "pca.explained_variance_[0]"
   ]
  },
  {
   "cell_type": "code",
   "execution_count": 52,
   "id": "5876f57a",
   "metadata": {},
   "outputs": [
    {
     "data": {
      "text/plain": [
       "array([  6.04182318,  10.36237694,  14.32542155,  17.41857142,\n",
       "        20.06765228,  22.42825704,  24.52410665,  26.37516644,\n",
       "        28.06970186,  29.58076273,  31.03254103,  32.33434802,\n",
       "        33.56205155,  34.75818681,  35.90056655,  37.01854758,\n",
       "        38.04761931,  39.05050064,  40.04504888,  41.0156146 ,\n",
       "        41.97626588,  42.85653568,  43.68997398,  44.49833306,\n",
       "        45.2993202 ,  46.07221465,  46.833404  ,  47.58130871,\n",
       "        48.31946758,  49.0153276 ,  49.68953687,  50.34147201,\n",
       "        50.98549718,  51.60937241,  52.22073216,  52.81613724,\n",
       "        53.39875851,  53.96694917,  54.52048718,  55.05930211,\n",
       "        55.58245214,  56.10091523,  56.61261507,  57.11969863,\n",
       "        57.60544983,  58.08714461,  58.55926928,  59.02625612,\n",
       "        59.48919987,  59.94564125,  60.39980624,  60.84560086,\n",
       "        61.28398075,  61.71185044,  62.13126558,  62.5464831 ,\n",
       "        62.94705414,  63.3438672 ,  63.73389841,  64.11639193,\n",
       "        64.48966549,  64.85784138,  65.2246495 ,  65.58341496,\n",
       "        65.93302422,  66.28072299,  66.62780333,  66.96659214,\n",
       "        67.30287223,  67.63609065,  67.96356297,  68.28779762,\n",
       "        68.60774005,  68.92573695,  69.24239968,  69.55353004,\n",
       "        69.8609067 ,  70.16679813,  70.46844184,  70.76829402,\n",
       "        71.06486553,  71.35828098,  71.64728892,  71.93466504,\n",
       "        72.21964586,  72.50259108,  72.78284747,  73.05859078,\n",
       "        73.33003448,  73.59776872,  73.86396483,  74.12595985,\n",
       "        74.38271102,  74.63856066,  74.89173293,  75.14264127,\n",
       "        75.39176104,  75.63765238,  75.87800249,  76.11614701,\n",
       "        76.35306998,  76.58775551,  76.81972856,  77.04784595,\n",
       "        77.27368878,  77.49744452,  77.71727689,  77.93363685,\n",
       "        78.14839207,  78.36211732,  78.57264442,  78.78142683,\n",
       "        78.9866459 ,  79.19138852,  79.39321564,  79.58978248,\n",
       "        79.78398234,  79.97678323,  80.16708164,  80.35295719,\n",
       "        80.53694054,  80.71885477,  80.89837369,  81.07704295,\n",
       "        81.25363644,  81.4282831 ,  81.60076342,  81.77125741,\n",
       "        81.94078033,  82.10840056,  82.27421643,  82.43911128,\n",
       "        82.6019675 ,  82.76283071,  82.92180114,  83.078751  ,\n",
       "        83.23475822,  83.38902701,  83.54134409,  83.69245438,\n",
       "        83.84285824,  83.99054184,  84.13682973,  84.28287187,\n",
       "        84.42796907,  84.57170455,  84.71335929,  84.85386024,\n",
       "        84.99362292,  85.13232934,  85.2689265 ,  85.40492769,\n",
       "        85.53892835,  85.67130708,  85.80267702,  85.93329111,\n",
       "        86.06317713,  86.19150072,  86.31810725,  86.44342521,\n",
       "        86.56776368,  86.6900857 ,  86.81018827,  86.92914355,\n",
       "        87.04736499,  87.16438631,  87.27992898,  87.3949586 ,\n",
       "        87.50831937,  87.61960161,  87.72988884,  87.83926216,\n",
       "        87.94764892,  88.05463668,  88.1611233 ,  88.26604644,\n",
       "        88.36916336,  88.47042877,  88.57125669,  88.6718784 ,\n",
       "        88.77146315,  88.8692715 ,  88.96631413,  89.06245397,\n",
       "        89.15748718,  89.25215089,  89.34599445,  89.4394953 ,\n",
       "        89.53231829,  89.62437185,  89.71514125,  89.8046106 ,\n",
       "        89.89327029,  89.98178027,  90.06899883,  90.15502325,\n",
       "        90.24006713,  90.32455929,  90.407619  ,  90.49011252,\n",
       "        90.5718831 ,  90.65322129,  90.73320559,  90.81204359,\n",
       "        90.88957625,  90.9665871 ,  91.04310982,  91.1191473 ,\n",
       "        91.19407108,  91.26799492,  91.34142768,  91.41450892,\n",
       "        91.48668964,  91.55777489,  91.62839325,  91.69856601,\n",
       "        91.76832757,  91.83696894,  91.90463667,  91.97176261,\n",
       "        92.03861689,  92.10459498,  92.16993038,  92.23406872,\n",
       "        92.29736144,  92.36007337,  92.42198687,  92.48383297,\n",
       "        92.54492665,  92.60506301,  92.66473205,  92.72388342,\n",
       "        92.78270233,  92.84085648,  92.89833981,  92.95560128,\n",
       "        93.01234485,  93.06902286,  93.12483868,  93.17940647,\n",
       "        93.23396469,  93.28799126,  93.34155992,  93.39441662,\n",
       "        93.44695274,  93.49925126,  93.55109096,  93.60262191,\n",
       "        93.65359649,  93.70438496,  93.75376221,  93.80299806,\n",
       "        93.85191578,  93.90068775,  93.94877383,  93.99653903,\n",
       "        94.04389967,  94.09061048,  94.13708136,  94.18290346,\n",
       "        94.22852783,  94.27371926,  94.31872614,  94.36341439,\n",
       "        94.40726674,  94.45075804,  94.49367735,  94.53615086,\n",
       "        94.57834161,  94.62034209,  94.66197031,  94.70275805,\n",
       "        94.74342399,  94.78396924,  94.82403595,  94.86343053,\n",
       "        94.90245592,  94.9413172 ,  94.97991115,  95.0182743 ,\n",
       "        95.05611036,  95.09378401,  95.13100056,  95.16813241,\n",
       "        95.20469567,  95.24107537,  95.27695288,  95.31262248,\n",
       "        95.34782153,  95.38287492,  95.41787076,  95.45199062,\n",
       "        95.48609545,  95.51976979,  95.55317192,  95.58634131,\n",
       "        95.61935699,  95.65199785,  95.6844133 ,  95.71662065,\n",
       "        95.7486657 ,  95.7803308 ,  95.81193268,  95.84324111,\n",
       "        95.87432698,  95.90527195,  95.93607519,  95.96652368,\n",
       "        95.99664204,  96.02648472,  96.0560948 ,  96.08541639,\n",
       "        96.11423136,  96.1429245 ,  96.17139058,  96.19979434,\n",
       "        96.22757835,  96.25504121,  96.28238722,  96.30959001,\n",
       "        96.33668932,  96.36369878,  96.39044293,  96.41686915,\n",
       "        96.44310859,  96.46915704,  96.49514096,  96.52094375,\n",
       "        96.54648127,  96.57185808,  96.59719195,  96.62191272,\n",
       "        96.6465862 ,  96.67106638,  96.69529986,  96.71933651,\n",
       "        96.74331098,  96.76710491,  96.79073796,  96.81425553,\n",
       "        96.83759468,  96.86074477,  96.88379111,  96.90659658,\n",
       "        96.92923348,  96.95170188,  96.97405508,  96.9961791 ,\n",
       "        97.0182755 ,  97.04022856,  97.06202061,  97.08365511,\n",
       "        97.10510782,  97.12632865,  97.14749895,  97.16853424,\n",
       "        97.18940726,  97.21015898,  97.23078514,  97.25118021,\n",
       "        97.2715218 ,  97.29178245,  97.31179629,  97.33172347,\n",
       "        97.35161393,  97.37130319,  97.39089975,  97.41027486,\n",
       "        97.42955179,  97.44869541,  97.46775682,  97.48657126,\n",
       "        97.50525308,  97.5238643 ,  97.54241855,  97.56080238,\n",
       "        97.57901066,  97.59719296,  97.61531347,  97.63315398,\n",
       "        97.6509342 ,  97.66852931,  97.68594838,  97.70331473,\n",
       "        97.72057929,  97.73775682,  97.75482022,  97.77184652,\n",
       "        97.78868683,  97.80541764,  97.82201978,  97.83859279,\n",
       "        97.85510614,  97.87141973,  97.88769025,  97.90391752,\n",
       "        97.91994446,  97.93591704,  97.95173806,  97.96748667,\n",
       "        97.9832261 ,  97.99882061,  98.01438873,  98.02981572,\n",
       "        98.04501779,  98.06007295,  98.07501578,  98.08992798,\n",
       "        98.10475097,  98.11954273,  98.13420479,  98.14875308,\n",
       "        98.16313589,  98.17744413,  98.19165014,  98.20580923,\n",
       "        98.21989403,  98.23383443,  98.24774431,  98.26159744,\n",
       "        98.27540318,  98.28911156,  98.30270569,  98.31621033,\n",
       "        98.32968055,  98.34302146,  98.35625605,  98.36936194,\n",
       "        98.38244444,  98.39544613,  98.40837901,  98.42124213,\n",
       "        98.43402386,  98.44673328,  98.45931476,  98.47181692,\n",
       "        98.48428185,  98.49670453,  98.50897113,  98.52120361,\n",
       "        98.53334666,  98.5454735 ,  98.55750836,  98.56947781,\n",
       "        98.58141262,  98.59323997,  98.60503586,  98.61671391,\n",
       "        98.62831363,  98.6398389 ,  98.65132391,  98.66271462,\n",
       "        98.67408312,  98.68533569,  98.69649684,  98.70759841,\n",
       "        98.7186064 ,  98.72959161,  98.74048082,  98.7513189 ,\n",
       "        98.76208398,  98.77281255,  98.78343931,  98.79402655,\n",
       "        98.80452647,  98.81498152,  98.82537671,  98.83573655,\n",
       "        98.84604502,  98.85629931,  98.86650007,  98.87661666,\n",
       "        98.88669202,  98.89668943,  98.90663077,  98.91655253,\n",
       "        98.92640905,  98.93624472,  98.94602735,  98.95572897,\n",
       "        98.96534896,  98.97490114,  98.98438827,  98.99386974,\n",
       "        99.0032913 ,  99.01269214,  99.02200281,  99.03129838,\n",
       "        99.04053049,  99.04973462,  99.05883119,  99.06790889,\n",
       "        99.07696708,  99.08595335,  99.09487868,  99.10375872,\n",
       "        99.11255581,  99.1213482 ,  99.13009569,  99.13873872,\n",
       "        99.14733163,  99.15588995,  99.16438295,  99.17281382,\n",
       "        99.1812022 ,  99.18956142,  99.197883  ,  99.20613482,\n",
       "        99.21426774,  99.22235814,  99.23039926,  99.23840596,\n",
       "        99.24637095,  99.25427541,  99.26211175,  99.26992024,\n",
       "        99.27769272,  99.28543704,  99.29311132,  99.30077417,\n",
       "        99.30840386,  99.31600296,  99.32353758,  99.33101422,\n",
       "        99.3383883 ,  99.34575777,  99.35310293,  99.3602978 ,\n",
       "        99.36748323,  99.37462609,  99.38175302,  99.38886391,\n",
       "        99.39590586,  99.40291322,  99.40988089,  99.41679091,\n",
       "        99.42367914,  99.43053583,  99.43733734,  99.44406211,\n",
       "        99.45074196,  99.45740724,  99.46403978,  99.4706681 ,\n",
       "        99.47724116,  99.48378066,  99.49027041,  99.4967215 ,\n",
       "        99.50314188,  99.50952101,  99.51587254,  99.52216201,\n",
       "        99.52842869,  99.53463316,  99.54079648,  99.54691988,\n",
       "        99.5529714 ,  99.5589959 ,  99.56498331,  99.57095487,\n",
       "        99.57689202,  99.58279635,  99.58866518,  99.59445601,\n",
       "        99.6002219 ,  99.60594758,  99.61163122,  99.6172956 ,\n",
       "        99.62294868,  99.62854395,  99.6340689 ,  99.63956223,\n",
       "        99.64503316,  99.65048255,  99.65592338,  99.66134502,\n",
       "        99.66669828,  99.67201388,  99.67730183,  99.68257101,\n",
       "        99.68781057,  99.69300385,  99.69814266,  99.70325079,\n",
       "        99.70832065,  99.71336697,  99.71837171,  99.72332768,\n",
       "        99.72826209,  99.73317849,  99.73806776,  99.74289446,\n",
       "        99.7476664 ,  99.75240715,  99.7571416 ,  99.76184731,\n",
       "        99.76653019,  99.77118308,  99.7758098 ,  99.78042561,\n",
       "        99.78498498,  99.78950622,  99.79400068,  99.79845351,\n",
       "        99.80285505,  99.80724216,  99.81160394,  99.8159485 ,\n",
       "        99.82024263,  99.82452818,  99.82879606,  99.83301262,\n",
       "        99.83718565,  99.84133407,  99.84547136,  99.84956278,\n",
       "        99.85363284,  99.85765512,  99.86165686,  99.86562905,\n",
       "        99.86956855,  99.87349012,  99.87740407,  99.8812662 ,\n",
       "        99.88511777,  99.88893919,  99.89269626,  99.89642047,\n",
       "        99.90013159,  99.90380763,  99.90742932,  99.91103731,\n",
       "        99.91458042,  99.91810671,  99.92160642,  99.92508858,\n",
       "        99.92854339,  99.93197194,  99.93535678,  99.93871017,\n",
       "        99.94202265,  99.9453126 ,  99.94858117,  99.9517738 ,\n",
       "        99.95495071,  99.95811173,  99.96118013,  99.96422408,\n",
       "        99.9672354 ,  99.9702178 ,  99.97310941,  99.97598282,\n",
       "        99.97879928,  99.98157435,  99.98432357,  99.98702821,\n",
       "        99.98949179,  99.99192394,  99.9941629 ,  99.99615497,\n",
       "        99.99762679,  99.9990663 ,  99.99959206,  99.99999161,\n",
       "       100.        , 100.        , 100.        , 100.        ,\n",
       "       100.        , 100.        , 100.        , 100.        ,\n",
       "       100.        , 100.        , 100.        , 100.        ,\n",
       "       100.        , 100.        , 100.        , 100.        ,\n",
       "       100.        , 100.        , 100.        , 100.        ,\n",
       "       100.        , 100.        , 100.        , 100.        ,\n",
       "       100.        , 100.        , 100.        , 100.        ,\n",
       "       100.        , 100.        , 100.        , 100.        ,\n",
       "       100.        , 100.        , 100.        , 100.        ,\n",
       "       100.        , 100.        , 100.        , 100.        ,\n",
       "       100.        , 100.        , 100.        , 100.        ,\n",
       "       100.        , 100.        , 100.        , 100.        ,\n",
       "       100.        , 100.        , 100.        , 100.        ,\n",
       "       100.        , 100.        , 100.        , 100.        ,\n",
       "       100.        , 100.        , 100.        , 100.        ,\n",
       "       100.        , 100.        , 100.        , 100.        ,\n",
       "       100.        , 100.        , 100.        , 100.        ,\n",
       "       100.        , 100.        , 100.        , 100.        ,\n",
       "       100.        , 100.        , 100.        , 100.        ,\n",
       "       100.        , 100.        , 100.        , 100.        ,\n",
       "       100.        , 100.        , 100.        , 100.        ,\n",
       "       100.        , 100.        , 100.        , 100.        ,\n",
       "       100.        , 100.        , 100.        , 100.        ,\n",
       "       100.        , 100.        , 100.        , 100.        ,\n",
       "       100.        , 100.        , 100.        , 100.        ,\n",
       "       100.        , 100.        , 100.        , 100.        ,\n",
       "       100.        , 100.        , 100.        , 100.        ,\n",
       "       100.        , 100.        , 100.        , 100.        ,\n",
       "       100.        , 100.        , 100.        , 100.        ,\n",
       "       100.        , 100.        , 100.        , 100.        ])"
      ]
     },
     "execution_count": 52,
     "metadata": {},
     "output_type": "execute_result"
    }
   ],
   "source": [
    "np.cumsum(pca.explained_variance_ratio_*100)"
   ]
  },
  {
   "cell_type": "code",
   "execution_count": 53,
   "id": "0465eff3",
   "metadata": {},
   "outputs": [
    {
     "data": {
      "text/plain": [
       "[<matplotlib.lines.Line2D at 0x1f0b4d1d310>]"
      ]
     },
     "execution_count": 53,
     "metadata": {},
     "output_type": "execute_result"
    },
    {
     "data": {
      "image/png": "[encoded data removed]",
      "text/plain": [
       "<Figure size 640x480 with 1 Axes>"
      ]
     },
     "metadata": {},
     "output_type": "display_data"
    }
   ],
   "source": [
    "plt.plot(np.cumsum(pca.explained_variance_ratio_*100))"
   ]
  },
  {
   "cell_type": "code",
   "execution_count": 63,
   "id": "9ba23d76",
   "metadata": {},
   "outputs": [
    {
     "data": {
      "text/plain": [
       "0.33729166666666666"
      ]
     },
     "execution_count": 63,
     "metadata": {},
     "output_type": "execute_result"
    }
   ],
   "source": [
    "pca = PCA(n_components=2)\n",
    "X_train_trf = pca.fit_transform(X_train)\n",
    "X_test_trf = pca.transform(X_test)\n",
    "\n",
    "knn.fit(X_train_trf,y_train)\n",
    "y_pred = knn.predict(X_test_trf)\n",
    "\n",
    "accuracy_score(y_test,y_pred)"
   ]
  },
  {
   "cell_type": "code",
   "execution_count": 64,
   "id": "15bf4949",
   "metadata": {},
   "outputs": [
    {
     "data": {
      "application/vnd.plotly.v1+json": {
       "config": {
        "plotlyServerURL": "https://plot.ly"
       },
       "data": [
        {
         "hovertemplate": "x=%{x}<br>y=%{y}<br>color=%{marker.color}<extra></extra>",
         "legendgroup": "",
         "marker": {
          "color": {
           "bdata": "CAADCQYBCQUHAgUBAAQJAAkDAQAICAcJCQECCAAECAYDBQIDCAQDBAcDBAkABgcGAQIIBAIBBgEHAgIFAgQBBwIDBAIABAEDAQcBAwQEAQgEAwYABQgHAwcGAQcEBwUCAgAFAAMGBAkFBAYJAgkCAAMCBAcBBgIAAgMDBAIJAwkGBQYCAQkBBwABBwYABgkFAQIHBQcHAQMICQIJCQIAAAUJAQEIAgcABgICCAgHAQUGBwMGBAICCAIFCQIDAAYHBQYABQgEAQECAQEDBwQGCQICCAgECQkIAwUJBwYHBAIIBgIDCQAHBQkGCQgBCAEJBwgFAQMBBAgHAgYJAwQICAIFAgMDAgMABAAGCQIEAAkGAAYBBwkJBgIHBQICCQcDAAYECAkHBQQGAwQJAwkHAQUIBgYICAUJCAcABAAFCQMABgcACAIDCAkGBwQFCQkDCQEEBQgCBggEBAcDBQYHAgYGCAQJAgIIBwIGAAUCBwEIBAQJBwcAAwcBCQMFAgUGBwIIBwEJBwAGBQYIBwQECAgAAQcICAIDAwUFBAYICQcEBAYGBgUHBAUDAQQJAQIDBgEAAAQIAAYDAgcCBAQHBgADCQIJBgIBAAgECQUJBAIGCQYABAQAAAAABQAFAgQJBwADAgIABwcECQEGBgQEAwMHAQYFBwkCBAYBCQYAAQkABQkFBAECCQkJAAAGAgMCAAYAAAUBAwABBAkJBwMCAQgJBAMAAAQACQYAAQEEAgcEAgYGAgMBAQQCBwgHBAIGBAQIAAYFAgADAQMBAQABBwQHBwAFBgMFCQMICAUJCQIJCAQHBgYIBQYICQICBQkACAAHBgcABQAIBwcGBAMAAgUEBQAHCAAIAwIFAgEDAgIEBAMFCQYAAAMHBgEFAgkFBAIHBQUICAAHAQcCAwcCAQYCBAIJAwMFAgUDCQIGBwMGCAgDAwEHAQYAAQMFAwcEAwEHBAABAAkCAwcCBAYHAwgBAQkDCAkDCAUDBwUJAQMGCQEHBgYEBAIACQIDAgUDAwkJAQYIBAkIBQcEBwcABgMGBQcJAQgJCQYAAwMHAwkGBwUAAAUHBQAHBgAIAgAEAgkIBgIDCQkAAQkDAAkCBgAHBQEIBgMFAgMJAgkABwEICAUFBAQBAQgCAAEBCAEHBAMFAAUEAAgEBQYGBwAJAwICAwYJBQYICAEDAQkGBQYABgEJBgkCAgcIBgIECQkHBAQDBgMGBQAGAAQBBgEABwkBCAYFAgYAAgkGAwcJAAQEBgMGAAAHAQMGBAAJBggDBAAHCQkDBAQICAMDAwkAAwYHCQYFAwkCCAQFBwgHBQQICAkEAwcHCAkHAQUAAgUCBQAEAwEJBQIDBQIHBgEHBAYBCQAIBgcEAwUHAQcAAQEGBwACAQIIBwMJCAcDBAcBBAEDAAcABQkACQkGAgcCAgEBCQcACAEIAwUDAAYDBAQFCAQBBAIIAAcAAQcHAAICAAIFBwMGBwEAAAMEBQIECAkDBgAGBgIIBgQABwcHCQIHBQIBAgQBCAgEAQkBCQECBAUFBQMBBgcEBAEIAAIFBgEABgkEAAABBQAGAgAACAMAAQEEBgUDCAgDAgQBBgEBAwEJBgQJCQQDCQcIBAADCAQBAAMJBgQFAgQFBgEAAAMGAwkHBQcDBgkDAQQEBAMBCQAAAgADAAYBAAUFAwkABgMBCQkHCAECAAUFAAkFBwYHBgkGAwcCAgADCQgAAQYFCQMHAAcECAIDBQUGBAEJBQIEBQkCBwkCAgEBAgYBCAIBCAEDCAUHAwEHBQcCBgMGBgAIAwYDAQcHAAQHAAEEAwAHAgUABwEJBQQEAQMGAQcEBQcACAMJBgcABAMCBgYEAgcGAwUGAwcHBQgGCQYABAMGBwkIAAUACQMIBQYABwMBBgUCBwUICAUCCQAJBAAIAQgHBwkCCQACCQUEAgYCBgkECAgEBwIBBgYBAwgAAQMEBgkHAAMFAAABAAgGBQEJAwMGAQIBCAIFCQkHAAADCAcBCQEBAAYGCQgDAwAIAgkJAAYBAwMABgQDCAMEAAAHCAIDCQkDAAIECAIDAgEABAQCAQkCAwcABQkHAgIEAAMCCAABBQcCCAMBBwEGBwIGCAgJBgUHBgEIAgAHAgUEBAUBAgkJAAUDBgIFAgAFBgUCBwcHBgABAgMEBwEBAAAHBQMCCAkEAgUEAwMBAwABCQUABgkEAgMHAgIBBgABBwYBCQEBAQcCBgMCCAEFAgIHBQgJCQIHAwEGAggBAQEECQQGBwcAAQUHAwQDCQMEAgUBAQIEAAMIAgMICQQDBQQJBwADBwECAQgHBgIBBQMCCAQIBwMGBQcBBQgJBgAGAAgEAgcFBQgABggABwEBBwcACAgCAwcBAQUJAAgCBQAHBgcCCAECAwYIAwgIAwgFBwUJAQQEAAkJCAcGAgEJAQcDAQQBBQcDAAACAgEJAQQAAAIFAQUECAQGAwACAQUGAwcFAgUJAQMDBwkHCAYDBgUBAgcHAAACAAMDCAECCAgICAEBBgMCAQAFBgAACQQBBAMGAgEJAgMEBAEACAYFAgQDBgADBAcFAAYIBAQHBQEHAQUJCAEHAwkIBQIFCQMIBwgHCQcDAQcCBQQJCAUBBgIJBgkFAgEHAQIIBAUEAAMHAwYGBAkICAUEAAkEBAMGBAcDBwUDCQgIBAIABAYEAwUJAgQDBAEAAQcDBwgAAgkECAQGBAMCBgQDCAIJAgcDBAkCAgIEBwEEBQQACQgFAQgHAwQJAQkBCQQCBwYJAgkCBgQFBQEDAwgGBQcHAgQBBgECBAABAwcIAwcIAgIECAQGAAEDBwUBBAIEAgYGAQAHAQIFCAQHAgMCBAMAAAQEAQICCAcABQYBCAcABwgAAQEDAAEFAQIJCQMHAAkCAwIHBgEGAAUJBgcBBQkDAgYGAAQBAAkEBQYACAQDAgcDAwUCAgcDCAEAAQICAAkCCQEGBAcABgkBAQUCAAEIBAUABQcJBAkCAggGAgIHBAgABwMEBgYFBAcABwcBBgUJAQMIAwEAAAMBCQgJBwYJBwUJCAIHBgcJBQMFAgYBBwcHBgcFCQYCBQEBAgUIAAADBwUBAgUGBAcCBQQIBAUJAgEFAAAABQgCBAQIAwgEBQUACAEEBwcDAgIDAAUFAQcDAwQDBwcCCAIHBwACAQgBBwQIBAIICQkFBgACCAcACAgAAgIECQcCBwUFAgYGCQYEAQIECAIHBwUABQMBCQgGCAIACQUJBggCAgIAAAEAAwEHBAEDBQMDAQYGBAcJAwQEAgcIAwIGCQQIAwgDCAgGBAMBBwEIBgEIBgkHAggDAwMFAQkGBwMCAwEEBgUIBQMGAAIIBQMEAwcBAgYCBQICAQEJCAMACAUEAQQJBwgIBwEBBQYDBQIABQEJCQAFBwkCAwUHAgIACAcCBAMJBgIJBAMJAQUIBAYIAQgBBQgHBQUICAAAAgUICQcGAAYGAwAFBwcHCQQCAQkGBwYGCQEEAQcECQkDAAcGAwIICQQJAQQIBQUICAkBBgMFAwgFBQMGBwcIBAMCAQMGBwYEAwgDAQkFBAkBCAADBAgCCAAFCQYDAAAEAAEFAAUJAQAJAwIGBwYABAYEAQABBwcIBAYBBwIHCQEAAQMBBgEHAAQDBgMDAAMCCAMCAQABAgMGAQUDBwQBCAECAQMABwUBAQcFAgcFAgYBBAMJBgABBQEDBAMGCAQBBQAIBQAEBQUJAgkAAQkIAgcFBQMFCQYDBgECBAcABQIHAwMABAQJCAEFAAEHAAMABAEDAgQBAAAJAwIACQUBBQYHAQQHAwIHBgIGAAIDCAUFBgMBAwAJAwIIBAEBBQEICQIEBAYEAgAICQYGCAYFBQgEBwkGBAUFAwYBAgECBwAGBQEBAAIGBAkCBQkABAYBBgkCCQUFBwIFCAQICQUDCAQGAQMCAgcFBwYBCQUFBQQEBQUJAAAAAgcFBAQBBQAIBgUECAYJBwUBBwgJBAEDBgUJCAgGAQQABQgECQMHAgMEBggJAwgIBQkABQIDAggCBwYAAAQEAgQJBAACAwUGAwgDAAkHAgUHBwgBAwMIBwIAAggIAAgIAAADBAQGAAUAAAkGBAgGCQEABgUCCQMFCAQIAgQJAgMGBAkACQAIAwcJCQkIAQEJCAACBAIJAgUJAgIHBgIHCAICBwIHAwkDAwgEBQcIAwIDBgIBBQUECQEFAQcACAUGBAEDAQgDAAUBCQEIAgUBCQUJAwAECQgJBQcFBAEIAwMGBwUBBgIIAAEGAwAFAgcGBgQDBQIDBAAABwQGBwkJAQEACQAFAwEEAwkGBwACBgIDBwcBAgEDBAAABwQIAwMBAgAICAkGAQUEAAIGBQYJAwUGCQECAAQHBwgFBwMDAgEIAQEEBwAGCAQHAwEBBwMEBwIBBQcDBggBBQgJAgECAgQDBgkDCQgFBgIGCQEEBggECQkICAEAAAkFCAcGBggGBggEBwIJBgAEAAMHBQIGAwABCQIFAQkGBAABCAcDBgEJBQcHCAQJAAICCQAJAgYABwECBwECAQgHAgUDBQEDAggICAIJAgcFAQIIBgIIBwcJAgIHBQUAAwkEAQMDCQEJBAIEAQADBAkDBgMBAQcICAACAAkAAAIDAgMFAAIEAgkABAICAQYABQAGBAcFAwgCCQkEBgMDBAUJCAAHAwYJAQUBAAkJCQUBBAEACAEJAQEHCQcHBAQHBQEBBgYDAAgIAgAIBwMJBgkHBgkCBAYJAgQJAAgJAggBAQMGBAUHBgEIAAcDBggGAQIDCQgFBAMIAwEDAwkJAgIGCQQEAgAGAwIFCAgBBgUCAwAABgUCAgkBBQEGBwEHAgUIBwkJBgMGAAkCBgQIBAIABAEIAwMGAAkIAgIJAQQEAQEIBgQHAAEIAQAAAwkFAgUCAAMACQMBCAAAAQgJAQACBAcJBgECCAYIAgQIBgAEAwIABwYHAgcCAwkFBQIBAAICAwUFAAkIAAcHBwUFBAQBAAcBBgMCAAMEBggHAQYBBQcHBQIGBwYGAAIFBQAHBggECAIBAQYDBwIAAwYCBwEICAcDBQgGAQAIAwYEAwIHAgkGBQcDBQUABAACAgECAwUDAwYJAwMJBgIECAEHAAEJBgEHCAgACQgCBgIFBAgGAQYGBAUGCQcCBgAEAgIEBgQAAQcFCQgHBgcBAQEIBgkFBggJBwEACQIABgIIBAMAAgcFAAYABQEFCQABAwUCBQgGBwQJBAEHAwYBAgMFAgMCAgQGCQAIBQQCAQAICAQBAwUAAAUJBwEDAggIAwcABAEGBAgDAQEJAwMDBgABBwkBCQAFBQgCBQMHAgYHCQQIBwcGBgcJAwQGAgEGAAcHBQAHBgIHAAEFAAcEBQAHBwgIAwMHCAQDBgMCBwUECAkFBAIBBgUEBwYAAAAECQgHAwIABwQEBwkGAwYAAQcAAAMEAgAJCAUABwcGBAcDAgABBQIHAQAFAwECBgQCBQkCCQYAAQYECQYFBQcBCAABBgMEBwYBBQQEAAcBBAAHBwUJBAgGCAgJBgAHAgYGAwIGCQYHBAQDCAIABQcABwUCAgAGAgcIAQcJCQADCQEGAQIDCAACAwMIBAEABAYDBQAJCAIEBgkFBwEJAgcDBQAHAAUHBwUBCQMABwIJAQEGAwMHBAUJBAEABgIHBgAIBgYJCAkFCAkIBwcGAAkAAQQHCAECAQYCAAgEAAgECQkCAwIEBAEHBwIGAAIJCAkHAQgAAgYFBgkDBQIJAgkFAQUIBwMBAQMFBwcEAQUFCAQACQECAQMIBgcJAAECCQQBBggCCAQHBwMEBAMFAwMBBwkDBAQIBAUGCQEEBwICAwMABAMBBAMBCAICAggGBAAJBgcEAgcDAAgJAgEIAwYDCQEABggBAQQDBgQBAQEDCQcIAAADBgcHBQMHAwEJAwAHBQIIBwUGBwcDCQMJBAIBAAEJAwUJBQQCCQkBBAAEBwAIAQYCBAACAgICAQICAggGAgMHAQMFAwIIAAAHAAYCAgUGBgYIBQUJAgkCAgUBAwQFBwAHCAAGAQMDAgcBAgEHAQUBBAEEAwEFAQYEBQcFBgYGBwcEAQAEAgcBBAUGBwIABAMCAgAJAwMCAwcCBwEEAwUBCQkIAwADAwEFBAMJBwkECAUDAQYIAgYJBwQHBwcEBgEJBAcIBAkCBgIAAQQEBAkAAQYAAQQHBgYJCQAIBwEJAQgICAMJBQEGAwQBBwAJBAkEAQMJBgYDAwEHBwcCBQACBAYDAQMJAgUJCQUHAgEEAwAEAgQDAAMHBgYFBwIBAAQIBQAAAQQBBQgCBAECAAMACQUHBAIHAgYCAgMHBAkHAAABAwYICQYJCAEEBQEGAQkDBgQDCAAGAwYIBQIDBAYIBQAAAwMHCQcCAwQJBgUJAQYBBQMBBAYHBgkJAQAABAAIAgcBAgYAAAMBAgAEBQMEBgIDBAEEAAkBAgAEAQQJBQUHBgQFAwAHBwcFBAkJAgEEAwAHAQYDAQkDBAkFAQUHAAQDAwcBBgICAwQCBQEGBAcICAkAAQIHAQMHAAUDAAEHBgIBCAQIAAEIBwUGAQAGAwcHBAQJBgMDAAkBBAcFBAYEAggCBgEEAAEHCQkIBAkFAwYABAkCBQcDBwgIAAIGAwUHBwQDBgEHCQQJBgcFBAMACAYFBQMDBAcICAgDBQcAAgYDBQABAQYBAAgEAwYEBAkABwYFAwcGBQEFAgYBCAgIAAcEAAEICAIBAAADAQIDAwMBAgQCBgcABwEHBgYABwEAAwEJCAgHBgcIAAcHBwUBAwcHBgkABQAIAQEEAQcFCQEECAYHCQMGAQMBAQMBAwgICQMAAggCBgcJAgcHBAgCCAIHBAACCAQGAgMBAggDBgMJCAIEAggHCQEBCAEFBwUFCQEEBAgHBwgBCAMFBAgBBwkJAwcJCAcJCQYDBAIDAgcGBgMBBwQIBQAGCAcBAgIEAQYEAgIJBQIAAwkJAwQBAAIECQkCBggAAwMCBAEIBgYDCQkDBAkBBwgAAQQDCAkCBgEIBwQEBwAIBQEFCQkFAAYJBgUABgUCAAkCBQQGBwQFAAkJBwMEBgYJAQYHBQMBAwIAAwYGAQcEBAEJAQUHCAIJAQUCAQYGAwAFCQIGBwQCBgkJBwkIBwYAAwgICAMACQEEBAEBBAYCCAQHAAEFBwAEBAYABAABAQECBgkCAwUDCQIIAwkEAwUCCQYDAwUJCQgEBwMJAgQAAAEABwIEBQUJBwgEBQIBAgIEBQAEBwkJBQgBAwYHBgAEAwcGAQcGBgUDBAkBBAEDCQYBAwADCAAGBAAHCQEABQMCBQEJBwQBAwIDAAAIAgcEBwcGCAIHAAcDBwIFCQICCQEIBgYGCAMJCQgFAgMBAwICBAAHBwEBAwYJAgYBBwEEBwcDAwYJBwAEBwUDBwkGAAQHBQgHBwkDCAIHCQkEAAYHBwkCBwcJBgEEBQkGBwIABggBBgIJBwgECQUFAwkEBwEBBgMGAQYBCAgJBggEBAMCAAYHBQIGBQcCAQEDCQkACAADCAAFAgUAAggICAUEBQAECAYHCQMCBwMIBwQDCAIGCQYIAAMFAgUGAwIBAwEGAQUDBgABBgkJCQIICQIJBgQCAgEIBwkIBgIDBQMBBwYBCQcIAQgGBQIDBAQGBgEHBAQGBwABBQEDAQUJBQYAAwADCAMJBAkCAwYHBAUGCQQECQkIAwYGCAYJBgQACQcGCQYAAwQACQcGCAgIAwADBAgIAwIFAgUBBgEBAQIICAAJAAYIBgUHBAMFAQIHAwkGAAEFAwECAwIACQIEAwMCAQQIBgkDAggDAAIAAQMGBwMGCQQBBAcBCQECBQcFAwUAAQUIBwcCBwcBBwIBCAABCQgGAAMCAQkGCQcJAgICBgEFAgkGAgIGBAkDCQIBCQYIAwEJAQYEAwkFBAcICQQHCAcEAwgFBAYJAAEHCQQHBAcIBgQDAwEFBgEHBwAFCAgCBwkHBAAABAUJAgQJBwIFCAQJCAIBBwgIBgkFCAQCCQUIAQYGAQcAAgIGAwIBBwcDAwAAAAUBBgUJBQQGAwIAAggFCQkIAwEGBgAEBwYIAwYCBAEIBQYABggIAAIHCAcHAgQFBQEGBgkHBQACAgMIBQYBBwEHAgkDAgMBCAMGAgAHBwUDAQQEAgMHAQUGCAAJAwMCCAcACQcDBgIJAwgDBAEJAgYJBwIICQECCQYFBgkFBgMGAQgGCQUCAgkGBAgDBAICBggBAAkECQMIBQkIAwQEBwIABAMDBwEBCAcIAwkCAwECCQACAQcEAAgCAQYDAQMBAAMICQcFBwcICAMGCQEGBgkFAAAACAMJBwYJAQMDAwUCAAIHAAMCAQIBBgEBBQAFAggDBgEHAgIABQkBAQQGAAcGBwgECQcCBAMIBwUJAwYECQgEBQADCAEDBwACAgcJCQgFAQcAAAcIAgIGBQQICQABAQcGAgcECAQABQcHBwUEBAgHAgIJBgIJBQAHAwEBBwcHBwUDAgYIAwEJAAAJAgABCQYEBgUCAQEACQgBBQUHCQAEAgkAAAUIBgcJAwAABgcFCQkIAgMBAQEJBAgFAQgIBwAIBQYEAAIABQABCAUHAAMBCAYFBwAIAggJCQkEBgkGCAcDBAgEBgQDAAACBQgBBgEJBAMAAwgDAQcHBgICCQAJCQkACQUFAQACCAMAAgcFCQADAQMEAAAGBAEFBAEFBAUIAgMFCAIGAgQFAwkBAQAEBAAGCAQHBwEABwYJBgEGAAMDBgUACAIABwUEBAcDAgEIBQEFCAgACAAIAAMHAAEEAAUDCQEFBQIJAAkJAAQCCAIBAQkIAQUEBgAGBggCCAQJAQgJBggBBgMBBwABAwgIAAcFAwQFBgMBAAYAAAcABAUCBQEIAAkIBAkGAQABAQcEBQYGBAYFAwIICAMIBAEJAgUGBAYEBwcBAgUGBwUCBgcIAAUBAgEAAQQJAAUAAwkECAYBAwIJCQkICQEIBwUHCAAAAQIFBgcBAwMBBggJCQIHAwYCAQQAAgQBAAkGBwEHAQkIBgcACAMABwYBAQMEAQcFCQcBAwMHCQAHAQQBBAkFAgYAAwAJBwcECQcIBAYGCAkCAAQBBwcBBQgJAwEGCAMBBAEICAQIBAEJAAMCBgEFBQECBwEFBwIGBgICAAcBCAEDBAAABwIEBAEGBgICBAEIAwkGAAIIAgMBCAgABAQBBQEABwYCAgcIBgACCQMCCQMBBwMJAgYGAQIJAQAIAQAHBAcGBwkGAQIHCQIFBQIIAAIIBQcJAAMGCAIGCQMAAwkBBQIICAYJBgcBAwUCBgUABAEFAwEFAQkJAQEICQEDBQkDAgAEAgAGAQEIBAQCAAIDCAEEBwgIBQgAAQYDAwUDBQcGAQIHAQECAQkIBwMAAwcICAgEBQIJBQAGCAcAAQkGCAYBBgkJBAEBCAQJBAkDCAEDCAcBAgYAAAYGAAkICQQDCQIECQEAAwIAAQEECAcGBwcHBAQCAQcDAggCAAMDCQkGBgQICQgGAgkCBwQACQkCAgUHCAgBBAgECQQGCQkHAAMFBgIFAwkGCAcFBwEBAwkCCAMJCAYDAQMCAAkJAAIDBAkBAgMGAAgEAgQBBgIFAgYHAAgBAAMIBAAGBAQJCAYFBQgGAgQCCQcCAgQJCQIEBwgDBAEGBggFCAgBBgkCBQQDAQUAAQUDAwUJAgcGAgUBAAYJBgMFAgMACAQICQQBAAUJBwcEBggABQEEBwQHBQEABQUFBAQIAQkIAQEECQQJAQUJBAcFBAABBgECBwQGAAcFBAcHAwQECAcFAQcICQUHBQQGBwYABAMIBAgHCAEHBwMIBgMFAAMJBwMFAwkGAgUDCQQGBgUIAwkIAQQDCAQGBQgIAgkECQkBBgcCCAgGCQcAAQYGBgUCAgQGBgcIAQgHBgEEBQcBBwcIBwgDBQYBBAUEBwUFAAAIAgkDBAEBAQIJAwUDCAgFAAkJCQgIBwAHBAMHBAQABAcGBAcJAgIJBgAAAQUFAwcEAgcBAAQFAwIAAQEBCQgEBQUGAAAIBAYBBgAACAYHBQQIAgcFAAQABAABAAAEAAcEBAEBAQMEAwMFBAkECAEIAwcJAQkHBwIDBQAHCQcFCQMFAgEFBwQIAgMDBwEHAAYCAAIJBgEBBwACBQMGAgAIAgYDBAgFBwEFBQEACQQHAQkFBAYJCAkIBwcDBQMDAwADAQUEBgUAAwQBBwYIAgQFAAADAwkEBgkDBQEIBgkEAgEEAQIDAwIJBgAAAAMHAwAFCQUFBAADBgADAQECBwIBAQYABgUBAAgGAQQABgIGAAEDAwMCBwYBCQcFAAYGAQIDAwYHBQcHBAIFBAAHBgAGCAEGBgMDAwMJAgMDCAAFAAQGAwcJBQYHBgMHAAMJBwUFAgYCAwACCAEFAQAGBgMICQADBAgGAwkIAAQCAQYBCQIDCQkCCAcCAQgHCQQBAgUDBAEBAQUJBAgGCQkJAQADAgEDCQkDAgkABwgDCAgDBwMHBwMBAAYGCQgBAgAFBgYACQAFBgkCBgYGAgEHAAkJAgcGBQQGCAAHCQgFBAkIAAMBCAIABwAAAQQABgcEAQgGCAUBBwAJCAYIAQQHBAEHBgcIAQQCCQYJBgMGBQcEBwUGBgUFAwAGCQgBAwIBCAMEAQcICAAFAwkHBQkGCQMHBQkFAQQABQcGAgACBQkAAQQJAQkBBQkGCQYABAEBBQgCAAgJAwkDAwQIAAkFBwkACAAAAgkCAQUCCAUABQEFAwgCCQIGCAEBCQkCBwUFBwEJBAYGBQIGBwMCBwUJAAcJAwUDBQYGCAEBCQgFBAIABwgIAAIBAwUDBwMJBAIHBgkJAgEBCQcEAAMIAAMJBwEJCAYAAgkECAkHBAcFBQAJAwEGAggBAAMJBQYEBQkDAAIACQcEBggGCAMCCAQGAAUBAgYHAAIEBgcIBAgFAQgAAQMFAgEIAwUABQUEAwcDBAIGBwQJAAAACAIIAAAJBAcJBwYAAQcDBQcBCAgGAQgBAgACCQgDAQIJAQUJBQgAAwgJAQUHBwUDAgUJCQUFAgYFCAIDBgcGBgUEBAQECQcGAQkGBAUHAQgIAQkABQIBCAQGAgQGCAkBBAACBQEGAAEECAEEAgMFBwMABAcDBwkGBAcIBwkABAYEAwkHBAUEBQACCQkDAgkGBwYEAAQBAAQJCAEBAgMJAwQCAwYBCQAJ",
           "dtype": "i1"
          },
          "coloraxis": "coloraxis",
          "symbol": "circle"
         },
         "mode": "markers",
         "name": "",
         "showlegend": false,
         "type": "scattergl",
         "x": {
          "bdata": "X/nEpxaKEcBaAkahvCowQMD1YLJGWAPAodcLadyqFsDlJou1rwr1P3wCTlEK9BTAUY62qPMH3j94aCv4j27iPy5rZQh5bBzAW0lIuYsMAEAlFRmqWQAQQCJ16QHfIh3AIrza2qi0B0Cg/8LxAbW4P+xQkVcDiuc/KdUfGzNgEECi/HID0hz3P2y/l6dl/ue/u0sLMIdOHsBYdI8/C6uwv5jCspqwyP0/26Y/48q/DcAk7aAuKwccwGMfktHqowrAyKP4cStyFsC92cMnpSodwG4c+eOzpRVA9+QUdJzVBMCERlI+C8cHQKNb4xIgLwBACjINFxcVCkCpgmfoj7UoQKLS2ta7c+8/lhjYK8m4CMA1pjSQ6f8pQDb6uQaMORxAFxWRV0jiAMChCAOtySv4v/rGwB4quvc/WRTDG1J8BkCQYL4dDqEVwKSX0QGRHe0/Hdn4F3uWEcARl9XciBALwARfw62FCP8/W2AlojgqIkD26lF6brIJwAT8xCaIKALAOa66aZ76HcAf4YTZHFsbQP2POrbPpf4/p5+VCGdiDcC8dE/1qdcRQNeB8K13WiDAh/PD3StXAECJBZzfhOAfwG99VG4Y5v+/5o5NkRA3/7+u6hW5WGUFQCHupH6kgcw/F6LZGuCZC8AExD+bO+ICQFYANhRCMCHAuQKM/MBTGEBRBjXCQDr9P4cpyIZDnZS/OwZSucTMAsB9ZScrMoASQHA07szqoipAeyOD1ZDlE8BGkvHDTvsewK6DTurG+wpA1j/y9lEbIMANJDd/SEUbwKAQaKYCNxfAA7G+ELY2FMCOz0JUWloHwM7jnVvHwg3Azm5mDVNxHMDyMH5vBuwUwKz3etJGNRZAhGXwHyp6BMDwcSa9JtULwFzsQ7TCEStAn5IpaUlXIkAeQQZvK7/gv19zNYdHBBfAy7ZL8g0OGsCklmGRQMUYwKjRhvPSsxFAqa9cU+xpDMA1fdRcGpDmP4SQRjLY/hrAQeEFWg0Z+T9MaBFEvkzSvx7z9VxRcCdAqsq1e7Bt+78zug/u46kwQMUFgwQ7NQJAOTKsz839KEA4vwNpCbkSwKsGRo+MYeA/Oa+9kxP09L/GdG14ACcVwOtcYugFTRJAYPj1z8PFEMDCJlxMB+Dpv4GTAMeeyxfAz3YpgEi5C0CsSpjfm2kXQJ8cU7Chf+E/GOvN/dxiKUAW/RxLA7rXv/u5vcZq7xdAS0o8Z9d4EsDeq2zdlkIVwJAGyFSn5RzAY0+4PbpeGUAuXLCbcjAeQIkn0HPtPy1AB1ntAWGLDkAI3pfTDgASwFErTbYi2RRAPJyQWPMIFcDNtU2EX6AeQAvsa1wArhTAk+eirct3EECuj0wualsPwLlh6Zs5SipAk3m84XLfyj/WlAfOQXANwEOLLLayMyVAUkMPZyxBHcAYVYI/BJ0awAL5hbio0x7AUz7kMHBP2L8Sv30ZMqshQHijv11dHBzAPvogbatyGMCWiNoiXF8QQJlpJLzS7yVAjn/CSq07GED0GVVxIF4RwKhfwz7d+tM/KPwHmbjLF8DJBXzsF/YNQDPdiw3BnxzAvJT34dJUHEDXEml9zCQTQAeUca35LgDA6RXvNghnIMAxHDUJ3ukHwEKXyHoOegDAnJZV8TrmBsAF8v7Tl0yaP+6CkGIU3hjAJ+tu38niAEAY62Nc2pTXP7DrjeoHnsQ/MtqrdRcgH0DxZu8mOIyxP0BB2z5CBQnA9g5+IHegG8AE0m50/LYewAc/MkztoxHA8mNu7cQQB8D6L2j9X6ETwPpJwkwWvAfA8B7GGXGTEMCuboQ7RsgXQID1EkItReu/pNZc9NnvB0AgqkA62qgPwPDav6CrMhXAob0deC3hHsAqxxo5me7Bvz35bvCOQ7g/L2N0sLM2FcBLhR0Cj2bsP/OLIQhHSS5AMrYhFv7KEEDxHDeK0ND0v24q3c1ddxlA7FaF1sNGDEBXW6hMzyUFwANhG592PiZAtv5LKxkSBUDtH3if+GsZQHoHau5y8AnAmA1Yju6gKUBn/713u4khQDAq2nnrShDAFulOhd2E7D8BXuNDZ/0XwESdddg3whtA8lOGbJpCCkC5cfIAW7z8v/u9yTE7dBzA0V0auhmcH8DT3K90lC8gwKhMXITeuf6/fbn/gXBdHcAr5ahdSFUfwHe7RRsZhsi/cgzyvQneFMCeHqZmamLgv53j1Srk6y1AnAusuvemtj+o/lNMjCDvv7r75NX4dQFA/TFzEO3MBcBwyDzoI9MLwG+/+Z0hrhpALoSX25sAF8A2WqpVmgYLwDrsU2BRixPAQmfFoCLd/T/lynMWtVMfQIQJ2Z61qhzA0EPgacylzj9ikMti4VqlP+LvZ23iVPK/6XpSeeOlFMBm4eiK1ez+PybTAuEpHwvAj6wUhfV3E0DQI1HL3ujmPyEwWm7EHRPAOqK2k4zLFcB54OnQQiM1QHSU+c2WD9a/GDq1jd/JEMCKz9O/yeL4Px5B62HNvxrAJ5XNMSYUGMBGd1PtCyXqv7Uwd7jQPh7AroVddzMCA8BH6UDwH2ofwMBhSdgtfAHAhkV9U5GIA8DN7AzDaPoGwB71BUG8xwdAC9AvyPk+HcBZpUPRU1MKwNDRK1B9EBnAdCIp3MZJEMDwghUAZScLQB0pJvTrZRnA27Q4Oy5AC0BMaqOyG8gWQFenTLMIfxPALlSuBL5G678npHUTCpIUwNuYZmrOquY/vFiKQG5FEsCD6URnbAEbQIgPNYV3fAVAukkVGWQbF0Afo/8H4Q33Pz+xzlZMHwXAntPxYpk54b/8spnh4/ILwGecDgjxtStAJTP3y8lVAMDv47KBubkVQOSMjBt2RhtAwbtf4jljGcANBKnDSPEgQABydzlXqwzAOAI2Z8JPEUD67GwtFRjSPx8D6yKSUAJAHtPYos7eIEBzWreDOSrpv98R+4AMlx7Aq06T7rKNGcBaddOd7gkLwLydMHEsax7Akmtd6FjErD89sD1XCigDwN6DFpTYCvO/SB/Xuu0b9r+MadiVkOzzv6413UMifeu/38Sq0Pkm0L8oQAlHUZu3v+kftUgravq/igQCU3+56j8UED/ErwYIQPZ+qG0RtgDA7RFzgJRGCcArKHYbFfcSwOD/sZtoihnA8WoZFFlFBUCKL+xKb+8QQPTiFTYdShTA1KREZ3835T++vrzNxdgAQCyT8mo6muA/J4iM4izx67/7ItybhxkYwDXvlGUkEwzAHfaAtiDkF8DJfAJ8ii/9P5J1y4Q8pw3AsSumWBds/j85ZPr4XUcRwF2JnfptqOm/iE91Xf7wFcBF64pfF/QVQHXHv8x9De6/B6gZvXH/9r9cfmHB35EPwAkF7SK7QidA9tjN6TAaBsB6GbCRG5ocQMlKJgnI6gxAQQLOVOoc27/833UyolPvP4qx6KQJKDdARRXGUtxZnD8SE1ND4FsbwIYFNyKMcxtAsdY4P5ZA8b8vw8hoEpP7vzu/qWPXvPc/bqMpdcXd2b+AgJiyTZkSwAyS2sK4AuG/L2U02OSBEsBCp/XMexgFwElKZKLI7CdA9cVXYcFk+r/kzR7JYiEhwJQKCnkOz88/sBZdb2Kh7T8WW1H1OacSwJdhCmXcZA7Al5JIvLd1JkD2ctJcL4cUwPW+wNVjpBtAPsHrryzfE8BbFrd4voYWwJfSnz/s1grAFD5eaZZaFMCbQvnzwTsJwGyOw2qdcAfAXEly/A1eBEC82PEBF+jzvz7mjpbMYgFAIuiSa6kKE0BzOp7wexgFwECn5VU5oPI/vcHtu5Eq9r/8wY2fYgkBwGZzC0AWpty/okfs+MYkG0DjUbQERbQOQIH6NMriFwjAyJBjrl9jEcAwLKxIAAMcQDzzYt8MShDAv0BKIEvuNUB7vGUsBc8ZQBw6SUR9+eU/ihutHZ3JBsC4C5pYrdIcwFpdLzjJnva/x0G6i9RvGcD9KV/BbbkLwChnL+MctRbAnx8pIGJ8HcAYE+xFwKQDwLNkbIsbTy9AlT1sYlj1AEC5tJqhulkYwCNZVEKFwRTA+uSFS7hx2L97V4hmfd32vz8z5xa11yBAcMi7vO7oBEBGXC68gqANwHWjoUoqGSNA7mLGadX+GcA1dZaUc8QSwDL6nAi+/iBAfME3rLcaIMBFF0FWSQMbwPOxOjCzwBfASDj5SP0gHMAytjySPqA1QK2LbMqedQTADoKLAcCECkDDmj/ZhRUiQDZLkso7bLk/7YeSAl1KGMCz6k6my4fxv1XTcZ3TPv+/zt9/LySy/L+Eq6aRcR78PxCbs+3jqDdA1PQimkMbHMDurqzrgTEXwISFpHR5lAxAZ/qv9TGQEUD0Nxs/3yETQEgY3o/wnN8/xy976xY/EsBhY6q8B6Hgv7BUoIg2tAXA1gm0XnRCDcBctS/O5CgBwAslOLdoTAzAfmTHtWmK9b9qXlSfKMkWwBfQAy092RlArN4g2R65/r+jxr6EqikHwLJurMgf2um/xMGPo7SpHEAUeAGvQkkRwJITzoF6Mdy/VM9Ed6xL/b/ekO53tUDxv/QorZW1/ec/MnpkKGPUFMBZEGgamAcNQKnBtESPDxbABfmZIQqqH8DdAOhnUBkhQDx5supmBBFAGFf440TcBUDvNZzQvU8cwA9W1PXDajBAUj0KrxT0C0ACkHQkOMMPwCbQUEshLxjA9r+O3YyqIkCLClF6micAwKlcaUBmxfM//OiEc5GZ8z/7VEvE0sUfwEeEJkijuRFA65sAq1TP5b8XiQb/Kw8gQEoluWkeyNQ/QKUpZCz+3D/LgHlnSmYlQGcZ3FS/4AHAn+Zt09u5EMCcsLCFUJfmPzvD8EOioBbAyrSoPFo5CsDwjChcGakgQMl1l5G7EB3AHGbsghgDLUAxIsqNioIRwFIXqmYMXeA/+bwVloaiGcBImnd067IJwIc38UrURwrAwBR2Jq3/DcB8s5CeT/QkQCGl1+H+iOe/eyxtSPks8r+2HbcjCdoaQDIby58t8xRArIfiMc8FAEA2F9GYtFUXwE1V4z3i2StAhw1WBYb0KkA//fsgA/AxQNWchLAWKC1AKl1JCigzBsAAj/UMKUQzQIXA2IaPyRDAdLFPr9EiB0APS3q7C1USwHlG46cFnR3AuXeEM+IfE8D5vIGusJ40QJXN9I1bGAJAhAcLoJmlAEAL1VH+oAQCwPK/+GEASClAPFgvap6zFcBz2S1JsJMXwP2H2pSixQvA3X7H+x5xAcB1scif2ucfwNqJ6hcWSOK/a5H6yzcHJUA2t9AbyffoP+3/IqGrCu2/uV0ELHn8E8AKnnFayKUFwIaxQps1ChjAiUFF48ZCG8Bzawt/eRogQIOAYqOZzyRAJHYpLTLX07+pfIpZ6p4QwHZFSYetNv0/JDPrOF6eAcDPFSMSVPQnQHBqq/rwlBzAfZ82/H+gEMD06v9fZ9UgQApzNxVHqTFALziwAQA1HcBXOaouMjoZwAbnY3bQ4TpAur9nOZUn+b94KUdC5McYwHSbLArmCAPAlbCBHgsYFsDB2XXc6WEewA89DaMiYyFAafCN37XVLUCw+26UbkIWwDAePLV20/w/qxFhBl7/l7/zX7HGEJYjQGbr5659d9s/r8SQS6R2/b9z+m52FzAVQNcnG9i3QB5AhYsAp/bP7j9njq1lUhkFwJ+2xmvDdCFAUPrxqr3bLEDH+TZmXAUdQD2/fu2IICDAmSklHJL/xL9kplMHV7gbQCEctK4W5hvAle/uytcx8D9usWPaFFkPwFDr7lmB3CDA7Fwvl9GxFMDqJVMahqnwP8fcCF92yxJAowLqobnSHMAfpgHiO4sSQJYR/3mx5A3Au4UskL6xFsD2jquwinT+v3xiZNmLRiZAvJfKIri4GkAKUMuDJQEDwF7HDJbCQCtAv1uBNFMtGsAVFJpqGAQMwOb/68Ky8ylAd9SKisArIMD3jGxGIm4gwPt+v4yiLMS/L1NQQ2Hp+z8KVpj3GNUcwIJu3CTvnAJA215FdSpvJUBalEw/U6AVwIT7Fpl+NiFAbD40MgoZ3r/sPeoaxn0JQKDpDjgrRx7Avgo1EckgHsDNd6uvcg7yPyiD4xM/vN2/hUDOhsNB5b8UgroAZT0LQH23jG6Ypf6/3qbIYSfwGECK9bglsjwSQC/m3HyNnRxAuLYaVqIVFMAjSWGv7djXv+rbepCLfQTAl/ixkKj4DUDSbPskVqQDQErtgCQYvOE/qa0pJDTPzj+1D+wT5UE3QO5S88X94gLAkVsr1ghbHsCUMZLKc/Phv7/4pKOIVx3AwqaZzagKIMBB+pqmE9wnQDKa5l5ddB7AnIBmt/uf879uD+DgnCAYwC6NrrPquRnAqdtYYzAuGsBSkTkfbhE6QMaC2+5eexpA4VynnQbG5b+Q3nIPnrTrv4SHqzVBVQTA6m7fgn4mC8BG2WqWOVDrv7Y+ked3uAXAiay/uvb1+z9YyqUoVM8JwMrXcThVgRXAQbsABO9HGMDQleNEizUIwLO4epdvMgzAtgDkCkKHCMB+lgSXZ0AdQIp+7a+GfhrAx3X+26p7EUDlJA8ReIUZQLt9t+49bRHAGjCX4yHQ+T9FFPjr9mwdQDwiJxenIQjA4DDsQKfUDMCwJyN90VTsP94d2TM26CJA3gx0DPWiDMC46vSDqPP8v4HICcMWwylAeNt+VO2yGsBQHW2PhQ8rQD2fWxwGcA7AVv662BXEFUBNx7Fwfi//P7/tdRfHmOa/OWxtdV7F/L+vRxPVyCMwQD60IwxcdgbAQpi8ImEAwL/yXjy/5WQDQEpQYkYrgCVAMqLwEbhE/L+U2btMHuPcv0TqmgtjYQbA6NAv0tg7GEAyXA/tVToUQNtlx/Kx0xLAzkmfQjJo87/7MSTP0kwlQMJ4t0UVAwrAfFeQfzOgCMAwS3NwHQsjQJHdrpPucv8/iNFZrssG0b9anSTIbaMvQBRmiY2bRgXAYdlHZnwDKEAK02xsnkMdwOhez6CeHATAu2mBLhbmBECDGDcvZmIBwDKG/dx2ifg/3MbtiR0MF8DYEx3ZPi8QQE3gUoncGQVAVs1h7vHTF8Bh8arQQGIeQLiUKkmXxDZAWseHu9HzLkDGGmWXffkLwB/R1CshexPA3NCupJAXHEA3qJtPJGIfwK856ewppPm/rZib/ELhF0BeDWKtuKEUwG0URXADM+I/Ci0B/I9rFkDjx4ioQ18NwNxbK4Z0w9y/A66jDmJsE0Df1hXLz5SKv2o+0Ht00B1AcDOql+gxwL9RitAzZSUIQChpWdxOcxPAbi1rs8n9GsArbAwfvXsVwOZc8dVEHB5AjoZeF+zQ2T+kf2qlxDINwCFdRNeRJ7c/FtFs70lPHsBA37TBd5MdwF9XTKpagSJAmDzEMB243z8bB4VTi3oDQPR3viIPMhnATEbkhXQEEkAYGbFHRacVQMDPztt4pxHAzvJHhhsyDEBbNube+IMEwCI3hda3wOo/yPUro+I7AUCWwo4NT4QcQIrMIiOyLAdAUvbSnu9Y+r+uW0Mmnr4DwNnwotvJVSdAy/AhFFqTEsA71DEYVNkGQD1X+i5fyhvAmqcC/d72EMDQFcIl2GEfwMMhQpdbzhrAuRmp0tDxF8BlwgmtyXIWQBcH2QbpXTBAwkVCwFl8H8DJrGwHQP0GwOz+F0okEv2/XEyLZ/APGUDBJc783GwUwASTt97oWPC/pAWT83LQ7r9ozJA0wYQBQGD2f5osbRrAkikpCi7R7r+wYk+l95cxQAFkZI8YoxnAh9NIZxIqMUAZu2Iy9OIYwOqGl7qMCA9AV21OPqn/G8A/j3plK+4TwP7nCoSUVu4/TbfyCoGrF8BXfGOB910lQKAHGvDztBrAClhdcA4/D0BsSonpLtMVQHKlaVy/GxrAyAVbIva5FMAmz8WAfIEgwMmiQLngywhAHpZ5ligfGcD64baWxcfyP9MRm7n+zhFA1eVIGstpA8Au9YfpRTfzv+n++dx0H/i/v24wwkBOF8BXJO1QVbkSwM5NyQrGFR7ApkrBehJNE8Ajns6UH9oMQLqRJfKTYx1AJGyQg6DaFsDN8N/eNcIfwGVNrb09oxLAIcjMhAN2zj/2b4XaqUq8v40Veko7vRHAtqVx3fmt/r+7p1Gg6sIBwOf+f0JKBi5AFYswccqbH0AyXk8oz9cSQJ5SC99waAxAew3vCdTMyD8gG+yLVx/sv6BxRlHHtg3AuzeJiWVzGkCB2oee0U8QwG8Zec8N8BvAD/1dkRbiH8DMjlbgKW8XwM5YjImQIRDAblG6gHuW3r99V6hzj/ATwPvXFKXyChDA611dUXqRBEAZ077BR7URwC9ewxMzRxxA/76CyFi/EcCIEiGJqJCnP3eH6IXB6zFASqjlIRpfBcCG2304L0oXQHaQSdCUq/O/LOSvg8OED8CqXFgAsHsWwI+cu77e+Ow/eDtyaNzgHMAGmgv3QUMKwGMcfq7rBiDAYeracBtIDMBGMyyK8Y4VwLlAz4X/aT5AvF4enlch7D+lJNevb4rBvx7QptGJORjAO9pVtLTCCsAkk3ErQrIBwBCGQm2ndy1AE7btvsir8D/+XnGkbqEGQI9/kan+A8y/aMeMCDj8I0CusGNNSlYUwKTHNV3QERbAHwgdHlnL9D+pRLt2C5szQP74CItcvhDAj6z/KY/GFkB2xVQgs0IoQB7k49DmXNU/9/OtuLttIEBdTGkB+zsLwOfYKrV5JRXA2cp8McsNE8BBMXazB8ogQEoot3ytgw7AjM64vK+o1r8FNzmc0bOcP9NcpS583A9AC0eOMoVEAsCfC9zbptePv4z1gNwlRARAUm4y1RpDHcCOxzxsVWECQFoL+o/BVQDAyfsoL+JzKUCx0+6VZDcVwJmxTrxTPhBAYvG1VWDJ8j+usDxjW60jQL2olQl2cBrALyvb653i8b/K4Oei0IUdwGnzJoQ0lwbA51DkpuMfEEBKhKNdhA0QQBKHHkt3kBLASmbpEk3MFEBmw/3bAgIhQBCs1vFPSRrAsyj4Y7LWEkCsfn/KTzgUwE+3kAEZBTdAFsb9gNihF8DcZV+0kikewGeed+4SagnAP9mOxPf1E8CMt+bPNt6uvyRMfdNtZvO/arAmNTjTEsBL8eQf7W0HQBd+cVFwfh7Akm0d1r5RHsC27f50MNrcP6Jszi+wZwDA3d0iHPDG4T8nmzweOM4bwEVYb7fSRB3AYpyUnmcI5b9urg5lTBYfwBvhPyLzsve/qCiFL/1G/7+Wi2Uh/WwSQHib+YDCFA5AfN+lJwzJ/T8bRgtrZTAUwNCOmlwryxlAZMN1Y7UhMUCyYhXd+6f/vxvOuuEuweW/Y/zPMNY3EMBmM9HKDxETwNoaJJTBKNU/LFeOs2++EcDslQzbwPQwQK/zsdQPTBRA0VdxEJN67D+MOlQLpbH0v1up783oSfC/V/r66ssoCkD1u8ybqwn0vybFfKiKdhzAKL6qjwO1AMBa6pYQa/f6v0vIUl2IUQnAHW4GXPq7EMBeA0wEzEcewAJG+ZFN6AHAtb06b//0HcC+G4No1gLxv40zf5z9JA3Adc5rgpTkGECsXnhyW0EkQIagxDwF3x9A2ckLbYyEJ0C4/zmc37MdwJZlOZyv/xbABL30ih7537+6gzIzFosPwH5IqyoChw9AcPfZ7vln+T+slm3c5SkDQOPwkroAsRPAJdKzoQ75GkDYvJxXgeABQFbVyN7ImB1AGg1m5le2GcDbmxSvJLsRwLJY8+tnBBbALveaM+4UAcAOkaWA7xHSvxhILf3/HdW/9UyGPHiPAcCRL1s+AZnjvzacBk4JExhAeJ/eJgk1E8AChntYi3AmQHVQ093NOBhA6xaE8zOhLUArylx31oUOwKAfozyy8xvAOcG2Y1jTIEA4RYFufPsMwNvaRkZ1Y/g/IYEQahmGHcAiyonXbxIOwDe2vEwcux7AoMoM31Dq9L9tN0OqVaLHv+sSZ5MxvwnAjCWKUS02BsDkf0yTySwBQPrdoejPqgtAwG19OcYD7b/54eEAXzn2P2z4GWH0WyZA18Kqdtr7BcCLH2BLxuoIwMeCxWRNchrANiy/Nr4fO0DOwLEubmECQDKjThdkYPY/ADZj/wFUHUD1Pvv072gJQEaBCN7NehDA0DIVp5obNkCThDFKbyIwQExRoyXU+RTAjNUMWNj9HMChuFFyT10NQCa0TgNmyCZAFKErb2Pv6D8iV2iJPjEEQJ/GeFjRzgDAYXPpZkPmDsCA4Q0LPOMSwLveos0XZgzAevGpLBFj+T92yETrceMkQJTp6Opxyg7A/BE388R4EcDIuUBYavH3vxeRvKC+2gLAmnyz54Q2CcC/aWpZZ9sMQD/EwMr09xJA0a5E8V7aC8CsNW4mAWAawDez+BMpxyxABiNjA7l/CMCrzZY2pRQZwFQKljaiPh9A+6qU8FYA/b+Vlu05aRIQQJI5M7suWSJAwah0Y2+tEcAQtoZ3b/QkQIAazKaMN98/grYZtYug9L+OpIZs6a4XwJfsyv5TkyFAfiJqpeU9GcCt0j5XLoLOv3SMQqaqqgvA1JswNk35G8AAHtaRykPjP8SazWoQzA7ARuNR4pr4DsDwL/AapzItQE4JD3UGuOC/uE4VPhWaHEBRKQC3kTcTwPdbbsQdrw3AEooSW0xN879eENbxyTEIwHentKW/sBnAlQT3k/p3B8AZt+Fnx5wQwGAq9cOlawdAe2s+3cNUH8C3bc8+KA4GwHbzzK8yeBdAYQ9eK13QIUCnP1cRaREDQMS42MNbqABAp/UEQE7FkL++yawvQygpQLKL54Jz3xFAiqKYMwLb4D9K91e1E5MHwE+mRvCd6RnA7C87an/96b9nEr9fi3IVQAD0kLQ2G9i/GOEB7nR307+GznUgX9i6v5FwtFPetRHArnHzni2z9T9hAApEGuofwPMHXquWYgVAULM42vN3DMDi7TPXbD3cPxpJdRWNLxnAieFdFm7uIMCCOOaoD1ohQP9vAurdxRLAbX+liAuRB0DYnQOqgIAGwHJWoiAv9Q/A9DgMgG9RF8AB4okFAin4v+IDCLAwpATAZP9AW5rUHcDZZtK78+8LwI2z1/tRbhRAxYUMf3f7FsBlJay3UxMdwHOhcLgbawrASwxplkraC8DsKI4Om28wQJmAgQ/lxug/k7beWlzuGsBXauiPT/HxvyLUt+Ihn9C/oXLGnUrHnT/FF5ezG3BkP44v0UbYaAPA/Cr0PwC/H8B7dMwyQOwVwG1HbW5p5hHAkvpxJ8Ip6r/muHSw43EKwJ6LeW5p9xnA3aYUOM5fAEA8rjdAZtEdwGK0zEPmmv0/YgMA6+UkCUBJskq1uQADQMKxSBa/cDVAaKIKjprl9D/uduvgZcEewHRqdZJWMCBAcsQ9x2dMHEBb8YwqPsgiQDRB9+O3JNE/y47hHBoAwz+p3MNdywkPwGla4EaLScM/yIsPsXpVCUDkfAKRNVQgwJpQZjIXhBbAINaxVt32CcChK8VbzBwTwAGpudWvqRlA3fOPMHxhBUBF5cp1bNIbwH8TLubj0gtAdlhTo6A247/vuzdd4qoEQMcFnRFrzBxAzgWylyCkNkAo+cJSCVXdv7oR5c0Sj/C/JS8r/7zgEMCYOjEBFD/5v+8fXBmgqxBAPxPQ7YJMhb9GLXzVYzr2Pw144fI64hXAEg7Y1J0AAUB0wt5B+tv5PyFurZcswArA9gnvfIhzJUAGQNb8A+zkv7FI/pts2TBAGAQcyooTH8BB9+5jFAkcwPREhiGFmRzA6ia998/RMkBefijRacDvPyCwAiFZ9+U/sINlyttyvr8PGrnMY0r3P3tsXqhIbQlAOJkaPhuYCsDuH9urwFAKwFYZ0bLfgRPAIMnZ0/aCCsD5a8+nA7QhwOyali/3FiRAiGOYD/IzMUAp6yMH4yEIwJz8amut4/M/TaN27G5mDUDvh2WDE23tv0XolyUrlx9AzAzPICv8/b8+Yv7FO/4SwA1rDGh5cQNAp5N1NHc7D8By9dboiqsjQJEX78lDjhFA36s9No0pKECM5xzMiYv9vxtt0RRNXuc/4GbowPMq+r90Pf6hjGAYQCYumQ5fRSNAy0yeXwZG9L+0yNkwILMVwI5X2+guACDASor3jWEuKUDFDTsckvYFQM/BOW9dQRnAFDwkv3gEtb/razcJr+4AwGEdAoDSjxzA5QQXHTiC/r+yoW0qBREEwN1tJuzGFRzAZiqX9Vr9DUBP6YgOhRIMQDiaoe7s5fu/xC/O58dFHsARxaLtVbEYwDxa4XWDzh3ARw4EfTaLB8AfMNXBHqQewHquuM8RrxdA0Xrm8Lpi/j9rIaowOE8dQLOA+lvImwNAOgh4EBZcAcBgmzl0eRTqP86ApdkKeSDArfs9bMAUF0AFXc1Md+4VwGrtvlL4RsS/dI8W/zeOEcAaDVTmBXkfwBV0gLjI0Q7AaDXSNsQ7IEBMjQ+cRY8WQDsPxEuxGBRAV2LoAE0mJUDPwR3QuR0XwDo+8IahQRRAnP9vgRdyK0AOWXeFJtYSwMgmSpanqxvAfpZSZmZEOUArX59hgasjQANh8IlK4x/Aky7fWPCzJEDR63ia2GQlQITkEVhS0fG/qOKui+/Y/j+dv0s56oIzQLPRFMC1NxtAEXsqg9oAFcCQcBuA4hzWP8vPS5T7WPa/Ravf9bxnH8CuYlk8QzUbwMBi17T4TPw/y2ua7fwQJEBxF3n7ZFQQwN2ystoShAjA9HZ7WDfI/7/FcR1pmbYIQCjiCYzIlBZASgX810s0EUCaYT0OFVT/v8in9hdlPRfAJqHi/Oq03D/iTfar+5ccwORfGQaUbBzAqpM5V6YvFEC6N6Rdgr4awBu6/8MAIhLAqlfzD1LL1D9opxMO2poPwLL7J0KkmBjAocKmBT83AMBuHI/GXJruv11/1e1jZRPAQpkVVugcBMAtlvZc8A31v+oBKwhA+9W/+EKhHQQOFMB2dRgYxo0zQHY8uGFTZME/ChdivYSvD8CMB+L5wn0IwLKFXgBG6B3ADLMZeVS3LkDBDKIfNDQiQA4YN262hAvAJOp6BF2gB8AMuRsWCtoDwBS3XPvQ1/G/2fyfONOm6L8TjtORyjD2Pyxlm+jERBHA4CPjQToB77+puT/+WAwUwAXIpMiQ/TBAXb5J3Z0eIUA/R65ygxHhv9fVgytdpyZAbEeNgCbOD8B2Zw0gy+obwCrn5mJMtAzAC7JU/SQHD8BpLoDKEg4SwB7WxYCFQv0/XIxJVVFtC8DmXqBGOAgXwDdGsqTu2wHAzqJi7pZ0GsDkt6ksLWwRQHf5Q14fZRrAi0VaTNhoF8AKvDXHn44QwMz/20EqVR7ADGY8nQza9L+V07f79pYcQATnRLCbJyVAiYfullX5CsBtXFFatkcnQAAjymtSbBpAmKdD77YgMkAMfsrGGcsUQDGKfv4z1h/Ah1hS0k/gG0ALdfYHTH0VwBcHJSyzt+C/65/L2bqhCMDOtthql9Tyv2e6nXVqRPU/x1BEsPwEBcDFxp+P/8D0P3cg9M7e7xzA3JkHAQTjF8CV0iGfI+4DwPQIrluc5gfAdgiVyd2a/j+KCyMuJEwcwNiVoMs23RxAEKd+Vd8FKEAaFoLv3komQOFPMERpXRfAe0fYLOilLUBKjn6f1BwbwAR9R6DoM8E/1AZcQ/+XsD9MbxhAWVASwL0YbMZWLRPAK2lKVdTb4L9Ox3V+DGcgwNVR+KqQbx5AiNLSJcAGs79LVGzSkGccwPTwHrEwx9g/fUYvrvM7HUAB57FV4OQbQBMId9vxnPY/teAT4yq8979dNpYv8skJQGI7aoyDRyJAZ8lFflHOG8BMyEtnjJsWwH03SzkOSgnAkmPE+5JgHcCysljWXz8XQNzVXpeYKxzANA3oQ1n4HUAWN/PCYfYbwDZQDTjdmwLAcIJAJuSpB8ADGw64I2jzv5mHiTbnGuk/FDJXmHBI4T/+fUHBxAz5vw80xdCgURNA7KpJCW3cGMCzut6rTE8YwK+kPFVEJRdAgwJbuo999L+op9XdV5jsP2voydlvPwrApe6wA8qVFsCqJDF51lIawB+hEs2W6hRAVRWfpcFKFsBeftvNZ2gfwG7aEnlooAnAXK0S4az7HUBRpn8Ec4gfwND9ja5GMh7APnQurKCwCUCmNaaoCSvov450GNKzNCDAsC/7ccW6+T8UOdFRrJESQJHPdi3Rkh7ApQ1Okb5T5r829tqxjEEdwFEYMia92fm/uNtu3bxRDMBWoYYUmb7wP1ZiQRt7tQLAgpdDNCqFDsDYJBrsvn8VwEC48n/x2xrAIGqtuhB2EcBafcr9Sn/rv60P67508CZAFgXR8w1NGECzb+YGtsscwN6t2bhWKQ3AgSHyma+u8D92nipab243QDGTN56STwHAKuVS3T3b/z/WCgYk62EJwI/ASH8ltM6/tHkL/vDrF8COdQ1ZWZ0FQGXlR5PxPwjA8ukImlun+j8rjBwTbF/pv8hgceXS7xTAyESBEFDk+j88PYPvfg4fwCEbPCCAVhHA+gTLErgMD8CwlMRYfUwhQJ6HTeIzpgLAWqHHSv3QFUAWx8bWln4lQACSuTZEsSBAHPakCsAcHsDnI6kb/00VwIMtGE+LphrATchFvg0TEsCjouC/SzbzP40404ORnBRAwm1SxOuoHcCu2zsWB/D9P4cxbDUbJyNAcTg11RCUH8BukKO72vUMQL8Djo49hea/E0BUniLqFcBVPxmNvhLAv0i9VNhrxSVA6E7xbJL6CcCIMImSOlgWwCJXMswO3BbAQmLprUsR3z9njOUYspsTwBPQfXMi8ipA9bZOe3CvFsD69Zh1mV33v2Y37Q2wTRLAoaTCYrwbLUATalM6kXkeQHh6WzBbKR3ANCW6Th7c37/brDc6u84WwGjQUv9rtwNARR8yafFSE0CfE9x4N7uQv6WGHDqNPRDA19igA3qhxL8UNLVxyn8WwEm5FuCF1B/A0s2EePjYD0CJBY/M9ofxv843tQaMX6C/NN4DEXJhHUCI8YpY9/YMwC/cxoBE2zFAyWtkVKhhHcAxzQ8BHDQQwIB82mfxhgtA2LFklPcoGMCkPUyw6OAYwOtxtduO7Me/+qcSOoUJMkBl8HVvUQHsP8eVaB0rGzZAX95IGiBDF8C6/I2h9bnUP6AfWrEhJANABKOJGXgfEkBpEqIywnMkQLl57q1Toi9Apt2W0unhFMDmCtC+Asvvv19FkNLOLh/AnLHictjC6r8haI+YBksMwHIx0wTpXAlAJU21i6eT/b/mFsEzQ0D2P01uxdppuQbAlk3PGQFF0j/lDzr/9L8LwKaFrfecTBBAhH8xCiH6GcBNIpzfPrAwQC5JOZPNMPc/cpPnUrP9E8D+bl/X0/wvQBFDnNy4Xc6/az7zYa2YGsCG4BNlPgIYwIG1oFZxsBHAQXK/Y/IdCMBwHOOG/rUdwIsbNe/TZTBAUKjuACqyEcAOHVRO6HoxQByOJoiHLu2/w1ac2HaXBsDXrn2beyoYQPwN1kWwTwPARDLgA2vFwL/HnkD4HYDKvw8DkY9fTwZA2kk25RAGHECPjgws9aofwAeexli+8R3AD4Byeuq3BsCBpC9vIBT7vyyBgLCcjRnA/rnTBa51FMA20cSQG9nyPwN8VbfmOxXALENfYOs2EkBtBxgJzykNwBBiGe2GOCHAslIxeWaTE8ClTgoYCJcoQGfdnhoGmARAKseZNSrqIMAGbj68PB8dwJkW/kQgmxTAgZY1D0KVB8DE0PCeWj0OwK4WZku9EBfAxKoPgqTyFUBxlcMeIr4VwFblWwKRqAnAnAkhrZkkFEC0Fn8M39fvP16Sw57VSRzATb3n3O/wNUDdo5xah7cRQOYcFUdeLxNAtnTtXlxpC8A0d6AriawewNKgtNOHpPc/1FrCMbWeAEBxLORM0wQRwFIKH7eh0xtAuJgWJod7HcAf1kAeBogJwBnbobYMXSDAylJST+SyGcBmBL5uOn4QwBKYh3AW1QbAqibiPstaD8A8VhpTugrzv8L2xk+5R/i/VhVuwU7VJkAqnecaoistQKYcuAbBkQrA7ydO/v6vC8AZuDa/KqAcwPAT3qLsVSDAHdCY7mCaCcBANKx2BxshwC93a997HB/Av9b0qOVRK0Bt7L9U9D0FwKIp8ZSoONy/XQugWEiwAMDJ5q3TPV4TwFwqHCrFGvW/Nkv6NOOPA8CXCMW7CM4GQC+lb/kWRwFAzyuoAIYxwr/WuPz8JQMDwBiPtu1Mv/S/Pf4DIv56FUCiD22GyY8PwOfmTOaZxhvAyqa16RJ8JUBYFj8LMn4DQH+JDAlmAy1AjD7DQ4jWxD8UV/7EiAb9v4sgVUg+m/y/8zU8KFDr67/hZHm3ajMcQMxAET5yXgrAufaUdB5HJkALMYoMJ8EJQAdzwnWIGRvAvTLQR0lU/b8fRufzKNT7v/8JqiQYaMq/vtEki9NfEcB60C4Y58sWwKVaCcmHU+m/Q+jiphkjJkDazvT3CZAFwFHSHiL6fBdAEdM2O2YVjj8sJ9kO0R8MQM1UzW3P5gFAI8/hHzV6EUApOuEI32wbwJYZPVbw7CVAysqxZhZT+L9pQeoSBuoXwD+JNmqt/R1A96l3xMXPHsDvN1h7P1r/v6Wk3Hs0bARAvq82OfqrCUCoGNQrHa4PwB+4JO2PVek/v45xqX8vBsDwiCiz6KUUwPLktUJ8Zu6/jpC6+xP1GEDBuVffniHLP5La/EVPLf0/N6rf/npSLUAngUFXhQAcQAcD6Wt7A/c/MQ9YswKOCMBv/WzJASciQIWwceJxARrApFofSfg+97/O3IGxAbcZwOQOlzsc0fC/QvN5f2H1A0DJlvkVVJYBQOs11+fUjB/Akj/zPHdkEsDNYUnZhygewJV0RwFGOAZAheuC5wPtHcAEwYj+JOvnPx8EhJr1VyhAYjZbishwEcBxouWb4wWeP1Eqf7sz9hpAwG8PeVJ0GEDfj4xIaVAIwCIbfD4rawbAJAzHWOxE7j8BdwPOxToOwAsckyavXClAX51mHj91CEApnxb07PExQHqzjhj8Ze4/iC7WF9jRB0CmyQzac0bYPzg4frIIV/w/Leh4rHwhA8AMT4JuxfURQLmDJqDgbB/AilD3stkWFkAbCj8MFoUWwF/mrKDJSxHAgTKY5drVNEC0i4gM7G/GPyFTkIDK7OI/xwrgWlGyDsCehEoDQ0ESQIB2VHWGbRTArW9KgZk2BEBnK+9MIXkmQO6JI6Nn0AHAE+1VDejBEUAzAlAtbgwcQCSvtWBgOxNAhE/F20W8G8DaK3Qk8NkFwHE+BD9vhiDAzt4qzDXJEMB/+dq1h3YhQJiYChFIuB/AqJ0mKldI1j/esySAOf73P0xtAces/BHAaa0Td8cEIEDOHkU67XgdwJQ9ZDWwvR3A3VYrj1KvJkAoiKC+LNIqQOq4mci3P/+/Splm4EB27r8/QedYWJEiQB1rBXgCQwxAEEu+6IAmGcAe/6WZuBQKQNrM9QmX0xPAJonrTGypGkAKEEkVGsAXQDJQs6BwqhtAAdVJwn16+j92utZQ9GSxv8ctlqZUdwnAVcyXQdajDsBr8o/9cmQ1QBd5glIMryDAtfVz3vs3F8DeXZc7rY/lP0drkFtS6iRAxErfepgm8b+g2hnTUYwbwHkCLJZgoxfAybPYN9BcFMAMGrzGjYfsP69QvkyT5vC/7lmbLCXmFsABlcgOzYccQFbnTJRkIiDAHBAAWdjCFUDTPuYwwWkfQP/Cjbncdh/AhHM1FecvH8APUCejiyUoQLD/EMnLQCDAGkpQIDxnvT931h0jm5AdwHNC2idU1BjA8j9Q4dQGH8AUnlNpdoQZwB42ZTtAfRtAbqdgQO9/FMDgMvHpqWgVwJvYEDgqOQXAEPZL5GsRIUBBB2ZOD5kbwKoYPf5bMA/AEenoS6uXEkDtb32CqXP8P+4ltrOB3so/HRLmflGhBsB4cK1y/L4PwN4kB5ca0g7AoM78xPGKAcBEm3Ih/+kUQKJjQj/P8P6/Atmisi3oAsDDrzIKQ0sewGSLDjVsqw9APO9ZImiUKkB+CjTwvu4RwFUTd8W6hxrA0ujlCP0sHMCba/XoRRAQwLo7xrUhexDAH0/xWqUjA8DTAcJm4dX6v0yILikzjsa/KFEawOn0HcDuoL8D+PkRwE+5otHnYjRAt7rYdDSeHMCuQshX/VntP0gzXX0yNCFA+b7QQDfMAMAAcBdRnAQLwEiZoRbkLBXAtUb/ZkC9F8ApaMobGlwoQGKMNiV+/RnAeLCUTBo5IUAZvB5PeSKNPwATi0DFBxzA/yonDkKPH8AZtC1CC5QgQLJ6ITVXoOk/Z5dK003bBkA/9/JUPTvJv30jn2garAjAYKfmFLaY8T9FcTQZQFwbQMCqUq/P9vK/kY1EkLVTDUBEVD0vwbfwPxYE61jtxRTAkeWimwLDDcBsNimIvawXwD3h1GY1QRPA/kPSkYsp77+8+8cjZfwBQGw913l4J+E/NkyMejzkD8Bz+XTl4T0ewMHS7B33MCBAEFmVXLowG8DOMkooFh3wv46q7wgEMQ3AzSAtTVhGIkDXPJMbL7btv+Cmpml5ShzAx37cNxQcCkCbr80Cd5gTQP/p/fIJ9Pc/BST5+1K1C0ACLseJem3hP/efz/IMCRdA6NDQEIAAF8CMx0ce8RcGwNrbnyJ4jxDA2Po2t3IRBsDM22Qzs7TxP7NfTOVtTR7ATbNfa3iYBEAx0Urtxi4RwPRS4HTGBQtAPE2QrAs5D8DRZ2wLMWw1QO4tao/XSRPAxndVTmjoMEA0Bc8I+v38v67Ups9Dth/AXBliNoBOoT9EP/pBvzsawHu9yWWx5uO/9CHCdSr/EMAmQ9iJEFveP1Rdpv6xYi9Ae4DwqQ+oAUBPhh9MYKoVwEpjKMHU7AJAaZcysP+48T9FofqM/L0dwCI3mS3fKhzAg6yB3pz5C8ApGtoDJoscwDLTroHvI98/EGHrZ/TS0z9IrE2wcYEKQEFWCnubrA5A3UGa+mMj8b+ssicYy8cbwDvGkhIoGh/AkPsyzBGkGsB9sjvh8L4JwMcgmEQlLh3ACWz7qLfvIkAT/fgxf08YwP6ePDnIDRtA4F7wq0fAB0ABcpHoOYIwQI5cv7mIvQTArjxE5PJu7b/xO2dZ+A/sv44f3J4h8ug/W2alDMjG+r+R1f0v6T8dwADSSJMBayRAod2kWVSuDEDJoyRXfJcFwMRvobACVhvATttCM9u6AsDPwKn1AMcVwOn543ve2hJA/nRkhLt/E0BNYLd2tf4UQHh79FB5ywZAinvRe+JIGMBV7obpA+XmvwfhYZ2cSAPAS1lSu3ohIcCFSeQqvcAEQBHWK47WTui/S6KVLPCs+z8ibnu5AsEIwK1/savjfRDA68c8kLaKIUC4hpIP1DgXwN1d9G6QphTATRIulOFIIkBiXFfHg5EYwK7QD7nvuRvAevI0GvtuIMAYQ75P+i4JwA4euer3Ztc/8pwrkClZF8DCQ6t858gTwG4R93X8WxnAZcEqs/EIBEAe+FVDhFsNQGrhVv4ZNgfABbjT7nEPFkBZy0aJg14QQJS4C6iuIwbAvx5ExMqPBcA1sdRBicEewP+uYmsTMxnAWLOp4pYXEsDX9/SQD+IFwBWdkp05kCRAdenCzIEvIkA+tipG2SQMQCfD50e8ogzAfBgcGjCrGMBIGfzZ/mr4v0JLYwrEgg1AlG/hjvwKAcAAmYzaI3P5vz907n65nfE/Y0zIW23pFEAks1ghS1wtQPzEHr00uqy//4kqT4X+HcAYQmxhK1DoP40+OUS3FPO/R6TXsPFUDUDRojWKoroRwKW6AwnrjwvAnifqhwcZ5b+AKqS1IBvWv9PPXt8t+hfAtvuDm8kXH8DiVvjaAFgJQJ+oc7BwCQnAI5hSGl/NF8AWC2TPX2b7v1umStD12RfAzMQmmOo5C8ABCbrOMaPhv40HOJFTk/S/2rzCkxkFFUBO1qy2o1H6vzqc5XtoExXAbBZvVigbHkC30LWINoATwBpDLZnPsvI/BpatP/KMEkBV6RFv9AUPQKvrRw2cXxZAFCyoSjb3KEBpA1l5KckIQOuY9FsIuAvAt52rcHB1/r/6FubXupcgwOB0xICbKBhAHphTGF1gB8BQQhZkFskEwG2uidxN4SBAnWBbqiBbBMCpbQ8XqTsfwPnVT2nwHx3A43hSaqtt4z+Gmer3SAURQKCyTXH/lwzAA6spjDYXHMD6nKz7jTH7P8WIP3NHWhVALkSvi5KC8T/o2Lk60ywZQGywJdSJUDJA8052Iz3xF8BP7qxXY1gdwFvsJA6tWhXAup1hvQ+kAUA+mXqHhDHgv8EZcW/HpSxAy9IyYFBOH0AU5xgQTIQdwDzjjUHHCPO/tjN+MFcyA8Dz/6+IQwQQwIrxa8wANQtAtPVHTG8SAsCte30tMaIZwDjRZwMw4idAubH/Nv3jC8C3o6SWxA8QwLLV9DLFLhFAHDLWAAZ6DMBdQsegAVMTwKIFFGrWgRVAiQJLo+XRAEC9/GwU+jUwQPA9dha7fBJAWiZx6x8A/z+NouD+qSgMQHSUBpkdi+s/ay1NUpkVIECYgPdByUIOQAPvK+MW1s+/J2oT395BHcCArQ73zpj3v4U4BG/FZBTA+uvhiDpHDsAatKHKQk4ewJQNBOApwBHAf0ZLMpnaHsAaa3l56FP7PwPUwWzrHOG/0Z5v3EyvF8AlcTqV0NkewMo4HQPzww7AUzwiK7Gr/j/lIR247UIXwHZsuTpBxf+/rm3mbfeoMUBIEVVco8H6P6zv2hk6fyBAIDqsYf1iFcBL38zGTuMeQL2IuXTCagLAGVabgDsgG8A057Z646YFwAWzKysevRvANHT1JkrX+L8lzlXtkzYFwLe8VbGunBDAB/ByL6cpGsDMQABftb8VwFp1hWf7sihAhbH/tFu2AEA8h+Mm3Z8EwCg3LAd1kxvAiy7uZM6xEcA3/BZcCSroPz0OBDPLnRLAlr81vplcDcBvoEZWO+nNvwDT8WsG5xrAJN7bFlaMBEDPR1mUQzsSwCBVNur9whDAqwCCvxK35j+gZ+KHsRYfwG1OXfh3xBHAepWA6NtjIcB/RFDIAbMEQMmf/POuRwbAaAzH0psdA0CShqxbG+MOQGZvQjCgyBzALX9hLSQmNUBCUo6frIsTwNfIVwIuvRfAHwuZt1icAsAwROSX4ab9vx5KXJmC7QHAZZhcDZwDBcAxpR+F+zkWwMSBZXz61xbAcWYlZxyP+D88XJ+F4sARwIvua2FPvei/2U/zrZX7MkCEhp4Dq9sdwMpQ/kygFixADbHnnAjk/D8EHQUcYmohQOKMZ5kbhCtAipAZ8Prq+7/2IVq+Y0Xkv2E94gtkRyBA7jnzqTPpGMAODSehE03Rv7+rdWceEPw/ZbbtJeWMFcBUYHnE0LQUQATi3Pq0cAbAFfglXa5kFMBsFzCYqgrpP5N6JDWBIhHAVQuVUeKZCkCmkuN/RU8HQKJI14XzJhnArZg/rygIHUC/YRxS35gTwKgbjXyCexHAMlKQ3vzuB0Bh12IMpeMTwNT8nOigjRnA8+gt0jRl5D8vKSkuF7UUwJJQ2W0EWzpA0BwOXjSMH8Cmo4PJl0oPwHLqJT07XiFAtLDOuZFNC8DwB3x/2bb1v7aobBcuxzBAbiYYF64o+T9mAVLnNGkXwMvG+eQCIwdAsNpmoM9BDsALzuP0F/cQwOzFLUx/Tw7AwNkdU/we9r/EAsYZErwRQHSHpCYjF94/Hl1c9Hn2FEDBgg3kPlEQwJ1L3MNJSPI/U7O1WsKlDcCTzvfbf1PzP0RkH3tNqQxATF6ye0r14L+ETliVHYIDwBKdMWT7mxDAt/wnTLhaEsAImLvEqLgVwECwaGoj+uk/ZF4T0jwK5r83Xpd89XEdQLnWFVQca/E/pV1NfeJoG8CJDeYJQB4cwOKjWcCVS6i/MMQw/U0P/7/Sw/oGXm0GwFAi5RYMdSZAigYYf6m8EsAQ3wL9dWXtvym4PquvgPS/O4sGOmT1HsAUSndKieb0vxbqBBBYlRXAWLuaTzkBu7+slrMH83sTwDuZb7m1EhjAL/5HMv8tHsDg7bVsYL4YwIQd7KRnlx7Acf7pnNqc9D+9pP9NTzr9v+bCqW97gfO//gchSgPLGsBGXkev2YX5vx89N8QXxP+/bqomcMK79T98Ki6dYFgQQBJXcsI4zuI/FFQxdfZE+T/3p0Pf5hAbwKWdcPUzNAbASsiD+tXbBcA41Iwp5ZYewJhhHT7WmO2/9HXZzjBq6j8OAiSeQtzzvx/gu09a6f0/nDk2qMUl7r83UjIOXTAAQD/7h8e4OxTAX3PlwUawEEAHfFu+KYUWwO7J3kBR/B7ATsp8KDgZMkB97fPiSzEhwB4JqMMifwlACFkZ8MWbE8DQxHDJVhkjQMgjY8m6Zx3AiMqIqZbh27/k8eCCrAETwPU/Io0px/i/YPih79umEMB0FbE/ojEWwH/T8EyLj4q/BADGQGYu5j+DQeUdh/sqQD2DpUKNj/a/c/bNN5uJ5b8HMvjL/PsIwMVFMjloSM0/2hdN6ELaJEDZt34iPQwfwDX7mJCPUQTAC5SDPwt8FcDKZIhMGmHzP9/fpZvo/B/AIj/mJzZUAMDILiMbKHvjP4JUauAzPQNA4lBfaif9EUBQq0K8Ou79v0Y43ZIo/CFAerQlWBaGHsC6QBBRveAPQMYihObqdg3AiVvstvMYHsB2bP9ATM0fQMPsSU/9tQ9ALpfrzkACEcDkaWcOrAQBQCQsoNQWVh7AQ2+GotORGsCcPAr7z4gDQNNhbh1YRwtAdiTjqBxI+r9QQYmmoVqmP3tOY6dgIyJANfvOx71APkCoTNl8+EkSwIc5fCR2TBPAh7g/4UXvHcBHjzu1LyMDwLv7YSQqghZApVY/VATrAMCJHwXld6sGQB1NjrttFixAE5j0tL8hI0Chq7jTcVQmQIVvjZ1pCxHAjJQT2FSc5j8TIoumpWkQwOC7yvOqeSlAO3BA0LP4EcBu1BNtp2YEwBPeldHHHitALBW8bueuBsB4i5uUGiUgwBa72qVv5vc/UtoARz3ACUBDqriG8dcdwK93kLUB3hlADl+IZWEGGcCIIfMi7YcnQH5BlapAmw3AOIQ8RBbg+79G1Vg8u2DlP+KMxbDThA/ArmomwaxmL0AIUsZD/BsCQJJsoVw4oPE/7+c1KflOCkDUtZEy6RsXQK0qYLR6CAPAcIEFwwECLED4qSEgFOgXwCC+d7ba/PA/VPulJJ0gNUBiMsrLSPQQwD9YGQEmRBLAdGA2bTJR7r8mC7sEHkb2v5A8vidDox3AdrI8Gx9//b/ByNZ1MGD8Pzc614obA/W/2KdUMSMH+z8Gt6rXh+YBwGtAh+UObhvAzsb4guMGEkCh7pDxUFcKQGwDZWUq1vG/jCpQownKGEDFfl9zUo7qv4mu9C5C0vM/RksJa1n8H0AXjBxxtTrgPxLinaqQmRhAHrZ3W8y4E8B7YyFv0gIgQL6qUrZupqe/+oNXaSYTEMCRl3K04MUWwFF50YRZifk/ohPaL5sOFcAUgPAqrhzyPyG4DglcqR9Am1BgsUwhCEAyMuDuh7IGwE6SLaFfPbW/pPvDNUI+3T9foRYX8dgewOe9QhYhti1AQfpiLI79H8DJzo0vhf4DQHSsKYrg4hBA7S3OM+OUMEDEVCf7aN8SwIrhSF9va++/AYnJDSdT7L/SULO+EZYdwFqwy31UrCJAuwsMq78rGcB6cf4eiTcTwJtZKy1GASxAzIiYL16n9T+UgbO11tf+P4VqaRbtGBnA7z6o2iFkHsBiI8GEZRH/v8O4HudhqxxAwojCl7ZWGEAat7vA3Y4dwN7sXMBW2N4/uAtuRTbN6j9pw+daaSsSwNhYbomElSJAz1AIqCJ6IkD/nEjWygDTP/XQnBQw7BnAXVpDADb6+b/hesWBovkawAwQc9m1+BVANZGhEQPQCkDAJWx/Ny/sP6i8EHTXdfq//+kXCpWk+78Ta8kyZZQPQAXs9uN0nQJAX20orhVnGcBrM5zGcZ4MwFxzbEKXqCRAbKJQowzrGkBBUr/RPYwPQMJC+AgFiArA/EIwXKb+1r949YOhnZIPQL5qBFYVvgvASqHo4MIwIEDc6OPgzDMawCU+FEpWIDFASEuQBIKuFcBMSqZONFIQwOqnSH3MkB7AJ8T3ouQSJEBGtugd3xCgP0dJ8VOOrRXAsZ13hJLKGMA83nFUB3QPQNa2qQlT5BxAbljp7Lom+T8164KTNdwdwFWptSj5/y1AVSToxufkCEA6jU/ZCQ0LwPkGg08XNSDAibaWvgqwF8Bcf4Wu3tUCwMfvqUroHiHAjh6pDYecC0DarIL/vUrnv63qFxCEdRfARdrSzG6UD8BIEsrGhDzxv3cVzYvTWBtA8IsQHTGL6b+ELtTYOd8VQPHcW5yO6QTAzS3pm9PLDcArsV3zYxQWwIlGKOWcnwdAplDqfsTm6r9gEhlT/PkSwKam/E0h3RHAfMqQ2VQDDsAsha58SKcEwJiPBMSmnRzAaIAYTHLIGcBaXFi2mccbwOY9YkPfJvm//+zHOjRFEcCGJpR9zEwGQHz0d600NRtAl4HZzk5VEsCBkkhwxvD5vzFKMK9iygVAV32/gtnbFMBIuzOLKp0awMCSbb3QFCDAyYZfhyC38z+ALzh4Uj0LwMV+645EXBNAyk9hfSm0MUClhe1kaUYcQCYropuvmxDAMRbyXbjnG8DEhMTVgRUTwKvDzlN2LRXADtjbURCkCEB1iARUALoUQEIEZ0GbxCBA2GzIzaOb/z98pMRrfOnyv0u++0SEKyBAuG6IYxH6DMA7RR7TjFH0v48qB94tuQ7ARiaqTOCf/D/OwqCGIskRQDV5VPwwSBhAlMqBtiEpD8AwfOhCLPUcwJY+YgPbSN0/rk8BFZrPE0DLWXyUQVgmQLTKwX20CydAWWb3mf3ZGUBNMPuLIVwXwAL0P9gxyPw/4cyeeQOA9z+0eUtKo3oRwIBlQ/tlUA/AQsdq1PbT7L9towbyTSocQObAmv+OsBXA3OAazD9VCcA0TR1zEKbyvwfYjY88+DFAbHvxRDg7BcBd/qy0bakdwB1ysGLGQQfADL35pJMmC8An27K/zK8MwIl3BtmDpfC/RGOVkNg7GkDHb1cDPTYlQKih0P5rthDAvuB87pGoH0APqW+yP1IVwDrE7ynOhvA/mcgiMPjoHsBWSmwWJQP4v6SscfptcRXAhHY6VCDCHUBPHj73WtyAv9HOkGRDxgXAhbvLMyiPBkB0NkBqFQoWwOUW2KW9yvw/IFsgDEirB8CeTvMbla4fQFjEQppMxua/8k9b/P6qFcAt41XPkKcqQPFHDZZpmeI/Cf7DtG/uH8BCxrttFBnYP4LzW4yHNhzAo8mpVaNFFcA01erG69YQwG74i7JJubW/fqFn7r5W5z/qz6jqWlgKQEoMR23FSgHA3sM99IJrFcAPZF2dlSj9PxC3UGJfW/2/Qpj4o3j0D8CVr6fgXwonQA4JiiCnANQ/wg3RnBdB1D9gJkK7v60OwOR7ApJekBJAdnuIQ2fGAMD1IImHmuURwE88H5YvtyVAfvM3+sNVC8C/vIHfGkshQAiyNWlmNe+/xhH+K+P/GcChBxMQW18SwJ5xIXg7/AZAKAcRiQlgGsCZcboCesDqv14+JzK/Mfy/9TagiPVTGsDUU9BNF+PZv5xMOHLMB9A/S204DXvi2j/ZfxIO3wYdQEB9/zyNKBPAKCQ/yfweH8CcAblW2KvyP/Mid1wsvhjAy1GGqXbb7L9TJC4edSMBQOyXnBGQ2BzAkXslq4WqFsDTO7S3x4l5PynLKaRcYxxAIz1MBUvxKkD/AFFfLeMJwM21pqNpgB/AE5wPtQrzDsCmjgph2qDTP0xPE8pV+/c/rzFMOJrwkL+AlKwV02j7v+rN00zn1y1AbdwHHa8tEMAS4OxIrgv+v24HkjIOzAvAES7HhS4cIUBFsYogdkwVwHKhC7n1ShtAez68Mbr5FUDIZqI9HpgTwGWVAl1mJi1AIS7IxdXnNUCjTz6EREEbwAxgUQKWVxxAJSKhpzK9EkBMw9Az3sAcwP5CZkz8ZwbA8nBsA8H3C0BKcmBB+ekcwD3UmZYdv/E/B9llhLGQE8DGqKr5jyPWv+2xLKOOh8i/HjQ+mGMJHcCdVNSH/esjQItqxQGFpApALOa0h4RRC0Bx6wnOsBgZwA46HCDhthLA2pVffKd2A0DPGE8bLS0QwHC9xabLviFAULvg/t+m1z9eR77vvE0TwL83XKRDb/q/ogNqOBB+6L/OKt0Jae8WQAmWgpQ8sRHAv3+edVrk5z81vdxoJgEQwGSL+wQlA/g/ed4wSOLcuT/iV6S/DB8CQNIEZ5bZHP+/Z+/kU1J7vT/hIL8ZZvLivyk51B3MCBhAwj0oHVN0AcBbQxlouUIaQOo9HXJ0nR7AX4LezJeLFcAA7P9yS9YcwIqLeiZlW/C/2FjMvgQ+BMAMc5AVJZsewNFzdG97yRdAsJ+pIMDPKkAwr20vfT/Mv+OBNi6eHArArmbe+4HX7T/Q9BuQ2UX1P5vT/E8qPBTAbvKIPxej/78lP5+W/wUUQPfkScAJWhDADkOZFgjfHcDVdtWnAc8SwA6NAgmPiRpASeB/zGyeEsApHlFYUTEhQGyJ4Cj9BA5AU2CuLsGqAMB3nB1nHJ8bwFEqlKHdw/W/wBhMtCOP8r9nDSfjPlvsv4K5+nYhX9E/Cnboj3MODcC3+hSwGtj5v/JEtDzqMvW/5TwgQkE1NUDk4yU1Yerxv/4rZ76MOgrAZsHL0HuXJ0DUS6Qv56Phv32oRybTjQvA8MW5rWOo678R1w4VipsOQEbcRlXKsSDASFpNdV9TBEDhCeKeZFHJP/qU87TxehBAwu+l7TndFMB2MQj/D58DQFKu6tpViBJAoi1iG11WBcAvyBTOaTodwA5JURQ+WB5AOVS1hNGr6r/mB/AK82j1v6K9WtfojSdAA6yHW/1nDkDZ8vAqupDhv/hv+AA6PPk/4gpwn4rgFMCbuYGlPMn3v0o+ycxOghfA1wKESJVdF8BSPyMgVpTov+KKhniADBbA+8WcViH6CcCcFjOvj2cbwK8Vn7zh8RrAwW4OQZO++b8++JQKieEZQCUbJkZrIxdAcWmi68nMDsBDHNhmZL4UwJVVIz6l1gJA3eRtyYvCI0CNddoL8OsgwEcNjak5SwTAWDMrYT/ACsAZvm9p9HIlQBFhUeTMzsC/UGq/GCp6GsBS73sGF5kWQLL4dhh5Q/o/xDneEndWCkBZZGKEUK7sv3+4TGrv5f+/31BrzrC++T/cE4XEyhv4P4u4o+Lb9CtAnT9856a7+7/Yht0NndoGwDM5WixndBBA5wFmNjyAF8CcQ0MKzIjhv2eZ6OgXNB7AuAhs9zrOFcDgWcn1FE+jP4RXPkYzXAnAIWbtv4yeBUBaiKFFxk7eP+B2nXZnpwJARms9jTLVGMAvfIB6MxsCwJcuen+88wbAFGRCXzAK9j9KLtZ4ZnnZv2jG8OkRWg3AShZrrTn7HsBiQQ62kfDwv+IoXH0lkh3AQfhPnYWx879/ft+NV2ASwJldsconVxzA3G5ONrtK7r95yS4II50SQOIVkwsJFvK/DI8x7TEAD8Bi4iorO/s1QLOG8fUFEDBA1uaLapj4CUBSDId8qrcOwL9F7xIWsADAcm8bV0cjGMATV1GdIwwcwDdwSAnVSv6/MV4syCKGKEAuEbjbjBcLwHE2gt/M5Oq/UvhFpuVkIUDKAsh5YFkXQPz2iGIuLAVAjNZtOYpTEsAagm3Y5J4QwNmqOGpPCx3ARlq6wvr28L8819sfoP4DwFZm4XC0fvw/AzRjbqQiH8CV0CkkcMYRwOCedwBfiR1AphFhi65dEsBV2zgazMPAvx6y0+rUnvO/4Cc6u06aEcD6jhDi5vsOwO2QtsexKRbAC3cWXDfmF8Djqy9HhUvYP5pjWw2UtxDAH21IsiOkFcA4ZZxjx10NwGXQ/iH7DxdAE5Khg0319L+KPHzCC+IbwAxLG8fuiRXAg4S+IjuzA8ByvpOdug4LQJKRAbbIZgjAjKRqPEkBAsAm2G61TsYYwPeQahTB1RvAnmVbZAvRGcAxYJTwRkcHwByAN6SvoQXA9uICOVl1/T9GwwiY05ITQKSrEghQwqc/klnnZnycIUDYRHm+DUQUwHNbueXHShLA/dNz6eqc8r9dAfvWuHnyPwmV8G+JbRbAcdm9ux5cFMC7GIogm1QhQGr6GClzqhDA9SMJLMpTFcCwILmkRyL3v5QBtW9LSiNAPux6sgaWFkCC/kLqUq8VwGm2mgeU/xXAFjop4bE5GEACZazuW4vUP9dQiodE/QFAlQGwl9uSHMCUsspH32oMwNxxCeXv7uM/z3JMbYVA8D+1QhZB53D9P/oxUe//3SdAZiIJqUkCBkDE4W1anLMSwG6C4d2mofk/qMrvfHh0GsBns5JDC+oGwH+7QMYa98W/xYATEp2GE8A6uQys0rIbwIbSE8Eq8RvAA6ch0H32EMANALpa6YcLQN4erq2s4A1AfOtYyWnFCsCk9ocOlaPbv7hOlHq/JeW/16ybgTPDB0D+mLVZUhoYQBqH34birei/hFCHHKLbEsBAaMDYtZ3+v7gpp+owXP+/Ah7aa7mJFEAS0ZHFMXowQDz+OOxVVgRA0ZapALAi8T/E/cr5zp0YwHqWvKyCeuy/a53uqAOdJUDCk2pfqKkPwFFJJ2aVaQDA0uPGEwaKHsDUjxwqWjUQQA7+glDunQ7Axq5v587bG0C+X4ummPziP2hvIUsmTxHAPpL4BFh2GsCDF3X5BjcUwFMdC1YTZSVAfeo5SEbqDsARWTVsZU4AwMDqpnSBDNO/6pRiwAgbH8ArScFlicEoQFlHlUOK5BzAUaqI2ABYGMA6cw1fYAkdwNHy7AsAMvE/piHsmlYMA8DIDeQ+w0EfQIdY9VqeuBvAs1z4GlW1C8AiBFE9bGcjQNL8IqeLFRjAXnRWIv/lFsArs+hVoKMXwHLll6H64SlAS3H9Dpg/IMB1RNy7TCcFwP71ozadwx7ABMGkAsj5EUCL+kpWaw8UwH5D8k4xCvi/A3tFM/ynLUD+FdmUcc0OQNqjqR9LJf+/tRcwZ3+N8L9p2HPcSJgSwDwqN1kLdNe/y5QzYo9+KUCp3USMlesNwERGq/XM1A3AD48mE07CEcBuTkThw2ztPxwO0t9LuBLAkiOczl3wHsC5Dqox9tE2QCSd/8Txvh7AY4kBk1014j8iGBH9Ktb0PxVYcAhMmPs/TAD6DHSQHcDMcB63bH0LwNEtM6Xr9pE/9lrF2TQn/7+bvFW3SVUZwOAnuKdBBh7AFcrKBEo3E8BVvntv9p4SwF0nGoE11Q1AzmODBOq9FsB+JAW0u3sAwMb6csqDsSVAjC/lgjeoGcBKB4IdaMELwLrTpIVCyR3AzXbkZiSgHMCIaWhlJU0QwM6xxRvYIBHAcsdiSoL1GEAAYs8EtnYUwMtZa5V/+vq/qlpVaD9MGEAKyrWTJqAMQGy+UmaMlR7A+sAf7jkfCcBXOikUBgPEP1WNr3jNHwTAAtyu1hmhGECUajWFDUYYQOA7g52TFR7A974DOLRxE0BGcPU6gzMcwEvbrFPDxhpAAGGeehgN/79E84D517v4PzeCOtIC1uw/k57RhJKt878kLy9W8yQcwJcvXp4KGB/AfFy1rdqF7T8WRJNXTj0zQCWOyTRMowVArAtb0fd1E0AB3905zAE0QKRMN4swFhXAVH9J5Vz9BUAaVtKHBM3wPw6FYZGAgRhABTzPbYVQAEC1d9DeGCYXwLkguF1m0QDA4nU9otg2G8Dx5wNlGljzv6l5E1tYMce/TF6svsXrAEBArcyYPmURwPJPV68Qedo/YyZvouTo+T9Gcf3uJoPbv/+5CwCGOxdAr1Xostl+F8A/I6UTuZzgvw3AybSizQvAZnarITYo+z/OjxY5EJkdwHmGPw6bZgpAIWMj9VLa+b9jkHIVeUEQwJPvbzmSSjpAJIxQ1U4B+T8sb+eorF8GQDyGaByPahLA18FMrPUVBMCCOWrzEzIUwDLYmbt2hiVAe7tortiuBkA1S7hkHGYXwEWU9vuTAee/JrUoWvcLBsBleaLRIVkewBamRq5lbtq/41/pKtTaIkDaenX5FUYewOqL7zzBcw7AGPifaOX3KEBJ1txZqMT0v+Bx4lY44SNAYBU8gTObxr9EXHtNOHgZwNAiQ9g4qQfA5l0VwC5dEEDdtCDzazLKvz0asbFFjx/A/slRALx9MEBrBsbduxsfQBwj+ATp1d6/hbIF/DKg9784rfGpwvjxvwNM+ELORyRAwidH6qdbFcD5/cwZf24LQLF8pmJ1eR7Aav1EHg1S9T+7AeV3vUAkQCajWR27WBfAWPniH9ElHsB4bf1SN+QtQP1h5l1dpfG/3Aw+6Tnwxb9lc5GoTD4cQBU0L4VRRRTAkOjkwO+HDkCEr2RCz6s2QAALOeNF5BRAz1SMaGbjHkAmlFHv3GgWQJSwTO4dRvS/xJO1EBNYxj8+86cJKSEJwKUhuO7P0ypAeLHG+KkOB0BSIdcjWRIZQG6HVMANTxzALZzPypqNC0Cn4TAR2bgSQOb6znNfGiNALdndhtaUE8C4zLYfRIjxv+PSldDxKxJAtg7okb5iGcBcIzK9fu0bwMGBq2MhsxzAaMPZ0W4aJUD9IFYh6zYZwD1patekLBhAxSqVAZevyz/RCAgR/FQ0QKEkxI9nvRxAO+rWvMn9A8BzpDSI+zQiQOaToyFhzgDA3WjR3ENhAUA4DteXsqouQAQk9E5TpAXA3KnAgO+RH8DcotLTVbivv6QZg4hPEhbA+8k8DVHdDMCAxO8AOX0KQL7LaBQyQeA/bDzdLFWCBcAdoVVLC0QLwP+aa9ga0BBA4lt+UHaP+7/rkzvGPY3sP+XiuposB/M/Lvu8SYaj9j9ZQucDtPoPwGy2Ty/MBfO/e10dJ+kVEsBSw3isXuf/v4wBBHAdL/i/11eIqo08KECr3PUEjgkYwKkJ/lnW5AFAOJA8sA66EMCc86DGkEEJwKaPUdantO0/rEOyTE5wIUDuKdEFfNUdwJ/wGUd5/BjAQlg+a9OkF0AsbD3IZLHZv69pY/iy8vC/N0sq824aAsCetOKWEYn7P+PYG2v6GQpAVaFTzfdotT/zEJVCyDsXwL/vG3Yj9jBACG4aedYX97/2pQtjGaMeQGin/NVmyB7A/GLAcG3MCkCep4yw6CwYwFU4iZmrYuQ/FgnsunY7DcBiimwXpogHwOtWWgphUJS/qo1N4liWGcC9OEJoSLktQERbaa+5lg/AdsJ6rxg6+r9uh/sM3LwTwI6XQtdYEBPAGPg5Khy1DMAfh30TtGD7v1fDx5yXBM+/WEbER4au1j9/L9aRieELQNuNQ3RRtRpA8UsoRREhIMAtKFGif/3PP7AYi2p2k9A/e3iRz5czBECwlUDZTcwVwLz1AW0nWNg/V7tPE156CcBCkRcR/vsIQOA+dcuc6hnAQWpOrKAAGsAbOyYpb+YbQMEkZE8oEQfAyIlRbuRrGUDLrEWXLNUGwNMR3ve3FSNAXoOSUtM0EMCA1tq8SvwWQNl3W1jK6uW/UM8Ot7UDMUC7pJr730sgQC1mRUHTVzBAMSepN3jGHEATUx5DhUsLwCecYBzYNRxAioi/MsIHAEC5H4plNnTwP/DXy/zFbh/A4J5gL/0HEED8N6aihb4DQPZ3e1dRlvK/y/T315iPBkADS2lHkBYNwNiACLrr8QbAABP/xQ0YDcAr7/5OqhMPwEwzRz9CYx/AkxMedPViEsAVy+lUAfD3P9IjBIom3x7AlE4U6FxLG8DeR00opjb3vwUVsWdQ7QDAlllQ2IFaEsDYfczBVUAfwGxeXgLpFwjAhKFNnMpyGEDiLH3ZTs4EwG78BMg7RQdAEm+ktjdIAkCCRZsXPdIgQBCid7zyUwJA0ASYfkVlIcDA/rq8vD7lvyLeysSoBy1AjusVw2HNEMAaI+aXBoH7P/u8l3tFZvS/Gwhn82QHE8B3gk2zCpD2v1iOkOGyFiNAAZm8qkQo/z/TeXtDglz1v+r+byoQbAbAxv2jARPQ3T91WObcmTIIwM7E50TM1/2/h7DTdeGnAsBOSK0RXDIQwFDEkBgGGgjAUsZovlDs1b9Wx/fkzCYVwKViIor9NwDAt6+CBAX4+r9kpr60nhUDwCG5hxCbuh9AgJNNkbld5D+Hzgt3uxgPwLfXbtLUcwNA1k+ERwp3AECMsI5Z2tP2PyQu7GmQlSRAchIb+RoxKEDoyt+wDBgdwIUHvdwiJh7AoDIFDfkTIEDwIUrRgQMUwK8iY9UTABnAbk/QFoGiGMCgFEPzA8oSQOTSKln3VOM/MP7c7mci9T8u6i0bUKUMwLKYH+cunvW/m1Zz7sGV9D87YW7ijhnyv/sl68NjBhfAhqZLvYJoLEDauzItSlUZwILzJMMj1BPAAvunlHaSBcBkUCTAZsASwOTvLANtxfy/+s39ZY35E8DuiJYxSKHsP3/aIdnvMx7ApT/qPCjg+j9Z1CxDap+TP0GiaeHqcRXAlwPnYUCTBcANqg1RtA8OQNPP7lKUDzJAqdG4216oHUCO4GHJdyn6PwHxbNHH4RPA3ilqKvtgLkA6vaUMaecHwCTSbiHuQwDA3oymmNaUMUDxc8gyJ0gkQPGsXIao8AZA40LRQ03yAcDGSXmOSLf/P068BLDDcBDASSdq4OUvGkBreFQ4q6QYQOdBzGvl+CBAkc3By3svFEBcpJgWr07/v8bmQlLshOm/cFzHbShEEsAdZnY6UG7+v6r7r172fBfAnun1pDvKHcD7FAeEF1sdwEBKPHUFaypAEoP713MMBMDhiHxCBhgEQJ2l1XaSJhJAPcl9HqCECEDChr/fCrz/v225BOgPkBtASw2KzuKaB0Ba5cKWzD0LwBqvfV2pEAJA81/JwayWIUCpVUvBEF3MPyd83jzLHgjAGey04cCG8L+3zvdhOjAYQFHsBbM3bPi/0kvQKnbw9j9cR3I+9nX4v3XTjZw5hS1ALMLbrLlM3r9g/pA/ZzMpQF7CbJWhSCRAiHmwaEFV7j+QwF7ukeQYwNkLbIZk/RzAmS17VsmHAUBWMKbUXscOwKRfrng+Evg/K2+QNEiuHcBC+2+HK5sfwDszG0RjoxTA+2/itSINEMAT6nJDdpY1QAyXfoeJjxdA7UC6gv0gEcASW2O9wo0IQFe0eeFKwxHATJA+6VAfD0C4MywChkT0P4o9T1MHxxnAfKZn/mH4FcC8icHdJZMcwD70iv+4evw/rV+1qpz2DEBRPK48xnYBwLkdOeTH9xbA9Oko0/w93b8Efw9KG5IeQAljT1j/HATAJsSn220V8T9vJTZ/RIv8v1KVXZaUBQLA7V8+DZC7FEBdVMDRvo8LQKDwMUtAvgJAbkrJqP5X7L9/N56osCsXwD0EZyUS1BhAyFSdbvVc4D84PiL4JA4gwFD57qOCF/Q/L6LwYiytzT+AyeoiyAfvPwDEfVkZtBJAaFnOBB6mAECaWO2Y+vD9P5hDXDfS/h7A2N4y0UAV9L8Z3mq5Mh0DQAH/FSjpMfU/oNF/W4aVH8CtAM/rXeEUwNkmJNXQ3RPAOGppnLHyHcCmQLpUIA0dwKpRpRSaOSFAy5/Hf0cTEsASXfDq42UHwGNVej2XRCpA8KIvCFXd+7/JTV+8bRUZwGZH+CpZRBTAAwZFLOp3BMCVXumcrUr4v/Omx0NcPQjAZL1ZKY1NMEAU9wxl4vYLwHzDj0YTmB3AkesZEfsNE8CA6Qdyw7YfwOZrGgw1Rq8/UAPrXPb50b8GFhclkaUSwFeeiVmpbhzAJ9qu3Zzq+b8c76d2aNoKwMIldrDtxxtANlCmoL2hEcCWyYXFwE4vQIIG0//EwfG/XNb0d/1CE8BoPG/GHooUwGoFiCUAbtA/74c0CWPbEsB1xBuoQo4WwA6RqbxsTRzAObZVAp5+KUCiOVur+YcbwE2WOe0yKwdAp3GLa3TFCMARZFTIJXrpP6AJano+2RFAyQQb0sQjDMBMWeX8STYIQNMF4AV20xjAqAj4gjV7DkBfbWE+XcgawBGTciGoNQfAAL5oFXt9IUBR4L4hj+IdwDaqp/tYkvG/NTR41dehCUCt5Rasq0wxQLmd6uGKdipA7Hc8bqDMFUD4VSJBjlUSwGx+3TPn8Po/PqXWFwsrCECFL7//8Z/nP3Uflo/a/hjAp/77whTSJ0CBabK0fV0LQGp5XMy29AXAZVwjIbl0EsDtaiavhiorQLX4d+qamDZAJwR1273AHMAyNaXA76MTwHRroP9p+BfAgF4JFaGlEMDBr7oM7UEiQLHJLkeKhva/XzqX3KXBFMC7EiCxvuodwPLkCprXxyVAtmtaVwLh5L+VIRLCvh0lQOEydJz1xhNAbH5wHVxWoL+c7Jiv1RIawKwOfVsW3BpAdkixprk45j/MqLVvhVggwGhf2NXUEyBArzGL63qZHcBmOLDCUXUoQJ4cmMqSvOe/H2F4vc4jIkAOCZTshv/Sv6FdHN+dFCJA4VDgvkOgE8C0qlrd05wEwEikSuEYyhjAmC5aWWTEEUBzUgcOoxkewD0ix6n7feG/pSc914IgBUC/GWFBbAkkQD6vrD5GZwHAjDOE592evT9PcExeD9X2vxKeQPjpi/G/rrDwsAZ7DUD3+KQfnb/mP4RvNpeIjx3Apdw997QTEEDj+jCKVtkxQEWPlonJkgfAHOcMcIzf9L9zLbSCNBAgwGU0IdmYYBRAtf7XGJh6IMDWCXnw94sTwOH498ZgQ5k/pWSjM5IHMkCdYHsaAWUZQMdujsyUSBBAX89nvN1KBcBxqjZGvDcbQOooTtK5Th/AYF4Y5BuD5T+rFTz7W14ZQBuRB76qHQJAw71HiSb6GUBDfqin6T8YwLjvvKgGXv2/znf0KFadMkBLqf/NXbQeQMzwjKF2UCDAXDQ1uFecF8CcrJYdMMkNQNNzpxuV8A3AMFfddbVFFsBjhSDdW6sMQMbPB65RHhjAthf/yJT5CEAU9Kze3YYFwDyo9HmLdw/APqvr9369HMDNPxIEhsAdwIoEHDvApBJATPRoWIYMHMBWuY4/1gv8P37Yw4IgPQvATY48CWAWDUAYW1ml+Entv+RLyj3SNRDAXoVTMKRmDcCU8g40ed0cwOaVvszyKBvAlnPRipVUHcDl99ssgsgCwFpEKjODIxfAkqYS9WqeFMBufL2fuOv0P7+ZhVDGWx3APLUcaaPy6b83jQ+fLCUXwOKUJdzskgbAI7cOXpVMG0CwZFABFxbsv+vUhU8xEB/AMF835NEbE0B2JYT0XJfGP+KRhqDeqgFA47gxLVVIG0CGHVjL9T4dwM3+9fjO8xtAWHwy90DfIkBOjLJT9ocawMyScZuLtBbAfDR11UTmF0A/D7UgOYX0v+CXg7IJNxFAgE/xhT8+HMDaZXrgBsj6v63V2Q6bJ/Q/pET1lutXF8BfUIsNn0UVQHPiPC1syQpAF2HPGr6PH0CWMtgBfTYfwDkpeLrA7cK/JKOQ9dy13D+yrasCG18UwMtkiiwjbRDA7Lxz9k0gGcBimob0EyQMQFz3q4nF0vO/oBgP6a9mEEB0W8sL6MQgwKtBAC1OriJAtXKUVNpVHUB9++yOFrcVwAFoJioafQ7ARelcp3RCHECCZ1ww8VgBQMY6nES4yBxA17KB0+0RFEAeNHbV9BsRwOJ74PRCLPK/MjTBFNmuFMBaO4fdYgrjvwcUjeTw1Oi/kUdGwBvOF8CA8LBa7jrBP/cJoPryfilAAq5bmTIQBMAdnuK+bho5QB08eyfAxw7AdDTWRAEoMkCI0ZtUhT8JQJoGapUP0RTAJKP5T2q1FcA3+f4cL4UHQF7+sN7gzAzAlbLQSoYv7D+CM/s9L/jaP+RdJHUpWB3AZeMECf4GJ0AIrR32tbXwPxvEJKV/+BrAMr8R/YraG8BYQu3E0o4NwBsS2PbhLyxAZJm/BVia57+LAEiV1y8iQDi5fqNZqxzAT4vTU18P+7/viTJgq10cwKqICddn/wLAJTf/Feu9CcA3zRkFYEUewFy+mG6oZAxA3JXQ4NPt+j+dnD9nrVsVwP1cWfx2RwpAq0yzhzZHAsD1B0KCtEsBwA9I94oTjRrAJbl5QRJVNUBlkOZK92EfQODqmOs2QAJAOW83cV1xFUDj81k+DoceQK9GjbdzXxDAcPbvbq3H6r9qPLJn3WARwK+1KyVddCpAdoTnZjbv07/Xu0prtWcfwJm/wn210CBA/1p/eHy0FMATOcnubA8ewPZuqIu6Aec/AAq0eHbiDsAtndM22GQJwG+tofDUaxrADWpDY4wJJEABy1/EsCMTwICHAGaLWRdAQMTiTiQM4z8U7A3DnLcZwOAksfGYAvE/Kum2SdvV8j9648ZmGVEBQIE4Y+aeevM//gpz6gsv+7/yL92Ra50UQP7cTQnu8RTA0OBoQQSxD8AjMbXRECwQwOT264rDIwtAsN7DkANHHcAcZKkBi6EwQBjx62eYtxHAmnKiqH4CEsDGtHMufG4lQOyoJGqlGxJA0wsjzGuKB8AfZW/3TYsVwFRmMrlGnw3Armgj0Etj5j8MPUmKIGAlQDks3l+RnBzAw2ZM0wfsDEACRTkHQIIFQFIG3vq1NyFA0mCqbZRa3b+SCMT5rZgOwLqH09fyd/6//QgVpt0yF8AYQryGGCb7P3r2AFjn7hHACbJeIpbGFMDXgsFcBXgdwLAqoGrtax3AUZCejorb+L8GMw3FO5TjP5Qzrtd+g+a/07FLVXZ3GcDhUagIAcc1QAcFPWhZJO0/Kq/HcA0aB8BJ6oWA/5EIwCEntyfaQOI/6CTt7o5FFEDHedN2cfMKwKGfu+jJOBrAtQzwxdEYIcB4RaYB7+oCwJmKJZl1L/m/vHyZc8ZP7b9dcrCTnNIcQIaYlNLPiwVAogH9i/r5LkB7ib2wu58TwIsjP/zrxTNAGnajitkeNEA960NhE4QkQALJG4MBDOg/soUiXvSyBkCARGyT3ycbQGTs1h773e2/rBBAn5a0GEAwkGiksiwJQL8ydH7e3QNASoQ5AUbmF0AwSBSVZAcGQK9DFynTWxJA50X6UXUJEsCSYM9x81MJQGTGihoXlwdAyEKFJZT55D/F4zqtfa3iP9z7NzfDhzZA0q1jvRjF2b/8DTxBgIw1QOeEPtSwnPG/UCFJKwraFUBbcyuq0vfgv03VQ1o+6w5AT6X7jnKV/b+o7akydh//v3iz88G9ZgpASDiV4fWOD8Bzlj2XSj4ZwLfyOmG3CRjAdL4hFf2dF0BavjjDWW8kQI8IsqRwKhPAdMfx4i1NDMDWrEZBJ5O1v2J137Tq+fC/UpsiuGd0BsDt82rw6pIyQHprn7qXk/C/zO8kbk+WCcCk2dh1AXkjQLlDf6bByR3AQZVxEBv8HsBeKe/tR6YOwK2GmqKkXxzAMbndNE/pMkDCL8L9zqcKwK/q7KPA+eg/ZSls92kX7j8CQ4CJDIn6v9vNXm0omhzAWsesJzIu8j9Q95FK1p8bwOgH7ZK5QiZAiYQxvKkE9z8IDhmxU+4ewPFZasV4ex7AsGJKJq4XHsA+BkRUVVUewBp8z0rTjxrAJ/e5ejFT9z+9BlEXpxgWwPS4lF+4yB3A0Pjj5vG8BsAjTv/z8aMRwDpJ5LjB/x/Ag8uwIjW6GkCG3IWvHVcgwJlo5nnUrxrAWn6cnIt8DsBQExlAgpr8vxYHucGfHvI/L0DVLZhiNEBxOjJT06sXwOnNCUzpXwjAV0WEjFf5+r8W+mkutC8wQNZjfyrrkwtAV2/+KLC2EMA1/hN0oeHrPwp2/1XAKhTAT0RYg6xVD8AIbBobvA8BQMLEQU/P4xvAuqf1enhYF8BG43EMCt0YwLkFjDi0YArA/tYCnHCwFcDfxk6Nfn4KwEghJVVX7hTAmCcr5avxxj9ZeT6rX1oGwI1zVYPol/c/Sz20348gIUA5pCOjgoPKP8vnHsToCAjASWMS92+4GEAOSGGt8g4GwFn5N8SoRRPAGdkF52RtIMD7gEmmYST0P2u3IeyN8BTAS4dDJFPMAECMBWcm1ZoFwFADIoGQyxnA/oDlVMsSCUCnYS9kU4AcwOFxza1LvwvADHbsjitlE0Cu9UkKfqz2v7VZTbLizBRARalpCMbCF0B3XWElnV4cQOjuklqIPRRAUGvn94JNH8B2AM2/vfnxP0QsJhK1RwBAvf0+ZIoYDEC0411DR7z4v1ss6FI4xPq/fwnL4ZkPsz/xoFaW6A4UwGDglWUne8w/vVjHUgia+T9+n768gBMXwAXvS62HKfQ/YTIZWcFnAsC3Rwj/eCnZvwesriCj7QrA7vc9RByc6j9p+Onv2GoCQGT0kQIb2xDADu47VhzPAEA2KINztPccwG1f3GapQNa/oi47uMsFAsDKdn9PXQMyQAlcJ4t/kIk/PuDfuiz/FsCCFkWe30oIQIrBU2VNew1AyNUEYqohFcC/mNS8H9QLwGSlozojUR/A4bShOmzvAsC6lwNXWDkTQGDdS8Hdn9o/75Wk53bsyz+Y3m5YEXYyQBMJpM/YmAbA6ld2xEkF/b9ArNeu0Vv9vyax0BSIlfa/IuLpSIQ3EMDK3ZLSsMf6P2Pnvf9JYSDA662NWTYN/D8DJMEF9PIewPRAibmlpw9A9dwKBjL1CsB9Pz2JzOUgwC5q0UH1sB1Av2tC+T+1IECljT9rEusUwFpHFcBFQwfAucNkpJqdFMAhtqA9pUgSwH4TcdigiRXAmGYKZ5hgAMDowM+jJzUVwHfDMsJUeRhAN/WN9OI4NEBnfd8D7nkAQKzFx5inHO0/4+min8EOI0Av8uNHfu/jv2y0kNqRrvS/QIQ937NQ/z9ic6DUzXP5vwiffFRu5S9Apu3Sa2sC9L/67WuwF0IfwHDcVlgOkg7AxDunP7seDcCU0unURZjQP0dR8YQ5gxxAi01ErOpnKkBTOVX/MFbbP8v7OYgp4RZADK3Y5duCBEBsIcqts/kIwLI3mulcmwrAsPeEJaFYFcCk6QR+HRIUwDcY894X+AzAzMPQcaAtG8A+Nix8S/UYwASC9L1JgADAJn0YmVqZB0COkhylu8UZQJqG2uumXvS/GKOS+7qrH0DWmQcOElEZwMycBiJsNAHAiTVHmqMjF8DxGTAkGecnQPo33xFs1ti/zSy3bUoz+b9/xPjH0A30v4rQqXhRK/8/jp66ODWlCEBUXsrbylr/P7f/nVWhRPa/QsSE7I1HKkCKLGHjsI0dQA3qCmdgsC9AqIrX2s2rFMBbvB5v4HYBwA0RIViRCh7AxMR20bXZFcCzvaqKpzQnQAY4PaBlBgrAyerBuptTH8Bw7t+Zfl7xv9thcKxDsfS/nYYjBXHvEcCGtDoXx0AhQBfGUUh2RxBANJxaQE/DE8Dud1sLqPAPwCOF2iyT1APA3UIkX5LLC8BLiWbYmF0bwFWYXAnvjSBArLa1XoIu2T9myidnELURwO+7HpqfvCxAtPbtPZhc/j+RkTBdRVsRwLSqvUatMAPA/qwpz7/34z8c7LJaSxs7QD5Y6TpuTgXAApdieGGz4L+X4nUoqBvHv7za2bIdfS5AzIcuzgUfEUBqiCFk6/UQQGZs84DodRnAM8uwo/OZ8D+aM3afLr4bwPVJ0gB0mRDA+x3qf+4PFcCUCsHsGmr/v6HXdjD7Pg/AF06Xw0RvDsDclYjBbirjv0yWeZwJFhfA/fH/vvkmJUCNJKp1hLkaQMjdhmZ+TxRAEgFGxJLm379mwe3ZhZMWwHVf40AL2cu/zzy64ZNJKUBdI6aaJV8ewD0bsJ09ng7Att6V9H6eNECymC+KB2EPwNlEX1+POQfAWetBQS0YAsCQSfEzSxHhP3fU7KuvBPc/DKUw2oboB8BnTF/bLX0UwMlbVHWeWBnAzIm7dRn8IED0Az7/WBzXP1d2lgKu8BvA++IOVsdR9b/HN8y6Y9AYQGWT3mnFh/G/54vs3TyNAEAVPIsAHlz/PxgHn68eaNa/Wi23g9qwDUC3A9ItezIIwOfCBdzdPee/c1xRvtPyH8Ak9JWUT5b2Pyc38JutMyDAXU1i9XInA8CAAl+I9M/Hv0c9d8pIZxrAucTTVy0z5D8ZxwpdmOj7vyzFSR9KPOq/DhC/jtLSHcCKss3i2138P+G15BnLUADACPE4YvOaFEDTACzUGXETQLRtE1RRLwnAgqpkzDVSJECpAhkawAobQBkxXVTIJwHA3I9O2xfB9L/1DXAoCNkQwGGjAK/H2APApA3+2nTXEcB1iZgGJ+LzP5FjYI73uhrAatharZT+IMCGdyLEE8XsvwaZBLUmawDAPCsPDQt4GcDAdyNkud70P66DOYJgDihAqeXOYDup9T/Na64QxnX0v2pg49K9aAfA6SsqPCD2HMDFNwEtXpgdwOz2Fsi8ABXAsByzkjDR3r/HiNA6MQ3eP9VBlpqQSxLAQRpR+1TxE0AVMT4ZUvAcQGylkFZJFxXA9Oh7b4oNHsCZ49boEGooQL/ZjEbe6fy/A9MmZEMDEkDioHo/4FT7P3diNq25gvM/uJFv6ZUl0b/SKK6uFK0PwDl9TsTMSRXAVx3Hn9JrCcCK5d7N87EBwAz1zGrHIDJAC/jF5F/kxb/IqGb4+30cwGUhMx0icea/jmcxQT8t4z86bBhE/tnzP7hF8xavFx1ACYF8EOHkBcCILZTFqecNQCFcnQQqbTZAIaGAORllvj+i3Rwz/T4cwI+Kp+gQjB1AX0eKgMRgB8BcxgQcmxQWwN6navgWegvAMl9/xyBD+T+E7WeEPTANwB5Ri/q6YB7A8Qzt7BoG/D+SAS6AXA3sv/Nm6WireAjAMLoRBFy46b8aS5xYbDsLQC0qeaO6FxvAzq9MnLDe8D86YksPPxEgwFrnGHqauOw/ypg0oYUb9T/TI2BoAbcewA5oFWmT8BjAfSxrmiU3EMBew+0QKawewFB8I9GHoBnAEIweX+tvF0CNQGk5dw8YwP0XMZ9k3SxAUZi7SRd0EsAz++MEtBoPQALkkiHSVNS/2Kw2Xe63HEBQdGSJWjnlvz2qXDjqOhhA9NTfaaoEB8DMn+n8O4jyv2KfLfVkDBdAo2QhJCDvH8AZl5yb/RQeQBB/oLGZJzFA+HpasZq/GUASi77yvJwjQMDQCyq+8uo/x7pdo/gPB8DMcv7LlpgYwL1/CS7XXM0/dSb4f3WaCEBQpO0dm74pQAqZxaf/aPM/j7R7Gho8wb+E2nkQ/WkJwJ/C4wFE+RbA/FeNWnER/r/zYgrJTNsdwJ0YMy0nritAFO9XGMTZIMDLoIirXb4KwE2RhlXA+BxABG9Gp69JEMDIIpRrAdQFwLk1BoC5pPw/clLLssccAEDhpsnnnXEWwAxc3Pi6qiDAcrZ0PuumEMDS3bNmyY0UwHIHxYV1FyZAGHgnG6Y5B8CyIP/3pSzqv/AS980MZgtAJBh3cHh617/PxvhoCTbxvyiGCQNBW/a/McbjV5/I8T8Y94NoDAwbwE+WSwOlKChAWlfiu30UDsB+jliaGWwgQMVY1zTLKSFANRKRuqR8B8AbPLCZLbsSwDcRAS6P6AZAEsi9+xWQFsBBnQdgZ+AHQBXEeiJNKzJAxv99g/xlKkB8kshK0ooQwMY8dBnSBui/qk1NgArRKEBBbHXEB6cCwOWM/zHIYCFAUCquXcCE0L/kKFqmRBUbwJwd+MxcwxfAnYwaRDxxGcDjYrKZiaMTQFW95oSYIB7ANQ8MaLI3JUAhEIMg1MD+v3fqhwn7zCNARZK9fsx64L/JFJlLXBEWwAmdKyWmCBRA+F2SrcxMEMAkusg8/K/wv4R1Tlx3PhXAbqfUjhxNEMD3KkmCZ8gewGvTzLutYwfAbKO9YaJA4j+mHvOnLW4NwOEwcQmnzB7A7LoBijEK7z/npyJ5hqgJwDAi9wZ1nvC/uVOA5sXvBkBVKj2I8ngIQGLzFJ1A/hBA4CDZA5S2MkALDkG7AC/0Py9HUQ/30yNAvJ1NJXhVBsCiihWF3vI3QG0sOCgotB1AHixuObu5DMAOq4mXckjOv6+AJuYexfO/zc/AOJamH8CRE7bvI2QzQB35WUh0AgfAs2RmnSnoE0AjS19OYSwOwEFM3Y6k7RLADGDEo3Mv4L/EiqQeelH1P6GP2/M9uDRAXLgXVRH6AUD4ZLlXsZQPwFKguP4V5BjA5pDs/uU0FsBvOCMcRsMSwNLJxPglKgnAyJow0WP0EUCq+JMdSDIBwEdd9gGw5Pq/LpckHVo1FsC1s/+15A74v8gDU3+2pCZANC9qkUOi9T8c5uvooZsewDIcywOr0DBASOt4Bex87z+2ZMzQhGoTwJya7HB10grA+5ozT1siHcATcMxZaEQfwE7idNqPIxrAq9gHqX9N4T9a0q8U0qfVPykcjZbenRRA8+dhiuO1JUDNQZn5HA4oQB/jb/WubRTAIk3K5DsQ/7+Dly0MhD0EwAYVIbX7rh7ATIrx9qszFcCdQ1WMuCchQNdQ3HGeI/W/GHFD65LmIUBcgjbbJdPXP7Q3CuYNmglAkJf2cPm7/b+zxA/hcecQwPKIrAK6sfk/IVPeDUhvAcAllYFx73YNQMfiuKML/xPAIzgTvcJaHMB3Nwio3IoBwNYa8sZtRRDAKDQ1r4X6AcDvTtl/Te0bwOD3x6SqChlAMHkalLBCD0B0/RTSH+3+PzOzBvhj7BzACFNj7fBHEsDR8sWFegoPwDnDAWpOuw1ARSfEaTs48D9cN44zlMcgwFKLkQlG9+q/rJPQZd+4IUA8aAz8j8MCQF+M3kLouv6/orlHVytBBcAERzYKEtsqQPZces5XmhLAkommO33sJUAYCfeXj+Htv+vPtYeeEAHAsjKYHrT6KUBHbl3YEFYewGY/9oErrwNAMwqx0nsOJUBhWjMXGKb6v73+Z+T5vBrA2rpsTpbhEEA8hL965eQWQNmzelmEYgBAAsX9zk8QFsCd+XKCHsMJwAnSDG+YawDA/obYfaC8CcByKoGmPtnSPyRQaQ2knxDAPvQXlFEq+j+USx6TV6sVwIFjynoMixhARoHnrQkdEsCfH70Afi4UwBSWE+KSOOa/J1LE6KP6FMBGnu5xe1UCwFd3QP6+OwZA/lR40eJw1D/qMs0rgBUPwAQjh/h2WhtA+B4d+/3TFcANwuRc2N4hQK1AzBKFMBrAdl4Y4xYxFsDYDehTdc70P/AnG7FImO8/2vJW1/4TGMA7eQGRrrInQPYUnx+aDDNA7m8kHkAILkCF1khN/igGQHPJD38aRBTAAizkQwGbFcCZKk4JtGL4vzibiC2ksRDAd6OD2P4/87+8/gAoCt0IwM+c9dcqTyZAbl8xmOy8/T9OrG3/rdwRwOSom45E8hpAnO1x+7SPG8DOLfHhfssYwBQxeMfhE/U/0YJOtH1v8z9htMMiTEL0v8+neKISwydAvXtyeV7ZHMDI/tqm6+kIwJjgV9VLby5AeuklyzAgLUAiUF051PgFwOEBIBzY4fM/VoMxG+fmAkDAIpJlDkoWQOVMmYwHMxnAByhM1r16GMBEv7alRLkHwL+XNtwJFzBALdsy2RzEF8C0bkhKPPUdwHnFUz5koipAE0+3Yh04HcChYRdIr40ZwM4rZGhokAXAftJ5qqZ5D0BcFoWVMII1QLI08A+aaBvAQMt0Ehfz47+6Od4/3N4DwPNSVtdughzAo/LACcTZGMBeyxxoqdQwQOdFGp8O7Oe/iJpgwndHBcCqL3uhehUawIymC+v00PG/MFTcWG+9/b8EZ1eFVTXhPyIHV6fhAQHAuirMQD6cCcAADVBzdK8HQPTa4X/8twRAQXnc3o2RA0ArmHiRIVgbwBQSelSy6i1AtW1k3PDBGsCjavl7vBAbQORZuxAhwCBALXvQB4N4FsBuKYoNgBHVvzW4S/+qjiRAn5/bQgL7AcCKkvWeGW77v1qiTOcrwx3AObSAP+38F8CCdgW6Cp/Vv1BoZr7hZwjAaQpPqWjWKUBMJ9HfY+APwKOjZxnvRxLAP1v4/lW4F8BEHKQTQ/UlQFj+cJWPTRTAxmp1bONO1L9dRnxK+dkSwHtVGvbsSRHAFfW8TJoCHkA2TOEr34LnP/3vnz3FvB3Aur/7yzfOqr+zYlW185krQB8OkXt3lQnA2mCoE3b3B8Dov70I1/Dpv+XnoqFcZhzAgtftquj6A0DvxTMwkFwPwJYykpcwTv8/EvNUvohf5D+2eiMHV2sFwPAlvThA9gJAs8bceCkaDMCoQ/JSUeMEQMA5y3+u5hbAAxP0soQlGkDrk/KRVTsDwOPvYmLcDvU/niXX7Z+LAEAWl/XZW4wgQJbBLf4/avi/FgtV7THn8L/4X+VnyfYHwPgsNNXqq/4/lVYB3lRtHsC57hlb7RoOwIghPUaX9+O/DMMOGP84DMAvhFI4cIIbQI6fqDZasyxAv73j5uI0A0AVG/RCypMNwDdnWAwAFyZAy9bwPAdX8j81B9WYx+IJQAnDIUCTmIg/dt+gptOkFECZVC904MYtQNbPhdziD/Q/hPor2URKHECbPzlYE9TFv6XtqIfYbC1A6WnxQViFHMA0ZKOrb9sZwPp1A8yvP/i/c5RjwH9EDsA/oW4MdHUQQEoNLsRw2BFAKeiiZ2UeF8Bh4cYI0SwfwM7NmaS5FidA9X3SvlfOH8D5K+WD+J8hQHKMPqckIQJAiXJfVeURCMDdxhWn50ACQKoAu3SV8AJAGYNN2Ja0+b/hRpChd0YdQOcjnf77kwtAq6Niyh+7A0DYSLU0p4gZwA25eHyJmQdAC0h6EZXQ9r8iKNUlBJwTQN/faqpiB/m/wGhNdx7VGkCPdNF59i8mQMV9CizXIBnAZcLZCrNzEEC1Y4O27UsRQGmvE9gJ2hnAVJ3APJO6wz9R3/aBCI0bwGtrzb7Fauu/sEog/+JEBMDpqv3ABxYawONjEiV2UxfAj1LARqyDDkA4JsQ2FLQQwAsiRHfimP8/x3K+TAqTAMDgDDRBzD44QNvIr+uULRfAVy8Heb+jAkCtNnHRRoIAQMsaUxjBvBnA6Mr291GJBMBEmGQgnE8PwHP7QlFChBzAxggwdp278T9+iR1DfqIMQLIX1y/JHj1AEUyp5QEYGMBCEZGOFY/+Pz3iqNYDVRbAjhqieUl8HcDStmoI9AsZwGMJhNKUABlAZSIw6qmZEsCafCY+qSX7P4Yv2A9hDgDABR05v6LuBcCMvcAgsTUHwGgfVwYFmwrAb33MrnbkEMCu8j+tWDEgwM/ZZnkWBhJAtzP1xWTjDcDDM6A4StT0P+HtgYWgqhJAoxsd0L9/C0AVMFt+/eIJQOsmXNFQOA3AHtkqS+R1sL8riJiMYJcgQIJuD1Hc8B/A/0i73evwFMA9pKYhvlsWwEq2LQxgwRDAViEr03QT/b+GDoZwRVMMwJ7WAMzJ7BfAfg5AfCLLFcAg5Fb1a6MbwIySwL8ZTPm/J5qF/S5iG0BBot2qP+Pzv+v/XegCfidAUDa2ORIMIMAdb6FTJjcCwMGt57AeVxzAU/NX5hfpEMAj3I4kjrIbwOkcZKOBgAHASzbKO9R6HcAcftRFr8EeQCCJjxEV5xJATYpUFMudLkBYjtBGUaMWwBdoORtbQhBACXJ+RMd7LEC+VH1/FVInQFlWyv+S2yVAZe9yqgrmEMAN41RzfeQUwGwd37Aza+S/uGvdsIgJEUDjSAtCVq0OQHz7KyeXJuW/TlzjdTweFMCCx51njVUdwA8kf25s1A3AOf7uJqz5HMANiu2+A2QUQGPmQ4yWIQpAUa2SM64RJEC/pwR1YRsSQBo3yVb+NRfAol49opzDAMAGGF+ICdsVwGvuxCu7jh/AJY0oBt4nHMDB7WSB2qsEQJzussJT4gXAIAofmVQNA0D269rCiuEBwGdrbp9WWhXAULvlv5deC8AO2zXUD3kHwL6QGXkDRg9Aa8B4Srdv8j+l+J57GqbxPxiR/j+avhfAbxGpsGP/A0CPg+CCTGYfwJl4detjlh5ASa5iLObnHcCPQRgMjVEUwMU5+MVjBhjAejiCt573G8B1Sh9kEn0CwHt7K9M0qhvAl00EC155HcDQldXilSQRwApBbSDfgvC/AnbjYOkpFMC+xMMEU88UwC9lfsyLdwrAwFe1X3cDIMBArbjpSmAJwFPCfLwiFAhAYdyepez5EMDyrG1zQW4GwLHUTuWAwfk/RqfpWsUI+L8eNXcQ8d4awLTqWIAoM/O/jt3fbbcMH8ASmrHd/Zzrv/jg93lrwxjApN207ZLNLEBmLC2tS9YTwBtLqXllDCDAQaO0Yh5YMkC5sJUiX5EVwB/d51PyAyNADKaMfy2BAEDFBAyRKEkMwGN+Xx2TYhrAksjpEKPIIkDvqlKAOwT1P6vU136QJOI/isTQJk2B+j9bwqumER/jv8ABGTyRbRbAwJe5Yvdu9T9/0ry6F3INwEaov5yZsdS/UC86LB3dE8Cawxa6HazgPzyRkyqn3t4/pAtV4UydD8Bn4LcVorkFQHlIwNdPUB7AULDcGZnsEMC06Z0qY0UGwBoIJeGnnCZAkLKLQ2ghA0AwVmVOXd4GQEQyleH9BPk/At1R1ErL1j/ig4kKFRscQPAoV7GMEg/AMdQOMVYDDMB8HkedxIAZwHhP6BTbofe/o2eYMQoeA8DADy5szXkDQOLDbeFe3/U/hfEhO9Zz/L9cNLjlOHkVwKv3GdtJIDBAnfuiqHJFEMAC4aZAjekSwLcw5cCbnx/ANKYoSxQdEsBj953j0+D9vz78XxSrqx/AKUWWlcyUAMCPeOST7OAiQA7E3gk6wyRA6u1pCvrAFkBJ5LvWylEYwJcBg6EDtiZAERNyFN3XCsCxx+CR6R8VQLhU+z0Vpv8/7PpJlFR7C0DB3vwceFgLQB+QliY6MxZA0ev7ZRUwtD/VNsV0F6AewIIlqvTRzvg/1kupXgzhIkC5B0qRPjkaQPDcJEbwHg3AD/tvvUpw+7+QjqwChBYfwBTMPy61Tuu/bsqjHXEt9T/0fjGYoOr/v25A/8YfwxJABesYf/szFsAJO3g7d7odwGegv0JKoC1AWRONOmg4JEB+Gz8joucMQPZH4IeVLCLAU+zN8BwIG8B7ymCfjKcDQAQx02Z7TgXAtu+GL+l2JUAPW5EctmcAQKvpECmVVx3AIyFDvKXBB8AD2MIuIM0YwEhEXnspFPU/MvQMfFZkGcDbUsx1snsSwMLhWByK3yJAf3xumkPNHkDyZt8O6+a5v52H8irQggDAFizH79+6BUB265VWoaQBwL4KQKQ5QPu/TnIpepEfEUC6+rpebWr+v7+zJtm+6BvA2e4dvsqPC0BkdSPvNvMbwFDX9pi7rgxA/2QXEZIQ4r9HzRbyohM2QJ3sMgHCfRvAKBuUtouEEsAyAUj2MbgQwPAOclnK8BNAxHrZD772EsBzdPNNyPjsv1ArLqovHQLAQsbwJ0SP8L8kPtduXHMKwNYYxKkPMxHA8tsycnesG8D0/JOH9Yb4v4oUoKc65eW/VTXeR8WQ/z97W/rhZxwhQKYNTGDCOxnAmWtohLdGIEC6wv3ffT8fwGr6pcxMOh/AUwnyXHU36D+CApTrp6IaQASagOioKB/AeqCzqMit4b+XZHEOtpIRwBjLgRoWcQRAa6m6RIUBFcBEYB77i/Puv0T0PLebaRfAAryhvkcsIED/4ejhIxkzQDNvsZSSlhDAUg1UyO5OD8CsDOQD9SQQwJ/Ar57Obvw/ULyBXUIRHsC6o6U1hnzaPxf22SPjXylAqtsA6XZiEEAcyokGyNQtQIyyxuZ9thJA+q8FuVW1FUC0EACro84AQC+JcyCb+RJAWLmTVy8CIMBcr67abB3zvx+MfDo9CBFA+DCSt1NsHkDV0jrydlkRwCWFfFtOS2g/4n5OiIOLJUAwslL5jH/hv1LgQPgXDve/ZMqJ+djkHsBIdg0q3NPWP13pjCCGrQdAxeRirFtXGkAgfXJGY6Pbv0G8kIXmaLI/cJEWm66JGkC6CqLy8ZAmQKb1ayUD7hnA+ceBGU+UK0Bnp+Toqs/2v8aUE0WyyAtAkgEnBEAKAEBaf5O1Kc0HwENPiuDNxvM/bboMBdCcKUB3aDWnr+gYwAtt3xwx0SJArJN1wF3JAEDqM2sWdEHbPwS7aEt8ghTA187aS/dwK0CvOwVayIQGwLNDJwjYzCVAAl/yZk1q4T+ZnavKxrMRwGcBNoLkZhrAqHfKqCp43b9uH7mcVWAVwH6DupZ0OR5AVxyNIrk2HcAWEwBJ8FIoQIqVTqSBUBnAXEsQHpZYA8CFkq74cyMmQHJ4YjjlhRdA9+HZXnwpFsC3d7m9DggiQOgCGV/mihPAlcsDnmIZAEDoJqMvcAIHwO9gTNbc4BjAkIEM1m90C0BXZ9imGkoawE5zzQ9i+ABAz6sNsvKuGcAIiV20aab+P4mMbxWEThzAHX3S+MYFG8DPt7wbuHEZwM/am4K2HxlApKMOvpDGCsB105gvyIkYwArToZDUiuk/8NDfRNpMF8ArZnjBrqYVwBlgrDnZQRRA8320pW+ByD+G4iJNl3IFwGn8z09why9ANtX6N7k98L8ssmyVdHcPQOmvsgV8kRVAijQv8ei91z+23S0wczYdwKHczKzCfRdAYZkZkIUTHsCPinnCYW0oQC0g5bBIuva/NR5JKRn3DkC6whxM4WgSwDHxYbWxsRzAxVtpmXH4EsBnL9ZN+w/yv6H5DNvHGr0/fI/anAETGMD/STfQXU31v93SqvOYWyZAzON78fnzJEDMsBlB7tjpP7ip6o8rVPY/2dgKEAhu9T9Y768Xa28uQEn8qGQDkQrAFq29YwkvFEABuq1ugyv0v8QpvmrAqQPA4Oo9It9KFUBuJZzL1KkFwGpqeyC/MgZAg0p65n5CGsAcT0EQYBUfwH1hZaPg4CZAeWUIpHaG8b8Yyq2tuxDrv8uzwZxuthnAYyzBhKWBGMA898wLRGAJwNFyqblkDwbAc9agiqMCE0DpwMRmzPMyQJjk+e/0/ANAnQYsQRNEEcAkY3jDWaUewCb1N6bz4BnA7mQBqRuwEsC84eQWLi/hP8PDeC5zgQzAdEtwz71jFMAjYmVs/7sMwFwc67sF2e+//K5YnaaAAcBgOep5DyvkP/bvj+VVIQLAUnusfkpmGcA99xteAiguQA8oqzLlDA5AgfrQB0dGGEA/CiWPM8Pyv80+u6c47BrAkDp4tnxBGsBdeLllDVoawB7dxE3kARjAgedczmId+b8Jj5YRhSEWwFIzBp6sLRTA8fkSGIUVJUBiYDxgHLUewEvDQ3J3SBXAkLKAwfcuFMB6Pdf0xQ4WwNODwIxLyQTADsXYAkb+LkBqqioQMP/kPy+a07PpmQFA4MBKMRYeEMAOHg9ikgkEQPA+9nL3DD1AEA8Xh6rdEMCgAe+G99jev32miwLMtAvAKh/fiplCGMA2svqpoS0fwFYaAfpP/SdAw3eWJP/HHsDk23+CST4jQKRv4IyX8hdAgVFysrTfGsCGwK6gCvHrPxeJD2ypohDAeR4g5jV8JEBS41JRd8cEwP83oTxmzgPAXS1GNwjLFcARQMuDFh4dQO/PGkhtgBZAaC2vR9eSDcBsdAXOssIdwISiajp8uSDAsm7czW3VFMBaTLeBm2wPQKrt/6mRovq/gbLOYWYMGcDhyST6oCgPwLFnjXn6ChzAbUlIQ9UEtz+Ybb2dB90bwLQzMs02EwtA0dMm6tSQ8D9kycP7VkYlQNOEPzwJnh3AjvcTT2cgGMAw2PFtKNcgQMOoIkf0CRbARrkUnncV8z9xfgoBD7IFwK9L7ctuFRPABF3hE+MmGMAe4DBtV+fzv6uMhzRWGhPANx7qGPbg4b9mn/pMTMUrQMlQsGGgfgvA5oCRLB7gEcCqk8V9O6sSwFqGnGPnMx/AkVSfSbgThj8O/CfvYu/4P/FLMlTdbxNAtMyo+oeb6b+jtP3quAMLQFRX9Elrnh5AZtudicdmGECs1m9ry1QNwAOIZQONk/E/D0uQtISBH8AKoB79QgP3vxl86uViid6/NgQ4OVn5GkBCAGZvyXwOwO7BZAbLKfw/lFmsQ9/TFsBhPLpuT0IZQAHz2Qv6WhzAsydVQPyvEUC8ut+re58bwLhn/iTX9vA/6WWR6/G5FcDrCTe4IbghQAowP/f2hRDA9uz4ySqU6j/J4f1T7/AIwH3smAh9MCRA5nVG+aguGkAO20qL2EEJwACWqVUUpAzAbd8dDB2h5T/FIfy9Dh6aP6595l/kPAPAOJuJz0I0FsBeLDYkZGYUwK0SYSU97B/AQkxqueKkM0AmWfAeA+D+P+3nmapefBjA+D/KEqkP078t1sfIkXwwQFUgmmPAMxJAHp72manzG8AdsEnwxsobQJUwuI+xJRnAfIRVSLpc8D9wZFXnkRDzPwF8ZSo/Cx5AIt5Imz7jEcDEaBGPAPYRwLDTu98NhhFACtjfdyd6E0Advu+vlGP4P6gmrGaDLQtAZSWxgia6HcBE8ao6NKgDQJFUL8Djah7ASLVFOETEJEAnn/p+TR70vxbshIWDEB7A/npTbKBcur/u4K9H7IgVwG4DJ1txKek/2Ss8RgNMHkA1vBZ5pwgGQLgrrD2O6BLA+47QxRr7BsCfF1BtAXf0P0tCJGllhhHAsmCKKrGWFUAUjfTrGx02QG8gKxyEKSDAnnMeUP/t6r9FSXX61E4QQI+AFBdhNQ9ACr3cy/vGA0BVYxHa1VPLvwJVDvSQSwrAljX6xV/Gs7/WjeCkIdwdwLJwtHXmpQ7AapMigY0U9D8Y2piVU8EYwD+m8oaPYxpAejnG5LsVGsDoyKCoiXwOQJEKHipPXwlAqBCdhgSY+L8o66kVzkwdwMlJtIjQSgBAuzJVw8SkCMBfMVOC0DkuQKg886erk+u/TbOTr4iDCUBqZEuj13oNQEeVQvYZ4hLARl31pUIxAMDUx9C0n5QgQECUtAKhhAvAg9tlyxWnEsCypB1cnnvBP7oechd/EhnArVpQLwXCdb8dy5PyGI8QQN5yPno2BRVABbo5WJ44AcB/I/ugQLgLQJMPM5iFQBvAGRTyw9QmF8BUn7qTyNj3vyod5VaZoeQ/GXpAd9yyCkA3s/tCYlMJwAZ/Pli3GhhAj00niiphI0DDR8EyYwcPwKKUfcW9KAVAiwvSY57MH8CCcxHbRvUfQLPcpPXrzh/Aknb1FVAsCcD77VusLXYDwLfDbHrYch3ASiifQZHuC8CoxTOuQcYaQB+tLaRSURDAvMjOYXYa4r/5QwVKZDIcwHshA+YKrRHA62rDtjqfGsA8XvCSxv0tQN0svUrdtyFA7cff06uDAMBkhJG2e/4yQLCU8ow2lA7AodKzlcbzI0AfgJeij5AbwAOl2ZcUkxvAYBVXwh2IAUCa9X+ZsB7rv/+tVz3VszRAlYcyru2QMkDvI2zNXTn+v6oc2fUMTxzAtiuQ3DYdA0C5zlqXDk4HQK8KhRw+cgLAlXwyD5RtBkC1OA7ISL4aQB9ynOujbxbA5xrs3/tH6b9UtiQvraMUQGnXk7RO1BdAjyDCov2AIkCjYHLcK5YcwKFrNEVn0xVAAAfNbvE4K0DjKzpkN4QCwCnJVbpwoh7A2kVlcpm2FEDn7grfgLsDwHxUAaWwbRTAvmM68yYKGMDqI/U4rx8TwCJ465LPzBbArCmLds2M5r8APnkTU0EbQDaVXaT41B3AUiXro9waDsCfwjB9dJGdv9HbLUSCxxLApjcAwt/rC0AhX177anwjQOG4znKbfhHAnwSJreeyCcCYav+kAkcPwBQfHX+vaAxAMyug5vbeAMAYS68C44Dmv7hH5ERIBCDAWFjSFdBAEUCklg4JhsIgwCsmrn/BR/e/yUltU7TpDcBm+AkMpu8kQG+xU3AUdhHAk+4w8FCSHsAk0/dcvxWzv1f2Oi2xPArAml8r1C+fIMAqSo6c6K0ZwMyMOrrKjPQ//tq4jGVP4793OCyFkZ0SwEq45qKygcU/YEPfm7riEsCqAlYwZOsQQK+z4DVgEds/f3NNhAxgJkDLPbn3UGXnP5JzCzxB598/2DEJ897B9T/aAWPeKVrSP3kWbXXzwBzAGDLvTnV64D/pknRihIP5PzDi/H24a8U/2wDlFlpADcAIjNSG+acaQGQgkborzwxA93dsr1upB8C88xomZgUfwIMtL/4AbQJAcdK0M/28AcB4LKpM8T4ZwII6Rs9JlxnAOLHTyrUH3L/J0w3cI+UewBPU4S+3Hcu/tkFYCEwqHsC+snnwlRsEwBSZb9jqVPi/BfOxj7J5E8C8AqLcBVHQv30ZLOCJ/hfAzChNEkGUJUAFAzUjAfALwCr4Ap0xiuo/tRTSriOvKkBQQqWtqb8XwApcb1DzXxDAKF3hVme9G0BgzSG+eUAgQByYg9/YAhrAEf/UWbGwFsDh1rn5vJMCwNTFp0nosgvAP4GpaoOkMUBVTSdiu/QdwAydwqjkceG/OtDnySW3FMCl1p/4AFcCwOcjR+jdOg3AO015IkH5F8A2b+2FqVX8P+ePGXHRIiZA/GEYa6ngD8DRb8/NM0YSwJCwju2A3RHAzBDlG2cF3z//ZPeFzB/jv+uR+bH1ahvAEB4gm3I7DMDvQGsLJW0CwKQJ8URmwgHAjS9mdXCENEA+hA8FHj73P/YEWJLKJQ/AohI55BbpEkBuh1xduJ3HP5tqJBk8AAbA2CMUt4HnIMDbA5PLNsIUQDTSM0Ux3wPA/9gn2XTX+r+wnZnFetISwKi9PYKZKRxAW64IubykCcDd78qZPXccwDc3UUFbDec/2utJc/FPL0AiG/J8BLMewHpNWC6y6hzAbWKyNXVyGsAyNhzGK2ASwEC6jZWta9A/4rgnVPPa3r+jvNjRVAcJQOIWKL21Tfe/ROEqs7yTqz8YGEpeK9UGwNWWScIZEgdAybboU4jpE0AxyTSScMkBwGUd/0AgdSBAjrD52zkf+L++l64R79v/v5lOsCxZc/e/eMHoZ2FJD8AmyGuIbpENwJuu/6nugQ3A57QPDjHuKUCQ6O2wOTgXQIUiOO73XiFAp7EcEoqU6D+ETWa4rxz6P6MwykyzhAHARTccsIPVFMDpwxDJfWwAQPk6v9JuZ/g/kPi0r6ujKEDJREpr5oMKwO5hELih3RPAHD6Vkut0GkCQ0oPvPrQPQEKb8Z0yohzA573p9PSe9j/VNqKZABARwMqOTBDz4RlAFnOa+/WsC8AJRNyT5yMcwAubfZDyRyFAFqL17Rur9r8kk9HMCrIyQMAhv4ZwlRPAVoYkZ5zACsAyTFSEGgMDwBxMYfIBNRJAr7O2f9ohE8BZwOojOx4VwAYTBkiPXe+/fXXWrBvYFcDZunzo1Wf3P7Hnpb3JYhlAm7s8b7cK8T+wVs/J4tsbwIDxYSWeFDFA/BtXI4XU/7/e/Svs6bkCQBmFaUgjIglAVI7x6QCRJ0ACYvan+WUbQJC4WCP60R7AWcmDj3VaHMCKorq99CIlQLMQfEOFzh7A8MjoKu31NECNFNiXZi8TwG49aZNw0BJAEIOzYQeh0b9fnVnrbd8gQFxeuaM9vBjAMy4V6pBN4T8tCLKgbVkZwAxmwisjyBpAJOoGcQkZAsBO7U1BUOoHQCrKBNTs9fs/LwHKjSyN47/Fuy5JcT0VwNb0R+jJDf6/2EO75y+V6z+VHfq51hAgwPxzr0PluBRArAHVFwFL4r/mjui6kJ0VwC8eM8hpWiDAqXbhQH6K9L/CA3RkGIP2vzg0GjpRLyFA1QDyJmikMUABG4Aj1y4ZwL0hNiAoIjFAkJHmTOCvDkB3wrjD6aocwCL2DXTQ2RLAeMaqCne96L/Sg0oZNhwKQNAiWy97WBzA+iKRGv7zCkAxC+XG2T4oQHFmkc4QzCRAbR/YzNs8HMCYyL3HL/gPQGaniFPBzQ9AgGrLama0BEDu1X2T3jHsv3fXRvEEUCDAjB3yErzWKUC5LcHtG6Div26/W+ncmQpAVvxA8SzxFUAFc44e+podwL6iXydI0ydA2yX+YJTkG8Auib6BZG0gwPqMfYfgnuQ/9uGsXC5bAkByRaLSPb0DQA1CphopRDRA9UgPLuHsAcBskZK/qFEbwDhE/BeLRSFAmgwjdfsB+D/khmjq9SkXwHAZBqDvmdM/fmQRTgDUB8ADtpQw9p3mPwfCtbQmdRLAODBqTw5cFkDj9uo01QYdwI2hl1z/LBjATXsGIdks+j8NRDHvgNwSwMcg6JOpggjA3ogQcIXKF8Co0Pcgjkn1P6WRfaoNMx/AH9f3pl36GMB4P2qEpfUPwHIBo80aARnAGjBSoUrmCsB2+X83JW0IwHMNzHeLazBAS40I90miBkC6X2F2WIUoQGXz4/LtDO4/BykZ83QaH8DJ4QTS2RAXwBRLDW/G+vU//YEJoQGvHsCA6CTuBqoUwIL75u8wyQ/AqMDFwU9BFMCfgfmey3IawDbZy1RCzxnAg/T4wnvr9r92u6iy4xQGwGPB5PWQbgtAiDNO5eQwF8DADQhdsqG9v6YAPNKRHQhA2WeJvd1kF8DKKJrj/hrivwAxWfQhdR7AJZgaOfc9IMAXh4MGeUwkQCkdjgbG3B3AXEmPJ4oQ9b9ZRE/Np+YKwBMrnDz8niNAS07+J33G3L8u5aynmd0WwH9yGLGM2TRAIGEhifzLCMDxspcDPfsMwJ6vjdYJI76/1TR3ZC0nEMBBG1agArfJv8ifOdWhexnAVJ3WWbIJFkB5DHz7HycSwNrgUqddiArAwxQ0GmkH/r9GVRksBezXv6VnQsKqDBNAzkzgbHDZDcD62YwrVSHovx6I5spssgnAHZ6W4qvPEcC00HcxFOocQCBUFOPaUw9AzIVLAwbM/j/OnG0faXcRwBexbLo51wRA+WPwAtcEFEC01d6iMe/Rv5fEWYExIgnAAu0wQoiuBkBGgWp6SCATwPi5F9KUpKS/Ab5L5aWtJUC/Ytk7j6bmvyarsDRl7hPARAnGVmG/+b/+BdgRwNkQQEizSwisjRTAt0Qw2TjnG0Ac3fAZLeLYPxAK/9aznhPArnwkINMuHcBCb7CT09odwOj85lorQeu/1iF8MwRMBMCN8eExcicfwH03HLZmRgzAowlL5kvFEcD3+581LBgGwL1utWNTQiJAlH6Rx1zDGcAOS7Db5hwfwEKB/1ch9co/KpzI1Q5bE8AnYmzdlucFQHQDmEz/2hvAHKI0Mh9vBcBrImZCvaQFQLSU78Kj4x3AraZV0tKbGMBM2q0f98IAwIeWGW42nQPAeyDBm/xiF0B/9tCnSQ8OwKzV4z6bVB7AJsECIHt8GMAMeIG67LQMwKGU9u1UgBRARBsNIUpPAMCtFVAlAfYPwG297TZcOdS/Y6XOIjAZ87+pi8EvBMsbwH7Y5grTkCDAuGl2iS9XEsAe5cNmgzH6v+Xk3DEETAHAUuwI/azkAsC2CCsJ+zMPQCHokizyeBFASUpEKoiXA0AQnYBjX5UdwOSXIKNGZBBA3PRJ7yxM5T/nL9J3zHcbQBWltUY0tyDA0C/xF3ygGcBrguN+OYQCwIhAxIy9bRHAtFZF9HVK/j9PQHpN4d8WQLF8A5v4ixdAjntZmaNS9L/M4HsTAxK9vy+8LHCzKBzAawRGXpduGUCLQwWFxvQOwIxsdn6M1hTAbX+CgboNFcD69okBUuEFQK5lKzMhahnAdUV//j1yFUC0GR+89wUQQOWNCxyfZBPARCuAfOfbFMAIqpzgM27QvyoBD7vq/CZAtpGzNxVFFsDiP34soKoVQJqwveM5ZQ7AvRQ+ueTP6j8ZSzUxsnsWwCWjzTzQkh/A01iwXQoN7j9GcrK1COkTQKhppAsDcRzAl4TsUxhFHMC22ubdtpcUwE+GtPY7OgVA9//3N+6Dwb95QmQTKAEKwLVfBJbp5xlAEqpL2vpP2j8vCgqpAu4KQPbr7Egg+wRAhwG9taRgB8CIbJ47mJsdwBKsZBhxNwLAU+jBgivJKUDTM+M/qIVzP3UjfPCuE+i/Vjtu5Mf4CsBv/I9W3PcVwPIPkkEDHgLAUFPGSeHpGcB2yfgP9ewXwI+5cV4zCSDAOnAvcrgu5T/0X84xI1TXPxd/979NIBpA4Vvh2l2wH8AQdwtDeMoUwBkgqodJRhPAOhrzU0h8BUDnPvP3KmUUwCGINPAr1BJAZwX5uqmu/D9I83BHXncbwES/allcJRHA3cZu6gOAGsBf35o8vIIMwMbvFNL7+R5A2OqW/b2JHsAQh0cEVLTxP98WLVkP3xTAmjsz8Gg9/b86aGEAmgUgwHm5LJGM9BHAcuDlKZ72IMBsnoQGG0MWwLCkIHAUQAnAql7qRX4JE0AUjRygYOwVQFMPFyq/rR/AJkjP27ka5r/KhqyUiIf0v9T6egQRghFAOGfhGhMsHUAX1gi8UDUQwFpMnQLU1RxAB71wEcbRKUCEjUb5VNgYwEgbX2sguAPAmC2d7hRxF0AzZQrkVg8TwG55vspbugJA4dn0/a01GsCqcEg9T+ziv7EcvnhSdRXAnlqNDKEqH0Bv4vxcDowWwJ6CgsGYvBvAkrBS6RPUGsBv7hxwWc/0Pw9WA4CmtBDAApQj5P2LBsAPFJDPnEgEQDPmOqvA6RHAeQPfJ5SmH8Agaj4vAeoQwHbUKuMKRAvAPqGw/+wuAsBEY4Tylg0LwHpmb68/cR/Ab4YBVkf19j9snjTijvUUQLhgP2wkOS5A8YAClPS5B0BlMNt+yvYKwDbNFX2zd/q/DRQiFAE2GMAIDPVqrG4DwOTEQcP9e94/4Nn1G/XfCMB+SB0MDrgXwMBCd2tQWRnAopcNum3tIMASjOzkTmQJwMm7W/S2RxxA4wQaQO428b/C8nyIfJEDwH5d0MwrNwvAPvX9y5sSG8By8vHwZMbbv0Ju80fDj+e/j9gbRFZ/HMCoFUmZvaMJwP7hvjRvn/4/Iw6tBotu8z972UJWpo0cQILkUCHTSPy/YJ06USDXDkAjqVCFRDYCQE0SCBVLVRTAwIHdDNvAEcD8ntQe3vnyPyEUdyELKcw/8G/g9ZzGI0A6knKq4v/SP76+cr9GXALAT2qRHXu9DMAJX3ZsZAYXwH+7kEBTcALAy2uAgZ+dFMA2MtQNVATsP0PANHhohDlA5iG9vwoJ77+Y3FPPZWoRwLXFwHV+ihbAKJMxZxla6z+yN9aoBPwHwM/avxiRLi5ATdehUD/dFcDdKcKJPZgbwOLF1ped8BHAD3eGCXeK9b83kNsm0wofwApgwAD0qB/AAmz19Dc4EsD3QfWl0tbJP/OC34KcIfm/KhWfASmm2b8coG8v5XoNwMEGvG7iYhHAgqmcbbQILECL9mJbQnkbwNyd0c0H7O+/Nzn408pnBsDXXczTUIIWQAx9W3jirug/NJMhKYc2/786YhpZEE7bPy06IhmfLR1AAPEEYewy/r9BUMqGmE0MQM008XlhbR/AC41upC4XIMBYlPGlMkgOwI11bYmhohNA9sU4clUz8b/bJPQm+6UgQEE14SM+0BNAHCC4vNIoGkDONGAz3ygXQCRmBZmAoSBAJNZFmJp1CsAZ27D+YigiQMzadAjKchDAmSagY7rLAsBO5srZwV0TwMSXpMIMQRjA+ORWhTsHBkBFLIWxL48JQEYBnxt+ChdAYrEHmt/GHMAn49gTBL37v3voHqOdlwbAoukjn3XRAUBjIws+k6QSwHv7Yqk5pQLAh8K6Q4giCUDdgW0iRgsQwJE2mqXB9BHAQ1Q4mnq4EsCfd2yErZLyP3R3q6jX1xTAEvO7dyPuGUAnuH6AHcgDwGIt2nkHCQ5Alv4TLA0RF0AFIxCIA0kewDZVKnC2SCdAXuZDsygmDMAac7km5zAPwBXDXccjq/C/CDbmfKv3FMChn8azXaoNQDrtIxEmthjAWIe+VC4e/z/G/cEOafvvvzHglN7yLgXAf1wDDzeD6T+jmMS2WLwjQKUal38/BR3Aic8K9dR4IEC/ofWmqmrLv9jAZOXz1h1A3H0vdj1TCMAQwpcNhLooQOnPcUOxDg/AcrEf/N7AHsAdHD3/qWoGwEDZakA9dAHAgsaWNdZWAkBCs7Fz7tH1vwk21g0n3BnAyGKYNlb5AUAoxFh+IvIGwGQKt9gJvci/mjYvUI+l6b93BZCl2ngBQPiZslwG8vK/3s0/DvJn4L/IOV9ZylIVwGKbMoo0Vfw/AIlUlL6jHMDg78RO3Vv0vyY018SjNxdAaqgJ2dydGEDGpHMpWhwCwO8/tKpPAwVAZLSOkHRZA8BEm2LP+LwHwM4pjs/2oB3AYlEMQKem/L/meKOC/V4ewCzjWfBBfQvAbgfRVVzWG8D8S/cIu90xQJuc/jhJ/hzA1dHnlZHDAcCBoP/KQM4TQNuSlVMD7gVAEtWT5aeJ2D/rGj5Cow8TQOJTDxcu/QLAmF2ZatWt/j+IYFkvuLIqQFFbAuxiMh7AY4qqIfbeBcBcMcXzt8IewIvtOjw/1hJA2ydkWCpbCMBVXm6fR5Lwv/wRiNehSw1A6ruokhY/A8C/MkxLuBcYwPh2ZKoKrhTAaDK2OPWsC8BW5wQAGerwv27o5LiXtB3Af5FLXklDBECzobC/98AlQFF6mhznQBbAVePUrAq+I0BDJTkCBP4gQP8/a9jo8BHAegQs706MI0CNH9HHbYEKwMkA78gvHSBACvOkmHG+FMCNFj1JtbPlv6GUNOxFoiVAp+qrUoD2+L8AbUjYNxQHwFoNUfKvWMm/fYuE/NdGMUA/ksLjFR4WwD7rL5asNAvA5ISJlTHwDMBsjeYCKhkNQHoM5nVfh/+/Fddjdmrj9b8F9UIwkEwgQPNlUaUehRBAqiadAjnaE8CUdEXdbHQWwBufCbF6fxrAa7i6lTmJ+z/V14/dkiklQEAYD/UccgjAwAMEqZovFcBnna+BaVQIQJw5ktqC7xfAR6lCj/yzF0BvRvrHxqgRwF5jeNbJZSdACDdHawnPBkBdNIOx3wkIwNQNXdGEUx7Aid0dIxFtxz8YGrKtLCX+P0r+IyFqYNG/e+61H0/LCMCTNjwqnlowQFqNFJsaqQJABKnXWvKhDMDkrTNsaG8gwJ2aecO/BhPA4gvtLWhY/z//LwDpf8kQQD8RP4uK2BDA2xXMIt8tCsA15mQ8MIssQJBouiVduRjASEOFL8PGHMDy/DCPKSgfwJ/KKVHj3fM/yb/fnTXTG8DwyZwcpLwTwB+z4QvZheq/X49TkVzVGMCi82HKWvbRvzuEtGUxURrAB+kl/2c7EED3McLEwuUjQF4qI2Po4f+/twGjHr0++L+Z4ofGyC8MwD2osQ27rgVAInMvUg+B1r+C2nvaokUOwNhF6Rym8xDAKDMnZX+7HEAwGCObYvGiv71FiwzaghDA2k3on4DoDMDnqUREg9EDwKR+7Sbc/BnAawtvcEvcB8A0KtHAkoALwBw4MHqMB/W/ziI0Ju3T2T/KSj0DTu0UQN6neyVMdx/AmTGsGJ4+IcDrHE0lSCEBwAJ0E/Rw1wjATieB+XA2L0Cn06PajTPgv3NVZRXxAxDAx5V/+hf7AMByPqOZjPoYwAB7/k32qRjAUSNntlVFAEC3ot+k6bwZwDvlhzAcXC1AvGOFz/x4EcB+jw87lMgZwGA5fnlhGwHAztK6cMy8BUD5/g6TPLwbwEtiKsJZWxlAgBJCyWwNyD9lPcKqRensvyPIu3jbjDlA+PDMJ7tm/7/MeWpsyMkNwJ3FAztuDCDAjxQ92JFNJ0CziWfkMksMwJuibxAa0xbA/65g+AUOmr+yF5DrgbMHwFW4ELfqrgzAnceR873x5j/1huvH8NAJwIS9wIZjc/u/ovn20ZkTAEAOgihV+1EbwM/x2xY7fxjArGzraUxsBsA3IPmatiQcwCR0AgHbLiDAeQkCZ9+sGkBkd/8Q5BUHwGhxJ9XiOeQ/w/xv26HxHsBntVdYP8Lyv8Za9M36Gx/ATEL/QkcbEsAy3y9fAuEUwLw6N2ZMjhPAV9EVYCltG0CC4ar66NULwPC36P5HqQDAVW18BP5OCEBodosKnCoSwOJpH066ORNATLvlA0SKN0ClQbYhSNsKwNeGnlx5HhXASpK3QhJm+T92uZTQHScUQLl0IdKBwBHARXm+JK8N5790RVADuW36vy7BwApyBtE/wjGSMfMIIMB4FWxSnVIUwM8iQ7TzJuw/MxOe8VzjBMD+BVoW9c4OQC1BMTIz5CVAXJVjaIvEDMAR0DnK1UIUQFJ12rByaf+/ky+oUoBhAECqtfcVmYotQC41cAZNiAfAcgJDP5+N4b9zFJe/2Kr4P9/hsyOKBzBA4t9R/tCT8j8qnBM3GTYhQJUj1DkdIxfAy1bl1YoJBcCZhfA6+t0EwK7Zcp0g8xBAlBfUKTM497+2s3npaPAjQEKpMaT1FA5AWvVDCY6rBEC6PX8K4P0aQG8kiR86WhXAFRFEqUoHEMBZq0xsXqMHwG4UtgtI+R5AdpcbDqOEHMC6gTiKI3YTwK6lUZVLhfa/1kPdFXCgBsAGRrAF8qcTQA7C4ELfN9s/2/7tj4+t5j+iZBJ+gq4CQCl0HiZiHhBAma9+is3mGcBbMxjjddDyPzyRVqaQFuK/dqfUDfgYH0CbBYGD6UjGP0jSTMsGQBtABgHude0sBECecxgY3o4lQO7HuPqiWRXAlKB6j9ZW/b9lG0xRy3UVQBU3hYPyhBnAE9k0TsoG9r9a48CKrngewBLc0gxACwtAjjrNiejQHMC2RepLWu72v49X0CKt0BDA2KpdIdxvBUCpgBQrFYAwQEMVQvX63B/AYetAz3O3D0AhDoWd+58SwPQX/qLPnxfAdh2mBWMNCcDrOi6jZt0mQGP/w6JHZwjAkzO71HVBEcDIN8R3K4j+Pw1uO9EsPx3Arj5buC1+B8CMV94Xq98PQKafkmekUB5A92QQjDtpCEDFIue/SUkfwKsm5wjOSPg/wNTvDRfsFUDqOLwddiAewMhwBCoW4wNAiHQxJfBiFMB4PcOG70TiP4Vs/Yvkzw5ARUKRYv4VA8DA2kgGYnMGwL4HpB6vRBzANSvqKRHE8L8pVIlgRR0TQP4f0KnoWRvA+7c6Re1x37/I2p+LzGURwLHpQ/7/DvI/nx3vyInlH8Am14YOkhn3v09s5DhALglAzxJskeacCED28TWZsvQGQD48eMgASQbAKJ23MpkxFsA6jJXIT+zvv+yF4CsACem/s4OtN8v2E0CMWVDmWc4WwCK2yvRQmPG/Etj4G4aFEED8Uacgkd4dwB6gqYATBwtAd1D+xUTEHkC7vQapljspQIxKIfjZoBzA4ppMh7FgBcAPgd+oyHQgwBoARIwkjBFAHKviRJ0OGcBornRwjAMKwJx5KEePWhXAFpTNg3TK879QZ19ETzPsvxOkQFjeUjVA81WEWqaUGkAp2FlB+To2QAvPwP3/ixrA5SS4MxiSEcDS+Q6fyM4MwFBULLGVIA3A3JKvoh5nBUB3gOGnLNsYwGXe+NruwPC/fyfZyEvyFEDtdW63gO4uQDJZU8PKSxDA70DsHzkDGcCo6L9M3/71v0jNQP2Pa9C/TODJBtq4uj/4QTAYf9QUwCa5d2xGgxDA9Dfixb8R8r+G+D28S14UwBz6Y6ac3/G/xDbado4f+L/nR5koLHMFwEC7CeD8edQ/rJUbzfXO2D/qKWiVajUVwD7gZgaT2vu/RMzn02Wf/b+G8gPxXlMnQFV4kej1G/w/lM/Z4jVdCcBKcNbs+Uj5v6TYXljpqA/AfK1G5YOHEcDuMnqB7lQEwEWo17/rqAJAgsOYIy4QAsCiyxZoXTAQwJoIN7VdwidA/lERGeLLHsBAgEFEop0RwIiQi+BMkhDA8AO/Gh+T/7+p1rTVA1j5v4ILtqbnjRPAEt9GW5UmDEBI2VWvacspQOp9CChTaxLA4fvKNPypBsC5TIlgoMzCv6Ueh4bYfvC/gBLjxzSN/7+culIiRJblv8pIrzNYAPG/pl04Q28YJUD5Cmu9nfAOQATRxRyOXyDAwKaWWVBqE0C5RmreIFgfwDB+ltFK5AvAHiEazcQ4IMBxpykgfxf4v4Q9ZqFrsRDAq720ASolEEAB1kT+SLElQNruiocmnBrAFHrthQTWLkAKXnCy1/nvvyZuLRtWbwpAYL5bf47a3T/6sYmIVS/Vv0WbODWqrBzAoNlS52yov7+RO07sArkEQHu3m6DzdRHAS3jXnyATGMCH7cfS9oslQG4CCAWOgBfApIkqRrcmCMDN4zri/3MhwAQ5a1046AdAfzhgsZuuJ0C0MX+UYHgcwNL16AFnsvw/aE9WIAa69r8XaKIOjZ0fwClqzTyFbRZAguDgikT27L8uDbbYIjkhQCZiPEFiqx1AHJnwjgTiHMC3DZg2J08kQHw3bTwAQgLAEerc6DOnBMBrFHUOjvsZQDrAvQ8xHf+/FICutdIJFsCopxLiwBIbwG8CXv3X2BfAjbsCpPr2AcD/uoN8N3gPwJ6oIFhZ7xLAi+dXRP28IUAtU96wRmkcwNTY39ZwGOu/xIeNQFfiMEDFXaUVfjUEwETs7CB3OxpAbLlh5N8yH8BQc1/7ndT0PzSLfRbC3hLA0VX7tUsIF8C8b2sGzCMUQFRZZLrSNhRAEBio0Or2F8D5wZEsXBX3v89wZBSnZh3AqoTFF2sh/D+VghfFjhkPwHNckwsenBvAXNR4j0GvE8Bf7DpsUP8gwI7KoszlyAVAdSVoSzhsJUBSqnK6ShAFQAp1qMF97fO/p1lyLUW887/1cBc10oPrP1oHM5WenADAWJvLBVrxBcCYAAbtQ9TYvxRQwsSmjAnAXp/23k6SG8AkjZNBC8ASwCYwElvHweu/3kwFb42PHsAYHasJYefcvzAkm8xXTB/A0EEJaJq4G8C1nPCNIj0NwIAzh++DQxLAGbQO2KSG9r9SpIh9VQs0QFpkyX1ANB7AR91Uq/qUEMBh8qs4krsUwIq/btyPzgrAcr6KoSslLkDbCLaYSu3zPw+nSf4uqgbAsvtFHZLuFcA4IbzZ35r8P59xxFQzNRZANUbgK5Nm/r/BI6MgCBIEwPaUbuemVg7AJ3F25KHbHEC3Vsi550wIQGCXhou52eu/RvzX6aS9HEBmcZEeCiMgwNaAQHZAcxRA/HpB5L62G8B4UlW3w5wVwCNNplNeVAnAqyR1GOjPFkB8JAgYYTARQF0yWtGsOw/AFpz0tYQiAUBKLu93ocIUwOptN0WUa+i/ufUHqhhSIcBqHYEks1/xv4rpLGsJOx3AdnH7iv9T5z+REhDHwo8BQBrF+GOtXfE/S2OgdzbGHEDsjh4YGKQgwPznt+u50Pi/Eiqoh645GMBAqYCrzJMuQN9wO9OuMxbAUPZw5etw8T+lSO9i8/gCwEmHemdCaADAtXIPYu1tFcClvl+7/oLAv4fmqg+F8BHAbeZqdyh0FMD1wigHt2zCv0nIW+dUTxbAfwvsF0I/D8CTL1tv8LwYwNuNDRIkmBfAMgwu+pRMEMCcUsQggkIXQAXtZMSmlBHAH00v5LK6CMDc6l77kwsJwPzy9ML+68m/PElZYJLiH0AsW2ehjLoawHzT/a2Yztc/y0Hg2lBD7r8ebH6ZcA/8P67+q2WhL+0//I7qX3FRHUDl9W1eWqofwMT85XTmv/A/dxQ+q3DO/z+tmQB3MXsTwFBuggJALwXAy+J6JkaV/z+EvW8x4ZgWwCBbuOZ/QBHAHCN7YOQyDsAXd3pbDksZwKkWVRroZPM/XY3pjdF9879djh0Jpv8HQMc867Tqpg1AtcLuGa0GCMCg0VxN90cFwBbYl/+o2BFAwHAZMT8C/79PuPekTW8QQJe3Sa6k9xLAtRuACwUQ47/+zolkoIjxP+T4h165Q+Y/StnjuneLCsDQROC3neHSP2RqFzOTZNe/aNZTgxp797+e875EW+QCwJFnY5mAdgnA7Ab0yK88EcDFjFddhWQTQHL9pkdKAue/J24rW5EKHkCcD2eujcURwBOOta2+xDVAKXMDyZpmA8B8E9oQTCL9P7kN1sPr7h7AAGC0fbOQxr/OpQjr3JoQwKBkwZvZQh9AsmgYRnByEsAWHl4g1kDsP6GzRDCjDAVAWZmCChECzD9cfmgur1H2v4JIeJaV9+Y/CH6XNmSCEcDi0Hb5yBUYQPvc8jA9KgVAlggNa2VYHMBiauMIHi73v+5YBIy/wxHAfxi8jRFpHsDIHV99fisZwCA+CpWjEty/BOndyGqDCMAQMMMV2iUjQHzB5hRVXvk/JKNM0IRc8j+ARUf8ybvXv5JW8k3e7h7ACU/vRrt2CsBeYhN26ZMXwGDvCn+ROAXARzL9N3I4GsBfscwTPQ0qQG9SJrjttwtAdz400E00MkAeDAsE+pP0P3G/PGkIBCDAE6L6aaVKDkAsvPsnza8BwIo4iVC4cxDA5y3i6o8p5b80OEht8ucMwHbTx4U/4RTAYlZAyx2UE0BV94+P9xIXQPYfzFc8uAhAmf3DDKju+r+43I0RrRGgP06WXI+ocAbAjuv+pOb0EMCNmM0G7AAWwCFneASIaxLAtKI/omR78z9FS6bnbwYgwPbdDYI8M/a/njefEvriHECul9Xa5iMxQDurY/XDqxTAUSZOOIw2E0Dq64G0wsMQwPhbR7Rn5Pi/hbSC6Wop+r8q+C6PrQX7v94kHIgQquE/sAm54SDoD8C6XTo9I/0bwOe4gPuneALA3GAl5kRJ7r/9m8kF0gYPQAB1xt5fV+M/dJ/pnm0jMEDkldQ9FLj6P/5ALEToQv6/mu15fyqFGkC/EaJhQc4EwJP1VKuhihjAcOGKegAYF8DzSynCxBsSwMKGx9LlYBrALSq5JfAvC8DGwF60u+//v/M8WXvuygPAUcJ6vD43BMAL2gcqPOcewNIkOFeZOAhABANTM9QP378lyW/ICMYbwLcjnDq5FfG/bOPQ2ny69j8OMZvf/nEMQA4ZY/JZlfc/aWDYald8IEDXGGLT/jcUwJYlOK14GiZAfaJW6VfJe78uNnVHcaItQMTQWLaeaR7AxgJHXBIpGsCUuXwBIxYfwL1P46WLwhzARd9IwoAPA0CKpxqSgn0NwGcQ02zVPADAMlDf07ncCUBj2w/a/MH9v8WxGBzkIhXAAX7SPJp9AcCWIu/GByP/v+oXsx42vy9Az6YaU8++8r+p5NY2TegdQKKwhgRUUwDAAfedwiBQE8AW2chsvbDgv8S0YvQutxLA0kV9eNd7H8Cv1irDcekLQFGd4jK6hA1AhOE1AbL6+z9Hk1ZTkK4SwOkxGiECsBLAAl6wgu8dHsCRhL5vHQr6P6ih40QOgv0/xT1Bkw0qCMBfnm/enGIzQI4GFltB5hbAHUFXxRp+DECQKTp1NKn8P5+xv6JUgCBA3rFKI+9KB0Cvd04zDCoWwDVCA6CzCS5AdNWlzNeADsCEidgHVsUGQLzM/Za3CwLA9M7S4qEUDkA+9Co9mvsXQAdRKOpwIc+/7ZgIabLkK0CovDk0zRn/v1wB2Ty0ntu/5Ib+H9m/EUDIHw/bLOgewKv1HGu8ygnAvlz/Ygs1FkAN6/UQVpAnQLGqLT1puBfARXLg0P9VCsDxPPcZS8r2PzW8ade/jfC/W28lkcoDHcAieJHagHjYv0TJClEj2uW/ozmX78nSGMC3qBLNynMVwOfdgoh2MBhAGbKaoj4++7+rhCrAE1jQv1RysRID7QZAsrT2F3vfEsCYVAPj3H4vQGAkyripLf+/4N806Q4OHcAFmvTVyxkXQDnZLnGacPG/Ee6610aZ7j9YgFu6nmX9P7M5f6lOkRNAyZ4XdIG5BsAU+ezqn4MYwJfj14xaHBLANlZRdFi64D8gRETcjgsQwONVfvKPIKU/TKZMsODrEsCmZGRFQ4UBQKsB7y8mAxtAusGXViFX+z+vuS6dwkkZwLoY8JPhgBrAYBQJCP6iK0CznFP7rnkewNjkl2xAn92/2R5xSHChFMBmd6NhOigWwEQYgaXrHwXAdFDHk5yHEUAMVqUvdIUBwJVwaply1AnA5An4S2IpBEBY56ulXb/kP9yV3ZDK2RDAkZcsIhBdEsAS6gYo0339v9ihndP9SSZAls/DQ56j4b9YkjBUF6kOwO7yQiKfMQrAX4f9jh6/GcDrf8V1KRMgwCxyc5K8DB7A7Z9dHU+qEMCSX5+6QHz4P8rdodqXXPa/F8kdrqlbE0CoODl5y70YwCodVHyZ7glAnLeuLp9I2j8jr5aISmsawKR7SZAdFQVAclCc2yY/8r/f61q6zXItQOhfg8ebG9G/wTYetZ1FH8AUAFcQmmb/v6tVSm9u9RfAtn0yYCWvK0BNdmemFqjhP9hFiWrUHu4/+7ho/C9BH8CHYtwENnkDwEzI/sAp0w3A5GXOfe7ZGcBY91r9EnQNQEbYqB7H5hnAFg7UYNpYNkAAems8+xr5v2NkH9Wlg+O/uciMOFsLG8Co4w4rN7oKwIB5+oHfmBXAv46NZrseFsBV/fIE6OnyP1NwYSW+9hHAIWaTZ/cFDcBwb5hI/xAcQAf8bvTEcSpAVqj9yckSFsD++kRDBSMWwLjjKV8JR/q/wv8/lRDZA8DRdvmol5D8P+H3vf3uBRtAkGc2NT7iLEDok/8xaAcgQCB1IhB8kCRAUvYVGyyJAcBh8PMke80ZQIi7TDPGNgDAGP81fmp+FMCEA9MCzrfePzs01DulrtY/IIyc8g/HHsAU2/ZtrwMNQIBv/kGalRhAMZNk0LKlDsA6iZOilowJwOza/1Vc3RBAAUdErpp8EED8qwq1heMTQDrqAPEDDQrALKpfDb3pJECbLbv/2ukEQAKuvnhD0uo/hL04bVUvHsCAdyK8cNcmQEoH/idVYSDAtLLBaqSawj9Ms1yE/q4IwF0FsU2+whXAcgnsv4LOEEBfzNpfTc0xQJkPbgTidAnA5nn1wZgyFkCHJUhzFzsHwE9L8w5LiBpAzMeVNTTMBMAvtcl3f6ocwFgV5OtcXgJAKZztpeEM57+lkA/x2KYIwP17vLBsMB9AEVGVP074uD9fyrqpN1IgwIy5AS21VRDA9kiX04qj8b/1jA1/FnQVwMPO7bFpW8a/UfYgctVMLkC2oel/e8gWwPZ2kCirMwlAZp7ptmtP4r9x351MIggawB8a2C3BPhdARMRGVHFkGcB5D5GvfeAZwI+PAdqt7C5Ar7nAUd8eDMDEv2MICM3Gv807mbFKrPG/sXQ79vqLGMCDDdlxUw74P1BhyJVLwBtA6qCTllfh6L/jdnbV+g8DwJn86vkpTw7AaL31Xn10378KS2zS/Nnsv08gecjBNw3Ab1uoYHEG9D+RCK8kNsYgQCyyeA0VbhTA2N/VLkjm3j9SpkkiEYwWwNz2X9ffZ+4/j5eyK+C1GcC2loQkShv4P1ZyoSdCdA7ATdn+SxfCA8AE1SbdMhQRwIT56tUPPh3ApgYdWQEaCMA5/ofNdkrDv1yu9VPMM/Q/DiM5JD+JHsBjnZSsEbEawP+Mei5hb+q/Un8JcSBPLEClaYAwJzUQwOv9+o/xBhBASyA4FDa4I0Ai+GKRQPb6v0kM0Ve/qw3A7Jor7JpI5r/eymG4m1rFP7quclbkWBHAXPnpjoJ2HEBQVhb7zdEyQBVcNaBbRh7AWowBiGMiHsCd4aB6jIgVwMflGI0TpQTAkBWxY90DE0DGnTquzd0VwH6wLO38Vba/vvgz17Mf/L/oayiK9Zmzv0Zc9p8YCThAys/Juq1G9b+kPHOC3FMWwNyt36hMLRHA3VcrJG4p+7+KJl2IdlMRQDFI+3dXEgVAh3qOhMk0D8BRdRcee2oawJA0jOgHvdA/K9bOaw3V8T/CQ3da9WAfQHOSvJkYEBvA8+OXWj6fFUAP9SBn6jMTQFtO3BTQ+hrAanFAQ/2xFkAvijs213k4QJA28UywtRvAuIzNRF7JAcCckEJbROH/v6fCieErNRzAXPX6Q+f5C8D3gXt/D7UawIbt+3zHIBzAmzo/mKCdG8COsJLWto4DwDBaz/R9oQNAD6h40xM6BsCk4GrowVkDQNSrC8b5U+i/WhlBeRPNIkCBVkuqOYIewKGz72sAG/U/0ZH8ehMCKUDblLFj9Mg6QEvGp6S6XOo/IMGBw+ZL5b/lnXoUyGUWQPTU0qdmEx/AeYXj7Zhd+786wNzjFMf+v/RDLwmVfwbArOolxazbEUA9ImIqnGkQQA1LmSHE+gLAr/I5ZUtDD8Ao0d554R4gwNxSZuJ8AyxAdXF93Vnz+L/vZBY49iATwEgMxFOaVxnAZqmYFWkDEsAiu1XEnVjtvyzxxa4ANhbAFk8rWapcHsAnOOLMEochQF2OPYDbXxPAY66j0T1yEkB0dI2HaQ8WwO6+FBY+FyxAJUsg6veP9T/n5tL8Z2cVQKFywX4hfvm/EULWXxgz5b9CWQ7kd5sUwF9N78QDYRjAuYjdQBb5EsAzXCPVepIlQMau9zVOhjJAtF2RBsrtG0AZ7plFxjPwvznno7E8F/8/4Kdk6VIPEsBC+5B4hmMTwLOYbC6szg9AAxgg6lhLJ0BvfV6TZ23jP0aLu/+NoiDAjZbUp+HKFcC4HjVgIJ8gwPVSsOKtltS/DtneIH5RF8DPljWIO+EWwHBikDEbnN0/lfk0I2ZcHMBNr+P7Awjwv3iGodbyq94/73z5GCwMGsBatXLXBIg1QCd8UKdaYuS/Bbwm7gB4CcDqrHQM+78IQCUB990/iB3AmmVFQrhNMUAejKjbXeYeQK5DDON5liNAx8OeOKEZ+z/Q4+dXzPkpQPEts1DyuhzA1bMIec8oFcAfplKB77X7v9dUxV98Gg/A/eLo5VZkN0D6DvIvKNHSP4asW9koBhnA3vHPtRJUDsClR/PR2JgdQJTuR5LE4BPAT14+Lx9E+D86IYNChmLpvzEyHMmBJgjACG5lhcJN4b/J02us614QwIqn+6kKewDAOEeXeN3DHMAfIF+xxYYRwPDqPPm9wwfA+C7zuVRx/D8fjqOnnHMawAz9JE3KifE/DnUyim4//L+LoNmfs2ATwLobcpHcHwVAetIVbPE6EUA0I5UAQRTyP87y9dIZCQvATaY7ELvzKkDZ2tnMj7MoQCMGCe/TnSFAZfSYeIg6J0AiBlZHuia8P3uz01MgKR5A8CxshlDbv79Nqz7ByzDhvx2CH5ubXh7ATg7NSz0uAMCtFj2eC3sfwIbOJFTlR+K/FgR2dCFWCUDZvVpX6RwQwNZv6mZmdiZALxWAoa+HEsDBjV2oYecBwMoubjCY/wjATOQWoBjbIMDWloFXgVkVwEj3WSq8BRfAlqZyU5AMG0BwxsHWivrqPyTz37lJmxHAAzKchTjCFcDfoLa5fQXxP8HvdMfyzhbA0+8BEYZ+DUCIbVSu6a4QwK4auUcLhilAJRSkJhebF8APPHC/wEoHwKjluHcdHAbABKA4JZQ/HcA8jfW6yIYYQB4Bemjw2gVAmyvbXEExE8D0VA21Bt8FQFWQwdSNFfY/HKGSj7agEEDC5AMa+T8dwDxaLj5VwvC/4Lq367qYHMC8M7LW2a4EQM5FEIx3sQJAoJoFEh//HMCEdi/TfbgHQNMN3B1D3eS/rgXYVDW0EEDvNpKQyTg0QF2wOuxrvi5ALg0cz8xBEsByPI23TgcewOgIlpRpXwnA596PO3v/EUAS7yNFHlMgwIUL+v4ncQ7AzW91GWtyD0DAcIVsbavyP5PojV7tUAPA/t1lfVRZIEB1Mb6Gp4Twv9Jo0A/n3xBAm8J5Aa6cCMAIM0RbWwH0vwNox/JwpRfAt22K/g/NIkAIN2F3xogdQPz6fObaKPO/mATFOPmjGEBmWyRy7DggwFNXFNo/4R/AAPVRdkagHcBllIZae5InQNL14PYGQALAF3m1jEfu+r+Wr84CVNUoQD3ImoVTXg3A7HVyBcImEcCpfXWAE/ADwEDH7oNLXxnAmnPeCUKa/L+MPvK+33cZwA0MSf2UGypAiaMmCEILG8CgjjffbYMqQFvphGK1kSRAgL84XveNL0B8HhHfk7oewPRZCw0rs+g/yottceteL0ATHKWka30YQF3hPVCL1SBAfV8O9iUvIkCqFtt1NH4UwDkxxOQEGCdA3oFKRVXP5T9LUu35Lg4JwCokvb3u3zFAmaW5Z+PfGMA2A5VTprkPQD3xcf7qMBTAUHL/uX3PHMAc7ZwbOs4ZwM5gHBByXCZA0CkZVzTpI0C5bk4i10oWwI15+WNcXgfAMZ9niAko4b8QbwBoVUQfwDkC39dhSiVAR7LH4BBqAMDC25KRE3IQQJHHQ2OEnCVAjAbE3LS9C8BPL1IOcrA3QOEamv1ZJgLA88T0JRnZEUC0Fwr5iVojQKBtVFF9Z++/+Js03UiSLUDC896wsQwgwK7DXCdNSgHAYjPLuaDNIkBhfaka8UAJQB5zy7MWnOa/jPnCed2+/r/eomIqF6oewMssLDUaB+8/7v8s7aL7D8CGoZOCahIAQOvU9TJ51fW/VzvOwVRCPEAphc/R0B0bQEuUxxtwlAVAOtxH/ft8LEA93XQj6K0BQCo+0brGpOM/zoCQS6JvG8BG6itsOur1P3I59KA6SCDAuBM8RAw1IMDIpWoeAJMVwAMBPh41++m/ibzxt/7iHMCwZpxTxu4OwGPAs3LLoiBAtXo3N35s8D9qf3CIakE1QCjZzSCodRhAuMVSOhdlF0CW5rnNL7fUv+d3U28qCPi/xDIKgDFyIECpdAnwwqwUwHk+EDTbkR7A36pXRrI3HsBsGRo0Ld4OwMolNpZp7BjAde3zHKWHBsDrSXa919QBwIASkVIHHx7Ar28NxAd2HkA3DN4resoTQI7xUfJbGBzAkpJMiH+fDsAvT65gVQL4P0nJVbVB4hrAwp2/9xVo3z/T1XXIJ6ARQOXK3LQkUAbAdBW+bBaHLUCRBkGAFVrmv5l0hVl0QgFAFm6ZZXZsDcDWxi5wigwcwARS/gGxe+Y/N9xdJZygCsDYphoUAsMLwG/lx5XjtR7AGSXVJjrKI0CaxNrHUI8fQOU9rjqk3BVA3DTfZOCqKEB2z5IXUcb9v1s05r0NZTZALPaLm5oGA8AaX7yFNAkDQJyQc9ulYQVAsDc51tzcEcDdGDWvpsMWwNqe6ivvlwvAIlaOqqTb/79XHb91wjodwKgLP3TpuArAV6PEKWKFDECYUv9B/cUUwANWWbQRNhbAf9yUL7rNHsDBt2TlZIYdQGymko+6QiDAJnbJHl6MHsCHIkmEw5wJwMQcdrRU88o//UV6kASyGEA/K8wqHNnpv+aWOs8+Eey/36G+3duvFMCW4NH0OB0VQO3KA5MTJANArO3DiUzB1b+aecGNAjkAwFM0L1HlwxpAZDBNeKGY/r9BtmyNbaAawM1BGmn3eAbACC1WP0A30r+AIYwvhT0awLssYMGh/BDAOpHYMo6uyT+1KRVapO0UQK8aZm2TQSpAeHPgxxkdEEBGe5sx+yfzP3QOgfo/VP6/Sr6xSh6bE8AapJxRf7z5P0c96FUHLiDAEoUZnHwv+D+HqtskY4ogQHjs2LpJ5/6/KxXbord9HECq351nFYf5v4XJMGC3lBhAzQeLy1ea5r/pd6l+2ykTwIJUX63HXg3A3fc+Y6GnI0Bj1n4eRHnnv4IisdNKEhjAEYLCm/leB0Bw6v6Vh5sewCVfpTIdPCJAP50nhv3YHMCuHCY8jYUNQCZ7Z+B7xhRAmYmxc3IhE0DEpQgLmygCwNMjbYxMoyFAQo9YDImL3z9JJb0nIs0AwDqJz8b+txBAVsLmK077GMCBuEsLyEj0v3j5gXfm2R3Aw/yVXP+EGUDYW4Hfi7blP2pUBzxd8Q/A0EeK7JC10D9zYi26NrEUwDhdniDylwRAIdZ4xuVCEMCVOOgHCj4ZwPaAhdWd1AHAvz+VFLqRFsBpqMG4UhX8P4TWDzd7+vS/aDtUJ1pR978kw0CLm6shQOmCAroTGiNAvx2gJ9eWHsDqlB09HOEaQFSCyFL5kw7AslLewDGxJ0AbTOiozxsXwK6bVh3sxxvATJRZsj4gBcDiJNgpz8TbP5N7tUUMeR3Awq3X0GzPDkAVXQ4jKP5AP1jBphhL+fK/mO/qvan/EMAkbkmO2AMFQGGuHVlYfBfATcgVpStdK0A01+9Uyhz6v56dnp4b6QtALOvbTR9fFMBqWYpIkTniP0xL4sWivhZAgm61uxhMoz+7JAakWGD8P8u/DKG6phzAbcXUiKjtD0AQSLomCHUawJkDawbAjSJA2SDQhfCLGsBuViZIrJsgwEELwSoq9RLARBflTxDSHsD8Ra1BCM3fP2d7iZrHRvO/jEuoHH70F8CMU7z8b2AEwGC2pqgS5gBAgRIpY4epDcCIpipEmxsUQIS8sZiB7yBAkm7/AAyxF8Cah+Z002UNQEYcHApJtRvAoFEu+sKAFsAM8v6Fm8AWQNr/ae2+8RlAANZNFP9mCcCm4VVDed8KwLjaonYYp9+/f886cpr9H8CGttjpgpUdwBSoXSMN3BPA1681y17UDMChUanQpa/pP5CvtnSOVxDAEoGenVi8EMAfh+PPheMpQBZN7il7F+6/0ySRFus0FsC0zgHbvl8FwEekGqjfTh/ApAvyhLdt9T84Pk77aIgZwPT2ICdejfW/REh/1FN4IEBufZ+9Qj8QQHQfGHw1djFAmiP1+AfL4z8uHT6GRlouQOBU/RyBPcQ/4KeLe8oUDcDDge1egfUawN7rA4Z/LhHAfpUjIwXyCsBAo3hLqxwFwChaKnEGXhTAPS5ZpD9BFsD+v5GTg6sAwPnUtvcSx8o/IUtDD/hzE0C0/jAGOYkVwG89/RiZSipA9WlyezIJDUDkqFBT3+sLwKNDJ/2aDSDAjGCP5MNfAcC0iL7Xz4oSwFkHcYZxSyDAKScjyBmmC0AeC6TQCcENwN53XoZf+xnAv1ADJyj39b+O42ImyEUfwDYlIE3oZghACzhpVbg8BkASROt6uxsHQDTk87uGQRjAEr+YqDahAUCn+e4rUpcewKAAG1jCkrU/tsaneJzvB8D0Yzx49ooQwC8MuvO5thPArliIXJy3DMA1uTpsA3MawIkobCoKeiDAQYtm/WwRN0BlEPAHTGQdwKgBGGoYf+8/eG9O2TU8AMDEmUOKxNYewHWzCpGdAfE/Nj672LG/BcBbmIBFTPgdwKgE+UWfzug/Hgy6jAJRE8D4ro/oi7UdwMON8U0nOSRAkgGcUoXHHMD0WEedmGL6P3tk9gyXkPm/0o0u9+eYJED9wyzU72n6v9Yn69f4hvQ/Dilb2wllI0DfzCSNyZQRwHzRFEFhswPAKbbxfslBD0A6mdNAHjQfwNZKRXyCEOU/L/nhrOUwFEDV+GRwG/0NQN0or/8wIStAmhPUSQcA2D/7mZS18SMwQCCcxqGL7uG/KkDhiX1/EUDd/f625cYUwLqXWibOtBhAoHPTS4bAwz+4nxNEG8bzP5c/LrKwrxJACmY6QT/6EMDU5SZJkzsdwL0ZbcISdBLAXiTX296BKUCiBnODAQT2PzDuBLReTydAAbnOTfdMIUAZjowm8NkUwKpsNubJNxjAxnfd2hqlAECDevKRiSALQB+YoZL9FB/Af0lfB7sC6b8pncC4hv0SwIcpcTjLUBBAh/5useTSlL/20AVc7BUCwMxGFSbfYx3ALHr8ZGJvBMD1DTT/ACobwOO3tATJ1iRAdM2tdlVgFcC5RSQ/xU/3v0gzxnmwZAfAnDBzfF1cEUBJm/9ltXkKwBA5iIoLCQrAzbGsu6ADF0Ddo9Ua+6AsQACSzCppFQhAh8uKrOnALkAFPsMD/Jn4P0T8+Yl+RNS/5bw9H6Lc+78sRLlCIU/4v2q5ISEtax3AGdKhAnV4/b88rhrIymb0PyKiVdh8SxrAUBvjLMbm77+dndiInMEqQO5KcgTHN/u/zekYH8dXHsA9FQOV2A4AQG5TpHEHPRjAWrTnyITQG8BaPplvmpYjQGHfPx0WLuS/Oo+/jLeCG8ATz2zZtTEzQFh1IUHb8xjAcRTuCKkyE8BPMRZCLHMGwFXDjqzHR+e/7ne2RDi/FcBF6Sg/5TQNwJsY+wDxI+a/uC/7Yj14HsAY1AN+XTYBQOH6CSN+HhbAUozJtOkzF8BQ8Ah7B6TRP134SWhALAZAakfEUHEy/D8OEJBm52AfQFtul7/1SQnA+ZcNUYGgLUBU8SJwzNrhPzPKk7qSgRPAmzAr1XVlD0CwE6Xa8DH9vzDgsvdlfRrAQtPvA5RPKUDakssjyxkTwFcudYO18ca/913jxMSl979NdmUvKPABwF/DvoQjJydAXY9UesQvG8CpKi/G5BL5v3LhS4hUgC5Az5tIK+rpIEDOsAB6leb5v3chKIsRzh/A/pkhdA/X8z/g/f82sA/nvy3gqzZu/QRAWVZbIPE78T8apTh2924VQIJLzWt62BfAoICo4wlaEcDrkgSnYccXwD9jOcc2/gnAmgfIgnvGAcDsrQOdqKX+v3SkZI7izwTAhmfaOpug5794zfVecJ0JwNj9cPHYyS5Avoj/3AWsDsDD229dyXAOwIk6qOhndgvAvVfNjQSkAcCVKwvn/rwYwDCIpStPKuS/agMEYfeXH8CGeTKfs7UVwJdQCiwytBHAOVtF0LUdG8DxQVxPOkUZwOTPjocj1Q7AJKqI4fJqCEDz5Wh41M4bwCr/rgPhFxRADg52bKus9b8PNFOa8EUbwAiEyqpRaQ/AR5oiWyGVIkC2gN91GSIQQHP/MgkFbRTAhzR3xlVk/r8lh1M03g0uQNmzsKDoPQxAsT09WTLiG8BMK1B1XZcfwBvk7J3nWsq/j3soBz4RAkB88Mb5/9T6v0jc2ZPaKve/WkLAWbXoIkC/wFVfJvH3PyTUe5jY3QNA7uUtvNWDCcCL2u7aeCkfwJPQ8cH+0gfAKpTwTsXZDMAskdo8TzABQN0lWTw1AAHAh7ICJdoLC8DuQQptxU0NwGwHlGHLCjNAEMO48KBVGsAzH2gPBBQeQKs0/frVjBbAmfZ6FI8EEMBjYferHoQeQDaveEendO6/+ODhTgVf/j9aBxU/OOQXwLf3wvv0JCJA+H1kagquHsDPDX1p9t4dQOt/FtF4//G/9HbhnDSTH8AT9zbfaokdwG75683jPAlAAlju1BEQHMDouMWE/3AbwMyct5XnEMc/ZmW+YnR7EsC8VG5NPYQaQAXsZ2GE8iNAiFHhCVziGkDSEJjJEnEYwDd7kSV5kwvAqBnN4KAJAcDBI2J1wrYcQFdL85DQIBVA/ScjiyWhKkAVLZA4nTokQP0+klKE8hDAntKy6wQcEcCZqY/XLNApQOS5YxLpN9+/ROoXW1pLGkDWEqnczjQQwNIbJ9U05ytAdCqkIZJAH8DDAgUApQ0OwHR4LbeC4BZAUgML25IN+b+XUwSouZwgQGk6e5qqzhjA73BNlPKwKEBsidSaeNYZwD5LvfZkGw3At3V8TXukB8AE3u0fN7YdwP74d1EIHiDAgt2HyEnJ2b+M4rAjy5IXwLMdM5zDoS9A/IXBSDBE7r+eRgRRF60sQIKXxAcuueG/R/Lq67sbCsAtN9QSDHkawE3sxYhr0QDAL7l/VaF6FsCC0aZ2mAwEwPfz+OT4lRHAOK9wP46bAECusKsvXV4XQIQOM8uLNyVAKyk0oOkYL0AVjJ6haEsTQDz+eVGk1xBAAxs6Eg8T4r+Y53739rAQwEkliO2K77K/GK8SFe1VHMCQ2OxxtCn7vzu2EgA4KQhAy7r+MkBtFcCu/dCzzy0YQFRo/TkrERNA/fhrx+8lFsClp9VYXzkfwJ/BG8k3viNAJZduswq4F8A8S5oL7YspQHHZtjWl3DNAzZZ9o7htHsB1nqxHKzQdwFpHnjryhhTAUnJmP8qY4b9PFFH3ld0VwELKFYaDddK/MT1lFKuDGMBnmimKUvIgwE2/pWTIzfG/Kt8Kk+BpFcDLomifKPAQwOAOOrv6IdS/vznN21B0HsCCiXjG45YQQA2Bj/kMkM+/m43nUwR8AUB87xTwfyXvv122MlMT9hxAamgO7h1WNECML31jlWECwD3lyTSI4RpA+U1Z6vGIC8AC8979pBX8P/yZq4IKQwHALFRzaG5EFkA9OglhE1TzPwvUc2osswXA3/DsA2X9DcAeLygp8fYUwJpKRwVGGxVAsv2h5Sv4IUDbIrdPhUEcwLmkoWEvxRhAjl3gs5rJEsAwlAG4qi0QwCKDfqwxDShAUq7iTmanuL+bZJw1bOIcwC9Dt8K27RZAxPQBOiuGA0BPqN+AEMn7P7LywDKnpAnAT76z/zbJEcDmpwqZrODYP7BOWLTBFR7A5AV3c2TGEcAUEw747aIRwAIWKduQXPM/r8R7VtHyBsA5UFjKQOIQwA6vGG9mPu6/kwTC4Xl/FMBE5cXz3mcLwI/isMqs4BHAbENHr8C0LkBN04r/k7QRQMCEHyOT3wTAzFTfRrg3A8BEk+yvTUbtv/GFOo/mchnA2ryQ8ub59r+xCDfYA0IdwIRWQDzyWua//ooduqPRAUDTUCqGwhcZwKZ6j2NCDxTAQMGyPchgDsCGe+OE1D4fwJb9oawdHh/A+wqwAVCLAcBNZ5g/w3kdwK8uRT/8zgNAvQlCVHHzC0Az/9l2rBUXwOWYrnDJSRbAkGf/S9Q5rr8TP4kb7fYVQJPKUvPlHgDAgPjBD2n9HcBA+CcuFm0KwKvisgU65wFABKwrZ3ttrj8b0x84n0rnv0egfEZh9h7AGj1bm370JEDTXeScdmQgQPcKqHJsmBLAwaQzh1A3BsBSjpmGr1MGwJdD9eC3NhzA0EfKh/+W6T8xke6yhyEVQGeqCYe6Y8G/1DiYOnPzKEC9YPv/Z40IwHkgDrsoPAHAhvMGFLPp7z/I4d/QNaYXwGH5WVwmlx7AQB8FyrEvEkCAkEKDkKj0vyoyjajihPQ/IH1uCDo8CUC/H7fciIgQwKck6F96iwrAXUncJMszCMD2FwAfLGb7v14wm55CbBXA3sfeHq2l8z9wffguA3kOwFimcYGixeG/6QN4P4Ud+L97iHZjnvY1QIj13ZPkKCpACAyyMl+8/b+t+fMIFxUTwFo7pXkoyhrAmw18YqCOEMAeGblNfsAYQHaqqPsBJRHA9D1EVOJC47+4A6Ln0Hv8v/KBrEKPsA5AY6D7EzEUJkAcLAZ5BSkIQAxsBQM2fCJAgBIrenf3GsBhw6FPZt0YwAwW6KvWRSRASNXEKNCo57/LqNKgORMewAMu6OVzbSRArXFl3cL+EMDipwecWZz/v+0yQvMOdRjAzBJmLpghEUCM99RtxCoIwIYhhedD2gFAEbZpaGLIA8DFkQoZxLUTwOUmfgiRQv6/lNqe1jadD8CAX6icXQMYwHedw7xf/eO/L+Xaq8EV6b/psklzV2HuP2bMPo1BUh3A7MZobR/qxD/jQFNUlW8MwHnmEBAeSM4/XGzpwIaDE8DGqhY94rDvv4HLQdkpLRDAxmJJr2ldG8DPg9ctOTj+v45SEShPChtAHg1HaCQRE8DR9E8R1RXxv4D6PE53svA/zN8K5aE12D/kGIoEzWoTwB6SbG3eYwlA/7pnDhOR+j/6f2y6IUsdwNj4r7iqIv+/L/c/qbteFUDvXlXMnz8BwNVD1lh6wB7AOpYaf2KmJEBAdOBcS0TQPzvuvqESBOQ/9bp6WzDgIkCDfsJ2SBHAP2OeUS6t8Q3AU3eWQi7C47/U0jQnuX0HQOAyLQzQqBhA6q2ehEOPEcAdhtsDqX0ZQFOss2HSjgHAflmu2V0KFMAaTDjTNqMMwJpmOnNpgRTA44bbtsTqNEBwYxwTvOC1Pw+4IdxzTeI/ucszIrJjCEAy1eFQht0VwNnG2JfZlM0/jUIu7MIUAMAHSHCxVjcCwL5ObPgkFx1AQmKbguj6EsDkSJWc/fgbwGCUXlWIwwdArSd9dYAZDcDhneS27NYXwBTLGS5A8hjAy00QUY1YJ0BsfdB27k4ewFnH8ODSFwdAwq3zkleEH0AzjhQq2eMRwJjLD1eoehBAZ73nXEfR+z8HG9UQMsIWwNj6QasSbBBATcXtfaiJG8BLHDoGePYSwDseVxPdAApAXSv2Jx3kH8DfBiRX73wbwKHDvpcSUBpAKJcMMWOV+L8Th8OGbnkoQITMyostsRnAi2pB3q1AIMAYgVxHl9/9P1TFCb1NABjA8p2MiK6C0T8KR7UsZrLZPyOAmr9+WAbAgk19h4xUEsBDxpHKPLArQE8Kw2b+ngXAG+j6g46sF0DBsPmjuOUZwOvcqETdawpAy9xSfaA2HMDwvJ+q7bMSwAk2I771ZgJAf9alSM714j9u98fhsIz5v87dI2PB9gTAl6YfLtD9FcBfY9RNAD4YwNXTY5yVvxjAPUCWStBFEkDqldKPdDYcwMGxUnTxjAhAEvo9RJkiAcAgostOmjkdwJ8VwcAhjQBAv867Ub7BHcD+cPZGwkMPwKasJXljtP4/e5rf1lv37z+R8r8hofvMPxWWk+of+wHAzovfFGTfBsCPd0gjqE8awEww5V6PwRDAe3Psi6zVFsD0q7Vf20n/v829aBBA/jJAkkCeKjHk/D8tA0fRjaYQwDo7glP4pRjARQLbJfdp87/5CC3FWG3nv0IQQyrLSRVAsn8KG1BqDMAKXQuWododwPnq/j2xIxrAgx2VgJmkHMDwoimyB0n+P6BairGs/vu/AsBfJfa8rD9K6hITL8EUQBwm58If+ArA87Cnajj9L0DmURqmf9HZP9MUOAdKvB/AAAPndqi9qb+Yhp3zTW4CwK3HtljVKRJANZJbLpHN9j/bIDStP18fwKL4qJU6VBhAQrj9XZ2uDUAUJFJsEFwAQIW5y/oKFBRAibIPSRkME8ARyY5337QAQFiUmrF1BBJANhNtCuWYGMCP2KLnU5PhvxYuD5/2of8/QthaJuMSE8AJOGGgiogKwL6yvkFpSfI/UOwkUM7dIMAotUIlamgLwEAXHpP/QBHABHNdaLCPs7/S9cv+m6MRwLcFxcD43hVAweXLgA+QE8ALQacPNVgSwLTxTBgk8fE/yivkpoDfFEDXcjBDH/MSQJTp22J9vvk/LjjMgf8fF8D1nIl8fGwVQIkGJOcP5R/AjgpQ4Nkh/78wnsw8PE8ewDe2QmHUsxhAwHJ3r8F+EsAEfld2fqrovyIFyqkK9gJAZwXPrxW9HcA3UWQl7FoOwLAQo8OYEilAqMAxFy66DMCbItxkXKMTwJLvRqSP3CRACDSaDXeu3D8BCpiA9roRwL1ATRclOwJAVAYJNRLFJUCowZt0mmrxP1FO0CoUYSpAvSPbz5PU8r84NiB4zbQXwF6OGH3b8RjAg9w5Zlp+H8CGwCAh8q/Fv3yq/2tsyBBA1cbfwLtYMUCyd2QMBrIfwH6M08vofBfAHB1z0+sbF0BeWVieq1IPwKRGH/W3MBzAItp6H99x179TWcacS0kGwHz/7/AtoQLA9T305wTkBkBqmH3z57YVwBLo0x7oSA/AasX7Q93QDUB+fZtXgrQXwFMwe2nv4B7AIzRYrq0UCMBtxd5wI6oLwMkEMPDUoyRAjXqlQwlv978CWre26KIVwFp4KKVZIP8/k7EfOEU4K0CmHelxTwQ0QCQ0/kgRHhXAkuqKAVc5GUD0l7QWJswVwPOnG+zIbRlATLx/8icx3z9SS1PbxbwVwKdU+Bn8MxzAUEzPoaoeIMDymB3kk8ARQENl2Xh/cxLAJyHctJ6LHUAsHxcCyVIKQNZP6Fpqd/C/Kj4IKd5tC0BgdEshHQ8OQKk+PiekbfA/d9yeBQTIKUDtEKrPkSkYwJRFAmMVIBLAipxLteph/r/+rdtGbgKzv0gO3gUSyvi/rl8xsn1lDsDPA9YEhL0tQMUakG9KDB3Ayc/YsDD2+L9HiUd+wmUGwAVDk0QghiDAql59xss3HMCsiebleEwSQFn+c8wiaCtAcdff5tBVC8D3a2sA/eMQwHt9GBx5eQzApZYPFRc5FUBJZdy6JJAVwOmHha+2mPc/rM2qJc0047/Usl04Ee4GwNEJ4MhKsxrAEGwuzHPRCMA1y3CiDHgyQKYZxGIbLiJA3mw7WeEcHcAy+idkZs0sQLlwEfWl3wbAOVh/hZqlBUC3FjzqMYYawHaeq37JKQlAVjfOLfjxBEC0AEK93qsNwF1xUHJrjh/AU0rGriqbJUCf860RaWEQwHPOKxq5FwLAnBGJXSG5IEDOwu8SHbICQKZ/FC5ndjJAkbe77DesGcAnJNRKOCMfwDMIbH3KABbAAZuqAbUQEsDmtICZdQ0IwL15TLzvjR1ADNwfYVkgD8D+uWP73LMXwBs6rByNyfM/A4/1SNkmE0B/cDANlQYcQBuQB6/lpwfAQq5GXK+T9L+IRC5PgJMVwJel1C9B4BzAUYZrjExB/D8zzpYUEVQwQMW4Y+3kcixAT4l1B3sHD8AFJBiXfsMoQFtdqeSCURbATg8xVrWgAsDDcP3CeFoIQG+IowD5Ncm//7vJTB0H6r97ysU2I4YZwCAoMYCr4RDAzgDNucwaNUBIMomMVzL3v1i99Baf2RZA5fIlDZFH+b/TXz9tu/AwQD1lB9FoChTA9577ts6mJUCdGlP6+KcTwH/c4+ZFtBHAGKmNqYM1JUCtk6/g114cwPZhUs61GQvAqM/dANsX/D87iSnntasawEbPRxZ2uB7ANyCY3DiKGcDlRIgxT9j3P4hsAgYVQQjAvKeuFlmiAkBcLpMKfFsOQAipw4Abq9m/JOz7+qjNC0DYsMlu7V3zPwnOQlxLfgZAmGzfAPuy1r82CGSwkNcewDFCZRgHmQfAIJGXGP20tr8HIZFZpV4RwE7XDJsy1Pe/TU0ZV6A0H8BpA0oXtXsGwLPSg2Apu/o/Jc3HQ8phGsDmn4qon1UMQIQxT27EChJAI46zdtDs8b++kh/49IUxQLbVXbbZhxLAEo7Zw5SKHsCYLSIlWxr/v/48Sd1im/4/7Wb+JNAcEsCEraDCKxQKwCZr0ohsYQZAYcDWBHsBGECYF2QzyocUwMWy8rjooBRAZCEH8kxhBED4I3s0VqQQQPHlnqBYhi5A+DyL8d2J9r+x7P9YmIEFwIymJpfoPQPAgOtKCKulub8UqjK2bOEZwHzSQUxUyRjAMTDP/ss5MkBmHl5K7PoGwBaVussaPR1AaZaKD9s5K0BEfj+FP83rv3RT0fe3W/+/6nz85aM4EsDZ16Nv4QsewDSyZSea2CDAncLHeHCVDcCD6ay3vZk0QEF7HStjDvM/V75kzCULAsBwf1/XfOsSQHjM4UbZpwbAUTLWezhU47/pNaRyT94kQHHIa9VsUBDADxu33d8KKEBA0365/rIXwOSExnTKRe4/KMnuus6h/7+SY5CIQqX5P//WIDl4NxLALGvagQJnF8DW0UZa26QgwPtVN2YEthRAoGc7jlS/CMDFfwMR1pkfwFKuprRAwidAe/W/lmbyG8BeyDieynv4P/COvKmaXxvAStGJjru3FsAXPOS3xsULwFJoqgBiOxbADg8nvATDH0ALx8YaLPQZQJ3VF47rhRDAD8kkisMV9r8OQkMH4hUQwEakDLhBA+E/kNzIfdfIF8DRyftZbgoSwOHZp/u7wAHAPOIrNa83C0Aru9oqWmQSwNjZSi6b6AnArwZ6Lnx1ir/7WYm6IpiyPzkOskZ1BRHAJWLwTeFmHcBvFuX2mmEEQEaLt0sy1vi/PgwP+vmnAsAbvbc85Y/6v01/IVgesC5AWl3JQ4zf5b8Q+iz42XsHQGGQDYKrbB7A0gVwhmg/HsCaqOqTExIGQH/gYlHTRhHAkderEgl3BsDcfHqJerwRwE6S3KMlvhLAnwO50+4GJ0Cm0m/+hZEoQOd+2frfaBrAgSAGpNV1I0B6zXUwpFsQwBhOsZgcKxPAzKkHjs9C5T9Ria6SDzIVwOaomE+cOOK/lSsat1RD+r/B5FyUmYwdwNJXqD4//BLA/LcahZRID8C91eLI8WcWwOzS2aSOiO6/q4EHVPJvIUDB6EFzU3UewND9KC1sviFAHZcCUnARHMAketzMxR0RwLGvgpo8XRRA7HGjhcnd9T9cG3zHxU8IQKgTJRUvYCNArt4gUeIHJkBcAinyJaopQDehDErwrxdAztK9EpxjOEBRpvXE0YgJwFAnSe9zPQrAjJRNL75H9D9AOt8JoAgfQLMrYiMsEgDAEKcngjQ2AcD65nlDHAUaQHKv+ecyXALAXQL3B03V7D9mJkN3+aYYQDXa68HRBgFAZqjvnRVjEMDzZYCvTKI4QA2uus2bFRFAdqAp5cnhHsCGEynllu4DwOxKi8SJkPU/GLLIMXRyC8Ax4xWsn58LQKyo/YhkrxzA2xrQ5kF/FcAgGeFVncQLwMSynI5hpStAzD1O0a1ODsAwm6hngeIBwJb/ExZ9Rh3Ai/dW8qe8IkBOzEj4bxnzvyd2w+nvSyhAoIMGw3TTGcDo26bQ1yX2v/kxRFISXCRAZ48n4ZfGGUD63UnrNp4kQM7kTdSfmxbAUiQXl4N5KUCqR5RWRqkWwCQNX7Bpktu/a3NqcfkZ4r//U6QFd08WwHZA6IRE8RZAaHAhWoPy7r+mKPzGyF7/v63XKBXi5x/AG+U/Z/FVBsD7PUv5UtkDwBA7cuuAkfM/LTDLYEebNEBHBD6oPNQMQKKY/EWmdfo/StmGo1i1HcA/uU5xBOD9P7EEViSh/SZA7QjL2P+0E0Akr7+eD9onQDVpqi8A9Pw/aaHHmyjUBUB3ZIRXgbMZwNa5+rJmzCdA09/y1csWCcDSOlo5ZyUSQFf0hZeLVSZA2RI9pXmtDMAMa/Y15sgkQP6IHTK3bwvARsopLF8U1T+uw20AijUyQCcKthWIpPA/2PsIYkouFEChi/rNydUXwIU4QP44oAtA1kF+UFzICsDnuJ+F8aYZQF9edHCPnA9ASVGWRaJdHUD7AJdSJ8ACwMrNfDbydQlAFlOO9/GgMECu7hjBMywRQFfq5wMB/AXAVmwf19B/EcDs9ma03psRQMhQ/5VXCf4/HD1ikp/zLkDp7j1j9Hr0P1HmiChcBBDAwKouQI/OAUAwd4+R4pPPP8k9ObbWGva/mFQgg4tTFcDoqc9kyK0aQCcHhA0EWRXAvc3Qjo+FBEDOveS9HfEsQP1mHSQa8xzAp98nSIgrLED2Ca+BUl4EQPe/M4wnBRPAmuTXhwu9EcC41PFXK6oOQO2v7a5bLA7AFBLN1muyCUDk9ITlQncYQGhw37zlsxJAzppYG+J28L/EBSCJUgMtQF5t0uJ+8x5AdIwlWOAZC8D52gTGl+cewH4xBjE81wbANJb4j7i9EMD/Nxdl4qUzQOJ7qFWrWQbAZwL1V81wCUA409EexjbTv0ThVjNE0BZAEmk/YqwN/79jsdcl+/gXQK6w2ZjWmum/hDjjzgceEkC6vp/DPk/uv1Dvchq1nRJAoxxWwjL3FMBOpVGNFDUYwEVXJf8xmwnAMnrR3Q65MEBXsXQ6GVYAQFkaQzNy7AdAm9pa3O2bIcAQySmIfSgxQJuITV/ENCHAQWO6fDfJCMAIvomgs/P4v5Lb/hDkhQbASNvCqSEOF8B+Ck0+4KcKwNKe9o6K3Lk/eXjkH/oxFMDte8mhqbL8v9Hr1q8fvhHAKu+0Po3vF8DWnycKX4bxPwuurUOiBRfAE1s43sNlGMAOgu3AkIXpP2HMrhYSqRvAHJYPIWOSEUCrHGF/RgUSwAx1HVTJXxNAa1TrhogrBUAvQON9CRgdwLb9i1Wb4BjAFtZuHsGyGsAAZAj6NgOgP4m9x5NIFxPArjkq+HQ/DkAsN+NUi8e9vyJmM2EfNStAN2fSdhCJEsC6wRAsqOm8P4AtNTk0o/i/zBgXOKTXG8DPKz6SSgApQCrUmIH8WQ/ApHh7Rhf+/b/De8nEzQkewH6OwJb7ZRLAJwBAQd3z/b9anNV9Z9HDv7O0cuQRFO8/QE8zTVGXwz+cMRaQe34ZwC2PkZGC9SBAccDnj89KG8DR46dBFQQOQD8Sfw90i/6/ALYI/e6GGUDCzhwCjgwZwKVDlmaefPy/uE7Dxy0tAEAolbXKeggPQKgL3HemchHASl/1FWigHcAMOUsump36Pw5QxmJZFh/Ap93Lgbu48z8nRBSEj3kDwMCILHeM+R5AJvLqFu2i+D8y/ekpB2LwPySTZBZv5hzAKb1echneDsBHu5dBEiI3QCdSI6USTwdAApoyOoW7DkCKmQYoEYHVv7ongm/XB/q/dFgGHbcFEsBoWW41KmYYQHKiyv5hlSpAOwqT4L83FcDm7kYItd4GQBWOqZ3xGCRAwqHcZ49J/7/pyy67DLgQQMcTk/3YVyNAnk39mfqTtr/JVt5wniEYwPoNZwRoTw3Axaa9+B8TM0BuFODsBgrjv5htr33EIxvA3EM7C7hJDUBhw+jytOUawAHOvjIUrwDAlKapoOSTB0AomH6PGnnqvwoyS0XU6hHACgpTLTVKCsABc0/UKfA0QGTliAg3hRTAylD7DKivDsDHkziiT7ASQNttdeTV3hDAICzfyhyA579HgyaJ0Yj+v/jyz7zbf7i/plMkCzDtMkBwcSGSbszav0uJsdvkHhzAEwPTnTMaGEBDcPDJnSgkQM4HoaRJgCJAXc0zwXr7B0Bc1sjhEFwuQKSOIExjqSFAaFuHpilVIMCmDZ2g2VL7P0Ybf9qZCjJAXEJX5vujE8AfMy/vDjwQwFhnYCrpw+k/32moHl5UHMBpUvKVPNYAwFqVBcQW/RXAzxKi/EVv4b/RpLmV+UgIwMsGrGrWBh/AsixW6OhnFcBw3h/P7rv9v/sMd3VtRRHAWlnEIMKQEMAZtApMjJD0v6SOA0u3Ovy/HZaNB0k2IcA1GyANo/zyP+5Qmz57VAdArMfOvcr0G8B3pOcSke8TwIKWZ6YvUQXAWCNU6pbExT81kiiT6/AWwPDdCfnqbxLA9o3aABI1HsA7lX9bmDETQCsrtUyrVSFAIrVNvsu4GcD6XBJX08gFwDjnrbXjsQFAvPh8Nd7REMDdi287JyABQIKIWlC7ag3AY8BUI2AuAsAckUzF7FEWwISLgI4W5gPADmq59LvD+T/n5CDSd+3Ov1j6+sZSxcQ/yqtVvu191b/AmHf3ec0HQOapMypY0QdAOm/AzD2W8b8xLH6fgnjvPxBY7zD88/Y/EVfkt53h+7/yHzOd/LIfQMpKh4lIFCDApH4+Hel40j+tTttmDQQNwLZMZ4fWTR/AHH4F7apj4j8YaRLIfdjgv/FGZ/nAeh7A67gKvgzqF8DAt4QLFfoQwEARIATuAOC/EHEs6I2b6T9QWEa1a30jQOywhjc1cQDA0UDqYdRDsT9ZMc9p/0cdwHUMc+7yDw7AC9B+89ppA8BAaHqwz0n3P045rIiC7f4/xLqoI/8J9L+KLTeqLssJwGwBxp3ypxTA6EhMsXIh7T/xeFci88P6P5R8ijLJ6APALivlrGeYHcCSX5QMB34ZwN04UBhWRSpAxMOC5vbbAsDcr7HApJ8cwBhNpKlmiRLAxbL5r/dDHkByNPZe9R0iQKLy3m5P9CpAt/smHOxKEMA6iVcMbSYOwAm2UNphLzhADF521wInIMD8xVyy8k/NP9k3EziTvwXANMdYABUGIMAwpIBGVCgXwIFOnOo2nBnAYHVZe1hdC8ABGmx95focwE/dCRHQMvY/F6ARl7vs8T+SMdqWNHrhP3EzK+xX2RpAvip76IZcC8A/lab0zJQBwNOkekP9nxrA0NBo+7yq8L8sn2SbllK1v8g2gkgYCR1AJsI/q8cHGkD2OtGq+f8QwFpBNjUX5w3AjJ/8FxiwLEAQKIXfbzwFwLGrnquUYxFAOfK4erb+HUALqiLiPO4SwNODt1441hHAq3xquGXTF0ColFQiaFEXwMv9QZY22xHAr54X1TAlHcCdtfkL2h4WwFILnxhZ3iZArnpcR0y2E0DnrkdncboxQG8a2xV3qitAMuYU3xP5J0DYwi5teJwWwFYZFpwctQ7Az8ZWe6sdHcCagfIwWawNQJah68FOOglAJPXvatGM9b+iPyLPdTz6vxrShrFiaxlAwL6JOEXLBcBky8kc72sewJ9xwndsQcu/G8CTvS8EJEAM57SRg1EWwMCycoHxFQhAFxvKBwzHGsC/Q31KgG4IQFGLirUmQStAu/2IJM+IzL9Ic/z2MpgewNj55XXbLx3Am8o84rwbA8Dvqg6UThAqQL6Wyyvh8RJAOHUp9/IzFcAXbQMy0h4FwKmUeV6wIPI/v5F6F6Z0EEDh4ORZkHQcwMzzKKKFkwHAPN8qCeYe2r9ry+3zRAQlQBDE4qHLOhhAoXgSpfT2DsCtMuO1KmUNQKhyJRm+G+a/QCjHRLwuGsAh9bhQIgICQK5haliS5Ps/vY2F7WF6HcB3gph85OkEQH2d9cCxvhzAixA//2Nh7T+CU4qw9KwDwItjG2VM/hzAhmVikVwtFcDm8wARZmvyP0DytFJPlAhAMft3wFTjJkC35Zhx6n0JwFIzbrXmqwtA97EoUoCKGMBinF/bd7QdwEVSZuP/0iDApyjhY394H8AoPhxZi5//P9bq6SLt5ba/ld+TYadzFMCCfXAaUMgSQDKQDq46IBpAfIRK6b6597+wbI2FVdDfP16HGnCtRQJAdYijlcSzNEC7DGV1bnTIP2A8mV+cFSDAWSoaRh+KBUDJf8uNMS/wv3lNr4NcnhLAEdcKkYWqF8CwEEk8I2MMQN0NM2RXoxXAGK3C4BYnB8CofmmY3i0UQJNl1c4aER7AAnPzKoWIC0BcTsJaI8wKwM4G9CzmhxXAhCYUoLTFEUCEA+FC36wbwAOE/cZy2BzA7GJTDLw5G8Ctd5IHqKX/v1c9bgMioxrAtsHEHQC3JkCeVseCgHAVwCLRp7RJIwJAcf7r3QPABUCO8htcy0LCP7TrGgr6If2/2QNhY2UCEcDft1s+QBUhwEsBzsT2igXA0praBHgcxT9sIBCotvsTQB9M/KZxIiZAnhCnv4IWB8CCz4Cx8U8FwDYt1UOp4AHAPCC4kZsS/L/izHrcGDsWwNeeNkyCRR3AZrLQrfEYAsAhSLLXrO8EwDl5cBU+k+e/8MskjZEC8r9vZfVn/6A2QCjFvcI5OhrAIDxhxtwV5z/4iB1TFKQdwAMgEwWvmytAZc8F7M9IGMBc+orO7hDhv0dkaMATthvAKXJHGIIXEUCeJ5eBwM4aQDawF+05pBXAMdZFWNm0DsDiJChcz6HgPy32XUKbRwbA0Q30ImcV/j+hn3UOXxgOwB5AAguuvgZAk5691r5BJECJ0K2sgSWIP/XJYpDezTJAs0WWbpi5+7+W4UW8IuDjv7FKVFR9EhDAs8KFBsIP/L8076NvNH3UP+/CTxM6ds2/7sPjul0qBMDzY7GuzFEdQNBAllOzlAtAFQgk/dp4JkBiSzlW3r8NwG6VuAMyERZAlOFyVxoRI0CuHaK3ToHlv3ZLwJ+f1BjArJpSJOubBsAZD0EtH3zyPyJExaXNJBLAs2h65xTpMUBRfLOUrb7qP0Q52U89Pu+/bYRXVUNiIkAiPskcWbIAwNovdl/+2gPAWGU7pAEg8T+VL4jOzuULwMflBLk3r8q/HAe8VDdPEMD2ExeFNyMiQC4bfTEn/ChAcYRlFfdUHMAol3OSpC7VPyhi1xQKbdK/1I4Cs18UBMCCQ/e51eMbwPRC7xv73wHAIz+0sYy19L8Gh4yOajX0v5nUBMqwHxHAPmdRdPvpCcD4R/WNb2/mP/h1qS0UoBVA+FspXuKMGcCf5RM2CBP8P34C/rqo5xtA0xLyoz1Z479L+mz8Dl8EwFM4/JRs6xVAKB+a95sTGMAhBnrPBUgEwPWWB1Hp3QjAqUFm5jTRFEBwcXi0GJ4tQHVMWfB0/SJATBYVwTjL4L9WPVx4nvsDQCZnCEyPdBHA8bmO+sKTKEBkLVBD4Dg1QH5MdTyJKBrAMJnNVS0y0b9kPvz90DEcwB8m+cNEVA7A0ayPKkZSGcDA1S3g8fkgQLOALmeb7hxApKKxJ5npFsA79sOA5OcYwMxu+ifVzRTA/22znqYaBUCdDiV+3nUWwD+gb/RvrSDAfQnL8r/8FsAkkdWKNqoWwJfYxIjJhALA+lHsok+qHsBZmix6LA3oP0vS9X0XWg3A4i+r936F/j+zUVDO6bkgQMRk6rGMbt6/P5RdWrgqEsDfBQRlKoQRwHi4hBtDNeA/Z8dJbe4KGsAIRzzFs77nP2FqeKjNXR7Ap2+vVIKVEsDHFKPuqtkDwC9MZmSmvgjAP8bXCzjQB0Bdb1acNm0QwC59qre7DwFAGNe67q2+G0CPRdf6XrkYwPC/p5wPDw/AVPondceWHMBbLd8Wr70nQMetKcUzGRHAqNcUe2aID8ArB6bH8nIFQH8nxK9LSwNAIRYd9MkwF0CqwSR7kw0KwF41Is4xdRPAtOKWmFLn1D+HRp5kZ4gIwL3ndUqWi/2/ty3bjTRZ/D842+gR7M8UwHEjOdSAMfe/Bbk89yb4GUCw/5HOeRkRQNPK51DYawpA7NWcGIsp8L+GlrulJ2brv3S4vlJdGsI/0oxCWF99AsBaVAz15WgKwHo961bS5vW//VWqKHZuA8CxdqjMGs3oP0mXRjXemwbAslDunnGwBMCxYp5AIqsSwEa0EP/RExpAN2HM//xoFcAZXIHdTU8QwGxfa+m8aBhAyWQy6vQfGMA72hmXkTEgQLuLvof2cBbAESwC02NUIMBucy3aFAXxP8CqlME4exXA02G+l3BcA8D83jPMUD/iPz8HImnN3S5AiWzRv44nDMCS5jlmKLLsP7F90D3QNBvAjK4ERloL/b9unOwX4lsQwAvwlbOV0AzAmCh/rbj0IEDcsHz/1EEUwH+W58/hAfS/oupYA0SNGMBMRayMNj4cwHpHCLwa7R3AlAj9UYp7C8DXYtybp4sVwGASI32UMgjAXqSOJMtiDcAfHVAGSO8YwCUQOTAvyPC/vyOlChw5JUBskSK5qXcewMGgg/8yEBvA2qLClAuQCsBYufiddi8cwHG0pT463AnAqo0gwxtODkAyKki35GsIwCiou+k6uQfA9+epKlteFMDA+i2rDjb5P0kenfHKcytABYYoZIuBAsC1vU+aZ0oRwJNhw+oRxhDA8AlcsjwfG8CdGfz2GZIdwDqtB1Tn2QdAlyE3wlAaB8C064zE68oTwHGSr3dmGwzAY7Tl73JxEEB231xHKiQfQG2QdrNQZDlAQLRS5/H9HcCuYFg+KOcrQGXqSOmdiRBAkf3k/U7hGEBmDqI1hzgfwId0495+fw3Avi1qkX0ID8BGnwV3PvURQPKKxgC6xN2/J9qBAbOdIUAUfK6h/h4qQPEyx2op9BBAtABk7/6xFMBKZTYkhiwgwF5S7Mg0sfW/eN7LlTTWwD+OQ5xjyW/ivwxxb1F7+/g/+Du3eQnhEMCRczr8EbgDwGpj/8pMKytAcktnjc9/I0CyMo5LqJDXv5uh10iCKB/AxesNQzHeIUBfkxkchqEKwJ/qfxHLxRrAQgOGR4K5BUA0EfslZ8sdwM+Cgw9ZlRzAtzySHbq19L8+V7DN75L8v05lCtJfCu0/BilanL1SE8BCzzDjCmgOQFleAjsRgApANrFBXxIU878erOxXHlsRQN9ukFf9wBrAD0WAFWkSFMBc2LS8jScnQKqIFvQ0vQ7A",
          "dtype": "f8"
         },
         "xaxis": "x",
         "y": {
          "bdata": "iIdDgnPKF8Dj/ejuEc8VQAmEEhY4ROM/sIhmw5nK8L8QbY8ZAsm8v3CAAJtQtvM/ysUBxq+FEEA1/5A7Ij4SwNd346SdcA9ArNUxgqYfBMDAlcp/nTj6v6Y5x0MpXPO/O+58rvj4B8AMTzjxTY71v6eFiq3UQydAlyeBMmy+GcCwweTxvBj6v78m+MyPPOM/oS1L6MAm/L81YO/dvJPzv7XR9Ge0ywXAwI5jcKiM+r/zIs9+bjYGQPCiCfrq1A/Aee1WHgLF8z9U53UH5oblv1ZiYXxNvg1AC03gkEfCIMBPMOJ1aPQhwJMm+IzLxiRANXF4+hdaEsAAnjyZOEr1PxSubCZX+AJA/ZWwPS1aCMCqHepBYUgKwL8UiUt0WQpAR5sphp3CI8BnIP+1jz8aQBfABVj3VBjAE1FdUPuK5b/F3WvZQzftP5La9QEREh1A2Q8628QjBsB1iKunX60aQKBcOUlFXOI/1ovZxKrhF0D0DPSyUUQDQPWCB8AzMBzAdowFGoz0A8DPB2FTdgogwD0mvjj0+BVAP0zDduY9FEAEikLudswdwIRwPE/b0gPAxOQWZ6lt+r8BF2PQq1n5v/OIe/FO/PG/Gmjrhv+FEsBY5IoHw9cawOGDwXXMIB3AFQjHDKOLF0AQQu3y9oQYQPclLEUeZfS/JIAfI5MyJUAqQ3nGQqgSwF0y182VuxBAxgG46hUy+b9QKNReiL8iwI/ouABk7uA/j4iNEWFdAsBRmbo1LLv0v8QkEBXZSxHAbXhWiO7QB8C2jUQFz+4DQPLpbEr2jRLAKy92LgHgF8DytcsTjyINQHM3sFhkagZAV4k/9+j+5r9G3V7hYHYDwFhxJf7Kz/A/bo1irh2vzT/TRISfjPoNwGbV1U2uTAdABOSq+Aj3AMCucYguBTn0vyjSXq4nOr4/5JRSgOJjBMDKphZBVg3pv7CWihybZBFAx4H+HY/pIMDqIq7Qvh75P2TYnna2F8+/1Y3W7PhwEkAM3/LI6IcWwGEgvWAP6hzAWkB9odoFGMBJ7id3mYr5v9lspBEwDRjApdfYbhtkI0As7WFoWzPxPwCEErYWHgHAfFDMiERcEEAkUHD8uw0WQMgO0U/ZFPM/EmHlSidqyD9L0GMt1yoZwBfUmjCwP/C/hEvliCUDAcB1lfqYU2wLQEfwNYd60Om/MRjNA5pAGMD9DxouCj4gQFF0sjtEixrAHD0FpnMPCEAjJkX64gcVQLRtYWCkDRXAFv1RAmQPEkBHzUJPuX7qP6d+y9i/dSPA9SLsXDa8BsA3yrrYybDhP7GZPZEMDwFAERZlMW3eAcAEZpl+GYMgwMO2BwWu/P+/DZP78a55FUByjG8+DYMTQOZXbuLuLwVASJoE2bb9v7/s+TTNCgUKwNJd45j24f4/nffw6Qbj/7+AZ/IkWhj/P+jPOFoiagfAkmGukg28HECZU3H1G3oXQLoms0Wg+9K/TTw5flSk9z+bnvOMJzoJQMKx0yTlsgdAeKn8Dt4b67/LHAwmfKsEwFmku2bhZR/ARE1dLNcSCcBSUIogil0FQMHaum6xkOo//pssXdug/b9QhxtxA+QiQOZSgLKgsQJAdO7BjD0zAMCFAYqieOwcwDjpupRhCAHA4xkhXTBUGEDgiWwbtkv/v8VJa3L8DwZAFoVceO38CUCQmFscUCUUwE4EhBJn2RzAIf3Pv82hB0DVbtysDyUgwGar9YHB8vM/RP8KI0gt+r/UgbzK3gMHwClh/gQ+qPG/s4hINoj16L8TStqZHxsHQOS7Q3KrtrG/qgRw9Bsjz79WW7G+jH8OwEW1Ftz2/A7A1tVYzA8rEsB5SdFxUdfePzr8ro/NrBlAZtIwfoFjCsD8EYqD2IzMv3TynDOdi+Y/k3LJkRI4F0A6qK277i31P6LYOcl4txZAaoGFpt+D4z9tLfeSrh4KQLc44Quf0xHAoQlcIexUH0BPuDOfDHDmP52zM39FYyZAhEiyZx3iIkAKos3wJxkQwCEMjO9FXA3AP4qeqRRNGUCu2U/PgD3tv9YX9VIfgAtAkOo8djXcCcAXqI2vtHMQwIyg1UTXjrA/aJBRBKcVDUCnDe6CeO7xP71hO5r5Jvg/diIoO3RwD8BidC7+BxIDwC27Zd/bUN8/t57wkZqrEMASKIAJ8w8CwDL90SzAjQpAbmgQMTi6EkCKOohzT5nJP/MlUyqdoyZAODvF4stZJEA4ffIrcQ8KwA+m5ZlMaSDA2ipVxr4PFcCU+5rLGcoMQBg8Taic0ihAEszyqoxhD0Dhu3QYWFAPQPpGRs6aOxPAFQzE+6UxKEBgdSzRmIP8vz+bQeU5Pei/rBNDBDYcIUA4e6e4AJP/Pw6sMUi/bR1A4ECse0ez6r9TQTeqZAomQNNF4UMrCSDAUCPzcQEeDUCBeCwMA7oQQGgWfks56gdAuNvs/9Gc+T8qp5Yt0LD9PwndIpHTPSRA9wydDOLjBMDEBuBiflIQQKPufrLnKhHAHjFRtKpACEAp+C3ZFzUiwCfBt+CrvNu//8H9PMF/wb86u07ZUHoQwNtHRUql8ADAXzkSQBkl9D/yIlTOzewUwDco0guVydO/Es88t3+XyD85wXJIgTQWQCWv6O/WFRLAS6EX3f7q1r/xCQ4NNo0FQP2eNIMmsRJADu1WZRegIkAY2Lrh7KUTQDRuSKkdpOc/fEIO9WYjEkBuJ0H7DOEKwENcsFDO8BRA1Dc4Wvs38b99xrvQjIQXwKREIsMOHg9AVkZ4paqR+b9Re2OKpzbmv+pHlkoEcfw/e8zKVtoO5b8Iv5db2+cSwIL/WhWLehjAy5hUzHxzEECu7f5YNpkTQIbsDLiEBxfAUNW0b0IOD0AAZXrpynjDP3EULyXpnQbAZJ26x9dYGcCrYWR5LCvzv/t4ThBuChHAPSsUeNKEB8ASU6gxZUkdwD0r7LMGNhHAAmJQFyxLEkAX8wVeh2UhQP8iRUwGVv8/fg2JjP34GcCr6mXOtUwTwH21R2JTGCtA7kbJjpE2HcC8zpOlUH4GwKOLfZPpkB9AcIri7xeIIEB8T6CrzKEiQPE7OsmM7RVAJ0WjtXDAAsAMFXaP+Ir2vyxUSdteJ/+/LQueT5RJD0BXgJFb0CcTQPYi8d0NfxlA/ma+ybcHEMBldgpFHM4fQJGOdelvXwnAMxXM5iMoGUCkN6sRXV0bQAdBLINRgAJAez9O637vG0DY8yFT+6bpPzxAyCYvmhVAOJSmV4X78z92p+S1UfLiv+g3Ol2o7hNAZJv4o8Lx4b+QojpRWfsWwLaA0cpjPAvAcOWm5hCPBMD3H4efidIawO9opC1W7ihAFONmI5UZC0CEE+M6phscQIzR+n7aShBARuHZPcUHEMAAesw5gM8gwAQz6AQ5zx7AnkookKF79T9xgCm5x8PRP4xWiFB+9fe/0nXnaRGSAMAnffbK1f7yP9vK9xMmnSLACNGAg0cEFcDuj50lFjoKwIjz+QPtEA1AUH010S+9GsCFoQQeKzMBwJy4g5aQHBTAFhe5V/QKHkCCEUnNE9MUQA/nYidUIC5Ai9vxKSX0+r+FVHS8Mur1vxHOy6FkXiNAQ+aQ9dSEJ0CAM2ffyk4XwONuRpDPeRJAXQ5H6IKRGkDWlWB2uD70vyoBMFozUAzAFTpXSW67BcAU9O5ZgqQQwG/x7gSvUeo/K5lgmzc9BsAWPbaT+BAhQL2d4Fn1INo/wtTEgPsAIcCtrIkOGyYDwKjukhOrrixAkoM3hSF9JsDFypLAJ7bOv0usSUJq+BjAMFFitrdfGUB75ibVNOrmv6D2OLcLafg/fyzqUp5HEsB+R9UZsugKQJx5Wbrh3cE/4MVqIlnoKEAH876gGksRwDATjOuT1ADAALMF3SaP478dU/5ca+oCQBnpY3J38RnAEPwU6uMSG0B23HMwSSv/v+H+sP8xLBHAH8gvH/SIAUD8PBIn9n4MwKok/Wq0vgZAMOeXeDWUA0AIRsU0Iu/9v2BELLyLsBbAbzRVn6MSAMAWI/TR4KH8v2lmZM2a1hPAdT2bhpKkJUDlKu5M6nnmv9eZZEt57yBAEtdVmk1y+z+CvUTlT7Huv0FOrTYXgRLATJuqQiPhFkALX/jHvqsSQGs6gDwwCyBAaAYqLw/m8j+8/xUefzapvwwPL4EL+xZAOaxsx7La9z8MUWjlH4YFwFDmRE2I8hTABphW3mXaGEAmToPQ8W0IwOjFvldZ4xLAYSIIcfgg4L+tZ6pVUWD7v4niqxkF8hNAoTl0xj4xBMDUAcC+TtETwNNMlo9sUhpAqS6ONAu1AcCcPQ92hB4BQCjVjKMzFBbAUX5+KlBlCsCR/tSjrIDQv/OP7S0ZhBZAu54sXYheFcDj3KTKUhoZQGmlBPjJ0wFAJQH3TxM94z8o5qeuubgCwKjmJpUWox5A0wLcSQLPIUCj+hMrrBnTP4TiXUkkfg9ANzPBXeGCGUDzrKLXe6QXwFUAAH4ritg/sjbYJcCU6D9HSwdEH5f2v+Nv3EsSVShAvk84t2w9BUAxZROgC58YwDbqlFK6lArA8QLXsxO3F8BGqyt8KnMmQPQJZBb9DuA/FuzG3sSABsD6Rhz6b/4GwGbM7Ik+9yXAcOmHUiFFF8B8clEZ8ePBPyr6+fcNIiPA6lTWzYXXBMAmVB5tiicZQKC8x5lbLP2/wZ0vX8PhEsBURyIF+zoJwNXd/yb8uxPAQs/uIjytIsAuaoRTfGgNQB9cURUEVhJAadC7vALVCEDh5U//OFAmQIXtaQBCdiJAcWglhcg72r9U+KrGtUTyP7t8WfIxTgZAYuW8AJmT+r/0HM3OgkX7vxYhPxCM+xBAVKRnwJqXHsB0upJ4YU4RwFwY/04nkeC/oQih3geGI8DPo+IYZinov9CUo5w5qBZAlqA0EyVO+j9fUVTruK4RwLymvfIDxhtAeROXOV2GBcCCvbxkxmIbwFYn1XXdrRLA0KvNCPqnHkCRscEaqT4UQHOM2E9S2RXAvDOLg1+eGECRzQ9/ghACwFEgXR03eSbAY8qkbH0vCcB2OmIn6pAXwBlFtv7OESDAME3oO4SrGcDTM6TXQxMHQIys/oZU9AzARGIeyX8vA8CRUHaF3AYEQMzzs4awtv8/iXZ96hLFCMBxyJBATgQNwCxXAnhWLCJAdtyoOTocCUAYIE5d4pMGQCUBJ+k5fCHAvvxcrsbdGUCSwuhBV2IJwIGdSp63BwTAKo3ziesPGkDBTe82fMr7v18Oqm+5fOy/xBIQ7q8GH0DqJ8lLKsYjQHTfrgxVHiFAFEj3+3elEUB9d1nK/jHmP5HiWRm6VRVALIqBzdC1B8COiFo0Q4ARwJZ6XZVAIi5AfafSxGvh2z/DNynePScTQPdmHmwHYhbAXAF+6hYUEkBw4hvDyjAFwAx3eEb8VBLAQgaMkL3UA0AerlktZxIlQLVF7ubsCgBADlpMhWsPD8B8fZAnKtryv9RS/CAUSw9AnB/t/Dqqyr+kSKHZGx8FQF3dCF8VYeq/9YjC20ITEEDwr0gMUqTyvxnrzIOTCRDAOharJrQcMEC/vzjJSEsWQEXevpti+jNAxtzQgsErAsBDj2gJVdcNwO4HHQTQNxFAf/wJvXbo5r8RJ7UNGEEbQJzA4W9PQsq/MYEPDNVyGMA06PLxa0QQwHCrHc4b2w7AgIiC4Q9x/7+cqa/zG54awN2kQ5uhgwjA9AJlojo7FsBALHIP15QDQMvi/S3+6vm/Ga3BMMCEBcCVXfRuPn0WQMMSR4jt2t+/xK5kuI2XFUDihz6JNo8FQJbjp/PaEBHAzcMLW+qaE8DGBiICLmcdwMaDrjGUr/k/i2pW3cvZCkCPXASZeocIwA9y044e3gHAz6uNytRGGcB73W7R9gMJwH0DPK24AynABgBjFBGs/L9SE+sI0qYgwAwXK5KAhSBArIP78xcCDsCe70VPHY0MwHf9PUvPovY/BeIHcv0GAkAKPw2w6zsAQEJwUgQYRsQ/LNccsRHXGsBrCfcqDkv/v2OBq3nxp9Y/v/9O7XsbFUAtKqDLcLgJwIyMiqZZcvC/D8kehe588b8tPiWmO3QaQPl6KC5PCgnAsR8ZSHDKE0DZlWzuFdPVP+gb+wkBz8c/yOQpQTEpGEBWaSTj0oIXwC5Gn+bobwhA5JHxOMV1zz8n63emAwMTQFsb0YyYmfU/XLXFXcnOD8A0MPjpQFP5P6XvsEccdxbA3i/ntSkHG8CMImGk71gMQJXlFlGXW9w/LxAe7tnJ97/Ez8qs6OMJQIkWXZud3fO/1GEMq3LZCcDuv+rDJqrPvxWLrKCekADAYdyPM/SfIUAW/MkJ/wcDQCi7xnCQrpS/2QD+cv02+T/xNRyDY4AFQJX2FghvPhZAkXpyzvLN3r8KBIbO2z0HQNe0DfbHOSTABXurRgUADkDUEDzjCtoMQBQmorHOUg/AmXmkxVd7J0BDJMogt9oUwPAc1E/p7QFAvBp7cFB2778cz0J/otDxP/5Ktcnj/A5A+Mb5y+xpHEAKufDywpklQGlbfw/R8xBAgNQBW9/OGsBKxVABEvcQQNZ/3ZkEOgnAJtzME5XcDUB9QVnRO1IPwKHQudpwVBzAFiAEZRubIUAqK29hsmgBwHHGrTbBZSrAACSo04f9BMAEVRTRflAJQOQl1hi6aijA2PVgYrK0DcCMPuPCxngSwFDifGFNdRtAqXZ2k+k/B0AL7IhRqPcrQDY0OiDQjw7AqsL08986FUAwa4x/NPwVwOceaptfZh7AHV/2ckZUMEBa/kfQH4EZQHfcmUddoRlAAnX0WFZpHUDRB7PdiMgMwFYT4AGmSBrAkI7EDeuCIcCMQopSxGohQGjQGf0kOcg/mRbJ9o2DF8CP7rBYMHENwDeahgxzlwhAnJefINenDEC+5YuanK8hwErNoxgbkBjAHdMii6ahIMDVXnKAiqgKwF7dsbv5xO4/G7SWI8wHIcDxs7Koxb/mv6+drWDx5hNAnlhSemCaIsAdDrrKM+javzrVs77qXxBAZDrl1D328j/l1nS0bwMQwHjBj/hxYQhAQWmRmxgeF0BvkgrXIhDxv12kfsg0Kh9AlVTbfka0FcCpaBg5T/kJQD5c8E1N2hlAOC9gumsV/D+UEmNRfnj3v5GZkBTiidU/sZ/PtFI7EcA++WEiH30LQDWR49u9nvW/Load84QQHkCHkNnugiLZv36TWY6K9PE/I2KA3rOVFEBbOzwIs1HkP4lie7+djiNA74/y+FWUFsDg4OvFW/yzP1Xqa925oxxAkwGXFxNBFcBOtQzsVxAYQLtKQkwKhNc/ajejsMXw/7/0Cwow9q+rv6jVJzqWlhzAaHztiovgrL/PE2n6NiUJwMS7Rg/O6Pu/A7AXTKBbIUDXkTSORsHav1J2QubD4fW/GjVBtDPL9j/Y7BamsUQlQLLmxIbgpAnAFR1YQXyY8j8dKBqI1YwYQMIYDifoQ/q/sErBpE/TEEA6xz1OB/4awP7FDdtMcRfAFXWb2NxXIEBNBTdzeyAFQMa/J6nqFBNAn5SI6sNsEMBV0Z1U51LUv5wvFo+rUsQ/37sEoev/A0AfHBAtmnwAwHnVJai1csQ/F2eGowvuF8AYtlrstogJwBCxasJ8QBbAt0EwPv6yCsDV/YBk/CkfwI3beag5ERHAxjNDbez9HsCPu4xb2nYiQFTHuL5QAhVAiAGiB7ZEGcDcAj1q0ObnP1pVcX0w8g9AIC1IJH0smz+Y0rplVgLvv68S4rI/vBXAzAG671pLA8C7Hh4M6ooHQLSYPpRWexPAsNzU5MbKDMA/jYFKXYgVQCgYtX9MmiXARASLimI3EUC7o2LxrfYCQPam0vyw3QFA+NmW0PxJ8j8x1xjLg7odQF+zcdhYBxXAQYeiDJaeE8BuwFZ8TJD7v1uMIXmLzBHAT/A6fG5S/79WX6/g5I8iQLwVnKwc2BXAYqabNYI6GsAJ7FRKdfwJwJ8RIAopXBZA8E/1HC5GIEC6aizlVJX6v1OqZcnHG/m/XPoGONFrE8CcWxNul7oRQAac0R+uDgJAq/Kgh8ix6T+4LPYQKhsHwGEMTU+M9fK/euSiHjnTyr8lUJW3e6kbwJYY/ydjQQLAb115JVidEMBHG+Om4EUCQBgC50yDQwXAjhaHSBqIJEA4RQqlGnwTwD/yZuxKcyRA/XtuPGHDDsAjUsLE+o4mwEk8SckIkhTAzyn89B740D/vmFuStX4RQJXGzET9/Pk/rY1pCKdS8r8aeoYnrE8SwCVwBbF8gBPA8hFRCtA2D0DooFkCADsgQCeKYXR/ABTA/XiORteH+z+yiglWITksQGJOKEU39CdAhnNyf5qb37/qytdsLeI1QGuwBAxk+BDAqszJeBM//b/sX10oBxj7P4j2xEx+khHAh5ry5QCTEsC8b2FIBGQlQHsQYeYDlPm/ZVqBP8Zz679AS9IUW3QHwF9ecHgXOtg/9B3MP1e/GkCQ2JyvPDkCwNVgqPzrFRBA2DOImTfXHsBMwz1cDGkLwIcsvLP4hSRAcR1KnZIp2T9TTtA2b3wTQPUsydEHFCJA68UVzYUv8r9TMTsx8gYgQOO1x1ghafK/wdk5HyHmGMCGeVAttewMwP86xSBF+wJAb2vRDPpfG8DQwBJMlSD1vxW9u8zimvU/AJZWQVenrL+Wl1NkQbQcwBemfRXbe/K/Z/189m6w+L8lsSQM2Vzpv6QnfAeFOhTAGqkJfekkEsCd+p7hEpowQPwAuKi4mwDAw5QqLwDCFMBGM4Nxkk3wP4zqTuLvQylAw1rSEBNnIEC59Ehv2rX5P44ZL3KF+wHA47zU00R7CcDjoPiL3FkQwCoGid4iZv0/U71dP/lBKcD82SBjDosGQO2gVXZBEwjAxQcK/oLeEcDIncXvKNIPwB3tD/6GAP0/YAcXpWgLHEBme2wk+uPxv9r14oV9YxJA/PQzMNAKFMAwWm0Dkce5v3a8xs4y3gTA2zCWUFrRIMAkZL3TAZEnQL5KurPJsPa/DDuiFvRuK0BI2fHXc0kJQEVZ1NDhuBnACu5H8UHmA0DdeSeov772v7isB4ViJApADoCvzsY38L/VCmCxqpzsP/N76sV1VRnAmVWABU5y2D/qMhdvORH7PwCcJTpsFxDA0AI56caa/r+km/wgHmTHv2N388qWne0/q4a1uW2eGcDaAcdCbZcQwJ7MB1X0s/u/pfXP7G2j4b8ZOhPKOHXQv5h0nWCxUfO/Mu0wN4iWGUAn3HRj9XElQD6NqjkBcCpAUfFJ0fTJGsDYfZX4LOQKwD2NB4BQRBZAgSBehB9dF0ANecDNqgQJwFCnGVh9/iJAWblv85qOEMB8We1N3vMRwFybHRsPpQTA8n1LXhQnGkAFg+uelMHmv6cpTmaWDxlACSvcVry0E0BwIebcP0IMQAhqXRelCw9A4TFPRPp9I8D1BJLJhpsNwNbLQ701Ufw/8W68h0jnDsAIL7n5XeP4vz609PaZZf2/YFPymSNI+78kMRFdFzUCwFApMwuaxA5Ax6rsIEcOB8CgH3OVlwrvP+2mLkLlPhLA9aTLZTeWCUA/DRCuBkMbQNRthb0/1xvAeKpbAfgYCkBwUdbXsOOYv1VmoR1ipwLAtklVU1WN+7/zlLxcKDLtPzEckGkcBhPAMcLa/k9AFEAoK6CZy4QtQEu9U842JxjASNpZvU6f5r92XqTxBCIYQGDhgbd0gBRA/imcH9Yf4D9rBqa+xCcVQHm0q+LiEgPAaZeiuRt94z8I+9G76+MEQFSnU/dN2iZAFAKFEkCODcALxXIPNBn3P7LA5+/7SBpAvTWy4mdq3D/4Neqn5rAhwJ7Q3E9O1h/AzmWfrnmfIEDTCWv+JgsBQBYSGT9v8fW/7mTrg3lLGcBXv5MjcXUHwDShHHRKLfW/Zsh3hvgzB0C+3u+GAIrnv7zR+eceKwPAra3mdTx2EUAIpMj1mHHLvwU2WezITxzArTqrG+v9CcDpLQEa7UMWwMA9+f6WRwrAKuU6Zct2AcBmlWsiWIcHQAcFhnlanxVAcEK3s+7Z5L8hKpomY50SQO7iO8YT/Oy/SQCI+Ic8AEBbp/JirjkpQOrz2acXEwZAqHxcvXogwT9y7NCK88kjQHsKAn6s3BPAmrSkyhWa8D/HMkF+bxAAwDefqeYtBxdAUDXpVog3+b+V8Cxj464QwAmejEun9x1AUGEmDED+/T9tS2gWpfwHwJTZQV4iPfY/bXinMCh7HcDYFI4Qi5wNwEtinxAnhARANvDWbajSCcAGu0+deDIUQLMaloEGpR1ADndwdzedH0CtyshSV/MdQLw7Kf+t8A5ALQniiMip0L+dBanC1PgewH2mrwVN3RDA/3/0UX4oFcAAAYVYGy/hP92uHbj3fhTAMc0hVPtsCECqxzRFz8UAwCTkDHUz4QNAfyFEOYjk+z+wzTYrpsARQJDAGAqpfDJAB7K2E8HeHkC/XMZoNnUhQCADowlygOE/+kIlDWWXH0AsWwCx/lAIQA9QbbksowtAdWo6W9+SzL/jb/fK/d3yP5ZkRfVaXAvAq0wMmzwsEEDyTcj0BX0ewFs2QUAT+TBAlvSGT/vDFMBxiMMEok80QHPQVpQiHChAHSATQTwWG8A7U9XH7pMJQDdbggmvNOc/TZFrMZYbIEBg/CMohVshQJD6j3OQgu0/WgDd47jWCMDnOHLFWycHQBrA2BfA6iRA8ip7CCEzCcDwW0uHRvsXwLiZIwF/piHAMjyC6RDaH8AkoLGorSsQwF37IPu5AwvAQnVA9NXRBsB5S5fTm9r0P0n/bhfYFxNAXlefQKk+A0CMqakRK/cgwEpYKndMYuO/ydF1iqBdE0ABWfOzfN4iwDBzQ8gFYvU/112WnZrp4r9ySBeRoSwOQK52OaP2sCFAyGpYimirB8AHpcm5UL/6v4UlRwcVDhFAGiaBZwz/9z8o+I/sCPASwBFjaXSF7hDAnDq/el7Y8T9XnjqKvbwBwEeZsfLaRfC/3u5uldStDsC91c6uygsiQAWZNEF22Pg/ZaWkUnfqFEASbGHh8YXzvxpTe+ZS8SRAWfWZHcWh9r8gOvtJqW0nQKLFYmgKhRTA4qN1W/UxFsB0LCT67lTrv/k7IhHT8RPAEbL7RcdoJ0AdYsh7/n8AwHvKoB9iv9c/6Gq/jKlbBcALeDPhU9AcwFkfLl05YO4/XHeme0rT8L8HrQxugWPyPypE+OPIsgxAvpwF6YO64T9J23KDRDcQQJseLcOO6RdAMmF4goV7CcA4uW4FdrEbQOz3zlOAhci/gQAXac9dgL/5TBDzWG/cv5A3JlmF/idAdSqau1fz2b+rL4pnaSwIQJUycFoxBdO/bDXa+YmjIEAWTVUvwpjTP4l4hOr12xnAA+zTaqgxKUCO1juzoeQlQCnKuq93g92/6WDBTZ/K9r9+e1I7LUwPQEOqosCIQew/CDjGKQsLBMC9QMRC01gMwAhcdT/6PxfAay0dThqHFkDugsDoLUUQQFi6WInRbs4/h+aaT/FBJ8AX86ELSSESwEsbnKFyzCbA/DnKuHvryz80pNO1XqUIQCVJeqxMPxhAvjxTPt5vEUCC6p6dW7r1v/o8jG+ScQVAXiBk57gJA8DtlpEHvEISQMLdTz+HwB3AEqrqEs8CCMAP2B8jqggjQDJnH10UuvQ/qjzwzVb+I0ANhNPIl0cDwEOKj6AadwfABHWruODCGUDZ/6XPhT8ZQC3zyuEydwTAM1LsfrcZ/L/OeVLzHtLDv9bA8npo+hZAvxarzwCe6j+DIEK+ff7bvyuBXdWWzQXAtapthB27+T/YF/j5Yt3Jv27Z5B4wWhBAFo4mlw+KLEANyjDAX8gOQGirv9u5lBLAOuxS0TP43b+irH1GOwkDwHDiZuZ0zx1AH/GXZniHFMDgUvI27aEEQK8TjPT3lBtA0eZzhRNrG0A9/a+EMQAgwJAblNxk+w9ArvLqNd9MI8CkTSVLrQggQClDD5fQ8wRA+DjmMfC6F8DSxO7EjBr5P5ibARVjWxXAjxWkJhSuG0DoeUQbpKj/v8IiYBir9QlAuqoKpuVKEsAtZaEE4ZIGQDxhZrz+SvU/mXPEnV/6FkA+uNRuX4v+P5WzOyJZ0g1ArqI7fFtsNUD8FMeOmwcXQEIm+E84vQdAoFA8NISpGMA2awP6vK8NQGgFm4ILhBHAiNHzcJ4UCMC5DF943bkNwDRondq+4xTA+AVPdwj7oz9AciupwBQVwP6K4SzoqiBAW3e65KeCAcBisTWav+4XQCJnDrncXeu/PH1BoPHdI0BuCGRMMI4FwIjBVOf39Pk/cmoJMVoVEMC+Eo9tkYkhwN8Q0Z2vZgFAdQfDWoj0C8Cy56WnnxwUQNfDpDixzfO/3U89/jlxDMAev/LzrCMSwE1FoBsjwQ7AqaESlSwlDUD7ShTOMTsHwAi2kR/JK+Q/pjjMbB87+T8YEpttokn/vyHgaEEQMR9AJOISEZVHEEA4FgTI73H6P7BGW0pw9c4/JNa7uwq2C8BOVRg6lvkXQN20y/1NRrO/q37Wm6NYFMCGW+O8b478P468LzdW2PO/gwebyNQ9IMDTtbqLugMOwOQlYl+g3BTAlzIA74HVEkDDkcFX25kYQOufwWMJQSDAsL2D6ozGur8kopOL/rUhQDIHiC5ugwjAcaUJoPPtCcDWnlI+zukRwDvXRiFhfwRABAZZ6NZyFUA7ZQ6IJ5cGwDOHLlfdmtW/3zDcVOkTEsApRUzv74MkwNUL/jTeJx1A5UweLnzYFMDdXicVyvIMQFGNBBbMPRrA05IHC4buF8COZ9OTkS7xv/B/8MYs+A7AozbrSbnqCcBF1zYg3B0XwLfF7XCXE/q/Q1mdj1ifA8BDG1zetd8IQF4ghJiHZAPA3ertCbQ9GkD9QcYWpxAIwAIf/QC+w/w/nn2r3lkNI0CyQHOdyd0BwEXW/0Z/yB9A7iWuQsLyAUDwxApvpbkjwAKa5nZ4mxpA5OzJgxQ7EMCEjkqoNAK1v1ifQcOZKw7Aks5y8bL4A8AmxZOtegPiv+X+J0yl6QlAEZHt4L6F4b8WrRiCzF4FwOI/0Q3FNyBAOYXIKll4D8CkNdbIolL1v20XH0+FjxDA/tnjjLhdDsBMfOBvaVYVwEsRj5EvGBfAZXLxeAdGHMDWOLU1rBsBQB3F4Sx7nRRABqtPNQa8D0Ayx9OxWiT2Px4W0sA+Yx5AJAy6UwRfFcBa+13oGlIYQMJN3ImhWhjAVU4nscYdFMCDOATlBa37P9CDxa0jJKy/LvN32Ks49r/fsOKjMxMQQD5m9NUldAbA0H+O31TwoL/OR3cmiDALwGbDSOE4jPu/SX6u8ThNEEBRck7/UycewD8rdpd0nhlAS8Dx2MC9CMDxRRhSkV0EwPla85/KYBbA+l/uYt0OJsB8CsNU4uEIQG4BQIgPVw7ADNaqUwIFJcDGdazB568TwFVFwgUnfR/AjMRzawrwxD/O0lZPEWUhQKChIFBp4CDAX/19ddGVGcC8tfquYZvpv8b9xeS3tOS/nXZ0PRicBMAlK2ZiVnYHQFBNUV1PGxZAYn/QWfZTGcDrNayupzoQwHb0PJPV4ynAYvqAgYCJ9T8zPK4n8pAUwN0rhoJcrc+/SRcO6uN/H8B8Jj3osQgCQGtQVpv8vuO/t/2g7bHA7792q3a1ReANwBbCWZ3aKRNAgmaCQUjl+L8xCTg5HmfWv/IC7DTZSxZA/IYKDsnjw78EFWAKS7TwP3gx1/TcswNACcqmdYlTHcBNFXN95ur3PwW2RuHCp+4/SM1vIpbwIEAea2mtHJL6P14cDDiwAyJAPArxV7Et9L94sS+9YQMXwBGWtgn1tRXAzcnUuFZY/D8szeNayH4ewPORrZGBkQ1A9pyeKwl3JsAs24PUxrn4P5oEwYVg/hNA7nSZSyMdIcDNXX/soVsHwKdTOD6udxZA+N1X69Fmv7/Z05Zt390bwGUFyp0+NR3A2g5+tAhh9T83F2fORtEXwNsgYZfEJyZAbo2g2Ek7GcCKA6jUnFQhwApykNqNMRRAljJQpXlNAEAZOGIX8QkSQKH+xnr6pAvA/CWDSTp7FUAHSdFkAD37v1QxBq4BnRDA7qhP/V19HsBlbtYPft0LwAulqewp/gLArDbHz2wF+L98bXZ7pboQwJE/U3/ffe6/CDwzEj5pGsAQuZaKFhcSwIWKcYrv6QLAlOhIwdtCD8ClXIj0Q2Hwv0fYYeXU0uu/wIwrzxe7u79Xlif+NG3Wv47zT4WK3/I/MG7UiFYe/T8ftn04uoUXwI53nBzEpR1Ax0k7NfEd87+3Df21inAWwFZKzohlTBDAwvrQZyqNHUC8qwkgO2YAQDwoq3LCQ/6/U0+WCB+uGMBlx+A4cx8bQPyKq9OMEQLADU/9pKQ7IsAGeJGs4bIQwODYvZuHLyFAxs/Tu2DqG8BCS6x6d0MaQDxpnLVIOxBA65wV2XJkD8DM9xTArhcIQBt97OQvSAzA2mWSqOo8FsBRwAI0ngAIwJI6eMegaQVA856kAmvE+r+ZeK8WRHcIQF72Nkx6sCRABQtc5fXLCUAopT1GiqGsPzOjv/uxzRPAAEIhleaqCkCqx2oxx5wUwKW+Cyg0fuc/163p1sQBEMBapxgfq/wCQI04ktHyoRhAyClJ0DhJD8BSoLFLHIIPQG2u15NVahNA7zElKUWsAcCS6JUkEQ36P1YOiwTEjw1Aa9Qwf7xw8L9Wzliy4WH+P84xMMNprCDA7Isbj9JnIUD5/u5JVnXhv0IgNdIDrRBAxqYCwt60AsBUrKDytZcKQItuKAS/e+8/PxEpIH0EA8Dxx6XSmenZP/wDhc+sTwFAKeTdsAC+EMAQSt9pq6z4v+R6xJKro/+/bn/ocwCO+D/MWyhZaKcsQGoaYUljY+U/JsBFM6EqBEA8T9plkQgLQMdUUgEY2wbA5TaKbNLC3r82AQO+PYseQCshV9YYouC/6IMAc1QM8L/TGnUjcykWwFFcxI5Ztdm/1WuP5eW7IkAUVppjB0UcwHuUQwYjlwXAaMygSaOT4T+WO8BauLUTQJwdOT3i9QBA8D6I8FYkGEDbQ/MC2Hjfv2VsTy+mNeC/bwACh1ie5j8jTA0SMZkAwCZncpMvkhfAMmBVsG3pHECMr6kNfAsGQCwX/lxcaeW/OLXjDI4XIsBmcFGxWz3yP2iT5GfZKsA/MXk7a64H/T/6IPy9RUsOQDhunCNSShHA3b/nnOeUEsDXf91nFpoewFZfLeWSWwFA2DLEixuoIkDLLeQjhRcHwK+P/dU4Ch7Aj0UnbVX6FcC4vWVwxTj3v1S7CnnD9A3AJstYAH271z/s3AjvJMTOP3TuxezvmgRAVnNk5Y82CsBPTbBdwQXDv/OP6YXMzh9A6KH0404j67+ycJ0GHnUNwD8goGVvdNC/s6SAaVny0D/hZBNPgO/GvxmIumpK0RXAPkzOOew7D0AudWv1/t0NwAIyGzoZRQ9AIz9oEuTHG0Cl4l7dmXEZwEGSZ8t3egFAPSVrpi8FDcAFYm6Z4e7lv85ru9cZfhfAMALrk9NgDUBSXczkDVbgv6gjF5Sj0fc/z8UZGWpmH8DDpMoYNFAAwM6cA1Ds/AjAcNMoAUA3BsAu1uwcn/ERQLn5GY4vRPQ/DeOFWT2kEcCiSmGkTyQAwOkawUf69/q/zUd2ZAhL3j/UqgL10h4UQBZnpxgGHRfAbEhEzYe88b/IWvLFy5m0P8mfoNXLRe+/7Nev3/A8EMAzIcqwbZnXvzLEIvmsZQdAEaaSXoWXFcAKCWe7Ul8NwDchkYRrUhDABZS7hWYLBEAOkckruRAFQIf+0TQrTuG/TxqQyy+II0Bg45DCPtklwBTmAjeW5RzAkP7DNk58A8DOFVG+WGoPwL4vKArZCwjAYG8LGv5XFMBt/6JkXXP6v/Bivq9stgjADOM9R4vSwr8IYCZUASMRwO1006tSGwnAaQBIgaCe6r/fFFJVuVLqPxhEz0h2ysK/+EplgO4TAcA3wE67sBQVwJ3NcmPC8gtAzO1+g0feyT9yMKSNYy4YwERuGIjtlBxAvzFIMB8BFsCvPEttPNIGQJgQrKukIv6/T6sPB3NTE0AbzBL7VCL4v0ifQ/whngnAYLJY1LjXA8C4DGTCQpYDwJy5RomMuwPADrZE+GEMHUCCuyoiJA8SwLkWLhXAXuK/b8nMSyMiHcCzhtHvrJLmPzXMo8TLJCXA0NslE0bIBkDOs0vP5lAaQB8JRAaEviVAzD4sFgmyDMC3ntyytm4KwH+2wwfAshHAURNVvBNSIsDf2R+cb6UQwBhmqLCrAgjApDeykXdhFsCWdV6zQmwbQOuzCKhmjxvAf4j+Uw9p6z/b309NH3wTwFWzqz2OzwFAKVzGxqvsJsB5wtkwLpDjPwzo0RD/Feq/UAm6ruSq/b/OmbHjQCQTwKoGIrFCUyDAHC9OH0vrE0DiWz7RU7AXQCA2QGmhhqO/EVp0J88xAsDL8wExWN4QwEq0T5j42RxAeRjG5GxuAcA0tvkqWP/gP3HPqqsDfPi/Y6sX95S8FsB8aFRXG6ISwDD/DaLOcCTAAalSyFRaF0CjMnMY8yFvvx6HRfljVRTAlZTyvUaI8L/0XVejjUAmQPVOmOsUihrAlMOf42GRw7+/SOZ3AWf7P+oW5WTRnvQ/W7SfB+apA8B2ycPI1LIbQKV8mRRCJOy/Wjv1KWpe87/yT1PPdRwSwG+djs3LpvY/9llxnbY6E8CPi/a76qgqwIBzx1hVOvS/cvaCtWruAsAhTJZoxwoiwD3K7Fa/bhHAKOVrRqWWGcBsRUyyl/T3P/Tf/PPjThXAFdrjdVmI4z8P/fpGwuffP3xgz/C3DfS/m14IbJdEEcD/+hQnSZkGwE1/bsuRnwlAMxuskMe9xj/0zxb6oYb/v9RXvjS3FP4/gf06TDyn9z/CtczjfgUWQEBJELKnPi9A9BDaGPPqEMCnmLOZSeMLwB340AIlH+S/3q1FDDZ39z9qTvmZEQ0awHja2Y52AhlAU/l4ubDx3T/SXZxjoRD+P5lZXK+TXCZACQmMJ5HfFMDbLpy+/mcZwAI1Sf4FaSJA3B/ryWPU/D97TbBCvWkYQJbNQixpWf+/sprbAJOnB8BCFijnTYsUQET3q7/reRpA1Z3pSgFrEkDCLK+7xLYXwJ4/89z6hiBAQPEbZJ9MDcCAM7fD1VWtP2aWcp1GZOU/sA06k0yU4L+YJW+c5R8kwP2ZOngzJhjAxj/l0/Yu+T8HnaSb2FwQwI4s4OL58SDAefkUoLfw+D+10XW6LnEaQDA8gjL0ZdK/EH4dHK/QCMDVo5GvgRkQwOvuofZRO/+/riPhcPHx9z/j/VIQhosawPiMR0vIRAhALFu7HWiWKUDHu71CnkESwDfTGla7ifO/mTV4WBcPKcAg4vSWgKEqwFncWUIWOipAC98Aqiza479N6qvaZQEtwKQcjKuOTvk/TdVv2VsA1T8v85kv8tsrQLZQo4WeRAjAd5BxX6NRJ8DjSlPrJ8sdQG/md/QvMta/EaxWWcTME8DmKElMEa7zvy1hSRSFjCHA+3Yg4TUF0789VLleGWcZwMyrncHruADAfSVTnkv/AsCII3mHNsr7Pz/uRNmVeoE/U2HlJQcYG8B64jRd34YSwCP6BoloxxBA0reTdMDICEBzXIWNSP4fQBfx+3PUyRJACM7igwdP+L+Qgei409AhwGdZWu1pggHAWBZB98DuAMC6tCt9/vIZwE4/dR/OGxHAmx+PZ21lAEBqpe6PDn4cQFaOfoufsAzAbn40HNgDB0AD+cjxdkTRv3tPUxtR6RbAfY/9l8//6L8mcgX0y1sAQCHFKiFr6g7AJ8PBW06eDcDsLV3bFSABQPgg3+9BLwLAL/2rXuNgCUBxPyTO23wTwN3hP4yFKBTAj6bsFf4DIsAZfPZkmoDhPx9h69cbhAHA8hBSmYT4/T/ly3Ghe0DZP/7FgVUqr/k/srv2i/SVBkCWi0Im+uQHQGmBfmYhnzBAuUUFZKcPFcB/8UiA4oMTwJC4PBhaDvg/MJzbxDbCKMAr9+9bUWfyP/6IB/RVmA3APnDKpmwnDcArwiiIzlwawIVwQKiZtA1As006QKBKF0Cj8rhwDezxP4we3MJhbRTAAthyM+Xu/j8PJGiv1nwsQNsqZS4DWBlA+teSq2gnEMCrJaQp7BUWQEmeGQ36lwlAtshQAVorAECDfdIL6K0DQL+pJf4CiIw/+BF+z2p4CMAa6SXmojgXwPIoNHsmJOS/QjJ93Wc6JMBQqWblcZr3P9n6tJBhnAzAaZGn9C/YEcATFGs3UIoRwLvKj2LTKgXA5vSWTHwbFEAho53syCgTwA9cAWqKDdc/ag7l8IuRCUB7570PjyIcQBesG6S+oBHAwJgOoPnX9r/ZpYwsblMiQKb+ZdiRxxJA9EYJp2SD/z/O0tB9UxL3P17gLpg9Q+0//wK/qjKTMkABeP0PUH7XPwfMlAl2IwPA0icmtmucFECKN+yor9QCwGYQLRyXJRzAcEi4CZFQ4r984S1+gcIbwI7AJ7Xg+xdAhngF59Wl8D94VS7cZdEMwAdvI5bUvg7AeCoAgrkxCUC0lJZnTtImQOKj96P4qg3ATvvkXOB18b8VyL4CK8jvP6sVkB4aMSJAGa0HaquRG0DbYYGnG4Hav1gnNl5vOgbAbTQKkga7EsDwyDqYzKQTwB2JvSKDUPO/L272tv6JGMCYUWCXoycIwENCrKvLdhxA4AtUU4jDGsA85BMlVD8XQNW7YnNQfBHAonUOS/u8EsDe6MEi0qQDQOzAprG69QTAozXpOtPGFkCtRNvOadvwP6uhw3QqvxNAKL9vccfF/r/8xkEVSqcGQNI4Vxbh7BJAonYm9tRu9r8UVIqmLPn3v7iQA8oX9RfAsH7X63TbMkAFjiV8/C0KwKyzQedsmP6/mntHujOB5b+JMaqsku0RQDQhRPtiP+u/xyK78/HaE8A7YxGrcsgSQM5dEU3DIQhAl0UvKlaT0D+CjLhBWV4EQCfkYfQPWvO/v7soV/jVE8CvV0MiqHoPQBDDOHbvVtE/tcYX4Vh04b9A/ta99JsNwJupgizr2CPAO8ZCyAgdGMBiw8QyuRH4v6QfM7BVvhFADKw4KfvD9r+OeLiSclXqv0vaUFcT89e/fWLe2y6d5z/CmQZGF+INwLSUlB8GPSHAVwRZBeMD17+vp+6hwb0LwOotbwHluA/A1FhmFfljKECdp3BrJNUFwA5/3FKkMeu/Fl+5Ah6OBsBXM+AXgqwpQFbdwx1bDxZAiUVlvLdQDUB2p66l+jD0P0s5hnWmWQJA+vEjABuI87/+qUvKQLj4v5k/5+n71xZACLUO/lUz8j+sB8wcUQESQGihqzslTRxAmZgbxKbYMEA9CM+hL5n9P9Yc0UQaswPAy3wM4aa0IMDY/ApZFAoRwJXQCQ4de+M/m1lrq0OkAMBWrLxTO7v8P3I41dhBshzAhA3VkJPTD8A8fyb46pINQP71IresNRHAPHzK/p0mAEBa872xzaAyQImE6jaY0wrAUj3DtwOlFcBdcYpVLsUiwF0D4LahHuE/wivuJ2zQBMB1lFMprxAJwOLKvtLV9Q5A5iIx6ZwyFsBDURiAjt0WQCi+BQUuf+a/VTtorpjWF8DRGlp44uohwMSrwTBLieg/s8+lvwVYDsCiEazwnOsTQDSbSv0WWxZAbDxHTbQz7b95JZMFb/DfP7k/Se+XaAJAEh+hK6TAH8D+9fo8ME/+vwG4JP5GQxZAnI1dJzKD/L8t4sYWRGsPwIRT8fzzAtK/bE7X6HDdEMC3K0fO6Xnuv6VNuQB+4RHATnFgzT7A979kvN+vskQewKOmR0ga8g1AHZegbw8L/b86ZWxIlF4UwHPX2tn07wjADYGK3Avr+z+/UFhrDnXyv7X3TDXpVxJAHOMkVQGfEMAgCo5ZoQekP2JpFo35zxxAxaLJQXpcH0C1w3MPb0AcwLq5KpGWwBvA9XCCGuwC8b9XoSUJrJIBQLhy0AzqhBtA6MgsF47iA0BlFV4T9rMTwHVIcN5jniPApXeLKSYnJcDkcVT9HyIYQMZvMcAAcP+/pfhE7FJPHcCVkmVa8dj1v1h/9TT6fBbAgfq7BnZeIMDJhRuXs74iwDsVwa99Zee/cwv26XdnC8AQ2mAPr5QFwNGZxMLfsATA0MXnvQBBGMA5KGSuKSzTv0Oa+15NlBJAvpoZotD+D8AZEXptmtjtv/JPfTpCeQTA+16B7yhq3T+Y/LN87uoWwNF8p7JRAQLA6Nh9FDm2EECZGduKUW7avxD2o+aZ/RTAdV+mpPwnIkABl9t8G3IVwLwQTMqwpx1AomQBHPi6I8AcCRxD+5gEwE4/MfxpoRxASv27S9Sl/b/ZGAsPR6wgQLqQM7le1SJAIl1aCEoUJEBm7Z6P4OkUwCZyX94F0hRA1EcGsfq5BsDNNPwQ/6EMwPNLicJRih5AZrSCZkut/b/DtDKgxQbRv0PDHKxNLhJATIMfpz0mEUBqoUDyOJMGQGFzyw+44/e/OyrP2V3UC0DXontAbVQuQARaY5aBkhzAZLPa+hEP/T8ohVGmIZUMwF1ilkIL7hfAjekx2LzU3r/4EcYwW+7ov+4XUccwKiFAMqFi7C30EsDGAZyZKl7gvyWGRZ3o9B5ATehro7wO+b/QVU9k7QL9Pwetf1Y8iSBAoDV3KY//AMAUZEw0i/8MwBojpGJ+UCBA9EGcEwCNFkBL+wnUFlEJQFoyIAaNzf0/EgrYknyY9z+GBEF4Mt4DwOi12oX+hQdAe0AyP7yV5D94/m+CgPIdwMLTd6i9YhXAPHeeGdfoBUC/GKiI0E0cwNlMK79UwxNArC/WMmhDAkDs18KLarbqv5xQ627Cjg7AYwDDlnKoEsBZD9Sn8NkcQHV+HkB8RBXAq2q3x4MKAcDe4mYQiJ4RQNlFzcYPuus/XSHIttDzFcAy6n1L6+wEwK2S4VFxDBvAz6pqNzJPGMB6OuuQI2EbwHfdqDCYLgdATY2Z8AKnHcCF2ggka+MGQOylHHvkzwvAXQYFbnstGsAKdT0K4PwBwIFprtolhhRAnoiKFDlq9r+uemqAKyYCwNA1v1gHMvc/EQ04VcoWKkBL5enJYrEhQCZcEXNgFQTARaSBnbus3j8thb6DXEriv30xIvSOwhVAzBFwTMjRz7+MODTx5Y0HwDODDwzmGB/AVJwVD0jyGkBp0yGQPvz6v0hlj8xhW/e/di/BjY4FF0C4BMpIsPwQwIkzU0+zCBxAXu6kdThWDECNBeFfLyrQPzH4ynfDmBpA/uQBouyyF0A60KR/UpUgQMq0Dy4BjBlARIlu6liq4L8VYMVJ6TcqQJG8u3RScxdAEENmOoVoFUBspMYOl+0awGAEkIqV8CBAQaUV2NE+FEDXq3xfcvIiwK+mU6SQ4RDAsRIw2u+S3b8dS8hkNkzrvwAo+IvYtMi/9ugdZCeC8r/wouLoN8AQwAGz2wwk2g1AOYBD5aqtEcBiXt3z82bkvzQfJcy+Fvw/GLib6quf+7/0A1X1WYn0Pz8FcM1XgAZA8sAmRppiDkDNyvNidrwdwAg9loGd38A/i/HlAjmxEMATa67Z4XPVvyrAKQ0RchPASOe4IkfmAEDTIGq03lnkP+4Y+Ad4NBfAiH7VNO0KFsAgqP3PB6ESQAy7gIzfxxJABJlwiuVIC8CYfTlRv90PQHjhoP3plRvAhYlbzHeSGkCFLKsFUFstQFRjrMuE2CpABsLjav678z/pxOkj7MAYQAWSKvcaVgLAnyAZSTnKEcDo9kYwQo7xv+Axi6EiwyVAPOBAGdNGEMCNA2U3bQjmP7AIv5/fl/C/XwFZ5KxE3T9wL+LjYSMgQFgVUh2apLq/wHVKebq/FsBT/gx1KZ8UwB7rBjVmIvs/vw12mXYlEUAWTH1wLYfhvz/lz9G1PhDAXymoWokK0j/57z9gAGYfQNu/cAnNACHAKTHzrOT75r+ZSQJn4dz5v8amkKVHFwbAy0o8ffyA/r9pqocuG6ITwIRbacjZYSNAMkwZP0z3JsA7lNW1J8EWwPxQrZ+j3ArAKPHo/KPp87+sEqEZBHIUQOQFVWVoFPa/ouNovUzq8r+qN/jjS+wCQCQFp/Q1lvM/qH4UavmGzD90rvxZnXXpP/13M3Vf2vA/WzLrAXgbE8CBU0LvoMcgQLffdZzEJfg/gD94+KIw+j8DgZqehlBrv7Rmv5M5BAzAiilOL+rnAEA8oE1azIwJwD/uJJj10PI/x/XnXTuqJMAvwIqI33AQQIURyK2Q0A7Am7fxdv2/FcD6uGcvBmrrv6kmdca6a/k/uk5Gf5GACUAFDGtBJtoGQHh851L3FQfAUCgKF5DQrL+oa7HX0ZH1v+p0lS9J6ANACKp2DpG6CUC0C4OVdIewv9azTE8Lyuy/GH0T3J91JkCZqJrwX2HxvwyLmZA5rue/Jwae+8ZODsBObFTONZgCQNR4dKq7Wvy/xh+w7jm6BsCY9vWxbPQTwIZd1kNFqxLAeDTgfQEfBsDBh0iwj84gQOEyyWHunYa/mYgExD1zAcCF8gQyi4nhPwPPniKB1es/s71LNz1VJ0CUJhYu3BogwGnBQz4h1PS/THHujZ5PCMBy4gdGhiEIwFXN6V1TUiFAtFwFGVPlEsCizQqr17bSv5hIScZojOE/kyKAlEVt/L+US1lRb14YwBCRqwKOfyNAxVUq3QHJEcAwOKSDWXIgwNPcdZlDG+E/sha43hinD8DqvsGXdLQbQLLZpqasjwdAJnw1TlFHEECv5co6UuElwHvjGmillxlAWAadJdbq7L9DnNlNyGIUwPftnj9CyAXAF20RhEJrA0DTmEIhyV0TQCyRFfYRY/I/PEnzPH+H+L+UEJtggjsMQKpla0LxYRfAwt9go6OMIMAmRlmEjdQOQFGj9pHlwCNAX0ZzgGG88z+UULHOgiIOQD1JMkBnJRfAx2d5d3cGFEAMkCUuKy0iQINMXn/b0ee/KwT7V/0KDECYCriXzkMFQJeZnxDqNBHANbhHuMYrIMCX1nrBkCr9v8Pg/yG9+uy/BgcY0IvLIMBE43LPZ4sIwJ5HizvSahRA84xtjUhJDsAE/rEc4rsSQNHsM48ebx1Aez78khrqLEAaftAId5wAwFtRHDz4uRFAL3H6s69dEUD0e6rYXo/4v3LYlPPKkxnAmuAyAwYJJMCSuDGQf8rivwp7sxSIPS1ATUPOT8jwHEBETNW3GmQQwPZaM1EBFhzA2CvZNbb0sz9bN6a2WrgBwHihqlEmKAFAylZrjOlxGcAkIOqoy0sgQMXVPssrU/S/KDYaOmI8AsDiwOGmLCUXQFmeFa84JhhA0M9TgejEEUDdYQy3Ac4VwKmqbBRziRLA4CRU7J2gAEAvsQOhj1rRv8D/u9KdjSBAS+LrTIr7D8BZPhGl0Hv6P5NhDGjXGBdA4om2ZhYsIEA+diZ1W0LzP/oX0Wc4+w/AaZyot2EnDcATXOj5p8gpQMYrIX2lZBTAQLAgr6kcEMAGS9z0ENgSQMZcqwAxpxNAz48ffUOk+D8jjVtY0aEhwMzN6qa0cBPA+VPGUaEG3r8CGpAOoYcBQGdI3v71WhDAU3nimuA6KMCJ6hG/3qMKwNtjvktFXCfAkH7gJURg9L85uhFTEBnxv6QDyizBs/g/1mbJGSaVJMBZpZIr4ugUQClOH/4W1fC/kI+sbpKa17/PQ3DWlbIFwFErht1jWBJAEh/vepMlBsBUkelQHOYGQEhO4Kiy4ShAObyz6PDG9D92PWAd3FsaQI18dGEi2Q/Aonx/2S+GEcAA4a4OBdYdwP/OC3Z9cwFAKe2EkIU6HsDzo+OVa2QRwALC+EYaKBfAzoN6EnvfAcCBwgaRjBkSwN9sFPcTGSDAaVRwW8YdEsAytzg66KQeQOqV06wgsgDAUP2AuuKLG0DyFxS3sFj4P/RiIsQIGCbARLkHuu4D+b97H8MVGgwhQN27A4XjqQrAhxmoS+A9F0Cgq7ADJ3iev4Eur8TpDixAnVwIilryAkCnQaPJognzv/P8ligRGCDAkQtRExoQN0CjIPq4QtEhQMhlzdrxGfu/i6tytKqTA8Aw8zE0ZKAYwBGTuBuI9xnAGxIqztmtH0Dim3kiubgBQOzV/E4U/QTA3mVv9YTGIkDvxsofYi4BwHjdcyyUBvK/6pt8N154IMDYe/Qy1grvv9Pay2lbKwlAbGmNK24L8D/r1y9mUWIZwK2Yzu4C0hfAlAH/oMoQzr8yJS7AUowCwEPi/zJYsSDAxsN4hBwVEsALpn/zMfIjQCDBdlokag7AcHvK3B6UGkB6HknPjo4XwBKddu9S+vo/iCnmlpb4F0BOxyeACzsUwMPU1sq9CAjArbGLSi9hIkBLpU/6GokWwM/AZ1cOixFA+of1f6vb9j/utpHVuwITwJTv0xJRgBLAMap2WGjsE8Ad89h5ZdISQI7yqmTRliNAE6bHarWhEcBzfrsngXwRwHhP4iw4N8I/PEz4hdlHCMCfQx5PCJsIwNI9ZgoVX8G/5U5E7zTfBEBQawtAQEX+P/DG21V25R5AIMmWWOIn/7/WMlVq56ITQPskvmFRpB9AaGDDhqGmEUCa8TzvoaEcwOxNNYYnfBLA16Wz/VJL9T/KHijrD8fQvyA1Wa869gXAILyk3WX8JcDy9s49790VwHdld79DvgfAJ43MtH6aGMCYuhmyyZsBwIkt6iXsvd8/Lcoc8Nn+2b9F5fumQQgcwHg7tnwjKhTAmOpaMazgD8AyX2eo0ssLQArHPgWMoBxAXm1vejRMJkC/LEeaf2wLQDZE0xANjh7A7DB7j66zEsD5rgeWHgz1v7SZh//MQQ/A+PNXxdrBAsCvbxw5adciQHEPDqD6fv0/eKFWGx9ODcC761AcfB/1vy6ddQ0WMQfAl7Kakn/EIcAsZtE0pVjyv5ln6r/p2hpAS3vhUz5IF0CP3XmKXqT0v/XCuAUoMBTAedmfWjiiB8ALE95bpH4PwKmfpVpXaBDAmmFhoqDKBcBpkQCncN4hQHJQcV9/cvC/u0S6h3+xFsCQGwfyBQ0UwObiPRrfpvc/4HUsZQmfDsAgMysYUEHwv20qChMObwHAlnHCq4zx8j8N3kNKb20UQENPoyXUogLAjziy3TfBJ8AGixWH2m4TwMOJZwtHiADAJH43Ee7oCMB/k6iONT7Dv2WQegCRvOW/FZtGTa/DBMBTh5KctIESQK5y/gcEcvk/w77BwyhXEkC3Mxv1gsAXQBvbg2pK/gxADcBEQw98MkB0VhlaQlcJQKztfrHmMPa/OVGdsMNb8L9sy8c2QL4jwHEa4dCPjDBAlraCNfdR4j8P3LAtMx8fQKawVSOnnxPA/49wK4UyCMDJFtAJBXMmQOlguT8xBADAPF6IKYJzEEBz4B1EYCvpP6uRLyu3AB3A1yzsmPeDBMBqP3vuenUmwFs9/MJKfAzAjzxIPi+RFEBHd33skSgRQMNUsCA7uhbAmQPfC1TREsAp/NtNCWwMQErEK0PvnBRAdH3Q4tH4IUAAGdzwxPscQE44xmxYVf4/RjvstHZvEcBNttqiLPAWwM2nCtUF/xxAHqsOTFR6+7+us6ANon4LwJKNkDkRkglALvNt8Ne68D9FFT6JbV8oQGEhGh9aBAnAEy6ccqA7/z9Th5aBTQUVwO+iJ8+amLu/sS3/ASDrAsAo6wWHSnALwLSI5pIbZBvAtIKUgAZgI0CHsRrWC+0FwGSJotiI/gxAfQ84mZODBcC84Y2NeZwQQIz8wO68QgVARSlrR/lCzj8KeVr+4YQRwMPEk+VdD9i/LX0qU2/IHkCUEVjJoT73P0RkMWG3+/W/z/P5rGqTIkB4bnJBSJj8P13V+F45rAjAf4qCL961EEDg4tzDmCMgwFByJbLSJLc/0Q7pyKh58z9+xas3nSwQwH46X8k4xv8/t+ex4PUSG0BY+1TMqOcdwIJL5J4RBSJAxrT9YeuZAMAP/Htl0aUTwCN/xrKUMQ/AThiZQrP6BsB0meqQ3CYFwBPJiN2bzynAl5Yf8HV0IcDeRRGPGUvBv9nzhl9jIADAGGwNC0a9DsA0qsnF3WXiPw+6OVS7RyxAfpiLHxkIvr8DkCPbARruvyBFvXOv4eG/UcQKkDofDcAoo3pnvbgYwJy0XxznvhRAJpgZSm9jBMDVBZIS4CgewEh7wwmvVPg/2KJfIT1d6L8aeQoFkjT5P/M1j7ncowhAkFT4MTqH5z9acfYI5Zj0P/Pg0Y0mlRRAF5mwqUHCD8B9X6C6SAP7v8NQ0RN7zQHArLeNW8FkE8DQuIoYxl77v833/nUraBPATPKhNeISJEAqHzJ3vuYTQIynBUcyBSbAA0o/JHY517934QGUp5oRwGLKHlygmv0/T9Ys5wBR7T+mfDkmBrf8v5wU7VDpOOa/R5TZRQ8CFEDpH1OiVwIVQOrtv1P2S/W/y/FMYPbXFUCriVG9VzUUwAnTpcio8uE/OA5s1mc0DsDdjWZjxv8RwJamDE/hxBXAV07iRUhRI0B7bx9mqfMVQJhxWtC8eBVAEMDyTivTBcBldNm/TdIbwMzeJL0kQrO/aR9AKluREEBRZMmCB9YCwBe+8n999xzAxVP5UcVEAMCmHQXGu2IUQMC1wlE2QQXAKglPSqiLAEDls5JX2Wf1P+nuWCF+UgVAXNi8QKSxDMAlNgacNIMMwL+3MlmMyCJAQ1jnAYcAGsCpRy3PFb8LQKAQToX1/f4/Sm3r562yEsDdBsTZ1n8cwL72769mqxXAqS9rAeuhFEDjxBGlWjYZwFeWWjZ8swlAD72pP4k0JkDq1SxY3l8hQPiTd2/oI+a/Yu0E2U4/8D++R+F3X/ITQLbx1lpDs/S/5p3qWSSwDcDB37MBHL4NwGU7e3joaPu/FFEoD5qNE8ABDRcH2BL8PwR5grMrmxXAE9OPatbxIcCYOqSJMQURwMT4qn8oqSVAeu6PxVyzFcDCBlxFhBENwFWa2FeaxArAZYtSk6dMJECzG11lAhf8vy4ygNo1XPi/GSiFN8WNFMBtorZ/TazXPxNXrvKiFsk/T1ifN2wkAcBAgcWI14EdwFxaahNF0gzAQMV8eY4Z4z8oW+4Z4an0v9v+jaFYq/6/Ng9NJK+3F8AzrDwhfT7Yv+eQGokeo+W//b/SnGKKE8Cw2J5UXNIHwBQWo7WoSQ9Al+GoldyFHECZjgpfDELlv53OyAN/KxZACwzh2nwmIkDoYxNCaW8lwJJ156uwygrAD29fLjfkFUAPAjTkg9spQEGOgBVBgCDAtIWnxNayMUCzVyznQZEWwKU9D812D+u/SCTyZ9PlAUDELEA6J+wWQI8H5rc5sRJAknQuT1D49r9wOgzivqwTQKWDo9Pk3SnAq39XLDwzBEAoThuUL9zYv4LBeU3UDAJAQyd2DYx+BcAmzhM1fQEfwJRgckGpafY/djh5tmCJDEDjCzpE/UACwPfCQa6okiJASZZyaGCYFMB2qFCbKZP5v03j2Ji+yQ9AQNlsimalDkC89ik9tD39v5ET2fVLesO/SnMjP/+zC8CPBZ2QNSsWQNIcuYJjCvO/SF9MsWjS9L/aH2KAaFEVwFxnXgqURhFA8o64KfnM9j+czBkGE08XwBBntOuvhfq/lj3U1mvv+z/X6H6tyzAeQDlWzTbmfhnAXARcCI48C8Atn3jPCUkRwNcO57RfHSPA4cUt96pfCECMbaXV1E4iQJ+hTmzWCtm/FnKqrdsrDcCTRWTxifYGwBoBlVn7cwrAaPvlaRpM+r+m3ksXmhL2v9/HfYyFxxNAYjHmXehd9T9sOyfiJFf6vxHKyhQl0MW/n6BDZeGdGUBszH2467LzvyFhnMhkkhXAAGy5F17OpT/1BbsvW2UTQLC9NWHlSAFAWnNNa/h7DMCxNnnXx7cDwP/pL9UxdPG/WjcprRyEDEBkFlyg9w0awDpUyb/PUgPAeHOxQevm8z/0TmNUCB8uQDJTt9OP8hNAAxxGQQhX2r9PtjDuBhUWwBymasQIEBLAIIQZkTDaAsCrYsoPlMYDQO+xX8fnAAXAun/f/7lO9z/KdwPtX5QgwO4qH/EkXxvALTDfR32iA0CwCVyUHP77v9qQvUBuTfY/bwhD0025EMA42meuSCwGwFd4+pPVAgDAIZziOeK+EUAqTL+awiMAQBFmaNj1GChAbQGTF3FVJUBcHIuAXhT4PxHYw5lr9RXAUZ8znvM45r8uU9Rtppfrv7kBnbfXtek/iJ3OXMgrBkCVkL5dpvcuwJF+9MBOkRPAYQNPqyN/AMD4lfcUnwchwJ7Wu0JNcwPAIiX4Mq0oJECBNfzDFJQNQJZcCLmKIfm/pEdN/MjhLUCO44b1IfcZQOIETdxVqRNAok5WbWeGCsDeDvlH6QPxP84s8p5ofv2/fpuiZshU0z+OW/0HKmccwIFf0+JzKY6/BDa7sNy8FkAIsbhbbKYMwONo/KSgvQlATEP0lKNB7L+YbEPV3LYVQMumJ8fL4g7A9T+GmGHw+z/GD9CsqRHavzIPR3KUZQ3AaWITdaSN4z/sZaXHORYgwOVzMUUH6RBAaNGWa2RTAcDIG9nsDTIFQKzRdaTNyhbAt9oUSgVtFUA7oKvsWI0awAAiPphXPx3A/zqczNIz3L9ufDg8qGv1v1Zrg/3YEwVAwOlX21NWE8Du97zKmFUkQFqNtFEPzg1AjS5meddY9b+JpNXKmsYSwGO4F0IMiQ/Af5Uiv3kTE0AOc7bzdCcZwHYnA38hovg/hNq/Fb2XEMBlY/AuiQsMwArsEsaaIyNAgOaCBC7RIMDWhoUUYMXwv2RvV4tkOwPAMFrZORYAFEBu72Dlz6IHwLtuPG9g/BJAHHmdcEDyB8AktZoD6OTsv1x1i1Nk0xhAH7Jo2t+LAsAx8MEp9GYnwAcifdLaduI/6uUv2XWdDEDwrjCZlrsSQO80fs2cWh5A9QQxIGz16r+7OTu6+R8TwMqP5NRAFvy/PimtAyO5LEAZIjiVd7jUv93WduO+VxBACPMfnMFQ4D9FNoNA0DoawFLx7W92tiTA4rjLYbb1A8C73TAlGGPuP7S9g9HrFu+/IHwr+99LkD90aWpC4nQcwCPhlWZ5mANAg5hbq/HN87/q7B7aZGoyQH83tRg8UBhAt5pR4ygXEMCRbyShHHUOwP7+cQyLVCBAE0BdrW9NCUCJVufMK3kGwBgw8T/SN7w/zD65LfzN+b8opM4KjQwSwLEsW1ENcum/KKPx67BQor+ONIR9O84UwPSCOA/Y+grAk2U7MS5tFECfAwpTBIsswAzK82zROvw/oVm91Vvr4L/XqBo4JN0ZwEsYh9Z3lOs/NGq7Z2ld8j9rgQuE88/tv1TKCN3QWhHA/uxKrEuhCMAf7/UY0DAWwI1fqVHtUhfAIY9EDjPxFcB1wDVX0pD1P+wA4FfiJCPAK9hg8HW1C0Daf1UQHwr+vy9Q+RrotO+/FU+79cwqAMBd2YgQ+2cdQOCMCXNiaRdAkUpNVFMGEUD45kPtHzseQFcx2b/zjwvAtJBqs2+VG8BVTzT7cP0TwDAmO+Q0zvO/AnVFabhpHEB0xP1PfXggwFXg3Xl8tCFA/hW+t490HcBJsVi9kSnkv8rEHXEOJvC/+qzS76ocJUDNqzA5xk7lP6D8FJaVMgJANiNLCkUyIEDpwyqBgpUmwK9gfg5UWBrA/BjGMLjIFsAYQdYemtkIQPgFBtkwTQjAh7JWstTADcCtSMGT53wQQLCf0PkObBPAYf1QPubj6j9kz5kg/2D6v9AC3EU+yve/Nr47XawWD8A5qnZzlp0SwHgkGgwzrxJA31mNheOziD94NhNyf5oNQMjeZ3d3UgLAmcfEHNMjF8BXIm62lM4ZQEAlE1FsFuU/+vRWS+eH5T90EllHfKkPwGRqqIfTLsM/zowIfYGXBsBDuaaLvx/Tv6YkAdLzViRAqc32hHSM8z+ilCRlOHQBwDQ873ph9/A/CbbvudKgIcC2Jd9/uKP+v3dm2LB3XghAZ+OmyrxfI0DGr3bzfnINQNmIZ/cRxiBAzxayPfd2GEAO80aI644MwHhjdBqrzBRA6E6K8Ek68r8I8nWnVTQNwD4xZs8x6Q/AlJlI/ZdKFEAH3pNafenBv1D1/s9i+ihAFc5giIafAMAvRMzyP2QRwLwJdG7NoBPAMR5K3I1TJ8BkwEUTGcgIwCQw5cPqWiFAMoVPOvoGCEBYpj8ZUyLnv9/zn+tVtsC/cjXlEfniF8DesZC/SgUUwARI1NYQc7A/r/sNhnVAIsALTOfP37lNv9R5kKSNSsq/YBvUIJmCJcBis2J9guzzP2OFuungLCVAzPUStO/eEkCaHmce5s8awJDXKEy8zRrAmwAwd9UM7T/MVDCiTIcAQLvBlFi5AQHAnUGc7aHTFECQY2JE+/QVQDtAqrvSEQ9ANHk9LM1o4L8yk6QwqRg3QGryH/UD5htA6fsHDOkKCUA2OMU/UN4YwAZEW8NAKCZAYtBRGMfjD0DN4EEJ2w4iwMl6yEFU5RLAIRSI5/I/CMDhXMSReSkGwAf7SMs4etg/ApU1ICF69z/Tl8bvWtUSwKDtCGqlyAFAeVJe0zP5CsCq4bauCskRQBPgpo/+HhLAeyTgPLAXGECSq2+aAgMMwIF5u/6p6uo/alcP+xy0GkCjDE2tgl/qP9vgm8mwEBPAQgO1pU1O/L/474iaHR8CwH9hE7omURXACUrUAa7DEsAzgmPV45brPytmtUdwP/k/CMvZw2r+y7+5J0/ZgTgGwGuw32HnkNg/Kl/d2F4wB8BtpBAQCVTXv6m1rqngyxZApx7uxi3tC0BmWlWagwUmwLY42gByMgRAlFqareQL9D/x4HkU2twSwDHkL0SZvRDAgo/g87mlxL/oiLNPWWy8P4xg7UoZqATAymGb3l6OEcD9CW9G6wYXQAb0DiXZWS9A5k+NhZwuMED0FXZPPTroP3ehTAu9YB3A1a6wDz9V77+eHEDkjZPtP1KHfXwrHeA/yXtSD2ktAsD9GZyBJRHRv3+Jj7Q+DCLAolvYeDXM+78EaIAkXMARwPCfpCZ9igLA+FSW9z5NIkBbQYVH3OcAwCTkEhizBQxAefqLMdufG0B9Tn/9HZD+v0I2b2FUHMk/esu3a2mZGcAtEoGav0QWwOqERc4nOAXAzuGZi0Xb8r9yTwIu5doBwDRKfwnCTfy/8pzTBbAn+b9A37p+Z7YNQCMdghWCLxXAd7CoPryy6z9gZPf8INoUwIo2G+vVxQDAjBib7xSn+z/+rOlLo8AJwJAaihZOrOi/D3mrJ5nNIUAip2ItsF4jwPb9omZ10fc/oUIEfcZR27+yTNFrPoUdwM/e+gCUyRHAojJulI1X+j8ob7j6H/rwP2q45fiJ6AjAMy8wGjTaHUBIhtQ6ycQAQOBjNYTzRg9AFbE/eR84EMCWMP/vkJUTQExIbMuoMPU/Dn9PLQ+y9r/k6G5O1iARQJ0YzHU6LBHApS3DbEBbHsDf5eqUwsIdQGvsU4zYFQ1AAq7w1exQ/T+bo7osRnfWP9YPlM4ffxHAlC6IIemx9j9002JJAPkOwDfngGmEgATA9yuYfy0GFEDMtr2E+kgCwBdyu9Mw9iNA+mLIjPqBG8DHQsJbdH8jwLoAzA7B/CFAqXS6L9tpEsCR73lULPH2P4xQ+zeelQnAnG7F9VGeI8BPQddojrnyvw760PSEu/4/HOEwy2/i+z9PlZBhHCkJQKA6F35siZi/EgOipmPBAkCC/1k9Pf30v0xjWGfhZx3ArGfV46RNCMD5LHClj6ocwIrTg4lgLCBAEEDmrK1MFsDSnKVXd3YBwIHDUbRpZso/sPao7iixEUBacusVqiQcwBaAUCLu6wPA4gIQtvIL3D+duK0jRaQRwCw+T+IY9h9AM8Q+NHBt2j9WAxnEMr4KwILg8BZ5gxVA0VdWtRIOGMCvpKOOprcdwLRVYrq0lhxAAZRYDcEJIMDvHby16McXQG1dBDKAQhvAOD1V/aHYBsAvTpXqpizqP6SnpkhSPhdAxL7WYiZLGcBgYmpvyXAPwLGnzaLD4RZAQDURt6JAFUDhsT+RLx8dwETAGJjGESlAln9wLuWUEEBjZ6EjK33Uv/HWdTVYmuQ/yCc5Roa7EcB8r4OsAfEbwPh+l0COsgtA9DdHbTItpj8Y15z1a98UwL95Xlp8EBTALAY8BIrT+T8aeDEjBpIiQOYncwgXdfO/sIcKWPlhF8CuxyQARe4KQJrAw7LGE/q/V7Xcg9C6HsA5M/gqJtMCwBqYGDTWKva/rp2U7tLLEkCuCZJV/6flP2DymI78fR3AHlY/42tg/j83i1OjTpAJwAS6tsqsauW/joYJizw0D8DYVPf3MLLzP44bd/pv+wNAH4BYHrvZBkCSTVzPWaAKQAbgdmkdaBRAPtrzwVnlIUC6ln0vGt8YwKCfsJqyOxjAwZ/tvJOgIcB2b77JO/kZwGrX1tDBmQlAzfc8A52PDsADuaN0o3Dav+H1kEu4SB1A9audcvjZEEC8EKkSq/oCwHCnvU0xsiVAuc3VbbqAE0A9Or+uLY8YwDkBGVvYePO/9kVopnNpFsCvRgTNyX/uP2DD/uqzWbO/J8Yy18v5FUBoGJI4/LAKwEJOQISkXCPANweApaKaJcB6kE+OiBkhwGoWR+HJgwfAIl0IPuuI8D9oTDEyOlH6PylEbGWqDRRATFcqiuTBFsDy5FwbP0whwBdLkQSo49a/qax2g1jNCsB3KO/VjykTwKpF8MW4pwLAUsxRcZEBJMCDg3YBQ1shwD0p+hCYmvC/GgtPMjaIFcCFYBCnmXMVQABgBI+ptwjAV+3fbMxkGkDTQ9KqEtTfvwF7Gh7rIAHAWoxEHqs+DkBNsGjB2YYCwHOJuZh2DiVAYivIYTy1CsByhVrtwhUeQCn4h1vExw/Atl0dusmOKUArZvH2lcUXwOqSu/IX6ipAvKAHm6lvKMDwGo8sH18BwEyb37FJiB7ARgXbNfDZB8CQ/v+0vpIZQHS06tFWyRBARuG2PCON9j8joGN/LHwFQH/+RxC4ExzAFbq50/vC2T8FpEV/pSfHP2MX9VglCtc/vGd7Z01cEkCuD2U7iEkRwAJzefiLSyhAGBNCj4STBUCeG4KYpor1Pyjl/uiGivs/yOsZddinMkBCQy0pBMn2v/EcVMS//RLAGq1sQ4RyD8BlbUIAv58LwP2fZIMcMALAn80ubnyi6D8FY9XIN1IJQGK3HUwifA7AxJ2K9e4V4b/VGqbobIwnwCrzKajFGhtAuiCA3pzxD8CYk8bu1ycGwEoNY0Up3vc/rbqt4fYIBsDIQswTv0EYQPIowDQnRChALJkAtFqWDUAoeO+nhCcEwABgwY+VwxtAQdtOY4fv9b+rgHzS843YP89xjr18ThTAEoHJJK8AHkArvfTMYUznv0TEflEcuCpAaO0kRU4zHkBJ0lh+hywwQJ5G8E8uESbA7vXQNWLI/b84RtQVf8sFwCNJT/tKOChAMGY4XrqBCsDVmyCZdmgLQKnpB69RRRrAVB7HmuyCF8CshnkaNbIOQFfmXTNadBpAN6zyl6R2AsCf/tIbatcXwLQvgbV8As2/E1x/zPYHC8A615gWHg4HwOXNrSpbpts/vlTs73RE2D9t6bxI6U8YwDHT52Ty2gbA8c3uUma42j8VQkVVD/wZQMKMuOGF7iRAtkFaw/DBC8Brt/4zOJ0awNyGHtXdCx1Awfb0Q640E0DPLRTXPb0SwH7kLI3X3+K/w5YLswhaJcDQaXJXek0SQLIH8UqQFAzAPeznnhByIEAsIrz53cUTwO+sVyHqFRXAWFXgvXD7FkAmN3izVpMDwPe9SeUnRAtAR4F0UhNk0T+VTQ8YAIQDwOppOmpkIA/Ag+0qnmZy3L/9cFmrKwsQwMdnN9K/QRXA6YCpt8h9IUDxontUcjciwBrM/UY3NAxA+hb7vlz/BEC5Z9vg3SkUwGXK6Td2JB1ApUpTUmFHFcBEg8FCXWMCwEGpAoxraAvA8sCYiHzOJUDZhpSMAMYJwN8OHDRdrOo/qRa4QrIKEUCtafc5a5wWQEm61flvpQVAdlSuFi7J+r8/3Dvw1ZAXQDGMz9b2f9o/kLw6GjgxC0BWEHg+MQIJwHjCRUsVTwhAZtGmpP1NIcC851QJiy0JwHTZ9hMPX/E/UKf6mv9/CMDpc6tI0g8ewAvPyaUzfB9AzvHnGGC1GcBA2FqDD24jQNS7vbhNyQrACUrj46c52L+6h/MowM3+P+ZmYNUTVgFAnil8EqTIKUCrERhW2MIZwOks/Mfx5eo/eqIrnCyRDkCmt43f6nzxPwOh2El4vtI/UIC6AWU1/L/wxG9ZXLYLQIXkQsw3pQ/Aqb4wOVIJF0BN7et89EQwQF6WVXHES/Y/thaq/akIEsAGjvKjHJT1v5q9rUcR4SXA38EHuVqvAUBTXrovh0Twv4oqn1uZzShAlDlrxQ8TCcCFVZRHGdAVwHsFI8XnRCBAyGljCVxEB8A/p8wGL3J/PzsMAjo4YQVAZcrlmkH+BMAUw+iQ/v0IwBNwKexy4+q/WRGxaY5N0r8mTswC0ssSQG4ogoDvSR/AKigbjpVEKkDkN3kTmFvyv35SMY1WofQ/IM0Q0isM+z9yz1NdcU0QwD5KiJa5C/Q/o29auFXLDUCDx5OTuCEgwNH1XytzehPAN5X2M6Ax9j/qLpPGowwhQBdlTQN1AxjAiPGL/f9jGEAR4e/fzlscQEcvPYGjOeq/mi8Fmx8EDMCwyqAV/FEQwGbHhLoEthHASg8rbcxkEMCp7E8vKs3xv84gE0oKE+q/hWauJGvaB8AXpll8NP/oP/58e3BQ5f8/zA1s4U3oHcAczL7womsdwAnp6diuEQjA1KIPIirWFcBuRh+7t20DQA29JdyGYuQ/7Q8mdeWXJsDSwV5F020ZQF/vPVpHGADAiy1WVfP4MEDs2fvkxeUSwBTM6Ius2wtAhDuASqcyyT8lQ4Xb604VQGq85LCKr/o/m1fpWcgdIEAtbsiUuqjdP4Q11iz8e+S/gt5A5ZoFE0APp7mdH8UAQMhX6gpv7f4/SGxcjmOwA8AoGz91ypkhwK9TCaEYA/A/O/jn6sZV4r/DxdFJl4wPwJEwpy0PKRZAWh69/C9a4T9FD3CMmwkVwKtwSdkUpOC/MJUbRiDax78wXHjRcDUFwMTZmRcGMBtAY2HCGX8p/L+K0e9D7GcCwLET4eaNKBDAPe2SOYMY/T95C/wjagjvP+EqYs/yQQTAbaC9GinLFkBGUTX9T4ITQBU0c2ls49e/gT+uRbwvC0DA4RQppM7xPxFChm5j0RPAKAQ+ivM/IcAg9ssYe7kgwKU172ikRPC/xm4oSqsv5r+4yWvZe9QQwBCQ9o6JqjBAP/1ZYkUi/b+MawMQhcwEwAEHid4lLxjA0DI1U3DFCsA8r4JTUG3zvx8eH7HN+OQ/EGWF5G2yCcD367hnJJL1v9PJ3tX/MBpAA09of6Mo6j9fdyiupkMSQOut9Sht+QtAEgbNsjM2A8DYDd2xGLkDwNrPtOxnqAVAopoHb+H9MkBGUrntrycJwAJBKQWPPgVAkwws243fAsAxBVFwK977P1IAwjYQX/U/CKiRDo2tEkDZkvtdKxsuQM6iqGBDwBjAvf6uLEwGEcB62Y++5HoIwI4O/t614vO/WrnxQCfhIkACk67+Rb72PzwD6iazHhvAkOBwavO5+b/7vilN52syQBiz6dkhZgFAa5eTyjWzEUBp/azwjjUYwNkLUbDEzQDAjkw5YKXVAcDo/wJv+2EUQEvaMpKLhQVA1XMaUCrWCUDUW5Et7B7kP8uCzgufNBBAy8KYWdHlCsAPKCFJgKoNwFaYYnKEBfu/9fTHNJRVKsA9Aqe539EVwCxwrSmMXg9AOAS2ycHx/z82ezG7+5gEQICwxyAKQhXAhhtTREfHB8B6VA/uSpfzvxPfR4W+wue/ExtndFZ7MUDojs2bhvobQGikIdx4CQZAftiuOqNRAsC8VLsv75riP6VBQNtGF9y/zZ+Gz3Nw5b/uI3M6yDgewLq8CJ7u+vG/jLs3M0Ln/j/84D7DEWgTQDGiAJNIFNe/G/xDn59JE8Au9bHw+18LwLiBlYBcTC1AerHFlNn5KUCjvs8CV4AmQFmmc4PIxDJA4Q4HLByuEcDLQ/omFPIIQNbiaxmpkxFAh7sNTBSM/7/SOjQnbc3xPxNQ77AYRhJATyjVlFPILEC00jwRG0gBwC2MNOiiuBpAhlCKdojw/L8MaVYbp34UwBDxYl649Pw/hXtOwcpKGUD3jd0MArkCwNx+3WPonuK/Ybdx8d0B/T9R+ryrU1L1vzSI/cBm0f6/LYqGSuaCG8DON5YWxIHwP2Euj4ysEBVAE5VA3X3qEMAjYCIifYcQwL/hhnk/5CHAkyf+phMQGMD4xK+3DX6gv2s8JPO9sg7AKzznswIN+j81N9sZRF0UQPXS0zwa7yVA+NnPGSyqK0ABmWgXkMIIwCjH2wPD6QJAl84S/Uul7T9glzpfGwwAwCfpZd1/MhbAguxYXCbj/781knlf694mwHLEbwKHLfy/2m5WlpiqE8Br6Wo+Xp0dwGQEvtBLK8s/ysAmRZrrKUCeVMJLCfYZQBWnGs71gfU/xzGJbPk/4D9wCqbaB8cgwBzD9JnpOKk/Onb34LajE0BCBINLa+oDQCAUu9ZBWRvAPAN0UkxF/L9r8s11/zIXQOBXt4YugiBAf8X7RTtUFMBKzQy0SEEMQEyHOoBIlv8/ms9UJ37NF0DOnEaP128KwEQEn669SgFAaLb3aCOoA8B9Y7blKfEYQMxS3R4ZTv2/OVG5tVd+3b/2Ckh82kclwIL/qFRDXydA9Ptg2Pk0/z/znAxwkm8CQB760KI6Ivy/N6cmTndcD8ATWLXiKegYQBXJnSZNO/K/VwNE4UZjAMDe0w/XXgMYwIIcYQ8DMRbA6AuXYdpfIsAxFnQNld0dwE+6saRtsxTAXqD+g8o1/z+ckVDClqLsv0JKpW252Q1AWUdW+8YeIUDydO9j4FogwGsMZuwxzgtASrM2rZgsD0A18bJUgoAiQDzV/OUUXRTAaBizr67L/r9Qil1HCH/0v76ozyAaUgpAh9pjBrqC/L/6wFE74iIIQL6fLgfjYPU/M1bqcXiSBkBQE9ns8fEQwEQZtXE3BiDAuKNPnlf88z82zX0T1bP4vxUWtuCU0vg/pPzwMxCnE8CYQKEuVjQIQJQjhNNEaALA/CMf0HU1D0Bg0IZBGKgtQBPnabFSVRJAKDcZXbXI/T9h4jIzOCUUwIIQaA7mXA/AIA5iWCrhwT9HcljdhbQRQCj9Keautv8/OoVwcMwNH8C2lhhw1U8RwHFkm85Nzus/ExveW5slGEDkcy70UPoXwPPIEQTt8wPA5HiczZ5EGcDmsF25KNsBwAbBfPkg9jNAqfVjrbXuJ0A83pnGRYcGQG5fZwlj9f4/dxpUaYTTBMCPD8R6MP0JwKCeIDwBzBLAINU0gQlt9L9PBMDxhJAWQBtbynnXeiRAbOwHeX4TKUC51vuxZmjaP39YhfCf0hLAk6apRiADHkAls//PDQTpv6H69K2jwCDA+32BrHy/I8BuI2Ip/x0JwJLSkpJEX+8/rtO8Ig0vFMCTzrqc8poDwFa5O/1BcxNAiob6ihH4JEDqKQLcRZ8WQMjnAjGAqxJAXqDr5nBL+T/zUOXpO4gJQGg8qy+C+u4/EO8q99Nerr8gInXrCeD5v3VNUNQh6BXAOi4S/Sy4979ia9WgDwoUwFUl69bVpCPA6eH+hmB1G8CcB4/l2OLsP8RH9TxgbME/dVIw3ktAAcB0beqiqE8WQGSBHkDXRgXAny34MOrzAED7a/UMnO0YwDxtWQSHbxNAcKdQkeIzFMBszQd8ui8pQBgQFabT5ATA0hwcKuLxCMD8xJFeI6XmP5Pq446mABxAK36x09b3BEAznm6CAp4KwB8pbw+SPQLAXGuJi38Iyr8If0IAtaL1vyuUSn9hdAhABDTlLp4kxL/jSGNRkTTqv4Z23eDazwBAhKL5dTAKEMDYb3DN9MAMQPpXu5UwBwtACqhwMp3pAcCdP2hMiZIWwEFkA+kNshDA7QbLqpJkKkCyFTQwIBsFwHzVYPMY6RJAl8K//LANF8B/ciqSv43TvwKA8P0jfQdAXgjvf69zB8BoMfoSGv4gQODoUYj3mQ9AT96TDuaFGEBKaoOCs/8nwMxfoTnvI/Q/ivCJv0flB8Bebh74PLTAvxEHEl0ItBnA5KcAfxdxJEAxEWcethQmQDLHwQ/pPPI/YUMJLepu3T8mmrbAR47sv0pkocmHYBBA8zWSuDw/HUCE263LfJMUwD18EB68nRHAcq8CH2B6D0CQGQfgpN/3P8GQvOGBbBlAtx12UdS/6r+HNaZshXQYQJRnJh9zFAfApcDKDy3gCECVZzgsdID0v2TXnaRXn/U/zbxzlK6F4D9pyLZCnSITwELLBaIlu/2/yFaaqhSFDEDdh/oXMP8EQJyNMA34te2/6ib56tsUE8Asfz28bNIKwBAI7aOmLgfAbEqUrSY//D+tD9AD9ewPwFI0Z/gvLuS/+6U0cpmsBsD7f9jJ9NIRwNJ9dXjs5gHAfHdDAVACDcDNuyKUiUgNQAFgv58D/hRANmVJW8G6/b9QfRsyAhAqQJVR6ZpPhALAzOEly6pTBEAQ/HumA6wJwI+SIeuBRNM/91MVOX8D3D9YwjZfI8v6vxoFFKDyriVAM8M5DQaSF8ANnP7KA5QKwK4tJCv5Ux/Ayuw22breC0CDBzjyxCseQDaDdD1UDgnAskoDgt3/EMCIBzPfR8ITQP33i35DNN6/E3MygUOGIkC8mfQOOxUrQAHj34gesAVASkEHKxFlAECnw48qKaYBQEwdwqUzdxJAo+bpY2ao37+mbeqsfrf4v9LjwSb8rALAqAwy2ZGtIECAgwgvIdQGwNKZye0lxwpAF7FKbZPg8T9Sw7ymc2QiwBWPt4d8jiJAao9cVgFfBUDEgBCXO3nlv1/Ch9jAuCLARhT7+4UWCEAkFVSyjjL5Pzgbq/5VqApAWBcAXhrOF8CkUtNOs9X+PwuVnD5BHhRADTAQq0BA6L+NPCKHeqkRwG5tW8Ax+hvATe1/sQlkFcD+iULCoZMrQB7f3/9A2R9AQSQG5VIpIsAUhLPWbFYLwLN2d5nnHw/AAVBHiGboFsBAUh6RhkwkwAdwuWBvdABAoGoLZdwcIECaSlUZfBz/v723hb6ChOq/UCB/BL1tFsDnVXUCcBD7P79NsQKNXd6/wEZ32OGRHcAs75wqHkgKwHZyo7Y37BBA4GNebqBG/T/I9I+uQUyzv0Y6AoZRdOa/Ep372YHwAkBmR1oNZ2gGwIWeOGNWohPASSqaNpd8+7/DhfG+jMoRQOnl67JYYRNAeUDIaFFsGcA/EC06V63wP9isbD2HQvk/HJuCMNAh9b8ImWpi+tMeQNWsVGXCn+A/DQHBIFMz8b94pkb/5PISwICBXKEh/BrAiY57gmiuHcBnUkkA9KAQwFMnIs3SxQHAkKzeUtL48D8Flk9s8ksbQKn3znkUqRRAxHJO+cDQ9L8D6SnuzqIWQEpWkajO6QRAsf97WfwY5r/AGzQWJcW1P0SlQ48so/8/FmDg0/lmM0AEAt3hb20EQDx8y9m+Suk/kp+ST0OVCMDBRjungbfzv9ZVcwLg7hVAxa5RioVH/7/PgqYLWPUSQDrue0xyswXAgN+IVVXi+r8s+eRJkDr8P3A9DuoDRBXAD4cjtqiEG8Ba1mKCHEkhwMPoyyNJVh/A8vzUKMjG7b8zDb9S1Oz/vy9frrOiAP2/bX+rlDsAIcACRHawU9Txv0aSEBBpqATAGJIOZjykIcDCzvu8WYGzPwQr40WiBRpAizYbsGdaLEBa9IIRGLMawGA93r5DU+I/KOiEMgAPz78CDK8XgU/yv4ol7YqcBxPA4gsJ/MRfIsA0fZqGjgIRwEIHu8mMnvm/fsXCeDmVD8DDf1bRKWcawONNj0QePwJAWW/cE32q+L8oeK6bJeMawE2GNX+y9tu/83kP8Yeg778FPU6LmQgUwEHFxX9l6ApAEKOAf9mJBMAkEM8MVy4NwFs3jN+1xADAQTyYp8aiGMDmYYo5tn8uQFPc3kxjF/8/olRh7Z+qGkCyMF/2J20RQMwYjzjIffO/1czFDOji+T9kPki7+Jv6P7ymBtNYhvm/b/iLERPnIsCFiRidBbkjwIikbpR7pCDAlhjbbyKdAUBeLhm7PtPqvxgk0NMWbS9AbUYCLt8CCcCtoCsRK0kawE9H1aXZiwVApF0pHOM6xj+gq3Na15kBwNvOrCwqg9+/pSBU8KmjA8CQzfaQRAURwDBWlK06CxLASAW7x5FW0j9lXW/cdYMUwIylltqggRXA+fLoe+dLIcBUXqc0llcbwFjl3SeuE7u/S0ZfLA++0T9A7p1ZdCwSwIMFImeVEAHAYjl6/S/4IcAL0FIM/DksQGT8GK2rwwrAwXPDP7Hn4r+wfhiCk0MCQO6uKfsMSAzAqo7m01rUD8Cy/GTaAZTyP6QfhnP5NhzAuzn/qN3uGEB4maUlPIEEwMjuc7fr1g/AC4FftdgeHEA1F8y/zqwOwLTvKuw1RiJAfRPrMmyb2T/jyR3c884TQJ6vHk/K2fc/aZm2ds8c3z+k2+enbC76v8jA9ag3b/u/cK8PCtj8FsChw4TZf6gXwJVk4/uix9C/cSzdBmqHGEB/KxNkZwvqPzua1NbWJxjA92+/QagYEcB6/x0HX3QNwPSPpcYVVhrAGg1L2QJhEsDmQ+kyL74MwGmkESZPexbAMYf7xU4cJMApNF9gnPDrv42egQ0ll+M/uMXcA/3RJUBCEYQN7KjiP8haS/e9bRhAHk3X8ER9E8DWRiPi0F4awPF6riCJiv2/Z+gk+I9sJcDOx/pMlT7xvzbpFbFE0BBAWaNrK76NG8D4uqubIXIAwLKmq3/ant6/IaBii+OGEcDVmE6TrzkKwBavnS+wgPU/MnstLclvIUDhlYeWNUUIwIIBDLVC5SHA5bDNko+60L84AOzU4CT3P50DZca8puM/LK6FFMaiEUCAznrtgR3qv8xe2b4ycipAAimvIAwVBEClc3TSqCAMQAR7auqgI/g/sHzoc6Wd8r+Lchgk+qgQwIStUQzwyMQ//SYWGnLk8b96SXCNh3stQJZU3Fe44gLAdVgQOc/KH0ANYdU37Or/P7JyPkDjTPE/kMZojNQ7/D+6l+9+x7QewFqBTSquPBdA7mhBMBGtFsCb7nV0yAcIwO6ClID9xwRAGD49q5Yz97+cCg5skNQFwHVv3S2p9iDAfZaaEP+bBMDUtmrg2hj9P8HkFD2h7RtAlkv5frSaJkCUngLRvY0QwEQKkfCBEwhACC0ZLAv6F8BTNs6nnvsRQIBMHzoV+QLAA+y5jAL+G8DJoMeQzDYUwNatkHXG8wxAyIdOJbx8/L+AGceNFMIdQCJrnJsfKh7AKB+3uMWv7b97MvP9UJcRwNUmOaMYHhdAGtEcjmfc7b8TTRLi6B0NwIACF9UIqw1ABI3Cu3Ar7L/23cizkLr2P1xn4HnX1h3AlTjweMZN1L+X2/eX/ff6v7h1v6kMDPa/e+cGp4819T87WB7MAC0iwG7VMk9QiBjAAViJBn6eB8ArHGFubukEQLVJcVQq3xLAwgoBSQUXDMCSYbxtQ50dwGIS2/9mWhNAFb/WCvBsAsBU1ZDXwi3Kv5g77tVrqgrAwBnC1A57B0C/YaPBW4bvv7beAHc6zwTAZJY/ozHCH8BWsuLWY1EFQJ7LDZGrGBrAk7WT6DlU7T+j/5lyzuXbv7GnRnUCiwHAOlKL9TOsE0DknkDyV5n+P9V62SmvEPS/WpaWpo4qB0Btdf2MsjEJwF4GTlMeaR9AePVVkOLOCkBayhxsD1Duvxuvj+oqbO6/sFXqbgln5b+LY8pGFlQdQB1oBd1J3wtAp1BXVDoG6z/KV2WXqH4kwPeQiO7OJAjAJ6XrpF02JcAzllcZUkEkQLCv675FUglAf2l6+JPh27/JKLs5Gorwv0VFkJ2GJQJARXoOnx7Uyb9O7Qx75tkrQM/o44Ybm9G/2/hgvhEYBsCed8ilK7kgwCf+7bM1R/M/IpKhC1k3H8Dptve4XkftP03fs68CkBvAoSqxpw6mH8B1S52TUHfsv0vo3V3TUfK/bDZuHIRHBsAi2H+adpwVwH+q/AEqie8/EcMNTvSnE0BYm6odRKUbwJ3KqbBocBNASirg8Q8xDcDUYjH06LgNwDM/MjUkBiPAhc3NA7L16r/dWtR3yP0nQN410IgDAArAnGamcRuZAEDw2F0wzwEDwBX1g81bYAJAgBjjgA8zkj8lqTG11tgcwKQ98/Q4vwFAQVlJaZzf3b8QOpuCamTKv1fXuIxlUfg/uxnZVChR6b9TXdKTENIRQJDdiVIHrBHAX8eog/lEGcCKxKxYEGr2v+kL39yJw/s/NIJ243J9L0BTAQp3v2EOQFqVoJh9/RDAQKt6QwwUDUD2XVIy7MfjP3LRLbl6Mve/gBjCsP0jHkBbRqoRKGQRwB/OHo9XoNu/iLLy5Y+KFsCZtA31LyHsv5zCcfwXGxtAmayLZbew/r/4poJRknQWwHs8Wv1e8vu/eII9bL2u4L/D7W86h17pvzuOSce2sw7A2mK0zSGMGEAo0KHLHJXGP5gIFjOF5grAwIQdVJCD/j/xvM2NdXInQPinxyjdCQDA8jlBVwgiAsDxD4QJ2AkNQDL0l3xmMBTAK3jT2F7dIkDQYGHfcQ8LwJzS1oianRjAHf2RQEijI8B80/SlkjQAQAqWKH0+QClAMUvBFB2C+7/Dl388TyAiwP9tuEXhEyBA1njjc7Lf6T/TMJ2sKowawAexvZwRhfU/wpWmJ8QtIsDkwWa0rmwAwBYnYL2dvxFAOqcKtEdMFsBwTnZ8llr+P2ebJUqO1eg/c7NkjKqbFUBs0gwI1HYDwFx+rhpdp/Q/LjJcZ9a5H0DAAC8pvREcwFflILeWkRfAAPA6c9HzuD/ITK2V4KwbwEh5owYcVyNAv5rzFQqJAcCsjB33KdH9P7PkT7q2nxLAkBlwcDqiE8AgbPKw9qP+v+b9KcqF1xfAo0c2T4eFCEDbd25I0UgFwIEj7e3/bvo/xVsnplpKAMBML1DyH98IQKz5tRCmPwhAGtASoKEt/z+NCTI0YlQawIw0FO3m8QjAb3P27S6qEcCeHPzmqpQewEU4Or/sUyNA7TldtiG+3z/wXsnZe+T9vxORAQrW0R7AP6tGyGXjDEBuiYMRQcoGQDG/5D1onxHAiObbv9WZ5j9vOut3lJ8hwPnUxIOFmCJA7FyBgOOU87/ufXfdvB/9v9AdpW2+ghDAcVCZ20BOI0ACvhQaunDyv5JUtEeuYBZAi0ojKxvdGED+3P5w/XMQQDoHdw8FKA3AvMJ+IfD/KkCIiDDXRWIYwCW68kktEhhA6RP66ZP59b/hr98gQEvyPx7l6V2lpyVAWNfUWULFDUAH9JvYlSEZQDFJysxN+CZAjs7lvBWs+r9JcFipt/MUwET2VXXW/vy/HD4WiZGFCMBYin2Pq9sMwJJJlin8LBBA5vsg9OZU8T+8IxQHalQCQAb/FkSOOfS/GivXffrJvD9CI+DWwZvvP8N14MCffw3A1hrL77f4CMCc2VDb0+gIQMA64Wb//fW/+LnY2rpDs79B8dhovyURwI0pmPJe9Ns/ogq3vSGeEsBuvV+IadoSwPIagiJoVCLAu0ZeV9BCCcAmENvOLYvgvwnP/7cD1B9AEH80JQIiEcCEu6gmQpwPQFhnn9kMYf2/jdHix7d2EMAPowxY3rMwQIhBcf8rxw3Ahwp12tNsIEDqSIxyH7cRwHQvKTX/JPc/IEij+N7e4j+vk2sKSqEAwPVmQfT3ZiZATNhKRSncE0BlQga9wmQbwMzOgT41ve6/nj+evdE8EkA+gDCgDfAQwPriiJ8WiA3AWtyp2ULu9L/vTJKz9/ftP626ig00biHAch7PoO2YEUClKi8vdcL0PxLu2K3ZgxtA8hCqztFTA0CTKYV/otECQKtKT5TFERvATMzesYelFsC3wu/SJusQQEmVQ5bXzhHA1RCX2D4WBUBOE1V5Y90ZQCLRA4dBtQ7Aki+Nci+KD0A0Yh0mk4wSwDypMq40cgrAOT/ceVwRDsC3shX3Shv2PwtST7wXvvg/r6ns5v/aGkB4WRr02Lz2PwfmV0MMAgvAIeeQa247FMBo7g4E6gkAQGz3NK+H8gnACHruy9Lx47/p/NdRfIEVwNbvSpB/r/I/1DbFe2GuEkD8WnupNvgSwHw3WDOxIQ5ARkxe+DyBIcCi9g6KiH3gP/woUlWGxALAytLzEekuGEDlcBtInS4WwIS/Tzkp/SdA35xxYD7zA8AeKMJtLNwEwLRuhjDYixvA6QuanrSjC8BM9tiVwcsDQKSfClw/ohhAifk3ucqnAUC3zyhObSYUQD/n5a2nsBNAuBOjYueaKUAJVBRTY+QfwN/AzNw7gue/KXxN0PRDH8AfgNyrWsgUwPKjSx8iWyDALgjHL5oVxb+LJTrmcF4yQC+GzWHLA+W/3UfRIEUn8L/awsNwlnEaQMyBZl84PCJA8Vq0KlIgIEDNh5VbzXYTQKlElJHKvNs/ovElRZ6UGkD6nUIeQ2n3v4T38nlzwhFAi9AAQwvkCsDzfhKf+N0iwL2RZrmjBR3AkMLjMKwdGMAuwLj36z0EwC1EBHwRGfm/sQL9XSFeHUDr7cNhmc0IQNSbNzi+DhJAWlsvauXRIUC4h6RGmfsUwMlRjicaAdy/6lBuBD5BDEABiBA5rVd0v+niaJEpfuG/qMJdPKUkHMBP4mZ6YpYfwKHK/5xlnQpAQaKKlbQ/BEDYmeroyT3kv2U6jc/7KgbA71+iI4YzCkCGvHJuJdH/P7ozFnd4DQzA+dzRhUvmHUA5a2pUvD0ZwHpw/+9OqcE/smnMTSlUD8BohyuOWRzyv2hHfPWpFyXAL9/QcXdq8z9vDMtKKhILQIlYfne0WhHA6wN45HpOH8AVdws4OJ8ZQGgKFYpriRFAPQZpOtNYFkBghS7jWm4BQEUDWO3QgOu/HNCeV9aFGECRzFQFXCsbQDg86hh67xBAGsvpH0j4AsDghdwemR0awEzu7LxIR+4/mTlS/zVQEcDcKLQlOh4BwGaTePsY4Q1A7ewcXd/oHUAzMg+GuMsJwKr9mi9vDylAHHl2lDz9GECE0Bff28cWwIT86g+E//w/MPaoz1Y/E0AEIacWo4fFv0AtSrQ88xPAwN4axve3HcAMWYVoKyn1v1EOqTePQxJArFHJxsiQEUAbOw4HFp7PvzPI/LHnNQBApvDnl7yf+r/i4/npO1AUwOMxzn200uk/7vUjPRNB/b8JvD0SQ4kEQNLtI8gE0QPAkhlxr10SGMDZbFVCgDcFQHBrVHWWFxTACysXI9Uw0j8c35fXldDjvw+JdjHuUBLACZ35Z5HoIsC2n6hMGqwcQKtD9dyl8QVAgI0kurf5u78YD6XJyp8LQHcWynp++hxANwrNHJ/iAcCHg317u+IFwOlIIkH8w+a/vhvH9XesBMAhPnTlHKHcv6655LCgFhLA7pnP7HWQJMAdA8E+RY8UwNRU3yMdbCRAaaaefubB9b8DTN6+YlIeQOTLW3HrLS9AfkU4ImnSrL/5xDBb/o/5v9vvUrWMQxTAnhz450xXIsA50ZeigXoGwP+MeqBWJhJAFSo7qhlEFEC2lvIFU1sSwBJsIze/UtO/8UkpE7m2FEDPG/9jJZsRwF1Sd2M4DgpAyjwiAgsBG0DNcaTr02omwDx6xIsuBQfA1ZZYjfsHEsBM6SlvbPn9P+ZnyIMHfAjAhyZ6DvbnE8CNwp/3C4UOwFJpVmzSXBXA5lzncOpMAkBgvRJxqbAEwG67gZbV0wxAsrpPK2vuC8BZju6fNojQv4h0hjOJQuK/rBo0ASdiCkBMwg02zrf1v2ZcFr0poQhANVZjvDs/5D9gxvAAB9vhv+IMFI8WtQlAbp7QIEW7DcB7BnY/aW8FwB0L4LyqfBHApCM5+Fhn8j9KFbyKHGYVwAN8kXD6FPC//75anlgS0r/SUXmN/5IBwDzmTHhMV/o/DZiSXxKq+L/fFNjJOAAFwC9hoiMVSiFAcOSCeIFs/b83YiUqPiwQwJA0pt3mZRPAEFgGwkcIGMCzI8pwBaQHQHFvnWpWaRBAEvjCBMoE/b8JNeASNccTwPkcnl2dQ+A/h0Sd5nwICsAor8QmaZYTwJie2Ls4U+y/pq/4E3AJEMBIBkv7OEIsQE3MSEzpV9i/ze8TUsPuJcC1zIBG05kXwKKM9rQtNRzAqwYwo/Lc4z/sNpp83Ia/P5YWwC6dyfE/afEspM0o8r+XqWWVck0MwLVRPl8zZvM/JHKRJsx3IMBYmbLD8pr6P0UAyp5APe0/Arv4uIfjIEDZuTk5n54QwM6dN/0ADyBAgAuXwZ+nAkD1cKxawLXRPzLAZl2OogrAON6YaeQn/T+wbxjBU9q1P8ApYOybUgXA2JJAvvcoJ0D65gLSnib5vzXfzlfYjfC/PrezJhd1I0C2vFhs+/UFQIkocJrjuibA6Iu6aQ57FUD/EVPsvQTxP/pgbzRyOgHAlZF/8c9TDUBYlzaVF9ITwChg9RpZ5xVAu6tygNJvGEA5QYVBCsgKQLjmrksyHwFAv4Bmjfz0FsD2awjROVn9P5qn+jI5viLA6sMz6UUwGEA15hfsSaMVwLiquVurs/+/eretk6fHAsCJhPAUwbsRQGEN1e7ahAPAtHdTam1/EUCcchcG4pAnwJyMW/lDJwlAENyQbmYoCsD6SzoE/ob2v0nnxHYFcxVA4cRGXKKT+b9kHqlaEZsBQBckqlw/uQHAVgQK95n99D/a/C8YmJobQITKnHpO9Q9A8FKfSmvLEsAPfPaxUN3Jv10opCz6HiVAaumF2xh3/D/2UBopU/AAQMaK2hEEWBZAAn9AESnMFcBgG5MesBv6v0EseMFhthzASdvUTxKZEcAKubDaChkWwO37rNGc8PU/vBSk3+enAkB0d7Yv2OHsv7Voq4Ncev+/ltNl1umfGEB50BEE7WkXQF6B2NdPLPu/A9bkFA1nBsCqD5aNfKoQQOt7nsM+3gRAdYqBr7aNA0A96V3VcTnmP/DJLR9wIsK/Obdk5aGsIMCYNsC/aYbJv97Hd5oiuQbAgVZpjxzX3z+n1IpWpxklQPxr0isbpghAgEVzNARsJ8C42SaNzwnyvzNY9cKpSNa/1/X/+x3VGMBM4rSO9A0tQFwa6PyJdC5A4k4JVvEcEkCsntFXL3YIwHCz2a7Ipb0/qWGB+nwSwL+8z2m8WDoAwBRRxhPNRBlAj9WsPkgd+L/aCIvcNXAmQEpKfiDEQhJAPEILqle/6L/gVg6f10AAwJoyIZN4vwZA35mSGXSGFkDAmopO11IOwK6YDw3EMua/i13OJ04a7T/gdpqPdajoPz0QN1FqgiRAj+pIbQeYAUBe/sGdRhcSQEDTFKkycyNA986oobar7T84SdoqgvIZwLWIpt/NnRTAFYo1hdJO+L+g3ofQmJwHwMZVBxQh2vQ/qilRlVk/JECl8ZbX6E8awIC8wIPQ0/0/APG7Jwl4+79okvsOn2cRQG/uJJ92otk/glrYvbw09L/obJKKY2LyP/9cH+REoPY/WzGLVKUFHkCCty9A/SH7P9VfiFo0OQTANuRqsWlLEEDjCcU78g0XwHPU07/oISdAvqNZCaNcAsB48kneYDYVwChnHbfeiBvAux/lGHLr8z8BSwcDzFwnwDFVFltI/SHARGtL4kkHBsBKwkkbVpAhwNRFa7bOSMq/lTieEhxd5r+J2lGF0jAgQPiiZlG2ghnAhJRcBbEMJcCRjtuFj7IcwK69Ze+POQRACG60eHNFGkDqoa4gEeMXwCjsVEIPHfC/9uQ1EBOA57+RG0NDzYEkwI968HEt3Ic/1JLEQCyJDkBP99JQ8CkLQGstOWHZ2AXApGPrkbfUDEC2IaoFWFMowIGFeO0lLglA8gnvi6C2HMAmvcUGicb+v94oAe1CERTAKsr+oM4S8j8CnrZy9MAOQOC3qV1GCPi/5HVcTRUYEkDIgTaj4X4UwIjPzHYkfQFA4xUWkn0/B0D8Jt7jRA4ZwE5wvtZlPLe/xqNvrmLwDsD3A+OVX78kQJ7LI46J9w5A0bT0eTcuGcDSnlu5/OEAQIk2VYhQfBLAUq4BR+6TKUB8WBHWF4D7P1sCDbGnhhZAnqyxfKADA0ABerMCOO8cwCTiYD/1nPO/aqiOEllBHsAABzJLE4qkv1gNciwpdQ7AoLki4VpV9z8JVz5dP6QjwATXilRd48W/7oK3wTAb9r8t05MLWOEcQN+UsrQilO8/gxlrmdDaIMDv0cjezoAXwLaaafeYVilAHpSgmIVWFMAcVIED7YwVQNeUHwUQsNW/2aRBUJGDDUA6dwvwhm8XwNHdz64rCiFAwawe9EP87L8PadHnSAIZwFPAPD3Z7us/AITh62u+FcAc4wgwewMCwKSWgksDmhZAVv44tULb/7/7YB6UEzQwQC52J1ZvhxVALQHB1cdJAMCrRCoq3ajfvzDTJ18N+gnAxtI47If6K0DWoZGA/bAXQH7xoQQGgiRAVkPExs5WEcCbaUiLNskTQDexvi9Yx9C/lEVSUDlrCsCswpSuEQMpQGSAKcvDM/C/hEYEtgAWAMC6SHws27UKwARoVza2SfE/sg6WibpfAkAcw8imQOz+P8aHamcHOhPAcv7hqRYxEUDT//MsHs7xvzoYyLEhTBnAUOJ+OIvfB0AQBr2RzDoNQNKnBLfM3RJAPJz+7szFI0CR1xXDjkIhwKeF975aCgzAi4rGpIWS8z+JOTW5racqQKI7dJPVVhnA9hLluWUPE0CzfKhP5bUIwGuHnvrIVSlAZ/8ohbklHkA5SpuPCrwFwB4V2N6vExfAktIe6ffaE0A02lnt8zAXQGm2N6F4nAVAGAwyq2yVJsBp4hlpv8wdwNMG5zS+k/K/rnd1kvRN/r/QJ/yUhh/7v+IMzOaV1P+/bz17MD349j8wodTacEMOwACWjQol0wzATNojBFioJUCl1yQQxA0CwAjG/97KNA7ACv+SyvYMF8Bhcr1yUVoewIlkkDbVud0/L82CzYu6EcCWV+h9DAcmQP3gF121oO6/9GhjfFeFIcBrwzd8dAIewBLmxJlwAcW/IOAn3eBjFkAE2/6u8Rb9P6mp7mqdY/K/A7QTTaLUA0BjeZ37z00YQGQyUw8e3v+/UpKcXO53FUBJpxhAHB4EwH+3gDT/N/c/iFqtAQ0BH0BFLgcpoxYlQCaghnLqd/u/UVbAlLs/HkBaWk6we8Hkvz6KddjtJxBANxifZeTOEcBj1BkhsWvfv2pgKoZ9zgLAsnIVwJWXF8AFiDrlLeHQv1glSE3vXRdAi2Qs0+QUy7/LoJfcE8sDQM6LebPtFgZA5SYwCOlVC8C0aIYbiiEBQB/lMApUQOq/YRMItM1GD8AGS1AQ3S/xPxT0Ahwz6CdAT12E55E7F0DTt/H9TJ7wv8MvTbokZhdAtTWLCXeY3r9aKZwjJJIIQKN28rvMut8/2qe+f37LHEBl7DKpTFjmv5AzFslE+vc/DDV1vCjuFcBsmRMI7l7APxh+MqkjSSNAG0DvjwDM7z9arPdZmcUNwB1B1KdwOum/BEG7YXzHFMC8KNic+UIUwAUCvvXk4RFAe2dW6g6YEkBFwCEhfjQUQEhIlHrNPgbAsX8LwRINIEBm6qq3hoglwDrkpO0B6RBAavWDiCqh+T9S0KtEcSURQEUXWoerSfo/oql0/0ppDsAZ7qD9Jy4xQBqHj8XQ9wnAoH2UTLeE5L/sdt9EWEYdQHeD4UkFtd0/EpmQu7gJH0DKwXdCSrQdwGtdRox0oARAleDC2S0wJUCipz0srbUsQCrcMUzXliFA+UZemONLHMAtplGhXkIDwMEZs+WBjyXAz64oOXMmHEA450S7mqgFwHSmWoRjJve/YoNZ6QY0BMBkBXLrba8AQDubBDaH5hVArICo0y84CMAR+udJ7EodwBetm6ibTPc/wtrmm+i0FECvrTfIMNgXQCNDZwkPteq/RNgd9WPgBsBZeCtJqwQSwO4i19khhgJAMlRgL3hg+r+MzWLI7vAIwH8lqldbku8/ML8VdEaf8z9wNTdMixMSQP39pYVBseu/T4XO66wQ/b/wyH6lfIH0PyomXNn9khVAqCzV2A3WG8DOZSf8nI4JwKz9W2asSfw/HW9Eh9TwFkBfPnvrDTu3v/5HrqQQ4gTAw1JwowXdHcAhfQdQWwkpQKiO+HJGrrO/CEpz68m4FUC1Ryw9y04fwI0PcsktnhfAZ/jklRVxFMDjiHjW354hQDwBceU1ghbATRvj2u1zIsB3Btz3fCIfwBNjCaDMuBbAk6yN6Fi2E0CxcmVnTMYcwH15FRNaCeA/D58rZ3BI6T8ZfOhV60QWwCdNYs9EliHAn1Hm4rdj6D+ckG8e7QACwOyIkISmJfI/eYHFBte/MECV2Dz6/ATQv8K3p7LsF/w/tEMMlcYhFMAgRPST23cXwCWl44SOR+S/r6Wh1O181b9CbNhzr1P9v3P6ojkebQZASko+RgD7EUCGfEYbE/QBQNOCBxDpNvY/Octzh1E+6L+KEp6SOLYDwEnBfHniqNy/KvXc1gqwFkBSkqgJMXQQwDfugPIdBB5AykdtSXQIDEBiXjtrobwLwOLevfkQ3BFAEtVmAXO/EUDpakgMWJ31vyWIDSob4A/AcO/MAN7Fqb+nnqm232YNwCQ4oc57uBbAp+cjk2h7EsCnYPnXmBAhQCKjkrV0nyBA4IOBn4ygxr+rlFEJUycBQKRnQZ+zJ+W/djqmSdQoBcA11+bqRhjbv2Lt8Z5FxwXA228H679j078tn+GRGn0SQHO45bZ+YxnAmAoXZLWBEEC2ZPchKDkiwLYxtQrvqhjAeepw5FoJFECevJ/HlmfrvwTe/BmUTQfA7/8N5wbPF8DO5DNVHKwTwOdrTDM/Ku4/OFZNH3EN/z+CEAx/Vqz/v6K18DC9AhRAGeTKml8n9L9yqSCHRfMYQDmsjZvzRBvAJW2JxbmLGMDUNzExCn4cQEC3mwtfgiBANh7BME2T6T/AZatq5p8TwC5A6gbqoSxAy8lUjAUI9b+zXgMI7vUYQISryF3JQgjAXP2nSzbVIMDWsSt6SWAPwCKUXkCzbgrARXDNqg7HCsAgYvvdOLXPP7aK5C2t0wVAHGCrEysGyj/7a//wuo/6vx7F3NgpegJAsVyWN4UhEsDxazauYVYdwCyRhZJnaPw/sahDPTmBGUBWVa0/H7sVQDOBuOZOsBpANK3rseW8JsBYG7aib4USQFeg8LIk2QLAztBFnZHIDEBO21ukOsbwP3jQcVeijBfArS6Db2JjEUAXDbaA9H7Zvx/uVRXj3fC/rHNxQQasEsDe2RjHSksZwJTQGEi+RwbAG2ngceHWEMCGzY3+7QcWQEMlpOsGyQJA+wC1urmF6j9r6Ga5M0YSwJAcsCTghg7Ajyx8EC9pJ0CPdakQ54oJwDSO/VMV+BxAxXsdAFtuJcBYAN3lbs8BQAc69eafyAzAPP1MSSRRI8DGHldLzgwJQJgltWQ5J/2/5o9G0kuxy7+sxM7gLaIEwOCcKg6YvPA/6s1vPynuHcDO9HeyqWYUQCzhrjDGABFA6Z/7c9B5EcD3QeKCK1cRQPQKLxRiNAnAiEDes50FDkBVaOSO9cYpwFiRDpiv6iNA2uAFWtQKLkC0HIKhx1bmP5xY7CXmXvs/lncWxR7DIEC7+exG3x4mQOtvT9aM8wBAuD7ZSolNGsB0f9AmO60HwKyjRq6RmhlA3RRvnpIT/7/aUDCNCqu5v0RQ8kq0QvW/3bMR92Y1978o5oF/XxT5v7RuPyjdGPG/EFdKz+h367/+ppxhSjUJQEgpkwpsrhpAvFSvmAcAGkAfHm0IlSISQPcAC8spJyDAqBg4Ro6UG8CqKNQkDyYGQGavGk+isSNA1SRzemxWDMA0x5cLFJ8SQB7TTF/vMcE/IbrwnQZuHsBS4vgFrGMgQJyM9iej3gPAqvW9QQymC8AtpDibjNMXwOF/2hXuMQrAjcVh/Egw7b8EkozhZQ8oQDQfV/F8D/U/oU7d+CI4HsC/WBGKQcAPwNpLtIq+WgHA2XsQwYXcFsDbXeK/YR3bv5qEJMKfafo/obcLHAY6JMAgSG6FQdL6PylLYwwk4xPAD+7HwWNrAcDS4I7PdWX+P0mCN4obc+Y/bLrQmeNk4787/YCzcA0JQJ03M3yA4hVAlBZg0RIszj8HHeUTK78dwIo+8s03XRfALBVMJm9YJ8Bv24w7Q9kRwA9OXZ0BjS5AxX848x1IEsDafrNd+WgOwIZk6AqRcve/PDzxkhY6CcBT+fu7kx0eQDbD+pijWBfAlbKU3BYlI8CsLgOil64LwPUZFexX6xnA0KVAOBcxIED5M0IhyucewG70VGwMshXAze1eoIo7FcDHim2XpSHvP2QLyIsGmhVAJzcf2IST+r8CLyb8N6wXQACyHjhmBhxAPDwWO14HF0AHloR5om0ZQD5SgX8ervY/NCQkg3V3FMCWEzCGR+ATwE4fifLBFOS/wWnNDXMl5b9FlpkbibctQJ332rvbwhnA9LSxDglgzD+mWb/kr1MwQOJUrp3ifgvA80h2hKPkBUBmu6dgHokBQPh3LL2ZivE//0k4PCGG7j/opl4ZMH4NwNKKqa2cRgTAw3HZqjmhCsCt9Uj5624RwPpiDue7ohZAjMlybPCB9r+KLfBwahwBwIwU9FSifP4/crGm+0ShA0ChrYIKY4AOQLznmC3XjRbAYQchDN7O8T+oF97iZYYiQM5EeoZp4gHAJJ5D7eSRAkCZw0+m78fbP6Pw4GQQ8hDAHUcZevoc078nd9vqxXwdQA0tVv91vibAzoSVjN+DG8DbNaWKXrYaQLHEuFDKQOy/0LKhAIpGHUA4X7A6+v78P3ddnLF7fNy/6r92H7LzIsBMwDq8+gP6v2Qgjut74RhALJqiNulPDkBt9rzkcTLsPxf0kM6XUwbA5BiKunBMEEBBg984RysJwNwF8UPe8hzANxyvUr5c5b9JztQyVOMgwDZOiGjryxFAshk34kuQI0BF/ab9J+UIwCCs9dE0ANi/SfvNfTJx8b86YKqlYEYcQImowr0BBStAo3wFsUD1EMBrFKKUXdziP3rYp3mm/ijADhsvfrL6IMA49+/6NF8LwHQIqN7s2+e/zyKxGe8eEcB8DHDtLz7hv+LkpfMTVgXAoLngsJTXAcCZl2yhFgYaQDZUCcZW/wPA6y9iXhlH6r+D8l7OCCUcQB0xLpssxw1AuDoZRudXrz/vulWyqyMKwKci0AQ/bxPAeQ7KuSzWJUB0CHEWFWn8v2a3nl2mIB/A+KBK/nIbEkC55LqzEFMiwPLvw4A34AzAY5cPjPQT1r/8xKacGeoMQB25DVHKrgDAVE5NoV1h9z8ANU6Yee8OwBpDqY2v3yZA4zzqlXyYJkCGx4ou3yEVwAUJh59Um/c/akyTJHnvGECUrlYUoQ8EQIo1TAqFneg/KAhZ4yXfHkCvBUX2opsXwA2+HaQBGRbAapW5xanDB0CG4CJT0iomQHbMz4N8DPE/KflccKwdC8A3Z0bzv78CwPchSFEFRCrAXmln1x5SDkBlNUw2IH8EwJ7P7pvtfwrAMXI5hZ1I479t/wYqMYkVwGg4zkqzwiNAnIS5k9BaFUCpKgUmdd3uv0n/82jovCVACSj43H2xI8AMkURCfcADwJ4GNMknOPq/xqduc8sFEkDxCY/iKzwcwH/+bIUkDRPAzcHXKu54A8AqdydLNtgRQAbJ7Efw3B7AmTDXO+vnEMBzqHXhegYWwJ3eIqSLfQ1AI3UvvipdFEDGrid3/CEUQEnImYIRSPG/5ECnk0xkKsDonZ3KATURQHryRoNg/AfAAdTl1pUaAkCb71mMg64AQOLDhTpTDR/AGAc9SSWwG0BcHI/suxcEwJTh036LxABAgDN2eGl6DEAgSRPui4OlP0+HBgjucBtAjP/q4xQeLkDGwFumKz4QwIXjjc/ynus/hHn54gJjAEDG+zTHy24JwHhr4XVEwytAXXSNRafAGsCMep8mqYEJQAikL0RCZhFAyxkOmUhB7j/MOfeXK2cDQID9csaPOADAUruK4M7dD8Do51WjlmgoQDzz8bNMoAJAkyYqnjgD8T/W5hi62eUQwFE2MEJjog7AiKcf2zDLCkD8TllAdkUAQGAxp2htWu+/mQjqDkTPEsDZo1zSRVEgQDry+jHamiHAQ3s+GjNHF0DLL4EAMncawHSX+emdSQ5Ay5r5xPt/579/b+v3jxzxP3mxGbqv4gdAC4KGREuH1T9dxUj9n8YQQAqcJPhR/w7ArcXKiu3/E0AoQegm/4UEwNFMZGYnhwZAw9Nb7tzHEMAoAkBZHYYSwHWDexj9iDRAjcAmktFTwr9pa2EOgw4tQPEkmd+KOdy/MMc4/6deE8Ay/cbRZHMJQLJONRjCeva/1sgy98i9/L+c8KCMVcwSwIPDQfJxogLA4pgrDn7WA8CxEz51VP4JwFyXftIukhXA8/u/EfOaIkCeC6qLuYQRQK6iqVrPNP4/WeOyi9L2GsBkb3ueVFvKP5i1aDcMufC/ZEPS8I2MFcDrRsRbup0UQDWve+a87c0/3Y/WfpjnEEB3eSKYjwQbQMd+by5nSQVA1vUSj2QpAUDu7TvNbCgnwI7HN4y7PBnAWZZLLPN41T9IdJ1C9FcOwIEhOethwxRArVgI3bVN3T88l60qUHvVv6DKymyWrBVAhHmDZSGhFMADFcKdZ/gFwPgmFxIH6/I/GXbuAp5TH0BGZ9RdKI0ZwMiAE5Lfv+i/6qDcX07tEMDNEAtNnuQYwHgNDJD1Ess/wGngjLv4FsA+usYCeg0fQOFDh3cg2Q5A0dccd27EGsAsKdhQpVcDwNeziv2cHxZAeMknU75mBMC4JPTGqgAZQM9C5TYWVea/iCDAg77i+z/bYgiPoIACwGHuoq3xJiLAOAL/DSAo/T8eHjAy4ngCwAoG8sAgzwnAnivRoY3N/z9NHk6qDZ8ZwG+Oeq6wNhzAsuqpIAcyB8A1jTGFYdgJwE4TRY+9n/k/sY/T74p43r8VzeYPpkcRwEg8+yBOuw5AjSbplDvsKUCo7CJ3G10iQC8jH6fkVuC/0PBDYUzvEcAu2u+IjAMAQK83dnMKxgXAFbhcvYNt0D8L6xKteVUDwLn5yVXVyPm/czwQCsqtGkBV6aUOIYUDQFshaQfOEBxAlKF6gpXTBsBtVfQL6C0iQEe+xZY0VPM/1YffufzeG8CPO3/3wELcv8IxW0glpbU/HCoomoHKHkCB/VBGLwUGQPu1DFWJKBFAFO3En8TnJkDaDfyXUacpwP2PtyNXkxnAQjqTLPU4B8A6zE37m9wMQCDyjAj4tRXAOIBNSOulEsDjSLxt6R8OQKO7vr6PQdI/zzRR0aP3F0Cy0aes3cMUwEQJVpNo1R3AjZaTHlPVBsB5wwbkMXjyPw6JTkF5jek/gKeK0gcC/L9x6X4lKGUkQD1eQWZbadK/vAV18pH3AkBPa2ND7YEOwHFuppgBFPa/hYM2Pn6LDcBUlhau8Oj1v0K7vX6dkQPAqv3XfedEAMAzP7gNitkLwE4B6pAyjQJA1en9dY7G8b8PuRf5z00VQKVPKA0upx9A8wq/Q+iWEkAV+vwKOUAKQAd4+GBn0SFA+W0j3YfeE0DNl0ZtJMUQQKJz03Z+wQLAm36iK6oHFMC80HEOocf5P33wxj3jE+k/nTgUehKeDECbXM3rbhbpvxfcorbkMek/+clS8jOI7r+ZMQSqZ0YRwGLhO7rhHxrAZC/kWCfXFcDbGV4lQlH8P+6DGaYXqRjAQkG/XLj8E0CKHgY9iafzv4vc/YroyRlAXlatBj61DEB084Ltc+sZwLWafnj8wQvAJV6h+64PHECiM6VrPagJQHDYKiwWmg3A+xxL/vH4Xj+Y0ai+8wsRwO20+rXR1w/A/MHZHYsp+r/RCGzULlwUwN6Mh9ZVGhzA5tkNJihY/79Q4vBXjIYOQKEwtUNTcxDADua+sBU38r8opSBvVUcDQLgRCP1FYg1AaHWuEm0syz/5hDps4IDXv0bGcqdDRgzAGngNnEm+CkDzy5qHKyP7vyf8i7WiCRTAXrqGUXYcAMAOos/OxxoewFWFrFcEoxPAtRmizzhu2j/4pPHevMMGwJc0ezp+Mfa/4haie5C59T8NMBiVUfUAQCvZ0V5EZyDAV8CBDh9L9T+zAULWRezlvyyHl1V/7OG/uGxNuMiH/b84phsOT6QMwGRavQNajMA/NhN8Ds27DkC54noIa6ohwDO94i3mFCfAOuRSi2+f+D+IuXm5VhPov3TbhNz0QcS/VF1pOo1cF8Be4VniApn4PzS2fEbEWgvA83w3RpO6879u+KbijN37P2jIKemIwgXADgUoKRrDEkBA2zYXK/v6PycgDvc7GoI/5h9sELzE/z8hbN79+6sSwI/D8FkYiBZAxO38JKBAAMAC9Z5CXN4bwA2/UaqhSwtAe0gt0SLsCcBGuPvqNpwNwCW6VEZOsQXAvlyEqwaEC8COgYQdo+7mv2FR1ioGJvW/iXRSqetPHEBWeKhhf00XwI2xJBpzSx1AL+01VhWpIUDuQ9oAsHjov442mNK9YR3ASOPy4gxV8z83g2mfHS8dQGh+2ecaD/c/oOZvZtgG+781JM7mmMPsP+X3VldaCu+/oLqA21IdAsAUH9zWWs38v051FzWprTBATFYxjxs4F8CdQoVqwrfpv5skITuLyhVAAZNnWcT7EMCLMyl++wkWwD0VaRZnu+W/EWkC4guX5L/Vai1VXd/Rv5482bdPXRLAUcwXAuWU1D9zuCqNel7dv1RSZMeuDP0/qlwb1pBzK0CIJmvpvO3Hv8Cv46/AXRTAHeR7yCCTHUDiy6BoHeD6P0davwxMNu0/Xd++LgwqAcBjrrPXsE0vQK9r3S/f9yFAY8lJ5p5uAkAB3ifFP9oIQGAJ0JozNRNAlHLg2bCJIkC4KlwRrK4QwGowTROD4BZA6lirRUB04r/8t9/fZwsawPhbwL6viAXAN7vjEDnf57/eY7RhsXzzv6ugJvogxiFA1WrbTbYy/D+lOPai0T8MwG3LhH57c/g/Wr6dibtI/z8f5z9Yrb8RwCfEVf1hgQDA8nLnEuEa5r9Pf10koEwGwOMXbG+8VuI/HU/Jt5rR+r+sxzMHXXD1v2aslLasBARAlgbbwVAjHsAdj595nXAEwDEqqDXU5BXApYY6bXDb4z8o3xDjTuDSv8CcQqPe3LC/PIUwekElFkAUWjugQCsGwKPOKfLBLdI/VmbSVl9ACUBzxdpKPlMTwOBcZKCDqZ+/xTkr7xje+r8C4B1mO5MawMX3fVi3/to/SIp29dGi+L96cOxxKb44QL2nwZZrLCLALJAXFedaEMDZRIlx3vLvP3xUp383NQZAg+RbNnn+HEASBlRC2GsSwL+Mqu/51u0/EN6rsStHC8A+a9WzBo0TQKsPTKE66gNAJYOpxQn42L9Em8lPwOEAwDiChNuegQzAvDrz4n6A+j/lmnJ7PDnsv3y6HZ86A+o/m9nGSt1rCkDeVv75NXgWwK9Z5NiMvgtAQdigVnooG0CIyjWZGe/kv4EEktfVxhZAzm1iJme6FEAW6msR014ZQOxA7XGtvBBAopgxOp919L8eOiv89cAHwIK1PcpN/xjATvXFv2EFG8DNC3OPU5D8vzJ8vOozZPO/Z1dH6D/cBkA0KmR5h9QQwIGPdq4DbBLAh/8PSnGNF8CwqxUkD73/P0xlzF+xfAxAJj8n6kL8AEAoibqnRz/hPzxq3obr4hNAYFF9Aa5rG8BuqOJ9ppMYwJn6rjjNHRPATDYa5O8o+T9hK+jYeJ8IQFt5sXnm/yRANOTNeelBEsBr6G5dtYYXwM4AAoLCAQdApzdiBHoe+b8Hz/YNkM4fQMiBgSj+ehZAjIpgRhawJUDgrlu1BvmcPybeJ6lfesK/p4/ituo2HMCyI1zOHS7kP2eGIltXvSVAeJL8N79e+r/EHoBXxjUNwPQlfQkQJg7AKCd89g3mEMD20vhy56EFQJbjYaQCexTAMRdGrFUwAsALE/i6J4EjQCY2J12G5wtAAxBPf7qKFkC28RebvIINwJSPosH01QjAAeI55Uk1FkC4mAXj4rIcQKgdxTC53gTAAAsHef/f+L9sfF5dYSkGwBf+YRoyqPi/7FTxEBfK9D8c0avFt38DQOgZcekerxHAe7g6cSsd7j+Say2vBQ4awKKWGH8ALCJA3QqADxubEsApNJa+UkD0v2zs2jTj2ec/CZPUPhefF0A01jd3z5DHP86+bBSAbhhAgVr+a2u9EUDsr0M9m16yv2TG7fP0lRDAFLPVUIX/7j9USbKccjARQEyxSbG7Hh3AoCfwvJsTCMBhXgEqazHxP/NE1FANJvU/NfE2PBFRH0BsRolXg5IAwMz9lhmmZADAjOmJcQqAI0AOWYY30P4jwLy/tm+V378/pFFGb4dZyj/HttAo31j0vzTqdnRzXfW/bX/M5yFJI8CX1feRZMkRQL3azAwQoiBA7CUPE3Yn8L/2UV/zDTgsQEnCJARtNBbAhggSznrtHsBIKAXSdJAcQHkZglvAZiJA96mS+TPgG8AS/jfDCTYpQE7V0f49gOC/QxmcUDP78z9PzWOZmhwMwOQRfdR7Sfs/t8J/XOAWF0DEMnWZyw0XwL01qcZ3dB7AR6iSXzwYGEDRXFf7LSgWwFdwPZ8MnwbAUPG8hVw+xj/bluRsaAsTQHOTzNOBKNa/8qItMJLrDcAS/RGCQ48eQMjXPYTQaA9AchWafDIJIEBHSC1j+srvP1Bz2hN8HgBAxDoO+D9Y4b9O65gUS1LwPxAtlJd8+vO/k3j6bJU7AcCAiCmkSmMcwFCXMUc5HxBACdIBwC8e779OZVP5jRn7v7D4/Bxn7y1AteKPJcTTFMBOAL0XDsH7v08y08dncBTA9Z6TKPWo/L8ZXjj8qS3Uv5ckorWF7BpAyIQlK4jjAsBwc1+ex0r0v0laEPRe9+s/UkxREr/2CkC/V8jZgzr1vzyyBSKhVwtA3oMaN1REC0B5vfVUVMrqP3T2suZi/MY/8VKpjWA9/7/zgdtFO0kNwKQKrA63RO4/RWFzwJkVBUAa7RhIdrMDQHNHsJ2X7BpA/L0iAKvILUDuV2D7MIAIwP4XG97ypfY/qQ1pdBGuEUDpDEyHyIQDQGsN8A52ehbALRCOhwQtGMCysDPJ5uLOv2qGu1OL3B1AdAK8YAvn+b+svn8y38Tsv2I/Yo/GehpA1vK7/RUHEMAaSU+O+WQUQDp8LnLX9+K//zdmpN2l8z8oZ33MDLkRwO49GF8yGBJAgO/BiwF1+L+9MnAoo2cQQGD7xKRJOgdAh7y14jKDFkDuBqHns37hP5RDi9UNaiVA1twXLl+cAEA6kwhq63vlP+J69uy2yvi/SgLSS2bAKED43HvSvaT2v96uHLAKKTJApjMLnk4DA8DUJltG1Xf5P707aRPc1ty/ke2PV0IrAcCmXXItA1f1P8zlob2VU/y/JYEJnh1fI0BkbSv8G5TNP+t75l82TuY/WB+bIQvJ4r8zo4l7IiERwMoJpmtwFQbACnlGfKRN97/5i/LEKkQkQMwIVyppEQNAr+wilKp/J0BdsHp5eWn7P/pk3n20OgdApcP68/dfGEBLca9mTTocwD/IerGpiCLAd4v0IShkAkCVhlLL+gPYP61zLYkW/ve/qqbvY+zSDkBXXp/HqjkUwIQurLOwDwTAF5eBauHUCEB67dmjV2UkQPvWqOraFhLAuE3krf63DcAJpIhzW58TwBfYIzpYzQTAfsWtooeK57+5JdMLDcYLwLm/jmJ2mO4/IIW9nrlECMAVQn6GhJUVwPAmL5M/LZm/XQa67/wCF0Bdv+CUYSPiP/0X7CAy7x7AgJUPcUIqBUB5Gw0tLyoUwKgvw3+cMvO/S8enOlkuEUAPQ6opvPUgwNJRQWcr/QbAnGFUseqstj/cFH3K0T4uQPKvGm82LRfAbZ3GwPwUA8D6HWlzul0RwBC5F4ubwwLApP0sFvTvD0DbcJsuB00TQCVrAYw1dSJAyAF++6Ja8z/XiiE0Tl4QQIY/H81MKCDAdExfdk65IMCDB/B8uWUZwA+Xcd13CwxADE+dO+CHB0AOdCS+rnYLQGaCghVRwAHAHONxrwn3978SRjM+OOLjv99jcBVaOOs/7cPcHiZaFsCGD48jNoIZwA0k84BzpgfAZUwZ9f2nDsCIeDw6nwv6P9/h3ZjL4ihAbQMW+yN9HcCRcobtekcQQL/tFC1lRP0/Ar8veb8aEsBRT4b48UPaP4/PW+ffoSPAc52vDs3KAEBIMWknvQkNQL9FcbSKhBJAez1JSnxsDkCSuHINbc7/P3l7euccCgHAE70K8TZn3L8mErc+ZBkSwNQ9/eQneh/AicH0wmr6yL9x26K9mpDQP+dus4HXkCLASdvBcypo6j9LIuma+D8dwJosl6caSyHA1HMKGszAAkDimvBcnf4OQGojnWJipQ7ACQuleR8P5j8VpTMlncYAwD1zypJlsxTAusHKry09DcD//ETzj4fsv+9HaR2fuRnAKdUwBAnX+r8kYyHfkekGwAanjhqZw/M/yqtpOyhE0r9AqJwAc63zPwdOCrcXLRHAiSnPnC4CEMAu3stPLfjqP9BpvwWB5RBA6DWXqV3xC0DkqUUTMC39v+5PDZRsfA5AwYlarQy31b+At8bzLV8EwBm61xZD6ABAmS+QYadTCsBwVadJska5PzCgeWcsYP4/Pi7U9w/AAEAo9/bXeywCwPkxP6YcmRPAALEex5LgLkCWdo4Ypjjtv1RxafLVCSRAEnr2ma+lCsBQxms2NSbiv8z0xpBliCXAZPAeqYh//r9k/0EhuOEEwHTEV3jqkxPAyYRzGNeyEcAYgnYEYkgMQJmiALLbcQrASix64oD66j+UPTGCZw0NQMwT2dMxqhrAEZqHBoK7/7+LlRJLOQYiwN3FNx0rTglADvRilP3zG8D1TO1aY4gCwH8jEQsDgfO/RoTWNqK9AECGVpO/sRYCwGBfau7YRBLAR11HvEi0IcBldorMUFUUwEtazK7XUTRAUEnSkG8dIUBvlFvWi4v0P8JmwTmanQVAH1TscVhR6b95+qtI5Yjwv4ZS1G+QLArAKhxDJ+gVGMB/cDQDd3n5vzouLmKgmx7A68mp3cK7EsDMorTC6UcUwMNLg2GsTfU/IP27NS7Lob9c83IRJccSwIT9CeS2ASZAhTLLPG8lHUASpUBL8YQgQO4EEkllFxPAlBgqKjXJ5r8W+qQBr6P8vzJW/koKShZATptc2rnixT/c5Y3YkVwHwGZ2kfbpNPw/2aJIDGWXHkB4ytGf7Uv/P+noNpI2hxdAX3E/Em9aAUDHlzXGwhAdwNxanv857PW/iCidckAMGUCGkojiaW0DQNk9p9oV8Ny/KZ+3nKrWIUDUI/GmKH4JQNVcNGUUYh3A5+1WHclZ+b/73VYjrMELwFsrXete8B/AVpE1MSSrEkDu+N9+IqEBwOHERXPU+iBA/wBHKLSX579YqxP+zFkoQPpEB/Z39CHAh8t3EJs0IEBxphiVZQEcwIRtdkYg/v2/8pYWw+NUEkBGi3wGhrsDwMPD35ZFztE/ly+NRd1BHcAyrvWj5d4TQPSJ3vK4bBnAsovGpmsLAECLUoOKOVsbQMESCvEaSAfAXTpvG1u9A8CH//Cach4owCBiHk3x5A3AaLvFxpjGsL9EglFNczwiwGBQy5PrUQNAVkqRAIjvEEA6K5gYNaoMwH4nO6+0NRzAvy72nHv9+7+m6QPM2MgcQGzgmTLr2BPAVTvORiTQE0CKceqZeE35vzlMayvNVRDAwsjJ2Az2GEDFtm1Kmdjvv856bDsbvQfAuyGjTGUb8r9AyviQpCLAvyWPExAAxRHAUTLge13fFkBGdR7WI0wgwIBhlmmpdvw//CrlTddZzD9nn00vDQ8SwMVHZiA1VBBAua+SMaJAEcAaeDkH8bchwAyCfOYL3hBAxw6CIaVsEsAV3cYL71QoQJIVrcU/YRPAKPxNnpDPrz/XAnKGDVoiwKZC7nkNsBRAmArtxBmAFUDunRL16GDBv0x2xKkfSPA/FlToRflbBcAx2YZD/nwBwKHQuAdFhCDAUbQIRv07A8DJP7qpvzEPwNXmQiHwuxnA5TTclc9+IkCTjhCLFtwkwJ3+tRH6tQNAuNW+JoS0+T8m99R5fSsewMCm0Tfyb5c/nPqRMt+yFMA+N/V0VCe5v0worZaV0hJAIOLf32YYF8APe3BxdhyBP1AUnqItchHAQ44mjeS3EsBki7z7Wo0KQJ9u2YDJIAZA4HtsQ13/HsBuc6nhcw70v3bauAWi8w7AI58o7aVXI8AD7XS/ROMCwITUklHfWAHAYmL8N4EKAsCRFLXEayz1v8cRPHBr3xLAQtcZOWeBI0Dp8yr0dQAJQDyYV4s40glARe9VQD1MBkCmhxg29kQhQPmWeWHmZvG/a6V1QLX/AcDfxl1PxBYhQIX/YIfNbhDA3mOzBlOP9T/dT8BIHlT2vxJiePhtcBnAI9BrhbryHsAhpTSq6u8uQDCnazfLrxTAogl/dSXc978fhVC8E3Pyv14vO0ifAeU/brkd2RfZ778amcJJ+xMTwKRxNuWh8PC/A2Mr3wYh8j/i2GM/qiwmQDpW5XQ2CwJAkpqmi1tOA0BSguq06k4nQJLY3//5ugPAuEqqAp96A0AEQtSH7Hz3P2+faqsHNAZA7/bb0y4lHMBGqC+czJX8v6VGv2J5nQnARDegGTSC/z+I42YpeTu7P47crAN9Cva/yOxJZnK8wT8Ooia/CoohQHDxcanaFci/nfv8+IF94T/iIc5GwQcFwDfpWQapDOs/z1oWXs0CKkAZizbJroMnQF1nv6f8gwpAzABl+4EUIsBuZdtHRTMWwPXUHMFyTxfAgiNaSLZ1EUDBAW+nIo0HwAFDmLdUbytAHG4bSYdUyT9qHieYXKP1v/PYv3oUkAbAg2P6aUnLBsB6NBMum1/4v/O9UYMYIRbAsf6FULHQEkD1BNTjcdYBwMTY8OfIhvq/7ijz+y2d8b+CgqogB9INwMcgutH5OPK/6Xa+rt5z0z/Az0Sdicyov4TosEBNDxDANbl7/ztCFkB0c2dMgdcCwOgS6KYy2RZAiO5/J9EFFsBSltXOe0AQQLi2acpi6/0/ZhgklyAxHcCvLqsTNKTov/rL6wiHZRnAUt0aq1Hszj9kW5ScJNwWQF/+7h4toxbAKHNNAE0yFUD/cxtxL/YnQIGxfkRH4BBA/BaVLJEfGMBBPseGJSPfv+tE14uv6QjAI5uqZmxgDsA4pRRi+rUHwFbK7y/G+grA7MBpUgkUAsAd/zSh6akRwAQC0TPgig1A59cheZWT9j/ZZYa9wYEQwDDYcbWbCBhAuWB8wMy/IUCatcCUfpMhQClCc48kYBRAl+f0SwwvGUBM/UP5/bUQQLnNyuL/sBDAc7x8dpDyCEByCLXojV34P99Ho9E6396/x0N/0T5MKEB3n25nm6MGwHuVxPB51wbAQb4bB3SVD8DoZp09aU68v9btgR0z9v+/SjL2A8paJkBGd4TEd2/8v6ziLw8qsOQ/7yNixfAfE8CNSW0xIVYXQDvkSgwd6ALAOMJDcm6lB0De/gGgv9IsQLyFwvQVOhHARlBzr9bFIkBekHG0W4EHwJk3h8UvlwVAtagvQI6UFUC2jOf23cIdwD68Aj2itAxAQtfeZxye8T/ak8TRbQHhPwImbQV/8h9AHoEnLRDVHkAzCJbPHbsGwCmFPsSl5yLAeni/yBm9K0CA2oEsDVgKQNWyYhBqezlACP9Bav9yB0DuK7pAvwUSwH8NZEMt/O6/3tHse240/b8ntHJ8tJUFQHVRtQSUbQdAulGXxPgJDcB9YTJAMA4HwIEYJaK94gvAEVW6ovT2E8Dnl37eoYDQv2rdZgyViQbAFWMrfA1d/L8ZpQjlfgMjQMaO3VPrJvo/N819+jMH9L89mqMYbcPVP3EPrJT2EgXAwHHKuxgzC8AyXfuz7XIaQKQ0u8vcaBvA9M+lIHydCsCjYpJFoTkjwJ/bTf1Q5ee/y60G1HLaCsACyICZBRIZQNiUOoEhIfi/5m6SPpZeCsAGUaLAXV4AQDsd0qlGPxRAo5bNahMb9j9ziWgDChEhwAfPuExpPBfA0g3In1vAC8ChGNoPELIaQIlICeKaigrAEHX6HeA487/CiYVRJjYdwJYbb6RwixxACRmTXBoLAcBC8n+8/pUUQCLlTPY8chHAq1CooxByIcD3vqHTo1b1vwr4EsU2v/G/VkGm64KEAEC/tm910q8TQFRnmtNUuhTAYpwIHAm7CkCaV4KBtjH6PwbahEjowhHAswpr2Ctb3b+SbAOMg3sDwIzCimmovhbAqORhCSR9CMDh5vCg9TwcwI+k1Bkk7QlAFKUbgWSYNUBNkLWOdogbwJ4pXfdpfgRA7HbdFJ7NDcDpKIEhmVoRwOQgw9sdFQtApwuFair3C8BfLh4HYv0TwN+nKO3IXiHAwBUPwRwI47+08SsTVl0MwCfJKY4jwwvAgPtC8EtK/D8PCndHRVwJwNpoaVPvEBnA7j8LwTZoIcCwXZpQRQIOwLIOvaFd0QZAJCWKGNYR9r+ae57RSuL2P49R2HY1aY0/wtBq6s1mD8DKZdVbjeMBQCxX5yjH9/y/MR0j4SgT5j9G/spza0QNwIBIPiLRPao/RERscfl8B8A/m+anYta2vzbD7mJb1BTAar5ZAKJq9z8bjz+fNiTrPx9i8SyCBBBAUOox1rKwI8A1fYwwo6wTQMugtxfFzR3A2L38B3+Rwz8ErdwMsS8YQLz3OJER8AHA3E87NRUB/T/cRuZeMNEMwKIHIE2hqvU/SgPBkN2uA0DLPAh3T6flvyxXfpCzBgZASOdcokjGBMBP/DL9NishwPGR5u8ckBXAQL2+8ZL2IcDu6KxKZJofwHKm/EvxjRBA6nZjWHru5T+UckZCGYcfwKTRLUkm6yBApqpQyylUIUA2mUJdxZERwDAFXqO8N/Y/80kg0bA7B8BxUXDsC34cQORa9kPmtv8/bSwmHtLs97+QanbNXZ4DQKMYtXyrABdA2tlP2lBHDMBijykQ078PQOzeW0A0XRDAPqNeFdo7FUCDf2tku8noP2pkrgvm0/g/wxOHiqttCkDyN/23pFwlwHjcDrsFFSPA2Od3FhFSBsD8a52k9/jkP3I27WjmdAJA/6ACjXA2yL9HmgGebaUiQPLwPtjDMfS/bs+9tuu55j87xJ9lSasGQIYvJ25wRxVASHR2n/csGcAxK/rW09gawO5dHvO6A+c/kCi9B8cAHkBGe4PAhuL3v8gLKCPCAOs/kva3mpTC5D9W69BZOJsCQBiHd0eGUrI/BPgkig1+BkDbF43ka+DaPzU66niFEdQ/pg2WQgcw/T8S0JtymnUGwBahnY048gDA9L8LUR9f1b/GuIK5Giftv2ZgmnYgGAhA1mapEuNlGMAMnDxLj5onQCv7y66iUAZAN3/l1DwHAcDmyP33g0n/v5wG5bNAgc+/gLsRnF00+L+/cMgzg88SQCrACK77nBHAsMBmp6y59T+D98GunjgbwCChgShVmxLAovFz6UqDFcBxU8b/7+MWQKwhrEBZLBLA9dxWuIqIFkAVf0AG4eUdwLV8kN3ijR9AHWmQPR5uFUBI7oob270JwCTpJl0j1Pm/4P1IxxrtEcB03+l8jO4TwFtc7HRHqALAc9JKFeiRJsDok5E+hiQCQAhBxbjgTP4/xFPck6tmCcBsIpSpJYLkPzDGrOi0CfA/TfhH4b+iHsB0tHzDi7ggQLaS2ZOfBgvAvq4ZO3yHLEDgIKWN0aMjQHgtFma+1wfAGujDtw2+9r+ToboX6sbhP+p496bOvinACNq7bRCuGUBjcAVQAsYFwHXTBHy1leO/V52w2WrxFECtFhjeShXUP1q+6w4Lrvq/vmSDJXgl8r8u2l3hgk8TwAk1B6Vf4AZAxubQLv1A+T+kGoZDEoTwP6cKBbwWZxpA6XnZfpzo2r/hOa7aDKvmv6buZKyEkwnA09iWCNS+IEBvF0yYlIUWwBz/IopFdwjAahdEPEOPDcAsXlCMk4rwP2YKnDOTWco/dZeAiEjCC0D5Br2jWWQAQIRTiVsNBAJAAfHGEWgfD8DtonDXwLICwPKKIXExzxVAoKlHrda1AMCUXyyk668FwNmA0JrsSRbAX2Jf7coPEsDPKqMEU4jzP9ss9/SFmRvALCL2v2FmEkD7JFibjSosQKQPLWC0TBbAQDlNsZ7O/78GjoKmPj4wQLqjDlITef2/ZHdkdnuHB8DmtHj0BBcWQL0dF1qS2wJAnoDip6gCCECT/c1AHDQSwOKEnWWnnfG/qLcNHXnmFsA+jydeTKIwQGe5YxLZUwtAd+SB80HdIECFFa3yHY7oPwISek3UDAhAR9RGRH4PF8CtwQWGXuQbwBsdJLzbEh9Ah5J+yFzDHED/xKesrFXtP/IgigtAeRlA1PFnlUnwBMDgCkAYgdgQwEA6FknmPyDAv6fDFRlHGkCTUYp4bGIVwG7ED95GwwFANg+appQcCsBiBvetHHTzP+l75BDGxSRAU7A37+XTIEBtcHUvz58AQKNcbO5TzBDAyqoDwCSLDcB7oQpwlsoewAeiXbuu7+u/+szS2zRgHcAq9ql1aGEiwFn7GbGicBfAEyHc0ubpFUAz91Jr1b4GQKrKIk/CpRbA/qT23VT6H8BH6qY7QHDcP9KUGapnyQlApLtCoRdDCcC3XS6kjDz0vzvIwCoQ2ylAdsDBQlBaEMA40gBqzc0JQEt+72wTPAxAvp6o3Rpp/z8EOLLJ3okEwNPlBXIi7iDAmChACLhWA8C7yw4GOMESQLRL3vKkHxLAnGKs/6eJHEB4VCFisHIUQGrIUFgcGfw/lttCBZcVJ0BOuD6vD/kTwNINM59MBQlAflX37qzF/T8slS/JwyYXQBdeAvI2LeK/CLggXyVGIUBxMbo9+qQQQPqfGJAqcCBATVv2d43A27+BlbZEQtkEQOUHx+kvOzBANUfmfA9w1j/zjPREXmUHwAywueng4fg/2F4YsfvyJUBJmQG96SkbwMV+ke8TvxdA/GzccKkp6r+HI744bv0CQGBajPUj+BRAydOcp8WjJcCqwnirt6LhP7sgNGK2UQbA9BXuiwxH/b9maSam99YHwDJ1U35FZhVArDPy6expFUDGis016xMlQMhBXUT5quG/DBVV+4/PIkCZCQnQ70kZwCLltD2G7gJAhfxNahwJ87/AY1OK6+W9v73eQi/0FOc/fXnxKmhpJsClfeQDn0UTwABgJhm+ahBAdj9kbmhm8j8/HWqy/lgQwBifdATIYg/A5RcU1KxoBcAKhpYc17IMQO6Tm6CwpRPAhePf3DdfMkBm/lOS6Av0vwWNBvAUWwfA3qEx+66JAsCXiLINFBMWQH1gH+r51AHAA6Ex0P0EIcADchRB1a0IQKyDj9at8RlAEGbwN9EfFUARHtFtY3gAwAQyv9t90xNAcA2lSWqFE8BqlSPj/yHiP/wCbvR6mSFAynG9SLr85z+70ROtyoYUQP+0C48JF+w/i09N7ukEEMAKGrrMuIn9v87RCc4sABhAsdWK0YKmBsCZCx6WZt0LwP6UESoBYKS/mMpoyjXH9D//sb3OaSwBwJInif/vofQ/RwXNLXMPI0C0rS052HoiQP/lXLjUBfA/dc7OqwMTIMAk4CE6UoUewE1i1FiZ9/C/vxvNRmHuGkC5IzSnIunrP9GRQs94YuG/c1NWJCpo1j+ySQawywjAP6rN39JjkQNAyj2Qs1nUAcDWRqIll3HhP8pzaF6XmgtAGt88vCTFFMDwwLQwAK4BwPWsP1g+PRhAafna9HiIB0AjdBs5/QYdQMol46Et7gZAQn409CZmDkDwc9ZPPNr1v/rp1lNHlP2/TRlzhsNhJkDMDLDAtu8VwAZ2zyvgQADA3EhxLj8AFsDxqQuGZOogQAdqAIzvBxNASJ2MzVWgGMC+ulfkeTjkv6UuhBH7uN4/+HnDRxsUIkDGYcbXEDgSwP/YoOi1DhDAI4DGZcEGyT9zk8gwrMAhwNxj9hRnGMA/LHt4VZLn9L/l/lArpwknwIGdwYJ/gtY/hXnIt3okJMCM/sSUx7saQBjv1r4iQijAPgNlxJL4AUDaoUWEDWYUQAwTIqvVohhAHDooQEa5AkAihZFSKZvav18iF7Iiqw5Ar83UKv6ZEcAJinUJ0FkKwCiYxDNVmeu/Gq6oSbnI/j8z8sEP2L8mQCD0cmAKYMk/sPYu9I2hE0DkiC7etV39P6LrKYkIWDNAk89fiZu5GMAYWJb7vmIGwOYAqqtJWv6/HVwRlJtmFsCAmByLQUnxv1FBf1xR3xhAWEbxMDWY9D8Eb/ajkwMSwPbAuQoTlAjA03u9i2k78783lFdWGHv1v247ZfFNHiXABmhNozLKAkAj2rXgIp0VQLug7vzsJBlApluOaAJHFMAOe41xN/IQwAG496grHQTAkbIP2ReTG8Br/H7zfR7RP6VxwtKNewZA6X8MVf00HcBtf2xwM/cRwA5zrLprQALAKC3c9wO6EMD8rZc9C/7+P5ZE5xkprwpAZOig4/2HD8DqpLwM66ELwI1faOCsMNc/pHJDOYv9yj8UnIMXdpvnP04U8aFjRgXAHh12y15+JUD/JJDq2i4TwI1+PgKLCBBAgmWgVh/yBUCOSB186oj+P7/sngzFpfC/N8nxQENqAkAB7+NHwen3Pxf4RRjGfhtA7289eV6s8D+EiLrNghnnP7TX88SRpBfA7v8P9IgeEkAO5YL4V10OQI1XCPI6ABxAt8W8UHfqGECgWL8Yk5UTQHyeEy75NwdA4L01KNLXyr9DyzUXcrkrQJD/XzDX/x/ALMM1QbXICMDxlo6vKBIZwKLKazoNLfy/qSQr03ukJcCyQRMQO7IPwPmdNoLAfgDATqALav2oBcCfwrv5JMrbv3G4JxK2QyBA8LIrCFhv/T8CSAtIAJPzv4tWZWxnMRVAZHOtxp5Q/D/xPJKDa94AQPkFwo6Zpx5Au3mEysdWAsAn6tIKK2/GP2UEDzaDBBhAANZIF0lHHkAqJxIc9JcMwDQzkliC8fI/8EKordgtE0CVSPGUmXjZP4JIaoubr88/wGnwGk/SJEAPi2D3VswVQOvQECigviPAtF/d8b6O/j+Y7WDJkzoVwMXfAyuDAvQ/GQHmh5ctC8DJZqfGKBzWvxYGbzqsdibAAsB6/H8yE8BSE7SoOxYdwCEkdm8/sxrAfO50bjrmE8BQBJmP8tzxP86vEwnYSyjAi1jUmIsd778Et8dobRUVwNTRRgIoIv0/t2HhxXnDDMCY1KCOQpnpv55YfQwjaQDAFkTIUsfw8T9AAAc/8uEfwIA6u8uZagxAp1jGxlRs5D/SublUs0UIwCZDxKbh6fu/IO9BigSrKEAoKRZq9LsIwBintORfXxfAOcTUsh9SH0BlX7ImScQawKyUr5aWJPY/JVMCdWu/HEDASVOXnV0LQA0Ao3sxk8C/jbH3L/rCHkCTxELSI4sXQIeuXeZLRxDAEuZxRNH7678SMgSPw8IKQN3RdH0D5AlAd1IuoaFO77+GrtKeCObyP4wsJjPOuA7ATGonCm58EcDpuUYhL1oTwGtj31ExLyFAt1FWXSbRE8DPIh8S4lESwGoiYeQTFgjAZq0bfBjHGsBzC7hNZZoDwMUtOt5AAydAv4wFasADE8D4smAh0KwQwMRDwPVXjSfABRnyOqehFUDeuby5HmUUwC3HRga+Yh5Aa3PLswS1IEBy80yIlpUKwPSsJht+YMy/yBMfqmDSHkDAiidKzHrAP1HWdBbpcxjAsXqUD+DN1z9L1971v5ARwLyqTJmeNB9A+qCy46GMHMCkfOeXSBIKwNKNRozvdgLAG639b8f91T9TaCQaDJsZwF5MaypVwgNA5TXqqVaB3b+G4s5Z13ogQGbChIrstP4/yQQlxocGFUBcwmgI3YQZwFXny0YPDtO/H3hnw3EY3T9s6ptPYG35vyimEE0mHDFA2FBaDRU/IsCMHsW1+2YZwBRCFkdrzwDAc79DUNTvCMBcMXwBV3XwPy8jnLHBchnAoPCuGqpdHMDX0JC+M/cUQODCw/rnMhFAKZ3751zPBEBKxmKfRnwRwDN+mYhUDwZAu9X+tJrAA8AHBclpdKscwK5ZZaIj1vE/xn+LMK9NJkDDjxpzSfH1v0dFQNmOKxjAlNH0ks85F8DALJBM6oarv8UItoafyhFAOEPPQjT6AEC4J6rpiGobQAcq0GU/MiBAoSvayC7U2T/yJ1LPB/chQKxpBAZ/ryRASRcpMjg88z8uY4oYsMohwBYn9e7yFg3Ae7XBgzQ72b+jMXzK2nQKQN8xP/Ta6BnAweq0EFyNCcCDHnVlyD8TwJbT8undBR1A227qfhs5EMCBjd1csdP2v/fJfAu8B9g/B+zmSTZSC8AlfPRuGKfbP0J39IPFGP6/8Jpj29kMFMCwpW7QsbD2P//8+Tz/t+6/mBxOp0ZnA8Cps/vxg0PsP/TG7RFo5BNAwgrhxkmwFsAROcrjmm8jwFlqmnzqH+K/0oCEQ0fp9L9gBZbftw0SQDYFWMEn6PO/gNZLYtz48D9Rtl6PY6byP3moU3/LdQLAcjW4PicbBkANLmepEN0kQJlV742eqQ7AR1ioQvaH3r81QUevZOQRwIZt3mBBCBDAZaDfvMmQAUD4tzHb4I7tP4hVHQA39xLAIN9rXm5HDcAEoT6SRY3mv6e+R2ZMx/S/yi06AlKRBEAbTd650uAQwKw2t6opY/+/Lq08btiG9D99mkoWMXcnQMC24uwlr/a/x05VoCIz8L/KimQeOHD6P2ExCA0HaArAmJ4Y3m5tCkBXu9uU3/4QwHmJNpjr2gvAaKvza2W+DcC6bCydkbvxP5J2/ezZH8G/WmYfRRcVGUD4ysIM8gUZQNO+qA70CBHAW8H5G13VD8AmG0CU5ej6P1Fg6pX2JQHAi4N+M+IP8L/69Nm7IMHwP+XE4lJHwP2/pqEUE+Dm/j+yaSE1hhAXwNPBl6TC8+w/csmzV65yEECcoTN/QNATwLrSEa4ALgLAOFdMESvbDMCeoNPE8JX0P2tsZjR4RhpAaZsM1slEGcC5XSnM6iTfP/auaN823xbAykU4xLBkGUCr/wMpsjfhP26Vz+JVbwhASXZQpMZ3EUCLssaUTmgWwBXC4897GhVACRGpwADO4z9vs1BqEcgPwPl5CPJbEBFAEO6zRqLYE0BJdMDnXBYSwNhpX05yNgTA9nkzoiMdyj93Mf4TrIAkQAjJDIoz8hjAL//R4lL/JUA/+fsbQtMjwEeVPbz/GiHAeIQuZfMDBMDFYyJ1vSYiQITz+a9v0/A/6JwAVYSiAMB4NQPTQMAawD4IJLaQ2xPAmPxWAnU1A8A27HzieasOwIx89/OwbxPA3m2mwozCEcBvSZiQaxXlP0oGn6eO8f8/8KgWXnwg/r/W4SNghGwLwEum6SzzswFAEmvRgXOiHMAJW4nEFPDmv9QW5Wp+sCFA3X5z5WhYBsBWw3SbrOQAQHFxs/9Qyv2/I0GwsSrxB8B4CKuBzdkJQNmVuX5omQlAZX00R3rNF0C6YM/QNBr/v5b07YyIMB/APkYjgQ5bEkCYqUKtCZIRwDpljHN8Kvc/LAMn7lCWIECDTXfl1k/4PytzNPeyixVA+gC7T50M8b+2meCe0N4hwFmnE2yhVR9AlF6zfm4BBcCKvxfswUIDQEUIyrnHhOa/nRRMaCP73L/4T7gUJrseQLTdX1JOiA7AG42kmDeyGUC5wFsw4x4fwJ8oBIWbjgXAJmGgH3GG+L/MqJ6RYFwhwK7WCU01JB9AzDykPf/jGUDCUaKM4GALwDu8v5/+QRFAREoRUSlOMMC0pprERNkJwCKhE4NUTArA6kyFF7/sFcCcebSu3cAaQIgrAH888gXAR0iIoolXC0BoNMPvXR4hQJAAKpY46wXAHozcCjNjEcAGiCtip2HaP3N9730Z2es/xPcYNERGBUCz1VrWE+IIwGan2//s9hFAjTb2Rek247/m5HAPdB/AP3voSj1tOxjAKe5Q4b7WGcDxfPNW4rwjQLCR63UbqpI/abHOolD75z+oGW+2vc8dwOX+V9CYJu8/8IBHW/P86D/gppyJF4K/P8m2LktyRBTA4Vp4alap9z/UpgKBaSgkwE8L98XUxCJAzELaRGesIMDgt4cL3qQBQA1u6ck7ZA3A15yfn/Tm5b8Y3l+xnzb1v/KEG3vW/hPAJ28J8ZJX9z8AYtqbatUgwE/j1av30gBAAai0HQlDB0BxStPktJIvQDIWTFBBTitAVzK16B6VGMCbnyzyc8YRQGn78q9SeRDAjfvtTBzG4D8kYDgn918FwNFxNLovG9e/ipUXPJl0DsBpWQiruZIQQDXdzdCcuwDAq5LRLimpGMCRNPOciUcQwLhugOZ2TNS/Nyji10cTIkBOJ3qHoyXpv3tVIr+YGBHAIabYb46yI0ChNtcvs5ouQDzPDippHxbAJ2UVK7sd7D8PnKwbfigiwIyzaI5EYh3AcvIfErn3L0AaixvMFAMXQMviomw0DiTAKXkgUbwIA8CgiylcJxaUP5vzoLUOzfa/Egt1Eg+8CcCDEIxhlN8YQAWriedGJQLA76Gd4bZ3CMD1m/DyGx/5P0mPbbhil+u/bvuTuWvMCcADLdZisePyvyCR4uBUKg3A/oX1JPKWIMDMTIAZwzEpwGXHwY/C+RnAEL88JUX6JECceJngeW8NwGkic631nBPAdYcusjfy6j9f4+Kl6W4QQD0zWfSUZvM/Icai+2mYAUAJiZEHhGzsP1Io3aMKF+w/NCjroCxMEMALaf7NT9IJQKKmauwDmBLAxi+1Ar6x8r9UrsNNp4YOwGK8P502Qx7A8NeAhIEsDsDmpH/sYbICwNH2cTVE3CHAWZx7Knic578yOdGg4uz9vweRBhQ3k+Q/m+wZuRCAAEBRgfvU68fTP5LfJtLWTv2/DnHLAAUEFMBRpO0+4zUOwGq1q6uk/wnA27hvOP4KJcChvoNUyeYTQJzfD+77TAHA+EI6ZmK2DEAHb8pMEJoKwPj0mM4CfgbAuKGjqy3w/D8BL2tL0vzev3QcP7Q1ng5AxQyAyvXcIEBdiiMRdLInwPykDCoIRB5AKAjQ2AS6HkAjmDJ41dEVwKpu4CknqhHAGxg4OEOfFcD2pvfgH+IUQAqr7+5dRAvAMrb35QJVFEANnDMf8mHjv2Ed3dospdM/d8Lh43udBkDJKmDIWkQtQENQ2PoUsCHAcQWFo2JfCcDbiPC2z1QUQOGdTdYyQvm/WoLz7+YyCcA00JTYwOcTQKg7iNMaXba/b2jjgAjNJcBgOZMMilP7v+D0m+j38ANAfbddHD3vCkAF5Odkf2EAQDoGGmsBMxDAgLBwrP3nA8BBA51LrPHXP2u6IJwTFBpAD5CqJMva/j/pNqGAvDDyv2j/iD1KPQ9ANAuB+9q1CcBA4rc/88EEQBsiftiLLBnAC4S3y/kPBcB+351uSFoAQNy8Es52oRNAzbpzL0Ye3D/sORoDQHjgv+Mm7cuYiuO/HjRPgSyHHEBDh+y7ptMPwIZksj3DBuK/Reojn2PGE0AqMdX3MDAhwC4rcZL2VhFATB7u73hUBsABNOyLYRsRQH+ZpRSqX+G/1HOdPRdPBMCQw1XCWQS0P3iKjRD60+g/OcIwNnAZ9L+jQgmgOmgNwPbIjKKPeyHA6GCJwf7ZD8AZQTld+7wbwDxyLiuEFxtAsoKuv09TAEDxR9B7NBT7P38hmOjPCfO/yPDjdjzKLEAD/gNUriQWQDCiYDGJRR3Ao4f6K1Q0CsDMey93VnL7v2A9YFowxhZAd61hOT6rFkBcMElKDTAGwN/dfCu6XxTAJSy33ECh/L8dG0nlK4cEwOo9XIkriBXA7AbFQPN/C8A2IHZTryoYQLmsjFlIzgfA0KiLflH9IcBUEhre7pwfQLUBJ4GKuem/Oa7ws1XNJkDfD5oUd9kQQPzAktdE+fy/YvLNuq4kGMBLQ0Mk/noOQAb3L0sePua/B7u7QyPqDUATlW2K6iHlv9gOMKpMzCFAyLGZkWlzI8CQaJFtxSYfQJuQ7bjhbQzA1L77xOVlA8BGTSDlzCz0v/1Yy6ViaSBAfKAeEy5K/L+1rpcIqQACQMKxYyAfaRRA04MiYQzwCMA8Le96LaEAQCE/jZcSZyLAVis1Y3t347+yBHizxC0cwGRVsJH2FA5ALyc6aBhdEsAUEpyTAz0NQHEvR9I8YgrAHXYUNllqEUBHzjYaolYQwGmpjd8JfxdASfPb6vDlFUAAbUytKMgOwJg0ktZqALi/CYA+4cu6+L+NHiLAHj0DQDzket58owtA7BSvJR5P+b9/gzrIW3UYwBXVqCuU49C/8Yt5eW/cDEAr9eRdW60RwK/ndtW+9BPA2PDCdS9O7r9LdHTeiJ/xv8JLn3Xj5Q9AH17pnTyvJsBs7xh5C8MgwLks6xbkQgjAP2n4jEYHEUDcRYg8ikkTwHuENkQ88iLAFG6POVwp6b8f89aB7rT5v97AZEhYJBdA362L0peM6j9TsquOswLRPzgG1nLaIcC/roIOP3iTIcBD0CK30OPxv6N4He5aACLAukjogiRn/78VNwjFcz8PwBdsbCBQ5uw/Y85iAcEZKUAPYbkVMDTYv4ARxSfeTO6/QxUGcPTwAkDSeIDIWLfyPyA6smjmlRlA3i3EvONjEcBkNlyUP+MdQIEWvPKx4wXAKPRaur3hCEAWcXOjqkQKQMXuF98wfhhASwu0WmAvFcDU7sBMXpG8vzIL0Ne14Q9AfHNNw28+BcAPuOgQ6VogwN/DJbU5nPa/QrtAVMOwDcBIMX43nuGsvx3d02A+aRPAWAB7A2aaAsDVCYK4HzTPP+1VtGGyU/6/yZN5YwceEkC5u4/EQa4OwPvnj2Cu1Pu/Mnl9k4/BD0AvfUWN5nrqvxipyFT1QQTAK0Aaftwj+r8VXG3hNA8RQB3AzO1f8vy/r3ah9FB/KECUw6/oav0iwGWN0L9kuPc/39dEQBH/F8BrkDW3bPAJwBR7ToCrUADA30SKsy/sEsBPM4pocaEpQFy8GGMX+gBAgCWCNnOu9L/ynlDBReogQA+dRRyqS9I/trq+XuivBkArGA7nXScKQGpY36h6F/a/lLZ8TDfcAUD1G1IaCxwLQG+AzUQu0QZAV5+21Vxv/r9zewvyqu0NwNQSHT+4mwHA94qeW4iXGUCQqajQRJQDQM+sH9aicRBACQb26AlsFECPoinwoYI1QIRIxBGXHfi/BG/dI1kRAMDKURD39GvMP4uBM9foA+w/VKD6qw6stb/0XxIC52zhP/yX5tj+OxvAQM5C3fdP5j8YpL+aKPcBQGfzqG9Q0hBASZMtnzpTHcCGZljbIQb0P1RHVASgGQvAhPDVm1+iCMBcskiwW/izv/iu6o5DDxLAMJ8T1J2/AkCRP20tZ1QOQBvZHFY+eCZA8EJIGZseBUBHDay/A5YiwF3agWWT0gnAwASGWHHBCsDnG/tpuH3mv+6GZ58yBCDAVSw/FbJjB8DN3+FQDlQhwIR5HdwaFOU/ioG4XBySEsCOkAUuNJQNwN+D+6vr7OI/4KHvt7vMC8DivN2xwT0LQI+TePT++AbAnSisSCaGEUDSSXkB5awDQOVQjX4Q0x9AC4aKgDz45D/uwsA6g0v0v0Zok8oDCBDAw3F+WcfY2L/HGIHeJ7YLQPER3Z5XShhAmb3d0VhVEMDRw3su+GsdQMf9gOH6CiLAHTH396dmGMDHqXrs/cUVQFovZnr3tSLAh6lA9qwcIEDEOU88k1kiQF40Ln1m/xPA5KDOqsNuFcDeBHzrW8r4v1dlyoC6oto/ql37iEdw+b8ABaynU/z5v6csrc+Tvue/2WKjs0miBEAEY8upQq0MQH5aRmPcmg/A0OS1JdFqG0AOKjluFq8IQOSEIOGQJQJA+b3vPUlAGkCJ2aTkrx3zv4tgaXkEtxHAfZ4zp9C+HsAlkbXkCvn7PwLMFPrHMRhA59EcFUfMBsDKdJYo7DAVwHZAqxPObP2/fnS4Uy6S6D+fAqNP95MWwOW0nt0IKOe/kWilY404F0DZz2sGzRIhQJtuDdjaoBjAviBAbhyyIEDVxe2BX+4bQLnLrepIORpAdTVTbSnHGkDCNgdgbK7hv/DalsMyWP0/8qGkkzQHDcAgix7A9V8WQLvzsXGcYfO/DCXl4VO9zL8rE8cnbIcEQDfKfvceyg7AH3tcgIWV7T9xz90GwmIIQDKshE8gXQLAXoxHkQg6J0AH/dcpyl/rv0h+wQKBrATA6P5f11GCBMDPgPwgydsLQLXyXOeV+gbA7zh5O4spJsAKvjOIqA0EwAYeSA2xHgdAsEWNej8XCUBWYhiy5MUQwKXqUeaasiRAVnQfiUzjBMCg1bqLz84OQCVdebX5lxDAoeuem2yuFMBGmnTPck0nQCbqfIwZoZy/Z5sF/gqgHsA97TjOgswkwHk74jdexBJAmUyhtLRG7j//hBWJ6N8VwKHaYB02HhHADtejyRBV+b8vFFEixKYbwA4mKjE8ZhjA6YjPAH9QFcBp6VbUNXXgPw67H406fAhAd94gxJ9bIECOag+eqXoAQOBSywzoGgbAjrfFfEU87L8uYeGAMATgP4lUoqzFCBBAayLXbM026L9jRW3jF23evyziEd/DNSdAG7PODq338D9fK0jUWxIlwGuI7ai3ExjAXUV3cUnB9b84VSDqfWzxv8n/Zx/Y3wfAN3xY9+zQ37+UWNx9P1AQQJD4g+a7zeO/Yyv3M31G+D/eCpvIfd0HQHPlNsC917o/Wu1J/VaYGsAO8bsG4VYGwB9+p1S2cghAUkqz9n4C0T8TAGsSgY4WQMM9xyliBwtA0tr6ZO6GGMAzleQoOTHYP8XUl7PAyRLAPuEV3g2y9r8MqNktdjEUQCojyY5sBAnAeM1XGNgm+j9JhJ/MrD/qP7l3Y6/MYCpAYEFrSI5d6D/DCNgxmwoCQDrPq9Hs5gtAtJQQz/scKkCcXB+z9ugIQHlnNRZcTBPAsHtsZ+crB0ARo/qe+E8WwEVsO/B1jgjATn4EeQEwHcACjFqUdAcGwH4ivIyQXco/rwxV2JDjHkCiN/r/Ni8PQMUsiUuebQXAYmL5s5VoH8DeCfOvxU4IwG9wQwk6g/G/TCq06Tx/9z+RDBEuUP4XQNmImRCZqBnAy/FnIbjwDsDUCFoYzugZwMtJD1rmOiPAiPayxDhW/L//A6jeB+AZwLgHmQEgQR/Aft1i5cw0FUBezI5Gpz4UwIiNS0DboiJAagoD4YHSEEDUSCbGJt3hP76Z9IiIYM6/uiFhM//2BMD5k+7W2TTcP7z3sazO//e/H0Uh+BTL8D8x+pTVT9cJwI+rv/aAbCBAmvXHmBLyEMAi0DCpEHInQBudnVcPzAjASGvLMNJPEMCOhIBH09YOQFsT03XTNR3A5IQrzSEyEEAtDJLMIcAfQGuiKebgwCHACQxlWxMn+T9LDnITgDkWQJ+/891LiRjAp0vxBX+II0AVrrkkOy8ewBXPY3jASypA9G9Q0NwgEECfbrpwm5gTQNUFpqsUXNE/Jz6u46gXB8BjZ/4EEZ8ewGoEGeLyLPO/2ITBOUOcDEAJsqPq+3MSwD4zCosPiCNAacfYt6EP0T8nBqZE8aTkP3iHVqEskam/cHIluap6I0BEfQkKCnzov5mx2JFgCiLAppb+OLXGJkBI/XVkCuEQwGNNy6cVbA3AFkbhWXotB0AReoyX1T8LQCQoJ9AJC/4/yQEUOO47CMBxRd15l3/oP0a3zHQL8QVAcVgHrJHQAMDLu5JgF40VwKIKbTzUpRdAGJxXNOR1IEB3T3mwpPoDQNtUEAVBUu0/oiyHrigSAMAh2L7a+uEjwJpCKeNyR/0/s5E4TbgnGkBjNWPLjHkUQF53dz7AwRjAkt08iFEtA0C2RWINJCsGwBnt50TNTxbAVpyPnW5x8j/AqkR80w8FQMiGXGX31Pe/GH5bMIw0+r8OqDRzjyHHvzQGpLYf0xTAOwJz2Jj67L9g13sB/NEuQKShl/MxtfI/foG7wcVRA0DbZjH+JGwgQN9UbbjI4vS/jwdkmwbmHkC6I1W+JaURwOXwRLvEkhDAlv304+trD0BeGF9hFk0NQKPA1sr+ze2/QBp3i8qAFcBX57vdP9z1v0iGA9Hm9iLAAEu7loH6I0Bw/JvsbX8YwHBzURS9mzFAwqwYM2VHFcB5SCDqpo/2v4dlzQwT2wzAOElLXuf3CsDggIVzcJAVwAxml/TKMP8/+pv1uzqT/z+y/BcujnEBwCAEOGfktLC/em9tasdiz7+gehtCbp4UQEKMV7tC/CpArdfuHbJoEcAKY+RuiRIEwATSADelss8/Fz5b+JtG4T9OcCDsCPEqwJS82yGXeui/LZL7PtzVFMA/3+3TwJchQCkcUF/gwBbAmaPE2NegHsApd/fCMLbnP/eNX/FnH/I/8BUFo/mmLUC+m8QyrYztv6nRznsBuA1ArJpuGkE4/7+UCSCzyJPWv42c1NedQwdA1hDS/Z9vIsBuo5yfSarlP1cJW6PR6Pa/d8RLigEs37/kxKgvf8r+v0QrCJh3SxfANn1Lu/jcDMCx7e2WKHwTwHrensguCOG/ruMWalbG+780lwIMjIwhQE6fC+D1+wzA1uhLijTp9b+k+Uwei+wPQG0O3q2NHes/UqMq5z2cHECror5xKYsHwMwayzQl7BrADjXj70TXBMAdbOqRjrYawOzZS/4J4xFADcEjEmOF1L+cZpN9TrkxQDjDv3T+xee/76uVsbIkAUCNaWjK65oxQEnkeYNuTAHAtNfsd+qg+b+sII1NxOTgv6TKE4drMhjA7OLKkH1kEsDuPHOWQPMAQAoEqisAsQxA7mOdL/o4F0BkRBGjl7ElQICH6oTUWAJAH/IoMNTtFcCYqH2w1wYSwGcf5LjpOwFA2xK7oJRU0r8RUqoH+koDwKcFFaNZrQzAHHyvjvVgAMD6Kb8VkT0oQK707ZCa3hDAWhs0TalrGMDTR9Wgg9YWQErL+KENrvm/iE8kEbhDs7/xT/kb4PcjwH2JJVMewSJAL9fCAWcwGEAT8VFj72kHwF/m84s3R/E/tVvnnCC3B0A9aGCTa00jQGKtdknVzALAVaqdHHZHEsCZkH/uuTcSwMwTvUoJjBbA+ZR95voHNECStyXZ5NAEwEypUJyZ8xNABnvcGX0SCkCF1mUtd5oSwGQSU5qYvAPAHNHb5N4ZFEDkKDEKit0bwEJLPzz3TS5AXW2louqIG0CKmogMCAQPwPGo3YKCWN2/pEKbBi3XI8AUInaDty0SQP0AzIUG0QxAYc7t0SWCBcA6BCUxrKjOvz1C2ZBs8iDAAsCkyDYbGkA+W5iNaX4XwFY5sdgQa+K/o9JO79fVAcCv/aCE4VrqvxcQGOef++8/WhtZdmVPI8DXpzpxbqwlQA03H+inzt8/5tSSe4cqIUATAsAUbekcwBjSqQX4xBpAhGW+Ri9YCMBGU7w5jNATQDH75sR9nQdAQAUMPZw2IECIDQzkMcgCQFyrBHvxXP0/MVMdqv/JJUC6jZkcAwzzPzLjp4iTEQ1A/klDBiqDA8DfhdrQqZsawD/i7qnXhvU/F4XDCOwB978HPHFAJugdQAso/bWk8hxAiRhqALLX+r9ae82TrkssQCGUWeGjWhHAMzruKJsg6D835PrKIYsXQDVBXWAmABlAYtB3qH3tDMBJMECR2YjlP0/HQpeuI84/9D0XxsLiGsDmYcwU/gALwOFsMDbLAhjAxBgRX+H6DMB/H3sH9TkQQD8iaAdVouo/TRRZNf+nF0C66+7JZvgEQBGp1M0PMgpAaBxVkDtlEsA1GG4JCBHxvxbq6qDwpf+/nkoacY+j+j8gTSXkfqsVQB062DDA6RfAJfkUm3BtIcBCaCIJrQ3uv78Rm+54YBbA/c9o0Px7E8BkKdlgpr8SwC5X/OzhBxvAoyvHGDgMD0AJ5ELj+wzFP8rP+bsQliVAIVaSR9SG3793rIkLGLP0vyFFhf81TgBAA7cBaste979w3lb1YhYNwCAVU6vz0g7AzZTIdcxiEECWOHqSOm0SwDKeyk34ZBbAY/Ge//LaFMC5NRW/KiYYQGWt/qo4CxrA7PePtD3cBUD/ReqGDachQFs7+pTv8u+/oU69TbxFI0BmFmVmm1EUQNW7QY28HwFAheKewGFwFkD8QGRbCcATQDT+Rb4eB/W/jyO9tkvVHkAbc0GhkE8KwPbeYo48ACLA3+fYhkRcAkC0pt9HgQ4nQNjK2wpAxiDA+KC7L/yNBkCG81bRLD8IwNkmSEJlDvg/MrEIkNyRF8B9afPl913KP2qVkeRL2QdAiM5yO38TDUDsinlbWcIMwCHc9n7EpPi/pOlY3iAcvL/CN2Eu3TYEwEHonMWShdQ/RH4EXiZpyz8esiJUBksUQFtgqW3ejxfAzKIZ3w6DCkAyBDmLvW8jQFjZLHDMrCRATV0KsAGHGcCckINhkYYLwBQOQ5rnZf+/RsJLASN5FkCtT9Rg+QURQKU7YpmuwCBAq/dFxjOSCcA3p0YjdhEhQDYMdmlgIAlAi9G24D4pEkBeIyLxu2YNwPPP9stXXwDAx9Y/lGahFsBUwYaHpkEQwKOYbNyIbPw/W5BJ8Y90CcB4ontraMzuP4B5/cNkRAZApb5U+srT5T82MHaxYNoTwDGXczneYe8/6TIzwgvOJsBb8Ef0SBcVwOoe0KgwKCxAzHJVRmp0G0DSe+z/Om8iQA2nWL59xQdAFP1mEXACCcAO38NHzojuv1gDpt+mbRDA07eRk0yhKUDn22jMsCTRP4cX7ZDPU+K/sCc0CGvkAEB+gOpQIFv8vxqwIljMW+E/oqaIJZ+B8r/+hBSD/R3zv5RMEYdJhyFABTFzOa0sDcBLtMDRBoLuv7F5tDjo4ADAxifFPavSHUD1bJDkVy4cwHO/sOp6uhrAu1T5lE0QAsCuvDDG45YjwK7Hb/AzmAHABZHYkVZ827/6irVkFjYhwC4VXmobrADADOFU3idbAcBKHbOAyZISwMLB4MF21h1ARnOB0AQgAEC3wzdGQtkXwMHBHfOFHv6/m4OWekIuAEBQZ85nL0T4v8u10BSxpQvAlZWK2dsI1z/UqruQvqrjv1cOxAjXAvG/6OD+mKzE/z+VW/27mkP0P8gXNPg93vs/uVny2Eo1G8BQGZWF36IaQNzQduwrMAfALEVYRPn2IEBfh2eCpE4RwMXQlOYgcBjAZ86QbPdcHcA4LTolp4UgQAP4wCNj+hbA2Dbjvr4uFUAyb/+WirQzQHk2LrbwpBXA4utV8KMzF8BBWKkEkfUFwADctN8dABnAQcznVSs0/D8px1WBgTgVwPlglVbo4wvAq7eMcT+JEcCZY7AQ9TMDQMMhPrjLhA1AjTJuX3BRFsAoEftD1EkTwNvTgDF9WwnA9Aqk7eQp9z8pa1Defu0hQLACzajF3gnADXmMh4U7CUBg7JXDCPD/v+A+nERxGBbArZzNrS9FA8C8XpXK8orhvxPfY+JPjh3AN3bnKzlq8L+3OXv2s88SwNkNAQOZM/W/2tilm/MvIsDWmE0TjOP+Pwx4V/9HbOC/GPPM6GkrGcC4G9n8/TUDwMQ9KX1qmSNADnU2ukMGFcDArmOtG6O9P2ek3U0AStA//tjCQgjCDcACG/I/8F0LQDfjo1KvxQrATOGoKz8DIMD9X9U1ZmgSwGBx8KijnwlAAbYAwn+71b+bJEP9cSoJwDEs4P5LSRZAqArESU2kJMAM4iWONZIWQFc0pT2i+BlAfdcrbUgzCMAnwfFMvqMawIbL7zOgJBjALK/AM20ECMChBKQ2Ii8EwJ+OFAz5gBlA/YrWkf0z2D8vR0ApRQUgwE2HPv3TseA/Mk33cv7AIUDC+r2I6lYMwOo81KrDBBtAbx6h6RDiJEDeQ8oV9lQOwB3xLnzKmue/JK9OLR+S9b+5IZAwPpoaQOMl08L5LQLAgSe6dLYM7L+YYWlPkWQawMufQ4myndi/4goVFUnvKkCWYgWnN5ETwA/juiNyJ96/O4nSuYZOBcCLYN/MhLUUwGBFMPwBovo/nqVzZKzr6D9nmsrTry8UwCxHLHsy0RXAEpr2VKHCDUBX/3m9ty4ewHXe4bSVhyBAfRrHZqDK7z+9KQXYVtAKQABosVYHi6+/4mDwxYZqEsDKpMqtosP1vw6VfrrRgw/A9a179OxuGMATG7bjP2kSwG5iMcSulhnArJTX8M8yIsAvFFhXgCfgPxHPw7zmrhnAF2Pkf9Vq6T+rR12hPiATwHF2ruFZc+i/SUULv9mf/z9d2FyDbC4LwPqbF11UNwXAfkxEQUBLGUD8QBeXeI3BPzN77kOtThDAlqQjbrgADcDS/mj80TviPwzPMkLcwAlA5BxO8nxfCsBCwp1ph4r4v89/6DjOSihAwHDErlmhpb++wJV3OHkZQCuJh4HhKidAUzY/KBNc4b/yW0RHfZQJwPf0seIj+R/A9dIDp55cE0CwvOACne6/PyzkWbppPCBAgyWC88+fB8AeUOO8r4sfwPx190/JDRfAh2DEqaI78j+r8VzdPvsNwDndGOiFNxfA8vepCX7NE8CQ5d+UF3AcQEzbBu7vdCVAZZL87p8sGcCxri+vpKj7P9LaJGDSfCFASugxtOrHJMDRiQpha9kYwKEonvOo4AJAmncXJIKG/T+c296bUCsNwPSiqLwOqRzA66pePzJSFsCoBYXaxZgDQK+vDhP6wgTAvcgMo+7rIMCQ9xwTwCgTQCLBtKG70A1AFkIdKJtj/j+vqFrlbn3xv4aw3mAw+wNAYowKRI00/D83cgNRuikkwAYWDCgXBfU/SZXXSfKZGcD7ZbXDynYXwKJpHAPx5RZApEwcFHvSKEBGJg/3gnjwvxqdIF341AVAyBwVuODUE8ALEVD0tvXUv36SbI1XyglAHT3hSeai/r/JMg2YjjUcQG7Dv5Jk9B3AbILc5QOjDsAwOznJBD/Fv6h6tclKLxrAF9UoZNuDF8A9dOTaMpjRv60W2YIUFBDA4ltqKe1hEsBvJ7MyHx/hP7pV4uSqliFAUu83Vmyf4j/r4HHccRrtP56i3ArdaxBAMNxKy55JDcDxpKt1PekcwP3d2P4fWWI/va/owW2rGECZ2l/NJ4oZQCb6HOtGlA/AXEthRj2QFMAIJNy57w8uQE/+8hDzlR1Af3qDkcXS8r9AefU5aSAgQL45GOEYifG/SjoaKmAdG0BpARMoxy8GwIQVXUWk28g/DO/pTNSw/D8uVpyOdRQaQL86ON5YVg7A7IH1mW51AcA9wImNg/8GQG57h3r3QvO/8JZN36eKGsBq8+ztvPgXQJ8A0Vt/bd8/M1d5vrP6E0Aild5YseINwGLygxlfyBDAJYTR7K6fDMCWkV/zajYXwNFi3sP4RR9A1gNgPr/j+D81Kfm/4K8TwLcGiayvbRLAxJK5Ck/u9D/Mkxy6dkv5P4enc3+2/BNAr28j9ul4FkDYzhczF9kKwID+t9xpXKQ/jHZuev3K/j9mKQwp2R0GQGH4il8TNiVAPK0ZU3U2DcDxsHyGiUgiwEebpRKzCuc/UpwRYUYh8D+P/yEQS0IPwAAbRypvTJc/1sb9zc6I9D/zuiO/Sx4gQKNqoe6GlhPALVkGkhE3EMCl4bw55ff2P7dCbIp3KCXAIGySpq6j778pxRerQ08qwDOlwgTrfRHAnLuZz1TlDkBmGN29gZUCQG30GoFYlhDAJzlFrQ/qN0CKAJNMEfjzP2LEzqfnwSBADB2gq2LsAcA9RpLtTuH8v1beBoAn1AbAlqJaQNEYFUA4/+oyTYYLwDvpp2Tbaui/UyajrxdtG0DBCWOIr/cYwN628K1xAwHAsAqv322cAsBoX6PnD0MPwMQEtMTYI/0/22d1mlK2AkC/O5TNXsUQwJIiOKOA5eA/Nr2HYf6wI0CYmfDJXoogwK45NexAbiJAI2cUllQAEcC11EqKYRMgQGnjcxgfthDAtRANPoJ3CsCZqvRJmgzcv+RoNCjnQCDASiCSv8o3+j8Wch5igqIbwGRVf8F6FzJAydaOuAdv4D9gotBkwJDmP0p5PEGB2f4/ekbcC9Sy9j8yEpLC+P4EQOKbIRMeyxPAeZpsecEyGsC8eLB3CccmQBZqLieBdPS/Ul2sUaL7F0Dev+HcA1T7P5xxVxnSjSNAVbqpxhkN0L+mYf0D6YcVwFChjUYivxDA5jIGPrRs+78GBtcQe3IbQJJkDBYYNglAsCfsemvSI0BDi0oKiI8LQPOWSrojFBTA7e7slKdsKkACFAowE4ERQAvgJFxG9SDAtXwLiFMrF0CuRQhlbOzLvwWNV+c8pCLA+BgAX6a2678pzMgi0F4iQJwLvoJI1gVArvGOl/Xy9r99Qz+VFDkaQB4dkUocUQtA4W4NQJ6FCMD5HJQFOQ0RwIIhgWGz+Q7A/7qPAHJlE8C9D0SwReQhwBOwdyn2ggbASPnFs+7DDkCC8U4XUKQJwJzimWIfLRRATwcyGAcGEkAOKN1o0CXpv6hekFLUECDAPCUARE839r+ZccUU88sUwHol6ZW6zhxAIMgut9m58b/qZU6LQq4UwAK+ce3OyCxAsunsKBkJE0BZVaGtRCkXQLeX/OR4veW/VmJaepBED8BtNXZW5T7zv5df2ZHVwSLAo7EzarmsBEC4Ib4f9sYXwIdqgN0fs/W/6Ur6evDfIcCMEfyBW5MQwB/DylN3UxbANOM5Dzq5BsAc+9I2DdMjQHqTC7NNeQJA/7Zd3nSBNEDjefZyFi8cwP/ZQH89PAXAkEQkfBuBCsDNIxBbqQoZwHeXMo2ScAJAHylbwQgxFMDIYjYON0n3PxAeqeEz8/I/PghpvOrmJUAtqR97q+QgwAoRU2Q1nRDAlanSXChbA0CWB1wFjtwVwEJqBGxNyfi/q8cLMnGTIsA/MQteM4fwvxOyTEykC8a/CZ9iiPrFG8CwQwdmHDAhQJe3TIN1WO6/WFOiaV6f8j9v4BOk6AQawB8AMKP1VxzAsJ8jOVwfHsCNpOcT1MXzvxUPtsaFViZAa4jwa+jTFsDxjsn6yI0YwAiDMar1lv+/1PSbfO8wHEDf229F8bkgQAtmrLt47+q/o3vCpKYXDsCrJdJ5OWsZQN6Bi0Rc5PK/CVgAIEpd2r/KMe7XOW//v5msP7f+XBbAhOm/n61fAMAjk0jZn0QCQKKmQv1qCAvAiUGubRXvIcAsnNBxoF4TQPqf+xnFuQzAq69VEYVhFcDoRa4r9joDQLn2sfKy+QTA/95KKQNY/7+mvbXedRwVwHwvV5TOsSFASLUgFkfI/L9CKDjNdqwBQOIkoHORmRHArtR7JuCm3T+9TfaUrX7MP1QV9Rogg/G/48x4EpLUKUC9Hva7MIsSwL77LcGM+vU/o3jHEQLBAkBNI4449NEGwLQJ/NoGu7E/p9+IbjlqBsBKgYGmslHlvzIRKtNM/wfAb4MtcVhc878L+TOz+3r6PwBXMH0nSg1AylrVGePk8L9+M5CVQajev87FmZAkLx9A3aAMSBoUGcAzVTTVUEcQQPQN8G7trvG/NdiBbja7BsDdU6RzZn3wP/HXOhK2mek/yIK43FzG7L/1VJCm/tENQATdL7M6pg/AeAVwLIqdJEBdEi/TtfkjQHrEspZTiSbAq09mPhbzJsBuWKKX1iYQwGgpM55t0/2/Fj/WGQE+AcDWOnoy3bAPQPspk/kYKCLAOyd+UQEG0D+G3kGXDuYQQKlV/soPluQ/5U1v+d1YxL9n6BtM1OzyvwSApTY0Ah/AYh2Qd8mYKEBpvHbDoxEDQLn9ui0jAxNAUMssEQ5p8r8aMA4pQofgv+RYppE0MBFAT1zYIj5mFcBP03miBnsLwDM9ylEegOS/7I4cUV8l5L/iQ8uzY8kvQFsl+BOHFxPAch4n4qa8E0C4qZc+8bD9v3tSLIZJ9RTA/wHJcaBfGUB5jS6d11rwv0uz1WbLjxpAsKrvabBF+78RToQEW6znvwo2Po3ShxhAFoyVs7a6AsD4zo5tMxUQwFqgcaWyTuc/Jikbjyh9G0ARxhT+3u3jP7EzbIM6KyDAd0jZayMw7j+ndyxpVqkSwEW4mmYPwxBAUC62DD2Nmr+MydcPvFQIQJMT7IHW4BXAoyuR8+JrBcCRNMJHxKkTwBoHZnnBsyRA/lyYVhGiF8DggddbeIAfwIjEhDaBefW/LxNzrqqr578TJnOFvnMRwHz4jF03VQvAZquLDYac4r+0wrlb/aMQwCNi/8ZcqRRAs3PhWjEwA8BvaTEJLFcSwCK2V5I/PBvA6rdEJmxDMEBC3Yb8dc4QwEn/GGnupSDAJIUDsc2t7b8+dsgyf1T0P6n/LwQ0jATA0PLiAuO3DUAfF70Eh8YVwEbdXts9ySNAa+Xb8Y6SFUAkatL6frQAwFUN/YlKcNe/gdzr2kbj6z9OTI0zkKzqv5hvpGxWegZA1o4Oy7XODMC3Fj72zRYZQCOvFIh0gh1ArUe/RC3tEcANgTuOD2nhvyu/SgnGlgrAUQgxMmQ8xj8g+gpzUiwiQLvZcviEluS/O6SGG2AK1z8uF1p3l8rxP3Wlo0x1hhNACN6iZ2UcEkDoXGTDpk0dQH6JrBl3zxRA1ONf1DYvI0CtnqO2vdf7vzj08Hj/JA1AKkIrxaIgBMCLLeziQ+Lxvw+OEko68eu/gvD13xRZFMB45Ezumb8KwJ5dB4wFL/a/nFv1iHnNIsBue71sx7P6Pz4uDsnylAZAWfdjOXvoAkBG1YfRU2cRQMRYAM6irxLA62e/5NuoGcBis5ElwqXwvywt0zitFec/lUFhqpPUKkBq4/R3wSoOwEh4v2IcYPE/P3GlN3ihEkDDTo5V31gUQKd3y0bWQ9W/hKh2efzzA8AA3KflTmgGQIh3Ms9BuRhAcioQYDlRFsDmTzn4GbkCwHCkNwsvZfW/xwNOVqJwEsCT06aaBV0cQEEPBjZpnum/9WCvDY2qFkDIAH2Jgyf/P8JgDQeosxLAWGCmTNK7GUDdVnq3dMUDwGMC1B6CYhZAcyAboO5wHsBPJfxgWX4ZwGhgZTiHlc6/DPaJMoaPG8DtVcuN5qnjv5pkl2kmcuC/5wmSC/8Y5T9sXmqtDn8UQJ8qk/1XqxJAftACC0nWFkABtK9f+vAbwKMMaINDI9Q/evYFFUL3zT+J7nBuInYCwOyNNt0VPQdAKuGyr/n4DkCHOvjuT9bVP7/DWUsK8CBAj/O7yrVrD8BdTom+UnYyQIjtKXeJOA/ACv05NqZOBEC3sET/5w0VwBr56tQMHghA/eXbdX4FCMBFfZpEMhjkvwFcgBMrYew/soBm28pn179+v7gMzqwQwEcnHkVtQxPAXjGrpKAaEsAX5ym22NrkP8WQLzyrc92/gsQt1vBLG8C5QW7lniwewCNMKuQ+/A7AwYGKPe4WFMAqR0pFwOMmQL8F8aKezgVAoYMRdmQNBkDfSy7rt5UUwGUKdD7Xfu+/cTZjUTMuGEAevvEub8Xxv6RYELv2I/0/aZ6cvzwiAEDPOrijq44RQFsx8NpPY/O/4B5+WaOZ/L+8VBvfy8DnPx9ZV/JmTQBA94KH1lyJCMB8QP3pDX7wv/SODC9CWBLAp/VHdu6AF0ALIGNXYDTxv5dk3m262gBAtrL+bZ/N+z8V7VpunYfyv0ZUG7dZIx1ATNHpwuVnFkAG3B/HmA8BQOf5y3AprgvAAFkJC6ElFsBNUSxMZ38ZQBcZH2oRiA1AIpWoyiJICEBRtsQ4scsBQKc90TlK+QHA1bHf/Zlu1r/3/6j4OKMYwGW8MgHcbSDAv6kZuHVa7z9U8tllyjkEwM6GMrGfmgPA4S8F46Lv/b9qYtRHWzYcwDzzGdOZbQ7AqII8z2EpG0DNWutisr3zP5Jjm4TrAAZAZOJ1WujH4T8pLpwciLohQKoN6zGXgwVA39oj/2pmGsBsFXD695b/v54y8V5pMBBAQRZpgtaIEcBbTevLGT4HwEcwIt1FiQPAaSjYjcWaKsBEydT2WiEMwGOYX7+5Dx5Acl5UkZscC8Cry7DbAg8CwJ9CsbfSkQpAwmYO6xPxDECC/kzVr4UCwPnL1ZQGLRpAd0R6XIpx8r+09557mhvxPzbCjvjrzg1AOW7K8oewFkD6XMNW4XUhwBjMshWp8RjAkbyYAy8oBkCrnvj53JkRwAxzCpIZpyLA3Ce0U7cRJEAkBEx75xQNwLufdnEevhrAtPm4XxoBCcD4hrQ5LikRQP9tURS98O8/1P9uzKNvAsDKXbS+mBcDQFfb79bOnxbAgxXZt5YJCcBsTjw3ajUlQNmXWElug+e/wNt6Kqs5GUDt/12C10QUQAqhNGVE6fi/AG73GW0hGMCC6XMzg0H3Pw5OUMByZQZAo5xjZYWK6z9A8qdAuE0DQFmoc3dm5hNA1+cKq4t3AsAtwGQPyfQhwPj4jCwxArs/rGTBtIBIHMBcmcQe6JkEQN4oNBS05g9AOwJa81DtI8Akw8OBj1frvx7lX5j41hLA1b6A4UIoHMByEPzpvfv0v5RWnX4kMf2/uBlqGmuLKcDt04u00WMHQMC7lJWVuAzAfVZ5ANMFD8AQ+9mJ3B8JwJVRcs1qHOS/Cvn61E/PAkDwr1srT+0FwBCn05pcsQjAYh9a2Ty1FcCHvUWQZ2QTwCj3hWxWvgnAZj6bxgTv+D92CIKLvO0IwOFJBNZOaA1AqaK0LOt/D8AsHxpTIPLsv0wKTOY6NsS/D+UnALPc3D/5hyvQNgAZQBArTgJ4rBLA0uXKJYNgE8AvkSk1SA8hQDi94Kh3cP8/2bOseZZUDkC0o/TJB+wTQPxZ2OcILQHAw+6YFwA50j9/+KNErQZ3P1SgO6Iw2RBAjF0UdS5VCsCedClholAdQLkQIuOaOhDA3byJJd6AGMAE6Lde4eUkQL5EUQ81PBhAhBmestRCAsBIXfPjvEAAQFwjUH9J/ihAOfJCvtnvHkCYO1dAMfcHQP/3tHoRyhJA1denKJ5eH0D7hq7gYgcVwHFdPgudbew/Eao/8mdEFUCrILOqkS4qwLL5Upr2yeW/Iv5iTUZGDEBlyfWd6an+v9xzj0H0iQpAqu5B2JKNAUA78NlbRv0ZQEjV0OWDEPO/L4ZoFTsN0L+rfKfUgEoWwHOoo2/H0BLAfe8pJ4h4DEDjjBd9liH0P99DgN6Mdta/yHAX/aub/L/gEXBxdWQEQLd7LYFXXgxA+uFePoyyEkBeIG1GEG8KwNZ72c5IngPAwVQ1lGsQAcAr6zMBjwEcwO+Kri6DgSVAygN8Zxyo/T+hqnxP6pMlQBZ/2QkKgAJAPkBd+7usAcDokTgGK2DzP9XF5O0T0Ns/gXwicpf0GUDCOH/c9ZwVwDpykqZwuxRA",
          "dtype": "f8"
         },
         "yaxis": "y"
        }
       ],
       "layout": {
        "coloraxis": {
         "colorbar": {
          "title": {
           "text": "color"
          }
         },
         "colorscale": [
          [
           0,
           "#0d0887"
          ],
          [
           0.1111111111111111,
           "#46039f"
          ],
          [
           0.2222222222222222,
           "#7201a8"
          ],
          [
           0.3333333333333333,
           "#9c179e"
          ],
          [
           0.4444444444444444,
           "#bd3786"
          ],
          [
           0.5555555555555556,
           "#d8576b"
          ],
          [
           0.6666666666666666,
           "#ed7953"
          ],
          [
           0.7777777777777778,
           "#fb9f3a"
          ],
          [
           0.8888888888888888,
           "#fdca26"
          ],
          [
           1,
           "#f0f921"
          ]
         ]
        },
        "legend": {
         "tracegroupgap": 0
        },
        "margin": {
         "t": 60
        },
        "template": {
         "data": {
          "bar": [
           {
            "error_x": {
             "color": "#2a3f5f"
            },
            "error_y": {
             "color": "#2a3f5f"
            },
            "marker": {
             "line": {
              "color": "#E5ECF6",
              "width": 0.5
             },
             "pattern": {
              "fillmode": "overlay",
              "size": 10,
              "solidity": 0.2
             }
            },
            "type": "bar"
           }
          ],
          "barpolar": [
           {
            "marker": {
             "line": {
              "color": "#E5ECF6",
              "width": 0.5
             },
             "pattern": {
              "fillmode": "overlay",
              "size": 10,
              "solidity": 0.2
             }
            },
            "type": "barpolar"
           }
          ],
          "carpet": [
           {
            "aaxis": {
             "endlinecolor": "#2a3f5f",
             "gridcolor": "white",
             "linecolor": "white",
             "minorgridcolor": "white",
             "startlinecolor": "#2a3f5f"
            },
            "baxis": {
             "endlinecolor": "#2a3f5f",
             "gridcolor": "white",
             "linecolor": "white",
             "minorgridcolor": "white",
             "startlinecolor": "#2a3f5f"
            },
            "type": "carpet"
           }
          ],
          "choropleth": [
           {
            "colorbar": {
             "outlinewidth": 0,
             "ticks": ""
            },
            "type": "choropleth"
           }
          ],
          "contour": [
           {
            "colorbar": {
             "outlinewidth": 0,
             "ticks": ""
            },
            "colorscale": [
             [
              0,
              "#0d0887"
             ],
             [
              0.1111111111111111,
              "#46039f"
             ],
             [
              0.2222222222222222,
              "#7201a8"
             ],
             [
              0.3333333333333333,
              "#9c179e"
             ],
             [
              0.4444444444444444,
              "#bd3786"
             ],
             [
              0.5555555555555556,
              "#d8576b"
             ],
             [
              0.6666666666666666,
              "#ed7953"
             ],
             [
              0.7777777777777778,
              "#fb9f3a"
             ],
             [
              0.8888888888888888,
              "#fdca26"
             ],
             [
              1,
              "#f0f921"
             ]
            ],
            "type": "contour"
           }
          ],
          "contourcarpet": [
           {
            "colorbar": {
             "outlinewidth": 0,
             "ticks": ""
            },
            "type": "contourcarpet"
           }
          ],
          "heatmap": [
           {
            "colorbar": {
             "outlinewidth": 0,
             "ticks": ""
            },
            "colorscale": [
             [
              0,
              "#0d0887"
             ],
             [
              0.1111111111111111,
              "#46039f"
             ],
             [
              0.2222222222222222,
              "#7201a8"
             ],
             [
              0.3333333333333333,
              "#9c179e"
             ],
             [
              0.4444444444444444,
              "#bd3786"
             ],
             [
              0.5555555555555556,
              "#d8576b"
             ],
             [
              0.6666666666666666,
              "#ed7953"
             ],
             [
              0.7777777777777778,
              "#fb9f3a"
             ],
             [
              0.8888888888888888,
              "#fdca26"
             ],
             [
              1,
              "#f0f921"
             ]
            ],
            "type": "heatmap"
           }
          ],
          "histogram": [
           {
            "marker": {
             "pattern": {
              "fillmode": "overlay",
              "size": 10,
              "solidity": 0.2
             }
            },
            "type": "histogram"
           }
          ],
          "histogram2d": [
           {
            "colorbar": {
             "outlinewidth": 0,
             "ticks": ""
            },
            "colorscale": [
             [
              0,
              "#0d0887"
             ],
             [
              0.1111111111111111,
              "#46039f"
             ],
             [
              0.2222222222222222,
              "#7201a8"
             ],
             [
              0.3333333333333333,
              "#9c179e"
             ],
             [
              0.4444444444444444,
              "#bd3786"
             ],
             [
              0.5555555555555556,
              "#d8576b"
             ],
             [
              0.6666666666666666,
              "#ed7953"
             ],
             [
              0.7777777777777778,
              "#fb9f3a"
             ],
             [
              0.8888888888888888,
              "#fdca26"
             ],
             [
              1,
              "#f0f921"
             ]
            ],
            "type": "histogram2d"
           }
          ],
          "histogram2dcontour": [
           {
            "colorbar": {
             "outlinewidth": 0,
             "ticks": ""
            },
            "colorscale": [
             [
              0,
              "#0d0887"
             ],
             [
              0.1111111111111111,
              "#46039f"
             ],
             [
              0.2222222222222222,
              "#7201a8"
             ],
             [
              0.3333333333333333,
              "#9c179e"
             ],
             [
              0.4444444444444444,
              "#bd3786"
             ],
             [
              0.5555555555555556,
              "#d8576b"
             ],
             [
              0.6666666666666666,
              "#ed7953"
             ],
             [
              0.7777777777777778,
              "#fb9f3a"
             ],
             [
              0.8888888888888888,
              "#fdca26"
             ],
             [
              1,
              "#f0f921"
             ]
            ],
            "type": "histogram2dcontour"
           }
          ],
          "mesh3d": [
           {
            "colorbar": {
             "outlinewidth": 0,
             "ticks": ""
            },
            "type": "mesh3d"
           }
          ],
          "parcoords": [
           {
            "line": {
             "colorbar": {
              "outlinewidth": 0,
              "ticks": ""
             }
            },
            "type": "parcoords"
           }
          ],
          "pie": [
           {
            "automargin": true,
            "type": "pie"
           }
          ],
          "scatter": [
           {
            "fillpattern": {
             "fillmode": "overlay",
             "size": 10,
             "solidity": 0.2
            },
            "type": "scatter"
           }
          ],
          "scatter3d": [
           {
            "line": {
             "colorbar": {
              "outlinewidth": 0,
              "ticks": ""
             }
            },
            "marker": {
             "colorbar": {
              "outlinewidth": 0,
              "ticks": ""
             }
            },
            "type": "scatter3d"
           }
          ],
          "scattercarpet": [
           {
            "marker": {
             "colorbar": {
              "outlinewidth": 0,
              "ticks": ""
             }
            },
            "type": "scattercarpet"
           }
          ],
          "scattergeo": [
           {
            "marker": {
             "colorbar": {
              "outlinewidth": 0,
              "ticks": ""
             }
            },
            "type": "scattergeo"
           }
          ],
          "scattergl": [
           {
            "marker": {
             "colorbar": {
              "outlinewidth": 0,
              "ticks": ""
             }
            },
            "type": "scattergl"
           }
          ],
          "scattermap": [
           {
            "marker": {
             "colorbar": {
              "outlinewidth": 0,
              "ticks": ""
             }
            },
            "type": "scattermap"
           }
          ],
          "scattermapbox": [
           {
            "marker": {
             "colorbar": {
              "outlinewidth": 0,
              "ticks": ""
             }
            },
            "type": "scattermapbox"
           }
          ],
          "scatterpolar": [
           {
            "marker": {
             "colorbar": {
              "outlinewidth": 0,
              "ticks": ""
             }
            },
            "type": "scatterpolar"
           }
          ],
          "scatterpolargl": [
           {
            "marker": {
             "colorbar": {
              "outlinewidth": 0,
              "ticks": ""
             }
            },
            "type": "scatterpolargl"
           }
          ],
          "scatterternary": [
           {
            "marker": {
             "colorbar": {
              "outlinewidth": 0,
              "ticks": ""
             }
            },
            "type": "scatterternary"
           }
          ],
          "surface": [
           {
            "colorbar": {
             "outlinewidth": 0,
             "ticks": ""
            },
            "colorscale": [
             [
              0,
              "#0d0887"
             ],
             [
              0.1111111111111111,
              "#46039f"
             ],
             [
              0.2222222222222222,
              "#7201a8"
             ],
             [
              0.3333333333333333,
              "#9c179e"
             ],
             [
              0.4444444444444444,
              "#bd3786"
             ],
             [
              0.5555555555555556,
              "#d8576b"
             ],
             [
              0.6666666666666666,
              "#ed7953"
             ],
             [
              0.7777777777777778,
              "#fb9f3a"
             ],
             [
              0.8888888888888888,
              "#fdca26"
             ],
             [
              1,
              "#f0f921"
             ]
            ],
            "type": "surface"
           }
          ],
          "table": [
           {
            "cells": {
             "fill": {
              "color": "#EBF0F8"
             },
             "line": {
              "color": "white"
             }
            },
            "header": {
             "fill": {
              "color": "#C8D4E3"
             },
             "line": {
              "color": "white"
             }
            },
            "type": "table"
           }
          ]
         },
         "layout": {
          "annotationdefaults": {
           "arrowcolor": "#2a3f5f",
           "arrowhead": 0,
           "arrowwidth": 1
          },
          "autotypenumbers": "strict",
          "coloraxis": {
           "colorbar": {
            "outlinewidth": 0,
            "ticks": ""
           }
          },
          "colorscale": {
           "diverging": [
            [
             0,
             "#8e0152"
            ],
            [
             0.1,
             "#c51b7d"
            ],
            [
             0.2,
             "#de77ae"
            ],
            [
             0.3,
             "#f1b6da"
            ],
            [
             0.4,
             "#fde0ef"
            ],
            [
             0.5,
             "#f7f7f7"
            ],
            [
             0.6,
             "#e6f5d0"
            ],
            [
             0.7,
             "#b8e186"
            ],
            [
             0.8,
             "#7fbc41"
            ],
            [
             0.9,
             "#4d9221"
            ],
            [
             1,
             "#276419"
            ]
           ],
           "sequential": [
            [
             0,
             "#0d0887"
            ],
            [
             0.1111111111111111,
             "#46039f"
            ],
            [
             0.2222222222222222,
             "#7201a8"
            ],
            [
             0.3333333333333333,
             "#9c179e"
            ],
            [
             0.4444444444444444,
             "#bd3786"
            ],
            [
             0.5555555555555556,
             "#d8576b"
            ],
            [
             0.6666666666666666,
             "#ed7953"
            ],
            [
             0.7777777777777778,
             "#fb9f3a"
            ],
            [
             0.8888888888888888,
             "#fdca26"
            ],
            [
             1,
             "#f0f921"
            ]
           ],
           "sequentialminus": [
            [
             0,
             "#0d0887"
            ],
            [
             0.1111111111111111,
             "#46039f"
            ],
            [
             0.2222222222222222,
             "#7201a8"
            ],
            [
             0.3333333333333333,
             "#9c179e"
            ],
            [
             0.4444444444444444,
             "#bd3786"
            ],
            [
             0.5555555555555556,
             "#d8576b"
            ],
            [
             0.6666666666666666,
             "#ed7953"
            ],
            [
             0.7777777777777778,
             "#fb9f3a"
            ],
            [
             0.8888888888888888,
             "#fdca26"
            ],
            [
             1,
             "#f0f921"
            ]
           ]
          },
          "colorway": [
           "#636efa",
           "#EF553B",
           "#00cc96",
           "#ab63fa",
           "#FFA15A",
           "#19d3f3",
           "#FF6692",
           "#B6E880",
           "#FF97FF",
           "#FECB52"
          ],
          "font": {
           "color": "#2a3f5f"
          },
          "geo": {
           "bgcolor": "white",
           "lakecolor": "white",
           "landcolor": "#E5ECF6",
           "showlakes": true,
           "showland": true,
           "subunitcolor": "white"
          },
          "hoverlabel": {
           "align": "left"
          },
          "hovermode": "closest",
          "mapbox": {
           "style": "light"
          },
          "paper_bgcolor": "white",
          "plot_bgcolor": "#E5ECF6",
          "polar": {
           "angularaxis": {
            "gridcolor": "white",
            "linecolor": "white",
            "ticks": ""
           },
           "bgcolor": "#E5ECF6",
           "radialaxis": {
            "gridcolor": "white",
            "linecolor": "white",
            "ticks": ""
           }
          },
          "scene": {
           "xaxis": {
            "backgroundcolor": "#E5ECF6",
            "gridcolor": "white",
            "gridwidth": 2,
            "linecolor": "white",
            "showbackground": true,
            "ticks": "",
            "zerolinecolor": "white"
           },
           "yaxis": {
            "backgroundcolor": "#E5ECF6",
            "gridcolor": "white",
            "gridwidth": 2,
            "linecolor": "white",
            "showbackground": true,
            "ticks": "",
            "zerolinecolor": "white"
           },
           "zaxis": {
            "backgroundcolor": "#E5ECF6",
            "gridcolor": "white",
            "gridwidth": 2,
            "linecolor": "white",
            "showbackground": true,
            "ticks": "",
            "zerolinecolor": "white"
           }
          },
          "shapedefaults": {
           "line": {
            "color": "#2a3f5f"
           }
          },
          "ternary": {
           "aaxis": {
            "gridcolor": "white",
            "linecolor": "white",
            "ticks": ""
           },
           "baxis": {
            "gridcolor": "white",
            "linecolor": "white",
            "ticks": ""
           },
           "bgcolor": "#E5ECF6",
           "caxis": {
            "gridcolor": "white",
            "linecolor": "white",
            "ticks": ""
           }
          },
          "title": {
           "x": 0.05
          },
          "xaxis": {
           "automargin": true,
           "gridcolor": "white",
           "linecolor": "white",
           "ticks": "",
           "title": {
            "standoff": 15
           },
           "zerolinecolor": "white",
           "zerolinewidth": 2
          },
          "yaxis": {
           "automargin": true,
           "gridcolor": "white",
           "linecolor": "white",
           "ticks": "",
           "title": {
            "standoff": 15
           },
           "zerolinecolor": "white",
           "zerolinewidth": 2
          }
         }
        },
        "xaxis": {
         "anchor": "y",
         "domain": [
          0,
          1
         ],
         "title": {
          "text": "x"
         }
        },
        "yaxis": {
         "anchor": "x",
         "domain": [
          0,
          1
         ],
         "title": {
          "text": "y"
         }
        }
       }
      }
     },
     "metadata": {},
     "output_type": "display_data"
    }
   ],
   "source": [
    "import plotly.express as px\n",
    "px.scatter(x=X_train_trf[:,0],y=X_train_trf[:,1],color=y_train)"
   ]
  },
  {
   "cell_type": "code",
   "execution_count": 69,
   "id": "e39b5f9d",
   "metadata": {},
   "outputs": [
    {
     "data": {
      "text/plain": [
       "0.5109821428571428"
      ]
     },
     "execution_count": 69,
     "metadata": {},
     "output_type": "execute_result"
    }
   ],
   "source": [
    "pca = PCA(n_components=3)\n",
    "X_train_trf = pca.fit_transform(X_train)\n",
    "X_test_trf = pca.transform(X_test)\n",
    "\n",
    "knn.fit(X_train_trf,y_train)\n",
    "y_pred = knn.predict(X_test_trf)\n",
    "\n",
    "accuracy_score(y_test,y_pred)"
   ]
  },
  {
   "cell_type": "code",
   "execution_count": 75,
   "id": "df94fc9f",
   "metadata": {},
   "outputs": [],
   "source": [
    "y_train = y_train.astype('str')\n",
    "import plotly.io as pio\n",
    "pio.renderers.default = 'browser'\n",
    "fig = px.scatter_3d(x=X_train_trf[:,0],y=X_train_trf[:,1],z=X_train_trf[:,2],color=y_train)\n",
    "fig.update_layout(\n",
    "    margin=dict(l=20, r=20, t=20, b=20),\n",
    "    paper_bgcolor=\"LightSteelBlue\",\n",
    ")\n",
    "fig.show()"
   ]
  },
  {
   "cell_type": "code",
   "execution_count": null,
   "id": "47c18c6b",
   "metadata": {},
   "outputs": [],
   "source": []
  }
 ],
 "metadata": {
  "kernelspec": {
   "display_name": "git_venv",
   "language": "python",
   "name": "python3"
  },
  "language_info": {
   "codemirror_mode": {
    "name": "ipython",
    "version": 3
   },
   "file_extension": ".py",
   "mimetype": "text/x-python",
   "name": "python",
   "nbconvert_exporter": "python",
   "pygments_lexer": "ipython3",
   "version": "3.13.1"
  }
 },
 "nbformat": 4,
 "nbformat_minor": 5
}
