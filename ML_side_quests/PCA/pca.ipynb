{
 "cells": [
  {
   "cell_type": "code",
   "execution_count": 279,
   "id": "43e1c580",
   "metadata": {},
   "outputs": [],
   "source": [
    "import numpy as np\n",
    "import pandas as pd\n",
    "import matplotlib.pyplot as plt\n",
    "import seaborn as sns"
   ]
  },
  {
   "cell_type": "code",
   "execution_count": 280,
   "id": "a270ef66",
   "metadata": {},
   "outputs": [],
   "source": [
    "#making of synthetic Data\n",
    "np.random.seed(23) \n",
    "\n",
    "mu_vec1 = np.array([0,0,0])\n",
    "cov_mat1 = np.array([[1,0,0],[0,1,0],[0,0,1]])\n",
    "class1_sample = np.random.multivariate_normal(mu_vec1, cov_mat1, 20)\n",
    "\n",
    "df = pd.DataFrame(class1_sample,columns=['feature1','feature2','feature3'])\n",
    "df['target'] = 1\n",
    "\n",
    "mu_vec2 = np.array([1,1,1])\n",
    "cov_mat2 = np.array([[1,0,0],[0,1,0],[0,0,1]])\n",
    "class2_sample = np.random.multivariate_normal(mu_vec2, cov_mat2, 20)\n",
    "\n",
    "df1 = pd.DataFrame(class2_sample,columns=['feature1','feature2','feature3'])\n",
    "\n",
    "df1['target'] = 0\n",
    "\n",
    "df = pd.concat([df1,df],ignore_index=True)\n",
    "df = df.sample(40,replace=True)"
   ]
  },
  {
   "cell_type": "code",
   "execution_count": 291,
   "id": "d09ae906",
   "metadata": {},
   "outputs": [
    {
     "data": {
      "text/plain": [
       "array([0, 1])"
      ]
     },
     "execution_count": 291,
     "metadata": {},
     "output_type": "execute_result"
    }
   ],
   "source": [
    "df[\"target\"].unique()"
   ]
  },
  {
   "cell_type": "code",
   "execution_count": 282,
   "id": "a7c70d43",
   "metadata": {},
   "outputs": [
    {
     "data": {
      "text/plain": [
       "(40, 4)"
      ]
     },
     "execution_count": 282,
     "metadata": {},
     "output_type": "execute_result"
    }
   ],
   "source": [
    "df.shape"
   ]
  },
  {
   "cell_type": "code",
   "execution_count": 283,
   "id": "a37bf3d9",
   "metadata": {},
   "outputs": [],
   "source": [
    "# mean centering the Data\n",
    "from sklearn.preprocessing import StandardScaler\n",
    "mean = StandardScaler(with_mean=True)\n",
    "\n",
    "df.iloc[:,0:3]  = mean.fit_transform(X=df.iloc[:,0:3])"
   ]
  },
  {
   "cell_type": "code",
   "execution_count": 293,
   "id": "d0a8ebe8",
   "metadata": {},
   "outputs": [],
   "source": [
    "import plotly.io as pio\n",
    "pio.renderers.default = 'browser'\n",
    "\n",
    "\n",
    "import plotly.express as px\n",
    "\n",
    "px.scatter_3d(df,x = df.iloc[:,0],y=df.iloc[:,1],z=df.iloc[:,2],color=df['target'].astype('str'))\n",
    "\n",
    "\n"
   ]
  },
  {
   "cell_type": "code",
   "execution_count": 292,
   "id": "b4a8f1e7",
   "metadata": {},
   "outputs": [],
   "source": [
    "cov_mat = np.cov([df.iloc[:,0],df.iloc[:,1],df.iloc[:,2]])"
   ]
  },
  {
   "cell_type": "code",
   "execution_count": 294,
   "id": "49e8bd62",
   "metadata": {},
   "outputs": [],
   "source": [
    "eigen_value,eigen_vector = np.linalg.eig(cov_mat)"
   ]
  },
  {
   "cell_type": "code",
   "execution_count": 295,
   "id": "7cbf6e50",
   "metadata": {},
   "outputs": [
    {
     "data": {
      "text/plain": [
       "array([[ 0.35813712,  0.90783825,  0.21809981],\n",
       "       [ 0.68462262, -0.09651057, -0.72248016],\n",
       "       [ 0.63484618, -0.40806302,  0.65609062]])"
      ]
     },
     "execution_count": 295,
     "metadata": {},
     "output_type": "execute_result"
    }
   ],
   "source": [
    "eigen_vector"
   ]
  },
  {
   "cell_type": "code",
   "execution_count": 296,
   "id": "d1099311",
   "metadata": {},
   "outputs": [
    {
     "data": {
      "text/plain": [
       "array([1.48130622, 0.9782941 , 0.61732275])"
      ]
     },
     "execution_count": 296,
     "metadata": {},
     "output_type": "execute_result"
    }
   ],
   "source": [
    "eigen_value"
   ]
  },
  {
   "cell_type": "code",
   "execution_count": 297,
   "id": "fed5c8e0",
   "metadata": {},
   "outputs": [],
   "source": [
    "eigen_vector = eigen_vector[0:2]"
   ]
  },
  {
   "cell_type": "code",
   "execution_count": 298,
   "id": "c36d447c",
   "metadata": {},
   "outputs": [
    {
     "data": {
      "text/plain": [
       "(2, 3)"
      ]
     },
     "execution_count": 298,
     "metadata": {},
     "output_type": "execute_result"
    }
   ],
   "source": [
    "eigen_vector.shape"
   ]
  },
  {
   "cell_type": "code",
   "execution_count": null,
   "id": "3c1e9b24",
   "metadata": {},
   "outputs": [
    {
     "data": {
      "application/vnd.microsoft.datawrangler.viewer.v0+json": {
       "columns": [
        {
         "name": "index",
         "rawType": "int64",
         "type": "integer"
        },
        {
         "name": "feature1",
         "rawType": "float64",
         "type": "float"
        },
        {
         "name": "feature2",
         "rawType": "float64",
         "type": "float"
        },
        {
         "name": "feature3",
         "rawType": "float64",
         "type": "float"
        }
       ],
       "ref": "0dab5172-d6e6-41a5-af26-4fc9a079ad2d",
       "rows": [
        [
         "3",
         "1.0102293014527666",
         "1.4378296804363488",
         "2.3277876229781747"
        ],
        [
         "35",
         "-0.045437575551217295",
         "1.0408859729898774",
         "-0.09403473465553544"
        ],
        [
         "9",
         "1.4251400838063584",
         "1.4411515070733996",
         "0.1825606731342252"
        ],
        [
         "13",
         "2.8233782346552134",
         "-0.3328634933589074",
         "2.637391221142465"
        ],
        [
         "17",
         "-1.0278608158717826",
         "1.1314163050665054",
         "2.6032341109823642"
        ],
        [
         "35",
         "-0.045437575551217295",
         "1.0408859729898774",
         "-0.09403473465553544"
        ],
        [
         "6",
         "0.8989070866188994",
         "0.43596037244890706",
         "0.8209644048616087"
        ],
        [
         "39",
         "-0.9925737805679127",
         "-0.16134638680500063",
         "1.192404330680825"
        ],
        [
         "7",
         "2.0110588281146295",
         "1.920995835754021",
         "2.9330898341447647"
        ],
        [
         "24",
         "0.3222715203493051",
         "0.060342934170488124",
         "-1.0434500017467254"
        ],
        [
         "33",
         "-0.022538890053004787",
         "0.013422257380147637",
         "0.9359448937456367"
        ],
        [
         "23",
         "1.7722582783074305",
         "-0.34745899102186334",
         "0.6701401628971514"
        ],
        [
         "17",
         "-1.0278608158717826",
         "1.1314163050665054",
         "2.6032341109823642"
        ],
        [
         "26",
         "-1.8380677677579502",
         "-0.9387686311201282",
         "-0.20184052243138237"
        ],
        [
         "20",
         "0.6669880563534684",
         "0.02581308106627382",
         "-0.7776194131918178"
        ],
        [
         "16",
         "-1.3898657754386314",
         "0.666726013990038",
         "1.3435167629532274"
        ],
        [
         "15",
         "1.2338979906194056",
         "0.05277755327574496",
         "-0.26157620770596424"
        ],
        [
         "8",
         "0.2046367811112989",
         "-0.011535196733127862",
         "3.150779945582542"
        ],
        [
         "9",
         "1.4251400838063584",
         "1.4411515070733996",
         "0.1825606731342252"
        ],
        [
         "31",
         "1.9684347309098176",
         "-0.547788007825014",
         "-0.6794182716515045"
        ],
        [
         "3",
         "1.0102293014527666",
         "1.4378296804363488",
         "2.3277876229781747"
        ],
        [
         "5",
         "0.2907460978401567",
         "0.866975408938099",
         "0.9826430605096849"
        ],
        [
         "16",
         "-1.3898657754386314",
         "0.666726013990038",
         "1.3435167629532274"
        ],
        [
         "24",
         "0.3222715203493051",
         "0.060342934170488124",
         "-1.0434500017467254"
        ],
        [
         "28",
         "0.2411063006295245",
         "-0.9525095310029906",
         "-0.13626675631863647"
        ],
        [
         "7",
         "2.0110588281146295",
         "1.920995835754021",
         "2.9330898341447647"
        ],
        [
         "23",
         "1.7722582783074305",
         "-0.34745899102186334",
         "0.6701401628971514"
        ],
        [
         "28",
         "0.2411063006295245",
         "-0.9525095310029906",
         "-0.13626675631863647"
        ],
        [
         "39",
         "-0.9925737805679127",
         "-0.16134638680500063",
         "1.192404330680825"
        ],
        [
         "5",
         "0.2907460978401567",
         "0.866975408938099",
         "0.9826430605096849"
        ],
        [
         "8",
         "0.2046367811112989",
         "-0.011535196733127862",
         "3.150779945582542"
        ],
        [
         "3",
         "1.0102293014527666",
         "1.4378296804363488",
         "2.3277876229781747"
        ],
        [
         "4",
         "0.748854969154346",
         "2.5931106271669737",
         "1.1708177071000119"
        ],
        [
         "8",
         "0.2046367811112989",
         "-0.011535196733127862",
         "3.150779945582542"
        ],
        [
         "16",
         "-1.3898657754386314",
         "0.666726013990038",
         "1.3435167629532274"
        ],
        [
         "19",
         "0.384865020097948",
         "1.3235456388910538",
         "-0.10319346470680757"
        ],
        [
         "8",
         "0.2046367811112989",
         "-0.011535196733127862",
         "3.150779945582542"
        ],
        [
         "22",
         "-0.3675481161171661",
         "-1.1374596907250272",
         "-1.3221475225908594"
        ],
        [
         "28",
         "0.2411063006295245",
         "-0.9525095310029906",
         "-0.13626675631863647"
        ],
        [
         "6",
         "0.8989070866188994",
         "0.43596037244890706",
         "0.8209644048616087"
        ]
       ],
       "shape": {
        "columns": 3,
        "rows": 40
       }
      },
      "text/html": [
       "<div>\n",
       "<style scoped>\n",
       "    .dataframe tbody tr th:only-of-type {\n",
       "        vertical-align: middle;\n",
       "    }\n",
       "\n",
       "    .dataframe tbody tr th {\n",
       "        vertical-align: top;\n",
       "    }\n",
       "\n",
       "    .dataframe thead th {\n",
       "        text-align: right;\n",
       "    }\n",
       "</style>\n",
       "<table border=\"1\" class=\"dataframe\">\n",
       "  <thead>\n",
       "    <tr style=\"text-align: right;\">\n",
       "      <th></th>\n",
       "      <th>feature1</th>\n",
       "      <th>feature2</th>\n",
       "      <th>feature3</th>\n",
       "    </tr>\n",
       "  </thead>\n",
       "  <tbody>\n",
       "    <tr>\n",
       "      <th>3</th>\n",
       "      <td>1.010229</td>\n",
       "      <td>1.437830</td>\n",
       "      <td>2.327788</td>\n",
       "    </tr>\n",
       "    <tr>\n",
       "      <th>35</th>\n",
       "      <td>-0.045438</td>\n",
       "      <td>1.040886</td>\n",
       "      <td>-0.094035</td>\n",
       "    </tr>\n",
       "    <tr>\n",
       "      <th>9</th>\n",
       "      <td>1.425140</td>\n",
       "      <td>1.441152</td>\n",
       "      <td>0.182561</td>\n",
       "    </tr>\n",
       "    <tr>\n",
       "      <th>13</th>\n",
       "      <td>2.823378</td>\n",
       "      <td>-0.332863</td>\n",
       "      <td>2.637391</td>\n",
       "    </tr>\n",
       "    <tr>\n",
       "      <th>17</th>\n",
       "      <td>-1.027861</td>\n",
       "      <td>1.131416</td>\n",
       "      <td>2.603234</td>\n",
       "    </tr>\n",
       "    <tr>\n",
       "      <th>35</th>\n",
       "      <td>-0.045438</td>\n",
       "      <td>1.040886</td>\n",
       "      <td>-0.094035</td>\n",
       "    </tr>\n",
       "    <tr>\n",
       "      <th>6</th>\n",
       "      <td>0.898907</td>\n",
       "      <td>0.435960</td>\n",
       "      <td>0.820964</td>\n",
       "    </tr>\n",
       "    <tr>\n",
       "      <th>39</th>\n",
       "      <td>-0.992574</td>\n",
       "      <td>-0.161346</td>\n",
       "      <td>1.192404</td>\n",
       "    </tr>\n",
       "    <tr>\n",
       "      <th>7</th>\n",
       "      <td>2.011059</td>\n",
       "      <td>1.920996</td>\n",
       "      <td>2.933090</td>\n",
       "    </tr>\n",
       "    <tr>\n",
       "      <th>24</th>\n",
       "      <td>0.322272</td>\n",
       "      <td>0.060343</td>\n",
       "      <td>-1.043450</td>\n",
       "    </tr>\n",
       "    <tr>\n",
       "      <th>33</th>\n",
       "      <td>-0.022539</td>\n",
       "      <td>0.013422</td>\n",
       "      <td>0.935945</td>\n",
       "    </tr>\n",
       "    <tr>\n",
       "      <th>23</th>\n",
       "      <td>1.772258</td>\n",
       "      <td>-0.347459</td>\n",
       "      <td>0.670140</td>\n",
       "    </tr>\n",
       "    <tr>\n",
       "      <th>17</th>\n",
       "      <td>-1.027861</td>\n",
       "      <td>1.131416</td>\n",
       "      <td>2.603234</td>\n",
       "    </tr>\n",
       "    <tr>\n",
       "      <th>26</th>\n",
       "      <td>-1.838068</td>\n",
       "      <td>-0.938769</td>\n",
       "      <td>-0.201841</td>\n",
       "    </tr>\n",
       "    <tr>\n",
       "      <th>20</th>\n",
       "      <td>0.666988</td>\n",
       "      <td>0.025813</td>\n",
       "      <td>-0.777619</td>\n",
       "    </tr>\n",
       "    <tr>\n",
       "      <th>16</th>\n",
       "      <td>-1.389866</td>\n",
       "      <td>0.666726</td>\n",
       "      <td>1.343517</td>\n",
       "    </tr>\n",
       "    <tr>\n",
       "      <th>15</th>\n",
       "      <td>1.233898</td>\n",
       "      <td>0.052778</td>\n",
       "      <td>-0.261576</td>\n",
       "    </tr>\n",
       "    <tr>\n",
       "      <th>8</th>\n",
       "      <td>0.204637</td>\n",
       "      <td>-0.011535</td>\n",
       "      <td>3.150780</td>\n",
       "    </tr>\n",
       "    <tr>\n",
       "      <th>9</th>\n",
       "      <td>1.425140</td>\n",
       "      <td>1.441152</td>\n",
       "      <td>0.182561</td>\n",
       "    </tr>\n",
       "    <tr>\n",
       "      <th>31</th>\n",
       "      <td>1.968435</td>\n",
       "      <td>-0.547788</td>\n",
       "      <td>-0.679418</td>\n",
       "    </tr>\n",
       "    <tr>\n",
       "      <th>3</th>\n",
       "      <td>1.010229</td>\n",
       "      <td>1.437830</td>\n",
       "      <td>2.327788</td>\n",
       "    </tr>\n",
       "    <tr>\n",
       "      <th>5</th>\n",
       "      <td>0.290746</td>\n",
       "      <td>0.866975</td>\n",
       "      <td>0.982643</td>\n",
       "    </tr>\n",
       "    <tr>\n",
       "      <th>16</th>\n",
       "      <td>-1.389866</td>\n",
       "      <td>0.666726</td>\n",
       "      <td>1.343517</td>\n",
       "    </tr>\n",
       "    <tr>\n",
       "      <th>24</th>\n",
       "      <td>0.322272</td>\n",
       "      <td>0.060343</td>\n",
       "      <td>-1.043450</td>\n",
       "    </tr>\n",
       "    <tr>\n",
       "      <th>28</th>\n",
       "      <td>0.241106</td>\n",
       "      <td>-0.952510</td>\n",
       "      <td>-0.136267</td>\n",
       "    </tr>\n",
       "    <tr>\n",
       "      <th>7</th>\n",
       "      <td>2.011059</td>\n",
       "      <td>1.920996</td>\n",
       "      <td>2.933090</td>\n",
       "    </tr>\n",
       "    <tr>\n",
       "      <th>23</th>\n",
       "      <td>1.772258</td>\n",
       "      <td>-0.347459</td>\n",
       "      <td>0.670140</td>\n",
       "    </tr>\n",
       "    <tr>\n",
       "      <th>28</th>\n",
       "      <td>0.241106</td>\n",
       "      <td>-0.952510</td>\n",
       "      <td>-0.136267</td>\n",
       "    </tr>\n",
       "    <tr>\n",
       "      <th>39</th>\n",
       "      <td>-0.992574</td>\n",
       "      <td>-0.161346</td>\n",
       "      <td>1.192404</td>\n",
       "    </tr>\n",
       "    <tr>\n",
       "      <th>5</th>\n",
       "      <td>0.290746</td>\n",
       "      <td>0.866975</td>\n",
       "      <td>0.982643</td>\n",
       "    </tr>\n",
       "    <tr>\n",
       "      <th>8</th>\n",
       "      <td>0.204637</td>\n",
       "      <td>-0.011535</td>\n",
       "      <td>3.150780</td>\n",
       "    </tr>\n",
       "    <tr>\n",
       "      <th>3</th>\n",
       "      <td>1.010229</td>\n",
       "      <td>1.437830</td>\n",
       "      <td>2.327788</td>\n",
       "    </tr>\n",
       "    <tr>\n",
       "      <th>4</th>\n",
       "      <td>0.748855</td>\n",
       "      <td>2.593111</td>\n",
       "      <td>1.170818</td>\n",
       "    </tr>\n",
       "    <tr>\n",
       "      <th>8</th>\n",
       "      <td>0.204637</td>\n",
       "      <td>-0.011535</td>\n",
       "      <td>3.150780</td>\n",
       "    </tr>\n",
       "    <tr>\n",
       "      <th>16</th>\n",
       "      <td>-1.389866</td>\n",
       "      <td>0.666726</td>\n",
       "      <td>1.343517</td>\n",
       "    </tr>\n",
       "    <tr>\n",
       "      <th>19</th>\n",
       "      <td>0.384865</td>\n",
       "      <td>1.323546</td>\n",
       "      <td>-0.103193</td>\n",
       "    </tr>\n",
       "    <tr>\n",
       "      <th>8</th>\n",
       "      <td>0.204637</td>\n",
       "      <td>-0.011535</td>\n",
       "      <td>3.150780</td>\n",
       "    </tr>\n",
       "    <tr>\n",
       "      <th>22</th>\n",
       "      <td>-0.367548</td>\n",
       "      <td>-1.137460</td>\n",
       "      <td>-1.322148</td>\n",
       "    </tr>\n",
       "    <tr>\n",
       "      <th>28</th>\n",
       "      <td>0.241106</td>\n",
       "      <td>-0.952510</td>\n",
       "      <td>-0.136267</td>\n",
       "    </tr>\n",
       "    <tr>\n",
       "      <th>6</th>\n",
       "      <td>0.898907</td>\n",
       "      <td>0.435960</td>\n",
       "      <td>0.820964</td>\n",
       "    </tr>\n",
       "  </tbody>\n",
       "</table>\n",
       "</div>"
      ],
      "text/plain": [
       "    feature1  feature2  feature3\n",
       "3   1.010229  1.437830  2.327788\n",
       "35 -0.045438  1.040886 -0.094035\n",
       "9   1.425140  1.441152  0.182561\n",
       "13  2.823378 -0.332863  2.637391\n",
       "17 -1.027861  1.131416  2.603234\n",
       "35 -0.045438  1.040886 -0.094035\n",
       "6   0.898907  0.435960  0.820964\n",
       "39 -0.992574 -0.161346  1.192404\n",
       "7   2.011059  1.920996  2.933090\n",
       "24  0.322272  0.060343 -1.043450\n",
       "33 -0.022539  0.013422  0.935945\n",
       "23  1.772258 -0.347459  0.670140\n",
       "17 -1.027861  1.131416  2.603234\n",
       "26 -1.838068 -0.938769 -0.201841\n",
       "20  0.666988  0.025813 -0.777619\n",
       "16 -1.389866  0.666726  1.343517\n",
       "15  1.233898  0.052778 -0.261576\n",
       "8   0.204637 -0.011535  3.150780\n",
       "9   1.425140  1.441152  0.182561\n",
       "31  1.968435 -0.547788 -0.679418\n",
       "3   1.010229  1.437830  2.327788\n",
       "5   0.290746  0.866975  0.982643\n",
       "16 -1.389866  0.666726  1.343517\n",
       "24  0.322272  0.060343 -1.043450\n",
       "28  0.241106 -0.952510 -0.136267\n",
       "7   2.011059  1.920996  2.933090\n",
       "23  1.772258 -0.347459  0.670140\n",
       "28  0.241106 -0.952510 -0.136267\n",
       "39 -0.992574 -0.161346  1.192404\n",
       "5   0.290746  0.866975  0.982643\n",
       "8   0.204637 -0.011535  3.150780\n",
       "3   1.010229  1.437830  2.327788\n",
       "4   0.748855  2.593111  1.170818\n",
       "8   0.204637 -0.011535  3.150780\n",
       "16 -1.389866  0.666726  1.343517\n",
       "19  0.384865  1.323546 -0.103193\n",
       "8   0.204637 -0.011535  3.150780\n",
       "22 -0.367548 -1.137460 -1.322148\n",
       "28  0.241106 -0.952510 -0.136267\n",
       "6   0.898907  0.435960  0.820964"
      ]
     },
     "execution_count": 238,
     "metadata": {},
     "output_type": "execute_result"
    }
   ],
   "source": [
    "\n",
    "(df.iloc[:,0:3])"
   ]
  },
  {
   "cell_type": "code",
   "execution_count": 299,
   "id": "ee2d8259",
   "metadata": {},
   "outputs": [],
   "source": [
    "\n",
    "\n",
    "new_df = np.dot(df.iloc[:,0:3],eigen_vector.T)\n"
   ]
  },
  {
   "cell_type": "code",
   "execution_count": 301,
   "id": "bc6150e4",
   "metadata": {},
   "outputs": [],
   "source": [
    "new_df = pd.DataFrame(new_df,columns=[\"PC1\",\"PC2\"])"
   ]
  },
  {
   "cell_type": "code",
   "execution_count": 302,
   "id": "fb26b535",
   "metadata": {},
   "outputs": [],
   "source": [
    "new_df[\"Target\"]  =df[\"target\"].values"
   ]
  },
  {
   "cell_type": "code",
   "execution_count": 303,
   "id": "915ad35e",
   "metadata": {},
   "outputs": [
    {
     "data": {
      "application/vnd.microsoft.datawrangler.viewer.v0+json": {
       "columns": [
        {
         "name": "index",
         "rawType": "int64",
         "type": "integer"
        },
        {
         "name": "PC1",
         "rawType": "float64",
         "type": "float"
        },
        {
         "name": "PC2",
         "rawType": "float64",
         "type": "float"
        },
        {
         "name": "Target",
         "rawType": "int64",
         "type": "integer"
        }
       ],
       "ref": "48de9454-1d56-4eee-acf0-6684b829ded8",
       "rows": [
        [
         "0",
         "1.43865656979613",
         "-0.410206936465982",
         "0"
        ],
        [
         "1",
         "0.2894971545701069",
         "0.2674233569888149",
         "1"
        ],
        [
         "2",
         "1.2305057764090659",
         "1.0148495518717708",
         "0"
        ],
        [
         "3",
         "0.3076719640425098",
         "0.771355658796235",
         "0"
        ],
        [
         "4",
         "0.4927755589869571",
         "-1.8290171550196732",
         "0"
        ],
        [
         "5",
         "0.2894971545701069",
         "0.2674233569888149",
         "1"
        ],
        [
         "6",
         "0.1438767774941205",
         "0.4411095764320901",
         "0"
        ],
        [
         "7",
         "-1.031013187429132",
         "-0.9046825394333438",
         "1"
        ],
        [
         "8",
         "2.3599624128925383",
         "-0.14971260152244753",
         "0"
        ],
        [
         "9",
         "-0.7325713298116853",
         "1.1211797179104435",
         "1"
        ],
        [
         "10",
         "-0.5720754193458678",
         "-0.16470240070208766",
         "1"
        ],
        [
         "11",
         "-0.3797104908493973",
         "1.1650066119599014",
         "1"
        ],
        [
         "12",
         "0.4927755589869571",
         "-1.8290171550196732",
         "0"
        ],
        [
         "13",
         "-2.326283788744623",
         "-0.6076189859935814",
         "1"
        ],
        [
         "14",
         "-0.6087708127942297",
         "1.2014562234475048",
         "1"
        ],
        [
         "15",
         "-0.3031140639489253",
         "-1.3292354783265719",
         "0"
        ],
        [
         "16",
         "-0.3077361506917968",
         "1.281833474138861",
         "0"
        ],
        [
         "17",
         "-0.1597095369922748",
         "-1.2146669346558652",
         "0"
        ],
        [
         "18",
         "1.2305057764090659",
         "1.0148495518717708",
         "0"
        ],
        [
         "19",
         "-0.7367134269109973",
         "2.0417865275902485",
         "1"
        ],
        [
         "20",
         "1.43865656979613",
         "-0.410206936465982",
         "0"
        ],
        [
         "21",
         "0.4020998964343381",
         "-0.08132535044524415",
         "0"
        ],
        [
         "22",
         "-0.3031140639489253",
         "-1.3292354783265719",
         "0"
        ],
        [
         "23",
         "-0.7325713298116853",
         "1.1211797179104435",
         "1"
        ],
        [
         "24",
         "-1.6342357497037403",
         "0.6873810635541233",
         "1"
        ],
        [
         "25",
         "2.3599624128925383",
         "-0.14971260152244753",
         "0"
        ],
        [
         "26",
         "-0.3797104908493973",
         "1.1650066119599014",
         "1"
        ],
        [
         "27",
         "-1.6342357497037403",
         "0.6873810635541233",
         "1"
        ],
        [
         "28",
         "-1.031013187429132",
         "-0.9046825394333438",
         "1"
        ],
        [
         "29",
         "0.4020998964343381",
         "-0.08132535044524415",
         "0"
        ],
        [
         "30",
         "-0.1597095369922748",
         "-1.2146669346558652",
         "0"
        ],
        [
         "31",
         "1.43865656979613",
         "-0.410206936465982",
         "0"
        ],
        [
         "32",
         "2.328808624812669",
         "-0.07555162579267675",
         "0"
        ],
        [
         "33",
         "-0.1597095369922748",
         "-1.2146669346558652",
         "0"
        ],
        [
         "34",
         "-0.3031140639489253",
         "-1.3292354783265719",
         "0"
        ],
        [
         "35",
         "0.7172725386300137",
         "0.5170830009046337",
         "0"
        ],
        [
         "36",
         "-0.1597095369922748",
         "-1.2146669346558652",
         "0"
        ],
        [
         "37",
         "-2.2181007868528",
         "0.9595475824649963",
         "1"
        ],
        [
         "38",
         "-1.6342357497037403",
         "0.6873810635541233",
         "1"
        ],
        [
         "39",
         "0.1438767774941205",
         "0.4411095764320901",
         "0"
        ]
       ],
       "shape": {
        "columns": 3,
        "rows": 40
       }
      },
      "text/html": [
       "<div>\n",
       "<style scoped>\n",
       "    .dataframe tbody tr th:only-of-type {\n",
       "        vertical-align: middle;\n",
       "    }\n",
       "\n",
       "    .dataframe tbody tr th {\n",
       "        vertical-align: top;\n",
       "    }\n",
       "\n",
       "    .dataframe thead th {\n",
       "        text-align: right;\n",
       "    }\n",
       "</style>\n",
       "<table border=\"1\" class=\"dataframe\">\n",
       "  <thead>\n",
       "    <tr style=\"text-align: right;\">\n",
       "      <th></th>\n",
       "      <th>PC1</th>\n",
       "      <th>PC2</th>\n",
       "      <th>Target</th>\n",
       "    </tr>\n",
       "  </thead>\n",
       "  <tbody>\n",
       "    <tr>\n",
       "      <th>0</th>\n",
       "      <td>1.438657</td>\n",
       "      <td>-0.410207</td>\n",
       "      <td>0</td>\n",
       "    </tr>\n",
       "    <tr>\n",
       "      <th>1</th>\n",
       "      <td>0.289497</td>\n",
       "      <td>0.267423</td>\n",
       "      <td>1</td>\n",
       "    </tr>\n",
       "    <tr>\n",
       "      <th>2</th>\n",
       "      <td>1.230506</td>\n",
       "      <td>1.014850</td>\n",
       "      <td>0</td>\n",
       "    </tr>\n",
       "    <tr>\n",
       "      <th>3</th>\n",
       "      <td>0.307672</td>\n",
       "      <td>0.771356</td>\n",
       "      <td>0</td>\n",
       "    </tr>\n",
       "    <tr>\n",
       "      <th>4</th>\n",
       "      <td>0.492776</td>\n",
       "      <td>-1.829017</td>\n",
       "      <td>0</td>\n",
       "    </tr>\n",
       "    <tr>\n",
       "      <th>5</th>\n",
       "      <td>0.289497</td>\n",
       "      <td>0.267423</td>\n",
       "      <td>1</td>\n",
       "    </tr>\n",
       "    <tr>\n",
       "      <th>6</th>\n",
       "      <td>0.143877</td>\n",
       "      <td>0.441110</td>\n",
       "      <td>0</td>\n",
       "    </tr>\n",
       "    <tr>\n",
       "      <th>7</th>\n",
       "      <td>-1.031013</td>\n",
       "      <td>-0.904683</td>\n",
       "      <td>1</td>\n",
       "    </tr>\n",
       "    <tr>\n",
       "      <th>8</th>\n",
       "      <td>2.359962</td>\n",
       "      <td>-0.149713</td>\n",
       "      <td>0</td>\n",
       "    </tr>\n",
       "    <tr>\n",
       "      <th>9</th>\n",
       "      <td>-0.732571</td>\n",
       "      <td>1.121180</td>\n",
       "      <td>1</td>\n",
       "    </tr>\n",
       "    <tr>\n",
       "      <th>10</th>\n",
       "      <td>-0.572075</td>\n",
       "      <td>-0.164702</td>\n",
       "      <td>1</td>\n",
       "    </tr>\n",
       "    <tr>\n",
       "      <th>11</th>\n",
       "      <td>-0.379710</td>\n",
       "      <td>1.165007</td>\n",
       "      <td>1</td>\n",
       "    </tr>\n",
       "    <tr>\n",
       "      <th>12</th>\n",
       "      <td>0.492776</td>\n",
       "      <td>-1.829017</td>\n",
       "      <td>0</td>\n",
       "    </tr>\n",
       "    <tr>\n",
       "      <th>13</th>\n",
       "      <td>-2.326284</td>\n",
       "      <td>-0.607619</td>\n",
       "      <td>1</td>\n",
       "    </tr>\n",
       "    <tr>\n",
       "      <th>14</th>\n",
       "      <td>-0.608771</td>\n",
       "      <td>1.201456</td>\n",
       "      <td>1</td>\n",
       "    </tr>\n",
       "    <tr>\n",
       "      <th>15</th>\n",
       "      <td>-0.303114</td>\n",
       "      <td>-1.329235</td>\n",
       "      <td>0</td>\n",
       "    </tr>\n",
       "    <tr>\n",
       "      <th>16</th>\n",
       "      <td>-0.307736</td>\n",
       "      <td>1.281833</td>\n",
       "      <td>0</td>\n",
       "    </tr>\n",
       "    <tr>\n",
       "      <th>17</th>\n",
       "      <td>-0.159710</td>\n",
       "      <td>-1.214667</td>\n",
       "      <td>0</td>\n",
       "    </tr>\n",
       "    <tr>\n",
       "      <th>18</th>\n",
       "      <td>1.230506</td>\n",
       "      <td>1.014850</td>\n",
       "      <td>0</td>\n",
       "    </tr>\n",
       "    <tr>\n",
       "      <th>19</th>\n",
       "      <td>-0.736713</td>\n",
       "      <td>2.041787</td>\n",
       "      <td>1</td>\n",
       "    </tr>\n",
       "    <tr>\n",
       "      <th>20</th>\n",
       "      <td>1.438657</td>\n",
       "      <td>-0.410207</td>\n",
       "      <td>0</td>\n",
       "    </tr>\n",
       "    <tr>\n",
       "      <th>21</th>\n",
       "      <td>0.402100</td>\n",
       "      <td>-0.081325</td>\n",
       "      <td>0</td>\n",
       "    </tr>\n",
       "    <tr>\n",
       "      <th>22</th>\n",
       "      <td>-0.303114</td>\n",
       "      <td>-1.329235</td>\n",
       "      <td>0</td>\n",
       "    </tr>\n",
       "    <tr>\n",
       "      <th>23</th>\n",
       "      <td>-0.732571</td>\n",
       "      <td>1.121180</td>\n",
       "      <td>1</td>\n",
       "    </tr>\n",
       "    <tr>\n",
       "      <th>24</th>\n",
       "      <td>-1.634236</td>\n",
       "      <td>0.687381</td>\n",
       "      <td>1</td>\n",
       "    </tr>\n",
       "    <tr>\n",
       "      <th>25</th>\n",
       "      <td>2.359962</td>\n",
       "      <td>-0.149713</td>\n",
       "      <td>0</td>\n",
       "    </tr>\n",
       "    <tr>\n",
       "      <th>26</th>\n",
       "      <td>-0.379710</td>\n",
       "      <td>1.165007</td>\n",
       "      <td>1</td>\n",
       "    </tr>\n",
       "    <tr>\n",
       "      <th>27</th>\n",
       "      <td>-1.634236</td>\n",
       "      <td>0.687381</td>\n",
       "      <td>1</td>\n",
       "    </tr>\n",
       "    <tr>\n",
       "      <th>28</th>\n",
       "      <td>-1.031013</td>\n",
       "      <td>-0.904683</td>\n",
       "      <td>1</td>\n",
       "    </tr>\n",
       "    <tr>\n",
       "      <th>29</th>\n",
       "      <td>0.402100</td>\n",
       "      <td>-0.081325</td>\n",
       "      <td>0</td>\n",
       "    </tr>\n",
       "    <tr>\n",
       "      <th>30</th>\n",
       "      <td>-0.159710</td>\n",
       "      <td>-1.214667</td>\n",
       "      <td>0</td>\n",
       "    </tr>\n",
       "    <tr>\n",
       "      <th>31</th>\n",
       "      <td>1.438657</td>\n",
       "      <td>-0.410207</td>\n",
       "      <td>0</td>\n",
       "    </tr>\n",
       "    <tr>\n",
       "      <th>32</th>\n",
       "      <td>2.328809</td>\n",
       "      <td>-0.075552</td>\n",
       "      <td>0</td>\n",
       "    </tr>\n",
       "    <tr>\n",
       "      <th>33</th>\n",
       "      <td>-0.159710</td>\n",
       "      <td>-1.214667</td>\n",
       "      <td>0</td>\n",
       "    </tr>\n",
       "    <tr>\n",
       "      <th>34</th>\n",
       "      <td>-0.303114</td>\n",
       "      <td>-1.329235</td>\n",
       "      <td>0</td>\n",
       "    </tr>\n",
       "    <tr>\n",
       "      <th>35</th>\n",
       "      <td>0.717273</td>\n",
       "      <td>0.517083</td>\n",
       "      <td>0</td>\n",
       "    </tr>\n",
       "    <tr>\n",
       "      <th>36</th>\n",
       "      <td>-0.159710</td>\n",
       "      <td>-1.214667</td>\n",
       "      <td>0</td>\n",
       "    </tr>\n",
       "    <tr>\n",
       "      <th>37</th>\n",
       "      <td>-2.218101</td>\n",
       "      <td>0.959548</td>\n",
       "      <td>1</td>\n",
       "    </tr>\n",
       "    <tr>\n",
       "      <th>38</th>\n",
       "      <td>-1.634236</td>\n",
       "      <td>0.687381</td>\n",
       "      <td>1</td>\n",
       "    </tr>\n",
       "    <tr>\n",
       "      <th>39</th>\n",
       "      <td>0.143877</td>\n",
       "      <td>0.441110</td>\n",
       "      <td>0</td>\n",
       "    </tr>\n",
       "  </tbody>\n",
       "</table>\n",
       "</div>"
      ],
      "text/plain": [
       "         PC1       PC2  Target\n",
       "0   1.438657 -0.410207       0\n",
       "1   0.289497  0.267423       1\n",
       "2   1.230506  1.014850       0\n",
       "3   0.307672  0.771356       0\n",
       "4   0.492776 -1.829017       0\n",
       "5   0.289497  0.267423       1\n",
       "6   0.143877  0.441110       0\n",
       "7  -1.031013 -0.904683       1\n",
       "8   2.359962 -0.149713       0\n",
       "9  -0.732571  1.121180       1\n",
       "10 -0.572075 -0.164702       1\n",
       "11 -0.379710  1.165007       1\n",
       "12  0.492776 -1.829017       0\n",
       "13 -2.326284 -0.607619       1\n",
       "14 -0.608771  1.201456       1\n",
       "15 -0.303114 -1.329235       0\n",
       "16 -0.307736  1.281833       0\n",
       "17 -0.159710 -1.214667       0\n",
       "18  1.230506  1.014850       0\n",
       "19 -0.736713  2.041787       1\n",
       "20  1.438657 -0.410207       0\n",
       "21  0.402100 -0.081325       0\n",
       "22 -0.303114 -1.329235       0\n",
       "23 -0.732571  1.121180       1\n",
       "24 -1.634236  0.687381       1\n",
       "25  2.359962 -0.149713       0\n",
       "26 -0.379710  1.165007       1\n",
       "27 -1.634236  0.687381       1\n",
       "28 -1.031013 -0.904683       1\n",
       "29  0.402100 -0.081325       0\n",
       "30 -0.159710 -1.214667       0\n",
       "31  1.438657 -0.410207       0\n",
       "32  2.328809 -0.075552       0\n",
       "33 -0.159710 -1.214667       0\n",
       "34 -0.303114 -1.329235       0\n",
       "35  0.717273  0.517083       0\n",
       "36 -0.159710 -1.214667       0\n",
       "37 -2.218101  0.959548       1\n",
       "38 -1.634236  0.687381       1\n",
       "39  0.143877  0.441110       0"
      ]
     },
     "execution_count": 303,
     "metadata": {},
     "output_type": "execute_result"
    }
   ],
   "source": [
    "new_df"
   ]
  },
  {
   "cell_type": "code",
   "execution_count": 306,
   "id": "527b9a5d",
   "metadata": {},
   "outputs": [
    {
     "data": {
      "text/plain": [
       "<Axes: xlabel='PC1', ylabel='PC2'>"
      ]
     },
     "execution_count": 306,
     "metadata": {},
     "output_type": "execute_result"
    },
    {
     "data": {
      "image/png": "[encoded data removed]",
      "text/plain": [
       "<Figure size 640x480 with 1 Axes>"
      ]
     },
     "metadata": {},
     "output_type": "display_data"
    }
   ],
   "source": [
    "sns.scatterplot(x= new_df[\"PC1\"],y=new_df[\"PC2\"],hue=new_df[\"Target\"])"
   ]
  },
  {
   "cell_type": "code",
   "execution_count": null,
   "id": "282d4a25",
   "metadata": {},
   "outputs": [],
   "source": []
  }
 ],
 "metadata": {
  "kernelspec": {
   "display_name": "git_venv",
   "language": "python",
   "name": "python3"
  },
  "language_info": {
   "codemirror_mode": {
    "name": "ipython",
    "version": 3
   },
   "file_extension": ".py",
   "mimetype": "text/x-python",
   "name": "python",
   "nbconvert_exporter": "python",
   "pygments_lexer": "ipython3",
   "version": "3.13.1"
  }
 },
 "nbformat": 4,
 "nbformat_minor": 5
}
